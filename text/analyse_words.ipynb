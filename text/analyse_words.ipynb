{
 "cells": [
  {
   "cell_type": "code",
   "execution_count": 7,
   "id": "raised-plaintiff",
   "metadata": {},
   "outputs": [],
   "source": [
    "# SOURCE::https://www.datacamp.com/community/tutorials/text-analytics-beginners-nltk"
   ]
  },
  {
   "cell_type": "code",
   "execution_count": 8,
   "id": "cellular-journalist",
   "metadata": {},
   "outputs": [],
   "source": [
    "import os,sys"
   ]
  },
  {
   "cell_type": "code",
   "execution_count": 9,
   "id": "extra-bailey",
   "metadata": {},
   "outputs": [
    {
     "data": {
      "text/plain": [
       "'/Users/miguelportela/Documents/GitHub/PythonCourse/text'"
      ]
     },
     "execution_count": 9,
     "metadata": {},
     "output_type": "execute_result"
    }
   ],
   "source": [
    "os.chdir(\"/Users/miguelportela/Documents/GitHub/PythonCourse/text\")\n",
    "os.getcwd()"
   ]
  },
  {
   "cell_type": "markdown",
   "id": "boolean-overall",
   "metadata": {},
   "source": [
    "# Text Analysis Operations using NLTK"
   ]
  },
  {
   "cell_type": "code",
   "execution_count": 10,
   "id": "desperate-bleeding",
   "metadata": {},
   "outputs": [],
   "source": [
    "#!pip install nltk"
   ]
  },
  {
   "cell_type": "code",
   "execution_count": 30,
   "id": "corrected-chinese",
   "metadata": {},
   "outputs": [
    {
     "name": "stdout",
     "output_type": "stream",
     "text": [
      "Collecting ocrmypdf\n",
      "  Downloading ocrmypdf-11.7.3-py36-none-any.whl (130 kB)\n",
      "\u001b[K     |████████████████████████████████| 130 kB 5.1 MB/s eta 0:00:01\n",
      "\u001b[?25hRequirement already satisfied: pluggy<1.0,>=0.13.0 in /Users/miguelportela/opt/anaconda3/lib/python3.8/site-packages (from ocrmypdf) (0.13.1)\n",
      "Collecting pikepdf<3,>=1.14.0\n",
      "  Downloading pikepdf-2.11.0-cp38-cp38-macosx_10_9_x86_64.whl (1.1 MB)\n",
      "\u001b[K     |████████████████████████████████| 1.1 MB 6.8 MB/s eta 0:00:01\n",
      "\u001b[?25hCollecting coloredlogs>=14.0\n",
      "  Downloading coloredlogs-15.0-py2.py3-none-any.whl (45 kB)\n",
      "\u001b[K     |████████████████████████████████| 45 kB 8.2 MB/s  eta 0:00:01\n",
      "\u001b[?25hCollecting reportlab>=3.3.0\n",
      "  Downloading reportlab-3.5.66-cp38-cp38-macosx_10_10_x86_64.whl (2.5 MB)\n",
      "\u001b[K     |████████████████████████████████| 2.5 MB 8.9 MB/s eta 0:00:01\n",
      "\u001b[?25hRequirement already satisfied: tqdm>=4 in /Users/miguelportela/opt/anaconda3/lib/python3.8/site-packages (from ocrmypdf) (4.56.0)\n",
      "Collecting img2pdf<0.5,>=0.3.0\n",
      "  Downloading img2pdf-0.4.0.tar.gz (107 kB)\n",
      "\u001b[K     |████████████████████████████████| 107 kB 13.8 MB/s eta 0:00:01\n",
      "\u001b[?25hCollecting pdfminer.six!=20200720,<=20201018,>=20191110\n",
      "  Downloading pdfminer.six-20201018-py3-none-any.whl (5.6 MB)\n",
      "\u001b[K     |████████████████████████████████| 5.6 MB 8.3 MB/s eta 0:00:01     |███████▊                        | 1.3 MB 8.3 MB/s eta 0:00:01\n",
      "\u001b[?25hRequirement already satisfied: cffi>=1.9.1 in /Users/miguelportela/opt/anaconda3/lib/python3.8/site-packages (from ocrmypdf) (1.14.5)\n",
      "Requirement already satisfied: Pillow>=7.0.0 in /Users/miguelportela/opt/anaconda3/lib/python3.8/site-packages (from ocrmypdf) (8.1.0)\n",
      "Requirement already satisfied: pycparser in /Users/miguelportela/opt/anaconda3/lib/python3.8/site-packages (from cffi>=1.9.1->ocrmypdf) (2.20)\n",
      "Collecting humanfriendly>=9.1\n",
      "  Downloading humanfriendly-9.1-py2.py3-none-any.whl (86 kB)\n",
      "\u001b[K     |████████████████████████████████| 86 kB 5.8 MB/s  eta 0:00:01\n",
      "\u001b[?25hRequirement already satisfied: cryptography in /Users/miguelportela/opt/anaconda3/lib/python3.8/site-packages (from pdfminer.six!=20200720,<=20201018,>=20191110->ocrmypdf) (3.3.1)\n",
      "Requirement already satisfied: sortedcontainers in /Users/miguelportela/opt/anaconda3/lib/python3.8/site-packages (from pdfminer.six!=20200720,<=20201018,>=20191110->ocrmypdf) (2.3.0)\n",
      "Requirement already satisfied: chardet in /Users/miguelportela/opt/anaconda3/lib/python3.8/site-packages (from pdfminer.six!=20200720,<=20201018,>=20191110->ocrmypdf) (3.0.4)\n",
      "Requirement already satisfied: lxml>=4.0 in /Users/miguelportela/opt/anaconda3/lib/python3.8/site-packages (from pikepdf<3,>=1.14.0->ocrmypdf) (4.6.2)\n",
      "Requirement already satisfied: six>=1.4.1 in /Users/miguelportela/opt/anaconda3/lib/python3.8/site-packages (from cryptography->pdfminer.six!=20200720,<=20201018,>=20191110->ocrmypdf) (1.15.0)\n",
      "Building wheels for collected packages: img2pdf\n",
      "  Building wheel for img2pdf (setup.py) ... \u001b[?25ldone\n",
      "\u001b[?25h  Created wheel for img2pdf: filename=img2pdf-0.4.0-py3-none-any.whl size=40500 sha256=2ab0fe78766e7725aeac9dd03b0c35f0fc1eda76084bd81b0df8bafc874f06db\n",
      "  Stored in directory: /Users/miguelportela/Library/Caches/pip/wheels/f4/1e/f8/2c3c9bc7be99a752d40f8a09b5e7c7d02b1196db55b3eddd35\n",
      "Successfully built img2pdf\n",
      "Installing collected packages: pikepdf, humanfriendly, reportlab, pdfminer.six, img2pdf, coloredlogs, ocrmypdf\n",
      "Successfully installed coloredlogs-15.0 humanfriendly-9.1 img2pdf-0.4.0 ocrmypdf-11.7.3 pdfminer.six-20201018 pikepdf-2.11.0 reportlab-3.5.66\n"
     ]
    }
   ],
   "source": [
    "!pip install ocrmypdf"
   ]
  },
  {
   "cell_type": "code",
   "execution_count": 11,
   "id": "perceived-monthly",
   "metadata": {},
   "outputs": [],
   "source": [
    "import nltk"
   ]
  },
  {
   "cell_type": "markdown",
   "id": "demonstrated-spiritual",
   "metadata": {},
   "source": [
    "# Tokenization"
   ]
  },
  {
   "cell_type": "markdown",
   "id": "artificial-wildlife",
   "metadata": {},
   "source": [
    "## Sentence Tokenization"
   ]
  },
  {
   "cell_type": "code",
   "execution_count": 112,
   "id": "plastic-sister",
   "metadata": {},
   "outputs": [
    {
     "name": "stdout",
     "output_type": "stream",
     "text": [
      "['Titulares de Cargos Políticos),  com referência aos art.º 28.° e 202.°,  alínea b) do Código Penal']\n"
     ]
    }
   ],
   "source": [
    "from nltk.tokenize import sent_tokenize\n",
    "text=\"\"\"Titulares de Cargos Políticos),  com referência aos art.º 28.° e 202.°,  alínea b) do Código Penal\"\"\"\n",
    "tokenized_text=sent_tokenize(text)\n",
    "print(tokenized_text)"
   ]
  },
  {
   "cell_type": "markdown",
   "id": "auburn-slave",
   "metadata": {},
   "source": [
    "## Word Tokenization"
   ]
  },
  {
   "cell_type": "code",
   "execution_count": 113,
   "id": "visible-governor",
   "metadata": {},
   "outputs": [
    {
     "name": "stdout",
     "output_type": "stream",
     "text": [
      "['Titulares', 'de', 'Cargos', 'Políticos', ')', ',', 'com', 'referência', 'aos', 'art.º', '28.°', 'e', '202.°', ',', 'alínea', 'b', ')', 'do', 'Código', 'Penal']\n"
     ]
    }
   ],
   "source": [
    "from nltk.tokenize import word_tokenize\n",
    "tokenized_word=word_tokenize(text)\n",
    "print(tokenized_word)"
   ]
  },
  {
   "cell_type": "markdown",
   "id": "forty-incident",
   "metadata": {},
   "source": [
    "## Frequency Distribution"
   ]
  },
  {
   "cell_type": "code",
   "execution_count": 114,
   "id": "latter-forge",
   "metadata": {},
   "outputs": [
    {
     "name": "stdout",
     "output_type": "stream",
     "text": [
      "<FreqDist with 18 samples and 20 outcomes>\n"
     ]
    }
   ],
   "source": [
    "from nltk.probability import FreqDist\n",
    "fdist = FreqDist(tokenized_word)\n",
    "print(fdist)"
   ]
  },
  {
   "cell_type": "code",
   "execution_count": 115,
   "id": "christian-ratio",
   "metadata": {},
   "outputs": [
    {
     "data": {
      "text/plain": [
       "[(')', 2), (',', 2)]"
      ]
     },
     "execution_count": 115,
     "metadata": {},
     "output_type": "execute_result"
    }
   ],
   "source": [
    "fdist.most_common(2)"
   ]
  },
  {
   "cell_type": "code",
   "execution_count": 116,
   "id": "final-occurrence",
   "metadata": {},
   "outputs": [
    {
     "data": {
      "image/png": "[encoded data removed]",
      "text/plain": [
       "<Figure size 432x288 with 1 Axes>"
      ]
     },
     "metadata": {
      "needs_background": "light"
     },
     "output_type": "display_data"
    }
   ],
   "source": [
    "# Frequency Distribution Plot\n",
    "import matplotlib.pyplot as plt\n",
    "fdist.plot(30,cumulative=False)\n",
    "plt.show()"
   ]
  },
  {
   "cell_type": "markdown",
   "id": "modular-grace",
   "metadata": {},
   "source": [
    "## Stopwords"
   ]
  },
  {
   "cell_type": "code",
   "execution_count": 118,
   "id": "auburn-spread",
   "metadata": {},
   "outputs": [
    {
     "name": "stdout",
     "output_type": "stream",
     "text": [
      "{'tua', 'como', 'aquela', 'tive', 'em', 'pelos', 'meu', 'sejam', 'numa', 'nas', 'fossem', 'seriam', 'com', 'teria', 'por', 'tu', 'minhas', 'de', 'seria', 'não', 'houvermos', 'eu', 'estamos', 'num', 'formos', 'houverem', 'serei', 'teve', 'teríamos', 'fôramos', 'sejamos', 'estiverem', 'há', 'estava', 'tivesse', 'ela', 'isto', 'houverá', 'nós', 'tinha', 'deles', 'pelas', 'terá', 'no', 'fora', 'às', 'estivera', 'são', 'seremos', 'fosse', 'do', 'somos', 'houverão', 'houveram', 'estive', 'será', 'éramos', 'tivessem', 'hei', 'tiveram', 'aquelas', 'lhe', 'uma', 'estavam', 'quem', 'suas', 'sua', 'teriam', 'nossa', 'seus', 'nossas', 'esteja', 'estivéramos', 'era', 'ou', 'este', 'na', 'te', 'fôssemos', 'estivermos', 'quando', 'e', 'eles', 'tuas', 'esses', 'estejam', 'ele', 'elas', 'esta', 'à', 'tenham', 'qual', 'tém', 'que', 'tenha', 'esse', 'mesmo', 'estejamos', 'até', 'teus', 'esteve', 'estas', 'a', 'seja', 'houveremos', 'houveria', 'estivéssemos', 'só', 'mais', 'estiveram', 'os', 'teremos', 'da', 'você', 'dela', 'tivemos', 'tivéramos', 'essas', 'lhes', 'tem', 'estivesse', 'tínhamos', 'se', 'sem', 'aos', 'houvéramos', 'houve', 'dele', 'nossos', 'delas', 'houvesse', 'tiverem', 'é', 'tenhamos', 'meus', 'mas', 'sou', 'seu', 'eram', 'aquele', 'dos', 'houvéssemos', 'me', 'terei', 'tivermos', 'vos', 'está', 'tenho', 'minha', 'forem', 'houverei', 'foram', 'houveriam', 'houvessem', 'já', 'teu', 'nosso', 'houver', 'pelo', 'essa', 'haja', 'tiver', 'aquilo', 'aqueles', 'estão', 'estivessem', 'tivéssemos', 'houvera', 'houveríamos', 'um', 'também', 'hajamos', 'foi', 'tinham', 'havemos', 'nos', 'estávamos', 'seríamos', 'das', 'estes', 'para', 'houvemos', 'as', 'hajam', 'isso', 'vocês', 'ao', 'estou', 'nem', 'for', 'estivemos', 'fomos', 'o', 'depois', 'temos', 'fui', 'pela', 'tivera', 'estiver', 'serão', 'hão', 'terão', 'muito', 'entre'}\n"
     ]
    }
   ],
   "source": [
    "from nltk.corpus import stopwords\n",
    "stop_words=set(stopwords.words(\"english\"))\n",
    "print(stop_words)"
   ]
  },
  {
   "cell_type": "markdown",
   "id": "acting-boxing",
   "metadata": {},
   "source": [
    "## Removing Stopwords"
   ]
  },
  {
   "cell_type": "code",
   "execution_count": 17,
   "id": "virtual-perspective",
   "metadata": {},
   "outputs": [
    {
     "name": "stdout",
     "output_type": "stream",
     "text": [
      "Tokenized Sentence: ['Hello', 'Mr.', 'Smith', ',', 'how', 'are', 'you', 'doing', 'today', '?', 'The', 'weather', 'is', 'great', ',', 'and', 'city', 'is', 'awesome', '.', 'The', 'sky', 'is', 'pinkish-blue', '.', 'You', 'should', \"n't\", 'eat', 'cardboard']\n",
      "Filterd Sentence: ['Hello', 'Mr.', 'Smith', ',', 'today', '?', 'The', 'weather', 'great', ',', 'city', 'awesome', '.', 'The', 'sky', 'pinkish-blue', '.', 'You', \"n't\", 'eat', 'cardboard']\n"
     ]
    }
   ],
   "source": [
    "tokenized_sent = tokenized_word\n",
    "filtered_sent=[]\n",
    "for w in tokenized_sent:\n",
    "    if w not in stop_words:\n",
    "        filtered_sent.append(w)\n",
    "print(\"Tokenized Sentence:\",tokenized_sent)\n",
    "print(\"Filterd Sentence:\",filtered_sent)"
   ]
  },
  {
   "cell_type": "markdown",
   "id": "binding-makeup",
   "metadata": {},
   "source": [
    "# Lexicon Normalization"
   ]
  },
  {
   "cell_type": "markdown",
   "id": "related-challenge",
   "metadata": {},
   "source": [
    "## Stemming"
   ]
  },
  {
   "cell_type": "code",
   "execution_count": 18,
   "id": "handed-chassis",
   "metadata": {},
   "outputs": [
    {
     "name": "stdout",
     "output_type": "stream",
     "text": [
      "Filtered Sentence: ['Hello', 'Mr.', 'Smith', ',', 'today', '?', 'The', 'weather', 'great', ',', 'city', 'awesome', '.', 'The', 'sky', 'pinkish-blue', '.', 'You', \"n't\", 'eat', 'cardboard']\n",
      "Stemmed Sentence: ['hello', 'mr.', 'smith', ',', 'today', '?', 'the', 'weather', 'great', ',', 'citi', 'awesom', '.', 'the', 'sky', 'pinkish-blu', '.', 'you', \"n't\", 'eat', 'cardboard']\n"
     ]
    }
   ],
   "source": [
    "# Stemming\n",
    "from nltk.stem import PorterStemmer\n",
    "from nltk.tokenize import sent_tokenize, word_tokenize\n",
    "\n",
    "ps = PorterStemmer()\n",
    "\n",
    "stemmed_words=[]\n",
    "for w in filtered_sent:\n",
    "    stemmed_words.append(ps.stem(w))\n",
    "\n",
    "print(\"Filtered Sentence:\",filtered_sent)\n",
    "print(\"Stemmed Sentence:\",stemmed_words)"
   ]
  },
  {
   "cell_type": "markdown",
   "id": "numerical-mobile",
   "metadata": {},
   "source": [
    "## Lemmatization"
   ]
  },
  {
   "cell_type": "code",
   "execution_count": 19,
   "id": "middle-museum",
   "metadata": {},
   "outputs": [
    {
     "name": "stdout",
     "output_type": "stream",
     "text": [
      "Lemmatized Word: fly\n",
      "Stemmed Word: fli\n"
     ]
    }
   ],
   "source": [
    "#Lexicon Normalization\n",
    "#performing stemming and Lemmatization\n",
    "\n",
    "from nltk.stem.wordnet import WordNetLemmatizer\n",
    "lem = WordNetLemmatizer()\n",
    "\n",
    "from nltk.stem.porter import PorterStemmer\n",
    "stem = PorterStemmer()\n",
    "\n",
    "word = \"flying\"\n",
    "print(\"Lemmatized Word:\",lem.lemmatize(word,\"v\"))\n",
    "print(\"Stemmed Word:\",stem.stem(word))"
   ]
  },
  {
   "cell_type": "markdown",
   "id": "unsigned-diagram",
   "metadata": {},
   "source": [
    "## POS Tagging"
   ]
  },
  {
   "cell_type": "code",
   "execution_count": 20,
   "id": "exact-edwards",
   "metadata": {},
   "outputs": [],
   "source": [
    "sent = \"Albert Einstein was born in Ulm, Germany in 1879.\""
   ]
  },
  {
   "cell_type": "code",
   "execution_count": 21,
   "id": "european-attachment",
   "metadata": {},
   "outputs": [
    {
     "name": "stdout",
     "output_type": "stream",
     "text": [
      "['Albert', 'Einstein', 'was', 'born', 'in', 'Ulm', ',', 'Germany', 'in', '1879', '.']\n"
     ]
    }
   ],
   "source": [
    "tokens=nltk.word_tokenize(sent)\n",
    "print(tokens)"
   ]
  },
  {
   "cell_type": "code",
   "execution_count": 22,
   "id": "configured-symbol",
   "metadata": {},
   "outputs": [
    {
     "data": {
      "text/plain": [
       "[('Albert', 'NNP'),\n",
       " ('Einstein', 'NNP'),\n",
       " ('was', 'VBD'),\n",
       " ('born', 'VBN'),\n",
       " ('in', 'IN'),\n",
       " ('Ulm', 'NNP'),\n",
       " (',', ','),\n",
       " ('Germany', 'NNP'),\n",
       " ('in', 'IN'),\n",
       " ('1879', 'CD'),\n",
       " ('.', '.')]"
      ]
     },
     "execution_count": 22,
     "metadata": {},
     "output_type": "execute_result"
    }
   ],
   "source": [
    "nltk.pos_tag(tokens)"
   ]
  },
  {
   "cell_type": "markdown",
   "id": "tropical-pixel",
   "metadata": {},
   "source": [
    "# Sentiment Analysis"
   ]
  },
  {
   "cell_type": "markdown",
   "id": "taken-malaysia",
   "metadata": {},
   "source": [
    "# Performing Sentiment Analysis using Text Classification"
   ]
  },
  {
   "cell_type": "code",
   "execution_count": 35,
   "id": "freelance-visitor",
   "metadata": {},
   "outputs": [],
   "source": [
    "import pandas as pd"
   ]
  },
  {
   "cell_type": "code",
   "execution_count": 36,
   "id": "broad-consistency",
   "metadata": {},
   "outputs": [],
   "source": [
    "data=pd.read_csv('train.tsv', sep='\\t')"
   ]
  },
  {
   "cell_type": "code",
   "execution_count": 37,
   "id": "rough-brake",
   "metadata": {},
   "outputs": [
    {
     "data": {
      "text/html": [
       "<div>\n",
       "<style scoped>\n",
       "    .dataframe tbody tr th:only-of-type {\n",
       "        vertical-align: middle;\n",
       "    }\n",
       "\n",
       "    .dataframe tbody tr th {\n",
       "        vertical-align: top;\n",
       "    }\n",
       "\n",
       "    .dataframe thead th {\n",
       "        text-align: right;\n",
       "    }\n",
       "</style>\n",
       "<table border=\"1\" class=\"dataframe\">\n",
       "  <thead>\n",
       "    <tr style=\"text-align: right;\">\n",
       "      <th></th>\n",
       "      <th>PhraseId</th>\n",
       "      <th>SentenceId</th>\n",
       "      <th>Phrase</th>\n",
       "      <th>Sentiment</th>\n",
       "    </tr>\n",
       "  </thead>\n",
       "  <tbody>\n",
       "    <tr>\n",
       "      <th>0</th>\n",
       "      <td>1</td>\n",
       "      <td>1</td>\n",
       "      <td>A series of escapades demonstrating the adage ...</td>\n",
       "      <td>1</td>\n",
       "    </tr>\n",
       "    <tr>\n",
       "      <th>1</th>\n",
       "      <td>2</td>\n",
       "      <td>1</td>\n",
       "      <td>A series of escapades demonstrating the adage ...</td>\n",
       "      <td>2</td>\n",
       "    </tr>\n",
       "    <tr>\n",
       "      <th>2</th>\n",
       "      <td>3</td>\n",
       "      <td>1</td>\n",
       "      <td>A series</td>\n",
       "      <td>2</td>\n",
       "    </tr>\n",
       "    <tr>\n",
       "      <th>3</th>\n",
       "      <td>4</td>\n",
       "      <td>1</td>\n",
       "      <td>A</td>\n",
       "      <td>2</td>\n",
       "    </tr>\n",
       "    <tr>\n",
       "      <th>4</th>\n",
       "      <td>5</td>\n",
       "      <td>1</td>\n",
       "      <td>series</td>\n",
       "      <td>2</td>\n",
       "    </tr>\n",
       "  </tbody>\n",
       "</table>\n",
       "</div>"
      ],
      "text/plain": [
       "   PhraseId  SentenceId                                             Phrase  \\\n",
       "0         1           1  A series of escapades demonstrating the adage ...   \n",
       "1         2           1  A series of escapades demonstrating the adage ...   \n",
       "2         3           1                                           A series   \n",
       "3         4           1                                                  A   \n",
       "4         5           1                                             series   \n",
       "\n",
       "   Sentiment  \n",
       "0          1  \n",
       "1          2  \n",
       "2          2  \n",
       "3          2  \n",
       "4          2  "
      ]
     },
     "execution_count": 37,
     "metadata": {},
     "output_type": "execute_result"
    }
   ],
   "source": [
    "data.head()"
   ]
  },
  {
   "cell_type": "code",
   "execution_count": 38,
   "id": "hungarian-moral",
   "metadata": {},
   "outputs": [
    {
     "name": "stdout",
     "output_type": "stream",
     "text": [
      "<class 'pandas.core.frame.DataFrame'>\n",
      "RangeIndex: 156060 entries, 0 to 156059\n",
      "Data columns (total 4 columns):\n",
      " #   Column      Non-Null Count   Dtype \n",
      "---  ------      --------------   ----- \n",
      " 0   PhraseId    156060 non-null  int64 \n",
      " 1   SentenceId  156060 non-null  int64 \n",
      " 2   Phrase      156060 non-null  object\n",
      " 3   Sentiment   156060 non-null  int64 \n",
      "dtypes: int64(3), object(1)\n",
      "memory usage: 4.8+ MB\n"
     ]
    }
   ],
   "source": [
    "data.info()"
   ]
  },
  {
   "cell_type": "code",
   "execution_count": 39,
   "id": "finnish-ebony",
   "metadata": {},
   "outputs": [
    {
     "data": {
      "text/plain": [
       "2    79582\n",
       "3    32927\n",
       "1    27273\n",
       "4     9206\n",
       "0     7072\n",
       "Name: Sentiment, dtype: int64"
      ]
     },
     "execution_count": 39,
     "metadata": {},
     "output_type": "execute_result"
    }
   ],
   "source": [
    "data.Sentiment.value_counts()"
   ]
  },
  {
   "cell_type": "code",
   "execution_count": 23,
   "id": "north-personality",
   "metadata": {},
   "outputs": [
    {
     "data": {
      "image/png": "[encoded data removed]",
      "text/plain": [
       "<Figure size 432x288 with 1 Axes>"
      ]
     },
     "metadata": {
      "needs_background": "light"
     },
     "output_type": "display_data"
    }
   ],
   "source": [
    "Sentiment_count=data.groupby('Sentiment').count()\n",
    "plt.bar(Sentiment_count.index.values, Sentiment_count['Phrase'])\n",
    "plt.xlabel('Review Sentiments')\n",
    "plt.ylabel('Number of Review')\n",
    "plt.show()"
   ]
  },
  {
   "cell_type": "markdown",
   "id": "preceding-matthew",
   "metadata": {},
   "source": [
    "## Feature Generation using Bag of Words"
   ]
  },
  {
   "cell_type": "code",
   "execution_count": 24,
   "id": "following-aruba",
   "metadata": {},
   "outputs": [],
   "source": [
    "from sklearn.feature_extraction.text import CountVectorizer\n",
    "from nltk.tokenize import RegexpTokenizer\n",
    "#tokenizer to remove unwanted elements from out data like symbols and numbers\n",
    "token = RegexpTokenizer(r'[a-zA-Z0-9]+')\n",
    "cv = CountVectorizer(lowercase=True,stop_words='english',ngram_range = (1,1),tokenizer = token.tokenize)\n",
    "text_counts= cv.fit_transform(data['Phrase'])"
   ]
  },
  {
   "cell_type": "markdown",
   "id": "periodic-richardson",
   "metadata": {},
   "source": [
    "## Split train and test set"
   ]
  },
  {
   "cell_type": "code",
   "execution_count": 25,
   "id": "better-chess",
   "metadata": {},
   "outputs": [],
   "source": [
    "from sklearn.model_selection import train_test_split\n",
    "X_train, X_test, y_train, y_test = train_test_split(\n",
    "    text_counts, data['Sentiment'], test_size=0.3, random_state=1)"
   ]
  },
  {
   "cell_type": "code",
   "execution_count": 26,
   "id": "serious-niger",
   "metadata": {},
   "outputs": [
    {
     "name": "stdout",
     "output_type": "stream",
     "text": [
      "MultinomialNB Accuracy: 0.6049169122986885\n"
     ]
    }
   ],
   "source": [
    "from sklearn.naive_bayes import MultinomialNB\n",
    "#Import scikit-learn metrics module for accuracy calculation\n",
    "from sklearn import metrics\n",
    "# Model Generation Using Multinomial Naive Bayes\n",
    "clf = MultinomialNB().fit(X_train, y_train)\n",
    "predicted= clf.predict(X_test)\n",
    "print(\"MultinomialNB Accuracy:\",metrics.accuracy_score(y_test, predicted))\n"
   ]
  },
  {
   "cell_type": "code",
   "execution_count": 27,
   "id": "piano-certification",
   "metadata": {},
   "outputs": [],
   "source": [
    "from sklearn.feature_extraction.text import TfidfVectorizer\n",
    "tf=TfidfVectorizer()\n",
    "text_tf= tf.fit_transform(data['Phrase'])"
   ]
  },
  {
   "cell_type": "code",
   "execution_count": 28,
   "id": "female-permission",
   "metadata": {},
   "outputs": [],
   "source": [
    "from sklearn.model_selection import train_test_split\n",
    "X_train, X_test, y_train, y_test = train_test_split(\n",
    "    text_tf, data['Sentiment'], test_size=0.3, random_state=123)\n",
    "\n"
   ]
  },
  {
   "cell_type": "code",
   "execution_count": 29,
   "id": "bronze-fashion",
   "metadata": {},
   "outputs": [
    {
     "name": "stdout",
     "output_type": "stream",
     "text": [
      "MultinomialNB Accuracy: 0.5865265496176684\n"
     ]
    }
   ],
   "source": [
    "from sklearn.naive_bayes import MultinomialNB\n",
    "from sklearn import metrics\n",
    "# Model Generation Using Multinomial Naive Bayes\n",
    "clf = MultinomialNB().fit(X_train, y_train)\n",
    "predicted= clf.predict(X_test)\n",
    "print(\"MultinomialNB Accuracy:\",metrics.accuracy_score(y_test, predicted))"
   ]
  },
  {
   "cell_type": "markdown",
   "id": "billion-spread",
   "metadata": {},
   "source": [
    "# OCRmyPDF"
   ]
  },
  {
   "cell_type": "code",
   "execution_count": 31,
   "id": "swiss-incident",
   "metadata": {},
   "outputs": [
    {
     "name": "stdout",
     "output_type": "stream",
     "text": [
      "Collecting pdftotext\n",
      "  Downloading pdftotext-2.1.5.tar.gz (98 kB)\n",
      "\u001b[K     |████████████████████████████████| 98 kB 3.9 MB/s eta 0:00:011\n",
      "\u001b[?25hBuilding wheels for collected packages: pdftotext\n",
      "  Building wheel for pdftotext (setup.py) ... \u001b[?25ldone\n",
      "\u001b[?25h  Created wheel for pdftotext: filename=pdftotext-2.1.5-cp38-cp38-macosx_10_9_x86_64.whl size=7358 sha256=27e1b4e34414826d25b5e84aca29e627106cd3910bfca8487559a4c55241fa32\n",
      "  Stored in directory: /Users/miguelportela/Library/Caches/pip/wheels/0d/f5/f6/859728a892ce9af052fe2adb60eaebf39a9627e425306f16c8\n",
      "Successfully built pdftotext\n",
      "Installing collected packages: pdftotext\n",
      "Successfully installed pdftotext-2.1.5\n"
     ]
    }
   ],
   "source": [
    "!pip install pdftotext"
   ]
  },
  {
   "cell_type": "code",
   "execution_count": 4,
   "id": "veterinary-shanghai",
   "metadata": {},
   "outputs": [],
   "source": [
    "import pdftotext\n",
    "import pandas as pd"
   ]
  },
  {
   "cell_type": "code",
   "execution_count": 3,
   "id": "democratic-scenario",
   "metadata": {
    "collapsed": true,
    "jupyter": {
     "outputs_hidden": true
    }
   },
   "outputs": [
    {
     "name": "stdout",
     "output_type": "stream",
     "text": [
      "6728\n",
      "                                   S.       R.\n",
      "          TRIBUNAL CENTRAL DE INSTRUÇÃO CRIMINAL\n",
      "\n",
      "\n",
      "\n",
      "\n",
      "NUIPC: 122/13.8TELSB\n",
      "\n",
      "\n",
      "\n",
      "\n",
      "                    DECISÃO INSTRUTÓRIA\n",
      "\n",
      "\n",
      "\n",
      "\n",
      "     CAPÍTULO I\n",
      "\n",
      "\n",
      "     I – RELATÓRIO\n",
      "\n",
      "\n",
      "     1.1 - A Acusação\n",
      "\n",
      "\n",
      "     Foi imputado em sede de acusação aos arguidos:\n",
      "\n",
      "\n",
      "      JOSÉ SÓCRATES CARVALHO PINTO DE SOUSA\n",
      "\n",
      "\n",
      "      - Um Crime de Corrupção Passiva de Titular de Cargo Político, em\n",
      "co-autoria com o arguido Carlos Santos Silva, com referência a actos\n",
      "praticados no interesse do Grupo LENA entre 2005 e 2011, crime p. e p. pelas\n",
      "disposições conjugadas dos art.º 1.°, 2.°, 3.°, n.º 1, alínea d), 17.°, n.º 1 e 19.°,\n",
      "n.ºs 2 e 3 da Lei n.º 34/87, de 16 de Julho, na redacção introduzida pela Lei n.º\n",
      "108/2001, de 28 de Novembro (Lei dos Crimes de Responsabilidade dos\n",
      "                                                                                   1\n",
      "\f",
      "\n",
      "                                   S.       R.\n",
      "          TRIBUNAL CENTRAL DE INSTRUÇÃO CRIMINAL\n",
      "\n",
      "\n",
      "Titulares de Cargos Políticos), com referência aos art.º 28.° e 202.°, alínea b)\n",
      "do Código Penal;\n",
      "      - Um Crime de Corrupção Passiva de Titular de Cargo Político,\n",
      "com referência a actos praticados no interesse do arguido Ricardo Salgado,\n",
      "relativamente a negócios do Grupo PORTUGAL TELECOM e GES, crime p.\n",
      "e p. pelas disposições conjugadas dos art.º lº, 2.°, 3.°, n.º 1, alínea d), 17.°, n.º\n",
      "1 e 19.°, n.ºs 2 e 3 da Lei n.º 34/87, de 16 de Julho, na redacção introduzida\n",
      "pela Lei n° 108/2001, de 28 de Novembro(Lei dos Crimes de\n",
      "Responsabilidade dos Titulares de Cargos Políticos), com referência aos art.º\n",
      "28.° e 202.°, alínea b) do Código Penal;\n",
      "      - Um Crime de Corrupção Passiva de Titular de Cargo Político, em\n",
      "co-autoria com o arguido Armando Vara, com referencia a atos praticados no\n",
      "interesse dos arguidos Diogo Gaspar Ferreira e Rui Horta e Costa com\n",
      "utilização das sociedades do Grupo VALE DO LOBO, crime p. e p. pelas\n",
      "disposições conjugadas dos art.º 1º, 2.°, 3.°, n.º 1, alínea d), 17.°, n.º 1 e 19°.,\n",
      "n.ºs 2 e 3 da Lei 34/87, de 16 de julho, na redacção introduzida pela Lei n°\n",
      "108/2001, de 28 de Novembro- Lei dos Crimes de Responsabilidade dos\n",
      "Titulares de Cargos Políticos, com referência aos art.º 28.° e 202.°, alínea b)\n",
      "do Código Penal;\n",
      "      - Um CRIME DE BRANQUEAMENTO, em co-autoria com os\n",
      "arguidos CARLOS SANTOS SILVA e JOAQUIM BARROCA relativamente\n",
      "aos movimentos financeiros com origem no Grupo LENA e com passagem\n",
      "pelas contas da Suíça tituladas por este último arguido e realizados a partir de\n",
      "2007, crime p. e p. pelo art.368°-A, n° 1, 2 e 3 do Código Penal;\n",
      "\n",
      "\n",
      "                                                                                   2\n",
      "\f",
      "\n"
     ]
    },
    {
     "ename": "AttributeError",
     "evalue": "'pdftotext.PDF' object has no attribute 'to_csv'",
     "output_type": "error",
     "traceback": [
      "\u001b[0;31m---------------------------------------------------------------------------\u001b[0m",
      "\u001b[0;31mAttributeError\u001b[0m                            Traceback (most recent call last)",
      "\u001b[0;32m<ipython-input-3-79cdee1ca90c>\u001b[0m in \u001b[0;36m<module>\u001b[0;34m\u001b[0m\n\u001b[1;32m     16\u001b[0m \u001b[0;31m# Read all the text into one string\u001b[0m\u001b[0;34m\u001b[0m\u001b[0;34m\u001b[0m\u001b[0;34m\u001b[0m\u001b[0m\n\u001b[1;32m     17\u001b[0m \u001b[0;31m#print(\"\\n\\n\".join(pdf))\u001b[0m\u001b[0;34m\u001b[0m\u001b[0;34m\u001b[0m\u001b[0;34m\u001b[0m\u001b[0m\n\u001b[0;32m---> 18\u001b[0;31m \u001b[0mpdf\u001b[0m\u001b[0;34m.\u001b[0m\u001b[0mto_csv\u001b[0m\u001b[0;34m(\u001b[0m\u001b[0mpdf\u001b[0m\u001b[0;34m)\u001b[0m\u001b[0;34m\u001b[0m\u001b[0;34m\u001b[0m\u001b[0m\n\u001b[0m",
      "\u001b[0;31mAttributeError\u001b[0m: 'pdftotext.PDF' object has no attribute 'to_csv'"
     ]
    }
   ],
   "source": [
    "# Load your PDF\n",
    "with open(\"tcic_122_decisao_instrutoria.pdf\", \"rb\") as f:\n",
    "    pdf = pdftotext.PDF(f)\n",
    "\n",
    "# How many pages?\n",
    "print(len(pdf))\n",
    "\n",
    "# Iterate over all the pages\n",
    "#for page in pdf:\n",
    "#    print(page)\n",
    "\n",
    "# Read some individual pages\n",
    "print(pdf[0])\n",
    "print(pdf[1])\n",
    "\n",
    "# Read all the text into one string\n",
    "#print(\"\\n\\n\".join(pdf))"
   ]
  },
  {
   "cell_type": "code",
   "execution_count": 5,
   "id": "grateful-extreme",
   "metadata": {},
   "outputs": [],
   "source": [
    "# Save all text to a txt file.\n",
    "with open('crimestory.txt', 'w') as f:\n",
    "    f.write(\"\\n\\n\".join(pdf))"
   ]
  },
  {
   "cell_type": "code",
   "execution_count": 31,
   "id": "coordinate-planner",
   "metadata": {
    "collapsed": true,
    "jupyter": {
     "outputs_hidden": true
    }
   },
   "outputs": [
    {
     "ename": "Error",
     "evalue": "field larger than field limit (131072)",
     "output_type": "error",
     "traceback": [
      "\u001b[0;31m---------------------------------------------------------------------------\u001b[0m",
      "\u001b[0;31mError\u001b[0m                                     Traceback (most recent call last)",
      "\u001b[0;32m<ipython-input-31-75f8df93c934>\u001b[0m in \u001b[0;36m<module>\u001b[0;34m\u001b[0m\n\u001b[1;32m     10\u001b[0m \u001b[0mout_csv\u001b[0m \u001b[0;34m=\u001b[0m \u001b[0mcsv\u001b[0m\u001b[0;34m.\u001b[0m\u001b[0mwriter\u001b[0m\u001b[0;34m(\u001b[0m\u001b[0mfile2\u001b[0m\u001b[0;34m)\u001b[0m\u001b[0;34m\u001b[0m\u001b[0;34m\u001b[0m\u001b[0m\n\u001b[1;32m     11\u001b[0m \u001b[0;34m\u001b[0m\u001b[0m\n\u001b[0;32m---> 12\u001b[0;31m \u001b[0mfile3\u001b[0m \u001b[0;34m=\u001b[0m \u001b[0mout_csv\u001b[0m\u001b[0;34m.\u001b[0m\u001b[0mwriterows\u001b[0m\u001b[0;34m(\u001b[0m\u001b[0mIn_text\u001b[0m\u001b[0;34m)\u001b[0m\u001b[0;34m\u001b[0m\u001b[0;34m\u001b[0m\u001b[0m\n\u001b[0m\u001b[1;32m     13\u001b[0m \u001b[0;34m\u001b[0m\u001b[0m\n\u001b[1;32m     14\u001b[0m \u001b[0mfile1\u001b[0m\u001b[0;34m.\u001b[0m\u001b[0mclose\u001b[0m\u001b[0;34m(\u001b[0m\u001b[0;34m)\u001b[0m\u001b[0;34m\u001b[0m\u001b[0;34m\u001b[0m\u001b[0m\n",
      "\u001b[0;31mError\u001b[0m: field larger than field limit (131072)"
     ]
    }
   ],
   "source": [
    "import csv\n",
    "save_path = \"/Users/miguelportela/Documents/GitHub/PythonCourse/text/\"\n",
    "completeName_in = os.path.join(save_path, 'crimestory' + '.txt')\n",
    "completeName_out = os.path.join(save_path, 'crimestoryycsv' + '.csv')\n",
    "\n",
    "file1 = open(completeName_in)\n",
    "In_text = csv.reader(file1, delimiter=',')\n",
    "\n",
    "file2 = open(completeName_out, 'w')\n",
    "out_csv = csv.writer(file2)\n",
    "\n",
    "file3 = out_csv.writerows(In_text)\n",
    "\n",
    "file1.close()\n",
    "file2.close()"
   ]
  },
  {
   "cell_type": "code",
   "execution_count": 56,
   "id": "pleasant-candidate",
   "metadata": {},
   "outputs": [],
   "source": [
    "from bs4 import BeautifulSoup"
   ]
  },
  {
   "cell_type": "code",
   "execution_count": 69,
   "id": "afraid-kuwait",
   "metadata": {},
   "outputs": [],
   "source": [
    "from nltk.tokenize import word_tokenize\n",
    "from nltk.tokenize import sent_tokenize"
   ]
  },
  {
   "cell_type": "code",
   "execution_count": 143,
   "id": "respected-target",
   "metadata": {
    "collapsed": true,
    "jupyter": {
     "outputs_hidden": true
    }
   },
   "outputs": [
    {
     "ename": "ParserError",
     "evalue": "Error tokenizing data. C error: Expected 3 fields in line 6, saw 7\n",
     "output_type": "error",
     "traceback": [
      "\u001b[0;31m---------------------------------------------------------------------------\u001b[0m",
      "\u001b[0;31mParserError\u001b[0m                               Traceback (most recent call last)",
      "\u001b[0;32m<ipython-input-143-0fedbc3c75bc>\u001b[0m in \u001b[0;36m<module>\u001b[0;34m\u001b[0m\n\u001b[0;32m----> 1\u001b[0;31m \u001b[0mcrime\u001b[0m\u001b[0;34m=\u001b[0m\u001b[0mpd\u001b[0m\u001b[0;34m.\u001b[0m\u001b[0mread_csv\u001b[0m\u001b[0;34m(\u001b[0m\u001b[0;34m'tmp.csv'\u001b[0m\u001b[0;34m)\u001b[0m\u001b[0;34m\u001b[0m\u001b[0;34m\u001b[0m\u001b[0m\n\u001b[0m",
      "\u001b[0;32m~/opt/anaconda3/lib/python3.8/site-packages/pandas/io/parsers.py\u001b[0m in \u001b[0;36mread_csv\u001b[0;34m(filepath_or_buffer, sep, delimiter, header, names, index_col, usecols, squeeze, prefix, mangle_dupe_cols, dtype, engine, converters, true_values, false_values, skipinitialspace, skiprows, skipfooter, nrows, na_values, keep_default_na, na_filter, verbose, skip_blank_lines, parse_dates, infer_datetime_format, keep_date_col, date_parser, dayfirst, cache_dates, iterator, chunksize, compression, thousands, decimal, lineterminator, quotechar, quoting, doublequote, escapechar, comment, encoding, dialect, error_bad_lines, warn_bad_lines, delim_whitespace, low_memory, memory_map, float_precision, storage_options)\u001b[0m\n\u001b[1;32m    608\u001b[0m     \u001b[0mkwds\u001b[0m\u001b[0;34m.\u001b[0m\u001b[0mupdate\u001b[0m\u001b[0;34m(\u001b[0m\u001b[0mkwds_defaults\u001b[0m\u001b[0;34m)\u001b[0m\u001b[0;34m\u001b[0m\u001b[0;34m\u001b[0m\u001b[0m\n\u001b[1;32m    609\u001b[0m \u001b[0;34m\u001b[0m\u001b[0m\n\u001b[0;32m--> 610\u001b[0;31m     \u001b[0;32mreturn\u001b[0m \u001b[0m_read\u001b[0m\u001b[0;34m(\u001b[0m\u001b[0mfilepath_or_buffer\u001b[0m\u001b[0;34m,\u001b[0m \u001b[0mkwds\u001b[0m\u001b[0;34m)\u001b[0m\u001b[0;34m\u001b[0m\u001b[0;34m\u001b[0m\u001b[0m\n\u001b[0m\u001b[1;32m    611\u001b[0m \u001b[0;34m\u001b[0m\u001b[0m\n\u001b[1;32m    612\u001b[0m \u001b[0;34m\u001b[0m\u001b[0m\n",
      "\u001b[0;32m~/opt/anaconda3/lib/python3.8/site-packages/pandas/io/parsers.py\u001b[0m in \u001b[0;36m_read\u001b[0;34m(filepath_or_buffer, kwds)\u001b[0m\n\u001b[1;32m    466\u001b[0m \u001b[0;34m\u001b[0m\u001b[0m\n\u001b[1;32m    467\u001b[0m     \u001b[0;32mwith\u001b[0m \u001b[0mparser\u001b[0m\u001b[0;34m:\u001b[0m\u001b[0;34m\u001b[0m\u001b[0;34m\u001b[0m\u001b[0m\n\u001b[0;32m--> 468\u001b[0;31m         \u001b[0;32mreturn\u001b[0m \u001b[0mparser\u001b[0m\u001b[0;34m.\u001b[0m\u001b[0mread\u001b[0m\u001b[0;34m(\u001b[0m\u001b[0mnrows\u001b[0m\u001b[0;34m)\u001b[0m\u001b[0;34m\u001b[0m\u001b[0;34m\u001b[0m\u001b[0m\n\u001b[0m\u001b[1;32m    469\u001b[0m \u001b[0;34m\u001b[0m\u001b[0m\n\u001b[1;32m    470\u001b[0m \u001b[0;34m\u001b[0m\u001b[0m\n",
      "\u001b[0;32m~/opt/anaconda3/lib/python3.8/site-packages/pandas/io/parsers.py\u001b[0m in \u001b[0;36mread\u001b[0;34m(self, nrows)\u001b[0m\n\u001b[1;32m   1055\u001b[0m     \u001b[0;32mdef\u001b[0m \u001b[0mread\u001b[0m\u001b[0;34m(\u001b[0m\u001b[0mself\u001b[0m\u001b[0;34m,\u001b[0m \u001b[0mnrows\u001b[0m\u001b[0;34m=\u001b[0m\u001b[0;32mNone\u001b[0m\u001b[0;34m)\u001b[0m\u001b[0;34m:\u001b[0m\u001b[0;34m\u001b[0m\u001b[0;34m\u001b[0m\u001b[0m\n\u001b[1;32m   1056\u001b[0m         \u001b[0mnrows\u001b[0m \u001b[0;34m=\u001b[0m \u001b[0mvalidate_integer\u001b[0m\u001b[0;34m(\u001b[0m\u001b[0;34m\"nrows\"\u001b[0m\u001b[0;34m,\u001b[0m \u001b[0mnrows\u001b[0m\u001b[0;34m)\u001b[0m\u001b[0;34m\u001b[0m\u001b[0;34m\u001b[0m\u001b[0m\n\u001b[0;32m-> 1057\u001b[0;31m         \u001b[0mindex\u001b[0m\u001b[0;34m,\u001b[0m \u001b[0mcolumns\u001b[0m\u001b[0;34m,\u001b[0m \u001b[0mcol_dict\u001b[0m \u001b[0;34m=\u001b[0m \u001b[0mself\u001b[0m\u001b[0;34m.\u001b[0m\u001b[0m_engine\u001b[0m\u001b[0;34m.\u001b[0m\u001b[0mread\u001b[0m\u001b[0;34m(\u001b[0m\u001b[0mnrows\u001b[0m\u001b[0;34m)\u001b[0m\u001b[0;34m\u001b[0m\u001b[0;34m\u001b[0m\u001b[0m\n\u001b[0m\u001b[1;32m   1058\u001b[0m \u001b[0;34m\u001b[0m\u001b[0m\n\u001b[1;32m   1059\u001b[0m         \u001b[0;32mif\u001b[0m \u001b[0mindex\u001b[0m \u001b[0;32mis\u001b[0m \u001b[0;32mNone\u001b[0m\u001b[0;34m:\u001b[0m\u001b[0;34m\u001b[0m\u001b[0;34m\u001b[0m\u001b[0m\n",
      "\u001b[0;32m~/opt/anaconda3/lib/python3.8/site-packages/pandas/io/parsers.py\u001b[0m in \u001b[0;36mread\u001b[0;34m(self, nrows)\u001b[0m\n\u001b[1;32m   2059\u001b[0m     \u001b[0;32mdef\u001b[0m \u001b[0mread\u001b[0m\u001b[0;34m(\u001b[0m\u001b[0mself\u001b[0m\u001b[0;34m,\u001b[0m \u001b[0mnrows\u001b[0m\u001b[0;34m=\u001b[0m\u001b[0;32mNone\u001b[0m\u001b[0;34m)\u001b[0m\u001b[0;34m:\u001b[0m\u001b[0;34m\u001b[0m\u001b[0;34m\u001b[0m\u001b[0m\n\u001b[1;32m   2060\u001b[0m         \u001b[0;32mtry\u001b[0m\u001b[0;34m:\u001b[0m\u001b[0;34m\u001b[0m\u001b[0;34m\u001b[0m\u001b[0m\n\u001b[0;32m-> 2061\u001b[0;31m             \u001b[0mdata\u001b[0m \u001b[0;34m=\u001b[0m \u001b[0mself\u001b[0m\u001b[0;34m.\u001b[0m\u001b[0m_reader\u001b[0m\u001b[0;34m.\u001b[0m\u001b[0mread\u001b[0m\u001b[0;34m(\u001b[0m\u001b[0mnrows\u001b[0m\u001b[0;34m)\u001b[0m\u001b[0;34m\u001b[0m\u001b[0;34m\u001b[0m\u001b[0m\n\u001b[0m\u001b[1;32m   2062\u001b[0m         \u001b[0;32mexcept\u001b[0m \u001b[0mStopIteration\u001b[0m\u001b[0;34m:\u001b[0m\u001b[0;34m\u001b[0m\u001b[0;34m\u001b[0m\u001b[0m\n\u001b[1;32m   2063\u001b[0m             \u001b[0;32mif\u001b[0m \u001b[0mself\u001b[0m\u001b[0;34m.\u001b[0m\u001b[0m_first_chunk\u001b[0m\u001b[0;34m:\u001b[0m\u001b[0;34m\u001b[0m\u001b[0;34m\u001b[0m\u001b[0m\n",
      "\u001b[0;32mpandas/_libs/parsers.pyx\u001b[0m in \u001b[0;36mpandas._libs.parsers.TextReader.read\u001b[0;34m()\u001b[0m\n",
      "\u001b[0;32mpandas/_libs/parsers.pyx\u001b[0m in \u001b[0;36mpandas._libs.parsers.TextReader._read_low_memory\u001b[0;34m()\u001b[0m\n",
      "\u001b[0;32mpandas/_libs/parsers.pyx\u001b[0m in \u001b[0;36mpandas._libs.parsers.TextReader._read_rows\u001b[0;34m()\u001b[0m\n",
      "\u001b[0;32mpandas/_libs/parsers.pyx\u001b[0m in \u001b[0;36mpandas._libs.parsers.TextReader._tokenize_rows\u001b[0;34m()\u001b[0m\n",
      "\u001b[0;32mpandas/_libs/parsers.pyx\u001b[0m in \u001b[0;36mpandas._libs.parsers.raise_parser_error\u001b[0;34m()\u001b[0m\n",
      "\u001b[0;31mParserError\u001b[0m: Error tokenizing data. C error: Expected 3 fields in line 6, saw 7\n"
     ]
    }
   ],
   "source": [
    "crime=pd.read_csv('tmp.csv')"
   ]
  },
  {
   "cell_type": "code",
   "execution_count": 105,
   "id": "competitive-demonstration",
   "metadata": {},
   "outputs": [
    {
     "data": {
      "text/html": [
       "<div>\n",
       "<style scoped>\n",
       "    .dataframe tbody tr th:only-of-type {\n",
       "        vertical-align: middle;\n",
       "    }\n",
       "\n",
       "    .dataframe tbody tr th {\n",
       "        vertical-align: top;\n",
       "    }\n",
       "\n",
       "    .dataframe thead th {\n",
       "        text-align: right;\n",
       "    }\n",
       "</style>\n",
       "<table border=\"1\" class=\"dataframe\">\n",
       "  <thead>\n",
       "    <tr style=\"text-align: right;\">\n",
       "      <th></th>\n",
       "      <th></th>\n",
       "      <th>x y z</th>\n",
       "    </tr>\n",
       "  </thead>\n",
       "  <tbody>\n",
       "    <tr>\n",
       "      <th>Titulares de Cargos Políticos)</th>\n",
       "      <th>com referência aos art.º 28.° e 202.°</th>\n",
       "      <td>alínea b) do Código Penal</td>\n",
       "    </tr>\n",
       "  </tbody>\n",
       "</table>\n",
       "</div>"
      ],
      "text/plain": [
       "                                                                                               x y z\n",
       "Titulares de Cargos Políticos)    com referência aos art.º 28.° e 202.°    alínea b) do Código Penal"
      ]
     },
     "execution_count": 105,
     "metadata": {},
     "output_type": "execute_result"
    }
   ],
   "source": [
    "crime.head()"
   ]
  },
  {
   "cell_type": "code",
   "execution_count": 141,
   "id": "comprehensive-local",
   "metadata": {},
   "outputs": [
    {
     "name": "stdout",
     "output_type": "stream",
     "text": [
      "<class 'pandas.core.frame.DataFrame'>\n",
      "MultiIndex: 1 entries, ('Titulares de Cargos Políticos)', '   com referência aos art.º 28.° e 202.°') to ('Titulares de Cargos Políticos)', '   com referência aos art.º 28.° e 202.°')\n",
      "Data columns (total 1 columns):\n",
      " #   Column  Non-Null Count  Dtype \n",
      "---  ------  --------------  ----- \n",
      " 0   x y z   1 non-null      object\n",
      "dtypes: object(1)\n",
      "memory usage: 274.0+ bytes\n"
     ]
    }
   ],
   "source": [
    "crime.info()\n",
    "text = crime"
   ]
  },
  {
   "cell_type": "code",
   "execution_count": 142,
   "id": "defensive-death",
   "metadata": {
    "collapsed": true,
    "jupyter": {
     "outputs_hidden": true
    }
   },
   "outputs": [
    {
     "ename": "TypeError",
     "evalue": "expected string or bytes-like object",
     "output_type": "error",
     "traceback": [
      "\u001b[0;31m---------------------------------------------------------------------------\u001b[0m",
      "\u001b[0;31mTypeError\u001b[0m                                 Traceback (most recent call last)",
      "\u001b[0;32m<ipython-input-142-b5ec3204f4ef>\u001b[0m in \u001b[0;36m<module>\u001b[0;34m\u001b[0m\n\u001b[0;32m----> 1\u001b[0;31m \u001b[0mtokenized_text\u001b[0m\u001b[0;34m=\u001b[0m\u001b[0msent_tokenize\u001b[0m\u001b[0;34m(\u001b[0m\u001b[0mtext\u001b[0m\u001b[0;34m)\u001b[0m\u001b[0;34m\u001b[0m\u001b[0;34m\u001b[0m\u001b[0m\n\u001b[0m\u001b[1;32m      2\u001b[0m \u001b[0mprint\u001b[0m\u001b[0;34m(\u001b[0m\u001b[0mtokenized_text\u001b[0m\u001b[0;34m)\u001b[0m\u001b[0;34m\u001b[0m\u001b[0;34m\u001b[0m\u001b[0m\n",
      "\u001b[0;32m~/opt/anaconda3/lib/python3.8/site-packages/nltk/tokenize/__init__.py\u001b[0m in \u001b[0;36msent_tokenize\u001b[0;34m(text, language)\u001b[0m\n\u001b[1;32m    105\u001b[0m     \"\"\"\n\u001b[1;32m    106\u001b[0m     \u001b[0mtokenizer\u001b[0m \u001b[0;34m=\u001b[0m \u001b[0mload\u001b[0m\u001b[0;34m(\u001b[0m\u001b[0;34m\"tokenizers/punkt/{0}.pickle\"\u001b[0m\u001b[0;34m.\u001b[0m\u001b[0mformat\u001b[0m\u001b[0;34m(\u001b[0m\u001b[0mlanguage\u001b[0m\u001b[0;34m)\u001b[0m\u001b[0;34m)\u001b[0m\u001b[0;34m\u001b[0m\u001b[0;34m\u001b[0m\u001b[0m\n\u001b[0;32m--> 107\u001b[0;31m     \u001b[0;32mreturn\u001b[0m \u001b[0mtokenizer\u001b[0m\u001b[0;34m.\u001b[0m\u001b[0mtokenize\u001b[0m\u001b[0;34m(\u001b[0m\u001b[0mtext\u001b[0m\u001b[0;34m)\u001b[0m\u001b[0;34m\u001b[0m\u001b[0;34m\u001b[0m\u001b[0m\n\u001b[0m\u001b[1;32m    108\u001b[0m \u001b[0;34m\u001b[0m\u001b[0m\n\u001b[1;32m    109\u001b[0m \u001b[0;34m\u001b[0m\u001b[0m\n",
      "\u001b[0;32m~/opt/anaconda3/lib/python3.8/site-packages/nltk/tokenize/punkt.py\u001b[0m in \u001b[0;36mtokenize\u001b[0;34m(self, text, realign_boundaries)\u001b[0m\n\u001b[1;32m   1270\u001b[0m         \u001b[0mGiven\u001b[0m \u001b[0ma\u001b[0m \u001b[0mtext\u001b[0m\u001b[0;34m,\u001b[0m \u001b[0mreturns\u001b[0m \u001b[0ma\u001b[0m \u001b[0mlist\u001b[0m \u001b[0mof\u001b[0m \u001b[0mthe\u001b[0m \u001b[0msentences\u001b[0m \u001b[0;32min\u001b[0m \u001b[0mthat\u001b[0m \u001b[0mtext\u001b[0m\u001b[0;34m.\u001b[0m\u001b[0;34m\u001b[0m\u001b[0;34m\u001b[0m\u001b[0m\n\u001b[1;32m   1271\u001b[0m         \"\"\"\n\u001b[0;32m-> 1272\u001b[0;31m         \u001b[0;32mreturn\u001b[0m \u001b[0mlist\u001b[0m\u001b[0;34m(\u001b[0m\u001b[0mself\u001b[0m\u001b[0;34m.\u001b[0m\u001b[0msentences_from_text\u001b[0m\u001b[0;34m(\u001b[0m\u001b[0mtext\u001b[0m\u001b[0;34m,\u001b[0m \u001b[0mrealign_boundaries\u001b[0m\u001b[0;34m)\u001b[0m\u001b[0;34m)\u001b[0m\u001b[0;34m\u001b[0m\u001b[0;34m\u001b[0m\u001b[0m\n\u001b[0m\u001b[1;32m   1273\u001b[0m \u001b[0;34m\u001b[0m\u001b[0m\n\u001b[1;32m   1274\u001b[0m     \u001b[0;32mdef\u001b[0m \u001b[0mdebug_decisions\u001b[0m\u001b[0;34m(\u001b[0m\u001b[0mself\u001b[0m\u001b[0;34m,\u001b[0m \u001b[0mtext\u001b[0m\u001b[0;34m)\u001b[0m\u001b[0;34m:\u001b[0m\u001b[0;34m\u001b[0m\u001b[0;34m\u001b[0m\u001b[0m\n",
      "\u001b[0;32m~/opt/anaconda3/lib/python3.8/site-packages/nltk/tokenize/punkt.py\u001b[0m in \u001b[0;36msentences_from_text\u001b[0;34m(self, text, realign_boundaries)\u001b[0m\n\u001b[1;32m   1324\u001b[0m         \u001b[0mfollows\u001b[0m \u001b[0mthe\u001b[0m \u001b[0mperiod\u001b[0m\u001b[0;34m.\u001b[0m\u001b[0;34m\u001b[0m\u001b[0;34m\u001b[0m\u001b[0m\n\u001b[1;32m   1325\u001b[0m         \"\"\"\n\u001b[0;32m-> 1326\u001b[0;31m         \u001b[0;32mreturn\u001b[0m \u001b[0;34m[\u001b[0m\u001b[0mtext\u001b[0m\u001b[0;34m[\u001b[0m\u001b[0ms\u001b[0m\u001b[0;34m:\u001b[0m\u001b[0me\u001b[0m\u001b[0;34m]\u001b[0m \u001b[0;32mfor\u001b[0m \u001b[0ms\u001b[0m\u001b[0;34m,\u001b[0m \u001b[0me\u001b[0m \u001b[0;32min\u001b[0m \u001b[0mself\u001b[0m\u001b[0;34m.\u001b[0m\u001b[0mspan_tokenize\u001b[0m\u001b[0;34m(\u001b[0m\u001b[0mtext\u001b[0m\u001b[0;34m,\u001b[0m \u001b[0mrealign_boundaries\u001b[0m\u001b[0;34m)\u001b[0m\u001b[0;34m]\u001b[0m\u001b[0;34m\u001b[0m\u001b[0;34m\u001b[0m\u001b[0m\n\u001b[0m\u001b[1;32m   1327\u001b[0m \u001b[0;34m\u001b[0m\u001b[0m\n\u001b[1;32m   1328\u001b[0m     \u001b[0;32mdef\u001b[0m \u001b[0m_slices_from_text\u001b[0m\u001b[0;34m(\u001b[0m\u001b[0mself\u001b[0m\u001b[0;34m,\u001b[0m \u001b[0mtext\u001b[0m\u001b[0;34m)\u001b[0m\u001b[0;34m:\u001b[0m\u001b[0;34m\u001b[0m\u001b[0;34m\u001b[0m\u001b[0m\n",
      "\u001b[0;32m~/opt/anaconda3/lib/python3.8/site-packages/nltk/tokenize/punkt.py\u001b[0m in \u001b[0;36m<listcomp>\u001b[0;34m(.0)\u001b[0m\n\u001b[1;32m   1324\u001b[0m         \u001b[0mfollows\u001b[0m \u001b[0mthe\u001b[0m \u001b[0mperiod\u001b[0m\u001b[0;34m.\u001b[0m\u001b[0;34m\u001b[0m\u001b[0;34m\u001b[0m\u001b[0m\n\u001b[1;32m   1325\u001b[0m         \"\"\"\n\u001b[0;32m-> 1326\u001b[0;31m         \u001b[0;32mreturn\u001b[0m \u001b[0;34m[\u001b[0m\u001b[0mtext\u001b[0m\u001b[0;34m[\u001b[0m\u001b[0ms\u001b[0m\u001b[0;34m:\u001b[0m\u001b[0me\u001b[0m\u001b[0;34m]\u001b[0m \u001b[0;32mfor\u001b[0m \u001b[0ms\u001b[0m\u001b[0;34m,\u001b[0m \u001b[0me\u001b[0m \u001b[0;32min\u001b[0m \u001b[0mself\u001b[0m\u001b[0;34m.\u001b[0m\u001b[0mspan_tokenize\u001b[0m\u001b[0;34m(\u001b[0m\u001b[0mtext\u001b[0m\u001b[0;34m,\u001b[0m \u001b[0mrealign_boundaries\u001b[0m\u001b[0;34m)\u001b[0m\u001b[0;34m]\u001b[0m\u001b[0;34m\u001b[0m\u001b[0;34m\u001b[0m\u001b[0m\n\u001b[0m\u001b[1;32m   1327\u001b[0m \u001b[0;34m\u001b[0m\u001b[0m\n\u001b[1;32m   1328\u001b[0m     \u001b[0;32mdef\u001b[0m \u001b[0m_slices_from_text\u001b[0m\u001b[0;34m(\u001b[0m\u001b[0mself\u001b[0m\u001b[0;34m,\u001b[0m \u001b[0mtext\u001b[0m\u001b[0;34m)\u001b[0m\u001b[0;34m:\u001b[0m\u001b[0;34m\u001b[0m\u001b[0;34m\u001b[0m\u001b[0m\n",
      "\u001b[0;32m~/opt/anaconda3/lib/python3.8/site-packages/nltk/tokenize/punkt.py\u001b[0m in \u001b[0;36mspan_tokenize\u001b[0;34m(self, text, realign_boundaries)\u001b[0m\n\u001b[1;32m   1314\u001b[0m         \u001b[0;32mif\u001b[0m \u001b[0mrealign_boundaries\u001b[0m\u001b[0;34m:\u001b[0m\u001b[0;34m\u001b[0m\u001b[0;34m\u001b[0m\u001b[0m\n\u001b[1;32m   1315\u001b[0m             \u001b[0mslices\u001b[0m \u001b[0;34m=\u001b[0m \u001b[0mself\u001b[0m\u001b[0;34m.\u001b[0m\u001b[0m_realign_boundaries\u001b[0m\u001b[0;34m(\u001b[0m\u001b[0mtext\u001b[0m\u001b[0;34m,\u001b[0m \u001b[0mslices\u001b[0m\u001b[0;34m)\u001b[0m\u001b[0;34m\u001b[0m\u001b[0;34m\u001b[0m\u001b[0m\n\u001b[0;32m-> 1316\u001b[0;31m         \u001b[0;32mfor\u001b[0m \u001b[0msl\u001b[0m \u001b[0;32min\u001b[0m \u001b[0mslices\u001b[0m\u001b[0;34m:\u001b[0m\u001b[0;34m\u001b[0m\u001b[0;34m\u001b[0m\u001b[0m\n\u001b[0m\u001b[1;32m   1317\u001b[0m             \u001b[0;32myield\u001b[0m \u001b[0;34m(\u001b[0m\u001b[0msl\u001b[0m\u001b[0;34m.\u001b[0m\u001b[0mstart\u001b[0m\u001b[0;34m,\u001b[0m \u001b[0msl\u001b[0m\u001b[0;34m.\u001b[0m\u001b[0mstop\u001b[0m\u001b[0;34m)\u001b[0m\u001b[0;34m\u001b[0m\u001b[0;34m\u001b[0m\u001b[0m\n\u001b[1;32m   1318\u001b[0m \u001b[0;34m\u001b[0m\u001b[0m\n",
      "\u001b[0;32m~/opt/anaconda3/lib/python3.8/site-packages/nltk/tokenize/punkt.py\u001b[0m in \u001b[0;36m_realign_boundaries\u001b[0;34m(self, text, slices)\u001b[0m\n\u001b[1;32m   1355\u001b[0m         \"\"\"\n\u001b[1;32m   1356\u001b[0m         \u001b[0mrealign\u001b[0m \u001b[0;34m=\u001b[0m \u001b[0;36m0\u001b[0m\u001b[0;34m\u001b[0m\u001b[0;34m\u001b[0m\u001b[0m\n\u001b[0;32m-> 1357\u001b[0;31m         \u001b[0;32mfor\u001b[0m \u001b[0msl1\u001b[0m\u001b[0;34m,\u001b[0m \u001b[0msl2\u001b[0m \u001b[0;32min\u001b[0m \u001b[0m_pair_iter\u001b[0m\u001b[0;34m(\u001b[0m\u001b[0mslices\u001b[0m\u001b[0;34m)\u001b[0m\u001b[0;34m:\u001b[0m\u001b[0;34m\u001b[0m\u001b[0;34m\u001b[0m\u001b[0m\n\u001b[0m\u001b[1;32m   1358\u001b[0m             \u001b[0msl1\u001b[0m \u001b[0;34m=\u001b[0m \u001b[0mslice\u001b[0m\u001b[0;34m(\u001b[0m\u001b[0msl1\u001b[0m\u001b[0;34m.\u001b[0m\u001b[0mstart\u001b[0m \u001b[0;34m+\u001b[0m \u001b[0mrealign\u001b[0m\u001b[0;34m,\u001b[0m \u001b[0msl1\u001b[0m\u001b[0;34m.\u001b[0m\u001b[0mstop\u001b[0m\u001b[0;34m)\u001b[0m\u001b[0;34m\u001b[0m\u001b[0;34m\u001b[0m\u001b[0m\n\u001b[1;32m   1359\u001b[0m             \u001b[0;32mif\u001b[0m \u001b[0;32mnot\u001b[0m \u001b[0msl2\u001b[0m\u001b[0;34m:\u001b[0m\u001b[0;34m\u001b[0m\u001b[0;34m\u001b[0m\u001b[0m\n",
      "\u001b[0;32m~/opt/anaconda3/lib/python3.8/site-packages/nltk/tokenize/punkt.py\u001b[0m in \u001b[0;36m_pair_iter\u001b[0;34m(it)\u001b[0m\n\u001b[1;32m    312\u001b[0m     \u001b[0mit\u001b[0m \u001b[0;34m=\u001b[0m \u001b[0miter\u001b[0m\u001b[0;34m(\u001b[0m\u001b[0mit\u001b[0m\u001b[0;34m)\u001b[0m\u001b[0;34m\u001b[0m\u001b[0;34m\u001b[0m\u001b[0m\n\u001b[1;32m    313\u001b[0m     \u001b[0;32mtry\u001b[0m\u001b[0;34m:\u001b[0m\u001b[0;34m\u001b[0m\u001b[0;34m\u001b[0m\u001b[0m\n\u001b[0;32m--> 314\u001b[0;31m         \u001b[0mprev\u001b[0m \u001b[0;34m=\u001b[0m \u001b[0mnext\u001b[0m\u001b[0;34m(\u001b[0m\u001b[0mit\u001b[0m\u001b[0;34m)\u001b[0m\u001b[0;34m\u001b[0m\u001b[0;34m\u001b[0m\u001b[0m\n\u001b[0m\u001b[1;32m    315\u001b[0m     \u001b[0;32mexcept\u001b[0m \u001b[0mStopIteration\u001b[0m\u001b[0;34m:\u001b[0m\u001b[0;34m\u001b[0m\u001b[0;34m\u001b[0m\u001b[0m\n\u001b[1;32m    316\u001b[0m         \u001b[0;32mreturn\u001b[0m\u001b[0;34m\u001b[0m\u001b[0;34m\u001b[0m\u001b[0m\n",
      "\u001b[0;32m~/opt/anaconda3/lib/python3.8/site-packages/nltk/tokenize/punkt.py\u001b[0m in \u001b[0;36m_slices_from_text\u001b[0;34m(self, text)\u001b[0m\n\u001b[1;32m   1328\u001b[0m     \u001b[0;32mdef\u001b[0m \u001b[0m_slices_from_text\u001b[0m\u001b[0;34m(\u001b[0m\u001b[0mself\u001b[0m\u001b[0;34m,\u001b[0m \u001b[0mtext\u001b[0m\u001b[0;34m)\u001b[0m\u001b[0;34m:\u001b[0m\u001b[0;34m\u001b[0m\u001b[0;34m\u001b[0m\u001b[0m\n\u001b[1;32m   1329\u001b[0m         \u001b[0mlast_break\u001b[0m \u001b[0;34m=\u001b[0m \u001b[0;36m0\u001b[0m\u001b[0;34m\u001b[0m\u001b[0;34m\u001b[0m\u001b[0m\n\u001b[0;32m-> 1330\u001b[0;31m         \u001b[0;32mfor\u001b[0m \u001b[0mmatch\u001b[0m \u001b[0;32min\u001b[0m \u001b[0mself\u001b[0m\u001b[0;34m.\u001b[0m\u001b[0m_lang_vars\u001b[0m\u001b[0;34m.\u001b[0m\u001b[0mperiod_context_re\u001b[0m\u001b[0;34m(\u001b[0m\u001b[0;34m)\u001b[0m\u001b[0;34m.\u001b[0m\u001b[0mfinditer\u001b[0m\u001b[0;34m(\u001b[0m\u001b[0mtext\u001b[0m\u001b[0;34m)\u001b[0m\u001b[0;34m:\u001b[0m\u001b[0;34m\u001b[0m\u001b[0;34m\u001b[0m\u001b[0m\n\u001b[0m\u001b[1;32m   1331\u001b[0m             \u001b[0mcontext\u001b[0m \u001b[0;34m=\u001b[0m \u001b[0mmatch\u001b[0m\u001b[0;34m.\u001b[0m\u001b[0mgroup\u001b[0m\u001b[0;34m(\u001b[0m\u001b[0;34m)\u001b[0m \u001b[0;34m+\u001b[0m \u001b[0mmatch\u001b[0m\u001b[0;34m.\u001b[0m\u001b[0mgroup\u001b[0m\u001b[0;34m(\u001b[0m\u001b[0;34m\"after_tok\"\u001b[0m\u001b[0;34m)\u001b[0m\u001b[0;34m\u001b[0m\u001b[0;34m\u001b[0m\u001b[0m\n\u001b[1;32m   1332\u001b[0m             \u001b[0;32mif\u001b[0m \u001b[0mself\u001b[0m\u001b[0;34m.\u001b[0m\u001b[0mtext_contains_sentbreak\u001b[0m\u001b[0;34m(\u001b[0m\u001b[0mcontext\u001b[0m\u001b[0;34m)\u001b[0m\u001b[0;34m:\u001b[0m\u001b[0;34m\u001b[0m\u001b[0;34m\u001b[0m\u001b[0m\n",
      "\u001b[0;31mTypeError\u001b[0m: expected string or bytes-like object"
     ]
    }
   ],
   "source": [
    "tokenized_text=sent_tokenize(text)\n",
    "print(tokenized_text)"
   ]
  },
  {
   "cell_type": "code",
   "execution_count": 107,
   "id": "handmade-chancellor",
   "metadata": {},
   "outputs": [],
   "source": [
    "from nltk.corpus import stopwords\n",
    "from string import punctuation\n",
    "\n",
    "stopwords = set(stopwords.words('portuguese') + list(punctuation))\n"
   ]
  },
  {
   "cell_type": "code",
   "execution_count": 109,
   "id": "narrow-kitchen",
   "metadata": {
    "collapsed": true,
    "jupyter": {
     "outputs_hidden": true
    }
   },
   "outputs": [
    {
     "ename": "TypeError",
     "evalue": "expected string or bytes-like object",
     "output_type": "error",
     "traceback": [
      "\u001b[0;31m---------------------------------------------------------------------------\u001b[0m",
      "\u001b[0;31mTypeError\u001b[0m                                 Traceback (most recent call last)",
      "\u001b[0;32m<ipython-input-109-4fff06b8a9cc>\u001b[0m in \u001b[0;36m<module>\u001b[0;34m\u001b[0m\n\u001b[0;32m----> 1\u001b[0;31m \u001b[0mpalavras\u001b[0m \u001b[0;34m=\u001b[0m \u001b[0mword_tokenize\u001b[0m\u001b[0;34m(\u001b[0m\u001b[0mdata\u001b[0m\u001b[0;34m)\u001b[0m\u001b[0;34m\u001b[0m\u001b[0;34m\u001b[0m\u001b[0m\n\u001b[0m",
      "\u001b[0;32m~/opt/anaconda3/lib/python3.8/site-packages/nltk/tokenize/__init__.py\u001b[0m in \u001b[0;36mword_tokenize\u001b[0;34m(text, language, preserve_line)\u001b[0m\n\u001b[1;32m    127\u001b[0m     \u001b[0;34m:\u001b[0m\u001b[0mtype\u001b[0m \u001b[0mpreserve_line\u001b[0m\u001b[0;34m:\u001b[0m \u001b[0mbool\u001b[0m\u001b[0;34m\u001b[0m\u001b[0;34m\u001b[0m\u001b[0m\n\u001b[1;32m    128\u001b[0m     \"\"\"\n\u001b[0;32m--> 129\u001b[0;31m     \u001b[0msentences\u001b[0m \u001b[0;34m=\u001b[0m \u001b[0;34m[\u001b[0m\u001b[0mtext\u001b[0m\u001b[0;34m]\u001b[0m \u001b[0;32mif\u001b[0m \u001b[0mpreserve_line\u001b[0m \u001b[0;32melse\u001b[0m \u001b[0msent_tokenize\u001b[0m\u001b[0;34m(\u001b[0m\u001b[0mtext\u001b[0m\u001b[0;34m,\u001b[0m \u001b[0mlanguage\u001b[0m\u001b[0;34m)\u001b[0m\u001b[0;34m\u001b[0m\u001b[0;34m\u001b[0m\u001b[0m\n\u001b[0m\u001b[1;32m    130\u001b[0m     return [\n\u001b[1;32m    131\u001b[0m         \u001b[0mtoken\u001b[0m \u001b[0;32mfor\u001b[0m \u001b[0msent\u001b[0m \u001b[0;32min\u001b[0m \u001b[0msentences\u001b[0m \u001b[0;32mfor\u001b[0m \u001b[0mtoken\u001b[0m \u001b[0;32min\u001b[0m \u001b[0m_treebank_word_tokenizer\u001b[0m\u001b[0;34m.\u001b[0m\u001b[0mtokenize\u001b[0m\u001b[0;34m(\u001b[0m\u001b[0msent\u001b[0m\u001b[0;34m)\u001b[0m\u001b[0;34m\u001b[0m\u001b[0;34m\u001b[0m\u001b[0m\n",
      "\u001b[0;32m~/opt/anaconda3/lib/python3.8/site-packages/nltk/tokenize/__init__.py\u001b[0m in \u001b[0;36msent_tokenize\u001b[0;34m(text, language)\u001b[0m\n\u001b[1;32m    105\u001b[0m     \"\"\"\n\u001b[1;32m    106\u001b[0m     \u001b[0mtokenizer\u001b[0m \u001b[0;34m=\u001b[0m \u001b[0mload\u001b[0m\u001b[0;34m(\u001b[0m\u001b[0;34m\"tokenizers/punkt/{0}.pickle\"\u001b[0m\u001b[0;34m.\u001b[0m\u001b[0mformat\u001b[0m\u001b[0;34m(\u001b[0m\u001b[0mlanguage\u001b[0m\u001b[0;34m)\u001b[0m\u001b[0;34m)\u001b[0m\u001b[0;34m\u001b[0m\u001b[0;34m\u001b[0m\u001b[0m\n\u001b[0;32m--> 107\u001b[0;31m     \u001b[0;32mreturn\u001b[0m \u001b[0mtokenizer\u001b[0m\u001b[0;34m.\u001b[0m\u001b[0mtokenize\u001b[0m\u001b[0;34m(\u001b[0m\u001b[0mtext\u001b[0m\u001b[0;34m)\u001b[0m\u001b[0;34m\u001b[0m\u001b[0;34m\u001b[0m\u001b[0m\n\u001b[0m\u001b[1;32m    108\u001b[0m \u001b[0;34m\u001b[0m\u001b[0m\n\u001b[1;32m    109\u001b[0m \u001b[0;34m\u001b[0m\u001b[0m\n",
      "\u001b[0;32m~/opt/anaconda3/lib/python3.8/site-packages/nltk/tokenize/punkt.py\u001b[0m in \u001b[0;36mtokenize\u001b[0;34m(self, text, realign_boundaries)\u001b[0m\n\u001b[1;32m   1270\u001b[0m         \u001b[0mGiven\u001b[0m \u001b[0ma\u001b[0m \u001b[0mtext\u001b[0m\u001b[0;34m,\u001b[0m \u001b[0mreturns\u001b[0m \u001b[0ma\u001b[0m \u001b[0mlist\u001b[0m \u001b[0mof\u001b[0m \u001b[0mthe\u001b[0m \u001b[0msentences\u001b[0m \u001b[0;32min\u001b[0m \u001b[0mthat\u001b[0m \u001b[0mtext\u001b[0m\u001b[0;34m.\u001b[0m\u001b[0;34m\u001b[0m\u001b[0;34m\u001b[0m\u001b[0m\n\u001b[1;32m   1271\u001b[0m         \"\"\"\n\u001b[0;32m-> 1272\u001b[0;31m         \u001b[0;32mreturn\u001b[0m \u001b[0mlist\u001b[0m\u001b[0;34m(\u001b[0m\u001b[0mself\u001b[0m\u001b[0;34m.\u001b[0m\u001b[0msentences_from_text\u001b[0m\u001b[0;34m(\u001b[0m\u001b[0mtext\u001b[0m\u001b[0;34m,\u001b[0m \u001b[0mrealign_boundaries\u001b[0m\u001b[0;34m)\u001b[0m\u001b[0;34m)\u001b[0m\u001b[0;34m\u001b[0m\u001b[0;34m\u001b[0m\u001b[0m\n\u001b[0m\u001b[1;32m   1273\u001b[0m \u001b[0;34m\u001b[0m\u001b[0m\n\u001b[1;32m   1274\u001b[0m     \u001b[0;32mdef\u001b[0m \u001b[0mdebug_decisions\u001b[0m\u001b[0;34m(\u001b[0m\u001b[0mself\u001b[0m\u001b[0;34m,\u001b[0m \u001b[0mtext\u001b[0m\u001b[0;34m)\u001b[0m\u001b[0;34m:\u001b[0m\u001b[0;34m\u001b[0m\u001b[0;34m\u001b[0m\u001b[0m\n",
      "\u001b[0;32m~/opt/anaconda3/lib/python3.8/site-packages/nltk/tokenize/punkt.py\u001b[0m in \u001b[0;36msentences_from_text\u001b[0;34m(self, text, realign_boundaries)\u001b[0m\n\u001b[1;32m   1324\u001b[0m         \u001b[0mfollows\u001b[0m \u001b[0mthe\u001b[0m \u001b[0mperiod\u001b[0m\u001b[0;34m.\u001b[0m\u001b[0;34m\u001b[0m\u001b[0;34m\u001b[0m\u001b[0m\n\u001b[1;32m   1325\u001b[0m         \"\"\"\n\u001b[0;32m-> 1326\u001b[0;31m         \u001b[0;32mreturn\u001b[0m \u001b[0;34m[\u001b[0m\u001b[0mtext\u001b[0m\u001b[0;34m[\u001b[0m\u001b[0ms\u001b[0m\u001b[0;34m:\u001b[0m\u001b[0me\u001b[0m\u001b[0;34m]\u001b[0m \u001b[0;32mfor\u001b[0m \u001b[0ms\u001b[0m\u001b[0;34m,\u001b[0m \u001b[0me\u001b[0m \u001b[0;32min\u001b[0m \u001b[0mself\u001b[0m\u001b[0;34m.\u001b[0m\u001b[0mspan_tokenize\u001b[0m\u001b[0;34m(\u001b[0m\u001b[0mtext\u001b[0m\u001b[0;34m,\u001b[0m \u001b[0mrealign_boundaries\u001b[0m\u001b[0;34m)\u001b[0m\u001b[0;34m]\u001b[0m\u001b[0;34m\u001b[0m\u001b[0;34m\u001b[0m\u001b[0m\n\u001b[0m\u001b[1;32m   1327\u001b[0m \u001b[0;34m\u001b[0m\u001b[0m\n\u001b[1;32m   1328\u001b[0m     \u001b[0;32mdef\u001b[0m \u001b[0m_slices_from_text\u001b[0m\u001b[0;34m(\u001b[0m\u001b[0mself\u001b[0m\u001b[0;34m,\u001b[0m \u001b[0mtext\u001b[0m\u001b[0;34m)\u001b[0m\u001b[0;34m:\u001b[0m\u001b[0;34m\u001b[0m\u001b[0;34m\u001b[0m\u001b[0m\n",
      "\u001b[0;32m~/opt/anaconda3/lib/python3.8/site-packages/nltk/tokenize/punkt.py\u001b[0m in \u001b[0;36m<listcomp>\u001b[0;34m(.0)\u001b[0m\n\u001b[1;32m   1324\u001b[0m         \u001b[0mfollows\u001b[0m \u001b[0mthe\u001b[0m \u001b[0mperiod\u001b[0m\u001b[0;34m.\u001b[0m\u001b[0;34m\u001b[0m\u001b[0;34m\u001b[0m\u001b[0m\n\u001b[1;32m   1325\u001b[0m         \"\"\"\n\u001b[0;32m-> 1326\u001b[0;31m         \u001b[0;32mreturn\u001b[0m \u001b[0;34m[\u001b[0m\u001b[0mtext\u001b[0m\u001b[0;34m[\u001b[0m\u001b[0ms\u001b[0m\u001b[0;34m:\u001b[0m\u001b[0me\u001b[0m\u001b[0;34m]\u001b[0m \u001b[0;32mfor\u001b[0m \u001b[0ms\u001b[0m\u001b[0;34m,\u001b[0m \u001b[0me\u001b[0m \u001b[0;32min\u001b[0m \u001b[0mself\u001b[0m\u001b[0;34m.\u001b[0m\u001b[0mspan_tokenize\u001b[0m\u001b[0;34m(\u001b[0m\u001b[0mtext\u001b[0m\u001b[0;34m,\u001b[0m \u001b[0mrealign_boundaries\u001b[0m\u001b[0;34m)\u001b[0m\u001b[0;34m]\u001b[0m\u001b[0;34m\u001b[0m\u001b[0;34m\u001b[0m\u001b[0m\n\u001b[0m\u001b[1;32m   1327\u001b[0m \u001b[0;34m\u001b[0m\u001b[0m\n\u001b[1;32m   1328\u001b[0m     \u001b[0;32mdef\u001b[0m \u001b[0m_slices_from_text\u001b[0m\u001b[0;34m(\u001b[0m\u001b[0mself\u001b[0m\u001b[0;34m,\u001b[0m \u001b[0mtext\u001b[0m\u001b[0;34m)\u001b[0m\u001b[0;34m:\u001b[0m\u001b[0;34m\u001b[0m\u001b[0;34m\u001b[0m\u001b[0m\n",
      "\u001b[0;32m~/opt/anaconda3/lib/python3.8/site-packages/nltk/tokenize/punkt.py\u001b[0m in \u001b[0;36mspan_tokenize\u001b[0;34m(self, text, realign_boundaries)\u001b[0m\n\u001b[1;32m   1314\u001b[0m         \u001b[0;32mif\u001b[0m \u001b[0mrealign_boundaries\u001b[0m\u001b[0;34m:\u001b[0m\u001b[0;34m\u001b[0m\u001b[0;34m\u001b[0m\u001b[0m\n\u001b[1;32m   1315\u001b[0m             \u001b[0mslices\u001b[0m \u001b[0;34m=\u001b[0m \u001b[0mself\u001b[0m\u001b[0;34m.\u001b[0m\u001b[0m_realign_boundaries\u001b[0m\u001b[0;34m(\u001b[0m\u001b[0mtext\u001b[0m\u001b[0;34m,\u001b[0m \u001b[0mslices\u001b[0m\u001b[0;34m)\u001b[0m\u001b[0;34m\u001b[0m\u001b[0;34m\u001b[0m\u001b[0m\n\u001b[0;32m-> 1316\u001b[0;31m         \u001b[0;32mfor\u001b[0m \u001b[0msl\u001b[0m \u001b[0;32min\u001b[0m \u001b[0mslices\u001b[0m\u001b[0;34m:\u001b[0m\u001b[0;34m\u001b[0m\u001b[0;34m\u001b[0m\u001b[0m\n\u001b[0m\u001b[1;32m   1317\u001b[0m             \u001b[0;32myield\u001b[0m \u001b[0;34m(\u001b[0m\u001b[0msl\u001b[0m\u001b[0;34m.\u001b[0m\u001b[0mstart\u001b[0m\u001b[0;34m,\u001b[0m \u001b[0msl\u001b[0m\u001b[0;34m.\u001b[0m\u001b[0mstop\u001b[0m\u001b[0;34m)\u001b[0m\u001b[0;34m\u001b[0m\u001b[0;34m\u001b[0m\u001b[0m\n\u001b[1;32m   1318\u001b[0m \u001b[0;34m\u001b[0m\u001b[0m\n",
      "\u001b[0;32m~/opt/anaconda3/lib/python3.8/site-packages/nltk/tokenize/punkt.py\u001b[0m in \u001b[0;36m_realign_boundaries\u001b[0;34m(self, text, slices)\u001b[0m\n\u001b[1;32m   1355\u001b[0m         \"\"\"\n\u001b[1;32m   1356\u001b[0m         \u001b[0mrealign\u001b[0m \u001b[0;34m=\u001b[0m \u001b[0;36m0\u001b[0m\u001b[0;34m\u001b[0m\u001b[0;34m\u001b[0m\u001b[0m\n\u001b[0;32m-> 1357\u001b[0;31m         \u001b[0;32mfor\u001b[0m \u001b[0msl1\u001b[0m\u001b[0;34m,\u001b[0m \u001b[0msl2\u001b[0m \u001b[0;32min\u001b[0m \u001b[0m_pair_iter\u001b[0m\u001b[0;34m(\u001b[0m\u001b[0mslices\u001b[0m\u001b[0;34m)\u001b[0m\u001b[0;34m:\u001b[0m\u001b[0;34m\u001b[0m\u001b[0;34m\u001b[0m\u001b[0m\n\u001b[0m\u001b[1;32m   1358\u001b[0m             \u001b[0msl1\u001b[0m \u001b[0;34m=\u001b[0m \u001b[0mslice\u001b[0m\u001b[0;34m(\u001b[0m\u001b[0msl1\u001b[0m\u001b[0;34m.\u001b[0m\u001b[0mstart\u001b[0m \u001b[0;34m+\u001b[0m \u001b[0mrealign\u001b[0m\u001b[0;34m,\u001b[0m \u001b[0msl1\u001b[0m\u001b[0;34m.\u001b[0m\u001b[0mstop\u001b[0m\u001b[0;34m)\u001b[0m\u001b[0;34m\u001b[0m\u001b[0;34m\u001b[0m\u001b[0m\n\u001b[1;32m   1359\u001b[0m             \u001b[0;32mif\u001b[0m \u001b[0;32mnot\u001b[0m \u001b[0msl2\u001b[0m\u001b[0;34m:\u001b[0m\u001b[0;34m\u001b[0m\u001b[0;34m\u001b[0m\u001b[0m\n",
      "\u001b[0;32m~/opt/anaconda3/lib/python3.8/site-packages/nltk/tokenize/punkt.py\u001b[0m in \u001b[0;36m_pair_iter\u001b[0;34m(it)\u001b[0m\n\u001b[1;32m    312\u001b[0m     \u001b[0mit\u001b[0m \u001b[0;34m=\u001b[0m \u001b[0miter\u001b[0m\u001b[0;34m(\u001b[0m\u001b[0mit\u001b[0m\u001b[0;34m)\u001b[0m\u001b[0;34m\u001b[0m\u001b[0;34m\u001b[0m\u001b[0m\n\u001b[1;32m    313\u001b[0m     \u001b[0;32mtry\u001b[0m\u001b[0;34m:\u001b[0m\u001b[0;34m\u001b[0m\u001b[0;34m\u001b[0m\u001b[0m\n\u001b[0;32m--> 314\u001b[0;31m         \u001b[0mprev\u001b[0m \u001b[0;34m=\u001b[0m \u001b[0mnext\u001b[0m\u001b[0;34m(\u001b[0m\u001b[0mit\u001b[0m\u001b[0;34m)\u001b[0m\u001b[0;34m\u001b[0m\u001b[0;34m\u001b[0m\u001b[0m\n\u001b[0m\u001b[1;32m    315\u001b[0m     \u001b[0;32mexcept\u001b[0m \u001b[0mStopIteration\u001b[0m\u001b[0;34m:\u001b[0m\u001b[0;34m\u001b[0m\u001b[0;34m\u001b[0m\u001b[0m\n\u001b[1;32m    316\u001b[0m         \u001b[0;32mreturn\u001b[0m\u001b[0;34m\u001b[0m\u001b[0;34m\u001b[0m\u001b[0m\n",
      "\u001b[0;32m~/opt/anaconda3/lib/python3.8/site-packages/nltk/tokenize/punkt.py\u001b[0m in \u001b[0;36m_slices_from_text\u001b[0;34m(self, text)\u001b[0m\n\u001b[1;32m   1328\u001b[0m     \u001b[0;32mdef\u001b[0m \u001b[0m_slices_from_text\u001b[0m\u001b[0;34m(\u001b[0m\u001b[0mself\u001b[0m\u001b[0;34m,\u001b[0m \u001b[0mtext\u001b[0m\u001b[0;34m)\u001b[0m\u001b[0;34m:\u001b[0m\u001b[0;34m\u001b[0m\u001b[0;34m\u001b[0m\u001b[0m\n\u001b[1;32m   1329\u001b[0m         \u001b[0mlast_break\u001b[0m \u001b[0;34m=\u001b[0m \u001b[0;36m0\u001b[0m\u001b[0;34m\u001b[0m\u001b[0;34m\u001b[0m\u001b[0m\n\u001b[0;32m-> 1330\u001b[0;31m         \u001b[0;32mfor\u001b[0m \u001b[0mmatch\u001b[0m \u001b[0;32min\u001b[0m \u001b[0mself\u001b[0m\u001b[0;34m.\u001b[0m\u001b[0m_lang_vars\u001b[0m\u001b[0;34m.\u001b[0m\u001b[0mperiod_context_re\u001b[0m\u001b[0;34m(\u001b[0m\u001b[0;34m)\u001b[0m\u001b[0;34m.\u001b[0m\u001b[0mfinditer\u001b[0m\u001b[0;34m(\u001b[0m\u001b[0mtext\u001b[0m\u001b[0;34m)\u001b[0m\u001b[0;34m:\u001b[0m\u001b[0;34m\u001b[0m\u001b[0;34m\u001b[0m\u001b[0m\n\u001b[0m\u001b[1;32m   1331\u001b[0m             \u001b[0mcontext\u001b[0m \u001b[0;34m=\u001b[0m \u001b[0mmatch\u001b[0m\u001b[0;34m.\u001b[0m\u001b[0mgroup\u001b[0m\u001b[0;34m(\u001b[0m\u001b[0;34m)\u001b[0m \u001b[0;34m+\u001b[0m \u001b[0mmatch\u001b[0m\u001b[0;34m.\u001b[0m\u001b[0mgroup\u001b[0m\u001b[0;34m(\u001b[0m\u001b[0;34m\"after_tok\"\u001b[0m\u001b[0;34m)\u001b[0m\u001b[0;34m\u001b[0m\u001b[0;34m\u001b[0m\u001b[0m\n\u001b[1;32m   1332\u001b[0m             \u001b[0;32mif\u001b[0m \u001b[0mself\u001b[0m\u001b[0;34m.\u001b[0m\u001b[0mtext_contains_sentbreak\u001b[0m\u001b[0;34m(\u001b[0m\u001b[0mcontext\u001b[0m\u001b[0;34m)\u001b[0m\u001b[0;34m:\u001b[0m\u001b[0;34m\u001b[0m\u001b[0;34m\u001b[0m\u001b[0m\n",
      "\u001b[0;31mTypeError\u001b[0m: expected string or bytes-like object"
     ]
    }
   ],
   "source": [
    "palavras = word_tokenize(data)"
   ]
  },
  {
   "cell_type": "code",
   "execution_count": 176,
   "id": "entire-senate",
   "metadata": {},
   "outputs": [],
   "source": [
    "with open('tmp.csv','r') as file:\n",
    "    creams = file.read()"
   ]
  },
  {
   "cell_type": "code",
   "execution_count": 177,
   "id": "bulgarian-villa",
   "metadata": {
    "collapsed": true,
    "jupyter": {
     "outputs_hidden": true
    }
   },
   "outputs": [
    {
     "name": "stdout",
     "output_type": "stream",
     "text": [
      "                                   S.       R.\n",
      "          TRIBUNAL CENTRAL DE INSTRUÇÃO CRIMINAL\n",
      "\n",
      "\n",
      "\n",
      "\n",
      "NUIPC: 122/13.8TELSB\n",
      "\n",
      "\n",
      "\n",
      "\n",
      "                    DECISÃO INSTRUTÓRIA\n",
      "\n",
      "\n",
      "\n",
      "\n",
      "     CAPÍTULO I\n",
      "\n",
      "\n",
      "     I – RELATÓRIO\n",
      "\n",
      "\n",
      "     1.1 - A Acusação\n",
      "\n",
      "\n",
      "     Foi imputado em sede de acusação aos arguidos:\n",
      "\n",
      "\n",
      "      JOSÉ SÓCRATES CARVALHO PINTO DE SOUSA\n",
      "\n",
      "\n",
      "      - Um Crime de Corrupção Passiva de Titular de Cargo Político, em\n",
      "co-autoria com o arguido Carlos Santos Silva, com referência a actos\n",
      "praticados no interesse do Grupo LENA entre 2005 e 2011, crime p. e p. pelas\n",
      "disposições conjugadas dos art.º 1.°, 2.°, 3.°, n.º 1, alínea d), 17.°, n.º 1 e 19.°,\n",
      "n.ºs 2 e 3 da Lei n.º 34/87, de 16 de Julho, na redacção introduzida pela Lei n.º\n",
      "108/2001, de 28 de Novembro (Lei dos Crimes de Responsabilidade dos\n",
      "                                                                                   1\n",
      "\f",
      "\n",
      "\n",
      "                                   S.       R.\n",
      "          TRIBUNAL CENTRAL DE INSTRUÇÃO CRIMINAL\n",
      "\n",
      "\n",
      "Titulares de Cargos Políticos), com referência aos art.º 28.° e 202.°, alínea b)\n",
      "do Código Penal;\n",
      "      - Um Crime de Corrupção Passiva de Titular de Cargo Político,\n",
      "com referência a actos praticados no interesse do arguido Ricardo Salgado,\n",
      "relativamente a negócios do Grupo PORTUGAL TELECOM e GES, crime p.\n",
      "e p. pelas disposições conjugadas dos art.º lº, 2.°, 3.°, n.º 1, alínea d), 17.°, n.º\n",
      "1 e 19.°, n.ºs 2 e 3 da Lei n.º 34/87, de 16 de Julho, na redacção introduzida\n",
      "pela Lei n° 108/2001, de 28 de Novembro(Lei dos Crimes de\n",
      "Responsabilidade dos Titulares de Cargos Políticos), com referência aos art.º\n",
      "28.° e 202.°, alínea b) do Código Penal;\n",
      "      - Um Crime de Corrupção Passiva de Titular de Cargo Político, em\n",
      "co-autoria com o arguido Armando Vara, com referencia a atos praticados no\n",
      "interesse dos arguidos Diogo Gaspar Ferreira e Rui Horta e Costa com\n",
      "utilização das sociedades do Grupo VALE DO LOBO, crime p. e p. pelas\n",
      "disposições conjugadas dos art.º 1º, 2.°, 3.°, n.º 1, alínea d), 17.°, n.º 1 e 19°.,\n",
      "n.ºs 2 e 3 da Lei 34/87, de 16 de julho, na redacção introduzida pela Lei n°\n",
      "108/2001, de 28 de Novembro- Lei dos Crimes de Responsabilidade dos\n",
      "Titulares de Cargos Políticos, com referência aos art.º 28.° e 202.°, alínea b)\n",
      "do Código Penal;\n",
      "      - Um CRIME DE BRANQUEAMENTO, em co-autoria com os\n",
      "arguidos CARLOS SANTOS SILVA e JOAQUIM BARROCA relativamente\n",
      "aos movimentos financeiros com origem no Grupo LENA e com passagem\n",
      "pelas contas da Suíça tituladas por este último arguido e realizados a partir de\n",
      "2007, crime p. e p. pelo art.368°-A, n° 1, 2 e 3 do Código Penal;\n",
      "\n",
      "\n",
      "                                                                                   2\n",
      "\f",
      "\n",
      "\n",
      "                                  S.       R.\n",
      "           TRIBUNAL CENTRAL DE INSTRUÇÃO CRIMINAL\n",
      "\n",
      "\n",
      "      - Um CRIME DE BRANQUEAMENTO, em co-autoria com os\n",
      "arguidos CARLOS SANTOS SILVA, JOAQUIM BARROCA e com as\n",
      "sociedades LEC S.A. e XLM, relativamente a utilização desta última\n",
      "sociedade, entre 2009 e 2015, para a colocação de fundos destinados ao\n",
      "arguido JOSÉ SÓCRATES e utilização dos mesmos no seu interesse através\n",
      "do pagamento directo de despesas ou por distribuição de dividendos para\n",
      "contas tituladas pelo arguido CARLOS SANTOS SILVA, crime p. e p. pelo\n",
      "art.368°-A, n° 1, 2 e 3 do Código Penal;\n",
      "      - Um CRIME DE BRANQUEAMENTO, em co-autoria com os\n",
      "arguidos CARLOS SANTOS SILVA, JOAQUIM BARROCA, RUI MÃO DE\n",
      "FERRO e com as sociedades LEC SA, XLM e RMF CONSULTING,\n",
      "relativamente a utilização desta última sociedade, entre 2010 e 2014, para a\n",
      "colocação de fundos destinados ao arguido JOSÉ SOCRATES e utilização dos\n",
      "mesmos no seu interesse através do pagamento de despesas suas e colocação\n",
      "de numerário a sua disposição, crime p. e p. pelo art.º 368. °-A, n.ºs 1, 2 e 3 do\n",
      "Código Penal;\n",
      "      - Um CRIME DE BRANQUEAMENTO, em co-autoria com os\n",
      "arguidos    RICARDO       SALGADO,         HÉLDER       BATAGLIA,      CARLOS\n",
      "SANTOS SILVA e JOSÉ PAULO PINTO DE SOUSA, relativamente a\n",
      "utilização, entre 2006 e 2008, de contas na Suíça em que este último era\n",
      "autorizado e operações financeiras realizadas a partir das mesmas, crime p. e\n",
      "p. pelo art.º 368. °-A, n.ºs 1,2 e 3 do Código Penal;\n",
      "      - Um CRIME DE BRANQUEAMENTO, em co-autoria com os\n",
      "arguidos RICARDO SALGADO, HÉLDER BATAGLIA, JOSÉ PAULO\n",
      "PINTO DE SOUSA e CARLOS SANTOS SILVA relativamente aos\n",
      "                                                                                3\n",
      "\f",
      "\n",
      "\n",
      "                                  S.       R.\n",
      "           TRIBUNAL CENTRAL DE INSTRUÇÃO CRIMINAL\n",
      "\n",
      "\n",
      "movimentos financeiros justificados pelos contratos PINSONG, realizados no\n",
      "ano de 2007 e até ao início de 2008, com origem em conta da Suíça da ES\n",
      "ENTERPRISES, crime p. e p. pelo art.368°-A, n° 1, 2 e 3 do Código Penal;\n",
      "      - Um CRIME DE BRANQUEAMENTO, em co-autoria com os\n",
      "arguidos    RICARDO       SALGADO,        HELDER       BATAGLIA,    CARLOS\n",
      "SANTOS SILVA e JOAQUIM BARROCA relativamente aos movimentos\n",
      "financeiros justificados pelos contratos PINSONG, realizados a partir de Abril\n",
      "de 2008, com origem em conta na Suíça da ES ENTERPRISES e com\n",
      "intervenção das contas da Suíça do arguido JOAQUIM BARROCA, crime p.\n",
      "e p. pelo art.º 368. °-A, n.ºs 1, 2 e 3 do Código Penal;\n",
      "      - Um CRIME DE BRANQUEAMENTO, em co-autoria com os\n",
      "arguidos RICARDO SALGADO, HÉLDER BATAGLIA, JOAQUIM\n",
      "BARROCA e CARLOS SANTOS SILVA e com as sociedades LEC SA, LEC\n",
      "SGPS, LENA SGPS e XLM, relativamente aos movimentos financeiros,\n",
      "ocorridos a partir de 2010, abrangidos pela operação CEL_2010, justificados\n",
      "através de contrato promessa de compra e venda com perda de sinal referente\n",
      "ao imóvel KANHANGULO, sito em Luanda, e introdução desses fundos no\n",
      "Grupo LENA, crime p. e p. pelo art.º 368.°-A, n.ºs 1, 2 e 3 do Código Penal;\n",
      "      - Um CRIME DE BRANQUEAMENTO, em co-autoria com os\n",
      "arguidos CARLOS SANTOS SILVA, JOAQUIM BARROCA, ARMANDO\n",
      "VARA, DIOGO GASPAR FERREIRA, RUI HORTA E COSTA e\n",
      "BÁRBARA VARA, relativamente as transferências com origem em conta do\n",
      "cidadão holandês Van Doreen, referentes aos financiamentos concedidos ao\n",
      "Grupo VALE DO LOBO, com passagem por conta bancaria da Suíça do\n",
      "\n",
      "\n",
      "                                                                               4\n",
      "\f",
      "\n",
      "\n",
      "                                  S.       R.\n",
      "           TRIBUNAL CENTRAL DE INSTRUÇÃO CRIMINAL\n",
      "\n",
      "\n",
      "arguido JOAQUIM BARROCA, crime p. e p. pelo art.368°-A, nºs l, 2 e 3 do\n",
      "Código Penal;\n",
      "      - Um CRIME DE BRANQUEAMENTO, em co-autoria com o\n",
      "arguido CARLOS SANTOS SILVA relativamente a concentração dos fundos\n",
      "em novas contas bancarias da Suíça tituladas por sociedades em offshore\n",
      "controladas por CARLOS SANTOS SILVA e sua transferência para contas\n",
      "tituladas por este último arguido em Portugal, ao abrigo do RERT II, crime p.\n",
      "e p. pelo art.º 368. °-A, n°s 1, 2 e 3 do Código Penal;\n",
      "      - Um CRIME DE BRANQUEAMENTO, em co-autoria com o\n",
      "arguido CARLOS SANTOS SILVA relativamente a dissipação dos fundos\n",
      "por outras contas em Portugal, de que este último arguido era titular e\n",
      "autorizado, e a confusão de patrimónios de ambos nessas contas bancarias,\n",
      "crime p. e p. pelo art.º 368. °-A, n.ºs 1, 2 e 3 do Código Penal;\n",
      "      - Um CRIME DE BRANQUEAMENTO, em co-autoria com os\n",
      "arguidos CARLOS SANTOS SILVA e GONÇALO FERREIRA, quanto a\n",
      "aquisição de imóveis em Portugal com o retomo do preço pago para a esfera\n",
      "patrimonial do arguido JOSE SOCRATES, de forma justificada, factos\n",
      "ocorridos entre 2010 e 2012, crime p. e p. pelo art.º 368. °-A, n.ºs 1, 2 e 3 do\n",
      "Código Penal;\n",
      "      - Um CRIME DE BRANQUEAMENTO, em co-autoria com os\n",
      "arguidos    CARLOS       SANTOS        SILVA     e   GONÇALO        FERREIRA,\n",
      "relativamente a aquisição e subsequente arrendamento de um imóvel em Paris,\n",
      "com intenção de ocultação da titularidade do activo, factos praticados entre\n",
      "2012 e 2014, crime p. e p. pelo art.º 368. °-A, n°s 1, 2 e 3 do Código Penal;\n",
      "\n",
      "\n",
      "                                                                                5\n",
      "\f",
      "\n",
      "\n",
      "                                 S.       R.\n",
      "           TRIBUNAL CENTRAL DE INSTRUÇÃO CRIMINAL\n",
      "\n",
      "\n",
      "      - Um CRIME DE BRANQUEAMENTO, em co-autoria com os\n",
      "arguidos    GONÇALO        FERREIRA       e    CARLOS      SANTOS      SILVA,\n",
      "relativamente a entrega por este último arguido de quantias pertencentes ao\n",
      "arguido JOSÉ SÓCRATES para depósito em contas bancarias do arguido\n",
      "GONÇALO FERREIRA e para guardar em cofre bancário e em contas\n",
      "tituladas pelo mesmo, de forma a ocultar a propriedade desses valores pelo\n",
      "arguido JOSÉ SÓCRATES, factos ocorridos nos anos de 2012 e 2013, crime\n",
      "p. e p. pelo art.368°-A, n° 1, 2 e 3 do Código Penal;\n",
      "      - Um CRIME DE BRANQUEAMENTO, em co-autoria com os\n",
      "arguidos CARLOS SANTOS SILVA e INÊS DO ROSÁRIO, relativamente a\n",
      "utilização das contas bancárias desta ultima arguida junto do MONTEPIO\n",
      "GERAL e a recepção pela mesma de fundos, provenientes do arguido\n",
      "CARLOS SANTOS SILVA para entrega ao arguido JOSÉ SÓCRATES,\n",
      "ocultando a propriedade das mesmas quantias por este último, factos ocorridos\n",
      "nos anos de 2013 e 2014, crime p. e p. pelo art.º 368. °-A, n.ºs 1, 2 e 3 do\n",
      "Código Penal;\n",
      "      - Um CRIME DE BRANQUEAMENTO, em co-autoria com os\n",
      "arguidos CARLOS SANTOS SILVA e JOÃO PERNA, relativos a utilização\n",
      "das contas tituladas por este último em Portugal como contas de passagem de\n",
      "fundos de origem ilícita provenientes do arguido CARLOS SANTOS SILVA\n",
      "e destinados a esfera patrimonial do arguido JOSÉ SÓCRATES, operações\n",
      "ocorridas entre 2011 e 2014, crime p. e p. pelo art.º 368. °-A, n.ºs l, 2 e 3 do\n",
      "Código Penal;\n",
      "      - Um CRIME DE BRANQUEAMENTO, em co-autoria com os\n",
      "arguidos CARLOS SANTOS SILVA e SOFIA FAVA relativamente à\n",
      "                                                                              6\n",
      "\f",
      "\n",
      "\n",
      "                                   S.        R.\n",
      "          TRIBUNAL CENTRAL DE INSTRUÇÃO CRIMINAL\n",
      "\n",
      "\n",
      "aquisição de um imóvel, designado “Monte das Margaridas”, com intenção de\n",
      "que passasse a integrar o património familiar do arguido JOSÉ SÓCRATES,\n",
      "com registo em nome de terceiro e montagem de operação de financiamento e\n",
      "formas de custear as prestações da mesma, factos ocorridos entre 2011 e 2014,\n",
      "crime p. e p. pelo art.º 368. °-A, n.ºs 1, 2 e 3 do Código Penal;\n",
      "      - Um CRIME DE FALSIFICAÇÃO DE DOCUMENTO, em co-\n",
      "autoria com o arguido CARLOS SANTOS SIVA, relativamente a declaração\n",
      "de adesão ao RERT II e outra documentação produzida e utilizada para esse\n",
      "efeito, no que se reporta a titularidade dos elementos patrimoniais declarados,\n",
      "concentrados nas contas da Suíça até final do ano de 2010, crime p. e p. pelo\n",
      "art.º 256. °, n.º 1, alíneas a), d) e e) do Código Penal;\n",
      "      - Um CRIME DE FALSIFICAÇÃO DE DOCUMENTO, em co-\n",
      "autoria com os arguidos CARLOS SANTOS SILVA e JOAQUIM\n",
      "BARROCA, relativamente ao primeiro contrato de prestação de serviços\n",
      "celebrado entre a LEC S.A. e a XLM, facturas e outra documentação\n",
      "produzida ao abrigo do mesmo, factos ocorridos a partir de 2009, crime p. e p.\n",
      "pelo art.º 256. °, n.º l, alíneas a), d) e e) do Código Penal;\n",
      "      - Um CRIME DE FALSIFICAÇÃO DE DOCUMENTO, em co-\n",
      "autoria com os arguidos CARLOS SANTOS SILVA e RUI MÃO DE FERRO\n",
      "com referência aos contratos de prestação de serviços celebrados entre as\n",
      "sociedades XLM e RMF CONSULTING, bem como facturas e outra\n",
      "documentação produzida ao abrigo dos mesmos, que serviram de suporte a\n",
      "circulação de quantias entre estas sociedades, com origem e destino no\n",
      "arguido JOSE SOCRATES, crime p. e p. pelo art.º 256. °, n.º l, alíneas a), d) e\n",
      "e) do Código Penal;\n",
      "                                                                             7\n",
      "\f",
      "\n",
      "\n",
      "                                   S.        R.\n",
      "          TRIBUNAL CENTRAL DE INSTRUÇÃO CRIMINAL\n",
      "\n",
      "\n",
      "      - Um CRIME DE FALSIFICAÇÃO DE DOCUMENTO, em co-\n",
      "autoria com os arguidos CARLOS SANTOS SILVA, RICARDO SALGADO,\n",
      "HÉLDER BATAGLIA e JOAQUIM BARROCA, relativamente aos factos\n",
      "referentes ao conjunto de documentos que incluem o contrato promessa de\n",
      "compra e venda de imóvel em Angola, denominado KANHANGULO,\n",
      "contrato de intermediação AII e XLM, cartas de admissão do seu\n",
      "incumprimento e perda de sinal e celebração de segundo contrato de prestação\n",
      "de serviços entre a LEC e a XLM, bem como facturas e outra documentação\n",
      "produzida ao abrigo destes contratos, factos ocorridos a partir de 2010, crime\n",
      "p. e p. pelo art.º 256.°, n.º l, alíneas a), d) e e) do Código Penal;\n",
      "      - Um CRIME DE FALSIFICAÇÃO DE DOCUMENTO, em co-\n",
      "autoria com os arguidos CARLOS SANTOS SILVA e SOFIA FAVA, com\n",
      "referência aos contratos de prestação de serviços celebrados entra a XLM e\n",
      "arguida SOFIA FAVA, que serviram de suporte ao recebimento de quantias\n",
      "por esta última com origem no arguido JOSÉ SÓCRATES, crime p. e p. pelo\n",
      "art.º 256. °, n.º l, alíneas a), d) e e) do Código Penal;\n",
      "      - Um CRIME DE FALSIFICAÇÃO DE DOCUMENTO, em co-\n",
      "autoria com o arguido CARLOS SANTOS SILVA, com referência aos\n",
      "contratos de prestação de serviços celebrados entre a sociedade XLM e Ana\n",
      "Bessa, bem como facturas e outra documentação produzida ao abrigo dos\n",
      "mesmos, que serviram de suporte ao recebimento de quantias por esta ultima\n",
      "com origem no arguido JOSÉ SÓCRATES, crime p. e p. pelo art.º 256. °, n.º l,\n",
      "alíneas a), d) e e) do Código Penal;\n",
      "      - Um CRIME DE FALSIFICAÇÃO DE DOCUMENTO, em co-\n",
      "autoria com os arguidos CARLOS SANTOS SILVA e RUI MAO DE FERRO\n",
      "                                                                            8\n",
      "\f",
      "\n",
      "\n",
      "                                  S.        R.\n",
      "          TRIBUNAL CENTRAL DE INSTRUÇÃO CRIMINAL\n",
      "\n",
      "\n",
      "com referência aos contratos de prestação de serviços celebrados entre a\n",
      "sociedade RMF CONSULTING e Domingos Farinho e Jane Kirkby, bem\n",
      "como facturas e outra documentação produzida ao abrigo dos mesmos, que\n",
      "serviram de suporte ao recebimento de quantias por estes últimos com origem\n",
      "no arguido JOSÉ SÓCRATES, crime p. e p. pelo art.º 256. °, n.º l, alíneas a),\n",
      "d) e e) do Código Penal;\n",
      "      - Um CRIME DE FALSIFICAÇÃO DE DOCUMENTO, em co-\n",
      "autoria com os arguidos CARLOS SANTOS SILVA e RUI MÃO DE FERRO\n",
      "com referência aos contratos de prestação de serviços celebrados entre a\n",
      "sociedade RMF CONSULTING e António Manuel Peixoto e António Mega\n",
      "Peixoto, bem como facturas e outra documentação produzida ao abrigo dos\n",
      "mesmos, que serviram de suporte ao recebimento de quantias por estes últimos\n",
      "com origem no arguido JOSÉ SÓCRATES, crime p. e p. pelo art.º 256.°, n.º l,\n",
      "alíneas a), d) e e) do Código Penal;\n",
      "      - Um CRIME DE FALSIFICAÇÃO DE DOCUMENTO, em co-\n",
      "autoria com os arguidos GONCALO FERREIRA e CARLOS SANTOS\n",
      "SILVA, relativamente a produção e uso de documentação referente a\n",
      "aquisição e subsequente arrendamento do apartamento\n",
      "de Paris, sito na Av. President Wilson, crime p. e p. pelo art.º 256. °, n.º l\n",
      "alíneas a), d) e e) do Código Penal;\n",
      "      - Um CRIME DE FRAUDE FISCAL QUALIFICADA, de que foi\n",
      "beneficiário, em co-autoria com o arguido CARLOS SANTOS SILVA, no que\n",
      "tange ao IRS apurado quanto aos anos de 2006 a 2009, crime p. e p. pelos arts.\n",
      "l03°-l a), b) e c) e 104°- 1 d), e) e f) do RGIT;\n",
      "\n",
      "\n",
      "                                                                            9\n",
      "\f",
      "\n",
      "\n",
      "                                   S.        R.\n",
      "          TRIBUNAL CENTRAL DE INSTRUÇÃO CRIMINAL\n",
      "\n",
      "\n",
      "      - Um CRIME DE FRAUDE FISCAL QUALIFICADA, de que foi\n",
      "beneficiário, em co-autoria, com os arguidos JOAQUIM BARROCA,\n",
      "CARLOS SANTOS SILVA, LENA ENGENHARIA E CONSTRUCOES SA\n",
      "e XLM - SOCIEDADE DE ESTUDOS E\n",
      "PROJECTOS LDA, no que tange ao IRS apurado quanto aos anos de 2009 a\n",
      "2012, crime p. e p. pelos arts l03. °-l a), b) e c) e 104. °- 1 d), e) e f) e n.º 2 do\n",
      "RGIT, atualmente n.º 2 alínea a) do art.º l04. ° do RGIT;\n",
      "      - Um CRIME DE FRAUDE FISCAL QUALIFICADA, de que foi\n",
      "beneficiário, em co-autoria, com os arguidos JOAQUIM BARROCA,\n",
      "CARLOS SANTOS SILVA, LENA ENGENHARIA E CONSTRUCOES SA\n",
      "e XLM - SOCIEDADE DE ESTUDOS E PROJECTOS LDA no que tange ao\n",
      "IRS apurado quanto aos anos de 2013 a 2015, crime p. e p. pelos arts l03. °-l\n",
      "a), b) e c) e 104°- 1 d), e) e n.º 2 alínea a) e n.º 3 do RGIT.\n",
      "\n",
      "\n",
      "      CARLOS MANUEL DOS SANTOS SILVA\n",
      "\n",
      "\n",
      "      - Um CRIME DE CORRUPÇÃO PASSIVA DE TITULAR DE\n",
      "CARGO POLÍTICO, em co-autoria com o arguido JOSÉ SÓCRATES, com\n",
      "referência a actos praticados no interesse do Grupo LENA entre 2005 e 2011,\n",
      "crime p. e p. pelas disposições conjugadas dos arts lº, 2.°, 3.°, n.º 1, alínea d),\n",
      "17.°, n.º 1 e 19.°, n.ºs 2 e 3 da Lei 34/87, de 16 de Julho, na redacção\n",
      "introduzida pela Lei n° 108/2001, de 28 de Novembro- Lei dos Crimes de\n",
      "Responsabilidade dos Titulares de Cargos Políticos, com referência aos arts\n",
      "28.° e 202.°, alínea b) do Código Penal;\n",
      "\n",
      "\n",
      "                                                                                   10\n",
      "\f",
      "\n",
      "\n",
      "                                  S.     R.\n",
      "          TRIBUNAL CENTRAL DE INSTRUÇÃO CRIMINAL\n",
      "\n",
      "\n",
      "      - Um CRIME DE CORRUPÇÃO ACTIVA, em co-autoria com os\n",
      "arguidos JOAQUIM BARROCA e JOSÉ RIBEIRO DOS SANTOS e com as\n",
      "sociedades XMI, LEC SA, LEC SGPS e LENA SA, relativamente ao\n",
      "funcionário LUÍS MARQUES, nos anos de 2007 a 2009, crime p. e p. pelo\n",
      "art.º 374. °, n.º l do Código Penal;\n",
      "      - Um CRIME DE BRANQUEAMENTO, em co-autoria com os\n",
      "arguidos JOSÉ SÓCRATES e JOAQUIM BARROCA relativamente aos\n",
      "movimentos financeiros com origem no Grupo LENA e com passagem pelas\n",
      "contas da Suíça deste último arguido e realizados a partir de 2007, crime p. e\n",
      "p. pelo art.368°-A, n° 1, 2 e 3 do Código Penal;\n",
      "      - Um CRIME DE BRANQUEAMENTO, em co-autoria com os\n",
      "arguidos JOSÉ SÓCRATES e JOAQUIM BARROCA e com as sociedades\n",
      "LEC SA. e XLM, relativamente a utilização desta ultima sociedade, entre\n",
      "2009 e 2015, para a colocação de fundos destinados ao arguido JOSÉ\n",
      "SÓCRATES e sua utilização dos mesmos no seu interesse através do\n",
      "pagamento de despesas ou por distribuição de dividendos para contas tituladas\n",
      "pelo arguido CARLOS SANTOS SILVA, crime p. e p. pelo art.º 368.°-A, n.ºs\n",
      "1, 2 e 3 do Código Penal;\n",
      "      - Um CRIME DE BRANQUEAMENTO, em co-autoria com os\n",
      "arguidos JOSÉ SÓCRATES, JOAQUIM BARROCA e RUI MÃO DE\n",
      "FERRO e com as sociedades LEC SA, XLM e RMF CONSULTING,\n",
      "relativamente a utilização desta última sociedade, entre 2010 e 2014, para a\n",
      "colocação de fundos destinados ao arguido JOSÉ SÓCRATES e utilização dos\n",
      "mesmos no seu interesse através do pagamento de despesas e colocação de\n",
      "\n",
      "\n",
      "                                                                           11\n",
      "\f",
      "\n",
      "\n",
      "                                  S.       R.\n",
      "          TRIBUNAL CENTRAL DE INSTRUÇÃO CRIMINAL\n",
      "\n",
      "\n",
      "numerário a sua disposição, entre 2010 e 2014, crime p. e p. pelo art.º 368.°-A,\n",
      "n.ºs 1, 2 e 3 do Código Penal;\n",
      "      - Um CRIME DE BRANQUEAMENTO, em co-autoria com os\n",
      "arguidos JOAQUIM BARROCA, JOSÉ LUÍS RIBEIRO DOS SANTOS,\n",
      "LUÌS MARQUES e com a sociedade XMI, relativamente a utilização desta\n",
      "última sociedade e sua contabilidade para a colocação de fundos na esfera\n",
      "patrimonial do arguido LUÍS MARQUES, crime p. e p. pelo art.º 368. °-A,\n",
      "n.ºs 1, 2 e 3 do Código Penal;\n",
      "      - Um CRIME DE BRANQUEAMENTO, em co-autoria com os\n",
      "arguidos JOSÉ SÓCRATES, RICARDO SALGADO, HÉLDER BATAGLIA\n",
      "e JOSÉ PAULO PINTO DE SOUSA, relativamente a utilização, entre 2006 e\n",
      "2008, das contas na Suíça em que este último era autorizado e operações\n",
      "financeiras realizadas a partir das mesmas, crime p. e p. pelo art.º 368. °-A,\n",
      "n.ºs 1, 2 e 3 do Código Penal;\n",
      "      - Um CRIME DE BRANQUEAMENTO, em co-autoria com os\n",
      "arguidos JOSÉ SÒCRATES, RICARDO SALGADO, HÉLDER BATAGLIA\n",
      "e JOSÉ PAULO PINTO DE SOUSA relativamente aos movimentos\n",
      "financeiros justificados pelos contratos PINSONG, realizados no ano de 2007\n",
      "e até ao início de 2008, com origem em conta da Suíça da ES ENTERPRISES,\n",
      "crime p. e p. pelo art.º 368. °-A, n.ºs 1,2 e 3 do Código Penal;\n",
      "      - Um CRIME DE BRANQUEAMENTO, em co-autoria com os\n",
      "arguidos JOSÉ SÓCRATES, RICARDO SALGADO, HÉLDER BATAGLIA\n",
      "e JOAQUIM BARROCA relativamente aos movimentos financeiros\n",
      "justificados pelos contratos PINSONG, realizados a partir de abril de 2008,\n",
      "com origem em conta da Suíça da ES ENTERPRISES com intervenção das\n",
      "                                                                             12\n",
      "\f",
      "\n",
      "\n",
      "                                  S.       R.\n",
      "          TRIBUNAL CENTRAL DE INSTRUÇÃO CRIMINAL\n",
      "\n",
      "\n",
      "contas da Suíça do arguido JOAQUIM BARROCA, crime p. e p. pelo art.º\n",
      "368. °-A, n.ºs 1, 2 e 3 do Código Penal;\n",
      "      - Um CRIME DE BRANQUEAMENTO, em co-autoria com os\n",
      "arguidos JOSÉ SÓCRATES, RICARDO SALGADO, HÉLDER BATAGLIA\n",
      "e JOAQUIM BARROCA e pelas sociedades LEC SA, LEC SGPS, LENA\n",
      "SGPS e XLM, relativamente aos movimentos financeiros, ocorridos a partir de\n",
      "2010, abrangidos pela operação CEL_2010, ocorridos a partir de 2010 e\n",
      "justificados através de contrato promessa de compra e venda com perda de\n",
      "sinal referente ao imóvel KANHANGULO, sito em Luanda, e introdução\n",
      "desses fundos no Grupo LENA, crime p. e p. pelo art.º 368.°-A, n.ºs 1, 2 e 3\n",
      "do Código Penal;\n",
      "      - Um CRIME DE BRANQUEAMENTO, em co-autoria com os\n",
      "arguidos JOSÉ SÓCRATES, JOAQUIM BARROCA ARMANDO VARA,\n",
      "DIOGO GASPAR FERREIRA, RUI HORTA E COSTA e BÁRBARA\n",
      "VARA relativamente as transferências com origem em conta do cidadão\n",
      "holandês Van Doreen, referentes aos financiamentos concedidos ao Grupo\n",
      "VALE DO LOBO, com passagem por conta bancaria da Suíça titulada pelo\n",
      "arguido JOAQUIM BARROCA, crime p. e p. pelo art.368°-A, n° 1, 2 e 3 do\n",
      "Código Penal;\n",
      "      - Um CRIME DE BRANQUEAMENTO, em co-autoria com o\n",
      "arguido JOSÉ SÓCRATES relativamente a concentração dos fundos em novas\n",
      "contas bancarias da Suíça tituladas por sociedades offshore, controladas pelo\n",
      "arguido CARLOS SANTOS SILVA, e sua transferência para contas tituladas\n",
      "pelo mesmo arguido em Portugal, ao abrigo do RERT II, crime p. e p. pelo\n",
      "art.º 368. °-A, n.ºs 1, 2 e 3 do Código Penal;\n",
      "                                                                          13\n",
      "\f",
      "\n",
      "\n",
      "                                  S.       R.\n",
      "          TRIBUNAL CENTRAL DE INSTRUÇÃO CRIMINAL\n",
      "\n",
      "\n",
      "      - Um CRIME DE BRANQUEAMENTO, em co-autoria com o\n",
      "arguido JOSÉ SÓCRATES relativamente a dissipação dos fundos por outras\n",
      "contas em Portugal, em que o arguido CARLOS SANTOS SILVA era titular e\n",
      "autorizado, e a confusão de patrimónios de ambos nessas contas bancárias,\n",
      "crime p. e p. pelo art.º 368. °-A, n.ºs 1, 2 e 3 do Código Penal;\n",
      "      - Um CRIME DE BRANQUEAMENTO, em co-autoria com os\n",
      "arguidos JOSÉ SÓCRATES e GONÇALO FERREIRA, quanto a aquisição de\n",
      "imóveis em Portugal, com o retomo do preço pago para a esfera patrimonial\n",
      "do arguido JOSÉ SÓCRATES, de forma justificada, factos ocorridos entre\n",
      "2010 e 2012, crime p. e p. pelo art.º 368. °-A, n.ºs 1, 2 e 3 do Código Penal;\n",
      "      - Um CRIME DE BRANQUEAMENTO, em co-autoria com os\n",
      "arguidos JOSÉ SÓCRATES e GONÇALO FERREIRA, relativamente a\n",
      "aquisição e subsequente arrendamento de um imóvel em Paris, com intenção\n",
      "de ocultação da titularidade do activo, factos praticados entre 2012 e 2014,\n",
      "crime p. e p. pelo art.º 368. °-A, n.ºs 1, 2 e 3 do Código Penal;\n",
      "      - Um CRIME DE BRANQUEAMENTO, em co-autoria com os\n",
      "arguidos JOSÉ SÓCRATES e GONÇALO FERREIRA, relativamente a\n",
      "entrega pelo arguido CARLOS SANTOS SILVA de quantias pertencentes ao\n",
      "arguido JOSÉ SÓCRATES para depósito em contas bancárias do arguido\n",
      "GONÇALO FERREIRA e para guardar em cofre bancário e em contas\n",
      "tituladas pelo mesmo, de forma a ocultar a propriedade desses fundos pelo\n",
      "arguido JOSÉ SÓCRATES, factos ocorridos nos anos de 2012 e 2013, crime\n",
      "p. e p. pelo art.º 368.°-A, n.ºs 1, 2 e 3 do Código Penal;\n",
      "      - Um CRIME DE BRANQUEAMENTO, em co-autoria com os\n",
      "arguidos JOSÉ SÓCRATES e INÊS DO ROSÁRIO, relativamente a\n",
      "                                                                                 14\n",
      "\f",
      "\n",
      "\n",
      "                                   S.       R.\n",
      "           TRIBUNAL CENTRAL DE INSTRUÇÃO CRIMINAL\n",
      "\n",
      "\n",
      "utilização das contas bancárias desta última arguida junto do MONTEPIO\n",
      "GERAL e a recepção pela mesma de fundos, provenientes do arguido\n",
      "CARLOS SANTOS SILVA para entrega ao arguido JOSÉ SÓCRATES,\n",
      "ocultando a propriedade das mesmas por este último, factos ocorridos nos\n",
      "anos de 2013 e 2014, crime p. e p. pelo art.º 368. °-A, n.ºs 1, 2 e 3 do Código\n",
      "Penal;\n",
      "         - Um CRIME DE BRANQUEAMENTO, em co-autoria com os\n",
      "arguidos JOSÉ SÓCRATES e JOÃO PERNA, relativos a utilização das contas\n",
      "tituladas por este último como contas de passagem de fundos de origem ilícita\n",
      "provenientes de CARLOS SANTOS SILVA e destinados a esfera patrimonial\n",
      "do arguido JOSÉ SÓCRATES, operações ocorridas entre 2011 e 2014, crime\n",
      "p. e p. pelo art.º 368. °-A, n.ºs l, 2 e 3 do Código Penal;\n",
      "         - Um CRIME DE BRANQUEAMENTO, em co-autoria com os\n",
      "arguidos JOSÉ SÒCRATES e SOFIA FAVA relativamente a aquisição de um\n",
      "imóvel, designado “Monte das Margaridas”, com intenção de que passasse a\n",
      "integrar o património familiar do arguido JOSÉ SÒCRATES, com registo em\n",
      "nome de terceiro e montagem de operação de financiamento e formas de\n",
      "custear as prestações da mesma, factos ocorridos entre 2011 e 2014, crime p. e\n",
      "p. pelo art.º 368. °-A, n.ºs 1, 2 e 3 do Código Penal;\n",
      "         - Um CRIME DE FALSIFICAÇÃO DE DOCUMENTO, em co-\n",
      "autoria com o arguido JOSE SOCRATES, relativamente a declaração de\n",
      "adesão ao RERT II e outra documentação produzida e utilizada para esse\n",
      "efeito, no que se reporta a titularidade dos elementos patrimoniais declarados,\n",
      "concentrados nas contas da Suíça até ao final do ano de 2010, crime p. e p.\n",
      "pelo art.º 256. °, n.ºs 1, alíneas a), d) e e) do Código Penal;\n",
      "                                                                            15\n",
      "\f",
      "\n",
      "\n",
      "                                 S.       R.\n",
      "          TRIBUNAL CENTRAL DE INSTRUÇÃO CRIMINAL\n",
      "\n",
      "\n",
      "      - Um CRIME DE FALSIFICAÇÃO DE DOCUMENTO, em co-\n",
      "autoria com os arguidos JOSÉ SÓCRATES e JOAQUIM BARROCA,\n",
      "relativamente ao primeiro contrato de prestação de serviços celebrado entre a\n",
      "LEC SA e a XLM, facturas e outra documentação produzida ao abrigo do\n",
      "mesmo, factos ocorridos a partir de 2009, crime p. e p. pelo art.º 256. °, n.º 1,\n",
      "alíneas a), d) e e) do Código Penal;\n",
      "      - Um CRIME DE FALSIFICAÇÃO DE DOCUMENTO, praticado,\n",
      "em co-autoria, com os arguidos JOSÉ SOCRATES e RUI MÃO DE FERRO\n",
      "com referência aos contratos de prestação de serviços celebrados entre as\n",
      "sociedades XLM e RMF CONSULTING, bem como facturas e outra\n",
      "documentação produzida ao abrigo dos mesmos, que serviram de suporte a\n",
      "circulação de quantias entre estas sociedades, com origem e destino no\n",
      "arguido JOSÉ SÓCRATES, crime p. e p. pelo art.º 256. °, n.º l, alíneas a), d) e\n",
      "e) do Código Penal;\n",
      "      -   Um    CRIME       DE     FALSIFICAÇÃO          DE    DOCUMENTO\n",
      "relativamente aos relatórios de catividades da XLM, em co-autoria com os\n",
      "arguidos RUI MÃO DE FERRO e JOAQUIM BARROCA, relativos ao forjar\n",
      "e execução do primeiro contrato entre a LEC SA e a XLM, factos ocorridos\n",
      "entre 2011 e 2013, crime p. e p. pelo art.º 256. °, n.º l, alíneas a), d) e e) do\n",
      "Código Penal;\n",
      "      - Um CRIME DE FALSIFICAÇÃO DE DOCUMENTO, em co-\n",
      "autoria com os arguidos JOSÉ SÓCRATES, RICARDO SALGADO,\n",
      "HÉLDER BATAGLIA e JOAQUIM BARROCA, relativamente aos factos\n",
      "referentes ao conjunto de documentos que incluem o contrato promessa de\n",
      "compra e venda de imóvel em Angola, denominado KANHANGULO,\n",
      "                                                                              16\n",
      "\f",
      "\n",
      "\n",
      "                                   S.       R.\n",
      "          TRIBUNAL CENTRAL DE INSTRUÇÃO CRIMINAL\n",
      "\n",
      "\n",
      "contrato de intermediação AII e XLM, cartas de admissão do seu\n",
      "incumprimento e perda de sinal e celebração de segundo contrato de prestação\n",
      "de serviços entre a LEC e a XLM, bem como facturas e outra documentação\n",
      "produzida ao abrigo desses contratos, crime p. e p. pelo art.º 256.°, n.º l,\n",
      "alíneas a), d) e e) do Código Penal;\n",
      "      - Um CRIME DE FALSIFICAÇÃO DE DOCUMENTO, em co-\n",
      "autoria com os arguidos JOSÉ SÓCRATES e SOFIA FAVA, com referência\n",
      "aos contratos de prestação de serviços celebrados entre a XLM e a arguida\n",
      "SOFIA FAVA, que serviram de suporte ao recebimento de quantias por esta\n",
      "última com origem no arguido JOSÉ SÓCRATES, crime p. e p. pelo art.º 256.\n",
      "°, n.ºs l, alíneas a), d) e e) do Código Penal;\n",
      "      - Um CRIME DE FALSIFICAÇÃO DE DOCUMENTO, em co-\n",
      "autoria com o arguido JOSÉ SÓCRATES, com referência aos contratos de\n",
      "prestação de serviços celebrados entre a sociedade XLM e Ana Bessa, bem\n",
      "como facturas e outra documentação produzida ao abrigo dos mesmos, que\n",
      "serviram de suporte ao recebimento de quantias por esta última com origem no\n",
      "arguido JOSÉ SÓCRATES, crime p. e p. pelo art.º 256. °, n.º l, alíneas a), d) e\n",
      "e) do Código Penal;\n",
      "      - Um CRIME DE FALSIFICAÇÃO DE DOCUMENTO, em co-\n",
      "autoria com os arguidos JOSÉ SÓCRATES e RUI MÃO DE FERRO com\n",
      "referência aos contratos de prestação de serviços celebrados entre a sociedade\n",
      "RMF CONSULTING e Domingos Farinho e Jane Kirkby, bem como facturas\n",
      "e outra documentação produzida ao abrigo dos mesmos, que serviram de\n",
      "suporte ao recebimento de quantias por estes últimos com origem no arguido\n",
      "\n",
      "\n",
      "                                                                            17\n",
      "\f",
      "\n",
      "\n",
      "                                     S.        R.\n",
      "           TRIBUNAL CENTRAL DE INSTRUÇÃO CRIMINAL\n",
      "\n",
      "\n",
      "JOSÉ SÓCRATES, crime p. e p. pelo art.º 256. °, n.º l, alíneas a), d) e e) do\n",
      "Código Penal;\n",
      "       - Um CRIME DE FALSIFICAÇÃO DE DOCUMENTO, em co-\n",
      "autoria com os arguidos JOSÉ SÓCRATES e RUI MÃO DE FERRO com\n",
      "referência aos contratos de prestação de serviços celebrados entre a sociedade\n",
      "RMF CONSULTING e António Manuel Peixoto e António Mega Peixoto,\n",
      "bem como facturas e outra documentação produzida ao abrigo dos mesmos,\n",
      "que serviram de suporte ao recebimento de quantias por estes últimos com\n",
      "\n"
     ]
    }
   ],
   "source": [
    "print(creams)"
   ]
  },
  {
   "cell_type": "code",
   "execution_count": 178,
   "id": "stupid-polish",
   "metadata": {
    "collapsed": true,
    "jupyter": {
     "outputs_hidden": true
    }
   },
   "outputs": [
    {
     "name": "stdout",
     "output_type": "stream",
     "text": [
      "['                                   S.       R.\\n          TRIBUNAL CENTRAL DE INSTRUÇÃO CRIMINAL\\n\\n\\n\\n\\nNUIPC: 122/13.8TELSB\\n\\n\\n\\n\\n                    DECISÃO INSTRUTÓRIA\\n\\n\\n\\n\\n     CAPÍTULO I\\n\\n\\n     I – RELATÓRIO\\n\\n\\n     1.1 - A Acusação\\n\\n\\n     Foi imputado em sede de acusação aos arguidos:\\n\\n\\n      JOSÉ SÓCRATES CARVALHO PINTO DE SOUSA\\n\\n\\n      - Um Crime de Corrupção Passiva de Titular de Cargo Político, em\\nco-autoria com o arguido Carlos Santos Silva, com referência a actos\\npraticados no interesse do Grupo LENA entre 2005 e 2011, crime p. e p. pelas\\ndisposições conjugadas dos art.º 1.°, 2.°, 3.°, n.º 1, alínea d), 17.°, n.º 1 e 19.°,\\nn.ºs 2 e 3 da Lei n.º 34/87, de 16 de Julho, na redacção introduzida pela Lei n.º\\n108/2001, de 28 de Novembro (Lei dos Crimes de Responsabilidade dos\\n                                                                                   1\\n\\x0c\\n\\n                                   S.       R.\\n          TRIBUNAL CENTRAL DE INSTRUÇÃO CRIMINAL\\n\\n\\nTitulares de Cargos Políticos), com referência aos art.º 28.° e 202.°, alínea b)\\ndo Código Penal;\\n      - Um Crime de Corrupção Passiva de Titular de Cargo Político,\\ncom referência a actos praticados no interesse do arguido Ricardo Salgado,\\nrelativamente a negócios do Grupo PORTUGAL TELECOM e GES, crime p.\\ne p. pelas disposições conjugadas dos art.º lº, 2.°, 3.°, n.º 1, alínea d), 17.°, n.º\\n1 e 19.°, n.ºs 2 e 3 da Lei n.º 34/87, de 16 de Julho, na redacção introduzida\\npela Lei n° 108/2001, de 28 de Novembro(Lei dos Crimes de\\nResponsabilidade dos Titulares de Cargos Políticos), com referência aos art.º\\n28.° e 202.°, alínea b) do Código Penal;\\n      - Um Crime de Corrupção Passiva de Titular de Cargo Político, em\\nco-autoria com o arguido Armando Vara, com referencia a atos praticados no\\ninteresse dos arguidos Diogo Gaspar Ferreira e Rui Horta e Costa com\\nutilização das sociedades do Grupo VALE DO LOBO, crime p. e p. pelas\\ndisposições conjugadas dos art.º 1º, 2.°, 3.°, n.º 1, alínea d), 17.°, n.º 1 e 19°.,\\nn.ºs 2 e 3 da Lei 34/87, de 16 de julho, na redacção introduzida pela Lei n°\\n108/2001, de 28 de Novembro- Lei dos Crimes de Responsabilidade dos\\nTitulares de Cargos Políticos, com referência aos art.º 28.° e 202.°, alínea b)\\ndo Código Penal;\\n      - Um CRIME DE BRANQUEAMENTO, em co-autoria com os\\narguidos CARLOS SANTOS SILVA e JOAQUIM BARROCA relativamente\\naos movimentos financeiros com origem no Grupo LENA e com passagem\\npelas contas da Suíça tituladas por este último arguido e realizados a partir de\\n2007, crime p. e p. pelo art.368°-A, n° 1, 2 e 3 do Código Penal;\\n\\n\\n                                                                                   2\\n\\x0c\\n\\n                                  S.       R.\\n           TRIBUNAL CENTRAL DE INSTRUÇÃO CRIMINAL\\n\\n\\n      - Um CRIME DE BRANQUEAMENTO, em co-autoria com os\\narguidos CARLOS SANTOS SILVA, JOAQUIM BARROCA e com as\\nsociedades LEC S.A. e XLM, relativamente a utilização desta última\\nsociedade, entre 2009 e 2015, para a colocação de fundos destinados ao\\narguido JOSÉ SÓCRATES e utilização dos mesmos no seu interesse através\\ndo pagamento directo de despesas ou por distribuição de dividendos para\\ncontas tituladas pelo arguido CARLOS SANTOS SILVA, crime p. e p. pelo\\nart.368°-A, n° 1, 2 e 3 do Código Penal;\\n      - Um CRIME DE BRANQUEAMENTO, em co-autoria com os\\narguidos CARLOS SANTOS SILVA, JOAQUIM BARROCA, RUI MÃO DE\\nFERRO e com as sociedades LEC SA, XLM e RMF CONSULTING,\\nrelativamente a utilização desta última sociedade, entre 2010 e 2014, para a\\ncolocação de fundos destinados ao arguido JOSÉ SOCRATES e utilização dos\\nmesmos no seu interesse através do pagamento de despesas suas e colocação\\nde numerário a sua disposição, crime p. e p. pelo art.º 368.', '°-A, n.ºs 1, 2 e 3 do\\nCódigo Penal;\\n      - Um CRIME DE BRANQUEAMENTO, em co-autoria com os\\narguidos    RICARDO       SALGADO,         HÉLDER       BATAGLIA,      CARLOS\\nSANTOS SILVA e JOSÉ PAULO PINTO DE SOUSA, relativamente a\\nutilização, entre 2006 e 2008, de contas na Suíça em que este último era\\nautorizado e operações financeiras realizadas a partir das mesmas, crime p. e\\np. pelo art.º 368.', '°-A, n.ºs 1,2 e 3 do Código Penal;\\n      - Um CRIME DE BRANQUEAMENTO, em co-autoria com os\\narguidos RICARDO SALGADO, HÉLDER BATAGLIA, JOSÉ PAULO\\nPINTO DE SOUSA e CARLOS SANTOS SILVA relativamente aos\\n                                                                                3\\n\\x0c\\n\\n                                  S.       R.\\n           TRIBUNAL CENTRAL DE INSTRUÇÃO CRIMINAL\\n\\n\\nmovimentos financeiros justificados pelos contratos PINSONG, realizados no\\nano de 2007 e até ao início de 2008, com origem em conta da Suíça da ES\\nENTERPRISES, crime p. e p. pelo art.368°-A, n° 1, 2 e 3 do Código Penal;\\n      - Um CRIME DE BRANQUEAMENTO, em co-autoria com os\\narguidos    RICARDO       SALGADO,        HELDER       BATAGLIA,    CARLOS\\nSANTOS SILVA e JOAQUIM BARROCA relativamente aos movimentos\\nfinanceiros justificados pelos contratos PINSONG, realizados a partir de Abril\\nde 2008, com origem em conta na Suíça da ES ENTERPRISES e com\\nintervenção das contas da Suíça do arguido JOAQUIM BARROCA, crime p.\\ne p. pelo art.º 368.', '°-A, n.ºs 1, 2 e 3 do Código Penal;\\n      - Um CRIME DE BRANQUEAMENTO, em co-autoria com os\\narguidos RICARDO SALGADO, HÉLDER BATAGLIA, JOAQUIM\\nBARROCA e CARLOS SANTOS SILVA e com as sociedades LEC SA, LEC\\nSGPS, LENA SGPS e XLM, relativamente aos movimentos financeiros,\\nocorridos a partir de 2010, abrangidos pela operação CEL_2010, justificados\\natravés de contrato promessa de compra e venda com perda de sinal referente\\nao imóvel KANHANGULO, sito em Luanda, e introdução desses fundos no\\nGrupo LENA, crime p. e p. pelo art.º 368.°-A, n.ºs 1, 2 e 3 do Código Penal;\\n      - Um CRIME DE BRANQUEAMENTO, em co-autoria com os\\narguidos CARLOS SANTOS SILVA, JOAQUIM BARROCA, ARMANDO\\nVARA, DIOGO GASPAR FERREIRA, RUI HORTA E COSTA e\\nBÁRBARA VARA, relativamente as transferências com origem em conta do\\ncidadão holandês Van Doreen, referentes aos financiamentos concedidos ao\\nGrupo VALE DO LOBO, com passagem por conta bancaria da Suíça do\\n\\n\\n                                                                               4\\n\\x0c\\n\\n                                  S.       R.\\n           TRIBUNAL CENTRAL DE INSTRUÇÃO CRIMINAL\\n\\n\\narguido JOAQUIM BARROCA, crime p. e p. pelo art.368°-A, nºs l, 2 e 3 do\\nCódigo Penal;\\n      - Um CRIME DE BRANQUEAMENTO, em co-autoria com o\\narguido CARLOS SANTOS SILVA relativamente a concentração dos fundos\\nem novas contas bancarias da Suíça tituladas por sociedades em offshore\\ncontroladas por CARLOS SANTOS SILVA e sua transferência para contas\\ntituladas por este último arguido em Portugal, ao abrigo do RERT II, crime p.\\ne p. pelo art.º 368.', '°-A, n°s 1, 2 e 3 do Código Penal;\\n      - Um CRIME DE BRANQUEAMENTO, em co-autoria com o\\narguido CARLOS SANTOS SILVA relativamente a dissipação dos fundos\\npor outras contas em Portugal, de que este último arguido era titular e\\nautorizado, e a confusão de patrimónios de ambos nessas contas bancarias,\\ncrime p. e p. pelo art.º 368.', '°-A, n.ºs 1, 2 e 3 do Código Penal;\\n      - Um CRIME DE BRANQUEAMENTO, em co-autoria com os\\narguidos CARLOS SANTOS SILVA e GONÇALO FERREIRA, quanto a\\naquisição de imóveis em Portugal com o retomo do preço pago para a esfera\\npatrimonial do arguido JOSE SOCRATES, de forma justificada, factos\\nocorridos entre 2010 e 2012, crime p. e p. pelo art.º 368.', '°-A, n.ºs 1, 2 e 3 do\\nCódigo Penal;\\n      - Um CRIME DE BRANQUEAMENTO, em co-autoria com os\\narguidos    CARLOS       SANTOS        SILVA     e   GONÇALO        FERREIRA,\\nrelativamente a aquisição e subsequente arrendamento de um imóvel em Paris,\\ncom intenção de ocultação da titularidade do activo, factos praticados entre\\n2012 e 2014, crime p. e p. pelo art.º 368.', '°-A, n°s 1, 2 e 3 do Código Penal;\\n\\n\\n                                                                                5\\n\\x0c\\n\\n                                 S.       R.\\n           TRIBUNAL CENTRAL DE INSTRUÇÃO CRIMINAL\\n\\n\\n      - Um CRIME DE BRANQUEAMENTO, em co-autoria com os\\narguidos    GONÇALO        FERREIRA       e    CARLOS      SANTOS      SILVA,\\nrelativamente a entrega por este último arguido de quantias pertencentes ao\\narguido JOSÉ SÓCRATES para depósito em contas bancarias do arguido\\nGONÇALO FERREIRA e para guardar em cofre bancário e em contas\\ntituladas pelo mesmo, de forma a ocultar a propriedade desses valores pelo\\narguido JOSÉ SÓCRATES, factos ocorridos nos anos de 2012 e 2013, crime\\np. e p. pelo art.368°-A, n° 1, 2 e 3 do Código Penal;\\n      - Um CRIME DE BRANQUEAMENTO, em co-autoria com os\\narguidos CARLOS SANTOS SILVA e INÊS DO ROSÁRIO, relativamente a\\nutilização das contas bancárias desta ultima arguida junto do MONTEPIO\\nGERAL e a recepção pela mesma de fundos, provenientes do arguido\\nCARLOS SANTOS SILVA para entrega ao arguido JOSÉ SÓCRATES,\\nocultando a propriedade das mesmas quantias por este último, factos ocorridos\\nnos anos de 2013 e 2014, crime p. e p. pelo art.º 368.', '°-A, n.ºs 1, 2 e 3 do\\nCódigo Penal;\\n      - Um CRIME DE BRANQUEAMENTO, em co-autoria com os\\narguidos CARLOS SANTOS SILVA e JOÃO PERNA, relativos a utilização\\ndas contas tituladas por este último em Portugal como contas de passagem de\\nfundos de origem ilícita provenientes do arguido CARLOS SANTOS SILVA\\ne destinados a esfera patrimonial do arguido JOSÉ SÓCRATES, operações\\nocorridas entre 2011 e 2014, crime p. e p. pelo art.º 368.', '°-A, n.ºs l, 2 e 3 do\\nCódigo Penal;\\n      - Um CRIME DE BRANQUEAMENTO, em co-autoria com os\\narguidos CARLOS SANTOS SILVA e SOFIA FAVA relativamente à\\n                                                                              6\\n\\x0c\\n\\n                                   S.        R.\\n          TRIBUNAL CENTRAL DE INSTRUÇÃO CRIMINAL\\n\\n\\naquisição de um imóvel, designado “Monte das Margaridas”, com intenção de\\nque passasse a integrar o património familiar do arguido JOSÉ SÓCRATES,\\ncom registo em nome de terceiro e montagem de operação de financiamento e\\nformas de custear as prestações da mesma, factos ocorridos entre 2011 e 2014,\\ncrime p. e p. pelo art.º 368.', '°-A, n.ºs 1, 2 e 3 do Código Penal;\\n      - Um CRIME DE FALSIFICAÇÃO DE DOCUMENTO, em co-\\nautoria com o arguido CARLOS SANTOS SIVA, relativamente a declaração\\nde adesão ao RERT II e outra documentação produzida e utilizada para esse\\nefeito, no que se reporta a titularidade dos elementos patrimoniais declarados,\\nconcentrados nas contas da Suíça até final do ano de 2010, crime p. e p. pelo\\nart.º 256.', '°, n.º 1, alíneas a), d) e e) do Código Penal;\\n      - Um CRIME DE FALSIFICAÇÃO DE DOCUMENTO, em co-\\nautoria com os arguidos CARLOS SANTOS SILVA e JOAQUIM\\nBARROCA, relativamente ao primeiro contrato de prestação de serviços\\ncelebrado entre a LEC S.A. e a XLM, facturas e outra documentação\\nproduzida ao abrigo do mesmo, factos ocorridos a partir de 2009, crime p. e p.\\npelo art.º 256.', '°, n.º l, alíneas a), d) e e) do Código Penal;\\n      - Um CRIME DE FALSIFICAÇÃO DE DOCUMENTO, em co-\\nautoria com os arguidos CARLOS SANTOS SILVA e RUI MÃO DE FERRO\\ncom referência aos contratos de prestação de serviços celebrados entre as\\nsociedades XLM e RMF CONSULTING, bem como facturas e outra\\ndocumentação produzida ao abrigo dos mesmos, que serviram de suporte a\\ncirculação de quantias entre estas sociedades, com origem e destino no\\narguido JOSE SOCRATES, crime p. e p. pelo art.º 256.', '°, n.º l, alíneas a), d) e\\ne) do Código Penal;\\n                                                                             7\\n\\x0c\\n\\n                                   S.        R.\\n          TRIBUNAL CENTRAL DE INSTRUÇÃO CRIMINAL\\n\\n\\n      - Um CRIME DE FALSIFICAÇÃO DE DOCUMENTO, em co-\\nautoria com os arguidos CARLOS SANTOS SILVA, RICARDO SALGADO,\\nHÉLDER BATAGLIA e JOAQUIM BARROCA, relativamente aos factos\\nreferentes ao conjunto de documentos que incluem o contrato promessa de\\ncompra e venda de imóvel em Angola, denominado KANHANGULO,\\ncontrato de intermediação AII e XLM, cartas de admissão do seu\\nincumprimento e perda de sinal e celebração de segundo contrato de prestação\\nde serviços entre a LEC e a XLM, bem como facturas e outra documentação\\nproduzida ao abrigo destes contratos, factos ocorridos a partir de 2010, crime\\np. e p. pelo art.º 256.°, n.º l, alíneas a), d) e e) do Código Penal;\\n      - Um CRIME DE FALSIFICAÇÃO DE DOCUMENTO, em co-\\nautoria com os arguidos CARLOS SANTOS SILVA e SOFIA FAVA, com\\nreferência aos contratos de prestação de serviços celebrados entra a XLM e\\narguida SOFIA FAVA, que serviram de suporte ao recebimento de quantias\\npor esta última com origem no arguido JOSÉ SÓCRATES, crime p. e p. pelo\\nart.º 256.', '°, n.º l, alíneas a), d) e e) do Código Penal;\\n      - Um CRIME DE FALSIFICAÇÃO DE DOCUMENTO, em co-\\nautoria com o arguido CARLOS SANTOS SILVA, com referência aos\\ncontratos de prestação de serviços celebrados entre a sociedade XLM e Ana\\nBessa, bem como facturas e outra documentação produzida ao abrigo dos\\nmesmos, que serviram de suporte ao recebimento de quantias por esta ultima\\ncom origem no arguido JOSÉ SÓCRATES, crime p. e p. pelo art.º 256.', '°, n.º l,\\nalíneas a), d) e e) do Código Penal;\\n      - Um CRIME DE FALSIFICAÇÃO DE DOCUMENTO, em co-\\nautoria com os arguidos CARLOS SANTOS SILVA e RUI MAO DE FERRO\\n                                                                            8\\n\\x0c\\n\\n                                  S.        R.\\n          TRIBUNAL CENTRAL DE INSTRUÇÃO CRIMINAL\\n\\n\\ncom referência aos contratos de prestação de serviços celebrados entre a\\nsociedade RMF CONSULTING e Domingos Farinho e Jane Kirkby, bem\\ncomo facturas e outra documentação produzida ao abrigo dos mesmos, que\\nserviram de suporte ao recebimento de quantias por estes últimos com origem\\nno arguido JOSÉ SÓCRATES, crime p. e p. pelo art.º 256.', '°, n.º l, alíneas a),\\nd) e e) do Código Penal;\\n      - Um CRIME DE FALSIFICAÇÃO DE DOCUMENTO, em co-\\nautoria com os arguidos CARLOS SANTOS SILVA e RUI MÃO DE FERRO\\ncom referência aos contratos de prestação de serviços celebrados entre a\\nsociedade RMF CONSULTING e António Manuel Peixoto e António Mega\\nPeixoto, bem como facturas e outra documentação produzida ao abrigo dos\\nmesmos, que serviram de suporte ao recebimento de quantias por estes últimos\\ncom origem no arguido JOSÉ SÓCRATES, crime p. e p. pelo art.º 256.°, n.º l,\\nalíneas a), d) e e) do Código Penal;\\n      - Um CRIME DE FALSIFICAÇÃO DE DOCUMENTO, em co-\\nautoria com os arguidos GONCALO FERREIRA e CARLOS SANTOS\\nSILVA, relativamente a produção e uso de documentação referente a\\naquisição e subsequente arrendamento do apartamento\\nde Paris, sito na Av.', 'President Wilson, crime p. e p. pelo art.º 256.', '°, n.º l\\nalíneas a), d) e e) do Código Penal;\\n      - Um CRIME DE FRAUDE FISCAL QUALIFICADA, de que foi\\nbeneficiário, em co-autoria com o arguido CARLOS SANTOS SILVA, no que\\ntange ao IRS apurado quanto aos anos de 2006 a 2009, crime p. e p. pelos arts.', 'l03°-l a), b) e c) e 104°- 1 d), e) e f) do RGIT;\\n\\n\\n                                                                            9\\n\\x0c\\n\\n                                   S.        R.\\n          TRIBUNAL CENTRAL DE INSTRUÇÃO CRIMINAL\\n\\n\\n      - Um CRIME DE FRAUDE FISCAL QUALIFICADA, de que foi\\nbeneficiário, em co-autoria, com os arguidos JOAQUIM BARROCA,\\nCARLOS SANTOS SILVA, LENA ENGENHARIA E CONSTRUCOES SA\\ne XLM - SOCIEDADE DE ESTUDOS E\\nPROJECTOS LDA, no que tange ao IRS apurado quanto aos anos de 2009 a\\n2012, crime p. e p. pelos arts l03.', '°-l a), b) e c) e 104.', '°- 1 d), e) e f) e n.º 2 do\\nRGIT, atualmente n.º 2 alínea a) do art.º l04.', '° do RGIT;\\n      - Um CRIME DE FRAUDE FISCAL QUALIFICADA, de que foi\\nbeneficiário, em co-autoria, com os arguidos JOAQUIM BARROCA,\\nCARLOS SANTOS SILVA, LENA ENGENHARIA E CONSTRUCOES SA\\ne XLM - SOCIEDADE DE ESTUDOS E PROJECTOS LDA no que tange ao\\nIRS apurado quanto aos anos de 2013 a 2015, crime p. e p. pelos arts l03.', '°-l\\na), b) e c) e 104°- 1 d), e) e n.º 2 alínea a) e n.º 3 do RGIT.', 'CARLOS MANUEL DOS SANTOS SILVA\\n\\n\\n      - Um CRIME DE CORRUPÇÃO PASSIVA DE TITULAR DE\\nCARGO POLÍTICO, em co-autoria com o arguido JOSÉ SÓCRATES, com\\nreferência a actos praticados no interesse do Grupo LENA entre 2005 e 2011,\\ncrime p. e p. pelas disposições conjugadas dos arts lº, 2.°, 3.°, n.º 1, alínea d),\\n17.°, n.º 1 e 19.°, n.ºs 2 e 3 da Lei 34/87, de 16 de Julho, na redacção\\nintroduzida pela Lei n° 108/2001, de 28 de Novembro- Lei dos Crimes de\\nResponsabilidade dos Titulares de Cargos Políticos, com referência aos arts\\n28.° e 202.°, alínea b) do Código Penal;\\n\\n\\n                                                                                   10\\n\\x0c\\n\\n                                  S.     R.\\n          TRIBUNAL CENTRAL DE INSTRUÇÃO CRIMINAL\\n\\n\\n      - Um CRIME DE CORRUPÇÃO ACTIVA, em co-autoria com os\\narguidos JOAQUIM BARROCA e JOSÉ RIBEIRO DOS SANTOS e com as\\nsociedades XMI, LEC SA, LEC SGPS e LENA SA, relativamente ao\\nfuncionário LUÍS MARQUES, nos anos de 2007 a 2009, crime p. e p. pelo\\nart.º 374.', '°, n.º l do Código Penal;\\n      - Um CRIME DE BRANQUEAMENTO, em co-autoria com os\\narguidos JOSÉ SÓCRATES e JOAQUIM BARROCA relativamente aos\\nmovimentos financeiros com origem no Grupo LENA e com passagem pelas\\ncontas da Suíça deste último arguido e realizados a partir de 2007, crime p. e\\np. pelo art.368°-A, n° 1, 2 e 3 do Código Penal;\\n      - Um CRIME DE BRANQUEAMENTO, em co-autoria com os\\narguidos JOSÉ SÓCRATES e JOAQUIM BARROCA e com as sociedades\\nLEC SA.', 'e XLM, relativamente a utilização desta ultima sociedade, entre\\n2009 e 2015, para a colocação de fundos destinados ao arguido JOSÉ\\nSÓCRATES e sua utilização dos mesmos no seu interesse através do\\npagamento de despesas ou por distribuição de dividendos para contas tituladas\\npelo arguido CARLOS SANTOS SILVA, crime p. e p. pelo art.º 368.°-A, n.ºs\\n1, 2 e 3 do Código Penal;\\n      - Um CRIME DE BRANQUEAMENTO, em co-autoria com os\\narguidos JOSÉ SÓCRATES, JOAQUIM BARROCA e RUI MÃO DE\\nFERRO e com as sociedades LEC SA, XLM e RMF CONSULTING,\\nrelativamente a utilização desta última sociedade, entre 2010 e 2014, para a\\ncolocação de fundos destinados ao arguido JOSÉ SÓCRATES e utilização dos\\nmesmos no seu interesse através do pagamento de despesas e colocação de\\n\\n\\n                                                                           11\\n\\x0c\\n\\n                                  S.       R.\\n          TRIBUNAL CENTRAL DE INSTRUÇÃO CRIMINAL\\n\\n\\nnumerário a sua disposição, entre 2010 e 2014, crime p. e p. pelo art.º 368.°-A,\\nn.ºs 1, 2 e 3 do Código Penal;\\n      - Um CRIME DE BRANQUEAMENTO, em co-autoria com os\\narguidos JOAQUIM BARROCA, JOSÉ LUÍS RIBEIRO DOS SANTOS,\\nLUÌS MARQUES e com a sociedade XMI, relativamente a utilização desta\\núltima sociedade e sua contabilidade para a colocação de fundos na esfera\\npatrimonial do arguido LUÍS MARQUES, crime p. e p. pelo art.º 368.', '°-A,\\nn.ºs 1, 2 e 3 do Código Penal;\\n      - Um CRIME DE BRANQUEAMENTO, em co-autoria com os\\narguidos JOSÉ SÓCRATES, RICARDO SALGADO, HÉLDER BATAGLIA\\ne JOSÉ PAULO PINTO DE SOUSA, relativamente a utilização, entre 2006 e\\n2008, das contas na Suíça em que este último era autorizado e operações\\nfinanceiras realizadas a partir das mesmas, crime p. e p. pelo art.º 368.', '°-A,\\nn.ºs 1, 2 e 3 do Código Penal;\\n      - Um CRIME DE BRANQUEAMENTO, em co-autoria com os\\narguidos JOSÉ SÒCRATES, RICARDO SALGADO, HÉLDER BATAGLIA\\ne JOSÉ PAULO PINTO DE SOUSA relativamente aos movimentos\\nfinanceiros justificados pelos contratos PINSONG, realizados no ano de 2007\\ne até ao início de 2008, com origem em conta da Suíça da ES ENTERPRISES,\\ncrime p. e p. pelo art.º 368.', '°-A, n.ºs 1,2 e 3 do Código Penal;\\n      - Um CRIME DE BRANQUEAMENTO, em co-autoria com os\\narguidos JOSÉ SÓCRATES, RICARDO SALGADO, HÉLDER BATAGLIA\\ne JOAQUIM BARROCA relativamente aos movimentos financeiros\\njustificados pelos contratos PINSONG, realizados a partir de abril de 2008,\\ncom origem em conta da Suíça da ES ENTERPRISES com intervenção das\\n                                                                             12\\n\\x0c\\n\\n                                  S.       R.\\n          TRIBUNAL CENTRAL DE INSTRUÇÃO CRIMINAL\\n\\n\\ncontas da Suíça do arguido JOAQUIM BARROCA, crime p. e p. pelo art.º\\n368.', '°-A, n.ºs 1, 2 e 3 do Código Penal;\\n      - Um CRIME DE BRANQUEAMENTO, em co-autoria com os\\narguidos JOSÉ SÓCRATES, RICARDO SALGADO, HÉLDER BATAGLIA\\ne JOAQUIM BARROCA e pelas sociedades LEC SA, LEC SGPS, LENA\\nSGPS e XLM, relativamente aos movimentos financeiros, ocorridos a partir de\\n2010, abrangidos pela operação CEL_2010, ocorridos a partir de 2010 e\\njustificados através de contrato promessa de compra e venda com perda de\\nsinal referente ao imóvel KANHANGULO, sito em Luanda, e introdução\\ndesses fundos no Grupo LENA, crime p. e p. pelo art.º 368.°-A, n.ºs 1, 2 e 3\\ndo Código Penal;\\n      - Um CRIME DE BRANQUEAMENTO, em co-autoria com os\\narguidos JOSÉ SÓCRATES, JOAQUIM BARROCA ARMANDO VARA,\\nDIOGO GASPAR FERREIRA, RUI HORTA E COSTA e BÁRBARA\\nVARA relativamente as transferências com origem em conta do cidadão\\nholandês Van Doreen, referentes aos financiamentos concedidos ao Grupo\\nVALE DO LOBO, com passagem por conta bancaria da Suíça titulada pelo\\narguido JOAQUIM BARROCA, crime p. e p. pelo art.368°-A, n° 1, 2 e 3 do\\nCódigo Penal;\\n      - Um CRIME DE BRANQUEAMENTO, em co-autoria com o\\narguido JOSÉ SÓCRATES relativamente a concentração dos fundos em novas\\ncontas bancarias da Suíça tituladas por sociedades offshore, controladas pelo\\narguido CARLOS SANTOS SILVA, e sua transferência para contas tituladas\\npelo mesmo arguido em Portugal, ao abrigo do RERT II, crime p. e p. pelo\\nart.º 368.', '°-A, n.ºs 1, 2 e 3 do Código Penal;\\n                                                                          13\\n\\x0c\\n\\n                                  S.       R.\\n          TRIBUNAL CENTRAL DE INSTRUÇÃO CRIMINAL\\n\\n\\n      - Um CRIME DE BRANQUEAMENTO, em co-autoria com o\\narguido JOSÉ SÓCRATES relativamente a dissipação dos fundos por outras\\ncontas em Portugal, em que o arguido CARLOS SANTOS SILVA era titular e\\nautorizado, e a confusão de patrimónios de ambos nessas contas bancárias,\\ncrime p. e p. pelo art.º 368.', '°-A, n.ºs 1, 2 e 3 do Código Penal;\\n      - Um CRIME DE BRANQUEAMENTO, em co-autoria com os\\narguidos JOSÉ SÓCRATES e GONÇALO FERREIRA, quanto a aquisição de\\nimóveis em Portugal, com o retomo do preço pago para a esfera patrimonial\\ndo arguido JOSÉ SÓCRATES, de forma justificada, factos ocorridos entre\\n2010 e 2012, crime p. e p. pelo art.º 368.', '°-A, n.ºs 1, 2 e 3 do Código Penal;\\n      - Um CRIME DE BRANQUEAMENTO, em co-autoria com os\\narguidos JOSÉ SÓCRATES e GONÇALO FERREIRA, relativamente a\\naquisição e subsequente arrendamento de um imóvel em Paris, com intenção\\nde ocultação da titularidade do activo, factos praticados entre 2012 e 2014,\\ncrime p. e p. pelo art.º 368.', '°-A, n.ºs 1, 2 e 3 do Código Penal;\\n      - Um CRIME DE BRANQUEAMENTO, em co-autoria com os\\narguidos JOSÉ SÓCRATES e GONÇALO FERREIRA, relativamente a\\nentrega pelo arguido CARLOS SANTOS SILVA de quantias pertencentes ao\\narguido JOSÉ SÓCRATES para depósito em contas bancárias do arguido\\nGONÇALO FERREIRA e para guardar em cofre bancário e em contas\\ntituladas pelo mesmo, de forma a ocultar a propriedade desses fundos pelo\\narguido JOSÉ SÓCRATES, factos ocorridos nos anos de 2012 e 2013, crime\\np. e p. pelo art.º 368.°-A, n.ºs 1, 2 e 3 do Código Penal;\\n      - Um CRIME DE BRANQUEAMENTO, em co-autoria com os\\narguidos JOSÉ SÓCRATES e INÊS DO ROSÁRIO, relativamente a\\n                                                                                 14\\n\\x0c\\n\\n                                   S.       R.\\n           TRIBUNAL CENTRAL DE INSTRUÇÃO CRIMINAL\\n\\n\\nutilização das contas bancárias desta última arguida junto do MONTEPIO\\nGERAL e a recepção pela mesma de fundos, provenientes do arguido\\nCARLOS SANTOS SILVA para entrega ao arguido JOSÉ SÓCRATES,\\nocultando a propriedade das mesmas por este último, factos ocorridos nos\\nanos de 2013 e 2014, crime p. e p. pelo art.º 368.', '°-A, n.ºs 1, 2 e 3 do Código\\nPenal;\\n         - Um CRIME DE BRANQUEAMENTO, em co-autoria com os\\narguidos JOSÉ SÓCRATES e JOÃO PERNA, relativos a utilização das contas\\ntituladas por este último como contas de passagem de fundos de origem ilícita\\nprovenientes de CARLOS SANTOS SILVA e destinados a esfera patrimonial\\ndo arguido JOSÉ SÓCRATES, operações ocorridas entre 2011 e 2014, crime\\np. e p. pelo art.º 368.', '°-A, n.ºs l, 2 e 3 do Código Penal;\\n         - Um CRIME DE BRANQUEAMENTO, em co-autoria com os\\narguidos JOSÉ SÒCRATES e SOFIA FAVA relativamente a aquisição de um\\nimóvel, designado “Monte das Margaridas”, com intenção de que passasse a\\nintegrar o património familiar do arguido JOSÉ SÒCRATES, com registo em\\nnome de terceiro e montagem de operação de financiamento e formas de\\ncustear as prestações da mesma, factos ocorridos entre 2011 e 2014, crime p. e\\np. pelo art.º 368.', '°-A, n.ºs 1, 2 e 3 do Código Penal;\\n         - Um CRIME DE FALSIFICAÇÃO DE DOCUMENTO, em co-\\nautoria com o arguido JOSE SOCRATES, relativamente a declaração de\\nadesão ao RERT II e outra documentação produzida e utilizada para esse\\nefeito, no que se reporta a titularidade dos elementos patrimoniais declarados,\\nconcentrados nas contas da Suíça até ao final do ano de 2010, crime p. e p.\\npelo art.º 256.', '°, n.ºs 1, alíneas a), d) e e) do Código Penal;\\n                                                                            15\\n\\x0c\\n\\n                                 S.       R.\\n          TRIBUNAL CENTRAL DE INSTRUÇÃO CRIMINAL\\n\\n\\n      - Um CRIME DE FALSIFICAÇÃO DE DOCUMENTO, em co-\\nautoria com os arguidos JOSÉ SÓCRATES e JOAQUIM BARROCA,\\nrelativamente ao primeiro contrato de prestação de serviços celebrado entre a\\nLEC SA e a XLM, facturas e outra documentação produzida ao abrigo do\\nmesmo, factos ocorridos a partir de 2009, crime p. e p. pelo art.º 256.', '°, n.º 1,\\nalíneas a), d) e e) do Código Penal;\\n      - Um CRIME DE FALSIFICAÇÃO DE DOCUMENTO, praticado,\\nem co-autoria, com os arguidos JOSÉ SOCRATES e RUI MÃO DE FERRO\\ncom referência aos contratos de prestação de serviços celebrados entre as\\nsociedades XLM e RMF CONSULTING, bem como facturas e outra\\ndocumentação produzida ao abrigo dos mesmos, que serviram de suporte a\\ncirculação de quantias entre estas sociedades, com origem e destino no\\narguido JOSÉ SÓCRATES, crime p. e p. pelo art.º 256.', '°, n.º l, alíneas a), d) e\\ne) do Código Penal;\\n      -   Um    CRIME       DE     FALSIFICAÇÃO          DE    DOCUMENTO\\nrelativamente aos relatórios de catividades da XLM, em co-autoria com os\\narguidos RUI MÃO DE FERRO e JOAQUIM BARROCA, relativos ao forjar\\ne execução do primeiro contrato entre a LEC SA e a XLM, factos ocorridos\\nentre 2011 e 2013, crime p. e p. pelo art.º 256.', '°, n.º l, alíneas a), d) e e) do\\nCódigo Penal;\\n      - Um CRIME DE FALSIFICAÇÃO DE DOCUMENTO, em co-\\nautoria com os arguidos JOSÉ SÓCRATES, RICARDO SALGADO,\\nHÉLDER BATAGLIA e JOAQUIM BARROCA, relativamente aos factos\\nreferentes ao conjunto de documentos que incluem o contrato promessa de\\ncompra e venda de imóvel em Angola, denominado KANHANGULO,\\n                                                                              16\\n\\x0c\\n\\n                                   S.       R.\\n          TRIBUNAL CENTRAL DE INSTRUÇÃO CRIMINAL\\n\\n\\ncontrato de intermediação AII e XLM, cartas de admissão do seu\\nincumprimento e perda de sinal e celebração de segundo contrato de prestação\\nde serviços entre a LEC e a XLM, bem como facturas e outra documentação\\nproduzida ao abrigo desses contratos, crime p. e p. pelo art.º 256.°, n.º l,\\nalíneas a), d) e e) do Código Penal;\\n      - Um CRIME DE FALSIFICAÇÃO DE DOCUMENTO, em co-\\nautoria com os arguidos JOSÉ SÓCRATES e SOFIA FAVA, com referência\\naos contratos de prestação de serviços celebrados entre a XLM e a arguida\\nSOFIA FAVA, que serviram de suporte ao recebimento de quantias por esta\\núltima com origem no arguido JOSÉ SÓCRATES, crime p. e p. pelo art.º 256.', '°, n.ºs l, alíneas a), d) e e) do Código Penal;\\n      - Um CRIME DE FALSIFICAÇÃO DE DOCUMENTO, em co-\\nautoria com o arguido JOSÉ SÓCRATES, com referência aos contratos de\\nprestação de serviços celebrados entre a sociedade XLM e Ana Bessa, bem\\ncomo facturas e outra documentação produzida ao abrigo dos mesmos, que\\nserviram de suporte ao recebimento de quantias por esta última com origem no\\narguido JOSÉ SÓCRATES, crime p. e p. pelo art.º 256.', '°, n.º l, alíneas a), d) e\\ne) do Código Penal;\\n      - Um CRIME DE FALSIFICAÇÃO DE DOCUMENTO, em co-\\nautoria com os arguidos JOSÉ SÓCRATES e RUI MÃO DE FERRO com\\nreferência aos contratos de prestação de serviços celebrados entre a sociedade\\nRMF CONSULTING e Domingos Farinho e Jane Kirkby, bem como facturas\\ne outra documentação produzida ao abrigo dos mesmos, que serviram de\\nsuporte ao recebimento de quantias por estes últimos com origem no arguido\\n\\n\\n                                                                            17\\n\\x0c\\n\\n                                     S.        R.\\n           TRIBUNAL CENTRAL DE INSTRUÇÃO CRIMINAL\\n\\n\\nJOSÉ SÓCRATES, crime p. e p. pelo art.º 256.', '°, n.º l, alíneas a), d) e e) do\\nCódigo Penal;\\n       - Um CRIME DE FALSIFICAÇÃO DE DOCUMENTO, em co-\\nautoria com os arguidos JOSÉ SÓCRATES e RUI MÃO DE FERRO com\\nreferência aos contratos de prestação de serviços celebrados entre a sociedade\\nRMF CONSULTING e António Manuel Peixoto e António Mega Peixoto,\\nbem como facturas e outra documentação produzida ao abrigo dos mesmos,\\nque serviram de suporte ao recebimento de quantias por estes últimos com']\n"
     ]
    }
   ],
   "source": [
    "text = creams\n",
    "tokenized_text=sent_tokenize(text)\n",
    "print(tokenized_text)"
   ]
  },
  {
   "cell_type": "code",
   "execution_count": 179,
   "id": "figured-measure",
   "metadata": {
    "collapsed": true,
    "jupyter": {
     "outputs_hidden": true
    }
   },
   "outputs": [
    {
     "name": "stdout",
     "output_type": "stream",
     "text": [
      "['S.', 'R.', 'TRIBUNAL', 'CENTRAL', 'DE', 'INSTRUÇÃO', 'CRIMINAL', 'NUIPC', ':', '122/13.8TELSB', 'DECISÃO', 'INSTRUTÓRIA', 'CAPÍTULO', 'I', 'I', '–', 'RELATÓRIO', '1.1', '-', 'A', 'Acusação', 'Foi', 'imputado', 'em', 'sede', 'de', 'acusação', 'aos', 'arguidos', ':', 'JOSÉ', 'SÓCRATES', 'CARVALHO', 'PINTO', 'DE', 'SOUSA', '-', 'Um', 'Crime', 'de', 'Corrupção', 'Passiva', 'de', 'Titular', 'de', 'Cargo', 'Político', ',', 'em', 'co-autoria', 'com', 'o', 'arguido', 'Carlos', 'Santos', 'Silva', ',', 'com', 'referência', 'a', 'actos', 'praticados', 'no', 'interesse', 'do', 'Grupo', 'LENA', 'entre', '2005', 'e', '2011', ',', 'crime', 'p.', 'e', 'p.', 'pelas', 'disposições', 'conjugadas', 'dos', 'art.º', '1.°', ',', '2.°', ',', '3.°', ',', 'n.º', '1', ',', 'alínea', 'd', ')', ',', '17.°', ',', 'n.º', '1', 'e', '19.°', ',', 'n.ºs', '2', 'e', '3', 'da', 'Lei', 'n.º', '34/87', ',', 'de', '16', 'de', 'Julho', ',', 'na', 'redacção', 'introduzida', 'pela', 'Lei', 'n.º', '108/2001', ',', 'de', '28', 'de', 'Novembro', '(', 'Lei', 'dos', 'Crimes', 'de', 'Responsabilidade', 'dos', '1', 'S.', 'R.', 'TRIBUNAL', 'CENTRAL', 'DE', 'INSTRUÇÃO', 'CRIMINAL', 'Titulares', 'de', 'Cargos', 'Políticos', ')', ',', 'com', 'referência', 'aos', 'art.º', '28.°', 'e', '202.°', ',', 'alínea', 'b', ')', 'do', 'Código', 'Penal', ';', '-', 'Um', 'Crime', 'de', 'Corrupção', 'Passiva', 'de', 'Titular', 'de', 'Cargo', 'Político', ',', 'com', 'referência', 'a', 'actos', 'praticados', 'no', 'interesse', 'do', 'arguido', 'Ricardo', 'Salgado', ',', 'relativamente', 'a', 'negócios', 'do', 'Grupo', 'PORTUGAL', 'TELECOM', 'e', 'GES', ',', 'crime', 'p.', 'e', 'p.', 'pelas', 'disposições', 'conjugadas', 'dos', 'art.º', 'lº', ',', '2.°', ',', '3.°', ',', 'n.º', '1', ',', 'alínea', 'd', ')', ',', '17.°', ',', 'n.º', '1', 'e', '19.°', ',', 'n.ºs', '2', 'e', '3', 'da', 'Lei', 'n.º', '34/87', ',', 'de', '16', 'de', 'Julho', ',', 'na', 'redacção', 'introduzida', 'pela', 'Lei', 'n°', '108/2001', ',', 'de', '28', 'de', 'Novembro', '(', 'Lei', 'dos', 'Crimes', 'de', 'Responsabilidade', 'dos', 'Titulares', 'de', 'Cargos', 'Políticos', ')', ',', 'com', 'referência', 'aos', 'art.º', '28.°', 'e', '202.°', ',', 'alínea', 'b', ')', 'do', 'Código', 'Penal', ';', '-', 'Um', 'Crime', 'de', 'Corrupção', 'Passiva', 'de', 'Titular', 'de', 'Cargo', 'Político', ',', 'em', 'co-autoria', 'com', 'o', 'arguido', 'Armando', 'Vara', ',', 'com', 'referencia', 'a', 'atos', 'praticados', 'no', 'interesse', 'dos', 'arguidos', 'Diogo', 'Gaspar', 'Ferreira', 'e', 'Rui', 'Horta', 'e', 'Costa', 'com', 'utilização', 'das', 'sociedades', 'do', 'Grupo', 'VALE', 'DO', 'LOBO', ',', 'crime', 'p.', 'e', 'p.', 'pelas', 'disposições', 'conjugadas', 'dos', 'art.º', '1º', ',', '2.°', ',', '3.°', ',', 'n.º', '1', ',', 'alínea', 'd', ')', ',', '17.°', ',', 'n.º', '1', 'e', '19°.', ',', 'n.ºs', '2', 'e', '3', 'da', 'Lei', '34/87', ',', 'de', '16', 'de', 'julho', ',', 'na', 'redacção', 'introduzida', 'pela', 'Lei', 'n°', '108/2001', ',', 'de', '28', 'de', 'Novembro-', 'Lei', 'dos', 'Crimes', 'de', 'Responsabilidade', 'dos', 'Titulares', 'de', 'Cargos', 'Políticos', ',', 'com', 'referência', 'aos', 'art.º', '28.°', 'e', '202.°', ',', 'alínea', 'b', ')', 'do', 'Código', 'Penal', ';', '-', 'Um', 'CRIME', 'DE', 'BRANQUEAMENTO', ',', 'em', 'co-autoria', 'com', 'os', 'arguidos', 'CARLOS', 'SANTOS', 'SILVA', 'e', 'JOAQUIM', 'BARROCA', 'relativamente', 'aos', 'movimentos', 'financeiros', 'com', 'origem', 'no', 'Grupo', 'LENA', 'e', 'com', 'passagem', 'pelas', 'contas', 'da', 'Suíça', 'tituladas', 'por', 'este', 'último', 'arguido', 'e', 'realizados', 'a', 'partir', 'de', '2007', ',', 'crime', 'p.', 'e', 'p.', 'pelo', 'art.368°-A', ',', 'n°', '1', ',', '2', 'e', '3', 'do', 'Código', 'Penal', ';', '2', 'S.', 'R.', 'TRIBUNAL', 'CENTRAL', 'DE', 'INSTRUÇÃO', 'CRIMINAL', '-', 'Um', 'CRIME', 'DE', 'BRANQUEAMENTO', ',', 'em', 'co-autoria', 'com', 'os', 'arguidos', 'CARLOS', 'SANTOS', 'SILVA', ',', 'JOAQUIM', 'BARROCA', 'e', 'com', 'as', 'sociedades', 'LEC', 'S.A.', 'e', 'XLM', ',', 'relativamente', 'a', 'utilização', 'desta', 'última', 'sociedade', ',', 'entre', '2009', 'e', '2015', ',', 'para', 'a', 'colocação', 'de', 'fundos', 'destinados', 'ao', 'arguido', 'JOSÉ', 'SÓCRATES', 'e', 'utilização', 'dos', 'mesmos', 'no', 'seu', 'interesse', 'através', 'do', 'pagamento', 'directo', 'de', 'despesas', 'ou', 'por', 'distribuição', 'de', 'dividendos', 'para', 'contas', 'tituladas', 'pelo', 'arguido', 'CARLOS', 'SANTOS', 'SILVA', ',', 'crime', 'p.', 'e', 'p.', 'pelo', 'art.368°-A', ',', 'n°', '1', ',', '2', 'e', '3', 'do', 'Código', 'Penal', ';', '-', 'Um', 'CRIME', 'DE', 'BRANQUEAMENTO', ',', 'em', 'co-autoria', 'com', 'os', 'arguidos', 'CARLOS', 'SANTOS', 'SILVA', ',', 'JOAQUIM', 'BARROCA', ',', 'RUI', 'MÃO', 'DE', 'FERRO', 'e', 'com', 'as', 'sociedades', 'LEC', 'SA', ',', 'XLM', 'e', 'RMF', 'CONSULTING', ',', 'relativamente', 'a', 'utilização', 'desta', 'última', 'sociedade', ',', 'entre', '2010', 'e', '2014', ',', 'para', 'a', 'colocação', 'de', 'fundos', 'destinados', 'ao', 'arguido', 'JOSÉ', 'SOCRATES', 'e', 'utilização', 'dos', 'mesmos', 'no', 'seu', 'interesse', 'através', 'do', 'pagamento', 'de', 'despesas', 'suas', 'e', 'colocação', 'de', 'numerário', 'a', 'sua', 'disposição', ',', 'crime', 'p.', 'e', 'p.', 'pelo', 'art.º', '368', '.', '°-A', ',', 'n.ºs', '1', ',', '2', 'e', '3', 'do', 'Código', 'Penal', ';', '-', 'Um', 'CRIME', 'DE', 'BRANQUEAMENTO', ',', 'em', 'co-autoria', 'com', 'os', 'arguidos', 'RICARDO', 'SALGADO', ',', 'HÉLDER', 'BATAGLIA', ',', 'CARLOS', 'SANTOS', 'SILVA', 'e', 'JOSÉ', 'PAULO', 'PINTO', 'DE', 'SOUSA', ',', 'relativamente', 'a', 'utilização', ',', 'entre', '2006', 'e', '2008', ',', 'de', 'contas', 'na', 'Suíça', 'em', 'que', 'este', 'último', 'era', 'autorizado', 'e', 'operações', 'financeiras', 'realizadas', 'a', 'partir', 'das', 'mesmas', ',', 'crime', 'p.', 'e', 'p.', 'pelo', 'art.º', '368', '.', '°-A', ',', 'n.ºs', '1,2', 'e', '3', 'do', 'Código', 'Penal', ';', '-', 'Um', 'CRIME', 'DE', 'BRANQUEAMENTO', ',', 'em', 'co-autoria', 'com', 'os', 'arguidos', 'RICARDO', 'SALGADO', ',', 'HÉLDER', 'BATAGLIA', ',', 'JOSÉ', 'PAULO', 'PINTO', 'DE', 'SOUSA', 'e', 'CARLOS', 'SANTOS', 'SILVA', 'relativamente', 'aos', '3', 'S.', 'R.', 'TRIBUNAL', 'CENTRAL', 'DE', 'INSTRUÇÃO', 'CRIMINAL', 'movimentos', 'financeiros', 'justificados', 'pelos', 'contratos', 'PINSONG', ',', 'realizados', 'no', 'ano', 'de', '2007', 'e', 'até', 'ao', 'início', 'de', '2008', ',', 'com', 'origem', 'em', 'conta', 'da', 'Suíça', 'da', 'ES', 'ENTERPRISES', ',', 'crime', 'p.', 'e', 'p.', 'pelo', 'art.368°-A', ',', 'n°', '1', ',', '2', 'e', '3', 'do', 'Código', 'Penal', ';', '-', 'Um', 'CRIME', 'DE', 'BRANQUEAMENTO', ',', 'em', 'co-autoria', 'com', 'os', 'arguidos', 'RICARDO', 'SALGADO', ',', 'HELDER', 'BATAGLIA', ',', 'CARLOS', 'SANTOS', 'SILVA', 'e', 'JOAQUIM', 'BARROCA', 'relativamente', 'aos', 'movimentos', 'financeiros', 'justificados', 'pelos', 'contratos', 'PINSONG', ',', 'realizados', 'a', 'partir', 'de', 'Abril', 'de', '2008', ',', 'com', 'origem', 'em', 'conta', 'na', 'Suíça', 'da', 'ES', 'ENTERPRISES', 'e', 'com', 'intervenção', 'das', 'contas', 'da', 'Suíça', 'do', 'arguido', 'JOAQUIM', 'BARROCA', ',', 'crime', 'p.', 'e', 'p.', 'pelo', 'art.º', '368', '.', '°-A', ',', 'n.ºs', '1', ',', '2', 'e', '3', 'do', 'Código', 'Penal', ';', '-', 'Um', 'CRIME', 'DE', 'BRANQUEAMENTO', ',', 'em', 'co-autoria', 'com', 'os', 'arguidos', 'RICARDO', 'SALGADO', ',', 'HÉLDER', 'BATAGLIA', ',', 'JOAQUIM', 'BARROCA', 'e', 'CARLOS', 'SANTOS', 'SILVA', 'e', 'com', 'as', 'sociedades', 'LEC', 'SA', ',', 'LEC', 'SGPS', ',', 'LENA', 'SGPS', 'e', 'XLM', ',', 'relativamente', 'aos', 'movimentos', 'financeiros', ',', 'ocorridos', 'a', 'partir', 'de', '2010', ',', 'abrangidos', 'pela', 'operação', 'CEL_2010', ',', 'justificados', 'através', 'de', 'contrato', 'promessa', 'de', 'compra', 'e', 'venda', 'com', 'perda', 'de', 'sinal', 'referente', 'ao', 'imóvel', 'KANHANGULO', ',', 'sito', 'em', 'Luanda', ',', 'e', 'introdução', 'desses', 'fundos', 'no', 'Grupo', 'LENA', ',', 'crime', 'p.', 'e', 'p.', 'pelo', 'art.º', '368.°-A', ',', 'n.ºs', '1', ',', '2', 'e', '3', 'do', 'Código', 'Penal', ';', '-', 'Um', 'CRIME', 'DE', 'BRANQUEAMENTO', ',', 'em', 'co-autoria', 'com', 'os', 'arguidos', 'CARLOS', 'SANTOS', 'SILVA', ',', 'JOAQUIM', 'BARROCA', ',', 'ARMANDO', 'VARA', ',', 'DIOGO', 'GASPAR', 'FERREIRA', ',', 'RUI', 'HORTA', 'E', 'COSTA', 'e', 'BÁRBARA', 'VARA', ',', 'relativamente', 'as', 'transferências', 'com', 'origem', 'em', 'conta', 'do', 'cidadão', 'holandês', 'Van', 'Doreen', ',', 'referentes', 'aos', 'financiamentos', 'concedidos', 'ao', 'Grupo', 'VALE', 'DO', 'LOBO', ',', 'com', 'passagem', 'por', 'conta', 'bancaria', 'da', 'Suíça', 'do', '4', 'S.', 'R.', 'TRIBUNAL', 'CENTRAL', 'DE', 'INSTRUÇÃO', 'CRIMINAL', 'arguido', 'JOAQUIM', 'BARROCA', ',', 'crime', 'p.', 'e', 'p.', 'pelo', 'art.368°-A', ',', 'nºs', 'l', ',', '2', 'e', '3', 'do', 'Código', 'Penal', ';', '-', 'Um', 'CRIME', 'DE', 'BRANQUEAMENTO', ',', 'em', 'co-autoria', 'com', 'o', 'arguido', 'CARLOS', 'SANTOS', 'SILVA', 'relativamente', 'a', 'concentração', 'dos', 'fundos', 'em', 'novas', 'contas', 'bancarias', 'da', 'Suíça', 'tituladas', 'por', 'sociedades', 'em', 'offshore', 'controladas', 'por', 'CARLOS', 'SANTOS', 'SILVA', 'e', 'sua', 'transferência', 'para', 'contas', 'tituladas', 'por', 'este', 'último', 'arguido', 'em', 'Portugal', ',', 'ao', 'abrigo', 'do', 'RERT', 'II', ',', 'crime', 'p.', 'e', 'p.', 'pelo', 'art.º', '368', '.', '°-A', ',', 'n°s', '1', ',', '2', 'e', '3', 'do', 'Código', 'Penal', ';', '-', 'Um', 'CRIME', 'DE', 'BRANQUEAMENTO', ',', 'em', 'co-autoria', 'com', 'o', 'arguido', 'CARLOS', 'SANTOS', 'SILVA', 'relativamente', 'a', 'dissipação', 'dos', 'fundos', 'por', 'outras', 'contas', 'em', 'Portugal', ',', 'de', 'que', 'este', 'último', 'arguido', 'era', 'titular', 'e', 'autorizado', ',', 'e', 'a', 'confusão', 'de', 'patrimónios', 'de', 'ambos', 'nessas', 'contas', 'bancarias', ',', 'crime', 'p.', 'e', 'p.', 'pelo', 'art.º', '368', '.', '°-A', ',', 'n.ºs', '1', ',', '2', 'e', '3', 'do', 'Código', 'Penal', ';', '-', 'Um', 'CRIME', 'DE', 'BRANQUEAMENTO', ',', 'em', 'co-autoria', 'com', 'os', 'arguidos', 'CARLOS', 'SANTOS', 'SILVA', 'e', 'GONÇALO', 'FERREIRA', ',', 'quanto', 'a', 'aquisição', 'de', 'imóveis', 'em', 'Portugal', 'com', 'o', 'retomo', 'do', 'preço', 'pago', 'para', 'a', 'esfera', 'patrimonial', 'do', 'arguido', 'JOSE', 'SOCRATES', ',', 'de', 'forma', 'justificada', ',', 'factos', 'ocorridos', 'entre', '2010', 'e', '2012', ',', 'crime', 'p.', 'e', 'p.', 'pelo', 'art.º', '368', '.', '°-A', ',', 'n.ºs', '1', ',', '2', 'e', '3', 'do', 'Código', 'Penal', ';', '-', 'Um', 'CRIME', 'DE', 'BRANQUEAMENTO', ',', 'em', 'co-autoria', 'com', 'os', 'arguidos', 'CARLOS', 'SANTOS', 'SILVA', 'e', 'GONÇALO', 'FERREIRA', ',', 'relativamente', 'a', 'aquisição', 'e', 'subsequente', 'arrendamento', 'de', 'um', 'imóvel', 'em', 'Paris', ',', 'com', 'intenção', 'de', 'ocultação', 'da', 'titularidade', 'do', 'activo', ',', 'factos', 'praticados', 'entre', '2012', 'e', '2014', ',', 'crime', 'p.', 'e', 'p.', 'pelo', 'art.º', '368', '.', '°-A', ',', 'n°s', '1', ',', '2', 'e', '3', 'do', 'Código', 'Penal', ';', '5', 'S.', 'R.', 'TRIBUNAL', 'CENTRAL', 'DE', 'INSTRUÇÃO', 'CRIMINAL', '-', 'Um', 'CRIME', 'DE', 'BRANQUEAMENTO', ',', 'em', 'co-autoria', 'com', 'os', 'arguidos', 'GONÇALO', 'FERREIRA', 'e', 'CARLOS', 'SANTOS', 'SILVA', ',', 'relativamente', 'a', 'entrega', 'por', 'este', 'último', 'arguido', 'de', 'quantias', 'pertencentes', 'ao', 'arguido', 'JOSÉ', 'SÓCRATES', 'para', 'depósito', 'em', 'contas', 'bancarias', 'do', 'arguido', 'GONÇALO', 'FERREIRA', 'e', 'para', 'guardar', 'em', 'cofre', 'bancário', 'e', 'em', 'contas', 'tituladas', 'pelo', 'mesmo', ',', 'de', 'forma', 'a', 'ocultar', 'a', 'propriedade', 'desses', 'valores', 'pelo', 'arguido', 'JOSÉ', 'SÓCRATES', ',', 'factos', 'ocorridos', 'nos', 'anos', 'de', '2012', 'e', '2013', ',', 'crime', 'p.', 'e', 'p.', 'pelo', 'art.368°-A', ',', 'n°', '1', ',', '2', 'e', '3', 'do', 'Código', 'Penal', ';', '-', 'Um', 'CRIME', 'DE', 'BRANQUEAMENTO', ',', 'em', 'co-autoria', 'com', 'os', 'arguidos', 'CARLOS', 'SANTOS', 'SILVA', 'e', 'INÊS', 'DO', 'ROSÁRIO', ',', 'relativamente', 'a', 'utilização', 'das', 'contas', 'bancárias', 'desta', 'ultima', 'arguida', 'junto', 'do', 'MONTEPIO', 'GERAL', 'e', 'a', 'recepção', 'pela', 'mesma', 'de', 'fundos', ',', 'provenientes', 'do', 'arguido', 'CARLOS', 'SANTOS', 'SILVA', 'para', 'entrega', 'ao', 'arguido', 'JOSÉ', 'SÓCRATES', ',', 'ocultando', 'a', 'propriedade', 'das', 'mesmas', 'quantias', 'por', 'este', 'último', ',', 'factos', 'ocorridos', 'nos', 'anos', 'de', '2013', 'e', '2014', ',', 'crime', 'p.', 'e', 'p.', 'pelo', 'art.º', '368', '.', '°-A', ',', 'n.ºs', '1', ',', '2', 'e', '3', 'do', 'Código', 'Penal', ';', '-', 'Um', 'CRIME', 'DE', 'BRANQUEAMENTO', ',', 'em', 'co-autoria', 'com', 'os', 'arguidos', 'CARLOS', 'SANTOS', 'SILVA', 'e', 'JOÃO', 'PERNA', ',', 'relativos', 'a', 'utilização', 'das', 'contas', 'tituladas', 'por', 'este', 'último', 'em', 'Portugal', 'como', 'contas', 'de', 'passagem', 'de', 'fundos', 'de', 'origem', 'ilícita', 'provenientes', 'do', 'arguido', 'CARLOS', 'SANTOS', 'SILVA', 'e', 'destinados', 'a', 'esfera', 'patrimonial', 'do', 'arguido', 'JOSÉ', 'SÓCRATES', ',', 'operações', 'ocorridas', 'entre', '2011', 'e', '2014', ',', 'crime', 'p.', 'e', 'p.', 'pelo', 'art.º', '368', '.', '°-A', ',', 'n.ºs', 'l', ',', '2', 'e', '3', 'do', 'Código', 'Penal', ';', '-', 'Um', 'CRIME', 'DE', 'BRANQUEAMENTO', ',', 'em', 'co-autoria', 'com', 'os', 'arguidos', 'CARLOS', 'SANTOS', 'SILVA', 'e', 'SOFIA', 'FAVA', 'relativamente', 'à', '6', 'S.', 'R.', 'TRIBUNAL', 'CENTRAL', 'DE', 'INSTRUÇÃO', 'CRIMINAL', 'aquisição', 'de', 'um', 'imóvel', ',', 'designado', '“', 'Monte', 'das', 'Margaridas', '”', ',', 'com', 'intenção', 'de', 'que', 'passasse', 'a', 'integrar', 'o', 'património', 'familiar', 'do', 'arguido', 'JOSÉ', 'SÓCRATES', ',', 'com', 'registo', 'em', 'nome', 'de', 'terceiro', 'e', 'montagem', 'de', 'operação', 'de', 'financiamento', 'e', 'formas', 'de', 'custear', 'as', 'prestações', 'da', 'mesma', ',', 'factos', 'ocorridos', 'entre', '2011', 'e', '2014', ',', 'crime', 'p.', 'e', 'p.', 'pelo', 'art.º', '368', '.', '°-A', ',', 'n.ºs', '1', ',', '2', 'e', '3', 'do', 'Código', 'Penal', ';', '-', 'Um', 'CRIME', 'DE', 'FALSIFICAÇÃO', 'DE', 'DOCUMENTO', ',', 'em', 'co-', 'autoria', 'com', 'o', 'arguido', 'CARLOS', 'SANTOS', 'SIVA', ',', 'relativamente', 'a', 'declaração', 'de', 'adesão', 'ao', 'RERT', 'II', 'e', 'outra', 'documentação', 'produzida', 'e', 'utilizada', 'para', 'esse', 'efeito', ',', 'no', 'que', 'se', 'reporta', 'a', 'titularidade', 'dos', 'elementos', 'patrimoniais', 'declarados', ',', 'concentrados', 'nas', 'contas', 'da', 'Suíça', 'até', 'final', 'do', 'ano', 'de', '2010', ',', 'crime', 'p.', 'e', 'p.', 'pelo', 'art.º', '256', '.', '°', ',', 'n.º', '1', ',', 'alíneas', 'a', ')', ',', 'd', ')', 'e', 'e', ')', 'do', 'Código', 'Penal', ';', '-', 'Um', 'CRIME', 'DE', 'FALSIFICAÇÃO', 'DE', 'DOCUMENTO', ',', 'em', 'co-', 'autoria', 'com', 'os', 'arguidos', 'CARLOS', 'SANTOS', 'SILVA', 'e', 'JOAQUIM', 'BARROCA', ',', 'relativamente', 'ao', 'primeiro', 'contrato', 'de', 'prestação', 'de', 'serviços', 'celebrado', 'entre', 'a', 'LEC', 'S.A.', 'e', 'a', 'XLM', ',', 'facturas', 'e', 'outra', 'documentação', 'produzida', 'ao', 'abrigo', 'do', 'mesmo', ',', 'factos', 'ocorridos', 'a', 'partir', 'de', '2009', ',', 'crime', 'p.', 'e', 'p.', 'pelo', 'art.º', '256', '.', '°', ',', 'n.º', 'l', ',', 'alíneas', 'a', ')', ',', 'd', ')', 'e', 'e', ')', 'do', 'Código', 'Penal', ';', '-', 'Um', 'CRIME', 'DE', 'FALSIFICAÇÃO', 'DE', 'DOCUMENTO', ',', 'em', 'co-', 'autoria', 'com', 'os', 'arguidos', 'CARLOS', 'SANTOS', 'SILVA', 'e', 'RUI', 'MÃO', 'DE', 'FERRO', 'com', 'referência', 'aos', 'contratos', 'de', 'prestação', 'de', 'serviços', 'celebrados', 'entre', 'as', 'sociedades', 'XLM', 'e', 'RMF', 'CONSULTING', ',', 'bem', 'como', 'facturas', 'e', 'outra', 'documentação', 'produzida', 'ao', 'abrigo', 'dos', 'mesmos', ',', 'que', 'serviram', 'de', 'suporte', 'a', 'circulação', 'de', 'quantias', 'entre', 'estas', 'sociedades', ',', 'com', 'origem', 'e', 'destino', 'no', 'arguido', 'JOSE', 'SOCRATES', ',', 'crime', 'p.', 'e', 'p.', 'pelo', 'art.º', '256', '.', '°', ',', 'n.º', 'l', ',', 'alíneas', 'a', ')', ',', 'd', ')', 'e', 'e', ')', 'do', 'Código', 'Penal', ';', '7', 'S.', 'R.', 'TRIBUNAL', 'CENTRAL', 'DE', 'INSTRUÇÃO', 'CRIMINAL', '-', 'Um', 'CRIME', 'DE', 'FALSIFICAÇÃO', 'DE', 'DOCUMENTO', ',', 'em', 'co-', 'autoria', 'com', 'os', 'arguidos', 'CARLOS', 'SANTOS', 'SILVA', ',', 'RICARDO', 'SALGADO', ',', 'HÉLDER', 'BATAGLIA', 'e', 'JOAQUIM', 'BARROCA', ',', 'relativamente', 'aos', 'factos', 'referentes', 'ao', 'conjunto', 'de', 'documentos', 'que', 'incluem', 'o', 'contrato', 'promessa', 'de', 'compra', 'e', 'venda', 'de', 'imóvel', 'em', 'Angola', ',', 'denominado', 'KANHANGULO', ',', 'contrato', 'de', 'intermediação', 'AII', 'e', 'XLM', ',', 'cartas', 'de', 'admissão', 'do', 'seu', 'incumprimento', 'e', 'perda', 'de', 'sinal', 'e', 'celebração', 'de', 'segundo', 'contrato', 'de', 'prestação', 'de', 'serviços', 'entre', 'a', 'LEC', 'e', 'a', 'XLM', ',', 'bem', 'como', 'facturas', 'e', 'outra', 'documentação', 'produzida', 'ao', 'abrigo', 'destes', 'contratos', ',', 'factos', 'ocorridos', 'a', 'partir', 'de', '2010', ',', 'crime', 'p.', 'e', 'p.', 'pelo', 'art.º', '256.°', ',', 'n.º', 'l', ',', 'alíneas', 'a', ')', ',', 'd', ')', 'e', 'e', ')', 'do', 'Código', 'Penal', ';', '-', 'Um', 'CRIME', 'DE', 'FALSIFICAÇÃO', 'DE', 'DOCUMENTO', ',', 'em', 'co-', 'autoria', 'com', 'os', 'arguidos', 'CARLOS', 'SANTOS', 'SILVA', 'e', 'SOFIA', 'FAVA', ',', 'com', 'referência', 'aos', 'contratos', 'de', 'prestação', 'de', 'serviços', 'celebrados', 'entra', 'a', 'XLM', 'e', 'arguida', 'SOFIA', 'FAVA', ',', 'que', 'serviram', 'de', 'suporte', 'ao', 'recebimento', 'de', 'quantias', 'por', 'esta', 'última', 'com', 'origem', 'no', 'arguido', 'JOSÉ', 'SÓCRATES', ',', 'crime', 'p.', 'e', 'p.', 'pelo', 'art.º', '256', '.', '°', ',', 'n.º', 'l', ',', 'alíneas', 'a', ')', ',', 'd', ')', 'e', 'e', ')', 'do', 'Código', 'Penal', ';', '-', 'Um', 'CRIME', 'DE', 'FALSIFICAÇÃO', 'DE', 'DOCUMENTO', ',', 'em', 'co-', 'autoria', 'com', 'o', 'arguido', 'CARLOS', 'SANTOS', 'SILVA', ',', 'com', 'referência', 'aos', 'contratos', 'de', 'prestação', 'de', 'serviços', 'celebrados', 'entre', 'a', 'sociedade', 'XLM', 'e', 'Ana', 'Bessa', ',', 'bem', 'como', 'facturas', 'e', 'outra', 'documentação', 'produzida', 'ao', 'abrigo', 'dos', 'mesmos', ',', 'que', 'serviram', 'de', 'suporte', 'ao', 'recebimento', 'de', 'quantias', 'por', 'esta', 'ultima', 'com', 'origem', 'no', 'arguido', 'JOSÉ', 'SÓCRATES', ',', 'crime', 'p.', 'e', 'p.', 'pelo', 'art.º', '256', '.', '°', ',', 'n.º', 'l', ',', 'alíneas', 'a', ')', ',', 'd', ')', 'e', 'e', ')', 'do', 'Código', 'Penal', ';', '-', 'Um', 'CRIME', 'DE', 'FALSIFICAÇÃO', 'DE', 'DOCUMENTO', ',', 'em', 'co-', 'autoria', 'com', 'os', 'arguidos', 'CARLOS', 'SANTOS', 'SILVA', 'e', 'RUI', 'MAO', 'DE', 'FERRO', '8', 'S.', 'R.', 'TRIBUNAL', 'CENTRAL', 'DE', 'INSTRUÇÃO', 'CRIMINAL', 'com', 'referência', 'aos', 'contratos', 'de', 'prestação', 'de', 'serviços', 'celebrados', 'entre', 'a', 'sociedade', 'RMF', 'CONSULTING', 'e', 'Domingos', 'Farinho', 'e', 'Jane', 'Kirkby', ',', 'bem', 'como', 'facturas', 'e', 'outra', 'documentação', 'produzida', 'ao', 'abrigo', 'dos', 'mesmos', ',', 'que', 'serviram', 'de', 'suporte', 'ao', 'recebimento', 'de', 'quantias', 'por', 'estes', 'últimos', 'com', 'origem', 'no', 'arguido', 'JOSÉ', 'SÓCRATES', ',', 'crime', 'p.', 'e', 'p.', 'pelo', 'art.º', '256', '.', '°', ',', 'n.º', 'l', ',', 'alíneas', 'a', ')', ',', 'd', ')', 'e', 'e', ')', 'do', 'Código', 'Penal', ';', '-', 'Um', 'CRIME', 'DE', 'FALSIFICAÇÃO', 'DE', 'DOCUMENTO', ',', 'em', 'co-', 'autoria', 'com', 'os', 'arguidos', 'CARLOS', 'SANTOS', 'SILVA', 'e', 'RUI', 'MÃO', 'DE', 'FERRO', 'com', 'referência', 'aos', 'contratos', 'de', 'prestação', 'de', 'serviços', 'celebrados', 'entre', 'a', 'sociedade', 'RMF', 'CONSULTING', 'e', 'António', 'Manuel', 'Peixoto', 'e', 'António', 'Mega', 'Peixoto', ',', 'bem', 'como', 'facturas', 'e', 'outra', 'documentação', 'produzida', 'ao', 'abrigo', 'dos', 'mesmos', ',', 'que', 'serviram', 'de', 'suporte', 'ao', 'recebimento', 'de', 'quantias', 'por', 'estes', 'últimos', 'com', 'origem', 'no', 'arguido', 'JOSÉ', 'SÓCRATES', ',', 'crime', 'p.', 'e', 'p.', 'pelo', 'art.º', '256.°', ',', 'n.º', 'l', ',', 'alíneas', 'a', ')', ',', 'd', ')', 'e', 'e', ')', 'do', 'Código', 'Penal', ';', '-', 'Um', 'CRIME', 'DE', 'FALSIFICAÇÃO', 'DE', 'DOCUMENTO', ',', 'em', 'co-', 'autoria', 'com', 'os', 'arguidos', 'GONCALO', 'FERREIRA', 'e', 'CARLOS', 'SANTOS', 'SILVA', ',', 'relativamente', 'a', 'produção', 'e', 'uso', 'de', 'documentação', 'referente', 'a', 'aquisição', 'e', 'subsequente', 'arrendamento', 'do', 'apartamento', 'de', 'Paris', ',', 'sito', 'na', 'Av', '.', 'President', 'Wilson', ',', 'crime', 'p.', 'e', 'p.', 'pelo', 'art.º', '256', '.', '°', ',', 'n.º', 'l', 'alíneas', 'a', ')', ',', 'd', ')', 'e', 'e', ')', 'do', 'Código', 'Penal', ';', '-', 'Um', 'CRIME', 'DE', 'FRAUDE', 'FISCAL', 'QUALIFICADA', ',', 'de', 'que', 'foi', 'beneficiário', ',', 'em', 'co-autoria', 'com', 'o', 'arguido', 'CARLOS', 'SANTOS', 'SILVA', ',', 'no', 'que', 'tange', 'ao', 'IRS', 'apurado', 'quanto', 'aos', 'anos', 'de', '2006', 'a', '2009', ',', 'crime', 'p.', 'e', 'p.', 'pelos', 'arts', '.', 'l03°-l', 'a', ')', ',', 'b', ')', 'e', 'c', ')', 'e', '104°-', '1', 'd', ')', ',', 'e', ')', 'e', 'f', ')', 'do', 'RGIT', ';', '9', 'S.', 'R.', 'TRIBUNAL', 'CENTRAL', 'DE', 'INSTRUÇÃO', 'CRIMINAL', '-', 'Um', 'CRIME', 'DE', 'FRAUDE', 'FISCAL', 'QUALIFICADA', ',', 'de', 'que', 'foi', 'beneficiário', ',', 'em', 'co-autoria', ',', 'com', 'os', 'arguidos', 'JOAQUIM', 'BARROCA', ',', 'CARLOS', 'SANTOS', 'SILVA', ',', 'LENA', 'ENGENHARIA', 'E', 'CONSTRUCOES', 'SA', 'e', 'XLM', '-', 'SOCIEDADE', 'DE', 'ESTUDOS', 'E', 'PROJECTOS', 'LDA', ',', 'no', 'que', 'tange', 'ao', 'IRS', 'apurado', 'quanto', 'aos', 'anos', 'de', '2009', 'a', '2012', ',', 'crime', 'p.', 'e', 'p.', 'pelos', 'arts', 'l03', '.', '°-l', 'a', ')', ',', 'b', ')', 'e', 'c', ')', 'e', '104', '.', '°-', '1', 'd', ')', ',', 'e', ')', 'e', 'f', ')', 'e', 'n.º', '2', 'do', 'RGIT', ',', 'atualmente', 'n.º', '2', 'alínea', 'a', ')', 'do', 'art.º', 'l04', '.', '°', 'do', 'RGIT', ';', '-', 'Um', 'CRIME', 'DE', 'FRAUDE', 'FISCAL', 'QUALIFICADA', ',', 'de', 'que', 'foi', 'beneficiário', ',', 'em', 'co-autoria', ',', 'com', 'os', 'arguidos', 'JOAQUIM', 'BARROCA', ',', 'CARLOS', 'SANTOS', 'SILVA', ',', 'LENA', 'ENGENHARIA', 'E', 'CONSTRUCOES', 'SA', 'e', 'XLM', '-', 'SOCIEDADE', 'DE', 'ESTUDOS', 'E', 'PROJECTOS', 'LDA', 'no', 'que', 'tange', 'ao', 'IRS', 'apurado', 'quanto', 'aos', 'anos', 'de', '2013', 'a', '2015', ',', 'crime', 'p.', 'e', 'p.', 'pelos', 'arts', 'l03', '.', '°-l', 'a', ')', ',', 'b', ')', 'e', 'c', ')', 'e', '104°-', '1', 'd', ')', ',', 'e', ')', 'e', 'n.º', '2', 'alínea', 'a', ')', 'e', 'n.º', '3', 'do', 'RGIT', '.', 'CARLOS', 'MANUEL', 'DOS', 'SANTOS', 'SILVA', '-', 'Um', 'CRIME', 'DE', 'CORRUPÇÃO', 'PASSIVA', 'DE', 'TITULAR', 'DE', 'CARGO', 'POLÍTICO', ',', 'em', 'co-autoria', 'com', 'o', 'arguido', 'JOSÉ', 'SÓCRATES', ',', 'com', 'referência', 'a', 'actos', 'praticados', 'no', 'interesse', 'do', 'Grupo', 'LENA', 'entre', '2005', 'e', '2011', ',', 'crime', 'p.', 'e', 'p.', 'pelas', 'disposições', 'conjugadas', 'dos', 'arts', 'lº', ',', '2.°', ',', '3.°', ',', 'n.º', '1', ',', 'alínea', 'd', ')', ',', '17.°', ',', 'n.º', '1', 'e', '19.°', ',', 'n.ºs', '2', 'e', '3', 'da', 'Lei', '34/87', ',', 'de', '16', 'de', 'Julho', ',', 'na', 'redacção', 'introduzida', 'pela', 'Lei', 'n°', '108/2001', ',', 'de', '28', 'de', 'Novembro-', 'Lei', 'dos', 'Crimes', 'de', 'Responsabilidade', 'dos', 'Titulares', 'de', 'Cargos', 'Políticos', ',', 'com', 'referência', 'aos', 'arts', '28.°', 'e', '202.°', ',', 'alínea', 'b', ')', 'do', 'Código', 'Penal', ';', '10', 'S.', 'R.', 'TRIBUNAL', 'CENTRAL', 'DE', 'INSTRUÇÃO', 'CRIMINAL', '-', 'Um', 'CRIME', 'DE', 'CORRUPÇÃO', 'ACTIVA', ',', 'em', 'co-autoria', 'com', 'os', 'arguidos', 'JOAQUIM', 'BARROCA', 'e', 'JOSÉ', 'RIBEIRO', 'DOS', 'SANTOS', 'e', 'com', 'as', 'sociedades', 'XMI', ',', 'LEC', 'SA', ',', 'LEC', 'SGPS', 'e', 'LENA', 'SA', ',', 'relativamente', 'ao', 'funcionário', 'LUÍS', 'MARQUES', ',', 'nos', 'anos', 'de', '2007', 'a', '2009', ',', 'crime', 'p.', 'e', 'p.', 'pelo', 'art.º', '374', '.', '°', ',', 'n.º', 'l', 'do', 'Código', 'Penal', ';', '-', 'Um', 'CRIME', 'DE', 'BRANQUEAMENTO', ',', 'em', 'co-autoria', 'com', 'os', 'arguidos', 'JOSÉ', 'SÓCRATES', 'e', 'JOAQUIM', 'BARROCA', 'relativamente', 'aos', 'movimentos', 'financeiros', 'com', 'origem', 'no', 'Grupo', 'LENA', 'e', 'com', 'passagem', 'pelas', 'contas', 'da', 'Suíça', 'deste', 'último', 'arguido', 'e', 'realizados', 'a', 'partir', 'de', '2007', ',', 'crime', 'p.', 'e', 'p.', 'pelo', 'art.368°-A', ',', 'n°', '1', ',', '2', 'e', '3', 'do', 'Código', 'Penal', ';', '-', 'Um', 'CRIME', 'DE', 'BRANQUEAMENTO', ',', 'em', 'co-autoria', 'com', 'os', 'arguidos', 'JOSÉ', 'SÓCRATES', 'e', 'JOAQUIM', 'BARROCA', 'e', 'com', 'as', 'sociedades', 'LEC', 'SA', '.', 'e', 'XLM', ',', 'relativamente', 'a', 'utilização', 'desta', 'ultima', 'sociedade', ',', 'entre', '2009', 'e', '2015', ',', 'para', 'a', 'colocação', 'de', 'fundos', 'destinados', 'ao', 'arguido', 'JOSÉ', 'SÓCRATES', 'e', 'sua', 'utilização', 'dos', 'mesmos', 'no', 'seu', 'interesse', 'através', 'do', 'pagamento', 'de', 'despesas', 'ou', 'por', 'distribuição', 'de', 'dividendos', 'para', 'contas', 'tituladas', 'pelo', 'arguido', 'CARLOS', 'SANTOS', 'SILVA', ',', 'crime', 'p.', 'e', 'p.', 'pelo', 'art.º', '368.°-A', ',', 'n.ºs', '1', ',', '2', 'e', '3', 'do', 'Código', 'Penal', ';', '-', 'Um', 'CRIME', 'DE', 'BRANQUEAMENTO', ',', 'em', 'co-autoria', 'com', 'os', 'arguidos', 'JOSÉ', 'SÓCRATES', ',', 'JOAQUIM', 'BARROCA', 'e', 'RUI', 'MÃO', 'DE', 'FERRO', 'e', 'com', 'as', 'sociedades', 'LEC', 'SA', ',', 'XLM', 'e', 'RMF', 'CONSULTING', ',', 'relativamente', 'a', 'utilização', 'desta', 'última', 'sociedade', ',', 'entre', '2010', 'e', '2014', ',', 'para', 'a', 'colocação', 'de', 'fundos', 'destinados', 'ao', 'arguido', 'JOSÉ', 'SÓCRATES', 'e', 'utilização', 'dos', 'mesmos', 'no', 'seu', 'interesse', 'através', 'do', 'pagamento', 'de', 'despesas', 'e', 'colocação', 'de', '11', 'S.', 'R.', 'TRIBUNAL', 'CENTRAL', 'DE', 'INSTRUÇÃO', 'CRIMINAL', 'numerário', 'a', 'sua', 'disposição', ',', 'entre', '2010', 'e', '2014', ',', 'crime', 'p.', 'e', 'p.', 'pelo', 'art.º', '368.°-A', ',', 'n.ºs', '1', ',', '2', 'e', '3', 'do', 'Código', 'Penal', ';', '-', 'Um', 'CRIME', 'DE', 'BRANQUEAMENTO', ',', 'em', 'co-autoria', 'com', 'os', 'arguidos', 'JOAQUIM', 'BARROCA', ',', 'JOSÉ', 'LUÍS', 'RIBEIRO', 'DOS', 'SANTOS', ',', 'LUÌS', 'MARQUES', 'e', 'com', 'a', 'sociedade', 'XMI', ',', 'relativamente', 'a', 'utilização', 'desta', 'última', 'sociedade', 'e', 'sua', 'contabilidade', 'para', 'a', 'colocação', 'de', 'fundos', 'na', 'esfera', 'patrimonial', 'do', 'arguido', 'LUÍS', 'MARQUES', ',', 'crime', 'p.', 'e', 'p.', 'pelo', 'art.º', '368', '.', '°-A', ',', 'n.ºs', '1', ',', '2', 'e', '3', 'do', 'Código', 'Penal', ';', '-', 'Um', 'CRIME', 'DE', 'BRANQUEAMENTO', ',', 'em', 'co-autoria', 'com', 'os', 'arguidos', 'JOSÉ', 'SÓCRATES', ',', 'RICARDO', 'SALGADO', ',', 'HÉLDER', 'BATAGLIA', 'e', 'JOSÉ', 'PAULO', 'PINTO', 'DE', 'SOUSA', ',', 'relativamente', 'a', 'utilização', ',', 'entre', '2006', 'e', '2008', ',', 'das', 'contas', 'na', 'Suíça', 'em', 'que', 'este', 'último', 'era', 'autorizado', 'e', 'operações', 'financeiras', 'realizadas', 'a', 'partir', 'das', 'mesmas', ',', 'crime', 'p.', 'e', 'p.', 'pelo', 'art.º', '368', '.', '°-A', ',', 'n.ºs', '1', ',', '2', 'e', '3', 'do', 'Código', 'Penal', ';', '-', 'Um', 'CRIME', 'DE', 'BRANQUEAMENTO', ',', 'em', 'co-autoria', 'com', 'os', 'arguidos', 'JOSÉ', 'SÒCRATES', ',', 'RICARDO', 'SALGADO', ',', 'HÉLDER', 'BATAGLIA', 'e', 'JOSÉ', 'PAULO', 'PINTO', 'DE', 'SOUSA', 'relativamente', 'aos', 'movimentos', 'financeiros', 'justificados', 'pelos', 'contratos', 'PINSONG', ',', 'realizados', 'no', 'ano', 'de', '2007', 'e', 'até', 'ao', 'início', 'de', '2008', ',', 'com', 'origem', 'em', 'conta', 'da', 'Suíça', 'da', 'ES', 'ENTERPRISES', ',', 'crime', 'p.', 'e', 'p.', 'pelo', 'art.º', '368', '.', '°-A', ',', 'n.ºs', '1,2', 'e', '3', 'do', 'Código', 'Penal', ';', '-', 'Um', 'CRIME', 'DE', 'BRANQUEAMENTO', ',', 'em', 'co-autoria', 'com', 'os', 'arguidos', 'JOSÉ', 'SÓCRATES', ',', 'RICARDO', 'SALGADO', ',', 'HÉLDER', 'BATAGLIA', 'e', 'JOAQUIM', 'BARROCA', 'relativamente', 'aos', 'movimentos', 'financeiros', 'justificados', 'pelos', 'contratos', 'PINSONG', ',', 'realizados', 'a', 'partir', 'de', 'abril', 'de', '2008', ',', 'com', 'origem', 'em', 'conta', 'da', 'Suíça', 'da', 'ES', 'ENTERPRISES', 'com', 'intervenção', 'das', '12', 'S.', 'R.', 'TRIBUNAL', 'CENTRAL', 'DE', 'INSTRUÇÃO', 'CRIMINAL', 'contas', 'da', 'Suíça', 'do', 'arguido', 'JOAQUIM', 'BARROCA', ',', 'crime', 'p.', 'e', 'p.', 'pelo', 'art.º', '368', '.', '°-A', ',', 'n.ºs', '1', ',', '2', 'e', '3', 'do', 'Código', 'Penal', ';', '-', 'Um', 'CRIME', 'DE', 'BRANQUEAMENTO', ',', 'em', 'co-autoria', 'com', 'os', 'arguidos', 'JOSÉ', 'SÓCRATES', ',', 'RICARDO', 'SALGADO', ',', 'HÉLDER', 'BATAGLIA', 'e', 'JOAQUIM', 'BARROCA', 'e', 'pelas', 'sociedades', 'LEC', 'SA', ',', 'LEC', 'SGPS', ',', 'LENA', 'SGPS', 'e', 'XLM', ',', 'relativamente', 'aos', 'movimentos', 'financeiros', ',', 'ocorridos', 'a', 'partir', 'de', '2010', ',', 'abrangidos', 'pela', 'operação', 'CEL_2010', ',', 'ocorridos', 'a', 'partir', 'de', '2010', 'e', 'justificados', 'através', 'de', 'contrato', 'promessa', 'de', 'compra', 'e', 'venda', 'com', 'perda', 'de', 'sinal', 'referente', 'ao', 'imóvel', 'KANHANGULO', ',', 'sito', 'em', 'Luanda', ',', 'e', 'introdução', 'desses', 'fundos', 'no', 'Grupo', 'LENA', ',', 'crime', 'p.', 'e', 'p.', 'pelo', 'art.º', '368.°-A', ',', 'n.ºs', '1', ',', '2', 'e', '3', 'do', 'Código', 'Penal', ';', '-', 'Um', 'CRIME', 'DE', 'BRANQUEAMENTO', ',', 'em', 'co-autoria', 'com', 'os', 'arguidos', 'JOSÉ', 'SÓCRATES', ',', 'JOAQUIM', 'BARROCA', 'ARMANDO', 'VARA', ',', 'DIOGO', 'GASPAR', 'FERREIRA', ',', 'RUI', 'HORTA', 'E', 'COSTA', 'e', 'BÁRBARA', 'VARA', 'relativamente', 'as', 'transferências', 'com', 'origem', 'em', 'conta', 'do', 'cidadão', 'holandês', 'Van', 'Doreen', ',', 'referentes', 'aos', 'financiamentos', 'concedidos', 'ao', 'Grupo', 'VALE', 'DO', 'LOBO', ',', 'com', 'passagem', 'por', 'conta', 'bancaria', 'da', 'Suíça', 'titulada', 'pelo', 'arguido', 'JOAQUIM', 'BARROCA', ',', 'crime', 'p.', 'e', 'p.', 'pelo', 'art.368°-A', ',', 'n°', '1', ',', '2', 'e', '3', 'do', 'Código', 'Penal', ';', '-', 'Um', 'CRIME', 'DE', 'BRANQUEAMENTO', ',', 'em', 'co-autoria', 'com', 'o', 'arguido', 'JOSÉ', 'SÓCRATES', 'relativamente', 'a', 'concentração', 'dos', 'fundos', 'em', 'novas', 'contas', 'bancarias', 'da', 'Suíça', 'tituladas', 'por', 'sociedades', 'offshore', ',', 'controladas', 'pelo', 'arguido', 'CARLOS', 'SANTOS', 'SILVA', ',', 'e', 'sua', 'transferência', 'para', 'contas', 'tituladas', 'pelo', 'mesmo', 'arguido', 'em', 'Portugal', ',', 'ao', 'abrigo', 'do', 'RERT', 'II', ',', 'crime', 'p.', 'e', 'p.', 'pelo', 'art.º', '368', '.', '°-A', ',', 'n.ºs', '1', ',', '2', 'e', '3', 'do', 'Código', 'Penal', ';', '13', 'S.', 'R.', 'TRIBUNAL', 'CENTRAL', 'DE', 'INSTRUÇÃO', 'CRIMINAL', '-', 'Um', 'CRIME', 'DE', 'BRANQUEAMENTO', ',', 'em', 'co-autoria', 'com', 'o', 'arguido', 'JOSÉ', 'SÓCRATES', 'relativamente', 'a', 'dissipação', 'dos', 'fundos', 'por', 'outras', 'contas', 'em', 'Portugal', ',', 'em', 'que', 'o', 'arguido', 'CARLOS', 'SANTOS', 'SILVA', 'era', 'titular', 'e', 'autorizado', ',', 'e', 'a', 'confusão', 'de', 'patrimónios', 'de', 'ambos', 'nessas', 'contas', 'bancárias', ',', 'crime', 'p.', 'e', 'p.', 'pelo', 'art.º', '368', '.', '°-A', ',', 'n.ºs', '1', ',', '2', 'e', '3', 'do', 'Código', 'Penal', ';', '-', 'Um', 'CRIME', 'DE', 'BRANQUEAMENTO', ',', 'em', 'co-autoria', 'com', 'os', 'arguidos', 'JOSÉ', 'SÓCRATES', 'e', 'GONÇALO', 'FERREIRA', ',', 'quanto', 'a', 'aquisição', 'de', 'imóveis', 'em', 'Portugal', ',', 'com', 'o', 'retomo', 'do', 'preço', 'pago', 'para', 'a', 'esfera', 'patrimonial', 'do', 'arguido', 'JOSÉ', 'SÓCRATES', ',', 'de', 'forma', 'justificada', ',', 'factos', 'ocorridos', 'entre', '2010', 'e', '2012', ',', 'crime', 'p.', 'e', 'p.', 'pelo', 'art.º', '368', '.', '°-A', ',', 'n.ºs', '1', ',', '2', 'e', '3', 'do', 'Código', 'Penal', ';', '-', 'Um', 'CRIME', 'DE', 'BRANQUEAMENTO', ',', 'em', 'co-autoria', 'com', 'os', 'arguidos', 'JOSÉ', 'SÓCRATES', 'e', 'GONÇALO', 'FERREIRA', ',', 'relativamente', 'a', 'aquisição', 'e', 'subsequente', 'arrendamento', 'de', 'um', 'imóvel', 'em', 'Paris', ',', 'com', 'intenção', 'de', 'ocultação', 'da', 'titularidade', 'do', 'activo', ',', 'factos', 'praticados', 'entre', '2012', 'e', '2014', ',', 'crime', 'p.', 'e', 'p.', 'pelo', 'art.º', '368', '.', '°-A', ',', 'n.ºs', '1', ',', '2', 'e', '3', 'do', 'Código', 'Penal', ';', '-', 'Um', 'CRIME', 'DE', 'BRANQUEAMENTO', ',', 'em', 'co-autoria', 'com', 'os', 'arguidos', 'JOSÉ', 'SÓCRATES', 'e', 'GONÇALO', 'FERREIRA', ',', 'relativamente', 'a', 'entrega', 'pelo', 'arguido', 'CARLOS', 'SANTOS', 'SILVA', 'de', 'quantias', 'pertencentes', 'ao', 'arguido', 'JOSÉ', 'SÓCRATES', 'para', 'depósito', 'em', 'contas', 'bancárias', 'do', 'arguido', 'GONÇALO', 'FERREIRA', 'e', 'para', 'guardar', 'em', 'cofre', 'bancário', 'e', 'em', 'contas', 'tituladas', 'pelo', 'mesmo', ',', 'de', 'forma', 'a', 'ocultar', 'a', 'propriedade', 'desses', 'fundos', 'pelo', 'arguido', 'JOSÉ', 'SÓCRATES', ',', 'factos', 'ocorridos', 'nos', 'anos', 'de', '2012', 'e', '2013', ',', 'crime', 'p.', 'e', 'p.', 'pelo', 'art.º', '368.°-A', ',', 'n.ºs', '1', ',', '2', 'e', '3', 'do', 'Código', 'Penal', ';', '-', 'Um', 'CRIME', 'DE', 'BRANQUEAMENTO', ',', 'em', 'co-autoria', 'com', 'os', 'arguidos', 'JOSÉ', 'SÓCRATES', 'e', 'INÊS', 'DO', 'ROSÁRIO', ',', 'relativamente', 'a', '14', 'S.', 'R.', 'TRIBUNAL', 'CENTRAL', 'DE', 'INSTRUÇÃO', 'CRIMINAL', 'utilização', 'das', 'contas', 'bancárias', 'desta', 'última', 'arguida', 'junto', 'do', 'MONTEPIO', 'GERAL', 'e', 'a', 'recepção', 'pela', 'mesma', 'de', 'fundos', ',', 'provenientes', 'do', 'arguido', 'CARLOS', 'SANTOS', 'SILVA', 'para', 'entrega', 'ao', 'arguido', 'JOSÉ', 'SÓCRATES', ',', 'ocultando', 'a', 'propriedade', 'das', 'mesmas', 'por', 'este', 'último', ',', 'factos', 'ocorridos', 'nos', 'anos', 'de', '2013', 'e', '2014', ',', 'crime', 'p.', 'e', 'p.', 'pelo', 'art.º', '368', '.', '°-A', ',', 'n.ºs', '1', ',', '2', 'e', '3', 'do', 'Código', 'Penal', ';', '-', 'Um', 'CRIME', 'DE', 'BRANQUEAMENTO', ',', 'em', 'co-autoria', 'com', 'os', 'arguidos', 'JOSÉ', 'SÓCRATES', 'e', 'JOÃO', 'PERNA', ',', 'relativos', 'a', 'utilização', 'das', 'contas', 'tituladas', 'por', 'este', 'último', 'como', 'contas', 'de', 'passagem', 'de', 'fundos', 'de', 'origem', 'ilícita', 'provenientes', 'de', 'CARLOS', 'SANTOS', 'SILVA', 'e', 'destinados', 'a', 'esfera', 'patrimonial', 'do', 'arguido', 'JOSÉ', 'SÓCRATES', ',', 'operações', 'ocorridas', 'entre', '2011', 'e', '2014', ',', 'crime', 'p.', 'e', 'p.', 'pelo', 'art.º', '368', '.', '°-A', ',', 'n.ºs', 'l', ',', '2', 'e', '3', 'do', 'Código', 'Penal', ';', '-', 'Um', 'CRIME', 'DE', 'BRANQUEAMENTO', ',', 'em', 'co-autoria', 'com', 'os', 'arguidos', 'JOSÉ', 'SÒCRATES', 'e', 'SOFIA', 'FAVA', 'relativamente', 'a', 'aquisição', 'de', 'um', 'imóvel', ',', 'designado', '“', 'Monte', 'das', 'Margaridas', '”', ',', 'com', 'intenção', 'de', 'que', 'passasse', 'a', 'integrar', 'o', 'património', 'familiar', 'do', 'arguido', 'JOSÉ', 'SÒCRATES', ',', 'com', 'registo', 'em', 'nome', 'de', 'terceiro', 'e', 'montagem', 'de', 'operação', 'de', 'financiamento', 'e', 'formas', 'de', 'custear', 'as', 'prestações', 'da', 'mesma', ',', 'factos', 'ocorridos', 'entre', '2011', 'e', '2014', ',', 'crime', 'p.', 'e', 'p.', 'pelo', 'art.º', '368', '.', '°-A', ',', 'n.ºs', '1', ',', '2', 'e', '3', 'do', 'Código', 'Penal', ';', '-', 'Um', 'CRIME', 'DE', 'FALSIFICAÇÃO', 'DE', 'DOCUMENTO', ',', 'em', 'co-', 'autoria', 'com', 'o', 'arguido', 'JOSE', 'SOCRATES', ',', 'relativamente', 'a', 'declaração', 'de', 'adesão', 'ao', 'RERT', 'II', 'e', 'outra', 'documentação', 'produzida', 'e', 'utilizada', 'para', 'esse', 'efeito', ',', 'no', 'que', 'se', 'reporta', 'a', 'titularidade', 'dos', 'elementos', 'patrimoniais', 'declarados', ',', 'concentrados', 'nas', 'contas', 'da', 'Suíça', 'até', 'ao', 'final', 'do', 'ano', 'de', '2010', ',', 'crime', 'p.', 'e', 'p.', 'pelo', 'art.º', '256', '.', '°', ',', 'n.ºs', '1', ',', 'alíneas', 'a', ')', ',', 'd', ')', 'e', 'e', ')', 'do', 'Código', 'Penal', ';', '15', 'S.', 'R.', 'TRIBUNAL', 'CENTRAL', 'DE', 'INSTRUÇÃO', 'CRIMINAL', '-', 'Um', 'CRIME', 'DE', 'FALSIFICAÇÃO', 'DE', 'DOCUMENTO', ',', 'em', 'co-', 'autoria', 'com', 'os', 'arguidos', 'JOSÉ', 'SÓCRATES', 'e', 'JOAQUIM', 'BARROCA', ',', 'relativamente', 'ao', 'primeiro', 'contrato', 'de', 'prestação', 'de', 'serviços', 'celebrado', 'entre', 'a', 'LEC', 'SA', 'e', 'a', 'XLM', ',', 'facturas', 'e', 'outra', 'documentação', 'produzida', 'ao', 'abrigo', 'do', 'mesmo', ',', 'factos', 'ocorridos', 'a', 'partir', 'de', '2009', ',', 'crime', 'p.', 'e', 'p.', 'pelo', 'art.º', '256', '.', '°', ',', 'n.º', '1', ',', 'alíneas', 'a', ')', ',', 'd', ')', 'e', 'e', ')', 'do', 'Código', 'Penal', ';', '-', 'Um', 'CRIME', 'DE', 'FALSIFICAÇÃO', 'DE', 'DOCUMENTO', ',', 'praticado', ',', 'em', 'co-autoria', ',', 'com', 'os', 'arguidos', 'JOSÉ', 'SOCRATES', 'e', 'RUI', 'MÃO', 'DE', 'FERRO', 'com', 'referência', 'aos', 'contratos', 'de', 'prestação', 'de', 'serviços', 'celebrados', 'entre', 'as', 'sociedades', 'XLM', 'e', 'RMF', 'CONSULTING', ',', 'bem', 'como', 'facturas', 'e', 'outra', 'documentação', 'produzida', 'ao', 'abrigo', 'dos', 'mesmos', ',', 'que', 'serviram', 'de', 'suporte', 'a', 'circulação', 'de', 'quantias', 'entre', 'estas', 'sociedades', ',', 'com', 'origem', 'e', 'destino', 'no', 'arguido', 'JOSÉ', 'SÓCRATES', ',', 'crime', 'p.', 'e', 'p.', 'pelo', 'art.º', '256', '.', '°', ',', 'n.º', 'l', ',', 'alíneas', 'a', ')', ',', 'd', ')', 'e', 'e', ')', 'do', 'Código', 'Penal', ';', '-', 'Um', 'CRIME', 'DE', 'FALSIFICAÇÃO', 'DE', 'DOCUMENTO', 'relativamente', 'aos', 'relatórios', 'de', 'catividades', 'da', 'XLM', ',', 'em', 'co-autoria', 'com', 'os', 'arguidos', 'RUI', 'MÃO', 'DE', 'FERRO', 'e', 'JOAQUIM', 'BARROCA', ',', 'relativos', 'ao', 'forjar', 'e', 'execução', 'do', 'primeiro', 'contrato', 'entre', 'a', 'LEC', 'SA', 'e', 'a', 'XLM', ',', 'factos', 'ocorridos', 'entre', '2011', 'e', '2013', ',', 'crime', 'p.', 'e', 'p.', 'pelo', 'art.º', '256', '.', '°', ',', 'n.º', 'l', ',', 'alíneas', 'a', ')', ',', 'd', ')', 'e', 'e', ')', 'do', 'Código', 'Penal', ';', '-', 'Um', 'CRIME', 'DE', 'FALSIFICAÇÃO', 'DE', 'DOCUMENTO', ',', 'em', 'co-', 'autoria', 'com', 'os', 'arguidos', 'JOSÉ', 'SÓCRATES', ',', 'RICARDO', 'SALGADO', ',', 'HÉLDER', 'BATAGLIA', 'e', 'JOAQUIM', 'BARROCA', ',', 'relativamente', 'aos', 'factos', 'referentes', 'ao', 'conjunto', 'de', 'documentos', 'que', 'incluem', 'o', 'contrato', 'promessa', 'de', 'compra', 'e', 'venda', 'de', 'imóvel', 'em', 'Angola', ',', 'denominado', 'KANHANGULO', ',', '16', 'S.', 'R.', 'TRIBUNAL', 'CENTRAL', 'DE', 'INSTRUÇÃO', 'CRIMINAL', 'contrato', 'de', 'intermediação', 'AII', 'e', 'XLM', ',', 'cartas', 'de', 'admissão', 'do', 'seu', 'incumprimento', 'e', 'perda', 'de', 'sinal', 'e', 'celebração', 'de', 'segundo', 'contrato', 'de', 'prestação', 'de', 'serviços', 'entre', 'a', 'LEC', 'e', 'a', 'XLM', ',', 'bem', 'como', 'facturas', 'e', 'outra', 'documentação', 'produzida', 'ao', 'abrigo', 'desses', 'contratos', ',', 'crime', 'p.', 'e', 'p.', 'pelo', 'art.º', '256.°', ',', 'n.º', 'l', ',', 'alíneas', 'a', ')', ',', 'd', ')', 'e', 'e', ')', 'do', 'Código', 'Penal', ';', '-', 'Um', 'CRIME', 'DE', 'FALSIFICAÇÃO', 'DE', 'DOCUMENTO', ',', 'em', 'co-', 'autoria', 'com', 'os', 'arguidos', 'JOSÉ', 'SÓCRATES', 'e', 'SOFIA', 'FAVA', ',', 'com', 'referência', 'aos', 'contratos', 'de', 'prestação', 'de', 'serviços', 'celebrados', 'entre', 'a', 'XLM', 'e', 'a', 'arguida', 'SOFIA', 'FAVA', ',', 'que', 'serviram', 'de', 'suporte', 'ao', 'recebimento', 'de', 'quantias', 'por', 'esta', 'última', 'com', 'origem', 'no', 'arguido', 'JOSÉ', 'SÓCRATES', ',', 'crime', 'p.', 'e', 'p.', 'pelo', 'art.º', '256', '.', '°', ',', 'n.ºs', 'l', ',', 'alíneas', 'a', ')', ',', 'd', ')', 'e', 'e', ')', 'do', 'Código', 'Penal', ';', '-', 'Um', 'CRIME', 'DE', 'FALSIFICAÇÃO', 'DE', 'DOCUMENTO', ',', 'em', 'co-', 'autoria', 'com', 'o', 'arguido', 'JOSÉ', 'SÓCRATES', ',', 'com', 'referência', 'aos', 'contratos', 'de', 'prestação', 'de', 'serviços', 'celebrados', 'entre', 'a', 'sociedade', 'XLM', 'e', 'Ana', 'Bessa', ',', 'bem', 'como', 'facturas', 'e', 'outra', 'documentação', 'produzida', 'ao', 'abrigo', 'dos', 'mesmos', ',', 'que', 'serviram', 'de', 'suporte', 'ao', 'recebimento', 'de', 'quantias', 'por', 'esta', 'última', 'com', 'origem', 'no', 'arguido', 'JOSÉ', 'SÓCRATES', ',', 'crime', 'p.', 'e', 'p.', 'pelo', 'art.º', '256', '.', '°', ',', 'n.º', 'l', ',', 'alíneas', 'a', ')', ',', 'd', ')', 'e', 'e', ')', 'do', 'Código', 'Penal', ';', '-', 'Um', 'CRIME', 'DE', 'FALSIFICAÇÃO', 'DE', 'DOCUMENTO', ',', 'em', 'co-', 'autoria', 'com', 'os', 'arguidos', 'JOSÉ', 'SÓCRATES', 'e', 'RUI', 'MÃO', 'DE', 'FERRO', 'com', 'referência', 'aos', 'contratos', 'de', 'prestação', 'de', 'serviços', 'celebrados', 'entre', 'a', 'sociedade', 'RMF', 'CONSULTING', 'e', 'Domingos', 'Farinho', 'e', 'Jane', 'Kirkby', ',', 'bem', 'como', 'facturas', 'e', 'outra', 'documentação', 'produzida', 'ao', 'abrigo', 'dos', 'mesmos', ',', 'que', 'serviram', 'de', 'suporte', 'ao', 'recebimento', 'de', 'quantias', 'por', 'estes', 'últimos', 'com', 'origem', 'no', 'arguido', '17', 'S.', 'R.', 'TRIBUNAL', 'CENTRAL', 'DE', 'INSTRUÇÃO', 'CRIMINAL', 'JOSÉ', 'SÓCRATES', ',', 'crime', 'p.', 'e', 'p.', 'pelo', 'art.º', '256', '.', '°', ',', 'n.º', 'l', ',', 'alíneas', 'a', ')', ',', 'd', ')', 'e', 'e', ')', 'do', 'Código', 'Penal', ';', '-', 'Um', 'CRIME', 'DE', 'FALSIFICAÇÃO', 'DE', 'DOCUMENTO', ',', 'em', 'co-', 'autoria', 'com', 'os', 'arguidos', 'JOSÉ', 'SÓCRATES', 'e', 'RUI', 'MÃO', 'DE', 'FERRO', 'com', 'referência', 'aos', 'contratos', 'de', 'prestação', 'de', 'serviços', 'celebrados', 'entre', 'a', 'sociedade', 'RMF', 'CONSULTING', 'e', 'António', 'Manuel', 'Peixoto', 'e', 'António', 'Mega', 'Peixoto', ',', 'bem', 'como', 'facturas', 'e', 'outra', 'documentação', 'produzida', 'ao', 'abrigo', 'dos', 'mesmos', ',', 'que', 'serviram', 'de', 'suporte', 'ao', 'recebimento', 'de', 'quantias', 'por', 'estes', 'últimos', 'com']\n"
     ]
    }
   ],
   "source": [
    "tokenized_word=word_tokenize(text)\n",
    "print(tokenized_word)"
   ]
  },
  {
   "cell_type": "code",
   "execution_count": 180,
   "id": "narrative-helping",
   "metadata": {},
   "outputs": [
    {
     "name": "stdout",
     "output_type": "stream",
     "text": [
      "<FreqDist with 492 samples and 5283 outcomes>\n"
     ]
    }
   ],
   "source": [
    "from nltk.probability import FreqDist\n",
    "fdist = FreqDist(tokenized_word)\n",
    "print(fdist)"
   ]
  },
  {
   "cell_type": "code",
   "execution_count": 181,
   "id": "buried-partition",
   "metadata": {},
   "outputs": [
    {
     "data": {
      "text/plain": [
       "[(',', 490), ('e', 323)]"
      ]
     },
     "execution_count": 181,
     "metadata": {},
     "output_type": "execute_result"
    }
   ],
   "source": [
    "fdist.most_common(2)"
   ]
  },
  {
   "cell_type": "code",
   "execution_count": 182,
   "id": "welsh-editor",
   "metadata": {},
   "outputs": [
    {
     "data": {
      "image/png": "[encoded data removed]",
      "text/plain": [
       "<Figure size 432x288 with 1 Axes>"
      ]
     },
     "metadata": {
      "needs_background": "light"
     },
     "output_type": "display_data"
    }
   ],
   "source": [
    "import matplotlib.pyplot as plt\n",
    "fdist.plot(30,cumulative=False)\n",
    "plt.show()"
   ]
  },
  {
   "cell_type": "code",
   "execution_count": 183,
   "id": "thick-thriller",
   "metadata": {
    "collapsed": true,
    "jupyter": {
     "outputs_hidden": true
    }
   },
   "outputs": [
    {
     "name": "stdout",
     "output_type": "stream",
     "text": [
      "{'tua', 'como', 'aquela', 'tive', 'em', 'pelos', 'meu', 'sejam', 'numa', 'nas', 'fossem', 'seriam', 'com', 'teria', 'por', 'tu', 'minhas', 'de', 'seria', 'não', 'houvermos', 'eu', 'estamos', 'num', 'formos', 'houverem', 'serei', 'teve', 'teríamos', 'fôramos', 'sejamos', 'estiverem', 'há', 'estava', 'tivesse', 'ela', 'isto', 'houverá', 'nós', 'tinha', 'deles', 'pelas', 'terá', 'no', 'fora', 'às', 'estivera', 'são', 'seremos', 'fosse', 'do', 'somos', 'houverão', 'houveram', 'estive', 'será', 'éramos', 'tivessem', 'hei', 'tiveram', 'aquelas', 'lhe', 'uma', 'estavam', 'quem', 'suas', 'sua', 'teriam', 'nossa', 'seus', 'nossas', 'esteja', 'estivéramos', 'era', 'ou', 'este', 'na', 'te', 'fôssemos', 'estivermos', 'quando', 'e', 'eles', 'tuas', 'esses', 'estejam', 'ele', 'elas', 'esta', 'à', 'tenham', 'qual', 'tém', 'que', 'tenha', 'esse', 'mesmo', 'estejamos', 'até', 'teus', 'esteve', 'estas', 'a', 'seja', 'houveremos', 'houveria', 'estivéssemos', 'só', 'mais', 'estiveram', 'os', 'teremos', 'da', 'você', 'dela', 'tivemos', 'tivéramos', 'essas', 'lhes', 'tem', 'estivesse', 'tínhamos', 'se', 'sem', 'aos', 'houvéramos', 'houve', 'dele', 'nossos', 'delas', 'houvesse', 'tiverem', 'é', 'tenhamos', 'meus', 'mas', 'sou', 'seu', 'eram', 'aquele', 'dos', 'houvéssemos', 'me', 'terei', 'tivermos', 'vos', 'está', 'tenho', 'minha', 'forem', 'houverei', 'foram', 'houveriam', 'houvessem', 'já', 'teu', 'nosso', 'houver', 'pelo', 'essa', 'haja', 'tiver', 'aquilo', 'aqueles', 'estão', 'estivessem', 'tivéssemos', 'houvera', 'houveríamos', 'um', 'também', 'hajamos', 'foi', 'tinham', 'havemos', 'nos', 'estávamos', 'seríamos', 'das', 'estes', 'para', 'houvemos', 'as', 'hajam', 'isso', 'vocês', 'ao', 'estou', 'nem', 'for', 'estivemos', 'fomos', 'o', 'depois', 'temos', 'fui', 'pela', 'tivera', 'estiver', 'serão', 'hão', 'terão', 'muito', 'entre'}\n"
     ]
    }
   ],
   "source": [
    "from nltk.corpus import stopwords\n",
    "stop_words=set(stopwords.words(\"portuguese\"))\n",
    "print(stop_words)"
   ]
  },
  {
   "cell_type": "code",
   "execution_count": 184,
   "id": "miniature-consciousness",
   "metadata": {
    "collapsed": true,
    "jupyter": {
     "outputs_hidden": true
    }
   },
   "outputs": [
    {
     "name": "stdout",
     "output_type": "stream",
     "text": [
      "Tokenized Sentence: ['S.', 'R.', 'TRIBUNAL', 'CENTRAL', 'DE', 'INSTRUÇÃO', 'CRIMINAL', 'NUIPC', ':', '122/13.8TELSB', 'DECISÃO', 'INSTRUTÓRIA', 'CAPÍTULO', 'I', 'I', '–', 'RELATÓRIO', '1.1', '-', 'A', 'Acusação', 'Foi', 'imputado', 'em', 'sede', 'de', 'acusação', 'aos', 'arguidos', ':', 'JOSÉ', 'SÓCRATES', 'CARVALHO', 'PINTO', 'DE', 'SOUSA', '-', 'Um', 'Crime', 'de', 'Corrupção', 'Passiva', 'de', 'Titular', 'de', 'Cargo', 'Político', ',', 'em', 'co-autoria', 'com', 'o', 'arguido', 'Carlos', 'Santos', 'Silva', ',', 'com', 'referência', 'a', 'actos', 'praticados', 'no', 'interesse', 'do', 'Grupo', 'LENA', 'entre', '2005', 'e', '2011', ',', 'crime', 'p.', 'e', 'p.', 'pelas', 'disposições', 'conjugadas', 'dos', 'art.º', '1.°', ',', '2.°', ',', '3.°', ',', 'n.º', '1', ',', 'alínea', 'd', ')', ',', '17.°', ',', 'n.º', '1', 'e', '19.°', ',', 'n.ºs', '2', 'e', '3', 'da', 'Lei', 'n.º', '34/87', ',', 'de', '16', 'de', 'Julho', ',', 'na', 'redacção', 'introduzida', 'pela', 'Lei', 'n.º', '108/2001', ',', 'de', '28', 'de', 'Novembro', '(', 'Lei', 'dos', 'Crimes', 'de', 'Responsabilidade', 'dos', '1', 'S.', 'R.', 'TRIBUNAL', 'CENTRAL', 'DE', 'INSTRUÇÃO', 'CRIMINAL', 'Titulares', 'de', 'Cargos', 'Políticos', ')', ',', 'com', 'referência', 'aos', 'art.º', '28.°', 'e', '202.°', ',', 'alínea', 'b', ')', 'do', 'Código', 'Penal', ';', '-', 'Um', 'Crime', 'de', 'Corrupção', 'Passiva', 'de', 'Titular', 'de', 'Cargo', 'Político', ',', 'com', 'referência', 'a', 'actos', 'praticados', 'no', 'interesse', 'do', 'arguido', 'Ricardo', 'Salgado', ',', 'relativamente', 'a', 'negócios', 'do', 'Grupo', 'PORTUGAL', 'TELECOM', 'e', 'GES', ',', 'crime', 'p.', 'e', 'p.', 'pelas', 'disposições', 'conjugadas', 'dos', 'art.º', 'lº', ',', '2.°', ',', '3.°', ',', 'n.º', '1', ',', 'alínea', 'd', ')', ',', '17.°', ',', 'n.º', '1', 'e', '19.°', ',', 'n.ºs', '2', 'e', '3', 'da', 'Lei', 'n.º', '34/87', ',', 'de', '16', 'de', 'Julho', ',', 'na', 'redacção', 'introduzida', 'pela', 'Lei', 'n°', '108/2001', ',', 'de', '28', 'de', 'Novembro', '(', 'Lei', 'dos', 'Crimes', 'de', 'Responsabilidade', 'dos', 'Titulares', 'de', 'Cargos', 'Políticos', ')', ',', 'com', 'referência', 'aos', 'art.º', '28.°', 'e', '202.°', ',', 'alínea', 'b', ')', 'do', 'Código', 'Penal', ';', '-', 'Um', 'Crime', 'de', 'Corrupção', 'Passiva', 'de', 'Titular', 'de', 'Cargo', 'Político', ',', 'em', 'co-autoria', 'com', 'o', 'arguido', 'Armando', 'Vara', ',', 'com', 'referencia', 'a', 'atos', 'praticados', 'no', 'interesse', 'dos', 'arguidos', 'Diogo', 'Gaspar', 'Ferreira', 'e', 'Rui', 'Horta', 'e', 'Costa', 'com', 'utilização', 'das', 'sociedades', 'do', 'Grupo', 'VALE', 'DO', 'LOBO', ',', 'crime', 'p.', 'e', 'p.', 'pelas', 'disposições', 'conjugadas', 'dos', 'art.º', '1º', ',', '2.°', ',', '3.°', ',', 'n.º', '1', ',', 'alínea', 'd', ')', ',', '17.°', ',', 'n.º', '1', 'e', '19°.', ',', 'n.ºs', '2', 'e', '3', 'da', 'Lei', '34/87', ',', 'de', '16', 'de', 'julho', ',', 'na', 'redacção', 'introduzida', 'pela', 'Lei', 'n°', '108/2001', ',', 'de', '28', 'de', 'Novembro-', 'Lei', 'dos', 'Crimes', 'de', 'Responsabilidade', 'dos', 'Titulares', 'de', 'Cargos', 'Políticos', ',', 'com', 'referência', 'aos', 'art.º', '28.°', 'e', '202.°', ',', 'alínea', 'b', ')', 'do', 'Código', 'Penal', ';', '-', 'Um', 'CRIME', 'DE', 'BRANQUEAMENTO', ',', 'em', 'co-autoria', 'com', 'os', 'arguidos', 'CARLOS', 'SANTOS', 'SILVA', 'e', 'JOAQUIM', 'BARROCA', 'relativamente', 'aos', 'movimentos', 'financeiros', 'com', 'origem', 'no', 'Grupo', 'LENA', 'e', 'com', 'passagem', 'pelas', 'contas', 'da', 'Suíça', 'tituladas', 'por', 'este', 'último', 'arguido', 'e', 'realizados', 'a', 'partir', 'de', '2007', ',', 'crime', 'p.', 'e', 'p.', 'pelo', 'art.368°-A', ',', 'n°', '1', ',', '2', 'e', '3', 'do', 'Código', 'Penal', ';', '2', 'S.', 'R.', 'TRIBUNAL', 'CENTRAL', 'DE', 'INSTRUÇÃO', 'CRIMINAL', '-', 'Um', 'CRIME', 'DE', 'BRANQUEAMENTO', ',', 'em', 'co-autoria', 'com', 'os', 'arguidos', 'CARLOS', 'SANTOS', 'SILVA', ',', 'JOAQUIM', 'BARROCA', 'e', 'com', 'as', 'sociedades', 'LEC', 'S.A.', 'e', 'XLM', ',', 'relativamente', 'a', 'utilização', 'desta', 'última', 'sociedade', ',', 'entre', '2009', 'e', '2015', ',', 'para', 'a', 'colocação', 'de', 'fundos', 'destinados', 'ao', 'arguido', 'JOSÉ', 'SÓCRATES', 'e', 'utilização', 'dos', 'mesmos', 'no', 'seu', 'interesse', 'através', 'do', 'pagamento', 'directo', 'de', 'despesas', 'ou', 'por', 'distribuição', 'de', 'dividendos', 'para', 'contas', 'tituladas', 'pelo', 'arguido', 'CARLOS', 'SANTOS', 'SILVA', ',', 'crime', 'p.', 'e', 'p.', 'pelo', 'art.368°-A', ',', 'n°', '1', ',', '2', 'e', '3', 'do', 'Código', 'Penal', ';', '-', 'Um', 'CRIME', 'DE', 'BRANQUEAMENTO', ',', 'em', 'co-autoria', 'com', 'os', 'arguidos', 'CARLOS', 'SANTOS', 'SILVA', ',', 'JOAQUIM', 'BARROCA', ',', 'RUI', 'MÃO', 'DE', 'FERRO', 'e', 'com', 'as', 'sociedades', 'LEC', 'SA', ',', 'XLM', 'e', 'RMF', 'CONSULTING', ',', 'relativamente', 'a', 'utilização', 'desta', 'última', 'sociedade', ',', 'entre', '2010', 'e', '2014', ',', 'para', 'a', 'colocação', 'de', 'fundos', 'destinados', 'ao', 'arguido', 'JOSÉ', 'SOCRATES', 'e', 'utilização', 'dos', 'mesmos', 'no', 'seu', 'interesse', 'através', 'do', 'pagamento', 'de', 'despesas', 'suas', 'e', 'colocação', 'de', 'numerário', 'a', 'sua', 'disposição', ',', 'crime', 'p.', 'e', 'p.', 'pelo', 'art.º', '368', '.', '°-A', ',', 'n.ºs', '1', ',', '2', 'e', '3', 'do', 'Código', 'Penal', ';', '-', 'Um', 'CRIME', 'DE', 'BRANQUEAMENTO', ',', 'em', 'co-autoria', 'com', 'os', 'arguidos', 'RICARDO', 'SALGADO', ',', 'HÉLDER', 'BATAGLIA', ',', 'CARLOS', 'SANTOS', 'SILVA', 'e', 'JOSÉ', 'PAULO', 'PINTO', 'DE', 'SOUSA', ',', 'relativamente', 'a', 'utilização', ',', 'entre', '2006', 'e', '2008', ',', 'de', 'contas', 'na', 'Suíça', 'em', 'que', 'este', 'último', 'era', 'autorizado', 'e', 'operações', 'financeiras', 'realizadas', 'a', 'partir', 'das', 'mesmas', ',', 'crime', 'p.', 'e', 'p.', 'pelo', 'art.º', '368', '.', '°-A', ',', 'n.ºs', '1,2', 'e', '3', 'do', 'Código', 'Penal', ';', '-', 'Um', 'CRIME', 'DE', 'BRANQUEAMENTO', ',', 'em', 'co-autoria', 'com', 'os', 'arguidos', 'RICARDO', 'SALGADO', ',', 'HÉLDER', 'BATAGLIA', ',', 'JOSÉ', 'PAULO', 'PINTO', 'DE', 'SOUSA', 'e', 'CARLOS', 'SANTOS', 'SILVA', 'relativamente', 'aos', '3', 'S.', 'R.', 'TRIBUNAL', 'CENTRAL', 'DE', 'INSTRUÇÃO', 'CRIMINAL', 'movimentos', 'financeiros', 'justificados', 'pelos', 'contratos', 'PINSONG', ',', 'realizados', 'no', 'ano', 'de', '2007', 'e', 'até', 'ao', 'início', 'de', '2008', ',', 'com', 'origem', 'em', 'conta', 'da', 'Suíça', 'da', 'ES', 'ENTERPRISES', ',', 'crime', 'p.', 'e', 'p.', 'pelo', 'art.368°-A', ',', 'n°', '1', ',', '2', 'e', '3', 'do', 'Código', 'Penal', ';', '-', 'Um', 'CRIME', 'DE', 'BRANQUEAMENTO', ',', 'em', 'co-autoria', 'com', 'os', 'arguidos', 'RICARDO', 'SALGADO', ',', 'HELDER', 'BATAGLIA', ',', 'CARLOS', 'SANTOS', 'SILVA', 'e', 'JOAQUIM', 'BARROCA', 'relativamente', 'aos', 'movimentos', 'financeiros', 'justificados', 'pelos', 'contratos', 'PINSONG', ',', 'realizados', 'a', 'partir', 'de', 'Abril', 'de', '2008', ',', 'com', 'origem', 'em', 'conta', 'na', 'Suíça', 'da', 'ES', 'ENTERPRISES', 'e', 'com', 'intervenção', 'das', 'contas', 'da', 'Suíça', 'do', 'arguido', 'JOAQUIM', 'BARROCA', ',', 'crime', 'p.', 'e', 'p.', 'pelo', 'art.º', '368', '.', '°-A', ',', 'n.ºs', '1', ',', '2', 'e', '3', 'do', 'Código', 'Penal', ';', '-', 'Um', 'CRIME', 'DE', 'BRANQUEAMENTO', ',', 'em', 'co-autoria', 'com', 'os', 'arguidos', 'RICARDO', 'SALGADO', ',', 'HÉLDER', 'BATAGLIA', ',', 'JOAQUIM', 'BARROCA', 'e', 'CARLOS', 'SANTOS', 'SILVA', 'e', 'com', 'as', 'sociedades', 'LEC', 'SA', ',', 'LEC', 'SGPS', ',', 'LENA', 'SGPS', 'e', 'XLM', ',', 'relativamente', 'aos', 'movimentos', 'financeiros', ',', 'ocorridos', 'a', 'partir', 'de', '2010', ',', 'abrangidos', 'pela', 'operação', 'CEL_2010', ',', 'justificados', 'através', 'de', 'contrato', 'promessa', 'de', 'compra', 'e', 'venda', 'com', 'perda', 'de', 'sinal', 'referente', 'ao', 'imóvel', 'KANHANGULO', ',', 'sito', 'em', 'Luanda', ',', 'e', 'introdução', 'desses', 'fundos', 'no', 'Grupo', 'LENA', ',', 'crime', 'p.', 'e', 'p.', 'pelo', 'art.º', '368.°-A', ',', 'n.ºs', '1', ',', '2', 'e', '3', 'do', 'Código', 'Penal', ';', '-', 'Um', 'CRIME', 'DE', 'BRANQUEAMENTO', ',', 'em', 'co-autoria', 'com', 'os', 'arguidos', 'CARLOS', 'SANTOS', 'SILVA', ',', 'JOAQUIM', 'BARROCA', ',', 'ARMANDO', 'VARA', ',', 'DIOGO', 'GASPAR', 'FERREIRA', ',', 'RUI', 'HORTA', 'E', 'COSTA', 'e', 'BÁRBARA', 'VARA', ',', 'relativamente', 'as', 'transferências', 'com', 'origem', 'em', 'conta', 'do', 'cidadão', 'holandês', 'Van', 'Doreen', ',', 'referentes', 'aos', 'financiamentos', 'concedidos', 'ao', 'Grupo', 'VALE', 'DO', 'LOBO', ',', 'com', 'passagem', 'por', 'conta', 'bancaria', 'da', 'Suíça', 'do', '4', 'S.', 'R.', 'TRIBUNAL', 'CENTRAL', 'DE', 'INSTRUÇÃO', 'CRIMINAL', 'arguido', 'JOAQUIM', 'BARROCA', ',', 'crime', 'p.', 'e', 'p.', 'pelo', 'art.368°-A', ',', 'nºs', 'l', ',', '2', 'e', '3', 'do', 'Código', 'Penal', ';', '-', 'Um', 'CRIME', 'DE', 'BRANQUEAMENTO', ',', 'em', 'co-autoria', 'com', 'o', 'arguido', 'CARLOS', 'SANTOS', 'SILVA', 'relativamente', 'a', 'concentração', 'dos', 'fundos', 'em', 'novas', 'contas', 'bancarias', 'da', 'Suíça', 'tituladas', 'por', 'sociedades', 'em', 'offshore', 'controladas', 'por', 'CARLOS', 'SANTOS', 'SILVA', 'e', 'sua', 'transferência', 'para', 'contas', 'tituladas', 'por', 'este', 'último', 'arguido', 'em', 'Portugal', ',', 'ao', 'abrigo', 'do', 'RERT', 'II', ',', 'crime', 'p.', 'e', 'p.', 'pelo', 'art.º', '368', '.', '°-A', ',', 'n°s', '1', ',', '2', 'e', '3', 'do', 'Código', 'Penal', ';', '-', 'Um', 'CRIME', 'DE', 'BRANQUEAMENTO', ',', 'em', 'co-autoria', 'com', 'o', 'arguido', 'CARLOS', 'SANTOS', 'SILVA', 'relativamente', 'a', 'dissipação', 'dos', 'fundos', 'por', 'outras', 'contas', 'em', 'Portugal', ',', 'de', 'que', 'este', 'último', 'arguido', 'era', 'titular', 'e', 'autorizado', ',', 'e', 'a', 'confusão', 'de', 'patrimónios', 'de', 'ambos', 'nessas', 'contas', 'bancarias', ',', 'crime', 'p.', 'e', 'p.', 'pelo', 'art.º', '368', '.', '°-A', ',', 'n.ºs', '1', ',', '2', 'e', '3', 'do', 'Código', 'Penal', ';', '-', 'Um', 'CRIME', 'DE', 'BRANQUEAMENTO', ',', 'em', 'co-autoria', 'com', 'os', 'arguidos', 'CARLOS', 'SANTOS', 'SILVA', 'e', 'GONÇALO', 'FERREIRA', ',', 'quanto', 'a', 'aquisição', 'de', 'imóveis', 'em', 'Portugal', 'com', 'o', 'retomo', 'do', 'preço', 'pago', 'para', 'a', 'esfera', 'patrimonial', 'do', 'arguido', 'JOSE', 'SOCRATES', ',', 'de', 'forma', 'justificada', ',', 'factos', 'ocorridos', 'entre', '2010', 'e', '2012', ',', 'crime', 'p.', 'e', 'p.', 'pelo', 'art.º', '368', '.', '°-A', ',', 'n.ºs', '1', ',', '2', 'e', '3', 'do', 'Código', 'Penal', ';', '-', 'Um', 'CRIME', 'DE', 'BRANQUEAMENTO', ',', 'em', 'co-autoria', 'com', 'os', 'arguidos', 'CARLOS', 'SANTOS', 'SILVA', 'e', 'GONÇALO', 'FERREIRA', ',', 'relativamente', 'a', 'aquisição', 'e', 'subsequente', 'arrendamento', 'de', 'um', 'imóvel', 'em', 'Paris', ',', 'com', 'intenção', 'de', 'ocultação', 'da', 'titularidade', 'do', 'activo', ',', 'factos', 'praticados', 'entre', '2012', 'e', '2014', ',', 'crime', 'p.', 'e', 'p.', 'pelo', 'art.º', '368', '.', '°-A', ',', 'n°s', '1', ',', '2', 'e', '3', 'do', 'Código', 'Penal', ';', '5', 'S.', 'R.', 'TRIBUNAL', 'CENTRAL', 'DE', 'INSTRUÇÃO', 'CRIMINAL', '-', 'Um', 'CRIME', 'DE', 'BRANQUEAMENTO', ',', 'em', 'co-autoria', 'com', 'os', 'arguidos', 'GONÇALO', 'FERREIRA', 'e', 'CARLOS', 'SANTOS', 'SILVA', ',', 'relativamente', 'a', 'entrega', 'por', 'este', 'último', 'arguido', 'de', 'quantias', 'pertencentes', 'ao', 'arguido', 'JOSÉ', 'SÓCRATES', 'para', 'depósito', 'em', 'contas', 'bancarias', 'do', 'arguido', 'GONÇALO', 'FERREIRA', 'e', 'para', 'guardar', 'em', 'cofre', 'bancário', 'e', 'em', 'contas', 'tituladas', 'pelo', 'mesmo', ',', 'de', 'forma', 'a', 'ocultar', 'a', 'propriedade', 'desses', 'valores', 'pelo', 'arguido', 'JOSÉ', 'SÓCRATES', ',', 'factos', 'ocorridos', 'nos', 'anos', 'de', '2012', 'e', '2013', ',', 'crime', 'p.', 'e', 'p.', 'pelo', 'art.368°-A', ',', 'n°', '1', ',', '2', 'e', '3', 'do', 'Código', 'Penal', ';', '-', 'Um', 'CRIME', 'DE', 'BRANQUEAMENTO', ',', 'em', 'co-autoria', 'com', 'os', 'arguidos', 'CARLOS', 'SANTOS', 'SILVA', 'e', 'INÊS', 'DO', 'ROSÁRIO', ',', 'relativamente', 'a', 'utilização', 'das', 'contas', 'bancárias', 'desta', 'ultima', 'arguida', 'junto', 'do', 'MONTEPIO', 'GERAL', 'e', 'a', 'recepção', 'pela', 'mesma', 'de', 'fundos', ',', 'provenientes', 'do', 'arguido', 'CARLOS', 'SANTOS', 'SILVA', 'para', 'entrega', 'ao', 'arguido', 'JOSÉ', 'SÓCRATES', ',', 'ocultando', 'a', 'propriedade', 'das', 'mesmas', 'quantias', 'por', 'este', 'último', ',', 'factos', 'ocorridos', 'nos', 'anos', 'de', '2013', 'e', '2014', ',', 'crime', 'p.', 'e', 'p.', 'pelo', 'art.º', '368', '.', '°-A', ',', 'n.ºs', '1', ',', '2', 'e', '3', 'do', 'Código', 'Penal', ';', '-', 'Um', 'CRIME', 'DE', 'BRANQUEAMENTO', ',', 'em', 'co-autoria', 'com', 'os', 'arguidos', 'CARLOS', 'SANTOS', 'SILVA', 'e', 'JOÃO', 'PERNA', ',', 'relativos', 'a', 'utilização', 'das', 'contas', 'tituladas', 'por', 'este', 'último', 'em', 'Portugal', 'como', 'contas', 'de', 'passagem', 'de', 'fundos', 'de', 'origem', 'ilícita', 'provenientes', 'do', 'arguido', 'CARLOS', 'SANTOS', 'SILVA', 'e', 'destinados', 'a', 'esfera', 'patrimonial', 'do', 'arguido', 'JOSÉ', 'SÓCRATES', ',', 'operações', 'ocorridas', 'entre', '2011', 'e', '2014', ',', 'crime', 'p.', 'e', 'p.', 'pelo', 'art.º', '368', '.', '°-A', ',', 'n.ºs', 'l', ',', '2', 'e', '3', 'do', 'Código', 'Penal', ';', '-', 'Um', 'CRIME', 'DE', 'BRANQUEAMENTO', ',', 'em', 'co-autoria', 'com', 'os', 'arguidos', 'CARLOS', 'SANTOS', 'SILVA', 'e', 'SOFIA', 'FAVA', 'relativamente', 'à', '6', 'S.', 'R.', 'TRIBUNAL', 'CENTRAL', 'DE', 'INSTRUÇÃO', 'CRIMINAL', 'aquisição', 'de', 'um', 'imóvel', ',', 'designado', '“', 'Monte', 'das', 'Margaridas', '”', ',', 'com', 'intenção', 'de', 'que', 'passasse', 'a', 'integrar', 'o', 'património', 'familiar', 'do', 'arguido', 'JOSÉ', 'SÓCRATES', ',', 'com', 'registo', 'em', 'nome', 'de', 'terceiro', 'e', 'montagem', 'de', 'operação', 'de', 'financiamento', 'e', 'formas', 'de', 'custear', 'as', 'prestações', 'da', 'mesma', ',', 'factos', 'ocorridos', 'entre', '2011', 'e', '2014', ',', 'crime', 'p.', 'e', 'p.', 'pelo', 'art.º', '368', '.', '°-A', ',', 'n.ºs', '1', ',', '2', 'e', '3', 'do', 'Código', 'Penal', ';', '-', 'Um', 'CRIME', 'DE', 'FALSIFICAÇÃO', 'DE', 'DOCUMENTO', ',', 'em', 'co-', 'autoria', 'com', 'o', 'arguido', 'CARLOS', 'SANTOS', 'SIVA', ',', 'relativamente', 'a', 'declaração', 'de', 'adesão', 'ao', 'RERT', 'II', 'e', 'outra', 'documentação', 'produzida', 'e', 'utilizada', 'para', 'esse', 'efeito', ',', 'no', 'que', 'se', 'reporta', 'a', 'titularidade', 'dos', 'elementos', 'patrimoniais', 'declarados', ',', 'concentrados', 'nas', 'contas', 'da', 'Suíça', 'até', 'final', 'do', 'ano', 'de', '2010', ',', 'crime', 'p.', 'e', 'p.', 'pelo', 'art.º', '256', '.', '°', ',', 'n.º', '1', ',', 'alíneas', 'a', ')', ',', 'd', ')', 'e', 'e', ')', 'do', 'Código', 'Penal', ';', '-', 'Um', 'CRIME', 'DE', 'FALSIFICAÇÃO', 'DE', 'DOCUMENTO', ',', 'em', 'co-', 'autoria', 'com', 'os', 'arguidos', 'CARLOS', 'SANTOS', 'SILVA', 'e', 'JOAQUIM', 'BARROCA', ',', 'relativamente', 'ao', 'primeiro', 'contrato', 'de', 'prestação', 'de', 'serviços', 'celebrado', 'entre', 'a', 'LEC', 'S.A.', 'e', 'a', 'XLM', ',', 'facturas', 'e', 'outra', 'documentação', 'produzida', 'ao', 'abrigo', 'do', 'mesmo', ',', 'factos', 'ocorridos', 'a', 'partir', 'de', '2009', ',', 'crime', 'p.', 'e', 'p.', 'pelo', 'art.º', '256', '.', '°', ',', 'n.º', 'l', ',', 'alíneas', 'a', ')', ',', 'd', ')', 'e', 'e', ')', 'do', 'Código', 'Penal', ';', '-', 'Um', 'CRIME', 'DE', 'FALSIFICAÇÃO', 'DE', 'DOCUMENTO', ',', 'em', 'co-', 'autoria', 'com', 'os', 'arguidos', 'CARLOS', 'SANTOS', 'SILVA', 'e', 'RUI', 'MÃO', 'DE', 'FERRO', 'com', 'referência', 'aos', 'contratos', 'de', 'prestação', 'de', 'serviços', 'celebrados', 'entre', 'as', 'sociedades', 'XLM', 'e', 'RMF', 'CONSULTING', ',', 'bem', 'como', 'facturas', 'e', 'outra', 'documentação', 'produzida', 'ao', 'abrigo', 'dos', 'mesmos', ',', 'que', 'serviram', 'de', 'suporte', 'a', 'circulação', 'de', 'quantias', 'entre', 'estas', 'sociedades', ',', 'com', 'origem', 'e', 'destino', 'no', 'arguido', 'JOSE', 'SOCRATES', ',', 'crime', 'p.', 'e', 'p.', 'pelo', 'art.º', '256', '.', '°', ',', 'n.º', 'l', ',', 'alíneas', 'a', ')', ',', 'd', ')', 'e', 'e', ')', 'do', 'Código', 'Penal', ';', '7', 'S.', 'R.', 'TRIBUNAL', 'CENTRAL', 'DE', 'INSTRUÇÃO', 'CRIMINAL', '-', 'Um', 'CRIME', 'DE', 'FALSIFICAÇÃO', 'DE', 'DOCUMENTO', ',', 'em', 'co-', 'autoria', 'com', 'os', 'arguidos', 'CARLOS', 'SANTOS', 'SILVA', ',', 'RICARDO', 'SALGADO', ',', 'HÉLDER', 'BATAGLIA', 'e', 'JOAQUIM', 'BARROCA', ',', 'relativamente', 'aos', 'factos', 'referentes', 'ao', 'conjunto', 'de', 'documentos', 'que', 'incluem', 'o', 'contrato', 'promessa', 'de', 'compra', 'e', 'venda', 'de', 'imóvel', 'em', 'Angola', ',', 'denominado', 'KANHANGULO', ',', 'contrato', 'de', 'intermediação', 'AII', 'e', 'XLM', ',', 'cartas', 'de', 'admissão', 'do', 'seu', 'incumprimento', 'e', 'perda', 'de', 'sinal', 'e', 'celebração', 'de', 'segundo', 'contrato', 'de', 'prestação', 'de', 'serviços', 'entre', 'a', 'LEC', 'e', 'a', 'XLM', ',', 'bem', 'como', 'facturas', 'e', 'outra', 'documentação', 'produzida', 'ao', 'abrigo', 'destes', 'contratos', ',', 'factos', 'ocorridos', 'a', 'partir', 'de', '2010', ',', 'crime', 'p.', 'e', 'p.', 'pelo', 'art.º', '256.°', ',', 'n.º', 'l', ',', 'alíneas', 'a', ')', ',', 'd', ')', 'e', 'e', ')', 'do', 'Código', 'Penal', ';', '-', 'Um', 'CRIME', 'DE', 'FALSIFICAÇÃO', 'DE', 'DOCUMENTO', ',', 'em', 'co-', 'autoria', 'com', 'os', 'arguidos', 'CARLOS', 'SANTOS', 'SILVA', 'e', 'SOFIA', 'FAVA', ',', 'com', 'referência', 'aos', 'contratos', 'de', 'prestação', 'de', 'serviços', 'celebrados', 'entra', 'a', 'XLM', 'e', 'arguida', 'SOFIA', 'FAVA', ',', 'que', 'serviram', 'de', 'suporte', 'ao', 'recebimento', 'de', 'quantias', 'por', 'esta', 'última', 'com', 'origem', 'no', 'arguido', 'JOSÉ', 'SÓCRATES', ',', 'crime', 'p.', 'e', 'p.', 'pelo', 'art.º', '256', '.', '°', ',', 'n.º', 'l', ',', 'alíneas', 'a', ')', ',', 'd', ')', 'e', 'e', ')', 'do', 'Código', 'Penal', ';', '-', 'Um', 'CRIME', 'DE', 'FALSIFICAÇÃO', 'DE', 'DOCUMENTO', ',', 'em', 'co-', 'autoria', 'com', 'o', 'arguido', 'CARLOS', 'SANTOS', 'SILVA', ',', 'com', 'referência', 'aos', 'contratos', 'de', 'prestação', 'de', 'serviços', 'celebrados', 'entre', 'a', 'sociedade', 'XLM', 'e', 'Ana', 'Bessa', ',', 'bem', 'como', 'facturas', 'e', 'outra', 'documentação', 'produzida', 'ao', 'abrigo', 'dos', 'mesmos', ',', 'que', 'serviram', 'de', 'suporte', 'ao', 'recebimento', 'de', 'quantias', 'por', 'esta', 'ultima', 'com', 'origem', 'no', 'arguido', 'JOSÉ', 'SÓCRATES', ',', 'crime', 'p.', 'e', 'p.', 'pelo', 'art.º', '256', '.', '°', ',', 'n.º', 'l', ',', 'alíneas', 'a', ')', ',', 'd', ')', 'e', 'e', ')', 'do', 'Código', 'Penal', ';', '-', 'Um', 'CRIME', 'DE', 'FALSIFICAÇÃO', 'DE', 'DOCUMENTO', ',', 'em', 'co-', 'autoria', 'com', 'os', 'arguidos', 'CARLOS', 'SANTOS', 'SILVA', 'e', 'RUI', 'MAO', 'DE', 'FERRO', '8', 'S.', 'R.', 'TRIBUNAL', 'CENTRAL', 'DE', 'INSTRUÇÃO', 'CRIMINAL', 'com', 'referência', 'aos', 'contratos', 'de', 'prestação', 'de', 'serviços', 'celebrados', 'entre', 'a', 'sociedade', 'RMF', 'CONSULTING', 'e', 'Domingos', 'Farinho', 'e', 'Jane', 'Kirkby', ',', 'bem', 'como', 'facturas', 'e', 'outra', 'documentação', 'produzida', 'ao', 'abrigo', 'dos', 'mesmos', ',', 'que', 'serviram', 'de', 'suporte', 'ao', 'recebimento', 'de', 'quantias', 'por', 'estes', 'últimos', 'com', 'origem', 'no', 'arguido', 'JOSÉ', 'SÓCRATES', ',', 'crime', 'p.', 'e', 'p.', 'pelo', 'art.º', '256', '.', '°', ',', 'n.º', 'l', ',', 'alíneas', 'a', ')', ',', 'd', ')', 'e', 'e', ')', 'do', 'Código', 'Penal', ';', '-', 'Um', 'CRIME', 'DE', 'FALSIFICAÇÃO', 'DE', 'DOCUMENTO', ',', 'em', 'co-', 'autoria', 'com', 'os', 'arguidos', 'CARLOS', 'SANTOS', 'SILVA', 'e', 'RUI', 'MÃO', 'DE', 'FERRO', 'com', 'referência', 'aos', 'contratos', 'de', 'prestação', 'de', 'serviços', 'celebrados', 'entre', 'a', 'sociedade', 'RMF', 'CONSULTING', 'e', 'António', 'Manuel', 'Peixoto', 'e', 'António', 'Mega', 'Peixoto', ',', 'bem', 'como', 'facturas', 'e', 'outra', 'documentação', 'produzida', 'ao', 'abrigo', 'dos', 'mesmos', ',', 'que', 'serviram', 'de', 'suporte', 'ao', 'recebimento', 'de', 'quantias', 'por', 'estes', 'últimos', 'com', 'origem', 'no', 'arguido', 'JOSÉ', 'SÓCRATES', ',', 'crime', 'p.', 'e', 'p.', 'pelo', 'art.º', '256.°', ',', 'n.º', 'l', ',', 'alíneas', 'a', ')', ',', 'd', ')', 'e', 'e', ')', 'do', 'Código', 'Penal', ';', '-', 'Um', 'CRIME', 'DE', 'FALSIFICAÇÃO', 'DE', 'DOCUMENTO', ',', 'em', 'co-', 'autoria', 'com', 'os', 'arguidos', 'GONCALO', 'FERREIRA', 'e', 'CARLOS', 'SANTOS', 'SILVA', ',', 'relativamente', 'a', 'produção', 'e', 'uso', 'de', 'documentação', 'referente', 'a', 'aquisição', 'e', 'subsequente', 'arrendamento', 'do', 'apartamento', 'de', 'Paris', ',', 'sito', 'na', 'Av', '.', 'President', 'Wilson', ',', 'crime', 'p.', 'e', 'p.', 'pelo', 'art.º', '256', '.', '°', ',', 'n.º', 'l', 'alíneas', 'a', ')', ',', 'd', ')', 'e', 'e', ')', 'do', 'Código', 'Penal', ';', '-', 'Um', 'CRIME', 'DE', 'FRAUDE', 'FISCAL', 'QUALIFICADA', ',', 'de', 'que', 'foi', 'beneficiário', ',', 'em', 'co-autoria', 'com', 'o', 'arguido', 'CARLOS', 'SANTOS', 'SILVA', ',', 'no', 'que', 'tange', 'ao', 'IRS', 'apurado', 'quanto', 'aos', 'anos', 'de', '2006', 'a', '2009', ',', 'crime', 'p.', 'e', 'p.', 'pelos', 'arts', '.', 'l03°-l', 'a', ')', ',', 'b', ')', 'e', 'c', ')', 'e', '104°-', '1', 'd', ')', ',', 'e', ')', 'e', 'f', ')', 'do', 'RGIT', ';', '9', 'S.', 'R.', 'TRIBUNAL', 'CENTRAL', 'DE', 'INSTRUÇÃO', 'CRIMINAL', '-', 'Um', 'CRIME', 'DE', 'FRAUDE', 'FISCAL', 'QUALIFICADA', ',', 'de', 'que', 'foi', 'beneficiário', ',', 'em', 'co-autoria', ',', 'com', 'os', 'arguidos', 'JOAQUIM', 'BARROCA', ',', 'CARLOS', 'SANTOS', 'SILVA', ',', 'LENA', 'ENGENHARIA', 'E', 'CONSTRUCOES', 'SA', 'e', 'XLM', '-', 'SOCIEDADE', 'DE', 'ESTUDOS', 'E', 'PROJECTOS', 'LDA', ',', 'no', 'que', 'tange', 'ao', 'IRS', 'apurado', 'quanto', 'aos', 'anos', 'de', '2009', 'a', '2012', ',', 'crime', 'p.', 'e', 'p.', 'pelos', 'arts', 'l03', '.', '°-l', 'a', ')', ',', 'b', ')', 'e', 'c', ')', 'e', '104', '.', '°-', '1', 'd', ')', ',', 'e', ')', 'e', 'f', ')', 'e', 'n.º', '2', 'do', 'RGIT', ',', 'atualmente', 'n.º', '2', 'alínea', 'a', ')', 'do', 'art.º', 'l04', '.', '°', 'do', 'RGIT', ';', '-', 'Um', 'CRIME', 'DE', 'FRAUDE', 'FISCAL', 'QUALIFICADA', ',', 'de', 'que', 'foi', 'beneficiário', ',', 'em', 'co-autoria', ',', 'com', 'os', 'arguidos', 'JOAQUIM', 'BARROCA', ',', 'CARLOS', 'SANTOS', 'SILVA', ',', 'LENA', 'ENGENHARIA', 'E', 'CONSTRUCOES', 'SA', 'e', 'XLM', '-', 'SOCIEDADE', 'DE', 'ESTUDOS', 'E', 'PROJECTOS', 'LDA', 'no', 'que', 'tange', 'ao', 'IRS', 'apurado', 'quanto', 'aos', 'anos', 'de', '2013', 'a', '2015', ',', 'crime', 'p.', 'e', 'p.', 'pelos', 'arts', 'l03', '.', '°-l', 'a', ')', ',', 'b', ')', 'e', 'c', ')', 'e', '104°-', '1', 'd', ')', ',', 'e', ')', 'e', 'n.º', '2', 'alínea', 'a', ')', 'e', 'n.º', '3', 'do', 'RGIT', '.', 'CARLOS', 'MANUEL', 'DOS', 'SANTOS', 'SILVA', '-', 'Um', 'CRIME', 'DE', 'CORRUPÇÃO', 'PASSIVA', 'DE', 'TITULAR', 'DE', 'CARGO', 'POLÍTICO', ',', 'em', 'co-autoria', 'com', 'o', 'arguido', 'JOSÉ', 'SÓCRATES', ',', 'com', 'referência', 'a', 'actos', 'praticados', 'no', 'interesse', 'do', 'Grupo', 'LENA', 'entre', '2005', 'e', '2011', ',', 'crime', 'p.', 'e', 'p.', 'pelas', 'disposições', 'conjugadas', 'dos', 'arts', 'lº', ',', '2.°', ',', '3.°', ',', 'n.º', '1', ',', 'alínea', 'd', ')', ',', '17.°', ',', 'n.º', '1', 'e', '19.°', ',', 'n.ºs', '2', 'e', '3', 'da', 'Lei', '34/87', ',', 'de', '16', 'de', 'Julho', ',', 'na', 'redacção', 'introduzida', 'pela', 'Lei', 'n°', '108/2001', ',', 'de', '28', 'de', 'Novembro-', 'Lei', 'dos', 'Crimes', 'de', 'Responsabilidade', 'dos', 'Titulares', 'de', 'Cargos', 'Políticos', ',', 'com', 'referência', 'aos', 'arts', '28.°', 'e', '202.°', ',', 'alínea', 'b', ')', 'do', 'Código', 'Penal', ';', '10', 'S.', 'R.', 'TRIBUNAL', 'CENTRAL', 'DE', 'INSTRUÇÃO', 'CRIMINAL', '-', 'Um', 'CRIME', 'DE', 'CORRUPÇÃO', 'ACTIVA', ',', 'em', 'co-autoria', 'com', 'os', 'arguidos', 'JOAQUIM', 'BARROCA', 'e', 'JOSÉ', 'RIBEIRO', 'DOS', 'SANTOS', 'e', 'com', 'as', 'sociedades', 'XMI', ',', 'LEC', 'SA', ',', 'LEC', 'SGPS', 'e', 'LENA', 'SA', ',', 'relativamente', 'ao', 'funcionário', 'LUÍS', 'MARQUES', ',', 'nos', 'anos', 'de', '2007', 'a', '2009', ',', 'crime', 'p.', 'e', 'p.', 'pelo', 'art.º', '374', '.', '°', ',', 'n.º', 'l', 'do', 'Código', 'Penal', ';', '-', 'Um', 'CRIME', 'DE', 'BRANQUEAMENTO', ',', 'em', 'co-autoria', 'com', 'os', 'arguidos', 'JOSÉ', 'SÓCRATES', 'e', 'JOAQUIM', 'BARROCA', 'relativamente', 'aos', 'movimentos', 'financeiros', 'com', 'origem', 'no', 'Grupo', 'LENA', 'e', 'com', 'passagem', 'pelas', 'contas', 'da', 'Suíça', 'deste', 'último', 'arguido', 'e', 'realizados', 'a', 'partir', 'de', '2007', ',', 'crime', 'p.', 'e', 'p.', 'pelo', 'art.368°-A', ',', 'n°', '1', ',', '2', 'e', '3', 'do', 'Código', 'Penal', ';', '-', 'Um', 'CRIME', 'DE', 'BRANQUEAMENTO', ',', 'em', 'co-autoria', 'com', 'os', 'arguidos', 'JOSÉ', 'SÓCRATES', 'e', 'JOAQUIM', 'BARROCA', 'e', 'com', 'as', 'sociedades', 'LEC', 'SA', '.', 'e', 'XLM', ',', 'relativamente', 'a', 'utilização', 'desta', 'ultima', 'sociedade', ',', 'entre', '2009', 'e', '2015', ',', 'para', 'a', 'colocação', 'de', 'fundos', 'destinados', 'ao', 'arguido', 'JOSÉ', 'SÓCRATES', 'e', 'sua', 'utilização', 'dos', 'mesmos', 'no', 'seu', 'interesse', 'através', 'do', 'pagamento', 'de', 'despesas', 'ou', 'por', 'distribuição', 'de', 'dividendos', 'para', 'contas', 'tituladas', 'pelo', 'arguido', 'CARLOS', 'SANTOS', 'SILVA', ',', 'crime', 'p.', 'e', 'p.', 'pelo', 'art.º', '368.°-A', ',', 'n.ºs', '1', ',', '2', 'e', '3', 'do', 'Código', 'Penal', ';', '-', 'Um', 'CRIME', 'DE', 'BRANQUEAMENTO', ',', 'em', 'co-autoria', 'com', 'os', 'arguidos', 'JOSÉ', 'SÓCRATES', ',', 'JOAQUIM', 'BARROCA', 'e', 'RUI', 'MÃO', 'DE', 'FERRO', 'e', 'com', 'as', 'sociedades', 'LEC', 'SA', ',', 'XLM', 'e', 'RMF', 'CONSULTING', ',', 'relativamente', 'a', 'utilização', 'desta', 'última', 'sociedade', ',', 'entre', '2010', 'e', '2014', ',', 'para', 'a', 'colocação', 'de', 'fundos', 'destinados', 'ao', 'arguido', 'JOSÉ', 'SÓCRATES', 'e', 'utilização', 'dos', 'mesmos', 'no', 'seu', 'interesse', 'através', 'do', 'pagamento', 'de', 'despesas', 'e', 'colocação', 'de', '11', 'S.', 'R.', 'TRIBUNAL', 'CENTRAL', 'DE', 'INSTRUÇÃO', 'CRIMINAL', 'numerário', 'a', 'sua', 'disposição', ',', 'entre', '2010', 'e', '2014', ',', 'crime', 'p.', 'e', 'p.', 'pelo', 'art.º', '368.°-A', ',', 'n.ºs', '1', ',', '2', 'e', '3', 'do', 'Código', 'Penal', ';', '-', 'Um', 'CRIME', 'DE', 'BRANQUEAMENTO', ',', 'em', 'co-autoria', 'com', 'os', 'arguidos', 'JOAQUIM', 'BARROCA', ',', 'JOSÉ', 'LUÍS', 'RIBEIRO', 'DOS', 'SANTOS', ',', 'LUÌS', 'MARQUES', 'e', 'com', 'a', 'sociedade', 'XMI', ',', 'relativamente', 'a', 'utilização', 'desta', 'última', 'sociedade', 'e', 'sua', 'contabilidade', 'para', 'a', 'colocação', 'de', 'fundos', 'na', 'esfera', 'patrimonial', 'do', 'arguido', 'LUÍS', 'MARQUES', ',', 'crime', 'p.', 'e', 'p.', 'pelo', 'art.º', '368', '.', '°-A', ',', 'n.ºs', '1', ',', '2', 'e', '3', 'do', 'Código', 'Penal', ';', '-', 'Um', 'CRIME', 'DE', 'BRANQUEAMENTO', ',', 'em', 'co-autoria', 'com', 'os', 'arguidos', 'JOSÉ', 'SÓCRATES', ',', 'RICARDO', 'SALGADO', ',', 'HÉLDER', 'BATAGLIA', 'e', 'JOSÉ', 'PAULO', 'PINTO', 'DE', 'SOUSA', ',', 'relativamente', 'a', 'utilização', ',', 'entre', '2006', 'e', '2008', ',', 'das', 'contas', 'na', 'Suíça', 'em', 'que', 'este', 'último', 'era', 'autorizado', 'e', 'operações', 'financeiras', 'realizadas', 'a', 'partir', 'das', 'mesmas', ',', 'crime', 'p.', 'e', 'p.', 'pelo', 'art.º', '368', '.', '°-A', ',', 'n.ºs', '1', ',', '2', 'e', '3', 'do', 'Código', 'Penal', ';', '-', 'Um', 'CRIME', 'DE', 'BRANQUEAMENTO', ',', 'em', 'co-autoria', 'com', 'os', 'arguidos', 'JOSÉ', 'SÒCRATES', ',', 'RICARDO', 'SALGADO', ',', 'HÉLDER', 'BATAGLIA', 'e', 'JOSÉ', 'PAULO', 'PINTO', 'DE', 'SOUSA', 'relativamente', 'aos', 'movimentos', 'financeiros', 'justificados', 'pelos', 'contratos', 'PINSONG', ',', 'realizados', 'no', 'ano', 'de', '2007', 'e', 'até', 'ao', 'início', 'de', '2008', ',', 'com', 'origem', 'em', 'conta', 'da', 'Suíça', 'da', 'ES', 'ENTERPRISES', ',', 'crime', 'p.', 'e', 'p.', 'pelo', 'art.º', '368', '.', '°-A', ',', 'n.ºs', '1,2', 'e', '3', 'do', 'Código', 'Penal', ';', '-', 'Um', 'CRIME', 'DE', 'BRANQUEAMENTO', ',', 'em', 'co-autoria', 'com', 'os', 'arguidos', 'JOSÉ', 'SÓCRATES', ',', 'RICARDO', 'SALGADO', ',', 'HÉLDER', 'BATAGLIA', 'e', 'JOAQUIM', 'BARROCA', 'relativamente', 'aos', 'movimentos', 'financeiros', 'justificados', 'pelos', 'contratos', 'PINSONG', ',', 'realizados', 'a', 'partir', 'de', 'abril', 'de', '2008', ',', 'com', 'origem', 'em', 'conta', 'da', 'Suíça', 'da', 'ES', 'ENTERPRISES', 'com', 'intervenção', 'das', '12', 'S.', 'R.', 'TRIBUNAL', 'CENTRAL', 'DE', 'INSTRUÇÃO', 'CRIMINAL', 'contas', 'da', 'Suíça', 'do', 'arguido', 'JOAQUIM', 'BARROCA', ',', 'crime', 'p.', 'e', 'p.', 'pelo', 'art.º', '368', '.', '°-A', ',', 'n.ºs', '1', ',', '2', 'e', '3', 'do', 'Código', 'Penal', ';', '-', 'Um', 'CRIME', 'DE', 'BRANQUEAMENTO', ',', 'em', 'co-autoria', 'com', 'os', 'arguidos', 'JOSÉ', 'SÓCRATES', ',', 'RICARDO', 'SALGADO', ',', 'HÉLDER', 'BATAGLIA', 'e', 'JOAQUIM', 'BARROCA', 'e', 'pelas', 'sociedades', 'LEC', 'SA', ',', 'LEC', 'SGPS', ',', 'LENA', 'SGPS', 'e', 'XLM', ',', 'relativamente', 'aos', 'movimentos', 'financeiros', ',', 'ocorridos', 'a', 'partir', 'de', '2010', ',', 'abrangidos', 'pela', 'operação', 'CEL_2010', ',', 'ocorridos', 'a', 'partir', 'de', '2010', 'e', 'justificados', 'através', 'de', 'contrato', 'promessa', 'de', 'compra', 'e', 'venda', 'com', 'perda', 'de', 'sinal', 'referente', 'ao', 'imóvel', 'KANHANGULO', ',', 'sito', 'em', 'Luanda', ',', 'e', 'introdução', 'desses', 'fundos', 'no', 'Grupo', 'LENA', ',', 'crime', 'p.', 'e', 'p.', 'pelo', 'art.º', '368.°-A', ',', 'n.ºs', '1', ',', '2', 'e', '3', 'do', 'Código', 'Penal', ';', '-', 'Um', 'CRIME', 'DE', 'BRANQUEAMENTO', ',', 'em', 'co-autoria', 'com', 'os', 'arguidos', 'JOSÉ', 'SÓCRATES', ',', 'JOAQUIM', 'BARROCA', 'ARMANDO', 'VARA', ',', 'DIOGO', 'GASPAR', 'FERREIRA', ',', 'RUI', 'HORTA', 'E', 'COSTA', 'e', 'BÁRBARA', 'VARA', 'relativamente', 'as', 'transferências', 'com', 'origem', 'em', 'conta', 'do', 'cidadão', 'holandês', 'Van', 'Doreen', ',', 'referentes', 'aos', 'financiamentos', 'concedidos', 'ao', 'Grupo', 'VALE', 'DO', 'LOBO', ',', 'com', 'passagem', 'por', 'conta', 'bancaria', 'da', 'Suíça', 'titulada', 'pelo', 'arguido', 'JOAQUIM', 'BARROCA', ',', 'crime', 'p.', 'e', 'p.', 'pelo', 'art.368°-A', ',', 'n°', '1', ',', '2', 'e', '3', 'do', 'Código', 'Penal', ';', '-', 'Um', 'CRIME', 'DE', 'BRANQUEAMENTO', ',', 'em', 'co-autoria', 'com', 'o', 'arguido', 'JOSÉ', 'SÓCRATES', 'relativamente', 'a', 'concentração', 'dos', 'fundos', 'em', 'novas', 'contas', 'bancarias', 'da', 'Suíça', 'tituladas', 'por', 'sociedades', 'offshore', ',', 'controladas', 'pelo', 'arguido', 'CARLOS', 'SANTOS', 'SILVA', ',', 'e', 'sua', 'transferência', 'para', 'contas', 'tituladas', 'pelo', 'mesmo', 'arguido', 'em', 'Portugal', ',', 'ao', 'abrigo', 'do', 'RERT', 'II', ',', 'crime', 'p.', 'e', 'p.', 'pelo', 'art.º', '368', '.', '°-A', ',', 'n.ºs', '1', ',', '2', 'e', '3', 'do', 'Código', 'Penal', ';', '13', 'S.', 'R.', 'TRIBUNAL', 'CENTRAL', 'DE', 'INSTRUÇÃO', 'CRIMINAL', '-', 'Um', 'CRIME', 'DE', 'BRANQUEAMENTO', ',', 'em', 'co-autoria', 'com', 'o', 'arguido', 'JOSÉ', 'SÓCRATES', 'relativamente', 'a', 'dissipação', 'dos', 'fundos', 'por', 'outras', 'contas', 'em', 'Portugal', ',', 'em', 'que', 'o', 'arguido', 'CARLOS', 'SANTOS', 'SILVA', 'era', 'titular', 'e', 'autorizado', ',', 'e', 'a', 'confusão', 'de', 'patrimónios', 'de', 'ambos', 'nessas', 'contas', 'bancárias', ',', 'crime', 'p.', 'e', 'p.', 'pelo', 'art.º', '368', '.', '°-A', ',', 'n.ºs', '1', ',', '2', 'e', '3', 'do', 'Código', 'Penal', ';', '-', 'Um', 'CRIME', 'DE', 'BRANQUEAMENTO', ',', 'em', 'co-autoria', 'com', 'os', 'arguidos', 'JOSÉ', 'SÓCRATES', 'e', 'GONÇALO', 'FERREIRA', ',', 'quanto', 'a', 'aquisição', 'de', 'imóveis', 'em', 'Portugal', ',', 'com', 'o', 'retomo', 'do', 'preço', 'pago', 'para', 'a', 'esfera', 'patrimonial', 'do', 'arguido', 'JOSÉ', 'SÓCRATES', ',', 'de', 'forma', 'justificada', ',', 'factos', 'ocorridos', 'entre', '2010', 'e', '2012', ',', 'crime', 'p.', 'e', 'p.', 'pelo', 'art.º', '368', '.', '°-A', ',', 'n.ºs', '1', ',', '2', 'e', '3', 'do', 'Código', 'Penal', ';', '-', 'Um', 'CRIME', 'DE', 'BRANQUEAMENTO', ',', 'em', 'co-autoria', 'com', 'os', 'arguidos', 'JOSÉ', 'SÓCRATES', 'e', 'GONÇALO', 'FERREIRA', ',', 'relativamente', 'a', 'aquisição', 'e', 'subsequente', 'arrendamento', 'de', 'um', 'imóvel', 'em', 'Paris', ',', 'com', 'intenção', 'de', 'ocultação', 'da', 'titularidade', 'do', 'activo', ',', 'factos', 'praticados', 'entre', '2012', 'e', '2014', ',', 'crime', 'p.', 'e', 'p.', 'pelo', 'art.º', '368', '.', '°-A', ',', 'n.ºs', '1', ',', '2', 'e', '3', 'do', 'Código', 'Penal', ';', '-', 'Um', 'CRIME', 'DE', 'BRANQUEAMENTO', ',', 'em', 'co-autoria', 'com', 'os', 'arguidos', 'JOSÉ', 'SÓCRATES', 'e', 'GONÇALO', 'FERREIRA', ',', 'relativamente', 'a', 'entrega', 'pelo', 'arguido', 'CARLOS', 'SANTOS', 'SILVA', 'de', 'quantias', 'pertencentes', 'ao', 'arguido', 'JOSÉ', 'SÓCRATES', 'para', 'depósito', 'em', 'contas', 'bancárias', 'do', 'arguido', 'GONÇALO', 'FERREIRA', 'e', 'para', 'guardar', 'em', 'cofre', 'bancário', 'e', 'em', 'contas', 'tituladas', 'pelo', 'mesmo', ',', 'de', 'forma', 'a', 'ocultar', 'a', 'propriedade', 'desses', 'fundos', 'pelo', 'arguido', 'JOSÉ', 'SÓCRATES', ',', 'factos', 'ocorridos', 'nos', 'anos', 'de', '2012', 'e', '2013', ',', 'crime', 'p.', 'e', 'p.', 'pelo', 'art.º', '368.°-A', ',', 'n.ºs', '1', ',', '2', 'e', '3', 'do', 'Código', 'Penal', ';', '-', 'Um', 'CRIME', 'DE', 'BRANQUEAMENTO', ',', 'em', 'co-autoria', 'com', 'os', 'arguidos', 'JOSÉ', 'SÓCRATES', 'e', 'INÊS', 'DO', 'ROSÁRIO', ',', 'relativamente', 'a', '14', 'S.', 'R.', 'TRIBUNAL', 'CENTRAL', 'DE', 'INSTRUÇÃO', 'CRIMINAL', 'utilização', 'das', 'contas', 'bancárias', 'desta', 'última', 'arguida', 'junto', 'do', 'MONTEPIO', 'GERAL', 'e', 'a', 'recepção', 'pela', 'mesma', 'de', 'fundos', ',', 'provenientes', 'do', 'arguido', 'CARLOS', 'SANTOS', 'SILVA', 'para', 'entrega', 'ao', 'arguido', 'JOSÉ', 'SÓCRATES', ',', 'ocultando', 'a', 'propriedade', 'das', 'mesmas', 'por', 'este', 'último', ',', 'factos', 'ocorridos', 'nos', 'anos', 'de', '2013', 'e', '2014', ',', 'crime', 'p.', 'e', 'p.', 'pelo', 'art.º', '368', '.', '°-A', ',', 'n.ºs', '1', ',', '2', 'e', '3', 'do', 'Código', 'Penal', ';', '-', 'Um', 'CRIME', 'DE', 'BRANQUEAMENTO', ',', 'em', 'co-autoria', 'com', 'os', 'arguidos', 'JOSÉ', 'SÓCRATES', 'e', 'JOÃO', 'PERNA', ',', 'relativos', 'a', 'utilização', 'das', 'contas', 'tituladas', 'por', 'este', 'último', 'como', 'contas', 'de', 'passagem', 'de', 'fundos', 'de', 'origem', 'ilícita', 'provenientes', 'de', 'CARLOS', 'SANTOS', 'SILVA', 'e', 'destinados', 'a', 'esfera', 'patrimonial', 'do', 'arguido', 'JOSÉ', 'SÓCRATES', ',', 'operações', 'ocorridas', 'entre', '2011', 'e', '2014', ',', 'crime', 'p.', 'e', 'p.', 'pelo', 'art.º', '368', '.', '°-A', ',', 'n.ºs', 'l', ',', '2', 'e', '3', 'do', 'Código', 'Penal', ';', '-', 'Um', 'CRIME', 'DE', 'BRANQUEAMENTO', ',', 'em', 'co-autoria', 'com', 'os', 'arguidos', 'JOSÉ', 'SÒCRATES', 'e', 'SOFIA', 'FAVA', 'relativamente', 'a', 'aquisição', 'de', 'um', 'imóvel', ',', 'designado', '“', 'Monte', 'das', 'Margaridas', '”', ',', 'com', 'intenção', 'de', 'que', 'passasse', 'a', 'integrar', 'o', 'património', 'familiar', 'do', 'arguido', 'JOSÉ', 'SÒCRATES', ',', 'com', 'registo', 'em', 'nome', 'de', 'terceiro', 'e', 'montagem', 'de', 'operação', 'de', 'financiamento', 'e', 'formas', 'de', 'custear', 'as', 'prestações', 'da', 'mesma', ',', 'factos', 'ocorridos', 'entre', '2011', 'e', '2014', ',', 'crime', 'p.', 'e', 'p.', 'pelo', 'art.º', '368', '.', '°-A', ',', 'n.ºs', '1', ',', '2', 'e', '3', 'do', 'Código', 'Penal', ';', '-', 'Um', 'CRIME', 'DE', 'FALSIFICAÇÃO', 'DE', 'DOCUMENTO', ',', 'em', 'co-', 'autoria', 'com', 'o', 'arguido', 'JOSE', 'SOCRATES', ',', 'relativamente', 'a', 'declaração', 'de', 'adesão', 'ao', 'RERT', 'II', 'e', 'outra', 'documentação', 'produzida', 'e', 'utilizada', 'para', 'esse', 'efeito', ',', 'no', 'que', 'se', 'reporta', 'a', 'titularidade', 'dos', 'elementos', 'patrimoniais', 'declarados', ',', 'concentrados', 'nas', 'contas', 'da', 'Suíça', 'até', 'ao', 'final', 'do', 'ano', 'de', '2010', ',', 'crime', 'p.', 'e', 'p.', 'pelo', 'art.º', '256', '.', '°', ',', 'n.ºs', '1', ',', 'alíneas', 'a', ')', ',', 'd', ')', 'e', 'e', ')', 'do', 'Código', 'Penal', ';', '15', 'S.', 'R.', 'TRIBUNAL', 'CENTRAL', 'DE', 'INSTRUÇÃO', 'CRIMINAL', '-', 'Um', 'CRIME', 'DE', 'FALSIFICAÇÃO', 'DE', 'DOCUMENTO', ',', 'em', 'co-', 'autoria', 'com', 'os', 'arguidos', 'JOSÉ', 'SÓCRATES', 'e', 'JOAQUIM', 'BARROCA', ',', 'relativamente', 'ao', 'primeiro', 'contrato', 'de', 'prestação', 'de', 'serviços', 'celebrado', 'entre', 'a', 'LEC', 'SA', 'e', 'a', 'XLM', ',', 'facturas', 'e', 'outra', 'documentação', 'produzida', 'ao', 'abrigo', 'do', 'mesmo', ',', 'factos', 'ocorridos', 'a', 'partir', 'de', '2009', ',', 'crime', 'p.', 'e', 'p.', 'pelo', 'art.º', '256', '.', '°', ',', 'n.º', '1', ',', 'alíneas', 'a', ')', ',', 'd', ')', 'e', 'e', ')', 'do', 'Código', 'Penal', ';', '-', 'Um', 'CRIME', 'DE', 'FALSIFICAÇÃO', 'DE', 'DOCUMENTO', ',', 'praticado', ',', 'em', 'co-autoria', ',', 'com', 'os', 'arguidos', 'JOSÉ', 'SOCRATES', 'e', 'RUI', 'MÃO', 'DE', 'FERRO', 'com', 'referência', 'aos', 'contratos', 'de', 'prestação', 'de', 'serviços', 'celebrados', 'entre', 'as', 'sociedades', 'XLM', 'e', 'RMF', 'CONSULTING', ',', 'bem', 'como', 'facturas', 'e', 'outra', 'documentação', 'produzida', 'ao', 'abrigo', 'dos', 'mesmos', ',', 'que', 'serviram', 'de', 'suporte', 'a', 'circulação', 'de', 'quantias', 'entre', 'estas', 'sociedades', ',', 'com', 'origem', 'e', 'destino', 'no', 'arguido', 'JOSÉ', 'SÓCRATES', ',', 'crime', 'p.', 'e', 'p.', 'pelo', 'art.º', '256', '.', '°', ',', 'n.º', 'l', ',', 'alíneas', 'a', ')', ',', 'd', ')', 'e', 'e', ')', 'do', 'Código', 'Penal', ';', '-', 'Um', 'CRIME', 'DE', 'FALSIFICAÇÃO', 'DE', 'DOCUMENTO', 'relativamente', 'aos', 'relatórios', 'de', 'catividades', 'da', 'XLM', ',', 'em', 'co-autoria', 'com', 'os', 'arguidos', 'RUI', 'MÃO', 'DE', 'FERRO', 'e', 'JOAQUIM', 'BARROCA', ',', 'relativos', 'ao', 'forjar', 'e', 'execução', 'do', 'primeiro', 'contrato', 'entre', 'a', 'LEC', 'SA', 'e', 'a', 'XLM', ',', 'factos', 'ocorridos', 'entre', '2011', 'e', '2013', ',', 'crime', 'p.', 'e', 'p.', 'pelo', 'art.º', '256', '.', '°', ',', 'n.º', 'l', ',', 'alíneas', 'a', ')', ',', 'd', ')', 'e', 'e', ')', 'do', 'Código', 'Penal', ';', '-', 'Um', 'CRIME', 'DE', 'FALSIFICAÇÃO', 'DE', 'DOCUMENTO', ',', 'em', 'co-', 'autoria', 'com', 'os', 'arguidos', 'JOSÉ', 'SÓCRATES', ',', 'RICARDO', 'SALGADO', ',', 'HÉLDER', 'BATAGLIA', 'e', 'JOAQUIM', 'BARROCA', ',', 'relativamente', 'aos', 'factos', 'referentes', 'ao', 'conjunto', 'de', 'documentos', 'que', 'incluem', 'o', 'contrato', 'promessa', 'de', 'compra', 'e', 'venda', 'de', 'imóvel', 'em', 'Angola', ',', 'denominado', 'KANHANGULO', ',', '16', 'S.', 'R.', 'TRIBUNAL', 'CENTRAL', 'DE', 'INSTRUÇÃO', 'CRIMINAL', 'contrato', 'de', 'intermediação', 'AII', 'e', 'XLM', ',', 'cartas', 'de', 'admissão', 'do', 'seu', 'incumprimento', 'e', 'perda', 'de', 'sinal', 'e', 'celebração', 'de', 'segundo', 'contrato', 'de', 'prestação', 'de', 'serviços', 'entre', 'a', 'LEC', 'e', 'a', 'XLM', ',', 'bem', 'como', 'facturas', 'e', 'outra', 'documentação', 'produzida', 'ao', 'abrigo', 'desses', 'contratos', ',', 'crime', 'p.', 'e', 'p.', 'pelo', 'art.º', '256.°', ',', 'n.º', 'l', ',', 'alíneas', 'a', ')', ',', 'd', ')', 'e', 'e', ')', 'do', 'Código', 'Penal', ';', '-', 'Um', 'CRIME', 'DE', 'FALSIFICAÇÃO', 'DE', 'DOCUMENTO', ',', 'em', 'co-', 'autoria', 'com', 'os', 'arguidos', 'JOSÉ', 'SÓCRATES', 'e', 'SOFIA', 'FAVA', ',', 'com', 'referência', 'aos', 'contratos', 'de', 'prestação', 'de', 'serviços', 'celebrados', 'entre', 'a', 'XLM', 'e', 'a', 'arguida', 'SOFIA', 'FAVA', ',', 'que', 'serviram', 'de', 'suporte', 'ao', 'recebimento', 'de', 'quantias', 'por', 'esta', 'última', 'com', 'origem', 'no', 'arguido', 'JOSÉ', 'SÓCRATES', ',', 'crime', 'p.', 'e', 'p.', 'pelo', 'art.º', '256', '.', '°', ',', 'n.ºs', 'l', ',', 'alíneas', 'a', ')', ',', 'd', ')', 'e', 'e', ')', 'do', 'Código', 'Penal', ';', '-', 'Um', 'CRIME', 'DE', 'FALSIFICAÇÃO', 'DE', 'DOCUMENTO', ',', 'em', 'co-', 'autoria', 'com', 'o', 'arguido', 'JOSÉ', 'SÓCRATES', ',', 'com', 'referência', 'aos', 'contratos', 'de', 'prestação', 'de', 'serviços', 'celebrados', 'entre', 'a', 'sociedade', 'XLM', 'e', 'Ana', 'Bessa', ',', 'bem', 'como', 'facturas', 'e', 'outra', 'documentação', 'produzida', 'ao', 'abrigo', 'dos', 'mesmos', ',', 'que', 'serviram', 'de', 'suporte', 'ao', 'recebimento', 'de', 'quantias', 'por', 'esta', 'última', 'com', 'origem', 'no', 'arguido', 'JOSÉ', 'SÓCRATES', ',', 'crime', 'p.', 'e', 'p.', 'pelo', 'art.º', '256', '.', '°', ',', 'n.º', 'l', ',', 'alíneas', 'a', ')', ',', 'd', ')', 'e', 'e', ')', 'do', 'Código', 'Penal', ';', '-', 'Um', 'CRIME', 'DE', 'FALSIFICAÇÃO', 'DE', 'DOCUMENTO', ',', 'em', 'co-', 'autoria', 'com', 'os', 'arguidos', 'JOSÉ', 'SÓCRATES', 'e', 'RUI', 'MÃO', 'DE', 'FERRO', 'com', 'referência', 'aos', 'contratos', 'de', 'prestação', 'de', 'serviços', 'celebrados', 'entre', 'a', 'sociedade', 'RMF', 'CONSULTING', 'e', 'Domingos', 'Farinho', 'e', 'Jane', 'Kirkby', ',', 'bem', 'como', 'facturas', 'e', 'outra', 'documentação', 'produzida', 'ao', 'abrigo', 'dos', 'mesmos', ',', 'que', 'serviram', 'de', 'suporte', 'ao', 'recebimento', 'de', 'quantias', 'por', 'estes', 'últimos', 'com', 'origem', 'no', 'arguido', '17', 'S.', 'R.', 'TRIBUNAL', 'CENTRAL', 'DE', 'INSTRUÇÃO', 'CRIMINAL', 'JOSÉ', 'SÓCRATES', ',', 'crime', 'p.', 'e', 'p.', 'pelo', 'art.º', '256', '.', '°', ',', 'n.º', 'l', ',', 'alíneas', 'a', ')', ',', 'd', ')', 'e', 'e', ')', 'do', 'Código', 'Penal', ';', '-', 'Um', 'CRIME', 'DE', 'FALSIFICAÇÃO', 'DE', 'DOCUMENTO', ',', 'em', 'co-', 'autoria', 'com', 'os', 'arguidos', 'JOSÉ', 'SÓCRATES', 'e', 'RUI', 'MÃO', 'DE', 'FERRO', 'com', 'referência', 'aos', 'contratos', 'de', 'prestação', 'de', 'serviços', 'celebrados', 'entre', 'a', 'sociedade', 'RMF', 'CONSULTING', 'e', 'António', 'Manuel', 'Peixoto', 'e', 'António', 'Mega', 'Peixoto', ',', 'bem', 'como', 'facturas', 'e', 'outra', 'documentação', 'produzida', 'ao', 'abrigo', 'dos', 'mesmos', ',', 'que', 'serviram', 'de', 'suporte', 'ao', 'recebimento', 'de', 'quantias', 'por', 'estes', 'últimos', 'com']\n",
      "Filterd Sentence: ['S.', 'R.', 'TRIBUNAL', 'CENTRAL', 'DE', 'INSTRUÇÃO', 'CRIMINAL', 'NUIPC', ':', '122/13.8TELSB', 'DECISÃO', 'INSTRUTÓRIA', 'CAPÍTULO', 'I', 'I', '–', 'RELATÓRIO', '1.1', '-', 'A', 'Acusação', 'Foi', 'imputado', 'sede', 'acusação', 'arguidos', ':', 'JOSÉ', 'SÓCRATES', 'CARVALHO', 'PINTO', 'DE', 'SOUSA', '-', 'Um', 'Crime', 'Corrupção', 'Passiva', 'Titular', 'Cargo', 'Político', ',', 'co-autoria', 'arguido', 'Carlos', 'Santos', 'Silva', ',', 'referência', 'actos', 'praticados', 'interesse', 'Grupo', 'LENA', '2005', '2011', ',', 'crime', 'p.', 'p.', 'disposições', 'conjugadas', 'art.º', '1.°', ',', '2.°', ',', '3.°', ',', 'n.º', '1', ',', 'alínea', 'd', ')', ',', '17.°', ',', 'n.º', '1', '19.°', ',', 'n.ºs', '2', '3', 'Lei', 'n.º', '34/87', ',', '16', 'Julho', ',', 'redacção', 'introduzida', 'Lei', 'n.º', '108/2001', ',', '28', 'Novembro', '(', 'Lei', 'Crimes', 'Responsabilidade', '1', 'S.', 'R.', 'TRIBUNAL', 'CENTRAL', 'DE', 'INSTRUÇÃO', 'CRIMINAL', 'Titulares', 'Cargos', 'Políticos', ')', ',', 'referência', 'art.º', '28.°', '202.°', ',', 'alínea', 'b', ')', 'Código', 'Penal', ';', '-', 'Um', 'Crime', 'Corrupção', 'Passiva', 'Titular', 'Cargo', 'Político', ',', 'referência', 'actos', 'praticados', 'interesse', 'arguido', 'Ricardo', 'Salgado', ',', 'relativamente', 'negócios', 'Grupo', 'PORTUGAL', 'TELECOM', 'GES', ',', 'crime', 'p.', 'p.', 'disposições', 'conjugadas', 'art.º', 'lº', ',', '2.°', ',', '3.°', ',', 'n.º', '1', ',', 'alínea', 'd', ')', ',', '17.°', ',', 'n.º', '1', '19.°', ',', 'n.ºs', '2', '3', 'Lei', 'n.º', '34/87', ',', '16', 'Julho', ',', 'redacção', 'introduzida', 'Lei', 'n°', '108/2001', ',', '28', 'Novembro', '(', 'Lei', 'Crimes', 'Responsabilidade', 'Titulares', 'Cargos', 'Políticos', ')', ',', 'referência', 'art.º', '28.°', '202.°', ',', 'alínea', 'b', ')', 'Código', 'Penal', ';', '-', 'Um', 'Crime', 'Corrupção', 'Passiva', 'Titular', 'Cargo', 'Político', ',', 'co-autoria', 'arguido', 'Armando', 'Vara', ',', 'referencia', 'atos', 'praticados', 'interesse', 'arguidos', 'Diogo', 'Gaspar', 'Ferreira', 'Rui', 'Horta', 'Costa', 'utilização', 'sociedades', 'Grupo', 'VALE', 'DO', 'LOBO', ',', 'crime', 'p.', 'p.', 'disposições', 'conjugadas', 'art.º', '1º', ',', '2.°', ',', '3.°', ',', 'n.º', '1', ',', 'alínea', 'd', ')', ',', '17.°', ',', 'n.º', '1', '19°.', ',', 'n.ºs', '2', '3', 'Lei', '34/87', ',', '16', 'julho', ',', 'redacção', 'introduzida', 'Lei', 'n°', '108/2001', ',', '28', 'Novembro-', 'Lei', 'Crimes', 'Responsabilidade', 'Titulares', 'Cargos', 'Políticos', ',', 'referência', 'art.º', '28.°', '202.°', ',', 'alínea', 'b', ')', 'Código', 'Penal', ';', '-', 'Um', 'CRIME', 'DE', 'BRANQUEAMENTO', ',', 'co-autoria', 'arguidos', 'CARLOS', 'SANTOS', 'SILVA', 'JOAQUIM', 'BARROCA', 'relativamente', 'movimentos', 'financeiros', 'origem', 'Grupo', 'LENA', 'passagem', 'contas', 'Suíça', 'tituladas', 'último', 'arguido', 'realizados', 'partir', '2007', ',', 'crime', 'p.', 'p.', 'art.368°-A', ',', 'n°', '1', ',', '2', '3', 'Código', 'Penal', ';', '2', 'S.', 'R.', 'TRIBUNAL', 'CENTRAL', 'DE', 'INSTRUÇÃO', 'CRIMINAL', '-', 'Um', 'CRIME', 'DE', 'BRANQUEAMENTO', ',', 'co-autoria', 'arguidos', 'CARLOS', 'SANTOS', 'SILVA', ',', 'JOAQUIM', 'BARROCA', 'sociedades', 'LEC', 'S.A.', 'XLM', ',', 'relativamente', 'utilização', 'desta', 'última', 'sociedade', ',', '2009', '2015', ',', 'colocação', 'fundos', 'destinados', 'arguido', 'JOSÉ', 'SÓCRATES', 'utilização', 'mesmos', 'interesse', 'através', 'pagamento', 'directo', 'despesas', 'distribuição', 'dividendos', 'contas', 'tituladas', 'arguido', 'CARLOS', 'SANTOS', 'SILVA', ',', 'crime', 'p.', 'p.', 'art.368°-A', ',', 'n°', '1', ',', '2', '3', 'Código', 'Penal', ';', '-', 'Um', 'CRIME', 'DE', 'BRANQUEAMENTO', ',', 'co-autoria', 'arguidos', 'CARLOS', 'SANTOS', 'SILVA', ',', 'JOAQUIM', 'BARROCA', ',', 'RUI', 'MÃO', 'DE', 'FERRO', 'sociedades', 'LEC', 'SA', ',', 'XLM', 'RMF', 'CONSULTING', ',', 'relativamente', 'utilização', 'desta', 'última', 'sociedade', ',', '2010', '2014', ',', 'colocação', 'fundos', 'destinados', 'arguido', 'JOSÉ', 'SOCRATES', 'utilização', 'mesmos', 'interesse', 'através', 'pagamento', 'despesas', 'colocação', 'numerário', 'disposição', ',', 'crime', 'p.', 'p.', 'art.º', '368', '.', '°-A', ',', 'n.ºs', '1', ',', '2', '3', 'Código', 'Penal', ';', '-', 'Um', 'CRIME', 'DE', 'BRANQUEAMENTO', ',', 'co-autoria', 'arguidos', 'RICARDO', 'SALGADO', ',', 'HÉLDER', 'BATAGLIA', ',', 'CARLOS', 'SANTOS', 'SILVA', 'JOSÉ', 'PAULO', 'PINTO', 'DE', 'SOUSA', ',', 'relativamente', 'utilização', ',', '2006', '2008', ',', 'contas', 'Suíça', 'último', 'autorizado', 'operações', 'financeiras', 'realizadas', 'partir', 'mesmas', ',', 'crime', 'p.', 'p.', 'art.º', '368', '.', '°-A', ',', 'n.ºs', '1,2', '3', 'Código', 'Penal', ';', '-', 'Um', 'CRIME', 'DE', 'BRANQUEAMENTO', ',', 'co-autoria', 'arguidos', 'RICARDO', 'SALGADO', ',', 'HÉLDER', 'BATAGLIA', ',', 'JOSÉ', 'PAULO', 'PINTO', 'DE', 'SOUSA', 'CARLOS', 'SANTOS', 'SILVA', 'relativamente', '3', 'S.', 'R.', 'TRIBUNAL', 'CENTRAL', 'DE', 'INSTRUÇÃO', 'CRIMINAL', 'movimentos', 'financeiros', 'justificados', 'contratos', 'PINSONG', ',', 'realizados', 'ano', '2007', 'início', '2008', ',', 'origem', 'conta', 'Suíça', 'ES', 'ENTERPRISES', ',', 'crime', 'p.', 'p.', 'art.368°-A', ',', 'n°', '1', ',', '2', '3', 'Código', 'Penal', ';', '-', 'Um', 'CRIME', 'DE', 'BRANQUEAMENTO', ',', 'co-autoria', 'arguidos', 'RICARDO', 'SALGADO', ',', 'HELDER', 'BATAGLIA', ',', 'CARLOS', 'SANTOS', 'SILVA', 'JOAQUIM', 'BARROCA', 'relativamente', 'movimentos', 'financeiros', 'justificados', 'contratos', 'PINSONG', ',', 'realizados', 'partir', 'Abril', '2008', ',', 'origem', 'conta', 'Suíça', 'ES', 'ENTERPRISES', 'intervenção', 'contas', 'Suíça', 'arguido', 'JOAQUIM', 'BARROCA', ',', 'crime', 'p.', 'p.', 'art.º', '368', '.', '°-A', ',', 'n.ºs', '1', ',', '2', '3', 'Código', 'Penal', ';', '-', 'Um', 'CRIME', 'DE', 'BRANQUEAMENTO', ',', 'co-autoria', 'arguidos', 'RICARDO', 'SALGADO', ',', 'HÉLDER', 'BATAGLIA', ',', 'JOAQUIM', 'BARROCA', 'CARLOS', 'SANTOS', 'SILVA', 'sociedades', 'LEC', 'SA', ',', 'LEC', 'SGPS', ',', 'LENA', 'SGPS', 'XLM', ',', 'relativamente', 'movimentos', 'financeiros', ',', 'ocorridos', 'partir', '2010', ',', 'abrangidos', 'operação', 'CEL_2010', ',', 'justificados', 'através', 'contrato', 'promessa', 'compra', 'venda', 'perda', 'sinal', 'referente', 'imóvel', 'KANHANGULO', ',', 'sito', 'Luanda', ',', 'introdução', 'desses', 'fundos', 'Grupo', 'LENA', ',', 'crime', 'p.', 'p.', 'art.º', '368.°-A', ',', 'n.ºs', '1', ',', '2', '3', 'Código', 'Penal', ';', '-', 'Um', 'CRIME', 'DE', 'BRANQUEAMENTO', ',', 'co-autoria', 'arguidos', 'CARLOS', 'SANTOS', 'SILVA', ',', 'JOAQUIM', 'BARROCA', ',', 'ARMANDO', 'VARA', ',', 'DIOGO', 'GASPAR', 'FERREIRA', ',', 'RUI', 'HORTA', 'E', 'COSTA', 'BÁRBARA', 'VARA', ',', 'relativamente', 'transferências', 'origem', 'conta', 'cidadão', 'holandês', 'Van', 'Doreen', ',', 'referentes', 'financiamentos', 'concedidos', 'Grupo', 'VALE', 'DO', 'LOBO', ',', 'passagem', 'conta', 'bancaria', 'Suíça', '4', 'S.', 'R.', 'TRIBUNAL', 'CENTRAL', 'DE', 'INSTRUÇÃO', 'CRIMINAL', 'arguido', 'JOAQUIM', 'BARROCA', ',', 'crime', 'p.', 'p.', 'art.368°-A', ',', 'nºs', 'l', ',', '2', '3', 'Código', 'Penal', ';', '-', 'Um', 'CRIME', 'DE', 'BRANQUEAMENTO', ',', 'co-autoria', 'arguido', 'CARLOS', 'SANTOS', 'SILVA', 'relativamente', 'concentração', 'fundos', 'novas', 'contas', 'bancarias', 'Suíça', 'tituladas', 'sociedades', 'offshore', 'controladas', 'CARLOS', 'SANTOS', 'SILVA', 'transferência', 'contas', 'tituladas', 'último', 'arguido', 'Portugal', ',', 'abrigo', 'RERT', 'II', ',', 'crime', 'p.', 'p.', 'art.º', '368', '.', '°-A', ',', 'n°s', '1', ',', '2', '3', 'Código', 'Penal', ';', '-', 'Um', 'CRIME', 'DE', 'BRANQUEAMENTO', ',', 'co-autoria', 'arguido', 'CARLOS', 'SANTOS', 'SILVA', 'relativamente', 'dissipação', 'fundos', 'outras', 'contas', 'Portugal', ',', 'último', 'arguido', 'titular', 'autorizado', ',', 'confusão', 'patrimónios', 'ambos', 'nessas', 'contas', 'bancarias', ',', 'crime', 'p.', 'p.', 'art.º', '368', '.', '°-A', ',', 'n.ºs', '1', ',', '2', '3', 'Código', 'Penal', ';', '-', 'Um', 'CRIME', 'DE', 'BRANQUEAMENTO', ',', 'co-autoria', 'arguidos', 'CARLOS', 'SANTOS', 'SILVA', 'GONÇALO', 'FERREIRA', ',', 'quanto', 'aquisição', 'imóveis', 'Portugal', 'retomo', 'preço', 'pago', 'esfera', 'patrimonial', 'arguido', 'JOSE', 'SOCRATES', ',', 'forma', 'justificada', ',', 'factos', 'ocorridos', '2010', '2012', ',', 'crime', 'p.', 'p.', 'art.º', '368', '.', '°-A', ',', 'n.ºs', '1', ',', '2', '3', 'Código', 'Penal', ';', '-', 'Um', 'CRIME', 'DE', 'BRANQUEAMENTO', ',', 'co-autoria', 'arguidos', 'CARLOS', 'SANTOS', 'SILVA', 'GONÇALO', 'FERREIRA', ',', 'relativamente', 'aquisição', 'subsequente', 'arrendamento', 'imóvel', 'Paris', ',', 'intenção', 'ocultação', 'titularidade', 'activo', ',', 'factos', 'praticados', '2012', '2014', ',', 'crime', 'p.', 'p.', 'art.º', '368', '.', '°-A', ',', 'n°s', '1', ',', '2', '3', 'Código', 'Penal', ';', '5', 'S.', 'R.', 'TRIBUNAL', 'CENTRAL', 'DE', 'INSTRUÇÃO', 'CRIMINAL', '-', 'Um', 'CRIME', 'DE', 'BRANQUEAMENTO', ',', 'co-autoria', 'arguidos', 'GONÇALO', 'FERREIRA', 'CARLOS', 'SANTOS', 'SILVA', ',', 'relativamente', 'entrega', 'último', 'arguido', 'quantias', 'pertencentes', 'arguido', 'JOSÉ', 'SÓCRATES', 'depósito', 'contas', 'bancarias', 'arguido', 'GONÇALO', 'FERREIRA', 'guardar', 'cofre', 'bancário', 'contas', 'tituladas', ',', 'forma', 'ocultar', 'propriedade', 'desses', 'valores', 'arguido', 'JOSÉ', 'SÓCRATES', ',', 'factos', 'ocorridos', 'anos', '2012', '2013', ',', 'crime', 'p.', 'p.', 'art.368°-A', ',', 'n°', '1', ',', '2', '3', 'Código', 'Penal', ';', '-', 'Um', 'CRIME', 'DE', 'BRANQUEAMENTO', ',', 'co-autoria', 'arguidos', 'CARLOS', 'SANTOS', 'SILVA', 'INÊS', 'DO', 'ROSÁRIO', ',', 'relativamente', 'utilização', 'contas', 'bancárias', 'desta', 'ultima', 'arguida', 'junto', 'MONTEPIO', 'GERAL', 'recepção', 'mesma', 'fundos', ',', 'provenientes', 'arguido', 'CARLOS', 'SANTOS', 'SILVA', 'entrega', 'arguido', 'JOSÉ', 'SÓCRATES', ',', 'ocultando', 'propriedade', 'mesmas', 'quantias', 'último', ',', 'factos', 'ocorridos', 'anos', '2013', '2014', ',', 'crime', 'p.', 'p.', 'art.º', '368', '.', '°-A', ',', 'n.ºs', '1', ',', '2', '3', 'Código', 'Penal', ';', '-', 'Um', 'CRIME', 'DE', 'BRANQUEAMENTO', ',', 'co-autoria', 'arguidos', 'CARLOS', 'SANTOS', 'SILVA', 'JOÃO', 'PERNA', ',', 'relativos', 'utilização', 'contas', 'tituladas', 'último', 'Portugal', 'contas', 'passagem', 'fundos', 'origem', 'ilícita', 'provenientes', 'arguido', 'CARLOS', 'SANTOS', 'SILVA', 'destinados', 'esfera', 'patrimonial', 'arguido', 'JOSÉ', 'SÓCRATES', ',', 'operações', 'ocorridas', '2011', '2014', ',', 'crime', 'p.', 'p.', 'art.º', '368', '.', '°-A', ',', 'n.ºs', 'l', ',', '2', '3', 'Código', 'Penal', ';', '-', 'Um', 'CRIME', 'DE', 'BRANQUEAMENTO', ',', 'co-autoria', 'arguidos', 'CARLOS', 'SANTOS', 'SILVA', 'SOFIA', 'FAVA', 'relativamente', '6', 'S.', 'R.', 'TRIBUNAL', 'CENTRAL', 'DE', 'INSTRUÇÃO', 'CRIMINAL', 'aquisição', 'imóvel', ',', 'designado', '“', 'Monte', 'Margaridas', '”', ',', 'intenção', 'passasse', 'integrar', 'património', 'familiar', 'arguido', 'JOSÉ', 'SÓCRATES', ',', 'registo', 'nome', 'terceiro', 'montagem', 'operação', 'financiamento', 'formas', 'custear', 'prestações', 'mesma', ',', 'factos', 'ocorridos', '2011', '2014', ',', 'crime', 'p.', 'p.', 'art.º', '368', '.', '°-A', ',', 'n.ºs', '1', ',', '2', '3', 'Código', 'Penal', ';', '-', 'Um', 'CRIME', 'DE', 'FALSIFICAÇÃO', 'DE', 'DOCUMENTO', ',', 'co-', 'autoria', 'arguido', 'CARLOS', 'SANTOS', 'SIVA', ',', 'relativamente', 'declaração', 'adesão', 'RERT', 'II', 'outra', 'documentação', 'produzida', 'utilizada', 'efeito', ',', 'reporta', 'titularidade', 'elementos', 'patrimoniais', 'declarados', ',', 'concentrados', 'contas', 'Suíça', 'final', 'ano', '2010', ',', 'crime', 'p.', 'p.', 'art.º', '256', '.', '°', ',', 'n.º', '1', ',', 'alíneas', ')', ',', 'd', ')', ')', 'Código', 'Penal', ';', '-', 'Um', 'CRIME', 'DE', 'FALSIFICAÇÃO', 'DE', 'DOCUMENTO', ',', 'co-', 'autoria', 'arguidos', 'CARLOS', 'SANTOS', 'SILVA', 'JOAQUIM', 'BARROCA', ',', 'relativamente', 'primeiro', 'contrato', 'prestação', 'serviços', 'celebrado', 'LEC', 'S.A.', 'XLM', ',', 'facturas', 'outra', 'documentação', 'produzida', 'abrigo', ',', 'factos', 'ocorridos', 'partir', '2009', ',', 'crime', 'p.', 'p.', 'art.º', '256', '.', '°', ',', 'n.º', 'l', ',', 'alíneas', ')', ',', 'd', ')', ')', 'Código', 'Penal', ';', '-', 'Um', 'CRIME', 'DE', 'FALSIFICAÇÃO', 'DE', 'DOCUMENTO', ',', 'co-', 'autoria', 'arguidos', 'CARLOS', 'SANTOS', 'SILVA', 'RUI', 'MÃO', 'DE', 'FERRO', 'referência', 'contratos', 'prestação', 'serviços', 'celebrados', 'sociedades', 'XLM', 'RMF', 'CONSULTING', ',', 'bem', 'facturas', 'outra', 'documentação', 'produzida', 'abrigo', 'mesmos', ',', 'serviram', 'suporte', 'circulação', 'quantias', 'sociedades', ',', 'origem', 'destino', 'arguido', 'JOSE', 'SOCRATES', ',', 'crime', 'p.', 'p.', 'art.º', '256', '.', '°', ',', 'n.º', 'l', ',', 'alíneas', ')', ',', 'd', ')', ')', 'Código', 'Penal', ';', '7', 'S.', 'R.', 'TRIBUNAL', 'CENTRAL', 'DE', 'INSTRUÇÃO', 'CRIMINAL', '-', 'Um', 'CRIME', 'DE', 'FALSIFICAÇÃO', 'DE', 'DOCUMENTO', ',', 'co-', 'autoria', 'arguidos', 'CARLOS', 'SANTOS', 'SILVA', ',', 'RICARDO', 'SALGADO', ',', 'HÉLDER', 'BATAGLIA', 'JOAQUIM', 'BARROCA', ',', 'relativamente', 'factos', 'referentes', 'conjunto', 'documentos', 'incluem', 'contrato', 'promessa', 'compra', 'venda', 'imóvel', 'Angola', ',', 'denominado', 'KANHANGULO', ',', 'contrato', 'intermediação', 'AII', 'XLM', ',', 'cartas', 'admissão', 'incumprimento', 'perda', 'sinal', 'celebração', 'segundo', 'contrato', 'prestação', 'serviços', 'LEC', 'XLM', ',', 'bem', 'facturas', 'outra', 'documentação', 'produzida', 'abrigo', 'destes', 'contratos', ',', 'factos', 'ocorridos', 'partir', '2010', ',', 'crime', 'p.', 'p.', 'art.º', '256.°', ',', 'n.º', 'l', ',', 'alíneas', ')', ',', 'd', ')', ')', 'Código', 'Penal', ';', '-', 'Um', 'CRIME', 'DE', 'FALSIFICAÇÃO', 'DE', 'DOCUMENTO', ',', 'co-', 'autoria', 'arguidos', 'CARLOS', 'SANTOS', 'SILVA', 'SOFIA', 'FAVA', ',', 'referência', 'contratos', 'prestação', 'serviços', 'celebrados', 'entra', 'XLM', 'arguida', 'SOFIA', 'FAVA', ',', 'serviram', 'suporte', 'recebimento', 'quantias', 'última', 'origem', 'arguido', 'JOSÉ', 'SÓCRATES', ',', 'crime', 'p.', 'p.', 'art.º', '256', '.', '°', ',', 'n.º', 'l', ',', 'alíneas', ')', ',', 'd', ')', ')', 'Código', 'Penal', ';', '-', 'Um', 'CRIME', 'DE', 'FALSIFICAÇÃO', 'DE', 'DOCUMENTO', ',', 'co-', 'autoria', 'arguido', 'CARLOS', 'SANTOS', 'SILVA', ',', 'referência', 'contratos', 'prestação', 'serviços', 'celebrados', 'sociedade', 'XLM', 'Ana', 'Bessa', ',', 'bem', 'facturas', 'outra', 'documentação', 'produzida', 'abrigo', 'mesmos', ',', 'serviram', 'suporte', 'recebimento', 'quantias', 'ultima', 'origem', 'arguido', 'JOSÉ', 'SÓCRATES', ',', 'crime', 'p.', 'p.', 'art.º', '256', '.', '°', ',', 'n.º', 'l', ',', 'alíneas', ')', ',', 'd', ')', ')', 'Código', 'Penal', ';', '-', 'Um', 'CRIME', 'DE', 'FALSIFICAÇÃO', 'DE', 'DOCUMENTO', ',', 'co-', 'autoria', 'arguidos', 'CARLOS', 'SANTOS', 'SILVA', 'RUI', 'MAO', 'DE', 'FERRO', '8', 'S.', 'R.', 'TRIBUNAL', 'CENTRAL', 'DE', 'INSTRUÇÃO', 'CRIMINAL', 'referência', 'contratos', 'prestação', 'serviços', 'celebrados', 'sociedade', 'RMF', 'CONSULTING', 'Domingos', 'Farinho', 'Jane', 'Kirkby', ',', 'bem', 'facturas', 'outra', 'documentação', 'produzida', 'abrigo', 'mesmos', ',', 'serviram', 'suporte', 'recebimento', 'quantias', 'últimos', 'origem', 'arguido', 'JOSÉ', 'SÓCRATES', ',', 'crime', 'p.', 'p.', 'art.º', '256', '.', '°', ',', 'n.º', 'l', ',', 'alíneas', ')', ',', 'd', ')', ')', 'Código', 'Penal', ';', '-', 'Um', 'CRIME', 'DE', 'FALSIFICAÇÃO', 'DE', 'DOCUMENTO', ',', 'co-', 'autoria', 'arguidos', 'CARLOS', 'SANTOS', 'SILVA', 'RUI', 'MÃO', 'DE', 'FERRO', 'referência', 'contratos', 'prestação', 'serviços', 'celebrados', 'sociedade', 'RMF', 'CONSULTING', 'António', 'Manuel', 'Peixoto', 'António', 'Mega', 'Peixoto', ',', 'bem', 'facturas', 'outra', 'documentação', 'produzida', 'abrigo', 'mesmos', ',', 'serviram', 'suporte', 'recebimento', 'quantias', 'últimos', 'origem', 'arguido', 'JOSÉ', 'SÓCRATES', ',', 'crime', 'p.', 'p.', 'art.º', '256.°', ',', 'n.º', 'l', ',', 'alíneas', ')', ',', 'd', ')', ')', 'Código', 'Penal', ';', '-', 'Um', 'CRIME', 'DE', 'FALSIFICAÇÃO', 'DE', 'DOCUMENTO', ',', 'co-', 'autoria', 'arguidos', 'GONCALO', 'FERREIRA', 'CARLOS', 'SANTOS', 'SILVA', ',', 'relativamente', 'produção', 'uso', 'documentação', 'referente', 'aquisição', 'subsequente', 'arrendamento', 'apartamento', 'Paris', ',', 'sito', 'Av', '.', 'President', 'Wilson', ',', 'crime', 'p.', 'p.', 'art.º', '256', '.', '°', ',', 'n.º', 'l', 'alíneas', ')', ',', 'd', ')', ')', 'Código', 'Penal', ';', '-', 'Um', 'CRIME', 'DE', 'FRAUDE', 'FISCAL', 'QUALIFICADA', ',', 'beneficiário', ',', 'co-autoria', 'arguido', 'CARLOS', 'SANTOS', 'SILVA', ',', 'tange', 'IRS', 'apurado', 'quanto', 'anos', '2006', '2009', ',', 'crime', 'p.', 'p.', 'arts', '.', 'l03°-l', ')', ',', 'b', ')', 'c', ')', '104°-', '1', 'd', ')', ',', ')', 'f', ')', 'RGIT', ';', '9', 'S.', 'R.', 'TRIBUNAL', 'CENTRAL', 'DE', 'INSTRUÇÃO', 'CRIMINAL', '-', 'Um', 'CRIME', 'DE', 'FRAUDE', 'FISCAL', 'QUALIFICADA', ',', 'beneficiário', ',', 'co-autoria', ',', 'arguidos', 'JOAQUIM', 'BARROCA', ',', 'CARLOS', 'SANTOS', 'SILVA', ',', 'LENA', 'ENGENHARIA', 'E', 'CONSTRUCOES', 'SA', 'XLM', '-', 'SOCIEDADE', 'DE', 'ESTUDOS', 'E', 'PROJECTOS', 'LDA', ',', 'tange', 'IRS', 'apurado', 'quanto', 'anos', '2009', '2012', ',', 'crime', 'p.', 'p.', 'arts', 'l03', '.', '°-l', ')', ',', 'b', ')', 'c', ')', '104', '.', '°-', '1', 'd', ')', ',', ')', 'f', ')', 'n.º', '2', 'RGIT', ',', 'atualmente', 'n.º', '2', 'alínea', ')', 'art.º', 'l04', '.', '°', 'RGIT', ';', '-', 'Um', 'CRIME', 'DE', 'FRAUDE', 'FISCAL', 'QUALIFICADA', ',', 'beneficiário', ',', 'co-autoria', ',', 'arguidos', 'JOAQUIM', 'BARROCA', ',', 'CARLOS', 'SANTOS', 'SILVA', ',', 'LENA', 'ENGENHARIA', 'E', 'CONSTRUCOES', 'SA', 'XLM', '-', 'SOCIEDADE', 'DE', 'ESTUDOS', 'E', 'PROJECTOS', 'LDA', 'tange', 'IRS', 'apurado', 'quanto', 'anos', '2013', '2015', ',', 'crime', 'p.', 'p.', 'arts', 'l03', '.', '°-l', ')', ',', 'b', ')', 'c', ')', '104°-', '1', 'd', ')', ',', ')', 'n.º', '2', 'alínea', ')', 'n.º', '3', 'RGIT', '.', 'CARLOS', 'MANUEL', 'DOS', 'SANTOS', 'SILVA', '-', 'Um', 'CRIME', 'DE', 'CORRUPÇÃO', 'PASSIVA', 'DE', 'TITULAR', 'DE', 'CARGO', 'POLÍTICO', ',', 'co-autoria', 'arguido', 'JOSÉ', 'SÓCRATES', ',', 'referência', 'actos', 'praticados', 'interesse', 'Grupo', 'LENA', '2005', '2011', ',', 'crime', 'p.', 'p.', 'disposições', 'conjugadas', 'arts', 'lº', ',', '2.°', ',', '3.°', ',', 'n.º', '1', ',', 'alínea', 'd', ')', ',', '17.°', ',', 'n.º', '1', '19.°', ',', 'n.ºs', '2', '3', 'Lei', '34/87', ',', '16', 'Julho', ',', 'redacção', 'introduzida', 'Lei', 'n°', '108/2001', ',', '28', 'Novembro-', 'Lei', 'Crimes', 'Responsabilidade', 'Titulares', 'Cargos', 'Políticos', ',', 'referência', 'arts', '28.°', '202.°', ',', 'alínea', 'b', ')', 'Código', 'Penal', ';', '10', 'S.', 'R.', 'TRIBUNAL', 'CENTRAL', 'DE', 'INSTRUÇÃO', 'CRIMINAL', '-', 'Um', 'CRIME', 'DE', 'CORRUPÇÃO', 'ACTIVA', ',', 'co-autoria', 'arguidos', 'JOAQUIM', 'BARROCA', 'JOSÉ', 'RIBEIRO', 'DOS', 'SANTOS', 'sociedades', 'XMI', ',', 'LEC', 'SA', ',', 'LEC', 'SGPS', 'LENA', 'SA', ',', 'relativamente', 'funcionário', 'LUÍS', 'MARQUES', ',', 'anos', '2007', '2009', ',', 'crime', 'p.', 'p.', 'art.º', '374', '.', '°', ',', 'n.º', 'l', 'Código', 'Penal', ';', '-', 'Um', 'CRIME', 'DE', 'BRANQUEAMENTO', ',', 'co-autoria', 'arguidos', 'JOSÉ', 'SÓCRATES', 'JOAQUIM', 'BARROCA', 'relativamente', 'movimentos', 'financeiros', 'origem', 'Grupo', 'LENA', 'passagem', 'contas', 'Suíça', 'deste', 'último', 'arguido', 'realizados', 'partir', '2007', ',', 'crime', 'p.', 'p.', 'art.368°-A', ',', 'n°', '1', ',', '2', '3', 'Código', 'Penal', ';', '-', 'Um', 'CRIME', 'DE', 'BRANQUEAMENTO', ',', 'co-autoria', 'arguidos', 'JOSÉ', 'SÓCRATES', 'JOAQUIM', 'BARROCA', 'sociedades', 'LEC', 'SA', '.', 'XLM', ',', 'relativamente', 'utilização', 'desta', 'ultima', 'sociedade', ',', '2009', '2015', ',', 'colocação', 'fundos', 'destinados', 'arguido', 'JOSÉ', 'SÓCRATES', 'utilização', 'mesmos', 'interesse', 'através', 'pagamento', 'despesas', 'distribuição', 'dividendos', 'contas', 'tituladas', 'arguido', 'CARLOS', 'SANTOS', 'SILVA', ',', 'crime', 'p.', 'p.', 'art.º', '368.°-A', ',', 'n.ºs', '1', ',', '2', '3', 'Código', 'Penal', ';', '-', 'Um', 'CRIME', 'DE', 'BRANQUEAMENTO', ',', 'co-autoria', 'arguidos', 'JOSÉ', 'SÓCRATES', ',', 'JOAQUIM', 'BARROCA', 'RUI', 'MÃO', 'DE', 'FERRO', 'sociedades', 'LEC', 'SA', ',', 'XLM', 'RMF', 'CONSULTING', ',', 'relativamente', 'utilização', 'desta', 'última', 'sociedade', ',', '2010', '2014', ',', 'colocação', 'fundos', 'destinados', 'arguido', 'JOSÉ', 'SÓCRATES', 'utilização', 'mesmos', 'interesse', 'através', 'pagamento', 'despesas', 'colocação', '11', 'S.', 'R.', 'TRIBUNAL', 'CENTRAL', 'DE', 'INSTRUÇÃO', 'CRIMINAL', 'numerário', 'disposição', ',', '2010', '2014', ',', 'crime', 'p.', 'p.', 'art.º', '368.°-A', ',', 'n.ºs', '1', ',', '2', '3', 'Código', 'Penal', ';', '-', 'Um', 'CRIME', 'DE', 'BRANQUEAMENTO', ',', 'co-autoria', 'arguidos', 'JOAQUIM', 'BARROCA', ',', 'JOSÉ', 'LUÍS', 'RIBEIRO', 'DOS', 'SANTOS', ',', 'LUÌS', 'MARQUES', 'sociedade', 'XMI', ',', 'relativamente', 'utilização', 'desta', 'última', 'sociedade', 'contabilidade', 'colocação', 'fundos', 'esfera', 'patrimonial', 'arguido', 'LUÍS', 'MARQUES', ',', 'crime', 'p.', 'p.', 'art.º', '368', '.', '°-A', ',', 'n.ºs', '1', ',', '2', '3', 'Código', 'Penal', ';', '-', 'Um', 'CRIME', 'DE', 'BRANQUEAMENTO', ',', 'co-autoria', 'arguidos', 'JOSÉ', 'SÓCRATES', ',', 'RICARDO', 'SALGADO', ',', 'HÉLDER', 'BATAGLIA', 'JOSÉ', 'PAULO', 'PINTO', 'DE', 'SOUSA', ',', 'relativamente', 'utilização', ',', '2006', '2008', ',', 'contas', 'Suíça', 'último', 'autorizado', 'operações', 'financeiras', 'realizadas', 'partir', 'mesmas', ',', 'crime', 'p.', 'p.', 'art.º', '368', '.', '°-A', ',', 'n.ºs', '1', ',', '2', '3', 'Código', 'Penal', ';', '-', 'Um', 'CRIME', 'DE', 'BRANQUEAMENTO', ',', 'co-autoria', 'arguidos', 'JOSÉ', 'SÒCRATES', ',', 'RICARDO', 'SALGADO', ',', 'HÉLDER', 'BATAGLIA', 'JOSÉ', 'PAULO', 'PINTO', 'DE', 'SOUSA', 'relativamente', 'movimentos', 'financeiros', 'justificados', 'contratos', 'PINSONG', ',', 'realizados', 'ano', '2007', 'início', '2008', ',', 'origem', 'conta', 'Suíça', 'ES', 'ENTERPRISES', ',', 'crime', 'p.', 'p.', 'art.º', '368', '.', '°-A', ',', 'n.ºs', '1,2', '3', 'Código', 'Penal', ';', '-', 'Um', 'CRIME', 'DE', 'BRANQUEAMENTO', ',', 'co-autoria', 'arguidos', 'JOSÉ', 'SÓCRATES', ',', 'RICARDO', 'SALGADO', ',', 'HÉLDER', 'BATAGLIA', 'JOAQUIM', 'BARROCA', 'relativamente', 'movimentos', 'financeiros', 'justificados', 'contratos', 'PINSONG', ',', 'realizados', 'partir', 'abril', '2008', ',', 'origem', 'conta', 'Suíça', 'ES', 'ENTERPRISES', 'intervenção', '12', 'S.', 'R.', 'TRIBUNAL', 'CENTRAL', 'DE', 'INSTRUÇÃO', 'CRIMINAL', 'contas', 'Suíça', 'arguido', 'JOAQUIM', 'BARROCA', ',', 'crime', 'p.', 'p.', 'art.º', '368', '.', '°-A', ',', 'n.ºs', '1', ',', '2', '3', 'Código', 'Penal', ';', '-', 'Um', 'CRIME', 'DE', 'BRANQUEAMENTO', ',', 'co-autoria', 'arguidos', 'JOSÉ', 'SÓCRATES', ',', 'RICARDO', 'SALGADO', ',', 'HÉLDER', 'BATAGLIA', 'JOAQUIM', 'BARROCA', 'sociedades', 'LEC', 'SA', ',', 'LEC', 'SGPS', ',', 'LENA', 'SGPS', 'XLM', ',', 'relativamente', 'movimentos', 'financeiros', ',', 'ocorridos', 'partir', '2010', ',', 'abrangidos', 'operação', 'CEL_2010', ',', 'ocorridos', 'partir', '2010', 'justificados', 'através', 'contrato', 'promessa', 'compra', 'venda', 'perda', 'sinal', 'referente', 'imóvel', 'KANHANGULO', ',', 'sito', 'Luanda', ',', 'introdução', 'desses', 'fundos', 'Grupo', 'LENA', ',', 'crime', 'p.', 'p.', 'art.º', '368.°-A', ',', 'n.ºs', '1', ',', '2', '3', 'Código', 'Penal', ';', '-', 'Um', 'CRIME', 'DE', 'BRANQUEAMENTO', ',', 'co-autoria', 'arguidos', 'JOSÉ', 'SÓCRATES', ',', 'JOAQUIM', 'BARROCA', 'ARMANDO', 'VARA', ',', 'DIOGO', 'GASPAR', 'FERREIRA', ',', 'RUI', 'HORTA', 'E', 'COSTA', 'BÁRBARA', 'VARA', 'relativamente', 'transferências', 'origem', 'conta', 'cidadão', 'holandês', 'Van', 'Doreen', ',', 'referentes', 'financiamentos', 'concedidos', 'Grupo', 'VALE', 'DO', 'LOBO', ',', 'passagem', 'conta', 'bancaria', 'Suíça', 'titulada', 'arguido', 'JOAQUIM', 'BARROCA', ',', 'crime', 'p.', 'p.', 'art.368°-A', ',', 'n°', '1', ',', '2', '3', 'Código', 'Penal', ';', '-', 'Um', 'CRIME', 'DE', 'BRANQUEAMENTO', ',', 'co-autoria', 'arguido', 'JOSÉ', 'SÓCRATES', 'relativamente', 'concentração', 'fundos', 'novas', 'contas', 'bancarias', 'Suíça', 'tituladas', 'sociedades', 'offshore', ',', 'controladas', 'arguido', 'CARLOS', 'SANTOS', 'SILVA', ',', 'transferência', 'contas', 'tituladas', 'arguido', 'Portugal', ',', 'abrigo', 'RERT', 'II', ',', 'crime', 'p.', 'p.', 'art.º', '368', '.', '°-A', ',', 'n.ºs', '1', ',', '2', '3', 'Código', 'Penal', ';', '13', 'S.', 'R.', 'TRIBUNAL', 'CENTRAL', 'DE', 'INSTRUÇÃO', 'CRIMINAL', '-', 'Um', 'CRIME', 'DE', 'BRANQUEAMENTO', ',', 'co-autoria', 'arguido', 'JOSÉ', 'SÓCRATES', 'relativamente', 'dissipação', 'fundos', 'outras', 'contas', 'Portugal', ',', 'arguido', 'CARLOS', 'SANTOS', 'SILVA', 'titular', 'autorizado', ',', 'confusão', 'patrimónios', 'ambos', 'nessas', 'contas', 'bancárias', ',', 'crime', 'p.', 'p.', 'art.º', '368', '.', '°-A', ',', 'n.ºs', '1', ',', '2', '3', 'Código', 'Penal', ';', '-', 'Um', 'CRIME', 'DE', 'BRANQUEAMENTO', ',', 'co-autoria', 'arguidos', 'JOSÉ', 'SÓCRATES', 'GONÇALO', 'FERREIRA', ',', 'quanto', 'aquisição', 'imóveis', 'Portugal', ',', 'retomo', 'preço', 'pago', 'esfera', 'patrimonial', 'arguido', 'JOSÉ', 'SÓCRATES', ',', 'forma', 'justificada', ',', 'factos', 'ocorridos', '2010', '2012', ',', 'crime', 'p.', 'p.', 'art.º', '368', '.', '°-A', ',', 'n.ºs', '1', ',', '2', '3', 'Código', 'Penal', ';', '-', 'Um', 'CRIME', 'DE', 'BRANQUEAMENTO', ',', 'co-autoria', 'arguidos', 'JOSÉ', 'SÓCRATES', 'GONÇALO', 'FERREIRA', ',', 'relativamente', 'aquisição', 'subsequente', 'arrendamento', 'imóvel', 'Paris', ',', 'intenção', 'ocultação', 'titularidade', 'activo', ',', 'factos', 'praticados', '2012', '2014', ',', 'crime', 'p.', 'p.', 'art.º', '368', '.', '°-A', ',', 'n.ºs', '1', ',', '2', '3', 'Código', 'Penal', ';', '-', 'Um', 'CRIME', 'DE', 'BRANQUEAMENTO', ',', 'co-autoria', 'arguidos', 'JOSÉ', 'SÓCRATES', 'GONÇALO', 'FERREIRA', ',', 'relativamente', 'entrega', 'arguido', 'CARLOS', 'SANTOS', 'SILVA', 'quantias', 'pertencentes', 'arguido', 'JOSÉ', 'SÓCRATES', 'depósito', 'contas', 'bancárias', 'arguido', 'GONÇALO', 'FERREIRA', 'guardar', 'cofre', 'bancário', 'contas', 'tituladas', ',', 'forma', 'ocultar', 'propriedade', 'desses', 'fundos', 'arguido', 'JOSÉ', 'SÓCRATES', ',', 'factos', 'ocorridos', 'anos', '2012', '2013', ',', 'crime', 'p.', 'p.', 'art.º', '368.°-A', ',', 'n.ºs', '1', ',', '2', '3', 'Código', 'Penal', ';', '-', 'Um', 'CRIME', 'DE', 'BRANQUEAMENTO', ',', 'co-autoria', 'arguidos', 'JOSÉ', 'SÓCRATES', 'INÊS', 'DO', 'ROSÁRIO', ',', 'relativamente', '14', 'S.', 'R.', 'TRIBUNAL', 'CENTRAL', 'DE', 'INSTRUÇÃO', 'CRIMINAL', 'utilização', 'contas', 'bancárias', 'desta', 'última', 'arguida', 'junto', 'MONTEPIO', 'GERAL', 'recepção', 'mesma', 'fundos', ',', 'provenientes', 'arguido', 'CARLOS', 'SANTOS', 'SILVA', 'entrega', 'arguido', 'JOSÉ', 'SÓCRATES', ',', 'ocultando', 'propriedade', 'mesmas', 'último', ',', 'factos', 'ocorridos', 'anos', '2013', '2014', ',', 'crime', 'p.', 'p.', 'art.º', '368', '.', '°-A', ',', 'n.ºs', '1', ',', '2', '3', 'Código', 'Penal', ';', '-', 'Um', 'CRIME', 'DE', 'BRANQUEAMENTO', ',', 'co-autoria', 'arguidos', 'JOSÉ', 'SÓCRATES', 'JOÃO', 'PERNA', ',', 'relativos', 'utilização', 'contas', 'tituladas', 'último', 'contas', 'passagem', 'fundos', 'origem', 'ilícita', 'provenientes', 'CARLOS', 'SANTOS', 'SILVA', 'destinados', 'esfera', 'patrimonial', 'arguido', 'JOSÉ', 'SÓCRATES', ',', 'operações', 'ocorridas', '2011', '2014', ',', 'crime', 'p.', 'p.', 'art.º', '368', '.', '°-A', ',', 'n.ºs', 'l', ',', '2', '3', 'Código', 'Penal', ';', '-', 'Um', 'CRIME', 'DE', 'BRANQUEAMENTO', ',', 'co-autoria', 'arguidos', 'JOSÉ', 'SÒCRATES', 'SOFIA', 'FAVA', 'relativamente', 'aquisição', 'imóvel', ',', 'designado', '“', 'Monte', 'Margaridas', '”', ',', 'intenção', 'passasse', 'integrar', 'património', 'familiar', 'arguido', 'JOSÉ', 'SÒCRATES', ',', 'registo', 'nome', 'terceiro', 'montagem', 'operação', 'financiamento', 'formas', 'custear', 'prestações', 'mesma', ',', 'factos', 'ocorridos', '2011', '2014', ',', 'crime', 'p.', 'p.', 'art.º', '368', '.', '°-A', ',', 'n.ºs', '1', ',', '2', '3', 'Código', 'Penal', ';', '-', 'Um', 'CRIME', 'DE', 'FALSIFICAÇÃO', 'DE', 'DOCUMENTO', ',', 'co-', 'autoria', 'arguido', 'JOSE', 'SOCRATES', ',', 'relativamente', 'declaração', 'adesão', 'RERT', 'II', 'outra', 'documentação', 'produzida', 'utilizada', 'efeito', ',', 'reporta', 'titularidade', 'elementos', 'patrimoniais', 'declarados', ',', 'concentrados', 'contas', 'Suíça', 'final', 'ano', '2010', ',', 'crime', 'p.', 'p.', 'art.º', '256', '.', '°', ',', 'n.ºs', '1', ',', 'alíneas', ')', ',', 'd', ')', ')', 'Código', 'Penal', ';', '15', 'S.', 'R.', 'TRIBUNAL', 'CENTRAL', 'DE', 'INSTRUÇÃO', 'CRIMINAL', '-', 'Um', 'CRIME', 'DE', 'FALSIFICAÇÃO', 'DE', 'DOCUMENTO', ',', 'co-', 'autoria', 'arguidos', 'JOSÉ', 'SÓCRATES', 'JOAQUIM', 'BARROCA', ',', 'relativamente', 'primeiro', 'contrato', 'prestação', 'serviços', 'celebrado', 'LEC', 'SA', 'XLM', ',', 'facturas', 'outra', 'documentação', 'produzida', 'abrigo', ',', 'factos', 'ocorridos', 'partir', '2009', ',', 'crime', 'p.', 'p.', 'art.º', '256', '.', '°', ',', 'n.º', '1', ',', 'alíneas', ')', ',', 'd', ')', ')', 'Código', 'Penal', ';', '-', 'Um', 'CRIME', 'DE', 'FALSIFICAÇÃO', 'DE', 'DOCUMENTO', ',', 'praticado', ',', 'co-autoria', ',', 'arguidos', 'JOSÉ', 'SOCRATES', 'RUI', 'MÃO', 'DE', 'FERRO', 'referência', 'contratos', 'prestação', 'serviços', 'celebrados', 'sociedades', 'XLM', 'RMF', 'CONSULTING', ',', 'bem', 'facturas', 'outra', 'documentação', 'produzida', 'abrigo', 'mesmos', ',', 'serviram', 'suporte', 'circulação', 'quantias', 'sociedades', ',', 'origem', 'destino', 'arguido', 'JOSÉ', 'SÓCRATES', ',', 'crime', 'p.', 'p.', 'art.º', '256', '.', '°', ',', 'n.º', 'l', ',', 'alíneas', ')', ',', 'd', ')', ')', 'Código', 'Penal', ';', '-', 'Um', 'CRIME', 'DE', 'FALSIFICAÇÃO', 'DE', 'DOCUMENTO', 'relativamente', 'relatórios', 'catividades', 'XLM', ',', 'co-autoria', 'arguidos', 'RUI', 'MÃO', 'DE', 'FERRO', 'JOAQUIM', 'BARROCA', ',', 'relativos', 'forjar', 'execução', 'primeiro', 'contrato', 'LEC', 'SA', 'XLM', ',', 'factos', 'ocorridos', '2011', '2013', ',', 'crime', 'p.', 'p.', 'art.º', '256', '.', '°', ',', 'n.º', 'l', ',', 'alíneas', ')', ',', 'd', ')', ')', 'Código', 'Penal', ';', '-', 'Um', 'CRIME', 'DE', 'FALSIFICAÇÃO', 'DE', 'DOCUMENTO', ',', 'co-', 'autoria', 'arguidos', 'JOSÉ', 'SÓCRATES', ',', 'RICARDO', 'SALGADO', ',', 'HÉLDER', 'BATAGLIA', 'JOAQUIM', 'BARROCA', ',', 'relativamente', 'factos', 'referentes', 'conjunto', 'documentos', 'incluem', 'contrato', 'promessa', 'compra', 'venda', 'imóvel', 'Angola', ',', 'denominado', 'KANHANGULO', ',', '16', 'S.', 'R.', 'TRIBUNAL', 'CENTRAL', 'DE', 'INSTRUÇÃO', 'CRIMINAL', 'contrato', 'intermediação', 'AII', 'XLM', ',', 'cartas', 'admissão', 'incumprimento', 'perda', 'sinal', 'celebração', 'segundo', 'contrato', 'prestação', 'serviços', 'LEC', 'XLM', ',', 'bem', 'facturas', 'outra', 'documentação', 'produzida', 'abrigo', 'desses', 'contratos', ',', 'crime', 'p.', 'p.', 'art.º', '256.°', ',', 'n.º', 'l', ',', 'alíneas', ')', ',', 'd', ')', ')', 'Código', 'Penal', ';', '-', 'Um', 'CRIME', 'DE', 'FALSIFICAÇÃO', 'DE', 'DOCUMENTO', ',', 'co-', 'autoria', 'arguidos', 'JOSÉ', 'SÓCRATES', 'SOFIA', 'FAVA', ',', 'referência', 'contratos', 'prestação', 'serviços', 'celebrados', 'XLM', 'arguida', 'SOFIA', 'FAVA', ',', 'serviram', 'suporte', 'recebimento', 'quantias', 'última', 'origem', 'arguido', 'JOSÉ', 'SÓCRATES', ',', 'crime', 'p.', 'p.', 'art.º', '256', '.', '°', ',', 'n.ºs', 'l', ',', 'alíneas', ')', ',', 'd', ')', ')', 'Código', 'Penal', ';', '-', 'Um', 'CRIME', 'DE', 'FALSIFICAÇÃO', 'DE', 'DOCUMENTO', ',', 'co-', 'autoria', 'arguido', 'JOSÉ', 'SÓCRATES', ',', 'referência', 'contratos', 'prestação', 'serviços', 'celebrados', 'sociedade', 'XLM', 'Ana', 'Bessa', ',', 'bem', 'facturas', 'outra', 'documentação', 'produzida', 'abrigo', 'mesmos', ',', 'serviram', 'suporte', 'recebimento', 'quantias', 'última', 'origem', 'arguido', 'JOSÉ', 'SÓCRATES', ',', 'crime', 'p.', 'p.', 'art.º', '256', '.', '°', ',', 'n.º', 'l', ',', 'alíneas', ')', ',', 'd', ')', ')', 'Código', 'Penal', ';', '-', 'Um', 'CRIME', 'DE', 'FALSIFICAÇÃO', 'DE', 'DOCUMENTO', ',', 'co-', 'autoria', 'arguidos', 'JOSÉ', 'SÓCRATES', 'RUI', 'MÃO', 'DE', 'FERRO', 'referência', 'contratos', 'prestação', 'serviços', 'celebrados', 'sociedade', 'RMF', 'CONSULTING', 'Domingos', 'Farinho', 'Jane', 'Kirkby', ',', 'bem', 'facturas', 'outra', 'documentação', 'produzida', 'abrigo', 'mesmos', ',', 'serviram', 'suporte', 'recebimento', 'quantias', 'últimos', 'origem', 'arguido', '17', 'S.', 'R.', 'TRIBUNAL', 'CENTRAL', 'DE', 'INSTRUÇÃO', 'CRIMINAL', 'JOSÉ', 'SÓCRATES', ',', 'crime', 'p.', 'p.', 'art.º', '256', '.', '°', ',', 'n.º', 'l', ',', 'alíneas', ')', ',', 'd', ')', ')', 'Código', 'Penal', ';', '-', 'Um', 'CRIME', 'DE', 'FALSIFICAÇÃO', 'DE', 'DOCUMENTO', ',', 'co-', 'autoria', 'arguidos', 'JOSÉ', 'SÓCRATES', 'RUI', 'MÃO', 'DE', 'FERRO', 'referência', 'contratos', 'prestação', 'serviços', 'celebrados', 'sociedade', 'RMF', 'CONSULTING', 'António', 'Manuel', 'Peixoto', 'António', 'Mega', 'Peixoto', ',', 'bem', 'facturas', 'outra', 'documentação', 'produzida', 'abrigo', 'mesmos', ',', 'serviram', 'suporte', 'recebimento', 'quantias', 'últimos']\n"
     ]
    }
   ],
   "source": [
    "tokenized_sent = tokenized_word\n",
    "filtered_sent=[]\n",
    "for w in tokenized_sent:\n",
    "    if w not in stop_words:\n",
    "        filtered_sent.append(w)\n",
    "print(\"Tokenized Sentence:\",tokenized_sent)\n",
    "print(\"Filterd Sentence:\",filtered_sent)"
   ]
  },
  {
   "cell_type": "code",
   "execution_count": 185,
   "id": "sporting-combine",
   "metadata": {},
   "outputs": [
    {
     "name": "stdout",
     "output_type": "stream",
     "text": [
      "<FreqDist with 449 samples and 3815 outcomes>\n"
     ]
    }
   ],
   "source": [
    "fdist = FreqDist(filtered_sent)\n",
    "print(fdist)"
   ]
  },
  {
   "cell_type": "code",
   "execution_count": 186,
   "id": "executed-suggestion",
   "metadata": {},
   "outputs": [
    {
     "data": {
      "image/png": "[encoded data removed]",
      "text/plain": [
       "<Figure size 432x288 with 1 Axes>"
      ]
     },
     "metadata": {
      "needs_background": "light"
     },
     "output_type": "display_data"
    }
   ],
   "source": [
    "fdist.plot(30,cumulative=False)\n",
    "plt.show()"
   ]
  },
  {
   "cell_type": "code",
   "execution_count": null,
   "id": "induced-harvest",
   "metadata": {},
   "outputs": [],
   "source": []
  },
  {
   "cell_type": "code",
   "execution_count": 131,
   "id": "collect-session",
   "metadata": {},
   "outputs": [],
   "source": [
    "texto = creams\n",
    "sentencas = sent_tokenize(texto)\n",
    "palavras = word_tokenize(texto.lower())"
   ]
  },
  {
   "cell_type": "code",
   "execution_count": 132,
   "id": "desperate-world",
   "metadata": {},
   "outputs": [],
   "source": [
    "from nltk.corpus import stopwords\n",
    "from string import punctuation\n",
    "stopwords = set(stopwords.words('portuguese') + list(punctuation))\n",
    "palavras_sem_stopwords = [palavra for palavra in palavras if palavra not in stopwords]"
   ]
  },
  {
   "cell_type": "code",
   "execution_count": 133,
   "id": "disabled-airline",
   "metadata": {},
   "outputs": [],
   "source": [
    "from nltk.probability import FreqDist\n",
    "frequencia = FreqDist(palavras_sem_stopwords)"
   ]
  },
  {
   "cell_type": "code",
   "execution_count": 134,
   "id": "ignored-girlfriend",
   "metadata": {},
   "outputs": [],
   "source": [
    "from collections import defaultdict\n",
    "sentencas_importantes = defaultdict(int)"
   ]
  },
  {
   "cell_type": "code",
   "execution_count": 135,
   "id": "cognitive-regard",
   "metadata": {},
   "outputs": [],
   "source": [
    "for i, sentenca in enumerate(sentencas):\n",
    "    for palavra in word_tokenize(sentenca.lower()):\n",
    "        if palavra in frequencia:\n",
    "            sentencas_importantes[i] += frequencia[palavra]"
   ]
  },
  {
   "cell_type": "code",
   "execution_count": 137,
   "id": "fabulous-essay",
   "metadata": {},
   "outputs": [],
   "source": [
    "from heapq import nlargest\n",
    "idx_sentencas_importantes = nlargest(4, sentencas_importantes, sentencas_importantes.get)"
   ]
  },
  {
   "cell_type": "code",
   "execution_count": 138,
   "id": "korean-textbook",
   "metadata": {
    "collapsed": true,
    "jupyter": {
     "outputs_hidden": true
    }
   },
   "outputs": [
    {
     "name": "stdout",
     "output_type": "stream",
     "text": [
      "Titulares de Cargos Políticos), com referência aos art.º 28.° e 202.°, alínea b)\n",
      "do Código Penal;\n",
      "      - Um Crime de Corrupção Passiva de Titular de Cargo Político,\n",
      "com referência a actos praticados no interesse do arguido Ricardo Salgado,\n",
      "relativamente a negócios do Grupo PORTUGAL TELECOM e GES, crime p.\n",
      "e p. pelas disposições conjugadas dos art.º lº, 2.°, 3.°, n.º 1, alínea d), 17.°, n.º\n",
      "1 e 19.°, n.ºs 2 e 3 da Lei n.º 34/87, de 16 de Julho, na redacção introduzida\n",
      "pela Lei n° 108/2001, de 28 de Novembro(Lei dos Crimes de\n",
      "Responsabilidade dos Titulares de Cargos Políticos), com referência aos art.º\n",
      "28.° e 202.°, alínea b) do Código Penal;\n",
      "      - Um Crime de Corrupção Passiva de Titular de Cargo Político, em\n",
      "co-autoria com o arguido Armando Vara, com referencia a atos praticados no\n",
      "interesse dos arguidos Diogo Gaspar Ferreira e Rui Horta e Costa com\n",
      "utilização das sociedades do Grupo VALE DO LOBO, crime p. e p. pelas\n",
      "disposições conjugadas dos art.º 1º, 2.°, 3.°, n.º 1, alínea d), 17.°, n.º 1 e 19°.,\n",
      "n.ºs 2 e 3 da Lei 34/87, de 16 de julho, na redacção introduzida pela Lei n°\n",
      "108/2001, de 28 de Novembro- Lei dos Crimes de Responsabilidade dos\n",
      "Titulares de Cargos Políticos, com referência aos art.º 28.° e 202.°, alínea b)\n",
      "do Código Penal;\n",
      "      - Um CRIME DE BRANQUEAMENTO, em co-autoria com os\n",
      "arguidos CARLOS SANTOS SILVA e JOAQUIM BARROCA relativamente\n",
      "aos movimentos financeiros com origem no Grupo LENA e com passagem\n",
      "pelas contas da Suíça tituladas por este último arguido e realizados a partir de\n",
      "2007, crime p. e p. pelo art.368°-A, n° 1, 2 e 3 do Código Penal;\n"
     ]
    }
   ],
   "source": [
    "for i in sorted(idx_sentencas_importantes):\n",
    "    print(sentencas[i])"
   ]
  },
  {
   "cell_type": "code",
   "execution_count": null,
   "id": "supreme-array",
   "metadata": {},
   "outputs": [],
   "source": [
    "# https://medium.com/@viniljf/utilizando-processamento-de-linguagem-natural-para-criar-um-sumariza%C3%A7%C3%A3o-autom%C3%A1tica-de-textos-775cb428c84e"
   ]
  },
  {
   "cell_type": "code",
   "execution_count": 140,
   "id": "integral-google",
   "metadata": {
    "collapsed": true,
    "jupyter": {
     "outputs_hidden": true
    }
   },
   "outputs": [
    {
     "name": "stdout",
     "output_type": "stream",
     "text": [
      "Titulares de Cargos Políticos), com referência aos art.º 28.° e 202.°, alínea b)\n",
      "do Código Penal;\n",
      "      - Um Crime de Corrupção Passiva de Titular de Cargo Político,\n",
      "com referência a actos praticados no interesse do arguido Ricardo Salgado,\n",
      "relativamente a negócios do Grupo PORTUGAL TELECOM e GES, crime p.\n",
      "e p. pelas disposições conjugadas dos art.º lº, 2.°, 3.°, n.º 1, alínea d), 17.°, n.º\n",
      "1 e 19.°, n.ºs 2 e 3 da Lei n.º 34/87, de 16 de Julho, na redacção introduzida\n",
      "pela Lei n° 108/2001, de 28 de Novembro(Lei dos Crimes de\n",
      "Responsabilidade dos Titulares de Cargos Políticos), com referência aos art.º\n",
      "28.° e 202.°, alínea b) do Código Penal;\n",
      "      - Um Crime de Corrupção Passiva de Titular de Cargo Político, em\n",
      "co-autoria com o arguido Armando Vara, com referencia a atos praticados no\n",
      "interesse dos arguidos Diogo Gaspar Ferreira e Rui Horta e Costa com\n",
      "utilização das sociedades do Grupo VALE DO LOBO, crime p. e p. pelas\n",
      "disposições conjugadas dos art.º 1º, 2.°, 3.°, n.º 1, alínea d), 17.°, n.º 1 e 19°.,\n",
      "n.ºs 2 e 3 da Lei 34/87, de 16 de julho, na redacção introduzida pela Lei n°\n",
      "108/2001, de 28 de Novembro- Lei dos Crimes de Responsabilidade dos\n",
      "Titulares de Cargos Políticos, com referência aos art.º 28.° e 202.°, alínea b)\n",
      "do Código Penal;\n",
      "      - Um CRIME DE BRANQUEAMENTO, em co-autoria com os\n",
      "arguidos CARLOS SANTOS SILVA e JOAQUIM BARROCA relativamente\n",
      "aos movimentos financeiros com origem no Grupo LENA e com passagem\n",
      "pelas contas da Suíça tituladas por este último arguido e realizados a partir de\n",
      "2007, crime p. e p. pelo art.368°-A, n° 1, 2 e 3 do Código Penal;\n"
     ]
    }
   ],
   "source": [
    "from nltk.tokenize import word_tokenize\n",
    "from nltk.tokenize import sent_tokenize\n",
    "\n",
    "sentencas = sent_tokenize(texto)\n",
    "palavras = word_tokenize(texto.lower())\n",
    "\n",
    "from nltk.corpus import stopwords\n",
    "from string import punctuation\n",
    "\n",
    "stopwords = set(stopwords.words('portuguese') + list(punctuation))\n",
    "palavras_sem_stopwords = [palavra for palavra in palavras if palavra not in stopwords]\n",
    "\n",
    "from nltk.probability import FreqDist\n",
    "\n",
    "frequencia = FreqDist(palavras_sem_stopwords)\n",
    "\n",
    "from collections import defaultdict\n",
    "\n",
    "sentencas_importantes = defaultdict(int)\n",
    "\n",
    "for i, sentenca in enumerate(sentencas):\n",
    "    for palavra in word_tokenize(sentenca.lower()):\n",
    "        if palavra in frequencia:\n",
    "            sentencas_importantes[i] += frequencia[palavra]\n",
    "\n",
    "from heapq import nlargest\n",
    "\n",
    "idx_sentencas_importantes = nlargest(4, sentencas_importantes, sentencas_importantes.get)\n",
    "\n",
    "for i in sorted(idx_sentencas_importantes):\n",
    "    print(sentencas[i])"
   ]
  },
  {
   "cell_type": "code",
   "execution_count": 198,
   "id": "bored-football",
   "metadata": {},
   "outputs": [],
   "source": [
    "with open('tmp.csv','r') as file:\n",
    "    crime = file.read()"
   ]
  },
  {
   "cell_type": "code",
   "execution_count": 199,
   "id": "sharp-sending",
   "metadata": {},
   "outputs": [],
   "source": [
    "tokenized_text=sent_tokenize(crime)"
   ]
  },
  {
   "cell_type": "code",
   "execution_count": 200,
   "id": "attended-toddler",
   "metadata": {},
   "outputs": [],
   "source": [
    "tokenized_word=word_tokenize(text)"
   ]
  },
  {
   "cell_type": "code",
   "execution_count": 201,
   "id": "engaged-questionnaire",
   "metadata": {},
   "outputs": [
    {
     "name": "stdout",
     "output_type": "stream",
     "text": [
      "<FreqDist with 492 samples and 5283 outcomes>\n"
     ]
    }
   ],
   "source": [
    "fdist = FreqDist(tokenized_word)\n",
    "print(fdist)"
   ]
  },
  {
   "cell_type": "code",
   "execution_count": 202,
   "id": "satisfactory-nancy",
   "metadata": {},
   "outputs": [
    {
     "data": {
      "text/plain": [
       "[(',', 490), ('e', 323)]"
      ]
     },
     "execution_count": 202,
     "metadata": {},
     "output_type": "execute_result"
    }
   ],
   "source": [
    "fdist.most_common(2)"
   ]
  },
  {
   "cell_type": "code",
   "execution_count": 203,
   "id": "becoming-rough",
   "metadata": {},
   "outputs": [
    {
     "data": {
      "image/png": "[encoded data removed]",
      "text/plain": [
       "<Figure size 432x288 with 1 Axes>"
      ]
     },
     "metadata": {
      "needs_background": "light"
     },
     "output_type": "display_data"
    }
   ],
   "source": [
    "fdist.plot(30,cumulative=False)\n",
    "plt.show()"
   ]
  },
  {
   "cell_type": "code",
   "execution_count": 204,
   "id": "specific-litigation",
   "metadata": {
    "collapsed": true,
    "jupyter": {
     "outputs_hidden": true
    }
   },
   "outputs": [
    {
     "name": "stdout",
     "output_type": "stream",
     "text": [
      "['                                   S.       R.\\n          TRIBUNAL CENTRAL DE INSTRUÇÃO CRIMINAL\\n\\n\\n\\n\\nNUIPC: 122/13.8TELSB\\n\\n\\n\\n\\n                    DECISÃO INSTRUTÓRIA\\n\\n\\n\\n\\n     CAPÍTULO I\\n\\n\\n     I – RELATÓRIO\\n\\n\\n     1.1 - A Acusação\\n\\n\\n     Foi imputado em sede de acusação aos arguidos:\\n\\n\\n      JOSÉ SÓCRATES CARVALHO PINTO DE SOUSA\\n\\n\\n      - Um Crime de Corrupção Passiva de Titular de Cargo Político, em\\nco-autoria com o arguido Carlos Santos Silva, com referência a actos\\npraticados no interesse do Grupo LENA entre 2005 e 2011, crime p. e p. pelas\\ndisposições conjugadas dos art.º 1.°, 2.°, 3.°, n.º 1, alínea d), 17.°, n.º 1 e 19.°,\\nn.ºs 2 e 3 da Lei n.º 34/87, de 16 de Julho, na redacção introduzida pela Lei n.º\\n108/2001, de 28 de Novembro (Lei dos Crimes de Responsabilidade dos\\n                                                                                   1\\n\\x0c\\n\\n                                   S.       R.\\n          TRIBUNAL CENTRAL DE INSTRUÇÃO CRIMINAL\\n\\n\\nTitulares de Cargos Políticos), com referência aos art.º 28.° e 202.°, alínea b)\\ndo Código Penal;\\n      - Um Crime de Corrupção Passiva de Titular de Cargo Político,\\ncom referência a actos praticados no interesse do arguido Ricardo Salgado,\\nrelativamente a negócios do Grupo PORTUGAL TELECOM e GES, crime p.\\ne p. pelas disposições conjugadas dos art.º lº, 2.°, 3.°, n.º 1, alínea d), 17.°, n.º\\n1 e 19.°, n.ºs 2 e 3 da Lei n.º 34/87, de 16 de Julho, na redacção introduzida\\npela Lei n° 108/2001, de 28 de Novembro(Lei dos Crimes de\\nResponsabilidade dos Titulares de Cargos Políticos), com referência aos art.º\\n28.° e 202.°, alínea b) do Código Penal;\\n      - Um Crime de Corrupção Passiva de Titular de Cargo Político, em\\nco-autoria com o arguido Armando Vara, com referencia a atos praticados no\\ninteresse dos arguidos Diogo Gaspar Ferreira e Rui Horta e Costa com\\nutilização das sociedades do Grupo VALE DO LOBO, crime p. e p. pelas\\ndisposições conjugadas dos art.º 1º, 2.°, 3.°, n.º 1, alínea d), 17.°, n.º 1 e 19°.,\\nn.ºs 2 e 3 da Lei 34/87, de 16 de julho, na redacção introduzida pela Lei n°\\n108/2001, de 28 de Novembro- Lei dos Crimes de Responsabilidade dos\\nTitulares de Cargos Políticos, com referência aos art.º 28.° e 202.°, alínea b)\\ndo Código Penal;\\n      - Um CRIME DE BRANQUEAMENTO, em co-autoria com os\\narguidos CARLOS SANTOS SILVA e JOAQUIM BARROCA relativamente\\naos movimentos financeiros com origem no Grupo LENA e com passagem\\npelas contas da Suíça tituladas por este último arguido e realizados a partir de\\n2007, crime p. e p. pelo art.368°-A, n° 1, 2 e 3 do Código Penal;\\n\\n\\n                                                                                   2\\n\\x0c\\n\\n                                  S.       R.\\n           TRIBUNAL CENTRAL DE INSTRUÇÃO CRIMINAL\\n\\n\\n      - Um CRIME DE BRANQUEAMENTO, em co-autoria com os\\narguidos CARLOS SANTOS SILVA, JOAQUIM BARROCA e com as\\nsociedades LEC S.A. e XLM, relativamente a utilização desta última\\nsociedade, entre 2009 e 2015, para a colocação de fundos destinados ao\\narguido JOSÉ SÓCRATES e utilização dos mesmos no seu interesse através\\ndo pagamento directo de despesas ou por distribuição de dividendos para\\ncontas tituladas pelo arguido CARLOS SANTOS SILVA, crime p. e p. pelo\\nart.368°-A, n° 1, 2 e 3 do Código Penal;\\n      - Um CRIME DE BRANQUEAMENTO, em co-autoria com os\\narguidos CARLOS SANTOS SILVA, JOAQUIM BARROCA, RUI MÃO DE\\nFERRO e com as sociedades LEC SA, XLM e RMF CONSULTING,\\nrelativamente a utilização desta última sociedade, entre 2010 e 2014, para a\\ncolocação de fundos destinados ao arguido JOSÉ SOCRATES e utilização dos\\nmesmos no seu interesse através do pagamento de despesas suas e colocação\\nde numerário a sua disposição, crime p. e p. pelo art.º 368.', '°-A, n.ºs 1, 2 e 3 do\\nCódigo Penal;\\n      - Um CRIME DE BRANQUEAMENTO, em co-autoria com os\\narguidos    RICARDO       SALGADO,         HÉLDER       BATAGLIA,      CARLOS\\nSANTOS SILVA e JOSÉ PAULO PINTO DE SOUSA, relativamente a\\nutilização, entre 2006 e 2008, de contas na Suíça em que este último era\\nautorizado e operações financeiras realizadas a partir das mesmas, crime p. e\\np. pelo art.º 368.', '°-A, n.ºs 1,2 e 3 do Código Penal;\\n      - Um CRIME DE BRANQUEAMENTO, em co-autoria com os\\narguidos RICARDO SALGADO, HÉLDER BATAGLIA, JOSÉ PAULO\\nPINTO DE SOUSA e CARLOS SANTOS SILVA relativamente aos\\n                                                                                3\\n\\x0c\\n\\n                                  S.       R.\\n           TRIBUNAL CENTRAL DE INSTRUÇÃO CRIMINAL\\n\\n\\nmovimentos financeiros justificados pelos contratos PINSONG, realizados no\\nano de 2007 e até ao início de 2008, com origem em conta da Suíça da ES\\nENTERPRISES, crime p. e p. pelo art.368°-A, n° 1, 2 e 3 do Código Penal;\\n      - Um CRIME DE BRANQUEAMENTO, em co-autoria com os\\narguidos    RICARDO       SALGADO,        HELDER       BATAGLIA,    CARLOS\\nSANTOS SILVA e JOAQUIM BARROCA relativamente aos movimentos\\nfinanceiros justificados pelos contratos PINSONG, realizados a partir de Abril\\nde 2008, com origem em conta na Suíça da ES ENTERPRISES e com\\nintervenção das contas da Suíça do arguido JOAQUIM BARROCA, crime p.\\ne p. pelo art.º 368.', '°-A, n.ºs 1, 2 e 3 do Código Penal;\\n      - Um CRIME DE BRANQUEAMENTO, em co-autoria com os\\narguidos RICARDO SALGADO, HÉLDER BATAGLIA, JOAQUIM\\nBARROCA e CARLOS SANTOS SILVA e com as sociedades LEC SA, LEC\\nSGPS, LENA SGPS e XLM, relativamente aos movimentos financeiros,\\nocorridos a partir de 2010, abrangidos pela operação CEL_2010, justificados\\natravés de contrato promessa de compra e venda com perda de sinal referente\\nao imóvel KANHANGULO, sito em Luanda, e introdução desses fundos no\\nGrupo LENA, crime p. e p. pelo art.º 368.°-A, n.ºs 1, 2 e 3 do Código Penal;\\n      - Um CRIME DE BRANQUEAMENTO, em co-autoria com os\\narguidos CARLOS SANTOS SILVA, JOAQUIM BARROCA, ARMANDO\\nVARA, DIOGO GASPAR FERREIRA, RUI HORTA E COSTA e\\nBÁRBARA VARA, relativamente as transferências com origem em conta do\\ncidadão holandês Van Doreen, referentes aos financiamentos concedidos ao\\nGrupo VALE DO LOBO, com passagem por conta bancaria da Suíça do\\n\\n\\n                                                                               4\\n\\x0c\\n\\n                                  S.       R.\\n           TRIBUNAL CENTRAL DE INSTRUÇÃO CRIMINAL\\n\\n\\narguido JOAQUIM BARROCA, crime p. e p. pelo art.368°-A, nºs l, 2 e 3 do\\nCódigo Penal;\\n      - Um CRIME DE BRANQUEAMENTO, em co-autoria com o\\narguido CARLOS SANTOS SILVA relativamente a concentração dos fundos\\nem novas contas bancarias da Suíça tituladas por sociedades em offshore\\ncontroladas por CARLOS SANTOS SILVA e sua transferência para contas\\ntituladas por este último arguido em Portugal, ao abrigo do RERT II, crime p.\\ne p. pelo art.º 368.', '°-A, n°s 1, 2 e 3 do Código Penal;\\n      - Um CRIME DE BRANQUEAMENTO, em co-autoria com o\\narguido CARLOS SANTOS SILVA relativamente a dissipação dos fundos\\npor outras contas em Portugal, de que este último arguido era titular e\\nautorizado, e a confusão de patrimónios de ambos nessas contas bancarias,\\ncrime p. e p. pelo art.º 368.', '°-A, n.ºs 1, 2 e 3 do Código Penal;\\n      - Um CRIME DE BRANQUEAMENTO, em co-autoria com os\\narguidos CARLOS SANTOS SILVA e GONÇALO FERREIRA, quanto a\\naquisição de imóveis em Portugal com o retomo do preço pago para a esfera\\npatrimonial do arguido JOSE SOCRATES, de forma justificada, factos\\nocorridos entre 2010 e 2012, crime p. e p. pelo art.º 368.', '°-A, n.ºs 1, 2 e 3 do\\nCódigo Penal;\\n      - Um CRIME DE BRANQUEAMENTO, em co-autoria com os\\narguidos    CARLOS       SANTOS        SILVA     e   GONÇALO        FERREIRA,\\nrelativamente a aquisição e subsequente arrendamento de um imóvel em Paris,\\ncom intenção de ocultação da titularidade do activo, factos praticados entre\\n2012 e 2014, crime p. e p. pelo art.º 368.', '°-A, n°s 1, 2 e 3 do Código Penal;\\n\\n\\n                                                                                5\\n\\x0c\\n\\n                                 S.       R.\\n           TRIBUNAL CENTRAL DE INSTRUÇÃO CRIMINAL\\n\\n\\n      - Um CRIME DE BRANQUEAMENTO, em co-autoria com os\\narguidos    GONÇALO        FERREIRA       e    CARLOS      SANTOS      SILVA,\\nrelativamente a entrega por este último arguido de quantias pertencentes ao\\narguido JOSÉ SÓCRATES para depósito em contas bancarias do arguido\\nGONÇALO FERREIRA e para guardar em cofre bancário e em contas\\ntituladas pelo mesmo, de forma a ocultar a propriedade desses valores pelo\\narguido JOSÉ SÓCRATES, factos ocorridos nos anos de 2012 e 2013, crime\\np. e p. pelo art.368°-A, n° 1, 2 e 3 do Código Penal;\\n      - Um CRIME DE BRANQUEAMENTO, em co-autoria com os\\narguidos CARLOS SANTOS SILVA e INÊS DO ROSÁRIO, relativamente a\\nutilização das contas bancárias desta ultima arguida junto do MONTEPIO\\nGERAL e a recepção pela mesma de fundos, provenientes do arguido\\nCARLOS SANTOS SILVA para entrega ao arguido JOSÉ SÓCRATES,\\nocultando a propriedade das mesmas quantias por este último, factos ocorridos\\nnos anos de 2013 e 2014, crime p. e p. pelo art.º 368.', '°-A, n.ºs 1, 2 e 3 do\\nCódigo Penal;\\n      - Um CRIME DE BRANQUEAMENTO, em co-autoria com os\\narguidos CARLOS SANTOS SILVA e JOÃO PERNA, relativos a utilização\\ndas contas tituladas por este último em Portugal como contas de passagem de\\nfundos de origem ilícita provenientes do arguido CARLOS SANTOS SILVA\\ne destinados a esfera patrimonial do arguido JOSÉ SÓCRATES, operações\\nocorridas entre 2011 e 2014, crime p. e p. pelo art.º 368.', '°-A, n.ºs l, 2 e 3 do\\nCódigo Penal;\\n      - Um CRIME DE BRANQUEAMENTO, em co-autoria com os\\narguidos CARLOS SANTOS SILVA e SOFIA FAVA relativamente à\\n                                                                              6\\n\\x0c\\n\\n                                   S.        R.\\n          TRIBUNAL CENTRAL DE INSTRUÇÃO CRIMINAL\\n\\n\\naquisição de um imóvel, designado “Monte das Margaridas”, com intenção de\\nque passasse a integrar o património familiar do arguido JOSÉ SÓCRATES,\\ncom registo em nome de terceiro e montagem de operação de financiamento e\\nformas de custear as prestações da mesma, factos ocorridos entre 2011 e 2014,\\ncrime p. e p. pelo art.º 368.', '°-A, n.ºs 1, 2 e 3 do Código Penal;\\n      - Um CRIME DE FALSIFICAÇÃO DE DOCUMENTO, em co-\\nautoria com o arguido CARLOS SANTOS SIVA, relativamente a declaração\\nde adesão ao RERT II e outra documentação produzida e utilizada para esse\\nefeito, no que se reporta a titularidade dos elementos patrimoniais declarados,\\nconcentrados nas contas da Suíça até final do ano de 2010, crime p. e p. pelo\\nart.º 256.', '°, n.º 1, alíneas a), d) e e) do Código Penal;\\n      - Um CRIME DE FALSIFICAÇÃO DE DOCUMENTO, em co-\\nautoria com os arguidos CARLOS SANTOS SILVA e JOAQUIM\\nBARROCA, relativamente ao primeiro contrato de prestação de serviços\\ncelebrado entre a LEC S.A. e a XLM, facturas e outra documentação\\nproduzida ao abrigo do mesmo, factos ocorridos a partir de 2009, crime p. e p.\\npelo art.º 256.', '°, n.º l, alíneas a), d) e e) do Código Penal;\\n      - Um CRIME DE FALSIFICAÇÃO DE DOCUMENTO, em co-\\nautoria com os arguidos CARLOS SANTOS SILVA e RUI MÃO DE FERRO\\ncom referência aos contratos de prestação de serviços celebrados entre as\\nsociedades XLM e RMF CONSULTING, bem como facturas e outra\\ndocumentação produzida ao abrigo dos mesmos, que serviram de suporte a\\ncirculação de quantias entre estas sociedades, com origem e destino no\\narguido JOSE SOCRATES, crime p. e p. pelo art.º 256.', '°, n.º l, alíneas a), d) e\\ne) do Código Penal;\\n                                                                             7\\n\\x0c\\n\\n                                   S.        R.\\n          TRIBUNAL CENTRAL DE INSTRUÇÃO CRIMINAL\\n\\n\\n      - Um CRIME DE FALSIFICAÇÃO DE DOCUMENTO, em co-\\nautoria com os arguidos CARLOS SANTOS SILVA, RICARDO SALGADO,\\nHÉLDER BATAGLIA e JOAQUIM BARROCA, relativamente aos factos\\nreferentes ao conjunto de documentos que incluem o contrato promessa de\\ncompra e venda de imóvel em Angola, denominado KANHANGULO,\\ncontrato de intermediação AII e XLM, cartas de admissão do seu\\nincumprimento e perda de sinal e celebração de segundo contrato de prestação\\nde serviços entre a LEC e a XLM, bem como facturas e outra documentação\\nproduzida ao abrigo destes contratos, factos ocorridos a partir de 2010, crime\\np. e p. pelo art.º 256.°, n.º l, alíneas a), d) e e) do Código Penal;\\n      - Um CRIME DE FALSIFICAÇÃO DE DOCUMENTO, em co-\\nautoria com os arguidos CARLOS SANTOS SILVA e SOFIA FAVA, com\\nreferência aos contratos de prestação de serviços celebrados entra a XLM e\\narguida SOFIA FAVA, que serviram de suporte ao recebimento de quantias\\npor esta última com origem no arguido JOSÉ SÓCRATES, crime p. e p. pelo\\nart.º 256.', '°, n.º l, alíneas a), d) e e) do Código Penal;\\n      - Um CRIME DE FALSIFICAÇÃO DE DOCUMENTO, em co-\\nautoria com o arguido CARLOS SANTOS SILVA, com referência aos\\ncontratos de prestação de serviços celebrados entre a sociedade XLM e Ana\\nBessa, bem como facturas e outra documentação produzida ao abrigo dos\\nmesmos, que serviram de suporte ao recebimento de quantias por esta ultima\\ncom origem no arguido JOSÉ SÓCRATES, crime p. e p. pelo art.º 256.', '°, n.º l,\\nalíneas a), d) e e) do Código Penal;\\n      - Um CRIME DE FALSIFICAÇÃO DE DOCUMENTO, em co-\\nautoria com os arguidos CARLOS SANTOS SILVA e RUI MAO DE FERRO\\n                                                                            8\\n\\x0c\\n\\n                                  S.        R.\\n          TRIBUNAL CENTRAL DE INSTRUÇÃO CRIMINAL\\n\\n\\ncom referência aos contratos de prestação de serviços celebrados entre a\\nsociedade RMF CONSULTING e Domingos Farinho e Jane Kirkby, bem\\ncomo facturas e outra documentação produzida ao abrigo dos mesmos, que\\nserviram de suporte ao recebimento de quantias por estes últimos com origem\\nno arguido JOSÉ SÓCRATES, crime p. e p. pelo art.º 256.', '°, n.º l, alíneas a),\\nd) e e) do Código Penal;\\n      - Um CRIME DE FALSIFICAÇÃO DE DOCUMENTO, em co-\\nautoria com os arguidos CARLOS SANTOS SILVA e RUI MÃO DE FERRO\\ncom referência aos contratos de prestação de serviços celebrados entre a\\nsociedade RMF CONSULTING e António Manuel Peixoto e António Mega\\nPeixoto, bem como facturas e outra documentação produzida ao abrigo dos\\nmesmos, que serviram de suporte ao recebimento de quantias por estes últimos\\ncom origem no arguido JOSÉ SÓCRATES, crime p. e p. pelo art.º 256.°, n.º l,\\nalíneas a), d) e e) do Código Penal;\\n      - Um CRIME DE FALSIFICAÇÃO DE DOCUMENTO, em co-\\nautoria com os arguidos GONCALO FERREIRA e CARLOS SANTOS\\nSILVA, relativamente a produção e uso de documentação referente a\\naquisição e subsequente arrendamento do apartamento\\nde Paris, sito na Av.', 'President Wilson, crime p. e p. pelo art.º 256.', '°, n.º l\\nalíneas a), d) e e) do Código Penal;\\n      - Um CRIME DE FRAUDE FISCAL QUALIFICADA, de que foi\\nbeneficiário, em co-autoria com o arguido CARLOS SANTOS SILVA, no que\\ntange ao IRS apurado quanto aos anos de 2006 a 2009, crime p. e p. pelos arts.', 'l03°-l a), b) e c) e 104°- 1 d), e) e f) do RGIT;\\n\\n\\n                                                                            9\\n\\x0c\\n\\n                                   S.        R.\\n          TRIBUNAL CENTRAL DE INSTRUÇÃO CRIMINAL\\n\\n\\n      - Um CRIME DE FRAUDE FISCAL QUALIFICADA, de que foi\\nbeneficiário, em co-autoria, com os arguidos JOAQUIM BARROCA,\\nCARLOS SANTOS SILVA, LENA ENGENHARIA E CONSTRUCOES SA\\ne XLM - SOCIEDADE DE ESTUDOS E\\nPROJECTOS LDA, no que tange ao IRS apurado quanto aos anos de 2009 a\\n2012, crime p. e p. pelos arts l03.', '°-l a), b) e c) e 104.', '°- 1 d), e) e f) e n.º 2 do\\nRGIT, atualmente n.º 2 alínea a) do art.º l04.', '° do RGIT;\\n      - Um CRIME DE FRAUDE FISCAL QUALIFICADA, de que foi\\nbeneficiário, em co-autoria, com os arguidos JOAQUIM BARROCA,\\nCARLOS SANTOS SILVA, LENA ENGENHARIA E CONSTRUCOES SA\\ne XLM - SOCIEDADE DE ESTUDOS E PROJECTOS LDA no que tange ao\\nIRS apurado quanto aos anos de 2013 a 2015, crime p. e p. pelos arts l03.', '°-l\\na), b) e c) e 104°- 1 d), e) e n.º 2 alínea a) e n.º 3 do RGIT.', 'CARLOS MANUEL DOS SANTOS SILVA\\n\\n\\n      - Um CRIME DE CORRUPÇÃO PASSIVA DE TITULAR DE\\nCARGO POLÍTICO, em co-autoria com o arguido JOSÉ SÓCRATES, com\\nreferência a actos praticados no interesse do Grupo LENA entre 2005 e 2011,\\ncrime p. e p. pelas disposições conjugadas dos arts lº, 2.°, 3.°, n.º 1, alínea d),\\n17.°, n.º 1 e 19.°, n.ºs 2 e 3 da Lei 34/87, de 16 de Julho, na redacção\\nintroduzida pela Lei n° 108/2001, de 28 de Novembro- Lei dos Crimes de\\nResponsabilidade dos Titulares de Cargos Políticos, com referência aos arts\\n28.° e 202.°, alínea b) do Código Penal;\\n\\n\\n                                                                                   10\\n\\x0c\\n\\n                                  S.     R.\\n          TRIBUNAL CENTRAL DE INSTRUÇÃO CRIMINAL\\n\\n\\n      - Um CRIME DE CORRUPÇÃO ACTIVA, em co-autoria com os\\narguidos JOAQUIM BARROCA e JOSÉ RIBEIRO DOS SANTOS e com as\\nsociedades XMI, LEC SA, LEC SGPS e LENA SA, relativamente ao\\nfuncionário LUÍS MARQUES, nos anos de 2007 a 2009, crime p. e p. pelo\\nart.º 374.', '°, n.º l do Código Penal;\\n      - Um CRIME DE BRANQUEAMENTO, em co-autoria com os\\narguidos JOSÉ SÓCRATES e JOAQUIM BARROCA relativamente aos\\nmovimentos financeiros com origem no Grupo LENA e com passagem pelas\\ncontas da Suíça deste último arguido e realizados a partir de 2007, crime p. e\\np. pelo art.368°-A, n° 1, 2 e 3 do Código Penal;\\n      - Um CRIME DE BRANQUEAMENTO, em co-autoria com os\\narguidos JOSÉ SÓCRATES e JOAQUIM BARROCA e com as sociedades\\nLEC SA.', 'e XLM, relativamente a utilização desta ultima sociedade, entre\\n2009 e 2015, para a colocação de fundos destinados ao arguido JOSÉ\\nSÓCRATES e sua utilização dos mesmos no seu interesse através do\\npagamento de despesas ou por distribuição de dividendos para contas tituladas\\npelo arguido CARLOS SANTOS SILVA, crime p. e p. pelo art.º 368.°-A, n.ºs\\n1, 2 e 3 do Código Penal;\\n      - Um CRIME DE BRANQUEAMENTO, em co-autoria com os\\narguidos JOSÉ SÓCRATES, JOAQUIM BARROCA e RUI MÃO DE\\nFERRO e com as sociedades LEC SA, XLM e RMF CONSULTING,\\nrelativamente a utilização desta última sociedade, entre 2010 e 2014, para a\\ncolocação de fundos destinados ao arguido JOSÉ SÓCRATES e utilização dos\\nmesmos no seu interesse através do pagamento de despesas e colocação de\\n\\n\\n                                                                           11\\n\\x0c\\n\\n                                  S.       R.\\n          TRIBUNAL CENTRAL DE INSTRUÇÃO CRIMINAL\\n\\n\\nnumerário a sua disposição, entre 2010 e 2014, crime p. e p. pelo art.º 368.°-A,\\nn.ºs 1, 2 e 3 do Código Penal;\\n      - Um CRIME DE BRANQUEAMENTO, em co-autoria com os\\narguidos JOAQUIM BARROCA, JOSÉ LUÍS RIBEIRO DOS SANTOS,\\nLUÌS MARQUES e com a sociedade XMI, relativamente a utilização desta\\núltima sociedade e sua contabilidade para a colocação de fundos na esfera\\npatrimonial do arguido LUÍS MARQUES, crime p. e p. pelo art.º 368.', '°-A,\\nn.ºs 1, 2 e 3 do Código Penal;\\n      - Um CRIME DE BRANQUEAMENTO, em co-autoria com os\\narguidos JOSÉ SÓCRATES, RICARDO SALGADO, HÉLDER BATAGLIA\\ne JOSÉ PAULO PINTO DE SOUSA, relativamente a utilização, entre 2006 e\\n2008, das contas na Suíça em que este último era autorizado e operações\\nfinanceiras realizadas a partir das mesmas, crime p. e p. pelo art.º 368.', '°-A,\\nn.ºs 1, 2 e 3 do Código Penal;\\n      - Um CRIME DE BRANQUEAMENTO, em co-autoria com os\\narguidos JOSÉ SÒCRATES, RICARDO SALGADO, HÉLDER BATAGLIA\\ne JOSÉ PAULO PINTO DE SOUSA relativamente aos movimentos\\nfinanceiros justificados pelos contratos PINSONG, realizados no ano de 2007\\ne até ao início de 2008, com origem em conta da Suíça da ES ENTERPRISES,\\ncrime p. e p. pelo art.º 368.', '°-A, n.ºs 1,2 e 3 do Código Penal;\\n      - Um CRIME DE BRANQUEAMENTO, em co-autoria com os\\narguidos JOSÉ SÓCRATES, RICARDO SALGADO, HÉLDER BATAGLIA\\ne JOAQUIM BARROCA relativamente aos movimentos financeiros\\njustificados pelos contratos PINSONG, realizados a partir de abril de 2008,\\ncom origem em conta da Suíça da ES ENTERPRISES com intervenção das\\n                                                                             12\\n\\x0c\\n\\n                                  S.       R.\\n          TRIBUNAL CENTRAL DE INSTRUÇÃO CRIMINAL\\n\\n\\ncontas da Suíça do arguido JOAQUIM BARROCA, crime p. e p. pelo art.º\\n368.', '°-A, n.ºs 1, 2 e 3 do Código Penal;\\n      - Um CRIME DE BRANQUEAMENTO, em co-autoria com os\\narguidos JOSÉ SÓCRATES, RICARDO SALGADO, HÉLDER BATAGLIA\\ne JOAQUIM BARROCA e pelas sociedades LEC SA, LEC SGPS, LENA\\nSGPS e XLM, relativamente aos movimentos financeiros, ocorridos a partir de\\n2010, abrangidos pela operação CEL_2010, ocorridos a partir de 2010 e\\njustificados através de contrato promessa de compra e venda com perda de\\nsinal referente ao imóvel KANHANGULO, sito em Luanda, e introdução\\ndesses fundos no Grupo LENA, crime p. e p. pelo art.º 368.°-A, n.ºs 1, 2 e 3\\ndo Código Penal;\\n      - Um CRIME DE BRANQUEAMENTO, em co-autoria com os\\narguidos JOSÉ SÓCRATES, JOAQUIM BARROCA ARMANDO VARA,\\nDIOGO GASPAR FERREIRA, RUI HORTA E COSTA e BÁRBARA\\nVARA relativamente as transferências com origem em conta do cidadão\\nholandês Van Doreen, referentes aos financiamentos concedidos ao Grupo\\nVALE DO LOBO, com passagem por conta bancaria da Suíça titulada pelo\\narguido JOAQUIM BARROCA, crime p. e p. pelo art.368°-A, n° 1, 2 e 3 do\\nCódigo Penal;\\n      - Um CRIME DE BRANQUEAMENTO, em co-autoria com o\\narguido JOSÉ SÓCRATES relativamente a concentração dos fundos em novas\\ncontas bancarias da Suíça tituladas por sociedades offshore, controladas pelo\\narguido CARLOS SANTOS SILVA, e sua transferência para contas tituladas\\npelo mesmo arguido em Portugal, ao abrigo do RERT II, crime p. e p. pelo\\nart.º 368.', '°-A, n.ºs 1, 2 e 3 do Código Penal;\\n                                                                          13\\n\\x0c\\n\\n                                  S.       R.\\n          TRIBUNAL CENTRAL DE INSTRUÇÃO CRIMINAL\\n\\n\\n      - Um CRIME DE BRANQUEAMENTO, em co-autoria com o\\narguido JOSÉ SÓCRATES relativamente a dissipação dos fundos por outras\\ncontas em Portugal, em que o arguido CARLOS SANTOS SILVA era titular e\\nautorizado, e a confusão de patrimónios de ambos nessas contas bancárias,\\ncrime p. e p. pelo art.º 368.', '°-A, n.ºs 1, 2 e 3 do Código Penal;\\n      - Um CRIME DE BRANQUEAMENTO, em co-autoria com os\\narguidos JOSÉ SÓCRATES e GONÇALO FERREIRA, quanto a aquisição de\\nimóveis em Portugal, com o retomo do preço pago para a esfera patrimonial\\ndo arguido JOSÉ SÓCRATES, de forma justificada, factos ocorridos entre\\n2010 e 2012, crime p. e p. pelo art.º 368.', '°-A, n.ºs 1, 2 e 3 do Código Penal;\\n      - Um CRIME DE BRANQUEAMENTO, em co-autoria com os\\narguidos JOSÉ SÓCRATES e GONÇALO FERREIRA, relativamente a\\naquisição e subsequente arrendamento de um imóvel em Paris, com intenção\\nde ocultação da titularidade do activo, factos praticados entre 2012 e 2014,\\ncrime p. e p. pelo art.º 368.', '°-A, n.ºs 1, 2 e 3 do Código Penal;\\n      - Um CRIME DE BRANQUEAMENTO, em co-autoria com os\\narguidos JOSÉ SÓCRATES e GONÇALO FERREIRA, relativamente a\\nentrega pelo arguido CARLOS SANTOS SILVA de quantias pertencentes ao\\narguido JOSÉ SÓCRATES para depósito em contas bancárias do arguido\\nGONÇALO FERREIRA e para guardar em cofre bancário e em contas\\ntituladas pelo mesmo, de forma a ocultar a propriedade desses fundos pelo\\narguido JOSÉ SÓCRATES, factos ocorridos nos anos de 2012 e 2013, crime\\np. e p. pelo art.º 368.°-A, n.ºs 1, 2 e 3 do Código Penal;\\n      - Um CRIME DE BRANQUEAMENTO, em co-autoria com os\\narguidos JOSÉ SÓCRATES e INÊS DO ROSÁRIO, relativamente a\\n                                                                                 14\\n\\x0c\\n\\n                                   S.       R.\\n           TRIBUNAL CENTRAL DE INSTRUÇÃO CRIMINAL\\n\\n\\nutilização das contas bancárias desta última arguida junto do MONTEPIO\\nGERAL e a recepção pela mesma de fundos, provenientes do arguido\\nCARLOS SANTOS SILVA para entrega ao arguido JOSÉ SÓCRATES,\\nocultando a propriedade das mesmas por este último, factos ocorridos nos\\nanos de 2013 e 2014, crime p. e p. pelo art.º 368.', '°-A, n.ºs 1, 2 e 3 do Código\\nPenal;\\n         - Um CRIME DE BRANQUEAMENTO, em co-autoria com os\\narguidos JOSÉ SÓCRATES e JOÃO PERNA, relativos a utilização das contas\\ntituladas por este último como contas de passagem de fundos de origem ilícita\\nprovenientes de CARLOS SANTOS SILVA e destinados a esfera patrimonial\\ndo arguido JOSÉ SÓCRATES, operações ocorridas entre 2011 e 2014, crime\\np. e p. pelo art.º 368.', '°-A, n.ºs l, 2 e 3 do Código Penal;\\n         - Um CRIME DE BRANQUEAMENTO, em co-autoria com os\\narguidos JOSÉ SÒCRATES e SOFIA FAVA relativamente a aquisição de um\\nimóvel, designado “Monte das Margaridas”, com intenção de que passasse a\\nintegrar o património familiar do arguido JOSÉ SÒCRATES, com registo em\\nnome de terceiro e montagem de operação de financiamento e formas de\\ncustear as prestações da mesma, factos ocorridos entre 2011 e 2014, crime p. e\\np. pelo art.º 368.', '°-A, n.ºs 1, 2 e 3 do Código Penal;\\n         - Um CRIME DE FALSIFICAÇÃO DE DOCUMENTO, em co-\\nautoria com o arguido JOSE SOCRATES, relativamente a declaração de\\nadesão ao RERT II e outra documentação produzida e utilizada para esse\\nefeito, no que se reporta a titularidade dos elementos patrimoniais declarados,\\nconcentrados nas contas da Suíça até ao final do ano de 2010, crime p. e p.\\npelo art.º 256.', '°, n.ºs 1, alíneas a), d) e e) do Código Penal;\\n                                                                            15\\n\\x0c\\n\\n                                 S.       R.\\n          TRIBUNAL CENTRAL DE INSTRUÇÃO CRIMINAL\\n\\n\\n      - Um CRIME DE FALSIFICAÇÃO DE DOCUMENTO, em co-\\nautoria com os arguidos JOSÉ SÓCRATES e JOAQUIM BARROCA,\\nrelativamente ao primeiro contrato de prestação de serviços celebrado entre a\\nLEC SA e a XLM, facturas e outra documentação produzida ao abrigo do\\nmesmo, factos ocorridos a partir de 2009, crime p. e p. pelo art.º 256.', '°, n.º 1,\\nalíneas a), d) e e) do Código Penal;\\n      - Um CRIME DE FALSIFICAÇÃO DE DOCUMENTO, praticado,\\nem co-autoria, com os arguidos JOSÉ SOCRATES e RUI MÃO DE FERRO\\ncom referência aos contratos de prestação de serviços celebrados entre as\\nsociedades XLM e RMF CONSULTING, bem como facturas e outra\\ndocumentação produzida ao abrigo dos mesmos, que serviram de suporte a\\ncirculação de quantias entre estas sociedades, com origem e destino no\\narguido JOSÉ SÓCRATES, crime p. e p. pelo art.º 256.', '°, n.º l, alíneas a), d) e\\ne) do Código Penal;\\n      -   Um    CRIME       DE     FALSIFICAÇÃO          DE    DOCUMENTO\\nrelativamente aos relatórios de catividades da XLM, em co-autoria com os\\narguidos RUI MÃO DE FERRO e JOAQUIM BARROCA, relativos ao forjar\\ne execução do primeiro contrato entre a LEC SA e a XLM, factos ocorridos\\nentre 2011 e 2013, crime p. e p. pelo art.º 256.', '°, n.º l, alíneas a), d) e e) do\\nCódigo Penal;\\n      - Um CRIME DE FALSIFICAÇÃO DE DOCUMENTO, em co-\\nautoria com os arguidos JOSÉ SÓCRATES, RICARDO SALGADO,\\nHÉLDER BATAGLIA e JOAQUIM BARROCA, relativamente aos factos\\nreferentes ao conjunto de documentos que incluem o contrato promessa de\\ncompra e venda de imóvel em Angola, denominado KANHANGULO,\\n                                                                              16\\n\\x0c\\n\\n                                   S.       R.\\n          TRIBUNAL CENTRAL DE INSTRUÇÃO CRIMINAL\\n\\n\\ncontrato de intermediação AII e XLM, cartas de admissão do seu\\nincumprimento e perda de sinal e celebração de segundo contrato de prestação\\nde serviços entre a LEC e a XLM, bem como facturas e outra documentação\\nproduzida ao abrigo desses contratos, crime p. e p. pelo art.º 256.°, n.º l,\\nalíneas a), d) e e) do Código Penal;\\n      - Um CRIME DE FALSIFICAÇÃO DE DOCUMENTO, em co-\\nautoria com os arguidos JOSÉ SÓCRATES e SOFIA FAVA, com referência\\naos contratos de prestação de serviços celebrados entre a XLM e a arguida\\nSOFIA FAVA, que serviram de suporte ao recebimento de quantias por esta\\núltima com origem no arguido JOSÉ SÓCRATES, crime p. e p. pelo art.º 256.', '°, n.ºs l, alíneas a), d) e e) do Código Penal;\\n      - Um CRIME DE FALSIFICAÇÃO DE DOCUMENTO, em co-\\nautoria com o arguido JOSÉ SÓCRATES, com referência aos contratos de\\nprestação de serviços celebrados entre a sociedade XLM e Ana Bessa, bem\\ncomo facturas e outra documentação produzida ao abrigo dos mesmos, que\\nserviram de suporte ao recebimento de quantias por esta última com origem no\\narguido JOSÉ SÓCRATES, crime p. e p. pelo art.º 256.', '°, n.º l, alíneas a), d) e\\ne) do Código Penal;\\n      - Um CRIME DE FALSIFICAÇÃO DE DOCUMENTO, em co-\\nautoria com os arguidos JOSÉ SÓCRATES e RUI MÃO DE FERRO com\\nreferência aos contratos de prestação de serviços celebrados entre a sociedade\\nRMF CONSULTING e Domingos Farinho e Jane Kirkby, bem como facturas\\ne outra documentação produzida ao abrigo dos mesmos, que serviram de\\nsuporte ao recebimento de quantias por estes últimos com origem no arguido\\n\\n\\n                                                                            17\\n\\x0c\\n\\n                                     S.        R.\\n           TRIBUNAL CENTRAL DE INSTRUÇÃO CRIMINAL\\n\\n\\nJOSÉ SÓCRATES, crime p. e p. pelo art.º 256.', '°, n.º l, alíneas a), d) e e) do\\nCódigo Penal;\\n       - Um CRIME DE FALSIFICAÇÃO DE DOCUMENTO, em co-\\nautoria com os arguidos JOSÉ SÓCRATES e RUI MÃO DE FERRO com\\nreferência aos contratos de prestação de serviços celebrados entre a sociedade\\nRMF CONSULTING e António Manuel Peixoto e António Mega Peixoto,\\nbem como facturas e outra documentação produzida ao abrigo dos mesmos,\\nque serviram de suporte ao recebimento de quantias por estes últimos com\\norigem no arguido JOSÉ SÓCRATES, crime p. e p. pelo art.º 256.°, n.º l,\\nalíneas a), d) e e) do Código Penal;\\n       - Um CRIME DE FALSIFICAÇÃO DE DOCUMENTO, em co-\\nautoria com os arguidos JOSÉ SÓCRATES e GONÇALO FERREIRA,\\nrelativamente a produção e uso de documentação referente à aquisição e\\nsubsequente arrendamento do apartamento de Paris, sito na Av.', 'Président\\nWilson, crime p. e p. pelo art.º 256.', '°, n.º l, alíneas a), d) e e) do Código Penal;\\n       - Um CRIME DE FRAUDE FISCAL, de que foi beneficiário, no que\\ntange ao IRS apurado quanto aos anos de 2010 e 2011, crime p e p pelo l03°-l\\na) e b) do RGIT;\\n       - Um CRIME DE FRAUDE FISCAL QUALIFICADA, em co-\\nautoria com o arguido JOSÉ SÓCRATES, no que tange ao IRS apurado\\nrelativamente a este último, quanto aos anos de 2006 a 2009, crime p. e p.\\npelos art.º l03.', '°, n.º l, al.', 'a), b) e c) e 104.', '°, n.º 1, als.', 'd), e) e f) do RGIT;\\n       - Um CRIME DE FRAUDE FISCAL QUALIFICADA, em co-\\nautoria com os arguidos JOSÉ SÓCRATES, JOAQUIM BARROCA, LENA\\nENGENHARIA E CONSTRUÇÕES SA e XLM - SOCIEDADE DE\\n                                                                                        18\\n\\x0c\\n\\n                                  S.       R.\\n          TRIBUNAL CENTRAL DE INSTRUÇÃO CRIMINAL\\n\\n\\nESTUDOS E PROJECTOS LDA, no que tange ao IRS apurado quanto aos\\nanos de 2009 a 2012, relativamente ao arguido referido em primeiro lugar,\\ncrime p. e p. pelos arts.', 'l03°-l a), b) e c) e 104.º 1 d), e) e f) e n.º 2 do RGIT,\\nactualmente n.º 2, a), do art.104.', '° do RGIT;\\n      - Um CRIME DE FRAUDE FISCAL QUALIFICADA, em co-\\nautoria com os arguidos JOSÉ SÓCRATES, JOAQUIM BARROCA, LENA\\nENGENHARIA E CONSTRUÇÔES SA e XLM - SOCIEDADE DE\\nESTUDOS E PROJECTOS LDA, no que tange ao IRS apurado quanto aos\\nanos de 2013 a 2015, relativamente ao arguido referido em primeiro lugar,\\ncrime p. e p. pelos arts.', 'l03°-l a), b) e c) e 104°- 1 d), e) e n.º 2 a) e n.º 3 do\\nRGIT.', 'JOAQUIM BARROCA VIEIRA RODRIGUES\\n\\n\\n      - Um CRIME DE CORRUPÇÃO ACTIVA DE TITULAR DE\\nCARGO POLÌTICO, relativamente a pessoa do arguido JOSÉ SÓCRATES,\\neste com mediação do arguido CARLOS SANTOS SILVA e em benefício do\\nGrupo LENA, com referências aos anos de 2005 a 2011, crime p. e p. pelos\\narts.', '2°, 3°, n.º 1, alínea d) e 18°, n.º 1 e 19°, n.º 2 e 3 da Lei 34/87, de 16 de\\njulho, com a redacção introduzida pela Lei n° 108/2001 28 de Novembro- Lei\\ndos Crimes de Responsabilidade dos Titulares de Cargos Políticos, com\\nreferência ao art.', '202°, alínea b) do Código Penal;\\n      - Um CRIME DE CORRUPÇÃO ACTIVA, em co-autoria com os\\narguidos CARLOS SANTOS SILVA, JOSÉ RIBEIRO DOS SANTOS e com\\nas sociedades XMI MANAGEMENT INVESTMENTS SA, LEC SA, LEC\\n                                                                                19\\n\\x0c\\n\\n                                 S.      R.\\n           TRIBUNAL CENTRAL DE INSTRUÇÃO CRIMINAL\\n\\n\\nSGPS e LENA SA relativamente a pessoa do arguido LUÍS MARQUES, com\\nreferência a factos ocorridos nos anos de 2007 a 2009, crime p. e p. pelo art.º\\n374.', '°, n.º 1 do Código Penal;\\n         - Um CRIME DE BRANQUEAMENTO, em co-autoria com os\\narguidos JOSÉ SÓCRATES e CARLOS SANTOS SILVA relativamente aos\\nmovimentos financeiros com origem no Grupo LENA e com passagem pelas\\ncontas da Suíça do arguido JOAQUIM BARROCA, realizados a partir de\\n2007, crime p. e p. pelo art.368°-A, n° 1, 2 e 3 do Código Penal;\\n         - Um CRIME DE BRANQUEAMENTO, em co-autoria com os\\narguidos CARLOS SANTOS SILVA, JOSÉ SÓCRATES e com as sociedades\\nLEC SA e XLM, relativamente a utilização desta última sociedade, entre 2009\\ne 2015, para a colocação de fundos destinados ao arguido JOSÉ SÓCRATES\\ne utilização dos mesmos no seu interesse através do pagamento de despesas e\\nde distribuição de dividendos para contas tituladas pelo arguido CARLOS\\nSANTOS SILVA, crime p. e p. pelo art.º 368°-A, n.ºs 1, 2 e 3 do Código\\nPenal;\\n         - Um CRIME DE BRANQUEAMENTO, em co-autoria com os\\narguidos CARLOS SANTOS SILVA, JOSÉ LUÍS RIBEIRO DOS SANTOS,\\nLUÍS MARQUES e com a sociedade XMI, relativamente a utilização desta\\núltima sociedade e sua contabilidade para a colocação de fundos na esfera\\npatrimonial do arguido LUÍS MARQUES, crime p. e p. pelo art.º 368.', '°-A,\\nn.ºs 1, 2 e 3 do Código Penal.', '- Um CRIME DE BRANQUEAMENTO, em co-autoria com os\\narguidos CARLOS SANTOS SILVA, JOSE SOCRATES, RUI MAO DE\\nFERRO e com as sociedades LEC SA, XLM e RMF CONSULTING\\n                                                                            20\\n\\x0c\\n\\n                                 S.       R.\\n         TRIBUNAL CENTRAL DE INSTRUÇÃO CRIMINAL\\n\\n\\nrelativamente a utilização desta última sociedade, entre 2010 e 2014, para a\\ncolocação de fundos destinados ao arguido JOSÉ SÓCRATES e utilização dos\\nmesmos no seu interesse através do pagamento de despesas suas e colocação\\nde numerário a sua disposição, crime p. e p. pelo art.º 368.', '°-A, n°s 1, 2 e 3 do\\nCódigo Penal;\\n      - Um CRIME DE BRANQUEAMENTO, em co-autoria com os\\narguidos JOSÉ SÓCRATES, RICARDO SALGADO, HÉLDER BATAGLIA,\\nCARLOS SANTOS SILVA e com as sociedades LEC SA., LEC SGPS,\\nLENA SGPS e XLM relativamente aos movimentos financeiros, ocorridos a\\npartir de 2010, abrangidos pela operação CEL_2010 e justificados através de\\ncontrato promessa de compra e venda com perda de sinal referente ao imóvel\\nKANHANGULO, sito em Luanda, e introdução desses fundos no Grupo\\nLENA, crime p. e p. pelo art.º 368.°-A, n.º 1, 2 e 3 do Código Penal;\\n      - Um CRIME DE BRANQUEAMENTO, em co-autoria com os\\narguidos JOSÉ SÓCRATES, CARLOS SANTOS SILVA, RICARDO\\nSALGADO e HÉLDER BATAGLIA relativamente aos movimentos\\nfinanceiros abrangidos pelos contratos PINSONG realizados a partir de Abril\\nde 2008 com origem na conta da ES ENTERPRISES com intervenção das\\ncontas do arguido JOAQUIM BARROCA, crime p. e p. pelo art.º 368.', '°-A,\\nn.ºs 1, 2 e 3 do Código Penal;\\n      - Um CRIME DE BRANQUEAMENTO, em co-autoria com os\\narguidos JOSÉ SÓCRATES, CARLOS SANTOS SILVA, ARMANDO\\nVARA, DIOGO GASPAR FERREIRA, RUI HORTA E COSTA e\\nBÁRBARA VARA relativamente às transferências com origem em conta do\\nVan Doreen, referentes aos financiamentos concedidos ao Grupo VALE DO\\n                                                                              21\\n\\x0c\\n\\n                                    S.      R.\\n          TRIBUNAL CENTRAL DE INSTRUÇÃO CRIMINAL\\n\\n\\nLOBO, com passagem por conta bancária da Suíça do arguido JOAQUIM\\nBARROCA, crime p. e p. pelo art.º 368.°-A, n° 1, 2 e 3 do Código Penal;\\n      - Um CRIME DE FALSIFICAÇÃO DE DOCUMENTO, em co-\\nautoria com os arguidos JOSÉ SÓCRATES e CARLOS SANTOS SILVA,\\nrelativamente ao primeiro contrato de prestação de serviços celebrado entre a\\nLEC S.A. e a XLM, facturas e outra documentação produzida ao abrigo do\\nmesmo, factos ocorridos a partir de 2009, crime p. e p. pelo art.º 256.', '°, n.º l,\\nalíneas a), d) e e) do Código Penal;\\n      -   Um     CRIME         DE    FALSIFICAÇÃO           DE    DOCUMENTO\\nrelativamente aos relatórios de actividades da XLM, em co-autoria com os\\narguidos CARLOS SANTOS SILVA e RUI MÃO DE FERRO, relativos ao\\nforjar e utilização da execução do primeiro contrato entre a LEC SA e a XLM,\\nfactos ocorridos entre 2011 e 2013, crime p. e p. pelo art.º 256.', '°, n.º l, alíneas\\na), d) e e) do Código Penal;\\n      - Um CRIME DE FALSIFICAÇÃO DE DOCUMENTO, em co-\\nautoria com os arguidos JOSÉ SÓCRATES, CARLOS SANTOS SILVA,\\nRICARDO SALGADO e HÉLDER BATAGLIA, relativamente ao conjunto\\nde documentos que incluem o contrato promessa de compra e venda de imóvel\\nem Angola, denominado KANHANGULO, contrato de intermediação AII e\\nXLM, cartas de admissão do seu incumprimento e perda de sinal e celebração\\nde segundo contrato de prestação de serviços entre a LEC e a XLM, bem\\ncomo facturas e outra documentação produzida ao abrigo destes contratos,\\nfactos ocorridos a partir de 2010, crime p. e p. pelo art.º 256.°, n.º l, alíneas a),\\nd) e e) do Código Penal;\\n\\n\\n                                                                                  22\\n\\x0c\\n\\n                                   S.       R.\\n           TRIBUNAL CENTRAL DE INSTRUÇÃO CRIMINAL\\n\\n\\n         - Um CRIME DE FRAUDE FISCAL QUALIFICADA, em co-\\nautoria com os arguidos JOSÉ SÓCRATES, CARLOS SANTOS SILVA,\\nLENA ENGENHARIA E CONSTRUCOES SA e XLM - SOCIEDADE DE\\nESTUDOS E PROJECTOS LDA, no que tange ao IRS apurado quanto aos\\nanos de 2009 a 2012, relativamente ao arguido referido em primeiro lugar,\\ncrime p. e p. pelos arts.', 'l03.', '°-l a), b) e c) e 104°- 1 d), e) e f) e n.º 2 do RGIT,\\natualmente n.º 2 a) do art.º l04.', '° do RGIT;\\n         - Um CRIME DE FRAUDE FISCAL QUALIFICADA, em co-\\nautoria, com os arguidos JOSÉ SÓCRATES, CARLOS SANTOS SILVA,\\nLENA ENGENHARIA E CONSTRUCOES SA e XLM - SOCIEDADE DE\\nESTUDOS E PROJECTOS LDA, no que tange ao IRS apurado quanto aos\\nanos de 2013 a 2015, relativamente ao arguido referido em primeiro lugar,\\ncrime p. e p. pelos arts.', 'l03.', '°-l a), b) e c) e 104°- 1 d), e) e n.º 2 a) e n.°3 do\\nRGIT.', 'LUÍS MANUEL FERREIRA DA SILVA MARQUES\\n\\n\\n         - Um CRIME DE CORRUPÇÃO PASSIVA, relativamente aos\\npagamentos recebidos enquanto Director da RAVE, no âmbito da PPP,\\nmediante acordo celebrado com a XMI, crime p. e p. pelo art.º 373.', '°, n.º 1 do\\nCódigo Penal, com referência ao art.º 386.', '°, n.ºs 1 e 2 do mesmo diploma\\nlegal.', '- Um CRIME DE BRANQUEAMENTO, em co-autoria com os\\narguidos CARLOS SANTOS SILVA, JOAQUIM BARROCA, JOSÉ LUÍS\\nRIBEIRO DOS SANTOS e com a sociedade XMI, relativamente a utilização\\n                                                                                  23\\n\\x0c\\n\\n                                 S.     R.\\n         TRIBUNAL CENTRAL DE INSTRUÇÃO CRIMINAL\\n\\n\\ndesta última sociedade e sua contabilidade para a colocação de fundos na\\nesfera patrimonial do arguido LUIS MARQUES, crime p. e p. pelo art.º 368.', '°-A, n.ºs 1,2 e 3 do Código Penal.', 'JOSÉ LUÍS RIBEIRO DOS SANTOS\\n\\n\\n      - Um CRIME DE CORRUPÇÃO ACTIVA, em co-autoria com os\\narguidos JOAQUIM BARROCA, CARLOS SANTOS SILVA e com as\\nsociedades XMI, LEC SA, LEC SGPS e LENA SA, relativamente aos\\npagamentos efectuados a LUIS MARQUES, enquanto Director da RAVE, no\\nâmbito da PPP, mediante acordo celebrado com a XMI, crime p. e p. pelo art.º\\n374.', '°, n.º l do Código Penal.', '- Um CRIME DE BRANQUEAMENTO, em co-autoria com os\\narguidos CARLOS SANTOS SILVA, JOAQUIM BARROCA, LUIS\\nMARQUES e com a sociedade XMI, relativamente a utilização desta última\\nsociedade e sua contabilidade para a colocação de fundos na esfera\\npatrimonial do arguido LUIS MARQUES, crime p. e p. pelo art.º 368.', '°-A,\\nn.ºs 1, 2 e 3 do Código Penal.', 'RICARDO ESPIRITO SANTO SALGADO\\n\\n\\n      - Um CRIME DE CORRUPÇÃO ACTIVA DE TITULAR DE\\nCARGO POLITICO, relativamente a negócios do Grupo PORTUGAL\\nTELECOM e GES no que concerne aos pagamentos efectuados ao arguido\\nJOSÉ SÓCRATES, crime p. e p. pelas disposições conjugadas dos arts.', 'l°, 2°,\\n                                                                         24\\n\\x0c\\n\\n                                   S.       R.\\n          TRIBUNAL CENTRAL DE INSTRUÇÃO CRIMINAL\\n\\n\\n3°, n.º 1, alínea d), 18°, n.º 1 e 19°, n.ºs 2 e 3 da Lei 34/87, de 16 de Julho, na\\nredacção introduzida pela Lei n° 108/2001, de 28 de Novembro- Lei dos\\nCrimes de Responsabilidade dos Titulares de Cargos Políticos, e 202°, alínea\\nb) do Código Penal;\\n      - Um CRIME DE CORRUPÇÃO ACTIVA, relativamente a negócios\\ndo Grupo PORTUGAL TELECOM e GES no que concerne aos pagamentos\\nefectuados ao arguido ZEINAL BAVA, crime p. e p. pelos arts.', '374°, n.º 1 e\\n374°-A, n.ºs 2 e 3 do Cód.', 'Penal, com referência aos arts.202°, al.', 'b) e 386°,\\nn.º 2 do mesmo diploma legal;\\n      - Um CRIME DE CORRUPÇÃO ACTIVA, relativamente a negócios\\ndo Grupo PORTUGAL TELECOM e GES no que concerne aos pagamentos\\nefectuados ao arguido HENRIQUE GRANADEIRO, crime p. e p. pelos arts.', '374°, n.º 1 e 374°-A, n.ºs 2 e 3 do Cód.', 'Penal, com referência aos arts.202°, al.', 'b) e 386°, n.º 2 do mesmo diploma legal;\\n      - Um CRIME DE ABUSO DE CONFIANÇA, relativamente a\\ntransferência de €4.000.000,00, com origem em conta da ES ENTERPRISES\\nna Suíça para conta do CREDIT SUISSE, titulada pela sociedade em offshore\\nSAVOICES, controlada por si, em 21 de Outubro de 2011, crime p. e p. pelo\\nart.', '205°, n.º l e n.°4, alínea b) do Cód.', 'Penal;\\n      - Um CRIME DE ABUSO DE CONFIANÇA, em co-autoria com o\\narguido    HÉLDER        BATAGLIA,        relativamente    a   transferência    de\\n€2.750.000,00 com origem em conta da ES ENTERPRISES na Suíça, de\\nconta titulada pela sociedade GREEN EMERALD na Suíça, controlada pelo\\narguido HÉLDER BATAGLIA, para conta do CREDIT SUISSE, titulada pela\\n\\n\\n                                                                                25\\n\\x0c\\n\\n                                   S.       R.\\n           TRIBUNAL CENTRAL DE INSTRUÇÃO CRIMINAL\\n\\n\\nsociedade em offshore SAVOICES, controlada por si, em Novembro de 2011,\\ncrime p. e p. pelo art.º 205°, n.º l e n.º 4, alínea b) do Cód.', 'Penal;\\n         - Um CRIME DE ABUSO DE CONFIANÇA, em co-autoria com o\\narguido HENRIQUE GRANADEIRO, relativamente a transferência de\\n€3.967.611,00 (CHF 4.900.000,00), com origem em conta do banco PICTET\\ntitulada por este último e com destino a conta do Banco LOMBARD ODIER\\ntitulada pela sociedade em offshore BEGOLINO, controlada pelo arguido\\nRICARDO SALGADO, em 22 de Novembro de 2011, crime p. e p. pelo\\nart.205°, n.º l e n.º 4, alínea b) do Cód.', 'Penal.', '- Um CRIME DE BRANQUEAMENTO, em co-autoria com os\\narguidos JOSÉ SÓCRATES, HÉLDER BATAGLIA, CARLOS SANTOS\\nSILVA e JOSÉ PAULO PINTO DE SOUSA, relativamente a utilização, entre\\n2006 e 2008, de contas na Suíça em que este último era autorizado e\\noperações financeiras realizadas a partir das mesmas, crime p. e p. pelo art.', '368°-A, n.ºs 1, 2 e 3 do Código Penal;\\n         - Um CRIME DE BRANQUEAMENTO, em co-autoria com os\\narguidos JOSÉ SÓCRATES, HÉLDER BATAGLIA, JOSÉ PAULO PINTO\\nDE SOUSA e CARLOS SANTOS SILVA, relativamente aos movimentos\\nfinanceiros justificados pelos contratos PINSONG, realizados no ano de 2007\\ne até ao início de 2008, com origem em conta da Suíça da ES ENTERPRISES,\\ncrime p. e p. pelo art.', '368°-A, n° 1, 2 e 3 do Código\\nPenal;\\n         - Um CRIME DE BRANQUEAMENTO, em co-autoria com os\\narguidos JOSÉ SÓCRATES, HÉLDER BATAGLIA, CARLOS SANTOS\\nSILVA e JOAQUIM BARROCA, relativamente aos movimentos financeiros\\n                                                                          26\\n\\x0c\\n\\n                                  S.      R.\\n          TRIBUNAL CENTRAL DE INSTRUÇÃO CRIMINAL\\n\\n\\njustificados pelos contratos PINSONG, realizados a partir de Abril de 2008,\\ncom origem em conta da Suíça da ES ENTERPRISES e com intervenção das\\ncontas do arguido JOAQUIM BARROCA, crime p. e p. pelo art.368°-A, n.º 1,\\n2 e 3 do Código Penal;\\n      - Um CRIME DE BRANQUEAMENTO, em co-autoria com os\\narguidos JOSÉ SÓCRATES, HÉLDER BATAGLIA, JOAQUIM BARROCA,\\nCARLOS SANTOS SILVA e com as sociedades LEC SA, LEC SGPS, LENA\\nSGPS e XLM, relativamente aos movimentos financeiros abrangidos pela\\noperação CEL_2010, ocorridos a partir de 2010, justificados através de\\ncontrato promessa de compra e venda com perda de sinal referente ao imóvel\\nKANHANGULO, sito em Luanda, e introdução desses fundos no Grupo\\nLENA, crime p. e p. pelo art.368°-A, n.º 1, 2 e 3 do Código Penal;\\n      - Um CRIME DE BRANQUEAMENTO, em co-autoria com o\\narguido ZEINAL BAVA, relativamente aos pagamentos PT e CEL_2010,\\nrealizados entre 7 de Dezembro de 2007 e 20 de setembro de 2011, com\\norigem em conta da Suíça da ES ENTERPRISES, crime p. e p. pelo art.368°-\\nA, n° 1, 2 e 3 do Código Penal;\\n      - Um CRIME DE BRANQUEAMENTO, em co-autoria com o\\narguido HENRIQUE GRANADEIRO, relativamente aos pagamentos PT e\\nCEL_2010, realizados entre 9 de Julho de 2007 e 23 de Novembro de 2012,\\ncom origem em conta da Suíça na ES ENTERPRISES e com destino para as\\ncontas da Suíça deste último arguido, crime p. e p. pelo art.', '368°-A n.º 1, 2 e 3\\ndo Código Penal;\\n      -   Um     CRIME      DE     BRANQUEAMENTO,              relativamente   a\\ntransferência de €4.000.000,00, com origem em conta da ES ENTERPRISES\\n                                                                               27\\n\\x0c\\n\\n                                   S.        R.\\n          TRIBUNAL CENTRAL DE INSTRUÇÃO CRIMINAL\\n\\n\\nna Suíça para conta do CREDIT SUISSE, titulada pela sociedade em offshore\\nSAVOICES, controlada por si, em 21 de Outubro de 2011, crime p. e p. pelo\\nart.', '368°-A, n.º 1, 2 e 3 do Código Penal;\\n      - Um CRIME DE BRANQUEAMENTO, em co-autoria com o\\narguido HÉLDER BATAGLIA, relativamente a transferência de €2.750.000,\\ncom origem em conta da ES ENTERPRISES na Suíça, de conta titulada pela\\nsociedade GREEN EMERALD na Suíça, controlada pelo arguido HÉLDER\\nBATAGLIA, para conta do CREDIT SUISSE, titulada pela sociedade em\\noffshore SAVOICES, controlada por si, em Novembro de 2011, crime p. e p.\\npelo art.368°-A, n.º 1, 2 e 3 do Código Penal;\\n      - Um CRIME DE BRANQUEAMENTO, em co-autoria com o\\narguido HENRIQUE GRANADEIRO, relativamente a transferência de\\n€3.967.611,00 (CHF 4.900.000,00), com origem em conta do banco PICTET\\ntitulada por este último e com destino a conta do Banco LOMBARD ODIER\\ntitulada pela sociedade em offshore BEGOLINO, controlada pelo arguido\\nRICARDO SALGADO, em 22 de Novembro de 2011, crime p. e p. pelo art.º\\n368.', '°-A, n.ºs 1, 2 e 3 do Cód.', 'Penal;\\n      - Um CRIME DE FALSIFICAÇÃO DE DOCUMENTO, em co-\\nautoria com o arguido HELDER BATAGLIA, relativamente a elaboração e\\nuso de contrato justificativo dos pagamentos CEL_2010 realizados através das\\ncontas da Suíça de HÉLDER BATAGLIA (“JUSTIFICATIVOS DOS\\nPAGAMENTOS CEL 2010 - HÉLDER BATAGLIA”) cujo objecto se referia\\na prestação de serviços no Congo e em outros países africanos, p. e p. pelo\\nart.º 256.', '°, n.º 1, alíneas a), d) e) do Código Penal;\\n\\n\\n                                                                         28\\n\\x0c\\n\\n                                   S.        R.\\n          TRIBUNAL CENTRAL DE INSTRUÇÃO CRIMINAL\\n\\n\\n      - Um CRIME DE FALSIFICAÇÃO DE DOCUMENTO, em co-\\nautoria com os arguidos JOSÉ SÓCRATES, CARLOS SANTOS SILVA,\\nHÉLDER BATAGLIA e JOAQUIM BARROCA, relativamente aos factos\\nreferentes ao conjunto de documentos que incluem o contrato promessa de\\ncompra e venda de imóvel em Angola, denominado KANHANGULO,\\ncontrato de intermediação AII e XLM, cartas de admissão do seu\\nincumprimento e perda de sinal e celebração de segundo contrato de prestação\\nde serviços entre a LEC e a XLM, bem como facturas e outra documentação\\nproduzida ao abrigo destes contratos, factos ocorridos a partir de 2010, p. e p.\\npelo art.º 256.°, n.º l, alíneas a), d) e e) do Código Penal;\\n      - Um CRIME DE FALSIFICAÇÃO DE DOCUMENTO, em co-\\nautoria com o arguido ZEINAL BAVA, relativamente a elaboração e uso de\\ncontrato justificativo dos pagamentos PT e CEL_2010 efectuados ao arguido\\nZEINAL BAVA, crime p. e p. pelo art.º 256.', '°, n.º 1, alíneas a), d) e e) do\\nCódigo Penal;\\n      -Um CRIME DE FRAUDE FISCAL QUALIFICADA, de que foi\\nbeneficiário, no que tange ao IRS apurado quanto ao ano de 2011, em co-\\nautoria com o arguido HENRIQUE GRANADEIRO, crime p. e p. pelos\\nartigos l03.', '°-l a), b) e c) e 104.', '°- 1 d), e) e f) do RGIT;\\n      - Um CRIME DE FRAUDE FISCAL QUALIFICADA, em co-\\nautoria com o arguido HÉLDER BATAGLIA, no que tange ao IRS apurado\\nquanto ao ano de 2006 relativamente a este último, crime p. e p. pelos arts.', 'l03°-l a), b) e c) e 104°- 1 d), e), f) e g) do RGIT;\\n      - Um CRIME DE FRAUDE FISCAL QUALIFICADA, em co-\\nautoria com o arguido HÉLDER BATAGLIA, no que tange ao IRS apurado\\n                                                                             29\\n\\x0c\\n\\n                                   S.         R.\\n           TRIBUNAL CENTRAL DE INSTRUÇÃO CRIMINAL\\n\\n\\nquanto ao ano de 2010 relativamente a este último, crime p. e p. pelos arts.', 'l03°-l a), b) e c) e 104°- 1 d), e), f) e g) do RGIT.', 'ZEINAL ABEDIN MOHAMED BAVA\\n\\n\\n      - Um CRIME DE CORRUPÇÃO PASSIVA, relativamente a\\nnegócios do Grupo PORTUGAL TELECOM e GES no que concerne aos\\npagamentos recebidos do arguido RICARDO SALGADO com origem em\\nconta da Suíça da ES ENTERPRISES, crime p, e p. pelas disposições\\nconjugadas dos arts.', '373°, n.º l, 374.', '°- A, n.ºs 2 e 3, e com referência aos\\narts.202°, al.', 'b) e 386°, n.º 2, todos do Código Penal;\\n      - Um CRIME DE BRANQUEAMENTO, em co-autoria com o\\narguido RICARDO SALGADO, relativamente aos pagamentos PT e\\nCEL_2010, recebidos entre 7 de Dezembro de 2007 e 20 de setembro de 2011\\ncom origem na ES ENTERPRISES, crime p. e p. pelo art.º 368°-A, n.º 1, 2 e 3\\ndo Código Penal;\\n      - Um CRIME DE FALSIFICAÇÃO DE DOCUMENTO, em co-\\nautoria com o arguido RICARDO SALGADO, relativamente a elaboração e\\nuso   de    contrato    justificativo   dos        pagamentos   PT   e   CEL-2010\\n(“JUSTIFICATIVOS DOS PAGAMENTOS PT E CEL_2010 - ZEINAL\\nBAVA”) efectuados ao arguido ZEINAL BAVA, crime p. e p. pelo art.º 256.', '°, n.º 1, alíneas a), d) e e) do Código Penal;\\n      - Um CRIME DE FRAUDE FISCAL QUALIFICADA, no que tange\\nao IRS apurado quanto ao ano de 2007 de que foi beneficiário, crime p. e p.\\npelos arts.', 'l03°-l a), b) e c) e 104°- 1 d), e) e f) do RGIT;\\n                                                                               30\\n\\x0c\\n\\n                                   S.       R.\\n          TRIBUNAL CENTRAL DE INSTRUÇÃO CRIMINAL\\n\\n\\n      - Um CRIME DE FRAUDE FISCAL QUALIFICADA, no que tange\\nao IRS apurado quanto ao ano de 2011 de que foi beneficiário, crime p. e p.\\npelos arts.', 'l03°-l a), b) e c) e 104°- 1 d), e) e f) do RGIT.', 'HENRIQUE MANUEL FUSCO GRANADEIRO\\n\\n\\n      - Um CRIME DE CORRUPÇÃO PASSIVA, relativamente a\\nnegócios do Grupo PORTUGAL TELECOM e GES no que concerne aos\\npagamentos recebidos do arguido RICARDO SALGADO com origem em\\nconta da Suíça da ES ENTERPRISES, crime p. e p. pelas disposições\\nconjugadas dos arts.373°, n.º l, 374°- A, n.ºs 2 e 3, e com referência aos\\narts.202°, al.', 'b) e 386°, n.º 2, todos do Código Penal;\\n      - Um CRIME DE BRANQUEAMENTO, em co-autoria com o\\narguido RICARDO SALGADO, relativamente aos pagamentos PT e\\nCEL_2010, realizados entre 9 de Julho de 2007 e 23 de Novembro de 2012,\\ncom origem em conta da Suíça da ES ENTERPRISES e com destino para\\ncontas tituladas por si na Suíça, crime p. e p. pelo art.º 368.', '°-A, n.ºs 1, 2 e 3\\ndo Cód.', 'Penal;\\n      - Um CRIME DE PECULATO, relativamente aos pagamentos\\nefectuados pela PT a LIMA SERRA FERNANDES, no período compreendido\\nentre 30 de Julho de 2007 e 9 de Julho de 2008, no valor total de €\\n618.310,00, crime p. e p. pelo art.º 375°, n.º 1 do Código Penal, com\\nreferência ao art.386°, n.º 1 e 2 do mesmo diploma legal;\\n      - Um CRIME DE ABUSO DE CONFIANÇA, em co-autoria com o\\narguido RICARDO SALGADO, relativamente a transferência de €\\n                                                                               31\\n\\x0c\\n\\n                                   S.        R.\\n          TRIBUNAL CENTRAL DE INSTRUÇÃO CRIMINAL\\n\\n\\n3.967.611,00 (CHF 4.900.000,00), com origem em conta do banco PICTEC\\ntitulada pelo arguido HENRIQUE GRANADEIRO e com destino a conta do\\nBanco LOMBARD ODIER titulada pela sociedade em offshore BEGOLINO,\\ncontrolada pelo arguido RICARDO SALGADO, em 22 de Novembro de\\n2011, crime p. e p. pelo art.º 205.', '°, n.ºs l e n.°4, alínea b) do Código Penal;\\n      - Um CRIME DE BRANQUEAMENTO, em co-autoria com o\\narguido    RICARDO        SALGADO,         relativamente        a   transferência   de\\n€3.967.611,00 (CHF 4.900.000,00), com origem em conta do banco PICTET\\ntitulada pelo arguido HENRIQUE GRANADEIRO e com destino a conta do\\nBanco LOMBARD ODIER, titulada pela sociedade em offshore BEGOLINO,\\ncontrolada pelo arguido RICARDO SALGADO, em 22 de Novembro de\\n2011, crime p. e p. pelo art.º 368°A, n.ºs 1, 2 e 3 do Cód.', 'Penal;\\n      - Um CRIME DE FRAUDE FISCAL QUALIFICADA, no que tange\\nao IRS apurado quanto ao ano de 2007 de que foi beneficiário, crime p. e p.\\npelos arts.', 'l03°-l a), b) e c) e 104°- 1 d), e) e f) do RGIT;\\n      - Um CRIME DE FRAUDE FISCAL QUALIFICADA, no que tange\\nao IRS apurado quanto aos anos de 2010 a 2012 de que foi beneficiário, crime\\np. e p. pelos arts.', 'l03°-l a), b) e c) e 104°- 1 d), e) e f) do RGIT;\\n      - Um CRIME DE FRAUDE FISCAL QUALIFICADA, em co-\\nautoria com o arguido RICARDO SALGADO, no que tange ao IRS apurado\\nquanto ao ano de 2011, crime p. e p. pelos arts.', 'l03°-l a), b), c) e 104°- 1 d), e)\\ne f) do RGIT.', 'ARMANDO ANTÓNIO MARTINS VARA\\n\\n\\n                                                                                    32\\n\\x0c\\n\\n                                   S.       R.\\n           TRIBUNAL CENTRAL DE INSTRUÇÃO CRIMINAL\\n\\n\\n         - Um CRIME DE CORRUPÇÃO PASSIVA DE TITULAR DE\\nCARGO POLITICO, em co-autoria com o arguido JOSÉ SÓCRATES, com\\nreferência a actos praticados no interesse dos arguidos Diogo Gaspar Ferreira\\ne Rui Horta e Costa com utilização das sociedades do Grupo VALE DO\\nLOBO, crime p. e p. pelas disposições conjugadas dos arts.', '1.°, 2.', '°, 3.', '°, n.º 1,\\nalínea d), 17.', '°, n.º 1 e 19.', '°, n.ºs 2 e 3 da Lei 34/87, de 16 de julho, na\\nredacção introduzida pela Lei n° 108/2001, de 28 de Novembro- Lei dos\\nCrimes de Responsabilidade dos Titulares de Cargos Políticos, com referência\\naos arts.28° e 202°, alínea b) do Código Penal;\\n         - Um CRIME DE BRANQUEAMENTO, em co-autoria com os\\narguidos JOSÉ SÓCRATES, CARLOS SANTOS SILVA, JOAQUIM\\nBARROCA, DIOGO GASPAR FERREIRA, RUI HORTA E COSTA e\\nBÁRBARA VARA, relativamente as transferências com origem no cidadão\\nholandês Van Doreen, referentes aos financiamentos concedidos ao Grupo\\nVALE DO LOBO, com passagem por conta bancaria da Suíça do arguido\\nJOAQUIM BARROCA, crime p. e p. pelo art.º 368°-A, n° 1, 2 e 3 do Código\\nPenal;\\n         - Um CRIME DE FRAUDE FISCAL QUALIFICADA, no que tange\\nao IRS apurado quanto aos anos de 2005 a 2008 de que foi beneficiário, crime\\np. e p. pelos arts.', 'l03°-l a), b) e 104°- 1 d) e f) do RGIT;\\n         - Um CRIME DE FRAUDE FISCAL QUALIFICADA, no que tange\\nao IRS apurado quanto ao ano de 2008 de que foi beneficiário, crime p. e p.\\npelos arts.', 'l03°-l a), b) e 104°- 1 d) e f) do RGIT;\\n         - Um CRIME DE BRANQUEAMENTO, em autoria material e com a\\nparticipação da arguida BÁRBARA VARA a título de cumplicidade,\\n                                                                               33\\n\\x0c\\n\\n                                  S.        R.\\n           TRIBUNAL CENTRAL DE INSTRUÇÃO CRIMINAL\\n\\n\\nrelativamente a transferência de fundos para Portugal com origem em contas\\ntituladas pelas sociedades em offshore VAMA HOLDINGS e WALKER\\nHOLDINGS        na   Suíça    com      utilização   da   sociedade   CITYWIDE\\nUNIPESSOAL LDA., crime p. e p. pelo art.368°-A, n.º 1, 2 e 3 do Cód.', 'Penal.', 'BÁRBARA CATARINA FIGUEIRA VARA\\n\\n\\n         - Um CRIME DE BRANQUEAMENTO, em co-autoria com os\\narguidos JOSÉ SÓCRATES, CARLOS SANTOS SILVA, JOAQUIM\\nBARROCA, ARMANDO VARA, DIOGO GASPAR FERREIRA e RUI\\nHORTA E COSTA, relativamente as transferências com origem no cidadão\\nholandês Van Doreen, referentes aos financiamentos concedidos ao Grupo\\nVALE DO LOBO, com passagem por conta bancaria da Suíça do arguido\\nJOAQUIM BARROCA, crime p. e p. pelo art.º 368°-A, n° 1, 2 e 3 do Código\\nPenal;\\n         - Um CRIME DE BRANQUEAMENTO, a titulo de cumplicidade e\\ndo qual e autor material o arguido ARMANDO VARA, relativamente a\\ntransferência de fundos para Portugal com origem em contas tituladas pelas\\nsociedades em offshore VAMA HOLDINGS e WALKER HOLDINGS na\\nSuíça e com utilização da sociedade CITYWIDE UNIPESSOAL LDA., crime\\np. e p. pelo art.º 368°-A, n.ºs 1,2 e 3 do Cód.', 'Penal.', 'RUI MIGUEL DE OLIVEIRA HORTA E COSTA\\n\\n\\n\\n                                                                           34\\n\\x0c\\n\\n                                  S.        R.\\n           TRIBUNAL CENTRAL DE INSTRUÇÃO CRIMINAL\\n\\n\\n         - Um CRIME DE CORRUPÇÃO ACTIVA DE TITULAR DE\\nCARGO POLITICO, em co-autoria com o arguido JOSÉ DIOGO GASPAR\\nFERREIRA, com referencia a actos praticados por José Sócrates e Armando\\nVara no interesse dos primeiros, crime p. e p. pelas disposições conjugadas\\ndos arts.', '2°, 3°, n.º 1, alínea d), 18°, n.º 1 e 19° n.ºs 2 e 3 e 30° da Lei 34/87,\\nde 16 de julho, na redacção introduzida pela Lei n° 108/2001, de 28 de\\nNovembro- Lei dos Crimes de Responsabilidade dos Titulares de Cargos\\nPolíticos, com referência ao art.º 202°, alínea b) do Código Penal;\\n         - Um CRIME DE BRANQUEAMENTO, em co-autoria com os\\narguidos JOSÉ SÓCRATES, CARLOS SANTOS SILVA, JOAQUIM\\nBARROCA, ARMANDO VARA, DIOGO GASPAR FERREIRA e\\nBÁRBARA VARA, relativamente as transferências com origem no cidadão\\nholandês Van Doreen, referentes aos financiamentos concedidos ao Grupo\\nVALE DO LOBO, com passagem por conta bancaria da Suíça do arguido\\nJOAQUIM BARROCA, crime p. e p. pelo art.368°-A, n° 1, 2 e 3 do Código\\nPenal;\\n         - Um CRIME DE FRAUDE FISCAL QUALIFICADA, em co-\\nautoria com os arguidos OCEANO CLUBE EMPREENDIMENTOS\\nTURÍSTICOS        DO ALGARVE,           SA,      VALE    DO      LOBO   RESORT\\nTURÍSTICO DE LUXO, SA e JOSÉ DIOGO DA ROCHA VIEIRA\\nGASPAR FERREIRA no que tange ao IRC apurado quanto ao ano de 2007 da\\nsociedade VALE DO LOBO RESORT TURÍSTICO DE LUXO, SA, crime p.\\ne p. pelos arts.', 'l03°-l a), b) e c) e 104°- 1 d) e g) do RGIT;\\n         - Um CRIME DE FRAUDE FISCAL QUALIFICADA, de que foi\\nbeneficiário, em co-autoria com os arguidos VALE DO LOBO RESORT\\n                                                                                35\\n\\x0c\\n\\n                                  S.       R.\\n          TRIBUNAL CENTRAL DE INSTRUÇÃO CRIMINAL\\n\\n\\nTURÍSTICO DE LUXO, SA, OCEANO CLUBE EMPREENDIMENTOS\\nTURÍSTICOS DO ALGARVE SA, no que tange ao IRS apurado quanto ao\\nano de 2009, crime p. e p. pelos arts.', 'l03°-l a), b) e c) e 104°- 1 d) e g) do\\nRGIT.', 'JOSÉ DIOGO DA ROCHA VIEIRA GASPAR FERREIRA\\n\\n\\n      - Um CRIME DE CORRUPÇÃO ACTIVA DE TITULAR DE\\nCARGO POLITICO, em co-autoria com o arguido RUI HORTA E COSTA,\\ncom referência a actos praticados por José Sócrates e Armando Vara no\\ninteresse dos primeiros, crime p. e p. pelas disposições conjugadas dos arts.', 'l°,\\n2°, 3°, n.º 1, alínea d), 18°, n.º 1, 19°, n.ºs 2 e 3 e 30° da Lei 34/87, de 16 de\\njulho, na redacção introduzida pela Lei n° 108/2001, de 28 de Novembro- Lei\\ndos Crimes de Responsabilidade dos Titulares de Cargos Políticos), com\\nreferência ao art.202°, alínea b) do Código Penal;\\n      - Um CRIME DE BRANQUEAMENTO, em co-autoria com os\\narguidos JOSÉ SÓCRATES, CARLOS SANTOS SILVA, JOAQUIM\\nBARROCA, ARMANDO VARA, RUI HORTA E COSTA e BÁRBARA\\nVARA, relativamente as transferências com origem no cidadão holandês Van\\nDoreen, referentes aos financiamentos concedidos ao Grupo VALE DO\\nLOBO, com passagem por conta bancária da Suíça do arguido JOAQUIM\\nBARROCA, crime p. e p. pelo art.368°-A, n° 1, 2 e 3 do Código Penal;\\n      - Um CRIME DE FRAUDE FISCAL QUALIFICADA, em co-\\nautoria com os arguidos VALE DO LOBO RESORT TURISTICO DE\\nLUXO, SA, OCEANO CLUBE EMPREENDIMENTOS TURÍSTICOS DO\\n                                                                               36\\n\\x0c\\n\\n                                  S.        R.\\n          TRIBUNAL CENTRAL DE INSTRUÇÃO CRIMINAL\\n\\n\\nALGARVE, SA E RUI MIGUEL DE OLIVEIRA HORTA E COSTA, no que\\ntange ao IRC apurado quanto ao ano de 2007 da sociedade VALE DO LOBO\\nRESORT turístico DE LUXO, SA, crime p. e p. pelos arts.', 'l03°-l a), b) e c) e\\n104°- 1 d) e g) do RGIT;\\n      - Um CRIME DE FRAUDE FISCAL QUALIFICADA, de que foi\\nbeneficiário, em co-autoria com os arguidos VALE DO LOBO RESORT\\nTURÍSTICO DE LUXO, SA, OCEANO CLUBE EMPREENDIMENTOS\\nTURÍSTICOS DO ALGARVE, SA, no que tange ao IRS apurado quanto ao\\nano de 2009, p. e p. pelos arts.', 'l03°-l a), b) e c) e 104°- 1 d) e g) do RGIT;\\n      - Um CRIME DE FRAUDE FISCAL QUALIFICADA, em co-\\nautoria com a arguida PEPELAN - CONSULTORIA E GESTAO, no que\\ntange ao IRC apurado quanto ao ano de 2008, crime p. e p. pelos arts.', 'l03°-l\\na), b) e c) e 104°- 1 d) e f) do RGIT;\\n      - Um CRIME DE BRANQUEAMENTO DE CAPITAIS, em co-\\nautoria com a sociedade PEPELAN - CONSULTORIA E GESTAO\\nrelativamente a justificativos criados para o recebimento de fundos através da\\nalienação de imóvel cuja propriedade estava titulada por esta sociedade e com\\nutilização da sociedade em offshore CLIFFSOL LIMITED, crime p. e p. pelo\\nart.368°-A, n.º 1, 2 e 3 do Código Penal.', 'JOSÉ PAULO BERNARDO PINTO DE SOUSA\\n\\n\\n      - Um CRIME DE BRANQUEAMENTO, em co-autoria com os\\narguidos JOSÉ SÓCRATES, RICARDO SALGADO, HÉLDER BATAGLIA\\ne CARLOS SANTOS SILVA, relativamente a utilização das contas em que o\\n                                                                                 37\\n\\x0c\\n\\n                                   S.       R.\\n           TRIBUNAL CENTRAL DE INSTRUÇÃO CRIMINAL\\n\\n\\nmesmo era autorizado na Suíça e operações realizadas a partir das mesmas\\nentre 2006 e 2008, crime p. e p. pelo art.º 368°-A, n.º 1, 2 e 3 do Código\\nPenal;\\n         - Um CRIME DE BRANQUEAMENTO, em co-autoria com os\\narguidos JOSÉ SÓCRATES, RICARDO SALGADO, HÉLDER BATAGLIA\\ne CARLOS SANTOS SILVA relativamente aos movimentos financeiros\\njustificados pelos contratos PINSONG, realizados no ano de 2007 e até ao\\ninício de 2008, a partir de conta da Suíça da ES ENTERPRISES, crime p. e p.\\npelo art.º 368.', '°-A, n° 1, 2 e 3 do Código Penal.', 'HÉLDER JOSÉ BATAGLIA DOS SANTOS\\n\\n\\n         - Um CRIME DE ABUSO DE CONFIANÇA, em co-autoria com o\\narguido     RICARDO       SALGADO,        relativamente     a   transferência      de\\n€2.750.000,00 com origem em conta da Suíça da ES ENTERPRISES, de\\nconta titulada pela sociedade GREEN EMERALD na Suíça, controlada por si,\\npara conta do CREDIT SUISSE, titulada pela sociedade em offshore\\nSAVOICES, controlada pelo arguido RICARDO SALGADO, em Novembro\\nde 2011, crime p. e p. pelo art.º 205.', '°, n.º l e n.°4, alínea b) do Cód.', 'Penal;\\n         - Um CRIME DE BRANQUEAMENTO, em co-autoria com os\\narguidos JOSÉ SÓCRATES, RICARDO SALGADO, JOSÉ PAULO PINTO\\nDE SOUSA e CARLOS SANTOS SILVA relativamente a utilização das\\ncontas em que JOSÉ PAULO PINTO DE SOUSA era autorizado na Suíça e\\noperações realizadas a partir das mesmas entre 2006 e 2008, crime p. e p. pelo\\nart.º º368°-A, n.º 1, 2 e 3 do Código Penal;\\n                                                                                   38\\n\\x0c\\n\\n                                 S.       R.\\n           TRIBUNAL CENTRAL DE INSTRUÇÃO CRIMINAL\\n\\n\\n         - Um CRIME DE BRANQUEAMENTO, em co-autoria com os\\narguidos JOSÉ SÓCRATES, RICARDO SALGADO, JOSÉ PAULO PINTO\\nDE SOUSA e CARLOS SANTOS SILVA relativamente aos movimentos\\nfinanceiros justificados pelos contratos PINSONG, realizados no ano de 2007\\ne até ao início de 2008, com origem em conta da Suíça da ES ENTERPRISES,\\ncrime p. e p. pelo art.º 368°-A, n° 1, 2 e 3 do Código\\nPenal;\\n         - Um CRIME DE BRANQUEAMENTO, em co-autoria com os\\narguidos JOSÉ SÓCRATES, RICARDO SALGADO, CARLOS SANTOS\\nSILVA e JOAQUIM BARROCA relativamente aos movimentos financeiros\\njustificados pelos contratos PINSONG, realizados a partir de Abril de 2008,\\ncom origem em conta da Suíça da ES ENTERPRISES com intervenção das\\ncontas do arguido JOAQUIM BARROCA, crime p. e p. pelo art.º 368.', '°-A,\\nn.ºs 1, 2 e 3 do Código Penal;\\n         - Um CRIME DE BRANQUEAMENTO, em co-autoria com os\\narguidos    JOSÉ     SÓCRATES,        RICARDO        SALGADO,     JOAQUIM\\nBARROCA, CARLOS SANTOS SILVA e com as sociedades LEC SA, LEC\\nSGPS, LENA SGPS e XLM, relativamente aos movimentos financeiros\\nabrangidos pela operação CEL_2010, ocorridos a partir de 2010, justificados\\natravés de contrato promessa de compra e venda com perda de sinal referente\\nao imóvel KANHANGULO, sito em Luanda, e introdução desses fundos no\\nGrupo LENA, crime p. e p. pelo art.º 368°-A, n.ºs 1, 2 e 3 do Código Penal;\\n         - Um CRIME DE BRANQUEAMENTO, em co-autoria com o\\narguido RICARDO SALGADO, relativamente a transferência de €2.750.000,\\ncom origem em conta da ES ENTERPRISES na Suíça, de conta titulada pela\\n                                                                              39\\n\\x0c\\n\\n                                   S.        R.\\n          TRIBUNAL CENTRAL DE INSTRUÇÃO CRIMINAL\\n\\n\\nsociedade GREEN EMERALD na Suíça, controlada por si, para conta do\\nCREDIT SUISSE, titulada pela sociedade em offshore SAVOICES,\\ncontrolada pelo arguido RICARDO SALGADO, em Novembro de 2011,\\ncrime p. e p. pelo art.º 368°-A, n.ºs 1, 2 e 3 do Código Penal;\\n      - Um CRIME DE FALSIFICAÇÃO DE DOCUMENTO, em co-\\nautoria com o arguido RICARDO SALGADO, relativamente a elaboração e\\nuso de contrato justificativo dos pagamentos CEL 2010 realizados através das\\ncontas da Suíça de HÉLDER BATAGLIA (“JUSTIFICATIVOS DOS\\nPAGAMENTOS CEL 2010 - HÉLDER BATAGLIA”), cujo objecto se referia\\na prestação de serviços no Congo e em outros países africanos, crime p. e p.\\npelo art.º 256.', '°, n.º 1, alíneas a), d) e e) do Código Penal;\\n      - Um CRIME DE FALSIFICAÇÃO DE DOCUMENTO, em co-\\nautoria com os arguidos JOSÉ SÓCRATES, CARLOS SANTOS SILVA,\\nRICARDO SALGADO e JOAQUIM BARROCA, relativamente aos factos\\nreferentes ao conjunto de documentos que incluem o contrato promessa de\\ncompra e venda de imóvel em Angola, denominado KANHANGULO,\\ncontrato de intermediação AII e XLM, cartas de admissão do seu\\nincumprimento e perda de sinal e celebração de segundo contrato de prestação\\nde serviços entre a LEC e a XLM, bem como facturas e outra documentação\\nproduzida ao abrigo destes contratos, factos ocorridos a partir de 2010, crime\\np. e p. pelo art.º 256.°, n.º l, alíneas a), d) e e) do Código Penal;\\n      - Um CRIME DE FRAUDE FISCAL QUALIFICADA, de que foi\\nbeneficiário, em co-autoria com o arguido RICARDO SALGADO, no que\\ntange ao IRS apurado quanto ao ano de 2006, crime p. e p. pelos arts.', '103°-1\\na), b) e c) e 104°- 1 d), e), f) e g) do RGIT;\\n                                                                           40\\n\\x0c\\n\\n                                   S.       R.\\n          TRIBUNAL CENTRAL DE INSTRUÇÃO CRIMINAL\\n\\n\\n      - Um CRIME DE FRAUDE FISCAL QUALIFICADA, de que foi\\nbeneficiário, em co-autoria com o arguido RICARDO SALGADO, no que\\ntange ao IRS apurado quanto ao ano de 2010, crime p. e p. pelos arts.', '103°-1\\na), b) e c) e 104°- 1 d), e), f) e g) do RGIT.', 'GONÇALO NUNO MENDES DA TRINDADE FERREIRA\\n\\n\\n      - Um CRIME DE BRANQUEAMENTO, em co-autoria com os\\narguidos JOSÉ SÓCRATES e CARLOS SANTOS SILVA, quanto a aquisição\\nde imóveis em Portugal, com o retomo do preço pago para a esfera\\npatrimonial do arguido JOSÉ SÓCRATES, de forma justificada, factos\\nocorridos entre 2010 e 2012, crime p. e p. pelo art.º 368°-A, n° 1, 2 e 3 do\\nCódigo Penal;\\n      - Um CRIME DE BRANQUEAMENTO, em co-autoria com os\\narguidos JOSÉ SÓCRATES e CARLOS SANTOS SILVA, relativamente a\\nprodução e uso de documentação referente a aquisição e subsequente\\narrendamento do apartamento de Paris, sito na Av.', 'Président Wilson, crime p.\\ne p. pelo art.368°-A, n° 1, 2 e 3 do Código Penal;\\n      - Um CRIME DE BRANQUEAMENTO, em co-autoria com os\\narguidos JOSÉ SÓCRATES e CARLOS SANTOS SILVA, relativamente a\\nentrega por este último arguido de quantias pertencentes ao arguido JOSÉ\\nSÓCRATES para depósito em contas bancárias do arguido GONÇALO\\nFERREIRA e para guardar em cofre bancário e em contas tituladas pelo\\nmesmo, com intenção de ocultar a titularidade das mesmas pelo arguido JOSÉ\\n\\n\\n                                                                         41\\n\\x0c\\n\\n                                  S.        R.\\n          TRIBUNAL CENTRAL DE INSTRUÇÃO CRIMINAL\\n\\n\\nSÓCRATES, factos ocorridos nos anos de 2012 e 2013, crime p. e p. pelo\\nart.368°-A, n° 1, 2 e 3 do Código Penal;\\n      - Um CRIME DE FALSIFICAÇÃO DE DOCUMENTO, em co-\\nautoria com os arguidos JOSÉ SÓCRATES e CARLOS SANTOS SILVA,\\nrelativamente a produção e uso de documentação referente a aquisição e\\nsubsequente arrendamento do apartamento de Paris, sito na Av.', 'Président\\nWilson, crime p. e p. pelo art.º 256°, n.º l, alíneas a), d) e e) do Código Penal.', 'INÊS MARIA CARRUSCA PONTES DO ROSÁRIO\\n\\n\\n      - Um CRIME DE BRANQUEAMENTO, em co-autoria com os\\narguidos CARLOS SANTOS SILVA e JOSÉ SÓCRATES, relativamente a\\ndisponibilização das suas contas bancarias junto do MONTEPIO GERAL para\\nrecepção de fundos, provenientes do arguido CARLOS SANTOS SILVA para\\nentrega ao arguido JOSÉ SÓCRATES, ocultando a titularidade destas quantias\\npor este último arguido, factos ocorridos nos anos de 2013 e 2014, crime p. e\\np. pelo art.368°-A, n° 1, 2 e 3 do Código Penal.', 'JOÃO PEDRO SOARES ANTUNES PERNA\\n\\n\\n      - Um CRIME DE BRANQUEAMENTO, em co-autoria com os\\narguidos JOSÉ SÓCRATES e CARLOS SANTOS SILVA, com referência\\naos factos relacionados com a utilização da sua conta bancária para a\\npassagem de fundos pertencentes ao arguido JOSÉ SÓCRATES recebidos do\\narguido CARLOS SANTOS SILVA, e sua transferência subsequente para a\\n                                                                                 42\\n\\x0c\\n\\n                                    S.       R.\\n          TRIBUNAL CENTRAL DE INSTRUÇÃO CRIMINAL\\n\\n\\nconta do arguido JOSÉ SÓCRATES, factos ocorridos nos anos de 2011 a\\n2014, crime p. e p. pelo art.º 368.', '°-A, n° 1 e 2 do Código Penal;\\n      - Um CRIME DE DETENÇÃO DE ARMA PROIBIDA,\\nrelativamente a posse de arma de fogo transformada e respectivas munições,\\ncrime p. e p. pelas disposições conjugadas dos artigos 86.', '°, n.º l alínea c), n.º\\nl, alíneas x), az) e ae) do artigo 2°, n.º l, do art.3° e n.°4 alínea a) do art.3.', '° da\\nLei n.º 5/2006, de 23 de fevereiro.', 'SOFIA MESQUITA CARVALHO FAVA\\n\\n\\n      - Um CRIME DE BRANQUEAMENTO, em co-autoria com os\\narguidos JOSÉ SÓCRATES e CARLOS SANTOS SILVA, relativamente ao\\nrecebimento de quantias com origem no arguido JOSÉ SÓCRATES através da\\nsociedade XLM e a aquisição de um imóvel, designado “Monte das\\nMargaridas”, no interesse de integrar património familiar do arguido JOSÉ\\nSÓCRATES, com registo em nome desta arguida, incluindo montagem de\\noperação de financiamento e formas de custear as prestações da mesma, factos\\nocorridos entre 2011 e 2014, crime p. e p. pelo art.º 368°-A, n° 1, 2 e 3 do\\nCódigo Penal;\\n      - Um CRIME DE FALSIFICAÇÃO DE DOCUMENTO, em co-\\nautoria com os arguidos JOSÉ SÓCRATES e CARLOS SANTOS SILVA,\\ncom referência aos contratos de prestação de serviços celebrados entra a XLM\\ne a arguida SOFIA FAVA, que serviram de suporte ao recebimento de\\nquantias por esta última com origem no arguido JOSÉ SÒCRATES, crime p. e\\np. pelo art.º 256.', '°, n.º l, alíneas a), d) e e) do Código Penal.', '43\\n\\x0c\\n\\n                                    S.     R.\\n          TRIBUNAL CENTRAL DE INSTRUÇÃO CRIMINAL\\n\\n\\n\\n       RUI MANUEL ANTUNES MÃO DE FERRO\\n\\n\\n      - Um CRIME DE BRANQUEAMENTO, em co-autoria com os\\narguidos JOSÉ SÓCRATES, CARLOS SANTOS SILVA, JOAQUIM\\nBARROCA e com as sociedades LEC SA, XLM e RMF CONSULTING\\nrelativamente a utilização desta última sociedade para a colocação de fundos\\ndestinados ao arguido JOSÉ SÓCRATES e utilização dos mesmos no seu\\ninteresse através do pagamento de despesas e colocação de numerário a sua\\ndisposição, entre 2010 e 2014, crime p. e p. pelo art.368°-A, n° 1, 2 e 3 do\\nCódigo Penal;\\n      -   Um     CRIME         DE    FALSIFICAÇÃO         DE     DOCUMENTO\\nrelativamente aos relatórios de actividades da XLM, em co-autoria com os\\narguidos CARLOS SANTOS SILVA e JOAQUIM BARROCA, relativos ao\\nforjar e utilização da execução do primeiro contrato entre a LEC SA e a XLM,\\nfactos ocorridos entre 2011 e 2013, crime p. e p. pelo art.º 256.', '°, n.º l, alíneas\\na), d) e e) do Código Penal;\\n      - Um CRIME DE FALSIFICAÇÃO DE DOCUMENTO, praticado,\\nem co-autoria, com os arguidos JOSÉ SÓCRATES e CARLOS SANTOS\\nSILVA com referência aos contratos de prestação de serviços celebrados entre\\nas sociedades XLM e RMF CONSULTING, bem como facturas e outra\\ndocumentação produzida ao abrigo dos mesmos, que serviram de suporte a\\ncirculação de quantias entre estas sociedades, com origem e destino no\\narguido JOSÉ SÓCRATES, crime p. e p. pelo art.º 256.', '°, n.º l, alíneas a), d) e\\ne) do Código Penal;\\n                                                                                44\\n\\x0c\\n\\n                                 S.     R.\\n         TRIBUNAL CENTRAL DE INSTRUÇÃO CRIMINAL\\n\\n\\n      - Um CRIME DE FALSIFICAÇÃO DE DOCUMENTO, em co-\\nautoria com os arguidos JOSE SÓCRATES e CARLOS SANTOS SILVA\\ncom referência aos contratos de prestação de serviços celebrados entre a\\nsociedade RMF CONSULTING e Domingos Farinho e Jane Kirkby, bem\\ncomo facturas e outra documentação produzida ao abrigo dos mesmos, que\\nserviram de suporte ao recebimento de quantias por estes últimos com origem\\nno arguido JOSÉ SÓCRATES, crime p. e p. pelo art.º 256.', '°, n.º l, alíneas a),\\nd) e e) do Código Penal;\\n      - Um CRIME DE FALSIFICAÇÃO DE DOCUMENTO, em co-\\nautoria com os arguidos JOSÉ SÓCRATES e CARLOS SANTOS SILVA\\ncom referência aos contratos de prestação de serviços celebrados entre a\\nsociedade RMF CONSULTING e António Manuel Peixoto e António Mega\\nPeixoto, bem como facturas e outra documentação produzida ao abrigo dos\\nmesmos, que serviram de suporte ao recebimento de quantias por estes últimos\\ncom origem no arguido JOSÉ SÓCRATES, crime p. e p. pelo art.º 256.°, n.º l,\\nalíneas a), d) e e) do Código Penal.', 'São, ainda, imputáveis os seguintes crimes às sociedades:\\n\\n\\n      LENA ENGENHARIA E CONSTRUÇÕES.', 'SA\\n\\n\\n      - Um CRIME DE CORRUPÇÃO ACTIVA, em co-autoria com as\\nsociedades LEC SGPS SA e LENA SGPS SA relativamente a factos\\nreferentes a pessoa do arguido JOSÉ SÓCRATES, este com mediação do\\narguido CARLOS SANTOS SILVA e em benefício do Grupo LENA, com\\n                                                                          45\\n\\x0c\\n\\n                                 S.       R.\\n         TRIBUNAL CENTRAL DE INSTRUÇÃO CRIMINAL\\n\\n\\nreferencias aos anos de 2005 a 2011, crime p. e p. pelos arts.374° e 374°-A,\\nn.º 2 do Cód.', 'Penal, com referência aos arts.', '11°, n.º 2 e 202°, alínea b) do\\nmesmo diploma legal;\\n      - Um CRIME DE CORRUPÇÃO ACTIVA, em co-autoria com os\\narguidos CARLOS SANTOS SILVA, JOAQUIM BARROCA, JOSÉ\\nRIBEIRO DOS SANTOS e com as sociedades XMI, LEC SGPS e LENA SA,\\nrelativamente ao funcionário LUIS MARQUES e a factos ocorridos nos anos\\nde 2007 a 2009, crime p. e p. pelo art.º 374°, n.º l do Código Penal, com\\nreferência ao art.º 11º n.º 2 do mesmo diploma legal;\\n      - Um CRIME DE BRANQUEAMENTO, em co-autoria com os\\narguidos JOSÉ SÓCRATES, CARLOS SANTOS SILVA, JOAQUIM\\nBARROCA e a sociedade XLM, entre 2009 e 2015, relativamente a utilização\\ndesta última sociedade para a colocação de fundos destinados ao arguido\\nJOSÉ SÓCRATES e utilização dos mesmos no seu interesse no pagamento de\\ndespesas e por distribuição de dividendos para contas tituladas pelo arguido\\nCARLOS SANTOS SILVA, crime p. e p. pelo art.º 368.°-A, n°s 1, 2 e 3 do\\nCódigo Penal, com referência ao art.º 11º n.º 2 do mesmo diploma legal;\\n      - Um CRIME DE BRANQUEAMENTO, em co-autoria com os\\narguidos JOSÉ SÓCRATES, CARLOS SANTOS SILVA, JOAQUIM\\nBARROCA, RUI MÃO DE FERRO e com as sociedades XLM e RMF\\nCONSULTING, relativamente a utilização desta última sociedade, entre 2010\\ne 2014, para a colocação de fundos destinados ao arguido JOSÉ SÓCRATES\\ne utilização dos mesmos no seu interesse através do pagamento de despesas e\\ncolocação de numerário a sua disposição, crime p. e p. pelo art.º 368.°-A, n° 1,\\n\\n\\n                                                                             46\\n\\x0c\\n\\n                                  S.       R.\\n           TRIBUNAL CENTRAL DE INSTRUÇÃO CRIMINAL\\n\\n\\n2 e 3 do Código Penal, com referência ao art.º l1°, n.°2 do mesmo diploma\\nlegal;\\n         - Um CRIME DE BRANQUEAMENTO, em co-autoria com os\\narguidos JOSÉ SÓCRATES, RICARDO SALGADO, HÉLDER BATAGLIA,\\nJOAQUIM BARROCA e CARLOS SANTOS SILVA e com as sociedades\\nLEC SGPS, LENA SGPS e XLM, relativamente aos movimentos financeiros\\nabrangidos pela operação CEL_2010, ocorridos a partir de 2010, justificados\\natravés de contrato promessa de compra e venda com perda de sinal referente\\nao imóvel KANHANGULO, sito em Luanda, e introdução desses fundos no\\nGrupo LENA, crime p. e p. pelo art.º 368.°-A, n.º 1, 2 e 3 do Código Penal,\\ncom referência ao art.º 11.°, n.º 2 do mesmo diploma legal;\\n         - Um CRIME DE FRAUDE FISCAL QUALIFICADA, em co-\\nautoria com os arguidos JOSÉ SÓCRATES, CARLOS SANTOS SILVA,\\nJOAQUIM BARROCA e XLM - SOCIEDADE DE ESTUDOS E\\nPROJECTOS LDA, no que tange ao IRS apurado quanto aos anos de 2009 a\\n2012, relativamente ao arguido referido em primeiro lugar, crime p. e p. pelos\\narts.', 'l03°-l a), b) e c) e 104°- 1 d), e) e f) e n.º 2 do RGIT, atualmente n.º 2 a)\\ndo art.104.', '° do RGIT e art.', '7.', '° do mesmo diploma legal;\\n         - Um CRIME DE FRAUDE FISCAL QUALIFICADA, em co-\\nautoria, com os arguidos JOSÉ SÓCRATES, CARLOS SANTOS SILVA,\\nJOAQUIM BARROCA e XLM - SOCIEDADE DE ESTUDOS E\\nPROJECTOS LDA, no que tange ao IRS apurado quanto aos anos de 2013 a\\n2015, relativamente ao arguido referido em primeiro lugar, crime p. e p. pelos\\narts.', '103.°- 1ina), b) e c) e 104.', '°- 1 d), e) e n.º 2 a) e n.°3 do RGIT e art.', '7.°\\ndo mesmo diploma legal.', '47\\n\\x0c\\n\\n                                 S.       R.\\n         TRIBUNAL CENTRAL DE INSTRUÇÃO CRIMINAL\\n\\n\\n\\n      LENA ENGENHARIA E CONSTRUÇÃO SGPS\\n\\n\\n      - Um CRIME DE CORRUPÇÃO ACTIVA, em co-autoria com as\\nsociedades LEC SA e LENA SGPS SA relativamente ao arguido JOSÉ\\nSÓCRATES, este com mediação do arguido CARLOS SANTOS SILVA e em\\nbenefício do Grupo LENA, praticados aos anos de 2005 a 2011, crime p. e p.\\npelos arts.374° e 374°-A, n.º 2 do Cód.', 'Penal, com referência aos arts.', '11°, n.º\\n2 e 202°, alínea b) do mesmo diploma legal;\\n      - Um CRIME DE CORRUPÇÃO ACTIVA, em co-autoria com os\\narguidos CARLOS SANTOS SILVA, JOAQUIM BARROCA, JOSÉ\\nRIBEIRO DOS SANTOS e com as sociedades XMI, LEC SA e LENA SA,\\nrelativamente ao funcionário LUIS MARQUES, nos anos de 2007 a 2009,\\ncrime p. e p. pelo art.374°, n.º l do Código Penal, com referência ao art.º l1°,\\nn.º 2 do mesmo diploma legal;\\n      - Um CRIME DE BRANQUEAMENTO, em co-autoria com os\\narguidos JOSÉ SÓCRATES, RICARDO SALGADO, HÉLDER BATAGLIA,\\nJOAQUIM BARROCA e CARLOS SANTOS SILVA e com as sociedades\\nLEC SA, LENA SGPS e XLM, relativamente aos movimentos financeiros\\nabrangidos pela operação CEL_2010, ocorridos a partir de 2010, justificados\\natravés de contrato promessa de compra e venda com perda de sinal referente\\nao imóvel KANHANGULO, sito em Luanda, e introdução desses fundos no\\nGrupo LENA, crime p. e p. pelo art.º 368.°-A, n.º 1, 2 e 3 do Código Penal,\\ncom referência ao art.º l1°, n.º 2 do mesmo diploma legal.', '48\\n\\x0c\\n\\n                                  S.       R.\\n          TRIBUNAL CENTRAL DE INSTRUÇÃO CRIMINAL\\n\\n\\n       LENA SGPS\\n\\n\\n      - Um CRIME DE CORRUPÇÃO ACTIVA, em co-autoria com as\\nsociedades LEC SGPS SA e LEC SA relativamente ao arguido JOSÉ\\nSÓCRATES, este com mediação do arguido CARLOS SANTOS SILVA e em\\nbenefício do Grupo LENA, ocorridos nos anos de 2005 a 2011, crime p. e p.\\npelos arts.374° e 374-A°, n.º 2 do Cód.', 'Penal, com referência aos arts.', '11°, n.º\\n2 e 202°, alínea b) do mesmo diploma legal;\\n      - Um CRIME DE CORRUPÇÃO ACTIVA, em co-autoria com os\\narguidos CARLOS SANTOS SILVA, JOAQUIM BARROCA, JOSÉ\\nRIBEIRO DOS SANTOS e com as sociedades XMI, LEC SA, e LEC SGPS,\\nrelativamente ao funcionário LUIS MARQUES, nos anos de 2007 a 2009,\\ncrime p. e p. pelo art.º 374°, n.º l do Código Penal, com referência ao art.º l1°,\\nn.º 2 do mesmo diploma legal;\\n      - Um CRIME DE BRANQUEAMENTO, em co-autoria com os\\narguidos JOSÉ SÓCRATES, RICARDO SALGADO, HÉLDER BATAGLIA,\\nJOAQUIM BARROCA e CARLOS SANTOS SILVA e com as sociedades\\nLEC SA, LEC SGPS e XLM, relativamente aos movimentos financeiros\\nabrangidos pela operação CEL 2010, ocorridos a partir de 2010, justificados\\natravés de contrato promessa de compra e venda com perda de sinal referente\\nao imóvel KANHANGULO, sito em Luanda, e introdução desses fundos no\\nGrupo LENA, crime p. e p. pelo art.º 368.°-A, n.ºs 1, 2 e 3 do Código Penal,\\ncom referência ao art.º l1°, n.º 2 do mesmo diploma legal.', 'XLM-SOCIEDADE DE ESTUDOS E PROJECTOS LDA.', '49\\n\\x0c\\n\\n                                S.       R.\\n         TRIBUNAL CENTRAL DE INSTRUÇÃO CRIMINAL\\n\\n\\n\\n      - Um CRIME DE BRANQUEAMENTO, em co-autoria com os\\narguidos JOSÉ SÓCRATES, CARLOS SANTOS SILVA, JOAQUIM\\nBARROCA e a sociedade LEC SA, relativamente a utilização desta última\\nsociedade, entre 2009 e 2015, para a colocação de fundos destinados ao\\narguido JOSÉ SÓCRATES e utilização dos mesmos no seu interesse para\\npagamento de despesas e por distribuição de dividendos para as contas de\\nCARLOS SANTOS SILVA, crime p. e p. pelo art.368°- A, n° 1, 2 e 3 do\\nCódigo Penal, com referência ao art.º l1°, n.º 2 do mesmo diploma legal;\\n      - Um CRIME DE BRANQUEAMENTO, em co-autoria com os\\narguidos JOSÉ SÓCRATES, CARLOS SANTOS SILVA, JOAQUIM\\nBARROCA, RUI MÃO DE FERRO e com as sociedades LEC SA e RMF\\nCONSULTING, relativamente a utilização desta última sociedade, entre 2010\\ne 2014, para a colocação de fundos destinados ao arguido JOSÉ SÓCRATES\\ne sua utilização no seu interesse através do pagamento de despesas e\\ncolocação de numerário a sua disposição, crime p. e p. pelo art.368°-A, n° 1 e\\n2 do Código Penal, com referência ao art.º l °, n.º 2 do mesmo diploma legal;\\n      - Um CRIME DE BRANQUEAMENTO, em co-autoria com os\\narguidos JOSÉ SÒCRATES, RICARDO SALGADO, HÉLDER BATAGLIA,\\nJOAQUIM BARROCA e CARLOS SANTOS SILVA e com as sociedades\\nLEC SA, LEC SGPS e LENA SGPS, relativamente aos movimentos\\nfinanceiros abrangidos pela operação CEL_2010, ocorridos a partir de 2010,\\njustificados através de contrato promessa de compra e venda com perda de\\nsinal referente ao imóvel KANHANGULO, sito em Luanda, e introdução\\n\\n\\n                                                                            50\\n\\x0c\\n\\n                                  S.       R.\\n          TRIBUNAL CENTRAL DE INSTRUÇÃO CRIMINAL\\n\\n\\ndesses fundos no Grupo LENA, crime p. e p. pelo art.º 368.°-A, n.ºs 1, 2 e 3\\ndo Código Penal, com referência ao art.º 11°, n.º 2 do mesmo diploma legal;\\n      - Um CRIME DE FRAUDE FISCAL QUALIFICADA, em co-\\nautoria, com os arguidos JOSÉ SÓCRATES, CARLOS SANTOS SILVA,\\nJOAQUIM BARROCA e LENA ENGENHARIA E CONSTRUÇÕES SA, no\\nque tange ao IRS apurado quanto aos anos de 2009 a 2012, relativamente ao\\narguido referido em primeiro lugar, crime p. e p. pelos arts.', 'l03°-l a), b) e c) e\\n104°- 1 d), e) e i) e n.º 2 do RGIT, atualmente n.°2 a) do art.104° do RGIT e\\nart.7° do mesmo diploma legal;\\n      - Um CRIME DE FRAUDE FISCAL QUALIFICADA, em co-\\nautoria, com o arguido JOSÉ SÓCRATES, CARLOS SANTOS SILVA\\nJOAQUIM BARROCA e LENA ENGENHARIA E CONSTRUÇÕES SA no\\nque tange ao IRS apurado quanto aos anos de 2013 a 2015, relativamente ao\\narguido referido em primeiro lugar, crime p. e p. pelos arts.', 'l03°-l a), b) e c) e\\n104°- 1 d), e) e n.º 2 a) e n.3 do RGIT e art.7° do mesmo diploma legal.', 'RMF-CONSULTING.', 'GESTÃO         E       CONSULTORIA\\nESTRATÉGICA, LDA.', '- Um CRIME DE BRANQUEAMENTO, em co-autoria com os\\narguidos JOSÉ SÓCRATES, CARLOS SANTOS SILVA, JOAQUIM\\nBARROCA, RUI MÃO DE FERRO e com as sociedades LEC SA e XLM,\\nrelativamente a utilização da sociedade RMF CONSULTING, entre 2010 e\\n2014, para a colocação de fundos destinados ao arguido JOSÉ SÓCRATES e\\nsua utilização no seu interesse através do pagamento de despesas e colocação\\n                                                                               51\\n\\x0c\\n\\n                                 S.        R.\\n         TRIBUNAL CENTRAL DE INSTRUÇÃO CRIMINAL\\n\\n\\nde numerário a sua disposição, crime p. e p. pelo art.368°-A, n° 1, 2 e 3 do\\nCódigo Penal, com referência ao art.º 11°, n.º 2 do mesmo diploma legal.', 'XMI - MANAGEMENT & INVESTMENTS SA.', '- Um CRIME DE CORRUPÇÃO ACTIVA, em co-autoria com os\\narguidos CARLOS SANTOS SILVA, JOAQUIM BARROCA, JOSÉ\\nRIBEIRO DOS SANTOS, e com as sociedades LEC SA, LENA SGPS SA e\\nLEC SGPS, relativamente ao funcionário LUÍS MARQUES, nos anos de 2007\\na 2009, crime p. e p. pelo art.º 374º, n.º l do Código Penal, com referência ao\\nart.º l1°, n.º 2 do mesmo diploma legal.', '- Um CRIME DE BRANQUEAMENTO, em co-autoria com os\\narguidos JOAQUIM BARROCA, JOSÉ LUÍS RIBEIRO DOS SANTOS e\\nLUÍS MARQUES, relativamente a utilização desta última sociedade e sua\\ncontabilidade para a colocação de fundos na esfera patrimonial do arguido\\nLUÍS MARQUES, crime p. e p. pelo art.º 368.', '°-A, n.ºs 1, 2 e 3 do Código\\nPenal, com referência ao art.º l1°, n.º 2 do mesmo diploma legal.', 'OCEANO CLUBE - EMPREENDIMENTOS TURÍSTICOS DO\\nALGARVE SA\\n\\n\\n      - Um CRIME DE FRAUDE FISCAL QUALIFICADA, em co-\\nautoria com os arguidos VALE DO LOBO RESORT TURÍSTICO DE\\nLUXO, SA, JOSÉ DIOGO DA ROCHA VIEIRA GASPAR FERREIRA e\\nRUI MIGUEL DE OLIVEIRA HORTA E COSTA, no que tange ao IRC\\n                                                                            52\\n\\x0c\\n\\n                                    S.     R.\\n          TRIBUNAL CENTRAL DE INSTRUÇÃO CRIMINAL\\n\\n\\napurado quanto ao ano de 2007 da sociedade referida em primeiro lugar, crime\\np. e p. pelos arts.', 'l03°-l a), b) e c) e 104°- 1 d) e g) do RGIT e art.7° deste\\ndiploma legal;\\n      - Um CRIME DE FRAUDE FISCAL QUALIFICADA, em co-\\nautoria com os arguidos VALE DO LOBO RESORT TURÍSTICO DE\\nLUXO, SA e JOSÉ DIOGO DA ROCHA VIEIRA GASPAR FERREIRA, no\\nque tange ao IRS apurado quanto ao ano de 2009, de que foi beneficiário o\\narguido referido em último lugar, crime p. e p. pelos arts.', 'l03°-l a), b) e c) e\\n104°-1 d) e g) do RGIT e art.7° deste diploma legal;\\n      - Um CRIME DE FRAUDE FISCAL QUALIFICADA, em co-\\nautoria com os arguidos VALE DO LOBO RESORT TURÍSTICO DE\\nLUXO, SA e RUI HORTA E COSTA, no que tange ao IRS apurado quanto ao\\nano de 2009, de que foi beneficiário o arguido referido em ultimo lugar, crime\\np. e p. pelos arts.', 'l03°-l a), b) e c) e 104°- 1 d) e g) do RGIT e art.7° deste\\ndiploma legal.', 'VALE DO LOBO RESORT TURISTICO DE LUXO SA\\n\\n\\n      - Um CRIME DE FRAUDE FISCAL QUALIFICADA, de que foi\\nbeneficiária,    em    co-autoria    com   os   arguidos   OCEANO      CLUBE\\nEMPREENDIMENTOS TURÍSTICOS DO ALGARVE, SA, JOSÉ DIOGO\\nDA ROCHA VIEIRA GASPAR FERREIRA e RUI MIGUEL DE OLIVEIRA\\nHORTA E COSTA, no que tange ao IRC apurado quanto ao ano de 2007,\\ncrime p. e p. pelos arts.', 'l03°-l a), b) e c) e 104°- 1 d) e g) do RGIT e art.7°\\ndeste diploma legal;\\n                                                                             53\\n\\x0c\\n\\n                                  S.       R.\\n          TRIBUNAL CENTRAL DE INSTRUÇÃO CRIMINAL\\n\\n\\n      - Um CRIME DE FRAUDE FISCAL QUALIFICADA, em co-\\nautoria com os arguidos OCEANO CLUBE EMPREENDIMENTOS\\nTURISTICOS DO ALGARVE, SA e JOSÉ DIOGO GASPAR FERREIRA,\\nno que tange ao IRS apurado quanto ao ano de 2009, de que foi beneficiário o\\narguido referido em último lugar, crime p. e p. pelos arts.', 'l03°-l a), b) e c) e\\n104°- 1 d) e g) do RGIT e art.7° deste diploma legal;\\n      - Um CRIME DE FRAUDE FISCAL QUALIFICADA, em co-\\nautoria com os arguidos OCEANO CLUBE EMPREENDIMENTOS\\nTURISTICOS DO ALGARVE, SA e RUI HORTA E COSTA, no que tange\\nao IRS apurado quanto ao ano de 2009, de que foi beneficiário o arguido\\nreferido em ultimo lugar, crime p. e p. pelos arts.', 'l03°-l a), b) e c) e 104°- 1 d)\\ne g) do RGIT e art.7° deste diploma legal.', 'PEPELAN - CONSULTORIA E GESTÃO SA\\n\\n\\n      - Um CRIME DE FRAUDE FISCAL QUALIFICADA, de que foi\\nbeneficiaria, em co-autoria com o arguido JOSÉ DIOGO DA ROCHA\\nVIEIRA GASPAR FERREIRA, crime p. e p. pelos arts.', '103°-I a), b) e c) e\\nI04°- I d) e f) do RGIT, no que tange ao IRC apurado quanto ao ano de 2008.', '- Um CRIME DE BRANQUEAMENTO, em co-autoria com o\\narguido JOSÉ DIOGO GASPAR FERREIRA relativamente a justificativos\\ncriados para o recebimento de fundos através da alienação de imóvel cuja\\npropriedade estava titulada por esta sociedade e com utilização da sociedade\\nem offshore CLIFFSOL LIMITED, crime p. e p. pelo art.º 368.', '°-A, n.º 1, 2 e\\n3 do Código Penal, com referência ao art.º 11º n.º 2 do mesmo diploma legal.', '54\\n\\x0c\\n\\n                               S.          R.\\n         TRIBUNAL CENTRAL DE INSTRUÇÃO CRIMINAL\\n\\n\\n\\n                                           ***\\n\\n\\n         1.2.', '- O requerimento de abertura de instrução\\n\\n\\n      Inconformados os arguidos Henrique Manuel Fusco Granadeiro,\\nArmando António Martins Vara, Bárbara Catarina Figueira Vara, Carlos\\nManuel dos Santos Silva, Gonçalo Nuno Mendes da Trindade Ferreira,\\nHélder José Bataglia dos Santos, Joaquim Barroca Vieira Rodrigues, José\\nDiogo da Rocha Vieira Gaspar Ferreira e PEPELAN – CONSULTORIA\\nE GESTÃO, S.A., José Paulo Bernardo Pinto de Sousa, José Sócrates\\nPinto de Sousa, LENA ENGENHARIA E CONSTRUÇÕES, SA, LENA\\nENGENHARIA E CONSTRUÇÃO SGPS e LENA SGPS, Rui Manuel\\nAntunes Mão de Ferro, Sofia Mesquita Carvalho Fava, VALE DO LOBO\\nRESORT TURÍSTICO DE LUXO, S.A. e OCEANO CLUBE –\\nEMPREENDIMENTOS TURÍSTICOS DO ALGARVE, S.A., e Zeinal\\nAbedin Mahomed Bava, requereram a abertura de instrução.', '***\\n      O arguido HENRIQUE MANUEL FUSCO GRANADEIRO requereu\\nabertura de instrução, alegando em suma:\\n I)     A nulidade da prova obtida em violação das regras legais\\n aplicáveis, devendo ser ordenada a proibição da utilização e valoração\\n dessa prova para imputação dos crimes de Fraude Fiscal Qualificada ao\\n                                                                     55\\n\\x0c\\n\\n                                   S.       R.\\n          TRIBUNAL CENTRAL DE INSTRUÇÃO CRIMINAL\\n\\n\\n Arguido, nos termos e para os efeitos do disposto nos artigos 118.º, n.º 3,\\n 125.º e 126.º, n.ºs 1 e 3 do CPP, nos artigos 8.º, 26.º, 32.º, n.º 8, e 34.º, n. º4\\n da CRP e no artigo 2.º da Convenção Europeia de Auxílio Judiciário Mútuo\\n em Matéria Penal.', 'Pugna o arguido que os pedidos de cooperação internacional exibidos\\npelas autoridades portuguesas às autoridades suíças, estas em resposta fizeram\\nvárias advertências quanto à utilização dos elementos que disponibilizaram às\\nautoridades portuguesas, designadamente quanto à interdição de aproveitar a\\ninformação bancária fornecida para escorar a prática de crimes que não são\\nreconduzíveis, para efeitos da lei suíça, à prática dos crimes de escroquerie em\\nsentido estrito e de fraude fiscale.', 'Os pedidos de cooperação apresentados pelas autoridades portuguesas\\nabrangem crimes de natureza tributária, no entanto, tal não legitima que a\\ninformação granjeada lograsse ser usada desrespeitando as advertências das\\nautoridades suíças.', 'Pelo que, considera o arguido que ao não se imputar no libelo acusatório\\nmanobras ardilosas, nem em comportamentos fraudulentos.', 'Inexiste qualquer\\nfactualidade descrita na acusação que permita concluir pela prática de um\\ncrime de escroquerie, não podendo, em consequência, tal prova obtida ser\\nutilizada para imputar ao Arguido a prática dos crimes de fraude fiscal pelos\\nquais vem acusado.', 'Junta para o efeito Parecer Jurídico elaborado por François Roger\\nMicheli, advogado na Ordem dos Advogados de Genebra, elaborado em\\n09.01.2008, onde se sufraga que as autoridades penais portuguesas não podem\\nutilizar informações e documentos transmitidos pela Suíça na sequência dos\\n                                                                                 56\\n\\x0c\\n\\n                                 S.       R.\\n         TRIBUNAL CENTRAL DE INSTRUÇÃO CRIMINAL\\n\\n\\npedidos de assistência de 1 de Novembro de 2013 para fundamentar uma\\nacusação, na medida em que estes factos sejam qualificados pelo direito penal\\nportuguês como infracções nos Artigos 103.º, n.º 1, alíneas a), b) e c), bem\\ncomo nos Artigos 104.º, n.º 1, alíneas d), e) e f) do Regime geral de Infracções\\nTributárias, por clara violação do princípio da especialidade e da dupla\\nincriminação em sede de cooperação judiciária internacional.', 'No âmbito da assistência mútua, o princípio da especialidade tem por\\nefeito proibir a utilização, pelo Estado requerente, de documentos e\\ninformações recebidas do Estado requerido, para a repressão de delitos em\\nfunção dos quais o Estado requerido exclui a sua cooperação.', 'Ao conceder\\nentreajuda internacional em matéria penal num caso específico, tendo como\\nbase a CEEJ ou um tratado análogo, a Suíça recorda frequentemente ao Estado\\nrequerente que prevalece a reserva da especialidade, e fá-lo anexando aos\\ndocumentos transmitidos um aviso, cujo texto original fora notificado ao\\ndepositário do tratado, e cuja redacção é publicada na gazeta oficial.', 'Este\\naviso dirige-se às autoridades do Estado requerente e recorda-lhes as\\nutilizações permitidas e proibidas das informações e documentações\\ntransmitidas, e também indica os casos em que o uso das informações e da\\ndocumentação transmitida está sujeito ao acordo prévio da Suíça.', 'Sendo que a cooperação internacional só é concedida pela Suíça se a\\ninfracção praticada no Estado requerente for punida de acordo com a lei desse\\nEstado e do Estado requerido, e for passível, em ambos os Estados, de uma\\npena privativa da liberdade, cujas quotas mínimas sejam estabelecidas\\npelos Tratados.', '57\\n\\x0c\\n\\n                                S.       R.\\n          TRIBUNAL CENTRAL DE INSTRUÇÃO CRIMINAL\\n\\n\\n      Pelo que, a condição de dupla incriminação requer, para que possa ser\\nconcedida a assistência mútua, que os factos descritos no pedido de assistência\\nmútua apresentem as características de uma infracção punível também no\\nEstado requerido, sendo que a Suíça para efeitos de assistência mútua para\\nefeitos de procedimento penal em infracções fiscais, apenas concede\\nassistência mútua nos crimes de burla e fraude fiscal, não a concedendo nos\\ncasos de sonegação ou evasão fiscal.', 'No âmbito da assistência mútua, é a lei do Estado requerido, e não a do\\nEstado requerente, que define se se está na presença de uma burla/fraude fiscal\\nou de uma sonegação/evasão fiscal.', 'A situação de facto apresentada para assistência mútua não menciona que\\no arguido Henrique Granadeiro teria, em relação à autoridade fiscal\\nportuguesa, usado uma trama de mentiras, uma montagem astuciosa, por\\nexemplo para ludibriar - nomeadamente através de uma relação de\\nsubordinação ou de confiança especial, de forma a que esta não faça uma\\nverificação de rotina que lhe permitisse evitar a armadilha que lhe foi\\npreparada, ou feito uso de um título falso, conteúdo falsificado ou contrário à\\nverdade, não permitindo qualificar os factos como burla fiscal, os factos de\\nque o arguido Henrique Granadeiro é acusado correspondem, no máximo, a\\numa sonegação fiscal, conforme definido pela lei suíça.', 'II)     A recusa da interpretação da norma do artigo 126.º, n.º 3, do CPP,\\n feita pelo Ministério Público, no sentido de que não são proibidas as\\n provas utilizadas em violação dos comandos legais aplicáveis e sem que\\n tenha havido qualquer consentimento por parte do titular do direito à\\n                                                                            58\\n\\x0c\\n\\n                                   S.        R.\\n            TRIBUNAL CENTRAL DE INSTRUÇÃO CRIMINAL\\n\\n\\n reserva na vida privada, em violação do disposto nos artigos 8.º, 26.º, 32.º,\\n n.º 8 e 34.º, da CRP e do artigo 2.º da Convenção Europeia de Auxílio\\n Judiciário Mútuo em Matéria Penal ex vi artigo 8.º CRP.', 'Sufraga ainda o arguido que por ter sido utilizada informação sobre a\\nsua vida privada, sem respeito pelo regime jurídico aplicável e abrangida pelo\\nsegredo bancário, sem que tivesse sido obtido qualquer consentimento, os\\nreferidos elementos constituem um meio proibido de prova, não podendo os\\nmesmos ser utilizados ou valorados para apreciação da prática dos crimes de\\nfraude fiscal qualificada.', 'III)     A nulidade do inquérito, por não ter o Arguido acesso a\\ninformação e a elementos de prova recolhidos pela Investigação (e que,\\nentre o mais, constituíram o ponto de partida para a investigação dos\\nmovimentos bancários com destino e origem nas contas abertas no\\nBanque Pictet e/ou que estiveram na origem da investigação inicialmente\\nlevada a cabo no processo n.º 324/14.0TELSB), utilizados pela Acusação\\npara a imputação dos crimes de corrupção passiva, branqueamento,\\nfraude fiscal, peculato e abuso de confiança, nos termos e para os efeitos do\\ndisposto nos artigos 20.º, n.ºs 1 e 4 e 32.º, n.ºs 1 e 5, da CRP, no artigo 6.º, n.\\n1.º, e n.º 3, alínea b) da CEDH e nos artigos 86. n.º 1 e 6, alínea c), 89.º, n.ºs 4\\ne 6, 120.º, n.º 2, alínea d) e n.º 3, alínea c) e 122.º do CPP.', 'Defende o arguido que pelo facto de tais elementos não existirem no\\nprocesso à data em que foi ouvido, e por não ser possível apreender qual a\\norigem da informação sobre as contas supostamente detidas pelo Arguido, tal\\nconsubstancia nulidade do inquérito e da acusação, porquanto sufraga que o\\n                                                                                 59\\n\\x0c\\n\\n                                  S.       R.\\n          TRIBUNAL CENTRAL DE INSTRUÇÃO CRIMINAL\\n\\n\\narguido só se pode defender daquilo que conhece e, portanto, seria essencial à\\nsua defesa saber como, quando e onde foi obtida a informação sobre os\\nelementos que sustentam a Acusação, tendo deste modo, sido ocultada a\\ninformação que constituiu o ponto de partida para a investigação dos\\nmovimentos bancários das contas abertas no Banque Pictet, sem a qual o\\nArguido não poderá exercer de forma plena os direitos ao contraditório, à\\ninformação e a contestar a prova da acusação.', 'IV)    Recusa da interpretação das normas vertidas nos artigos 86.º n.º 1\\ne 6, alínea c) e 89.º, n.ºs 4 e 6, do CPP, feita pelo Ministério Público, no\\nsentido de se considerar que não constitui nulidade o não acesso, pelos\\nArguidos, a todos os elementos recolhidos no decurso da Investigação,\\nincluindo os que sustentam a imputação dos crimes por que vêm acusados\\ne/ou com estes estão relacionados, viola o disposto nos artigos 20.º, n.ºs 1 e 4\\ne 32.º, n.ºs 1 e 5, da CRP e do artigo 6.º, n. 1.º, e n.º 3, alínea b) da CEDH ex\\nvi artigo 8.º CRP, sendo, por conseguinte, uma interpretação legal\\nmaterialmente inconstitucional.', 'V)     A nulidade de inquérito, por o arguido não ter sido confrontado\\nem sede de inquérito com os factos que constam nos Capítulos 6.8, 6.9 e 7\\nda Acusação, nos termos do disposto nos artigos 20.º, n.ºs 1 e 4 e 32.º, n.ºs 1 e\\n5, da CRP, no artigo 6.º, n.º 1 e n.º 3, alínea a) da CEDH e nos artigos 61.º, n.º\\n\\n\\n                                                                               60\\n\\x0c\\n\\n                                   S.        R.\\n          TRIBUNAL CENTRAL DE INSTRUÇÃO CRIMINAL\\n\\n\\n1, alínea c) e 141.º, n.º 4, alínea d) (por remissão expressa do artigo 144.º),\\n272.º, n.º 1, 120.º, n.º 2, alínea d) e n.º 3, alínea c), todos do CPP.', 'O Arguido alega não ter sido confrontado com os seguintes capítulos\\nfactuais da Acusação:\\n\\n      a. Restruturação societária do Grupo TELEMAR/OI.', 'b. Aumentos de capital das sociedades brasileiras acionistas do grupo\\nOI para (alegadamente) obter uma forma de fazer entrar o GES no capital\\nsocial dessas mesmas sociedades, ao mesmo tempo que garantia a prestação\\nde serviços, em avultados valores, por parte do BESI e do grupo ONGOING,\\npara o mesmo grupo OI.', 'c. Combinação de negócios entre o universo PT (por referência às\\nsociedades detidas pela PT SGPS) e a OI.', 'd. Investimentos de tesouraria da PT no BES.', 'Tendo sido omitida uma diligência obrigatória – o interrogatório do\\nArguido (ainda que complementar) –, quando haja factos essenciais que dão\\ncorpo a uma fundada suspeita da prática de um crime, viola-se o direito do\\nArguido ser informado de todos os factos que lhe são concretamente\\nimputados e de sobre eles se defender antes de ser deduzida acusação.', 'VI)     Recusa da interpretação feita pelo Ministério Público das normas\\nvertidas nos artigos 61.º, n.º 1, alínea c) e do 141.º, n.º 4, alínea d), ambos\\n\\n\\n                                                                            61\\n\\x0c\\n\\n                                  S.       R.\\n          TRIBUNAL CENTRAL DE INSTRUÇÃO CRIMINAL\\n\\n\\ndo CPP, ao não permitir que o Arguido seja confrontado com todos os\\nfactos concretos, autónomos e essenciais que lhe são imputados na\\nAcusação deduzida de forma a exercer cabalmente o seu direito ao\\ncontraditório, consubstancia uma violação do disposto nos artigos 20.º, n.ºs 1\\ne 4 e 32.º, n.ºs 1 e 5 da CRP e do artigo 6.º, n.º 1 e n.º 3, alínea a) da CEDH ex\\nvi artigo 8.º CRP, sendo, por conseguinte, uma interpretação da lei\\nmaterialmente inconstitucional.', 'VII)     A nulidade do despacho de Acusação por insuficiência do\\ninquérito, nos termos e para os efeitos do disposto no artigo 122.º do CPP.', 'VIII)    Aferição da qualidade de funcionário para efeitos do disposto no\\nartigo 386.º do Código Penal, quanto aos crimes de corrupção passiva p. e p.\\npelas disposições conjugadas dos artigos 373.º, n.º 1 e 374.º-A, n.ºs 2 e 3, com\\nreferência aos artigos 202.º, alínea b) e 386.º, n.º 2, todos do CP e, de peculato,\\np. e p. pelo artigo 375.º, n.º 1 do CP, com referência ao artigo 386.º, n.º 1 e 2\\ndo CP – os quais apenas podem ser praticados quando o agente se encontre a\\nexercer “funções públicas” – bem como quanto ao crime de branqueamento, p.\\ne p. pelo artigo 368.°-A, n.ºs 1, 2 e 3 do CP, que tem por crime procedente o\\ncrime de corrupção passiva.', 'Sustenta o arguido que não era funcionário, nem do sector\\nadministrativo, nem do sector público empresarial, que a PT SGPS não era\\numa empresa pública, para efeitos penais, também não era uma empresa\\n\\n                                                                                62']\n"
     ]
    }
   ],
   "source": [
    "print(tokenized_text)"
   ]
  },
  {
   "cell_type": "code",
   "execution_count": 207,
   "id": "protected-remove",
   "metadata": {
    "collapsed": true,
    "jupyter": {
     "outputs_hidden": true
    }
   },
   "outputs": [
    {
     "ename": "LookupError",
     "evalue": "\n**********************************************************************\n  Resource \u001b[93mrslp\u001b[0m not found.\n  Please use the NLTK Downloader to obtain the resource:\n\n  \u001b[31m>>> import nltk\n  >>> nltk.download('rslp')\n  \u001b[0m\n  For more information see: https://www.nltk.org/data.html\n\n  Attempted to load \u001b[93mstemmers/rslp/step0.pt\u001b[0m\n\n  Searched in:\n    - '/Users/miguelportela/nltk_data'\n    - '/Users/miguelportela/opt/anaconda3/nltk_data'\n    - '/Users/miguelportela/opt/anaconda3/share/nltk_data'\n    - '/Users/miguelportela/opt/anaconda3/lib/nltk_data'\n    - '/usr/share/nltk_data'\n    - '/usr/local/share/nltk_data'\n    - '/usr/lib/nltk_data'\n    - '/usr/local/lib/nltk_data'\n    - ''\n**********************************************************************\n",
     "output_type": "error",
     "traceback": [
      "\u001b[0;31m---------------------------------------------------------------------------\u001b[0m",
      "\u001b[0;31mLookupError\u001b[0m                               Traceback (most recent call last)",
      "\u001b[0;32m<ipython-input-207-f7b080fd3eca>\u001b[0m in \u001b[0;36m<module>\u001b[0;34m\u001b[0m\n\u001b[1;32m     12\u001b[0m \u001b[0;31m#print(\"Stemmed Sentence:\",stemmed_words)\u001b[0m\u001b[0;34m\u001b[0m\u001b[0;34m\u001b[0m\u001b[0;34m\u001b[0m\u001b[0m\n\u001b[1;32m     13\u001b[0m \u001b[0;34m\u001b[0m\u001b[0m\n\u001b[0;32m---> 14\u001b[0;31m \u001b[0mstemmer\u001b[0m \u001b[0;34m=\u001b[0m \u001b[0mnltk\u001b[0m\u001b[0;34m.\u001b[0m\u001b[0mstem\u001b[0m\u001b[0;34m.\u001b[0m\u001b[0mRSLPStemmer\u001b[0m\u001b[0;34m(\u001b[0m\u001b[0;34m)\u001b[0m\u001b[0;34m\u001b[0m\u001b[0;34m\u001b[0m\u001b[0m\n\u001b[0m",
      "\u001b[0;32m~/opt/anaconda3/lib/python3.8/site-packages/nltk/stem/rslp.py\u001b[0m in \u001b[0;36m__init__\u001b[0;34m(self)\u001b[0m\n\u001b[1;32m     57\u001b[0m         \u001b[0mself\u001b[0m\u001b[0;34m.\u001b[0m\u001b[0m_model\u001b[0m \u001b[0;34m=\u001b[0m \u001b[0;34m[\u001b[0m\u001b[0;34m]\u001b[0m\u001b[0;34m\u001b[0m\u001b[0;34m\u001b[0m\u001b[0m\n\u001b[1;32m     58\u001b[0m \u001b[0;34m\u001b[0m\u001b[0m\n\u001b[0;32m---> 59\u001b[0;31m         \u001b[0mself\u001b[0m\u001b[0;34m.\u001b[0m\u001b[0m_model\u001b[0m\u001b[0;34m.\u001b[0m\u001b[0mappend\u001b[0m\u001b[0;34m(\u001b[0m\u001b[0mself\u001b[0m\u001b[0;34m.\u001b[0m\u001b[0mread_rule\u001b[0m\u001b[0;34m(\u001b[0m\u001b[0;34m\"step0.pt\"\u001b[0m\u001b[0;34m)\u001b[0m\u001b[0;34m)\u001b[0m\u001b[0;34m\u001b[0m\u001b[0;34m\u001b[0m\u001b[0m\n\u001b[0m\u001b[1;32m     60\u001b[0m         \u001b[0mself\u001b[0m\u001b[0;34m.\u001b[0m\u001b[0m_model\u001b[0m\u001b[0;34m.\u001b[0m\u001b[0mappend\u001b[0m\u001b[0;34m(\u001b[0m\u001b[0mself\u001b[0m\u001b[0;34m.\u001b[0m\u001b[0mread_rule\u001b[0m\u001b[0;34m(\u001b[0m\u001b[0;34m\"step1.pt\"\u001b[0m\u001b[0;34m)\u001b[0m\u001b[0;34m)\u001b[0m\u001b[0;34m\u001b[0m\u001b[0;34m\u001b[0m\u001b[0m\n\u001b[1;32m     61\u001b[0m         \u001b[0mself\u001b[0m\u001b[0;34m.\u001b[0m\u001b[0m_model\u001b[0m\u001b[0;34m.\u001b[0m\u001b[0mappend\u001b[0m\u001b[0;34m(\u001b[0m\u001b[0mself\u001b[0m\u001b[0;34m.\u001b[0m\u001b[0mread_rule\u001b[0m\u001b[0;34m(\u001b[0m\u001b[0;34m\"step2.pt\"\u001b[0m\u001b[0;34m)\u001b[0m\u001b[0;34m)\u001b[0m\u001b[0;34m\u001b[0m\u001b[0;34m\u001b[0m\u001b[0m\n",
      "\u001b[0;32m~/opt/anaconda3/lib/python3.8/site-packages/nltk/stem/rslp.py\u001b[0m in \u001b[0;36mread_rule\u001b[0;34m(self, filename)\u001b[0m\n\u001b[1;32m     66\u001b[0m \u001b[0;34m\u001b[0m\u001b[0m\n\u001b[1;32m     67\u001b[0m     \u001b[0;32mdef\u001b[0m \u001b[0mread_rule\u001b[0m\u001b[0;34m(\u001b[0m\u001b[0mself\u001b[0m\u001b[0;34m,\u001b[0m \u001b[0mfilename\u001b[0m\u001b[0;34m)\u001b[0m\u001b[0;34m:\u001b[0m\u001b[0;34m\u001b[0m\u001b[0;34m\u001b[0m\u001b[0m\n\u001b[0;32m---> 68\u001b[0;31m         \u001b[0mrules\u001b[0m \u001b[0;34m=\u001b[0m \u001b[0mload\u001b[0m\u001b[0;34m(\u001b[0m\u001b[0;34m\"nltk:stemmers/rslp/\"\u001b[0m \u001b[0;34m+\u001b[0m \u001b[0mfilename\u001b[0m\u001b[0;34m,\u001b[0m \u001b[0mformat\u001b[0m\u001b[0;34m=\u001b[0m\u001b[0;34m\"raw\"\u001b[0m\u001b[0;34m)\u001b[0m\u001b[0;34m.\u001b[0m\u001b[0mdecode\u001b[0m\u001b[0;34m(\u001b[0m\u001b[0;34m\"utf8\"\u001b[0m\u001b[0;34m)\u001b[0m\u001b[0;34m\u001b[0m\u001b[0;34m\u001b[0m\u001b[0m\n\u001b[0m\u001b[1;32m     69\u001b[0m         \u001b[0mlines\u001b[0m \u001b[0;34m=\u001b[0m \u001b[0mrules\u001b[0m\u001b[0;34m.\u001b[0m\u001b[0msplit\u001b[0m\u001b[0;34m(\u001b[0m\u001b[0;34m\"\\n\"\u001b[0m\u001b[0;34m)\u001b[0m\u001b[0;34m\u001b[0m\u001b[0;34m\u001b[0m\u001b[0m\n\u001b[1;32m     70\u001b[0m \u001b[0;34m\u001b[0m\u001b[0m\n",
      "\u001b[0;32m~/opt/anaconda3/lib/python3.8/site-packages/nltk/data.py\u001b[0m in \u001b[0;36mload\u001b[0;34m(resource_url, format, cache, verbose, logic_parser, fstruct_reader, encoding)\u001b[0m\n\u001b[1;32m    750\u001b[0m \u001b[0;34m\u001b[0m\u001b[0m\n\u001b[1;32m    751\u001b[0m     \u001b[0;31m# Load the resource.\u001b[0m\u001b[0;34m\u001b[0m\u001b[0;34m\u001b[0m\u001b[0;34m\u001b[0m\u001b[0m\n\u001b[0;32m--> 752\u001b[0;31m     \u001b[0mopened_resource\u001b[0m \u001b[0;34m=\u001b[0m \u001b[0m_open\u001b[0m\u001b[0;34m(\u001b[0m\u001b[0mresource_url\u001b[0m\u001b[0;34m)\u001b[0m\u001b[0;34m\u001b[0m\u001b[0;34m\u001b[0m\u001b[0m\n\u001b[0m\u001b[1;32m    753\u001b[0m \u001b[0;34m\u001b[0m\u001b[0m\n\u001b[1;32m    754\u001b[0m     \u001b[0;32mif\u001b[0m \u001b[0mformat\u001b[0m \u001b[0;34m==\u001b[0m \u001b[0;34m\"raw\"\u001b[0m\u001b[0;34m:\u001b[0m\u001b[0;34m\u001b[0m\u001b[0;34m\u001b[0m\u001b[0m\n",
      "\u001b[0;32m~/opt/anaconda3/lib/python3.8/site-packages/nltk/data.py\u001b[0m in \u001b[0;36m_open\u001b[0;34m(resource_url)\u001b[0m\n\u001b[1;32m    875\u001b[0m \u001b[0;34m\u001b[0m\u001b[0m\n\u001b[1;32m    876\u001b[0m     \u001b[0;32mif\u001b[0m \u001b[0mprotocol\u001b[0m \u001b[0;32mis\u001b[0m \u001b[0;32mNone\u001b[0m \u001b[0;32mor\u001b[0m \u001b[0mprotocol\u001b[0m\u001b[0;34m.\u001b[0m\u001b[0mlower\u001b[0m\u001b[0;34m(\u001b[0m\u001b[0;34m)\u001b[0m \u001b[0;34m==\u001b[0m \u001b[0;34m\"nltk\"\u001b[0m\u001b[0;34m:\u001b[0m\u001b[0;34m\u001b[0m\u001b[0;34m\u001b[0m\u001b[0m\n\u001b[0;32m--> 877\u001b[0;31m         \u001b[0;32mreturn\u001b[0m \u001b[0mfind\u001b[0m\u001b[0;34m(\u001b[0m\u001b[0mpath_\u001b[0m\u001b[0;34m,\u001b[0m \u001b[0mpath\u001b[0m \u001b[0;34m+\u001b[0m \u001b[0;34m[\u001b[0m\u001b[0;34m\"\"\u001b[0m\u001b[0;34m]\u001b[0m\u001b[0;34m)\u001b[0m\u001b[0;34m.\u001b[0m\u001b[0mopen\u001b[0m\u001b[0;34m(\u001b[0m\u001b[0;34m)\u001b[0m\u001b[0;34m\u001b[0m\u001b[0;34m\u001b[0m\u001b[0m\n\u001b[0m\u001b[1;32m    878\u001b[0m     \u001b[0;32melif\u001b[0m \u001b[0mprotocol\u001b[0m\u001b[0;34m.\u001b[0m\u001b[0mlower\u001b[0m\u001b[0;34m(\u001b[0m\u001b[0;34m)\u001b[0m \u001b[0;34m==\u001b[0m \u001b[0;34m\"file\"\u001b[0m\u001b[0;34m:\u001b[0m\u001b[0;34m\u001b[0m\u001b[0;34m\u001b[0m\u001b[0m\n\u001b[1;32m    879\u001b[0m         \u001b[0;31m# urllib might not use mode='rb', so handle this one ourselves:\u001b[0m\u001b[0;34m\u001b[0m\u001b[0;34m\u001b[0m\u001b[0;34m\u001b[0m\u001b[0m\n",
      "\u001b[0;32m~/opt/anaconda3/lib/python3.8/site-packages/nltk/data.py\u001b[0m in \u001b[0;36mfind\u001b[0;34m(resource_name, paths)\u001b[0m\n\u001b[1;32m    583\u001b[0m     \u001b[0msep\u001b[0m \u001b[0;34m=\u001b[0m \u001b[0;34m\"*\"\u001b[0m \u001b[0;34m*\u001b[0m \u001b[0;36m70\u001b[0m\u001b[0;34m\u001b[0m\u001b[0;34m\u001b[0m\u001b[0m\n\u001b[1;32m    584\u001b[0m     \u001b[0mresource_not_found\u001b[0m \u001b[0;34m=\u001b[0m \u001b[0;34m\"\\n%s\\n%s\\n%s\\n\"\u001b[0m \u001b[0;34m%\u001b[0m \u001b[0;34m(\u001b[0m\u001b[0msep\u001b[0m\u001b[0;34m,\u001b[0m \u001b[0mmsg\u001b[0m\u001b[0;34m,\u001b[0m \u001b[0msep\u001b[0m\u001b[0;34m)\u001b[0m\u001b[0;34m\u001b[0m\u001b[0;34m\u001b[0m\u001b[0m\n\u001b[0;32m--> 585\u001b[0;31m     \u001b[0;32mraise\u001b[0m \u001b[0mLookupError\u001b[0m\u001b[0;34m(\u001b[0m\u001b[0mresource_not_found\u001b[0m\u001b[0;34m)\u001b[0m\u001b[0;34m\u001b[0m\u001b[0;34m\u001b[0m\u001b[0m\n\u001b[0m\u001b[1;32m    586\u001b[0m \u001b[0;34m\u001b[0m\u001b[0m\n\u001b[1;32m    587\u001b[0m \u001b[0;34m\u001b[0m\u001b[0m\n",
      "\u001b[0;31mLookupError\u001b[0m: \n**********************************************************************\n  Resource \u001b[93mrslp\u001b[0m not found.\n  Please use the NLTK Downloader to obtain the resource:\n\n  \u001b[31m>>> import nltk\n  >>> nltk.download('rslp')\n  \u001b[0m\n  For more information see: https://www.nltk.org/data.html\n\n  Attempted to load \u001b[93mstemmers/rslp/step0.pt\u001b[0m\n\n  Searched in:\n    - '/Users/miguelportela/nltk_data'\n    - '/Users/miguelportela/opt/anaconda3/nltk_data'\n    - '/Users/miguelportela/opt/anaconda3/share/nltk_data'\n    - '/Users/miguelportela/opt/anaconda3/lib/nltk_data'\n    - '/usr/share/nltk_data'\n    - '/usr/local/share/nltk_data'\n    - '/usr/lib/nltk_data'\n    - '/usr/local/lib/nltk_data'\n    - ''\n**********************************************************************\n"
     ]
    }
   ],
   "source": [
    "# Stemming\n",
    "from nltk.stem import PorterStemmer\n",
    "from nltk.tokenize import sent_tokenize, word_tokenize\n",
    "\n",
    "ps = PorterStemmer()\n",
    "\n",
    "stemmed_words=[]\n",
    "for w in filtered_sent:\n",
    "    stemmed_words.append(ps.stem(w))\n",
    "\n",
    "#print(\"Filtered Sentence:\",filtered_sent)\n",
    "#print(\"Stemmed Sentence:\",stemmed_words)\n"
   ]
  },
  {
   "cell_type": "code",
   "execution_count": 209,
   "id": "published-alaska",
   "metadata": {
    "collapsed": true,
    "jupyter": {
     "outputs_hidden": true
    }
   },
   "outputs": [
    {
     "name": "stderr",
     "output_type": "stream",
     "text": [
      "[nltk_data] Downloading package rslp to\n",
      "[nltk_data]     /Users/miguelportela/nltk_data...\n",
      "[nltk_data]   Package rslp is already up-to-date!\n"
     ]
    }
   ],
   "source": [
    "nltk.download('rslp')\n",
    "stemmer = nltk.stem.RSLPStemmer()"
   ]
  },
  {
   "cell_type": "code",
   "execution_count": 211,
   "id": "fallen-buffer",
   "metadata": {
    "collapsed": true,
    "jupyter": {
     "outputs_hidden": true
    }
   },
   "outputs": [
    {
     "name": "stdout",
     "output_type": "stream",
     "text": [
      "Stemmed Sentence: ['s.', 'r.', 'tribun', 'centr', 'de', 'instruç', 'crim', 'nuipc', ':', '122/13.8telsb', 'decis', 'instrutór', 'capítul', 'i', 'i', '–', 'relatóri', '1.1', '-', 'a', 'acus', 'foi', 'imput', 'sed', 'acus', 'argu', ':', 'josé', 'sócrat', 'carvalh', 'pint', 'de', 'sous', '-', 'um', 'crim', 'corrupç', 'passiv', 'titul', 'carg', 'polít', ',', 'co-aut', 'argu', 'carl', 'sant', 'silv', ',', 'refer', 'act', 'pratic', 'inter', 'grup', 'len', '2005', '2011', ',', 'crim', 'p.', 'p.', 'dispos', 'conjug', 'art.º', '1.°', ',', '2.°', ',', '3.°', ',', 'n.º', '1', ',', 'alíne', 'd', ')', ',', '17.°', ',', 'n.º', '1', '19.°', ',', 'n.º', '2', '3', 'lei', 'n.º', '34/87', ',', '16', 'julh', ',', 'redacç', 'introduz', 'lei', 'n.º', '108/2001', ',', '28', 'novembr', '(', 'lei', 'crim', 'respons', '1', 's.', 'r.', 'tribun', 'centr', 'de', 'instruç', 'crim', 'titul', 'carg', 'polít', ')', ',', 'refer', 'art.º', '28.°', '202.°', ',', 'alíne', 'b', ')', 'códig', 'penal', ';', '-', 'um', 'crim', 'corrupç', 'passiv', 'titul', 'carg', 'polít', ',', 'refer', 'act', 'pratic', 'inter', 'argu', 'ricard', 'salg', ',', 'relativ', 'negóci', 'grup', 'portug', 'telecom', 'ge', ',', 'crim', 'p.', 'p.', 'dispos', 'conjug', 'art.º', 'lº', ',', '2.°', ',', '3.°', ',', 'n.º', '1', ',', 'alíne', 'd', ')', ',', '17.°', ',', 'n.º', '1', '19.°', ',', 'n.º', '2', '3', 'lei', 'n.º', '34/87', ',', '16', 'julh', ',', 'redacç', 'introduz', 'lei', 'n°', '108/2001', ',', '28', 'novembr', '(', 'lei', 'crim', 'respons', 'titul', 'carg', 'polít', ')', ',', 'refer', 'art.º', '28.°', '202.°', ',', 'alíne', 'b', ')', 'códig', 'penal', ';', '-', 'um', 'crim', 'corrupç', 'passiv', 'titul', 'carg', 'polít', ',', 'co-aut', 'argu', 'arm', 'var', ',', 'referenc', 'ato', 'pratic', 'inter', 'argu', 'diog', 'gasp', 'ferr', 'rui', 'hort', 'cost', 'utiliz', 'sociedad', 'grup', 'val', 'do', 'lob', ',', 'crim', 'p.', 'p.', 'dispos', 'conjug', 'art.º', '1º', ',', '2.°', ',', '3.°', ',', 'n.º', '1', ',', 'alíne', 'd', ')', ',', '17.°', ',', 'n.º', '1', '19°.', ',', 'n.º', '2', '3', 'lei', '34/87', ',', '16', 'julh', ',', 'redacç', 'introduz', 'lei', 'n°', '108/2001', ',', '28', 'novembro-', 'lei', 'crim', 'respons', 'titul', 'carg', 'polít', ',', 'refer', 'art.º', '28.°', '202.°', ',', 'alíne', 'b', ')', 'códig', 'penal', ';', '-', 'um', 'crim', 'de', 'branque', ',', 'co-aut', 'argu', 'carl', 'sant', 'silv', 'joaquim', 'barroc', 'relativ', 'mov', 'financ', 'orig', 'grup', 'len', 'pass', 'cont', 'suíç', 'titul', 'últ', 'argu', 'realiz', 'part', '2007', ',', 'crim', 'p.', 'p.', 'art.368°-', ',', 'n°', '1', ',', '2', '3', 'códig', 'penal', ';', '2', 's.', 'r.', 'tribun', 'centr', 'de', 'instruç', 'crim', '-', 'um', 'crim', 'de', 'branque', ',', 'co-aut', 'argu', 'carl', 'sant', 'silv', ',', 'joaquim', 'barroc', 'sociedad', 'lec', 's.a.', 'xlm', ',', 'relativ', 'utiliz', 'dest', 'últ', 'sociedad', ',', '2009', '2015', ',', 'coloc', 'fund', 'destin', 'argu', 'josé', 'sócrat', 'utiliz', 'mesm', 'inter', 'através', 'pag', 'direct', 'desp', 'distribu', 'divid', 'cont', 'titul', 'argu', 'carl', 'sant', 'silv', ',', 'crim', 'p.', 'p.', 'art.368°-', ',', 'n°', '1', ',', '2', '3', 'códig', 'penal', ';', '-', 'um', 'crim', 'de', 'branque', ',', 'co-aut', 'argu', 'carl', 'sant', 'silv', ',', 'joaquim', 'barroc', ',', 'rui', 'mão', 'de', 'ferr', 'sociedad', 'lec', 'sa', ',', 'xlm', 'rmf', 'consulting', ',', 'relativ', 'utiliz', 'dest', 'últ', 'sociedad', ',', '2010', '2014', ',', 'coloc', 'fund', 'destin', 'argu', 'josé', 'socrat', 'utiliz', 'mesm', 'inter', 'através', 'pag', 'desp', 'coloc', 'numer', 'dispos', ',', 'crim', 'p.', 'p.', 'art.º', '368', '.', '°-a', ',', 'n.º', '1', ',', '2', '3', 'códig', 'penal', ';', '-', 'um', 'crim', 'de', 'branque', ',', 'co-aut', 'argu', 'ricard', 'salg', ',', 'héld', 'batagl', ',', 'carl', 'sant', 'silv', 'josé', 'paul', 'pint', 'de', 'sous', ',', 'relativ', 'utiliz', ',', '2006', '2008', ',', 'cont', 'suíç', 'últ', 'autor', 'oper', 'financ', 'realiz', 'part', 'mesm', ',', 'crim', 'p.', 'p.', 'art.º', '368', '.', '°-a', ',', 'n.º', '1,2', '3', 'códig', 'penal', ';', '-', 'um', 'crim', 'de', 'branque', ',', 'co-aut', 'argu', 'ricard', 'salg', ',', 'héld', 'batagl', ',', 'josé', 'paul', 'pint', 'de', 'sous', 'carl', 'sant', 'silv', 'relativ', '3', 's.', 'r.', 'tribun', 'centr', 'de', 'instruç', 'crim', 'mov', 'financ', 'justific', 'contrat', 'pinsong', ',', 'realiz', 'ano', '2007', 'iníci', '2008', ',', 'orig', 'cont', 'suíç', 'es', 'enterpris', ',', 'crim', 'p.', 'p.', 'art.368°-', ',', 'n°', '1', ',', '2', '3', 'códig', 'penal', ';', '-', 'um', 'crim', 'de', 'branque', ',', 'co-aut', 'argu', 'ricard', 'salg', ',', 'held', 'batagl', ',', 'carl', 'sant', 'silv', 'joaquim', 'barroc', 'relativ', 'mov', 'financ', 'justific', 'contrat', 'pinsong', ',', 'realiz', 'part', 'abril', '2008', ',', 'orig', 'cont', 'suíç', 'es', 'enterpris', 'intervenç', 'cont', 'suíç', 'argu', 'joaquim', 'barroc', ',', 'crim', 'p.', 'p.', 'art.º', '368', '.', '°-a', ',', 'n.º', '1', ',', '2', '3', 'códig', 'penal', ';', '-', 'um', 'crim', 'de', 'branque', ',', 'co-aut', 'argu', 'ricard', 'salg', ',', 'héld', 'batagl', ',', 'joaquim', 'barroc', 'carl', 'sant', 'silv', 'sociedad', 'lec', 'sa', ',', 'lec', 'sgp', ',', 'len', 'sgp', 'xlm', ',', 'relativ', 'mov', 'financ', ',', 'ocorr', 'part', '2010', ',', 'abrang', 'oper', 'cel_2010', ',', 'justific', 'através', 'contrat', 'promess', 'compr', 'vend', 'perd', 'sinal', 'refer', 'imóvel', 'kanhangul', ',', 'sit', 'luand', ',', 'introduç', 'dess', 'fund', 'grup', 'len', ',', 'crim', 'p.', 'p.', 'art.º', '368.°-', ',', 'n.º', '1', ',', '2', '3', 'códig', 'penal', ';', '-', 'um', 'crim', 'de', 'branque', ',', 'co-aut', 'argu', 'carl', 'sant', 'silv', ',', 'joaquim', 'barroc', ',', 'arm', 'var', ',', 'diog', 'gasp', 'ferr', ',', 'rui', 'hort', 'e', 'cost', 'bárb', 'var', ',', 'relativ', 'transfer', 'orig', 'cont', 'cidad', 'holand', 'van', 'doreen', ',', 'refer', 'financ', 'conced', 'grup', 'val', 'do', 'lob', ',', 'pass', 'cont', 'banc', 'suíç', '4', 's.', 'r.', 'tribun', 'centr', 'de', 'instruç', 'crim', 'argu', 'joaquim', 'barroc', ',', 'crim', 'p.', 'p.', 'art.368°-', ',', 'nº', 'l', ',', '2', '3', 'códig', 'penal', ';', '-', 'um', 'crim', 'de', 'branque', ',', 'co-aut', 'argu', 'carl', 'sant', 'silv', 'relativ', 'concentr', 'fund', 'nov', 'cont', 'banc', 'suíç', 'titul', 'sociedad', 'offshor', 'control', 'carl', 'sant', 'silv', 'transfer', 'cont', 'titul', 'últ', 'argu', 'portug', ',', 'abrig', 'rert', 'ii', ',', 'crim', 'p.', 'p.', 'art.º', '368', '.', '°-a', ',', 'n°', '1', ',', '2', '3', 'códig', 'penal', ';', '-', 'um', 'crim', 'de', 'branque', ',', 'co-aut', 'argu', 'carl', 'sant', 'silv', 'relativ', 'dissip', 'fund', 'outr', 'cont', 'portug', ',', 'últ', 'argu', 'titul', 'autor', ',', 'confus', 'patrimóni', 'ambos', 'ness', 'cont', 'banc', ',', 'crim', 'p.', 'p.', 'art.º', '368', '.', '°-a', ',', 'n.º', '1', ',', '2', '3', 'códig', 'penal', ';', '-', 'um', 'crim', 'de', 'branque', ',', 'co-aut', 'argu', 'carl', 'sant', 'silv', 'gonçal', 'ferr', ',', 'quant', 'aquis', 'imóvel', 'portug', 'ret', 'preç', 'pag', 'esf', 'patrimon', 'argu', 'jos', 'socrat', ',', 'form', 'justific', ',', 'fact', 'ocorr', '2010', '2012', ',', 'crim', 'p.', 'p.', 'art.º', '368', '.', '°-a', ',', 'n.º', '1', ',', '2', '3', 'códig', 'penal', ';', '-', 'um', 'crim', 'de', 'branque', ',', 'co-aut', 'argu', 'carl', 'sant', 'silv', 'gonçal', 'ferr', ',', 'relativ', 'aquis', 'subsequ', 'arrend', 'imóvel', 'paril', ',', 'intenç', 'ocult', 'titular', 'activ', ',', 'fact', 'pratic', '2012', '2014', ',', 'crim', 'p.', 'p.', 'art.º', '368', '.', '°-a', ',', 'n°', '1', ',', '2', '3', 'códig', 'penal', ';', '5', 's.', 'r.', 'tribun', 'centr', 'de', 'instruç', 'crim', '-', 'um', 'crim', 'de', 'branque', ',', 'co-aut', 'argu', 'gonçal', 'ferr', 'carl', 'sant', 'silv', ',', 'relativ', 'entreg', 'últ', 'argu', 'quant', 'pertenc', 'argu', 'josé', 'sócrat', 'depósit', 'cont', 'banc', 'argu', 'gonçal', 'ferr', 'guard', 'cofr', 'banc', 'cont', 'titul', ',', 'form', 'ocult', 'propriedad', 'dess', 'val', 'argu', 'josé', 'sócrat', ',', 'fact', 'ocorr', 'ano', '2012', '2013', ',', 'crim', 'p.', 'p.', 'art.368°-', ',', 'n°', '1', ',', '2', '3', 'códig', 'penal', ';', '-', 'um', 'crim', 'de', 'branque', ',', 'co-aut', 'argu', 'carl', 'sant', 'silv', 'inê', 'do', 'ros', ',', 'relativ', 'utiliz', 'cont', 'bancár', 'dest', 'ult', 'argu', 'junt', 'montepi', 'geral', 'recepç', 'mesm', 'fund', ',', 'proveni', 'argu', 'carl', 'sant', 'silv', 'entreg', 'argu', 'josé', 'sócrat', ',', 'ocult', 'propriedad', 'mesm', 'quant', 'últ', ',', 'fact', 'ocorr', 'ano', '2013', '2014', ',', 'crim', 'p.', 'p.', 'art.º', '368', '.', '°-a', ',', 'n.º', '1', ',', '2', '3', 'códig', 'penal', ';', '-', 'um', 'crim', 'de', 'branque', ',', 'co-aut', 'argu', 'carl', 'sant', 'silv', 'joã', 'pern', ',', 'relat', 'utiliz', 'cont', 'titul', 'últ', 'portug', 'cont', 'pass', 'fund', 'orig', 'ilícit', 'proveni', 'argu', 'carl', 'sant', 'silv', 'destin', 'esf', 'patrimon', 'argu', 'josé', 'sócrat', ',', 'oper', 'ocorr', '2011', '2014', ',', 'crim', 'p.', 'p.', 'art.º', '368', '.', '°-a', ',', 'n.º', 'l', ',', '2', '3', 'códig', 'penal', ';', '-', 'um', 'crim', 'de', 'branque', ',', 'co-aut', 'argu', 'carl', 'sant', 'silv', 'sof', 'fav', 'relativ', '6', 's.', 'r.', 'tribun', 'centr', 'de', 'instruç', 'crim', 'aquis', 'imóvel', ',', 'design', '“', 'mont', 'margar', '”', ',', 'intenç', 'pass', 'integr', 'patrimóni', 'famili', 'argu', 'josé', 'sócrat', ',', 'regist', 'nom', 'terc', 'mont', 'oper', 'financ', 'form', 'cust', 'prest', 'mesm', ',', 'fact', 'ocorr', '2011', '2014', ',', 'crim', 'p.', 'p.', 'art.º', '368', '.', '°-a', ',', 'n.º', '1', ',', '2', '3', 'códig', 'penal', ';', '-', 'um', 'crim', 'de', 'falsific', 'de', 'document', ',', 'co-', 'autor', 'argu', 'carl', 'sant', 'siv', ',', 'relativ', 'declar', 'ades', 'rert', 'ii', 'outr', 'document', 'produz', 'utiliz', 'efeit', ',', 'report', 'titular', 'element', 'patrimon', 'declar', ',', 'concentr', 'cont', 'suíç', 'final', 'ano', '2010', ',', 'crim', 'p.', 'p.', 'art.º', '256', '.', '°', ',', 'n.º', '1', ',', 'alíne', ')', ',', 'd', ')', ')', 'códig', 'penal', ';', '-', 'um', 'crim', 'de', 'falsific', 'de', 'document', ',', 'co-', 'autor', 'argu', 'carl', 'sant', 'silv', 'joaquim', 'barroc', ',', 'relativ', 'prim', 'contrat', 'prest', 'serviç', 'celebr', 'lec', 's.a.', 'xlm', ',', 'fact', 'outr', 'document', 'produz', 'abrig', ',', 'fact', 'ocorr', 'part', '2009', ',', 'crim', 'p.', 'p.', 'art.º', '256', '.', '°', ',', 'n.º', 'l', ',', 'alíne', ')', ',', 'd', ')', ')', 'códig', 'penal', ';', '-', 'um', 'crim', 'de', 'falsific', 'de', 'document', ',', 'co-', 'autor', 'argu', 'carl', 'sant', 'silv', 'rui', 'mão', 'de', 'ferr', 'refer', 'contrat', 'prest', 'serviç', 'celebr', 'sociedad', 'xlm', 'rmf', 'consulting', ',', 'bem', 'fact', 'outr', 'document', 'produz', 'abrig', 'mesm', ',', 'serv', 'suport', 'circul', 'quant', 'sociedad', ',', 'orig', 'destin', 'argu', 'jos', 'socrat', ',', 'crim', 'p.', 'p.', 'art.º', '256', '.', '°', ',', 'n.º', 'l', ',', 'alíne', ')', ',', 'd', ')', ')', 'códig', 'penal', ';', '7', 's.', 'r.', 'tribun', 'centr', 'de', 'instruç', 'crim', '-', 'um', 'crim', 'de', 'falsific', 'de', 'document', ',', 'co-', 'autor', 'argu', 'carl', 'sant', 'silv', ',', 'ricard', 'salg', ',', 'héld', 'batagl', 'joaquim', 'barroc', ',', 'relativ', 'fact', 'refer', 'conjunt', 'document', 'inclu', 'contrat', 'promess', 'compr', 'vend', 'imóvel', 'angol', ',', 'denomin', 'kanhangul', ',', 'contrat', 'intermedi', 'aii', 'xlm', ',', 'cart', 'admiss', 'incumpr', 'perd', 'sinal', 'celebr', 'segund', 'contrat', 'prest', 'serviç', 'lec', 'xlm', ',', 'bem', 'fact', 'outr', 'document', 'produz', 'abrig', 'dest', 'contrat', ',', 'fact', 'ocorr', 'part', '2010', ',', 'crim', 'p.', 'p.', 'art.º', '256.°', ',', 'n.º', 'l', ',', 'alíne', ')', ',', 'd', ')', ')', 'códig', 'penal', ';', '-', 'um', 'crim', 'de', 'falsific', 'de', 'document', ',', 'co-', 'autor', 'argu', 'carl', 'sant', 'silv', 'sof', 'fav', ',', 'refer', 'contrat', 'prest', 'serviç', 'celebr', 'entr', 'xlm', 'argu', 'sof', 'fav', ',', 'serv', 'suport', 'receb', 'quant', 'últ', 'orig', 'argu', 'josé', 'sócrat', ',', 'crim', 'p.', 'p.', 'art.º', '256', '.', '°', ',', 'n.º', 'l', ',', 'alíne', ')', ',', 'd', ')', ')', 'códig', 'penal', ';', '-', 'um', 'crim', 'de', 'falsific', 'de', 'document', ',', 'co-', 'autor', 'argu', 'carl', 'sant', 'silv', ',', 'refer', 'contrat', 'prest', 'serviç', 'celebr', 'sociedad', 'xlm', 'ana', 'bess', ',', 'bem', 'fact', 'outr', 'document', 'produz', 'abrig', 'mesm', ',', 'serv', 'suport', 'receb', 'quant', 'ult', 'orig', 'argu', 'josé', 'sócrat', ',', 'crim', 'p.', 'p.', 'art.º', '256', '.', '°', ',', 'n.º', 'l', ',', 'alíne', ')', ',', 'd', ')', ')', 'códig', 'penal', ';', '-', 'um', 'crim', 'de', 'falsific', 'de', 'document', ',', 'co-', 'autor', 'argu', 'carl', 'sant', 'silv', 'rui', 'mao', 'de', 'ferr', '8', 's.', 'r.', 'tribun', 'centr', 'de', 'instruç', 'crim', 'refer', 'contrat', 'prest', 'serviç', 'celebr', 'sociedad', 'rmf', 'consulting', 'doming', 'far', 'jan', 'kirkby', ',', 'bem', 'fact', 'outr', 'document', 'produz', 'abrig', 'mesm', ',', 'serv', 'suport', 'receb', 'quant', 'últ', 'orig', 'argu', 'josé', 'sócrat', ',', 'crim', 'p.', 'p.', 'art.º', '256', '.', '°', ',', 'n.º', 'l', ',', 'alíne', ')', ',', 'd', ')', ')', 'códig', 'penal', ';', '-', 'um', 'crim', 'de', 'falsific', 'de', 'document', ',', 'co-', 'autor', 'argu', 'carl', 'sant', 'silv', 'rui', 'mão', 'de', 'ferr', 'refer', 'contrat', 'prest', 'serviç', 'celebr', 'sociedad', 'rmf', 'consulting', 'antóni', 'manuel', 'peixot', 'antóni', 'meg', 'peixot', ',', 'bem', 'fact', 'outr', 'document', 'produz', 'abrig', 'mesm', ',', 'serv', 'suport', 'receb', 'quant', 'últ', 'orig', 'argu', 'josé', 'sócrat', ',', 'crim', 'p.', 'p.', 'art.º', '256.°', ',', 'n.º', 'l', ',', 'alíne', ')', ',', 'd', ')', ')', 'códig', 'penal', ';', '-', 'um', 'crim', 'de', 'falsific', 'de', 'document', ',', 'co-', 'autor', 'argu', 'goncal', 'ferr', 'carl', 'sant', 'silv', ',', 'relativ', 'produç', 'uso', 'document', 'refer', 'aquis', 'subsequ', 'arrend', 'apart', 'paril', ',', 'sit', 'av', '.', 'president', 'wilson', ',', 'crim', 'p.', 'p.', 'art.º', '256', '.', '°', ',', 'n.º', 'l', 'alíne', ')', ',', 'd', ')', ')', 'códig', 'penal', ';', '-', 'um', 'crim', 'de', 'fraud', 'fiscal', 'qualific', ',', 'benefici', ',', 'co-aut', 'argu', 'carl', 'sant', 'silv', ',', 'tang', 'ir', 'apur', 'quant', 'ano', '2006', '2009', ',', 'crim', 'p.', 'p.', 'art', '.', 'l03°-l', ')', ',', 'b', ')', 'c', ')', '104°-', '1', 'd', ')', ',', ')', 'f', ')', 'rgit', ';', '9', 's.', 'r.', 'tribun', 'centr', 'de', 'instruç', 'crim', '-', 'um', 'crim', 'de', 'fraud', 'fiscal', 'qualific', ',', 'benefici', ',', 'co-aut', ',', 'argu', 'joaquim', 'barroc', ',', 'carl', 'sant', 'silv', ',', 'len', 'engenh', 'e', 'construco', 'sa', 'xlm', '-', 'sociedad', 'de', 'estud', 'e', 'project', 'lda', ',', 'tang', 'ir', 'apur', 'quant', 'ano', '2009', '2012', ',', 'crim', 'p.', 'p.', 'art', 'l03', '.', '°-l', ')', ',', 'b', ')', 'c', ')', '104', '.', '°-', '1', 'd', ')', ',', ')', 'f', ')', 'n.º', '2', 'rgit', ',', 'atual', 'n.º', '2', 'alíne', ')', 'art.º', 'l04', '.', '°', 'rgit', ';', '-', 'um', 'crim', 'de', 'fraud', 'fiscal', 'qualific', ',', 'benefici', ',', 'co-aut', ',', 'argu', 'joaquim', 'barroc', ',', 'carl', 'sant', 'silv', ',', 'len', 'engenh', 'e', 'construco', 'sa', 'xlm', '-', 'sociedad', 'de', 'estud', 'e', 'project', 'lda', 'tang', 'ir', 'apur', 'quant', 'ano', '2013', '2015', ',', 'crim', 'p.', 'p.', 'art', 'l03', '.', '°-l', ')', ',', 'b', ')', 'c', ')', '104°-', '1', 'd', ')', ',', ')', 'n.º', '2', 'alíne', ')', 'n.º', '3', 'rgit', '.', 'carl', 'manuel', 'do', 'sant', 'silv', '-', 'um', 'crim', 'de', 'corrupç', 'passiv', 'de', 'titul', 'de', 'carg', 'polít', ',', 'co-aut', 'argu', 'josé', 'sócrat', ',', 'refer', 'act', 'pratic', 'inter', 'grup', 'len', '2005', '2011', ',', 'crim', 'p.', 'p.', 'dispos', 'conjug', 'art', 'lº', ',', '2.°', ',', '3.°', ',', 'n.º', '1', ',', 'alíne', 'd', ')', ',', '17.°', ',', 'n.º', '1', '19.°', ',', 'n.º', '2', '3', 'lei', '34/87', ',', '16', 'julh', ',', 'redacç', 'introduz', 'lei', 'n°', '108/2001', ',', '28', 'novembro-', 'lei', 'crim', 'respons', 'titul', 'carg', 'polít', ',', 'refer', 'art', '28.°', '202.°', ',', 'alíne', 'b', ')', 'códig', 'penal', ';', '10', 's.', 'r.', 'tribun', 'centr', 'de', 'instruç', 'crim', '-', 'um', 'crim', 'de', 'corrupç', 'activ', ',', 'co-aut', 'argu', 'joaquim', 'barroc', 'josé', 'rib', 'do', 'sant', 'sociedad', 'xmi', ',', 'lec', 'sa', ',', 'lec', 'sgp', 'len', 'sa', ',', 'relativ', 'funcion', 'luí', 'marqu', ',', 'ano', '2007', '2009', ',', 'crim', 'p.', 'p.', 'art.º', '374', '.', '°', ',', 'n.º', 'l', 'códig', 'penal', ';', '-', 'um', 'crim', 'de', 'branque', ',', 'co-aut', 'argu', 'josé', 'sócrat', 'joaquim', 'barroc', 'relativ', 'mov', 'financ', 'orig', 'grup', 'len', 'pass', 'cont', 'suíç', 'dest', 'últ', 'argu', 'realiz', 'part', '2007', ',', 'crim', 'p.', 'p.', 'art.368°-', ',', 'n°', '1', ',', '2', '3', 'códig', 'penal', ';', '-', 'um', 'crim', 'de', 'branque', ',', 'co-aut', 'argu', 'josé', 'sócrat', 'joaquim', 'barroc', 'sociedad', 'lec', 'sa', '.', 'xlm', ',', 'relativ', 'utiliz', 'dest', 'ult', 'sociedad', ',', '2009', '2015', ',', 'coloc', 'fund', 'destin', 'argu', 'josé', 'sócrat', 'utiliz', 'mesm', 'inter', 'através', 'pag', 'desp', 'distribu', 'divid', 'cont', 'titul', 'argu', 'carl', 'sant', 'silv', ',', 'crim', 'p.', 'p.', 'art.º', '368.°-', ',', 'n.º', '1', ',', '2', '3', 'códig', 'penal', ';', '-', 'um', 'crim', 'de', 'branque', ',', 'co-aut', 'argu', 'josé', 'sócrat', ',', 'joaquim', 'barroc', 'rui', 'mão', 'de', 'ferr', 'sociedad', 'lec', 'sa', ',', 'xlm', 'rmf', 'consulting', ',', 'relativ', 'utiliz', 'dest', 'últ', 'sociedad', ',', '2010', '2014', ',', 'coloc', 'fund', 'destin', 'argu', 'josé', 'sócrat', 'utiliz', 'mesm', 'inter', 'através', 'pag', 'desp', 'coloc', '11', 's.', 'r.', 'tribun', 'centr', 'de', 'instruç', 'crim', 'numer', 'dispos', ',', '2010', '2014', ',', 'crim', 'p.', 'p.', 'art.º', '368.°-', ',', 'n.º', '1', ',', '2', '3', 'códig', 'penal', ';', '-', 'um', 'crim', 'de', 'branque', ',', 'co-aut', 'argu', 'joaquim', 'barroc', ',', 'josé', 'luí', 'rib', 'do', 'sant', ',', 'luì', 'marqu', 'sociedad', 'xmi', ',', 'relativ', 'utiliz', 'dest', 'últ', 'sociedad', 'contabil', 'coloc', 'fund', 'esf', 'patrimon', 'argu', 'luí', 'marqu', ',', 'crim', 'p.', 'p.', 'art.º', '368', '.', '°-a', ',', 'n.º', '1', ',', '2', '3', 'códig', 'penal', ';', '-', 'um', 'crim', 'de', 'branque', ',', 'co-aut', 'argu', 'josé', 'sócrat', ',', 'ricard', 'salg', ',', 'héld', 'batagl', 'josé', 'paul', 'pint', 'de', 'sous', ',', 'relativ', 'utiliz', ',', '2006', '2008', ',', 'cont', 'suíç', 'últ', 'autor', 'oper', 'financ', 'realiz', 'part', 'mesm', ',', 'crim', 'p.', 'p.', 'art.º', '368', '.', '°-a', ',', 'n.º', '1', ',', '2', '3', 'códig', 'penal', ';', '-', 'um', 'crim', 'de', 'branque', ',', 'co-aut', 'argu', 'josé', 'sòcrat', ',', 'ricard', 'salg', ',', 'héld', 'batagl', 'josé', 'paul', 'pint', 'de', 'sous', 'relativ', 'mov', 'financ', 'justific', 'contrat', 'pinsong', ',', 'realiz', 'ano', '2007', 'iníci', '2008', ',', 'orig', 'cont', 'suíç', 'es', 'enterpris', ',', 'crim', 'p.', 'p.', 'art.º', '368', '.', '°-a', ',', 'n.º', '1,2', '3', 'códig', 'penal', ';', '-', 'um', 'crim', 'de', 'branque', ',', 'co-aut', 'argu', 'josé', 'sócrat', ',', 'ricard', 'salg', ',', 'héld', 'batagl', 'joaquim', 'barroc', 'relativ', 'mov', 'financ', 'justific', 'contrat', 'pinsong', ',', 'realiz', 'part', 'abril', '2008', ',', 'orig', 'cont', 'suíç', 'es', 'enterpris', 'intervenç', '12', 's.', 'r.', 'tribun', 'centr', 'de', 'instruç', 'crim', 'cont', 'suíç', 'argu', 'joaquim', 'barroc', ',', 'crim', 'p.', 'p.', 'art.º', '368', '.', '°-a', ',', 'n.º', '1', ',', '2', '3', 'códig', 'penal', ';', '-', 'um', 'crim', 'de', 'branque', ',', 'co-aut', 'argu', 'josé', 'sócrat', ',', 'ricard', 'salg', ',', 'héld', 'batagl', 'joaquim', 'barroc', 'sociedad', 'lec', 'sa', ',', 'lec', 'sgp', ',', 'len', 'sgp', 'xlm', ',', 'relativ', 'mov', 'financ', ',', 'ocorr', 'part', '2010', ',', 'abrang', 'oper', 'cel_2010', ',', 'ocorr', 'part', '2010', 'justific', 'através', 'contrat', 'promess', 'compr', 'vend', 'perd', 'sinal', 'refer', 'imóvel', 'kanhangul', ',', 'sit', 'luand', ',', 'introduç', 'dess', 'fund', 'grup', 'len', ',', 'crim', 'p.', 'p.', 'art.º', '368.°-', ',', 'n.º', '1', ',', '2', '3', 'códig', 'penal', ';', '-', 'um', 'crim', 'de', 'branque', ',', 'co-aut', 'argu', 'josé', 'sócrat', ',', 'joaquim', 'barroc', 'arm', 'var', ',', 'diog', 'gasp', 'ferr', ',', 'rui', 'hort', 'e', 'cost', 'bárb', 'var', 'relativ', 'transfer', 'orig', 'cont', 'cidad', 'holand', 'van', 'doreen', ',', 'refer', 'financ', 'conced', 'grup', 'val', 'do', 'lob', ',', 'pass', 'cont', 'banc', 'suíç', 'titul', 'argu', 'joaquim', 'barroc', ',', 'crim', 'p.', 'p.', 'art.368°-', ',', 'n°', '1', ',', '2', '3', 'códig', 'penal', ';', '-', 'um', 'crim', 'de', 'branque', ',', 'co-aut', 'argu', 'josé', 'sócrat', 'relativ', 'concentr', 'fund', 'nov', 'cont', 'banc', 'suíç', 'titul', 'sociedad', 'offshor', ',', 'control', 'argu', 'carl', 'sant', 'silv', ',', 'transfer', 'cont', 'titul', 'argu', 'portug', ',', 'abrig', 'rert', 'ii', ',', 'crim', 'p.', 'p.', 'art.º', '368', '.', '°-a', ',', 'n.º', '1', ',', '2', '3', 'códig', 'penal', ';', '13', 's.', 'r.', 'tribun', 'centr', 'de', 'instruç', 'crim', '-', 'um', 'crim', 'de', 'branque', ',', 'co-aut', 'argu', 'josé', 'sócrat', 'relativ', 'dissip', 'fund', 'outr', 'cont', 'portug', ',', 'argu', 'carl', 'sant', 'silv', 'titul', 'autor', ',', 'confus', 'patrimóni', 'ambos', 'ness', 'cont', 'bancár', ',', 'crim', 'p.', 'p.', 'art.º', '368', '.', '°-a', ',', 'n.º', '1', ',', '2', '3', 'códig', 'penal', ';', '-', 'um', 'crim', 'de', 'branque', ',', 'co-aut', 'argu', 'josé', 'sócrat', 'gonçal', 'ferr', ',', 'quant', 'aquis', 'imóvel', 'portug', ',', 'ret', 'preç', 'pag', 'esf', 'patrimon', 'argu', 'josé', 'sócrat', ',', 'form', 'justific', ',', 'fact', 'ocorr', '2010', '2012', ',', 'crim', 'p.', 'p.', 'art.º', '368', '.', '°-a', ',', 'n.º', '1', ',', '2', '3', 'códig', 'penal', ';', '-', 'um', 'crim', 'de', 'branque', ',', 'co-aut', 'argu', 'josé', 'sócrat', 'gonçal', 'ferr', ',', 'relativ', 'aquis', 'subsequ', 'arrend', 'imóvel', 'paril', ',', 'intenç', 'ocult', 'titular', 'activ', ',', 'fact', 'pratic', '2012', '2014', ',', 'crim', 'p.', 'p.', 'art.º', '368', '.', '°-a', ',', 'n.º', '1', ',', '2', '3', 'códig', 'penal', ';', '-', 'um', 'crim', 'de', 'branque', ',', 'co-aut', 'argu', 'josé', 'sócrat', 'gonçal', 'ferr', ',', 'relativ', 'entreg', 'argu', 'carl', 'sant', 'silv', 'quant', 'pertenc', 'argu', 'josé', 'sócrat', 'depósit', 'cont', 'bancár', 'argu', 'gonçal', 'ferr', 'guard', 'cofr', 'banc', 'cont', 'titul', ',', 'form', 'ocult', 'propriedad', 'dess', 'fund', 'argu', 'josé', 'sócrat', ',', 'fact', 'ocorr', 'ano', '2012', '2013', ',', 'crim', 'p.', 'p.', 'art.º', '368.°-', ',', 'n.º', '1', ',', '2', '3', 'códig', 'penal', ';', '-', 'um', 'crim', 'de', 'branque', ',', 'co-aut', 'argu', 'josé', 'sócrat', 'inê', 'do', 'ros', ',', 'relativ', '14', 's.', 'r.', 'tribun', 'centr', 'de', 'instruç', 'crim', 'utiliz', 'cont', 'bancár', 'dest', 'últ', 'argu', 'junt', 'montepi', 'geral', 'recepç', 'mesm', 'fund', ',', 'proveni', 'argu', 'carl', 'sant', 'silv', 'entreg', 'argu', 'josé', 'sócrat', ',', 'ocult', 'propriedad', 'mesm', 'últ', ',', 'fact', 'ocorr', 'ano', '2013', '2014', ',', 'crim', 'p.', 'p.', 'art.º', '368', '.', '°-a', ',', 'n.º', '1', ',', '2', '3', 'códig', 'penal', ';', '-', 'um', 'crim', 'de', 'branque', ',', 'co-aut', 'argu', 'josé', 'sócrat', 'joã', 'pern', ',', 'relat', 'utiliz', 'cont', 'titul', 'últ', 'cont', 'pass', 'fund', 'orig', 'ilícit', 'proveni', 'carl', 'sant', 'silv', 'destin', 'esf', 'patrimon', 'argu', 'josé', 'sócrat', ',', 'oper', 'ocorr', '2011', '2014', ',', 'crim', 'p.', 'p.', 'art.º', '368', '.', '°-a', ',', 'n.º', 'l', ',', '2', '3', 'códig', 'penal', ';', '-', 'um', 'crim', 'de', 'branque', ',', 'co-aut', 'argu', 'josé', 'sòcrat', 'sof', 'fav', 'relativ', 'aquis', 'imóvel', ',', 'design', '“', 'mont', 'margar', '”', ',', 'intenç', 'pass', 'integr', 'patrimóni', 'famili', 'argu', 'josé', 'sòcrat', ',', 'regist', 'nom', 'terc', 'mont', 'oper', 'financ', 'form', 'cust', 'prest', 'mesm', ',', 'fact', 'ocorr', '2011', '2014', ',', 'crim', 'p.', 'p.', 'art.º', '368', '.', '°-a', ',', 'n.º', '1', ',', '2', '3', 'códig', 'penal', ';', '-', 'um', 'crim', 'de', 'falsific', 'de', 'document', ',', 'co-', 'autor', 'argu', 'jos', 'socrat', ',', 'relativ', 'declar', 'ades', 'rert', 'ii', 'outr', 'document', 'produz', 'utiliz', 'efeit', ',', 'report', 'titular', 'element', 'patrimon', 'declar', ',', 'concentr', 'cont', 'suíç', 'final', 'ano', '2010', ',', 'crim', 'p.', 'p.', 'art.º', '256', '.', '°', ',', 'n.º', '1', ',', 'alíne', ')', ',', 'd', ')', ')', 'códig', 'penal', ';', '15', 's.', 'r.', 'tribun', 'centr', 'de', 'instruç', 'crim', '-', 'um', 'crim', 'de', 'falsific', 'de', 'document', ',', 'co-', 'autor', 'argu', 'josé', 'sócrat', 'joaquim', 'barroc', ',', 'relativ', 'prim', 'contrat', 'prest', 'serviç', 'celebr', 'lec', 'sa', 'xlm', ',', 'fact', 'outr', 'document', 'produz', 'abrig', ',', 'fact', 'ocorr', 'part', '2009', ',', 'crim', 'p.', 'p.', 'art.º', '256', '.', '°', ',', 'n.º', '1', ',', 'alíne', ')', ',', 'd', ')', ')', 'códig', 'penal', ';', '-', 'um', 'crim', 'de', 'falsific', 'de', 'document', ',', 'pratic', ',', 'co-aut', ',', 'argu', 'josé', 'socrat', 'rui', 'mão', 'de', 'ferr', 'refer', 'contrat', 'prest', 'serviç', 'celebr', 'sociedad', 'xlm', 'rmf', 'consulting', ',', 'bem', 'fact', 'outr', 'document', 'produz', 'abrig', 'mesm', ',', 'serv', 'suport', 'circul', 'quant', 'sociedad', ',', 'orig', 'destin', 'argu', 'josé', 'sócrat', ',', 'crim', 'p.', 'p.', 'art.º', '256', '.', '°', ',', 'n.º', 'l', ',', 'alíne', ')', ',', 'd', ')', ')', 'códig', 'penal', ';', '-', 'um', 'crim', 'de', 'falsific', 'de', 'document', 'relativ', 'relatóri', 'cativ', 'xlm', ',', 'co-aut', 'argu', 'rui', 'mão', 'de', 'ferr', 'joaquim', 'barroc', ',', 'relat', 'forj', 'execuç', 'prim', 'contrat', 'lec', 'sa', 'xlm', ',', 'fact', 'ocorr', '2011', '2013', ',', 'crim', 'p.', 'p.', 'art.º', '256', '.', '°', ',', 'n.º', 'l', ',', 'alíne', ')', ',', 'd', ')', ')', 'códig', 'penal', ';', '-', 'um', 'crim', 'de', 'falsific', 'de', 'document', ',', 'co-', 'autor', 'argu', 'josé', 'sócrat', ',', 'ricard', 'salg', ',', 'héld', 'batagl', 'joaquim', 'barroc', ',', 'relativ', 'fact', 'refer', 'conjunt', 'document', 'inclu', 'contrat', 'promess', 'compr', 'vend', 'imóvel', 'angol', ',', 'denomin', 'kanhangul', ',', '16', 's.', 'r.', 'tribun', 'centr', 'de', 'instruç', 'crim', 'contrat', 'intermedi', 'aii', 'xlm', ',', 'cart', 'admiss', 'incumpr', 'perd', 'sinal', 'celebr', 'segund', 'contrat', 'prest', 'serviç', 'lec', 'xlm', ',', 'bem', 'fact', 'outr', 'document', 'produz', 'abrig', 'dess', 'contrat', ',', 'crim', 'p.', 'p.', 'art.º', '256.°', ',', 'n.º', 'l', ',', 'alíne', ')', ',', 'd', ')', ')', 'códig', 'penal', ';', '-', 'um', 'crim', 'de', 'falsific', 'de', 'document', ',', 'co-', 'autor', 'argu', 'josé', 'sócrat', 'sof', 'fav', ',', 'refer', 'contrat', 'prest', 'serviç', 'celebr', 'xlm', 'argu', 'sof', 'fav', ',', 'serv', 'suport', 'receb', 'quant', 'últ', 'orig', 'argu', 'josé', 'sócrat', ',', 'crim', 'p.', 'p.', 'art.º', '256', '.', '°', ',', 'n.º', 'l', ',', 'alíne', ')', ',', 'd', ')', ')', 'códig', 'penal', ';', '-', 'um', 'crim', 'de', 'falsific', 'de', 'document', ',', 'co-', 'autor', 'argu', 'josé', 'sócrat', ',', 'refer', 'contrat', 'prest', 'serviç', 'celebr', 'sociedad', 'xlm', 'ana', 'bess', ',', 'bem', 'fact', 'outr', 'document', 'produz', 'abrig', 'mesm', ',', 'serv', 'suport', 'receb', 'quant', 'últ', 'orig', 'argu', 'josé', 'sócrat', ',', 'crim', 'p.', 'p.', 'art.º', '256', '.', '°', ',', 'n.º', 'l', ',', 'alíne', ')', ',', 'd', ')', ')', 'códig', 'penal', ';', '-', 'um', 'crim', 'de', 'falsific', 'de', 'document', ',', 'co-', 'autor', 'argu', 'josé', 'sócrat', 'rui', 'mão', 'de', 'ferr', 'refer', 'contrat', 'prest', 'serviç', 'celebr', 'sociedad', 'rmf', 'consulting', 'doming', 'far', 'jan', 'kirkby', ',', 'bem', 'fact', 'outr', 'document', 'produz', 'abrig', 'mesm', ',', 'serv', 'suport', 'receb', 'quant', 'últ', 'orig', 'argu', '17', 's.', 'r.', 'tribun', 'centr', 'de', 'instruç', 'crim', 'josé', 'sócrat', ',', 'crim', 'p.', 'p.', 'art.º', '256', '.', '°', ',', 'n.º', 'l', ',', 'alíne', ')', ',', 'd', ')', ')', 'códig', 'penal', ';', '-', 'um', 'crim', 'de', 'falsific', 'de', 'document', ',', 'co-', 'autor', 'argu', 'josé', 'sócrat', 'rui', 'mão', 'de', 'ferr', 'refer', 'contrat', 'prest', 'serviç', 'celebr', 'sociedad', 'rmf', 'consulting', 'antóni', 'manuel', 'peixot', 'antóni', 'meg', 'peixot', ',', 'bem', 'fact', 'outr', 'document', 'produz', 'abrig', 'mesm', ',', 'serv', 'suport', 'receb', 'quant', 'últ']\n"
     ]
    }
   ],
   "source": [
    "ps = nltk.stem.RSLPStemmer()\n",
    "stemmed_words=[]\n",
    "for w in filtered_sent:\n",
    "    stemmed_words.append(ps.stem(w))\n",
    "\n",
    "print(\"Stemmed Sentence:\",stemmed_words)\n"
   ]
  },
  {
   "cell_type": "code",
   "execution_count": 215,
   "id": "military-samba",
   "metadata": {},
   "outputs": [
    {
     "name": "stdout",
     "output_type": "stream",
     "text": [
      "<FreqDist with 449 samples and 3815 outcomes>\n"
     ]
    }
   ],
   "source": [
    "fdist = FreqDist(filtered_sent)\n",
    "print(fdist)"
   ]
  },
  {
   "cell_type": "code",
   "execution_count": 216,
   "id": "happy-homework",
   "metadata": {},
   "outputs": [
    {
     "data": {
      "text/plain": [
       "[(',', 490),\n",
       " ('p.', 116),\n",
       " ('DE', 110),\n",
       " (')', 80),\n",
       " ('-', 62),\n",
       " ('Um', 59),\n",
       " ('arguido', 59),\n",
       " ('crime', 58),\n",
       " (';', 57),\n",
       " ('CRIME', 56),\n",
       " ('Código', 55),\n",
       " ('Penal', 55),\n",
       " ('JOSÉ', 54),\n",
       " ('art.º', 51),\n",
       " ('arguidos', 48),\n",
       " ('.', 44),\n",
       " ('SÓCRATES', 43),\n",
       " ('1', 43),\n",
       " ('co-autoria', 42),\n",
       " ('SANTOS', 41)]"
      ]
     },
     "execution_count": 216,
     "metadata": {},
     "output_type": "execute_result"
    }
   ],
   "source": [
    "fdist.most_common(20)"
   ]
  },
  {
   "cell_type": "code",
   "execution_count": 217,
   "id": "material-studio",
   "metadata": {},
   "outputs": [
    {
     "data": {
      "image/png": "[encoded data removed]",
      "text/plain": [
       "<Figure size 432x288 with 1 Axes>"
      ]
     },
     "metadata": {
      "needs_background": "light"
     },
     "output_type": "display_data"
    }
   ],
   "source": [
    "fdist.plot(30,cumulative=False)\n",
    "plt.show()"
   ]
  },
  {
   "cell_type": "code",
   "execution_count": 226,
   "id": "increased-audience",
   "metadata": {},
   "outputs": [
    {
     "name": "stdout",
     "output_type": "stream",
     "text": [
      "Código\n"
     ]
    },
    {
     "ename": "AttributeError",
     "evalue": "'list' object has no attribute 'replace'",
     "output_type": "error",
     "traceback": [
      "\u001b[0;31m---------------------------------------------------------------------------\u001b[0m",
      "\u001b[0;31mAttributeError\u001b[0m                            Traceback (most recent call last)",
      "\u001b[0;32m<ipython-input-226-3cb1b4ae2dc2>\u001b[0m in \u001b[0;36m<module>\u001b[0;34m\u001b[0m\n\u001b[1;32m      2\u001b[0m \u001b[0;32mfor\u001b[0m \u001b[0mword\u001b[0m \u001b[0;32min\u001b[0m \u001b[0mretirar\u001b[0m\u001b[0;34m:\u001b[0m\u001b[0;34m\u001b[0m\u001b[0;34m\u001b[0m\u001b[0m\n\u001b[1;32m      3\u001b[0m     \u001b[0mprint\u001b[0m\u001b[0;34m(\u001b[0m\u001b[0mword\u001b[0m\u001b[0;34m)\u001b[0m\u001b[0;34m\u001b[0m\u001b[0;34m\u001b[0m\u001b[0m\n\u001b[0;32m----> 4\u001b[0;31m     \u001b[0mfiltered_sent\u001b[0m \u001b[0;34m=\u001b[0m \u001b[0mfiltered_sent\u001b[0m\u001b[0;34m.\u001b[0m\u001b[0mreplace\u001b[0m\u001b[0;34m(\u001b[0m\u001b[0mword\u001b[0m\u001b[0;34m,\u001b[0m\u001b[0;34m''\u001b[0m\u001b[0;34m)\u001b[0m\u001b[0;34m\u001b[0m\u001b[0;34m\u001b[0m\u001b[0m\n\u001b[0m\u001b[1;32m      5\u001b[0m \u001b[0mprint\u001b[0m\u001b[0;34m(\u001b[0m\u001b[0mfiltered_sent\u001b[0m\u001b[0;34m)\u001b[0m\u001b[0;34m\u001b[0m\u001b[0;34m\u001b[0m\u001b[0m\n",
      "\u001b[0;31mAttributeError\u001b[0m: 'list' object has no attribute 'replace'"
     ]
    }
   ],
   "source": [
    "retirar = ['Código']\n",
    "for word in retirar:\n",
    "    print(word)\n",
    "    filtered_sent = filtered_sent.replace(word,'')\n",
    "print(filtered_sent)"
   ]
  },
  {
   "cell_type": "code",
   "execution_count": 223,
   "id": "lovely-tissue",
   "metadata": {},
   "outputs": [
    {
     "name": "stdout",
     "output_type": "stream",
     "text": [
      "Asking  help, clarification,  responding  other answers.\n"
     ]
    }
   ],
   "source": [
    "stopwords=['for','or','to']\n",
    "p='Asking for help, clarification, or responding to other answers.'\n",
    "for i in stopwords:\n",
    "  n=p.replace(i,'')\n",
    "  p=n\n",
    "print(p)"
   ]
  },
  {
   "cell_type": "code",
   "execution_count": null,
   "id": "double-cooking",
   "metadata": {},
   "outputs": [],
   "source": [
    "# https://machinelearningmastery.com/clean-text-machine-learning-python/"
   ]
  },
  {
   "cell_type": "code",
   "execution_count": 229,
   "id": "immediate-viking",
   "metadata": {},
   "outputs": [
    {
     "name": "stdout",
     "output_type": "stream",
     "text": [
      "['\\ufeffThe', 'Project', 'Gutenberg', 'EBook', 'of', 'Metamorphosis,', 'by', 'Franz', 'Kafka', 'Translated', 'by', 'David', 'Wyllie.', 'This', 'eBook', 'is', 'for', 'the', 'use', 'of', 'anyone', 'anywhere', 'at', 'no', 'cost', 'and', 'with', 'almost', 'no', 'restrictions', 'whatsoever.', 'You', 'may', 'copy', 'it,', 'give', 'it', 'away', 'or', 're-use', 'it', 'under', 'the', 'terms', 'of', 'the', 'Project', 'Gutenberg', 'License', 'included', 'with', 'this', 'eBook', 'or', 'online', 'at', 'www.gutenberg.org', '**', 'This', 'is', 'a', 'COPYRIGHTED', 'Project', 'Gutenberg', 'eBook,', 'Details', 'Below', '**', '**', 'Please', 'follow', 'the', 'copyright', 'guidelines', 'in', 'this', 'file.', '**', 'Title:', 'Metamorphosis', 'Author:', 'Franz', 'Kafka', 'Translator:', 'David', 'Wyllie', 'Release', 'Date:', 'August', '16,', '2005', '[EBook', '#5200]', 'First', 'posted:', 'May', '13,', '2002', 'Last', 'updated:']\n"
     ]
    }
   ],
   "source": [
    "# load text\n",
    "filename = 'metamorphosis_clean.txt'\n",
    "file = open(filename, 'rt')\n",
    "text = file.read()\n",
    "file.close()\n",
    "# split into words by white space\n",
    "words = text.split()\n",
    "print(words[:100])"
   ]
  },
  {
   "cell_type": "code",
   "execution_count": 231,
   "id": "tropical-wound",
   "metadata": {},
   "outputs": [
    {
     "name": "stdout",
     "output_type": "stream",
     "text": [
      "['', 'The', 'Project', 'Gutenberg', 'EBook', 'of', 'Metamorphosis', 'by', 'Franz', 'Kafka', 'Translated', 'by', 'David', 'Wyllie', 'This', 'eBook', 'is', 'for', 'the', 'use', 'of', 'anyone', 'anywhere', 'at', 'no', 'cost', 'and', 'with', 'almost', 'no', 'restrictions', 'whatsoever', 'You', 'may', 'copy', 'it', 'give', 'it', 'away', 'or', 're', 'use', 'it', 'under', 'the', 'terms', 'of', 'the', 'Project', 'Gutenberg', 'License', 'included', 'with', 'this', 'eBook', 'or', 'online', 'at', 'www', 'gutenberg', 'org', 'This', 'is', 'a', 'COPYRIGHTED', 'Project', 'Gutenberg', 'eBook', 'Details', 'Below', 'Please', 'follow', 'the', 'copyright', 'guidelines', 'in', 'this', 'file', 'Title', 'Metamorphosis', 'Author', 'Franz', 'Kafka', 'Translator', 'David', 'Wyllie', 'Release', 'Date', 'August', '16', '2005', 'EBook', '5200', 'First', 'posted', 'May', '13', '2002', 'Last', 'updated']\n"
     ]
    }
   ],
   "source": [
    "# load text\n",
    "filename = 'metamorphosis_clean.txt'\n",
    "file = open(filename, 'rt')\n",
    "text = file.read()\n",
    "file.close()\n",
    "# split based on words only\n",
    "import re\n",
    "words = re.split(r'\\W+', text)\n",
    "print(words[:100])"
   ]
  },
  {
   "cell_type": "code",
   "execution_count": 234,
   "id": "similar-holocaust",
   "metadata": {},
   "outputs": [
    {
     "name": "stdout",
     "output_type": "stream",
     "text": [
      "!\"#$%&'()*+,-./:;<=>?@[\\]^_`{|}~\n"
     ]
    }
   ],
   "source": [
    "# import string library function\n",
    "import string\n",
    "\t\n",
    "# Storing the sets of punctuation in variable result\n",
    "result = string.punctuation\n",
    "\t\n",
    "# Printing the punctuation values\n",
    "print(result)\n"
   ]
  },
  {
   "cell_type": "code",
   "execution_count": 235,
   "id": "biblical-effort",
   "metadata": {},
   "outputs": [],
   "source": [
    "table = str.maketrans('', '', string.punctuation)"
   ]
  },
  {
   "cell_type": "code",
   "execution_count": 236,
   "id": "pleased-montreal",
   "metadata": {},
   "outputs": [
    {
     "name": "stdout",
     "output_type": "stream",
     "text": [
      "['\\ufeffThe', 'Project', 'Gutenberg', 'EBook', 'of', 'Metamorphosis', 'by', 'Franz', 'Kafka', 'Translated', 'by', 'David', 'Wyllie', 'This', 'eBook', 'is', 'for', 'the', 'use', 'of', 'anyone', 'anywhere', 'at', 'no', 'cost', 'and', 'with', 'almost', 'no', 'restrictions', 'whatsoever', 'You', 'may', 'copy', 'it', 'give', 'it', 'away', 'or', 'reuse', 'it', 'under', 'the', 'terms', 'of', 'the', 'Project', 'Gutenberg', 'License', 'included', 'with', 'this', 'eBook', 'or', 'online', 'at', 'wwwgutenbergorg', '', 'This', 'is', 'a', 'COPYRIGHTED', 'Project', 'Gutenberg', 'eBook', 'Details', 'Below', '', '', 'Please', 'follow', 'the', 'copyright', 'guidelines', 'in', 'this', 'file', '', 'Title', 'Metamorphosis', 'Author', 'Franz', 'Kafka', 'Translator', 'David', 'Wyllie', 'Release', 'Date', 'August', '16', '2005', 'EBook', '5200', 'First', 'posted', 'May', '13', '2002', 'Last', 'updated']\n"
     ]
    }
   ],
   "source": [
    "# load text\n",
    "filename = 'metamorphosis_clean.txt'\n",
    "file = open(filename, 'rt')\n",
    "text = file.read()\n",
    "file.close()\n",
    "# split into words by white space\n",
    "words = text.split()\n",
    "# remove punctuation from each word\n",
    "import string\n",
    "table = str.maketrans('', '', string.punctuation)\n",
    "stripped = [w.translate(table) for w in words]\n",
    "print(stripped[:100])"
   ]
  },
  {
   "cell_type": "code",
   "execution_count": 237,
   "id": "smaller-tribe",
   "metadata": {},
   "outputs": [
    {
     "name": "stdout",
     "output_type": "stream",
     "text": [
      "['\\ufeffthe', 'project', 'gutenberg', 'ebook', 'of', 'metamorphosis,', 'by', 'franz', 'kafka', 'translated', 'by', 'david', 'wyllie.', 'this', 'ebook', 'is', 'for', 'the', 'use', 'of', 'anyone', 'anywhere', 'at', 'no', 'cost', 'and', 'with', 'almost', 'no', 'restrictions', 'whatsoever.', 'you', 'may', 'copy', 'it,', 'give', 'it', 'away', 'or', 're-use', 'it', 'under', 'the', 'terms', 'of', 'the', 'project', 'gutenberg', 'license', 'included', 'with', 'this', 'ebook', 'or', 'online', 'at', 'www.gutenberg.org', '**', 'this', 'is', 'a', 'copyrighted', 'project', 'gutenberg', 'ebook,', 'details', 'below', '**', '**', 'please', 'follow', 'the', 'copyright', 'guidelines', 'in', 'this', 'file.', '**', 'title:', 'metamorphosis', 'author:', 'franz', 'kafka', 'translator:', 'david', 'wyllie', 'release', 'date:', 'august', '16,', '2005', '[ebook', '#5200]', 'first', 'posted:', 'may', '13,', '2002', 'last', 'updated:']\n"
     ]
    }
   ],
   "source": [
    "filename = 'metamorphosis_clean.txt'\n",
    "file = open(filename, 'rt')\n",
    "text = file.read()\n",
    "file.close()\n",
    "# split into words by white space\n",
    "words = text.split()\n",
    "# convert to lower case\n",
    "words = [word.lower() for word in words]\n",
    "print(words[:100])"
   ]
  },
  {
   "cell_type": "code",
   "execution_count": null,
   "id": "english-lightweight",
   "metadata": {},
   "outputs": [],
   "source": [
    "#python -m nltk.downloader all"
   ]
  },
  {
   "cell_type": "code",
   "execution_count": 239,
   "id": "worldwide-cornell",
   "metadata": {},
   "outputs": [
    {
     "name": "stdout",
     "output_type": "stream",
     "text": [
      "﻿The Project Gutenberg EBook of Metamorphosis, by Franz Kafka\n",
      "Translated by David Wyllie.\n"
     ]
    }
   ],
   "source": [
    "# load data\n",
    "filename = 'metamorphosis_clean.txt'\n",
    "file = open(filename, 'rt')\n",
    "text = file.read()\n",
    "file.close()\n",
    "# split into sentences\n",
    "from nltk import sent_tokenize\n",
    "sentences = sent_tokenize(text)\n",
    "print(sentences[0])"
   ]
  },
  {
   "cell_type": "code",
   "execution_count": 240,
   "id": "developmental-insulation",
   "metadata": {},
   "outputs": [
    {
     "name": "stdout",
     "output_type": "stream",
     "text": [
      "['\\ufeffThe', 'Project', 'Gutenberg', 'EBook', 'of', 'Metamorphosis', ',', 'by', 'Franz', 'Kafka', 'Translated', 'by', 'David', 'Wyllie', '.', 'This', 'eBook', 'is', 'for', 'the', 'use', 'of', 'anyone', 'anywhere', 'at', 'no', 'cost', 'and', 'with', 'almost', 'no', 'restrictions', 'whatsoever', '.', 'You', 'may', 'copy', 'it', ',', 'give', 'it', 'away', 'or', 're-use', 'it', 'under', 'the', 'terms', 'of', 'the', 'Project', 'Gutenberg', 'License', 'included', 'with', 'this', 'eBook', 'or', 'online', 'at', 'www.gutenberg.org', '*', '*', 'This', 'is', 'a', 'COPYRIGHTED', 'Project', 'Gutenberg', 'eBook', ',', 'Details', 'Below', '*', '*', '*', '*', 'Please', 'follow', 'the', 'copyright', 'guidelines', 'in', 'this', 'file', '.', '*', '*', 'Title', ':', 'Metamorphosis', 'Author', ':', 'Franz', 'Kafka', 'Translator', ':', 'David', 'Wyllie', 'Release']\n"
     ]
    }
   ],
   "source": [
    "# load data\n",
    "filename = 'metamorphosis_clean.txt'\n",
    "file = open(filename, 'rt')\n",
    "text = file.read()\n",
    "file.close()\n",
    "# split into words\n",
    "from nltk.tokenize import word_tokenize\n",
    "tokens = word_tokenize(text)\n",
    "print(tokens[:100])"
   ]
  },
  {
   "cell_type": "code",
   "execution_count": 241,
   "id": "australian-community",
   "metadata": {},
   "outputs": [
    {
     "name": "stdout",
     "output_type": "stream",
     "text": [
      "['Project', 'Gutenberg', 'EBook', 'of', 'Metamorphosis', 'by', 'Franz', 'Kafka', 'Translated', 'by', 'David', 'Wyllie', 'This', 'eBook', 'is', 'for', 'the', 'use', 'of', 'anyone', 'anywhere', 'at', 'no', 'cost', 'and', 'with', 'almost', 'no', 'restrictions', 'whatsoever', 'You', 'may', 'copy', 'it', 'give', 'it', 'away', 'or', 'it', 'under', 'the', 'terms', 'of', 'the', 'Project', 'Gutenberg', 'License', 'included', 'with', 'this', 'eBook', 'or', 'online', 'at', 'This', 'is', 'a', 'COPYRIGHTED', 'Project', 'Gutenberg', 'eBook', 'Details', 'Below', 'Please', 'follow', 'the', 'copyright', 'guidelines', 'in', 'this', 'file', 'Title', 'Metamorphosis', 'Author', 'Franz', 'Kafka', 'Translator', 'David', 'Wyllie', 'Release', 'Date', 'August', 'EBook', 'First', 'posted', 'May', 'Last', 'updated', 'May', 'Language', 'English', 'START', 'OF', 'THIS', 'PROJECT', 'GUTENBERG', 'EBOOK', 'METAMORPHOSIS', 'Copyright', 'C']\n"
     ]
    }
   ],
   "source": [
    "# load data\n",
    "filename = 'metamorphosis_clean.txt'\n",
    "file = open(filename, 'rt')\n",
    "text = file.read()\n",
    "file.close()\n",
    "# split into words\n",
    "from nltk.tokenize import word_tokenize\n",
    "tokens = word_tokenize(text)\n",
    "# remove all tokens that are not alphabetic\n",
    "words = [word for word in tokens if word.isalpha()]\n",
    "print(words[:100])"
   ]
  },
  {
   "cell_type": "code",
   "execution_count": 242,
   "id": "chemical-vitamin",
   "metadata": {},
   "outputs": [
    {
     "name": "stdout",
     "output_type": "stream",
     "text": [
      "['i', 'me', 'my', 'myself', 'we', 'our', 'ours', 'ourselves', 'you', \"you're\", \"you've\", \"you'll\", \"you'd\", 'your', 'yours', 'yourself', 'yourselves', 'he', 'him', 'his', 'himself', 'she', \"she's\", 'her', 'hers', 'herself', 'it', \"it's\", 'its', 'itself', 'they', 'them', 'their', 'theirs', 'themselves', 'what', 'which', 'who', 'whom', 'this', 'that', \"that'll\", 'these', 'those', 'am', 'is', 'are', 'was', 'were', 'be', 'been', 'being', 'have', 'has', 'had', 'having', 'do', 'does', 'did', 'doing', 'a', 'an', 'the', 'and', 'but', 'if', 'or', 'because', 'as', 'until', 'while', 'of', 'at', 'by', 'for', 'with', 'about', 'against', 'between', 'into', 'through', 'during', 'before', 'after', 'above', 'below', 'to', 'from', 'up', 'down', 'in', 'out', 'on', 'off', 'over', 'under', 'again', 'further', 'then', 'once', 'here', 'there', 'when', 'where', 'why', 'how', 'all', 'any', 'both', 'each', 'few', 'more', 'most', 'other', 'some', 'such', 'no', 'nor', 'not', 'only', 'own', 'same', 'so', 'than', 'too', 'very', 's', 't', 'can', 'will', 'just', 'don', \"don't\", 'should', \"should've\", 'now', 'd', 'll', 'm', 'o', 're', 've', 'y', 'ain', 'aren', \"aren't\", 'couldn', \"couldn't\", 'didn', \"didn't\", 'doesn', \"doesn't\", 'hadn', \"hadn't\", 'hasn', \"hasn't\", 'haven', \"haven't\", 'isn', \"isn't\", 'ma', 'mightn', \"mightn't\", 'mustn', \"mustn't\", 'needn', \"needn't\", 'shan', \"shan't\", 'shouldn', \"shouldn't\", 'wasn', \"wasn't\", 'weren', \"weren't\", 'won', \"won't\", 'wouldn', \"wouldn't\"]\n"
     ]
    }
   ],
   "source": [
    "from nltk.corpus import stopwords\n",
    "stop_words = stopwords.words('english')\n",
    "print(stop_words)"
   ]
  },
  {
   "cell_type": "code",
   "execution_count": 243,
   "id": "nonprofit-pound",
   "metadata": {},
   "outputs": [
    {
     "name": "stdout",
     "output_type": "stream",
     "text": [
      "['project', 'gutenberg', 'ebook', 'metamorphosis', 'franz', 'kafka', 'translated', 'david', 'wyllie', 'ebook', 'use', 'anyone', 'anywhere', 'cost', 'almost', 'restrictions', 'whatsoever', 'may', 'copy', 'give', 'away', 'reuse', 'terms', 'project', 'gutenberg', 'license', 'included', 'ebook', 'online', 'wwwgutenbergorg', 'copyrighted', 'project', 'gutenberg', 'ebook', 'details', 'please', 'follow', 'copyright', 'guidelines', 'file', 'title', 'metamorphosis', 'author', 'franz', 'kafka', 'translator', 'david', 'wyllie', 'release', 'date', 'august', 'ebook', 'first', 'posted', 'may', 'last', 'updated', 'may', 'language', 'english', 'start', 'project', 'gutenberg', 'ebook', 'metamorphosis', 'copyright', 'c', 'david', 'wyllie', 'metamorphosis', 'franz', 'kafka', 'translated', 'david', 'wyllie', 'one', 'morning', 'gregor', 'samsa', 'woke', 'troubled', 'dreams', 'found', 'transformed', 'bed', 'horrible', 'vermin', 'lay', 'armourlike', 'back', 'lifted', 'head', 'little', 'could', 'see', 'brown', 'belly', 'slightly', 'domed', 'divided']\n"
     ]
    }
   ],
   "source": [
    "# load data\n",
    "filename = 'metamorphosis_clean.txt'\n",
    "file = open(filename, 'rt')\n",
    "text = file.read()\n",
    "file.close()\n",
    "# split into words\n",
    "from nltk.tokenize import word_tokenize\n",
    "tokens = word_tokenize(text)\n",
    "# convert to lower case\n",
    "tokens = [w.lower() for w in tokens]\n",
    "# remove punctuation from each word\n",
    "import string\n",
    "table = str.maketrans('', '', string.punctuation)\n",
    "stripped = [w.translate(table) for w in tokens]\n",
    "# remove remaining tokens that are not alphabetic\n",
    "words = [word for word in stripped if word.isalpha()]\n",
    "# filter out stop words\n",
    "from nltk.corpus import stopwords\n",
    "stop_words = set(stopwords.words('english'))\n",
    "words = [w for w in words if not w in stop_words]\n",
    "print(words[:100])"
   ]
  },
  {
   "cell_type": "code",
   "execution_count": 244,
   "id": "herbal-irish",
   "metadata": {},
   "outputs": [
    {
     "name": "stdout",
     "output_type": "stream",
     "text": [
      "['project', 'gutenberg', 'ebook', 'metamorphosis', 'franz', 'kafka', 'translated', 'david', 'wyllie', 'ebook', 'use', 'anyone', 'anywhere', 'cost', 'almost', 'restrictions', 'whatsoever', 'may', 'copy', 'give', 'away', 'reuse', 'terms', 'project', 'gutenberg', 'license', 'included', 'ebook', 'online', 'wwwgutenbergorg', 'copyrighted', 'project', 'gutenberg', 'ebook', 'details', 'please', 'follow', 'copyright', 'guidelines', 'file', 'title', 'metamorphosis', 'author', 'franz', 'kafka', 'translator', 'david', 'wyllie', 'release', 'date', 'august', 'ebook', 'first', 'posted', 'may', 'last', 'updated', 'may', 'language', 'english', 'start', 'project', 'gutenberg', 'ebook', 'metamorphosis', 'copyright', 'c', 'david', 'wyllie', 'metamorphosis', 'franz', 'kafka', 'translated', 'david', 'wyllie', 'one', 'morning', 'gregor', 'samsa', 'woke', 'troubled', 'dreams', 'found', 'transformed', 'bed', 'horrible', 'vermin', 'lay', 'armourlike', 'back', 'lifted', 'head', 'little', 'could', 'see', 'brown', 'belly', 'slightly', 'domed', 'divided']\n"
     ]
    }
   ],
   "source": [
    "# load data\n",
    "filename = 'metamorphosis_clean.txt'\n",
    "file = open(filename, 'rt')\n",
    "text = file.read()\n",
    "file.close()\n",
    "# split into words\n",
    "from nltk.tokenize import word_tokenize\n",
    "tokens = word_tokenize(text)\n",
    "# convert to lower case\n",
    "tokens = [w.lower() for w in tokens]\n",
    "# remove punctuation from each word\n",
    "import string\n",
    "table = str.maketrans('', '', string.punctuation)\n",
    "stripped = [w.translate(table) for w in tokens]\n",
    "# remove remaining tokens that are not alphabetic\n",
    "words = [word for word in stripped if word.isalpha()]\n",
    "# filter out stop words\n",
    "from nltk.corpus import stopwords\n",
    "stop_words = set(stopwords.words('english'))\n",
    "words = [w for w in words if not w in stop_words]\n",
    "print(words[:100])"
   ]
  },
  {
   "cell_type": "code",
   "execution_count": 246,
   "id": "operational-idaho",
   "metadata": {},
   "outputs": [
    {
     "name": "stdout",
     "output_type": "stream",
     "text": [
      "['s', 'r', 'tribunal', 'central', 'instrução', 'criminal', 'nuipc', 'decisão', 'instrutória', 'capítulo', 'i', 'i', 'relatório', 'acusação', 'imputado', 'sede', 'acusação', 'arguidos', 'josé', 'sócrates', 'carvalho', 'pinto', 'sousa', 'crime', 'corrupção', 'passiva', 'titular', 'cargo', 'político', 'coautoria', 'arguido', 'carlos', 'santos', 'silva', 'referência', 'actos', 'praticados', 'interesse', 'grupo', 'lena', 'crime', 'p', 'p', 'disposições', 'conjugadas', 'artº', 'nº', 'alínea', 'd', 'nº', 'nºs', 'lei', 'nº', 'julho', 'redacção', 'introduzida', 'lei', 'nº', 'novembro', 'lei', 'crimes', 'responsabilidade', 's', 'r', 'tribunal', 'central', 'instrução', 'criminal', 'titulares', 'cargos', 'políticos', 'referência', 'artº', 'alínea', 'b', 'código', 'penal', 'crime', 'corrupção', 'passiva', 'titular', 'cargo', 'político', 'referência', 'actos', 'praticados', 'interesse', 'arguido', 'ricardo', 'salgado', 'relativamente', 'negócios', 'grupo', 'portugal', 'telecom', 'ges', 'crime', 'p', 'p', 'disposições']\n"
     ]
    }
   ],
   "source": [
    "# load data\n",
    "filename = 'tmp.txt'\n",
    "file = open(filename, 'rt')\n",
    "text = file.read()\n",
    "file.close()\n",
    "# split into words\n",
    "from nltk.tokenize import word_tokenize\n",
    "tokens = word_tokenize(text)\n",
    "# convert to lower case\n",
    "tokens = [w.lower() for w in tokens]\n",
    "# remove punctuation from each word\n",
    "import string\n",
    "table = str.maketrans('', '', string.punctuation)\n",
    "stripped = [w.translate(table) for w in tokens]\n",
    "# remove remaining tokens that are not alphabetic\n",
    "words = [word for word in stripped if word.isalpha()]\n",
    "# filter out stop words\n",
    "from nltk.corpus import stopwords\n",
    "stop_words = set(stopwords.words('portuguese'))\n",
    "words = [w for w in words if not w in stop_words]\n",
    "print(words[:100])"
   ]
  },
  {
   "cell_type": "code",
   "execution_count": 247,
   "id": "touched-update",
   "metadata": {},
   "outputs": [],
   "source": [
    "fdist = FreqDist(words)"
   ]
  },
  {
   "cell_type": "code",
   "execution_count": 249,
   "id": "friendly-familiar",
   "metadata": {},
   "outputs": [
    {
     "data": {
      "text/plain": [
       "[('p', 382),\n",
       " ('crime', 378),\n",
       " ('arguido', 188),\n",
       " ('josé', 165),\n",
       " ('nº', 162),\n",
       " ('penal', 156),\n",
       " ('código', 137),\n",
       " ('relativamente', 136),\n",
       " ('artº', 130),\n",
       " ('arguidos', 126),\n",
       " ('sócrates', 125),\n",
       " ('santos', 125),\n",
       " ('coautoria', 116),\n",
       " ('carlos', 112),\n",
       " ('silva', 112),\n",
       " ('branqueamento', 88),\n",
       " ('d', 85),\n",
       " ('sa', 76),\n",
       " ('joaquim', 71),\n",
       " ('barroca', 71)]"
      ]
     },
     "execution_count": 249,
     "metadata": {},
     "output_type": "execute_result"
    }
   ],
   "source": [
    "fdist.most_common(20)"
   ]
  },
  {
   "cell_type": "code",
   "execution_count": null,
   "id": "practical-administrator",
   "metadata": {},
   "outputs": [],
   "source": [
    "# https://medium.com/@alegeorgelustosa/an%C3%A1lise-de-sentimentos-e-introdu%C3%A7%C3%A3o-a-nlp-com-python-amazon-yelp-imdb-28a8a66d78cf"
   ]
  }
 ],
 "metadata": {
  "kernelspec": {
   "display_name": "Python 3",
   "language": "python",
   "name": "python3"
  },
  "language_info": {
   "codemirror_mode": {
    "name": "ipython",
    "version": 3
   },
   "file_extension": ".py",
   "mimetype": "text/x-python",
   "name": "python",
   "nbconvert_exporter": "python",
   "pygments_lexer": "ipython3",
   "version": "3.8.8"
  }
 },
 "nbformat": 4,
 "nbformat_minor": 5
}
