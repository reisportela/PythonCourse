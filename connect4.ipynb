{
 "cells": [
  {
   "cell_type": "code",
   "execution_count": null,
   "metadata": {},
   "outputs": [],
   "source": [
    "# Source\n",
    "## "
   ]
  },
  {
   "cell_type": "code",
   "execution_count": 1,
   "metadata": {},
   "outputs": [
    {
     "name": "stdin",
     "output_type": "stream",
     "text": [
      "Please pick a marker 'X' or 'O'  x\n"
     ]
    },
    {
     "name": "stdout",
     "output_type": "stream",
     "text": [
      "You've choosen x. Player 2 will be O\n",
      "____________________________\n",
      "   |   |   |   |   |   |  \n",
      "____________________________\n",
      "   |   |   |   |   |   |  \n",
      "____________________________\n",
      "   |   |   |   |   |   |  \n",
      "____________________________\n",
      "   |   |   |   |   |   |  \n",
      "____________________________\n",
      "   |   |   |   |   |   |  \n",
      "____________________________\n",
      "   |   |   |   |   |   |  \n",
      "0    1    2    3    4    5    6\n"
     ]
    },
    {
     "name": "stdin",
     "output_type": "stream",
     "text": [
      "Please select an empty space between 0 and 6 :  1\n"
     ]
    },
    {
     "name": "stdout",
     "output_type": "stream",
     "text": [
      "____________________________\n",
      "   |   |   |   |   |   |  \n",
      "____________________________\n",
      "   |   |   |   |   |   |  \n",
      "____________________________\n",
      "   |   |   |   |   |   |  \n",
      "____________________________\n",
      "   |   |   |   |   |   |  \n",
      "____________________________\n",
      "   |   |   |   |   |   |  \n",
      "____________________________\n",
      "   | X |   |   |   |   |  \n",
      "0    1    2    3    4    5    6\n"
     ]
    },
    {
     "name": "stdin",
     "output_type": "stream",
     "text": [
      "Please select an empty space between 0 and 6 :  4\n"
     ]
    },
    {
     "name": "stdout",
     "output_type": "stream",
     "text": [
      "____________________________\n",
      "   |   |   |   |   |   |  \n",
      "____________________________\n",
      "   |   |   |   |   |   |  \n",
      "____________________________\n",
      "   |   |   |   |   |   |  \n",
      "____________________________\n",
      "   |   |   |   |   |   |  \n",
      "____________________________\n",
      "   |   |   |   |   |   |  \n",
      "____________________________\n",
      "   | X |   |   | O |   |  \n",
      "0    1    2    3    4    5    6\n"
     ]
    },
    {
     "name": "stdin",
     "output_type": "stream",
     "text": [
      "Please select an empty space between 0 and 6 :  1\n"
     ]
    },
    {
     "name": "stdout",
     "output_type": "stream",
     "text": [
      "____________________________\n",
      "   |   |   |   |   |   |  \n",
      "____________________________\n",
      "   |   |   |   |   |   |  \n",
      "____________________________\n",
      "   |   |   |   |   |   |  \n",
      "____________________________\n",
      "   |   |   |   |   |   |  \n",
      "____________________________\n",
      "   | X |   |   |   |   |  \n",
      "____________________________\n",
      "   | X |   |   | O |   |  \n",
      "0    1    2    3    4    5    6\n"
     ]
    },
    {
     "ename": "KeyboardInterrupt",
     "evalue": "Interrupted by user",
     "output_type": "error",
     "traceback": [
      "\u001b[0;31m---------------------------------------------------------------------------\u001b[0m",
      "\u001b[0;31mKeyboardInterrupt\u001b[0m                         Traceback (most recent call last)",
      "\u001b[0;32m<ipython-input-1-cb7cf72c84ce>\u001b[0m in \u001b[0;36m<module>\u001b[0;34m\u001b[0m\n\u001b[1;32m    105\u001b[0m             \u001b[0mmarker\u001b[0m \u001b[0;34m=\u001b[0m \u001b[0mplayers\u001b[0m\u001b[0;34m[\u001b[0m\u001b[0;36m0\u001b[0m\u001b[0;34m]\u001b[0m\u001b[0;34m\u001b[0m\u001b[0;34m\u001b[0m\u001b[0m\n\u001b[1;32m    106\u001b[0m         \u001b[0;31m# Player to choose where to put the mark\u001b[0m\u001b[0;34m\u001b[0m\u001b[0;34m\u001b[0m\u001b[0;34m\u001b[0m\u001b[0m\n\u001b[0;32m--> 107\u001b[0;31m         \u001b[0mposition\u001b[0m \u001b[0;34m=\u001b[0m \u001b[0mc\u001b[0m\u001b[0;34m.\u001b[0m\u001b[0mplayer_choice\u001b[0m\u001b[0;34m(\u001b[0m\u001b[0;34m)\u001b[0m\u001b[0;34m\u001b[0m\u001b[0;34m\u001b[0m\u001b[0m\n\u001b[0m\u001b[1;32m    108\u001b[0m         \u001b[0;32mif\u001b[0m \u001b[0;32mnot\u001b[0m \u001b[0mc\u001b[0m\u001b[0;34m.\u001b[0m\u001b[0mplay\u001b[0m\u001b[0;34m(\u001b[0m\u001b[0mposition\u001b[0m\u001b[0;34m,\u001b[0m \u001b[0mmarker\u001b[0m\u001b[0;34m)\u001b[0m\u001b[0;34m:\u001b[0m\u001b[0;34m\u001b[0m\u001b[0;34m\u001b[0m\u001b[0m\n\u001b[1;32m    109\u001b[0m             \u001b[0mprint\u001b[0m\u001b[0;34m(\u001b[0m\u001b[0;34mf\"Column {position} full\"\u001b[0m\u001b[0;34m)\u001b[0m\u001b[0;34m\u001b[0m\u001b[0;34m\u001b[0m\u001b[0m\n",
      "\u001b[0;32m<ipython-input-1-cb7cf72c84ce>\u001b[0m in \u001b[0;36mplayer_choice\u001b[0;34m(self)\u001b[0m\n\u001b[1;32m     21\u001b[0m \u001b[0;34m\u001b[0m\u001b[0m\n\u001b[1;32m     22\u001b[0m     \u001b[0;32mdef\u001b[0m \u001b[0mplayer_choice\u001b[0m\u001b[0;34m(\u001b[0m\u001b[0mself\u001b[0m\u001b[0;34m)\u001b[0m\u001b[0;34m:\u001b[0m\u001b[0;34m\u001b[0m\u001b[0;34m\u001b[0m\u001b[0m\n\u001b[0;32m---> 23\u001b[0;31m         \u001b[0mchoice\u001b[0m \u001b[0;34m=\u001b[0m \u001b[0mint\u001b[0m\u001b[0;34m(\u001b[0m\u001b[0minput\u001b[0m\u001b[0;34m(\u001b[0m\u001b[0;34m\"Please select an empty space between 0 and 6 : \"\u001b[0m\u001b[0;34m)\u001b[0m\u001b[0;34m)\u001b[0m\u001b[0;34m\u001b[0m\u001b[0;34m\u001b[0m\u001b[0m\n\u001b[0m\u001b[1;32m     24\u001b[0m         \u001b[0;32mwhile\u001b[0m \u001b[0mself\u001b[0m\u001b[0;34m.\u001b[0m\u001b[0mboard\u001b[0m\u001b[0;34m[\u001b[0m\u001b[0;36m0\u001b[0m\u001b[0;34m]\u001b[0m\u001b[0;34m[\u001b[0m\u001b[0mchoice\u001b[0m\u001b[0;34m]\u001b[0m \u001b[0;34m!=\u001b[0m \u001b[0;34m'  '\u001b[0m\u001b[0;34m:\u001b[0m\u001b[0;34m\u001b[0m\u001b[0;34m\u001b[0m\u001b[0m\n\u001b[1;32m     25\u001b[0m             \u001b[0mchoice\u001b[0m \u001b[0;34m=\u001b[0m \u001b[0mint\u001b[0m\u001b[0;34m(\u001b[0m\u001b[0minput\u001b[0m\u001b[0;34m(\u001b[0m\u001b[0;34m\"This column is full. Please choose between 0 and 6 : \"\u001b[0m\u001b[0;34m)\u001b[0m\u001b[0;34m)\u001b[0m\u001b[0;34m\u001b[0m\u001b[0;34m\u001b[0m\u001b[0m\n",
      "\u001b[0;32m~/opt/anaconda3/lib/python3.8/site-packages/ipykernel/kernelbase.py\u001b[0m in \u001b[0;36mraw_input\u001b[0;34m(self, prompt)\u001b[0m\n\u001b[1;32m    858\u001b[0m                 \u001b[0;34m\"raw_input was called, but this frontend does not support input requests.\"\u001b[0m\u001b[0;34m\u001b[0m\u001b[0;34m\u001b[0m\u001b[0m\n\u001b[1;32m    859\u001b[0m             )\n\u001b[0;32m--> 860\u001b[0;31m         return self._input_request(str(prompt),\n\u001b[0m\u001b[1;32m    861\u001b[0m             \u001b[0mself\u001b[0m\u001b[0;34m.\u001b[0m\u001b[0m_parent_ident\u001b[0m\u001b[0;34m,\u001b[0m\u001b[0;34m\u001b[0m\u001b[0;34m\u001b[0m\u001b[0m\n\u001b[1;32m    862\u001b[0m             \u001b[0mself\u001b[0m\u001b[0;34m.\u001b[0m\u001b[0m_parent_header\u001b[0m\u001b[0;34m,\u001b[0m\u001b[0;34m\u001b[0m\u001b[0;34m\u001b[0m\u001b[0m\n",
      "\u001b[0;32m~/opt/anaconda3/lib/python3.8/site-packages/ipykernel/kernelbase.py\u001b[0m in \u001b[0;36m_input_request\u001b[0;34m(self, prompt, ident, parent, password)\u001b[0m\n\u001b[1;32m    902\u001b[0m             \u001b[0;32mexcept\u001b[0m \u001b[0mKeyboardInterrupt\u001b[0m\u001b[0;34m:\u001b[0m\u001b[0;34m\u001b[0m\u001b[0;34m\u001b[0m\u001b[0m\n\u001b[1;32m    903\u001b[0m                 \u001b[0;31m# re-raise KeyboardInterrupt, to truncate traceback\u001b[0m\u001b[0;34m\u001b[0m\u001b[0;34m\u001b[0m\u001b[0;34m\u001b[0m\u001b[0m\n\u001b[0;32m--> 904\u001b[0;31m                 \u001b[0;32mraise\u001b[0m \u001b[0mKeyboardInterrupt\u001b[0m\u001b[0;34m(\u001b[0m\u001b[0;34m\"Interrupted by user\"\u001b[0m\u001b[0;34m)\u001b[0m \u001b[0;32mfrom\u001b[0m \u001b[0;32mNone\u001b[0m\u001b[0;34m\u001b[0m\u001b[0;34m\u001b[0m\u001b[0m\n\u001b[0m\u001b[1;32m    905\u001b[0m             \u001b[0;32mexcept\u001b[0m \u001b[0mException\u001b[0m \u001b[0;32mas\u001b[0m \u001b[0me\u001b[0m\u001b[0;34m:\u001b[0m\u001b[0;34m\u001b[0m\u001b[0;34m\u001b[0m\u001b[0m\n\u001b[1;32m    906\u001b[0m                 \u001b[0mself\u001b[0m\u001b[0;34m.\u001b[0m\u001b[0mlog\u001b[0m\u001b[0;34m.\u001b[0m\u001b[0mwarning\u001b[0m\u001b[0;34m(\u001b[0m\u001b[0;34m\"Invalid Message:\"\u001b[0m\u001b[0;34m,\u001b[0m \u001b[0mexc_info\u001b[0m\u001b[0;34m=\u001b[0m\u001b[0;32mTrue\u001b[0m\u001b[0;34m)\u001b[0m\u001b[0;34m\u001b[0m\u001b[0;34m\u001b[0m\u001b[0m\n",
      "\u001b[0;31mKeyboardInterrupt\u001b[0m: Interrupted by user"
     ]
    }
   ],
   "source": [
    "class Connect4:\n",
    "\n",
    "    def __init__(self):\n",
    "        self.numberOfColumns = 7\n",
    "        self.numberOfLines = 6\n",
    "        self.board = [ [ '  ' for _ in range( self.numberOfColumns)] for _ in range(self.numberOfLines) ]\n",
    "\n",
    "    def displayBoard(self):\n",
    "        for i, line in enumerate(self.board):\n",
    "            # Printing the line separators\n",
    "            print(\"_\" * self.numberOfColumns * 4)\n",
    "            # Printing the line\n",
    "            print(*line, sep=' |')\n",
    "            # Printing numbers\n",
    "        print('    '.join(str(x) for x in range(self.numberOfColumns)))\n",
    "\n",
    "    def isAvailable(self, line, column):\n",
    "        if line[column] == '  ':\n",
    "            return True\n",
    "        return False\n",
    "\n",
    "    def player_choice(self):\n",
    "        choice = int(input(\"Please select an empty space between 0 and 6 : \"))\n",
    "        while self.board[0][choice] != '  ':\n",
    "            choice = int(input(\"This column is full. Please choose between 0 and 6 : \"))\n",
    "        return choice\n",
    "\n",
    "    def player_input(self):\n",
    "        player1 = input(\"Please pick a marker 'X' or 'O' \")\n",
    "        while True:\n",
    "            if player1.upper() == 'X':\n",
    "                player2='O'\n",
    "                print(\"You've choosen \" + player1 + \". Player 2 will be \" + player2)\n",
    "                return player1.upper(),player2\n",
    "            elif player1.upper() == 'O':\n",
    "                player2='X'\n",
    "                print(\"You've choosen \" + player1 + \". Player 2 will be \" + player2)\n",
    "                return player1.upper(),player2\n",
    "            else:\n",
    "                player1 = input(\"Please pick a marker 'X' or 'O' \")\n",
    "\n",
    "    def checkLines(self, marker, board=None):\n",
    "        if board is None:\n",
    "            board=self.board\n",
    "        # Checkin lines\n",
    "        for line in board:\n",
    "            for i in range(0,len(line)):\n",
    "                if i < len(line) - 3:\n",
    "                    if line[i] == line[i+1] == line[i+2] == line[i+3] == \" \" + marker:\n",
    "                        return True\n",
    "\n",
    "    def checkDiags(self, marker):\n",
    "        diagBoard = []\n",
    "        for i, line in enumerate(self.board):\n",
    "            for idx, item in enumerate(line):\n",
    "                # Find of there is some marker\n",
    "                if item == ' ' + marker:\n",
    "                    diagBoard.append(int(str(i)+str(idx)))\n",
    "\n",
    "        for item in diagBoard:\n",
    "            if int(item) + 11 in diagBoard and int(item) + 22 in diagBoard and int(item) + 33 in diagBoard:\n",
    "                return True\n",
    "\n",
    "        for item in reversed(diagBoard):\n",
    "            if int(item) - 9 in diagBoard and int(item) - 18 in diagBoard and int(item) - 27 in diagBoard:\n",
    "                return True\n",
    "\n",
    "    def generateReversedBoard(self):\n",
    "        reversedBoard = []\n",
    "        for line in self.board:\n",
    "            for index, item in enumerate(line):\n",
    "                try:\n",
    "                    reversedBoard[index].append(item)\n",
    "                except:\n",
    "                    reversedBoard.append([])\n",
    "                    reversedBoard[index].append(item)\n",
    "        return reversedBoard\n",
    "\n",
    "    def play(self, playercolumn, marker):\n",
    "        for item in reversed(self.board):\n",
    "            if self.isAvailable(item, playercolumn):\n",
    "                item[playercolumn] = \" \" + marker\n",
    "                return True\n",
    "        return False\n",
    "\n",
    "c = Connect4()\n",
    "\n",
    "# First while lopp init\n",
    "game = True\n",
    "while game:\n",
    "    # Choose your marker\n",
    "    players = c.player_input()\n",
    "    # Display the board\n",
    "    c.displayBoard()\n",
    "    # Second while loop init\n",
    "    win = False\n",
    "    i = 1\n",
    "    while not win:\n",
    "        # Start Playing\n",
    "        if i % 2 == 0:\n",
    "            currentPlayer = \"Player1\"\n",
    "            marker = players[1]\n",
    "        else:\n",
    "            currentPlayer = \"Player2\"\n",
    "            marker = players[0]\n",
    "        # Player to choose where to put the mark\n",
    "        position = c.player_choice()\n",
    "        if not c.play(position, marker):\n",
    "            print(f\"Column {position} full\")\n",
    "\n",
    "        # Generate the reversed board\n",
    "        reversedBoard = c.generateReversedBoard()\n",
    "        # Check if won\n",
    "        if c.checkLines(marker) or c.checkLines(marker, reversedBoard) or c.checkDiags(marker):\n",
    "            # update the win to exit the second while loop\n",
    "            win = True\n",
    "            c.displayBoard()\n",
    "            print(f\"Game won by {currentPlayer}\")\n",
    "            # Ask for replay. \n",
    "            # If no, change the first loop game = True to False\n",
    "            # If yes, reset our class with fresh new datas\n",
    "            replay = input(\"Do you want to play again (Y/N) ? \")\n",
    "            if replay.lower() == 'n':\n",
    "                game = False\n",
    "                print(\"Game ended !\")\n",
    "            else:\n",
    "                c = Connect4()\n",
    "            break\n",
    "        c.displayBoard()\n",
    "        i += 1"
   ]
  },
  {
   "cell_type": "code",
   "execution_count": null,
   "metadata": {},
   "outputs": [],
   "source": []
  }
 ],
 "metadata": {
  "kernelspec": {
   "display_name": "Python 3",
   "language": "python",
   "name": "python3"
  },
  "language_info": {
   "codemirror_mode": {
    "name": "ipython",
    "version": 3
   },
   "file_extension": ".py",
   "mimetype": "text/x-python",
   "name": "python",
   "nbconvert_exporter": "python",
   "pygments_lexer": "ipython3",
   "version": "3.8.3"
  }
 },
 "nbformat": 4,
 "nbformat_minor": 4
}
