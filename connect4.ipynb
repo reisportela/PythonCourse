{
 "cells": [
  {
   "cell_type": "code",
   "execution_count": 1,
   "metadata": {},
   "outputs": [],
   "source": [
    "# Source: https://gist.github.com/gmariette\n",
    "## https://gist.github.com/gmariette/232599715b45e8b5412113ea40f52d92"
   ]
  },
  {
   "cell_type": "code",
   "execution_count": null,
   "metadata": {},
   "outputs": [
    {
     "name": "stdin",
     "output_type": "stream",
     "text": [
      "Please pick a marker 'X' or 'O'  X\n"
     ]
    },
    {
     "name": "stdout",
     "output_type": "stream",
     "text": [
      "You've choosen X. Player 2 will be O\n",
      "____________________________\n",
      "   |   |   |   |   |   |  \n",
      "____________________________\n",
      "   |   |   |   |   |   |  \n",
      "____________________________\n",
      "   |   |   |   |   |   |  \n",
      "____________________________\n",
      "   |   |   |   |   |   |  \n",
      "____________________________\n",
      "   |   |   |   |   |   |  \n",
      "____________________________\n",
      "   |   |   |   |   |   |  \n",
      "0    1    2    3    4    5    6\n"
     ]
    },
    {
     "name": "stdin",
     "output_type": "stream",
     "text": [
      "Please select an empty space between 0 and 6 :  1\n"
     ]
    },
    {
     "name": "stdout",
     "output_type": "stream",
     "text": [
      "____________________________\n",
      "   |   |   |   |   |   |  \n",
      "____________________________\n",
      "   |   |   |   |   |   |  \n",
      "____________________________\n",
      "   |   |   |   |   |   |  \n",
      "____________________________\n",
      "   |   |   |   |   |   |  \n",
      "____________________________\n",
      "   |   |   |   |   |   |  \n",
      "____________________________\n",
      "   | X |   |   |   |   |  \n",
      "0    1    2    3    4    5    6\n"
     ]
    },
    {
     "name": "stdin",
     "output_type": "stream",
     "text": [
      "Please select an empty space between 0 and 6 :  1\n"
     ]
    },
    {
     "name": "stdout",
     "output_type": "stream",
     "text": [
      "____________________________\n",
      "   |   |   |   |   |   |  \n",
      "____________________________\n",
      "   |   |   |   |   |   |  \n",
      "____________________________\n",
      "   |   |   |   |   |   |  \n",
      "____________________________\n",
      "   |   |   |   |   |   |  \n",
      "____________________________\n",
      "   | O |   |   |   |   |  \n",
      "____________________________\n",
      "   | X |   |   |   |   |  \n",
      "0    1    2    3    4    5    6\n"
     ]
    },
    {
     "name": "stdin",
     "output_type": "stream",
     "text": [
      "Please select an empty space between 0 and 6 :  2\n"
     ]
    },
    {
     "name": "stdout",
     "output_type": "stream",
     "text": [
      "____________________________\n",
      "   |   |   |   |   |   |  \n",
      "____________________________\n",
      "   |   |   |   |   |   |  \n",
      "____________________________\n",
      "   |   |   |   |   |   |  \n",
      "____________________________\n",
      "   |   |   |   |   |   |  \n",
      "____________________________\n",
      "   | O |   |   |   |   |  \n",
      "____________________________\n",
      "   | X | X |   |   |   |  \n",
      "0    1    2    3    4    5    6\n"
     ]
    },
    {
     "name": "stdin",
     "output_type": "stream",
     "text": [
      "Please select an empty space between 0 and 6 :  0\n"
     ]
    },
    {
     "name": "stdout",
     "output_type": "stream",
     "text": [
      "____________________________\n",
      "   |   |   |   |   |   |  \n",
      "____________________________\n",
      "   |   |   |   |   |   |  \n",
      "____________________________\n",
      "   |   |   |   |   |   |  \n",
      "____________________________\n",
      "   |   |   |   |   |   |  \n",
      "____________________________\n",
      "   | O |   |   |   |   |  \n",
      "____________________________\n",
      " O | X | X |   |   |   |  \n",
      "0    1    2    3    4    5    6\n"
     ]
    },
    {
     "name": "stdin",
     "output_type": "stream",
     "text": [
      "Please select an empty space between 0 and 6 :  0\n"
     ]
    },
    {
     "name": "stdout",
     "output_type": "stream",
     "text": [
      "____________________________\n",
      "   |   |   |   |   |   |  \n",
      "____________________________\n",
      "   |   |   |   |   |   |  \n",
      "____________________________\n",
      "   |   |   |   |   |   |  \n",
      "____________________________\n",
      "   |   |   |   |   |   |  \n",
      "____________________________\n",
      " X | O |   |   |   |   |  \n",
      "____________________________\n",
      " O | X | X |   |   |   |  \n",
      "0    1    2    3    4    5    6\n"
     ]
    },
    {
     "name": "stdin",
     "output_type": "stream",
     "text": [
      "Please select an empty space between 0 and 6 :  0\n"
     ]
    },
    {
     "name": "stdout",
     "output_type": "stream",
     "text": [
      "____________________________\n",
      "   |   |   |   |   |   |  \n",
      "____________________________\n",
      "   |   |   |   |   |   |  \n",
      "____________________________\n",
      "   |   |   |   |   |   |  \n",
      "____________________________\n",
      " O |   |   |   |   |   |  \n",
      "____________________________\n",
      " X | O |   |   |   |   |  \n",
      "____________________________\n",
      " O | X | X |   |   |   |  \n",
      "0    1    2    3    4    5    6\n"
     ]
    },
    {
     "name": "stdin",
     "output_type": "stream",
     "text": [
      "Please select an empty space between 0 and 6 :  0\n"
     ]
    },
    {
     "name": "stdout",
     "output_type": "stream",
     "text": [
      "____________________________\n",
      "   |   |   |   |   |   |  \n",
      "____________________________\n",
      "   |   |   |   |   |   |  \n",
      "____________________________\n",
      " X |   |   |   |   |   |  \n",
      "____________________________\n",
      " O |   |   |   |   |   |  \n",
      "____________________________\n",
      " X | O |   |   |   |   |  \n",
      "____________________________\n",
      " O | X | X |   |   |   |  \n",
      "0    1    2    3    4    5    6\n"
     ]
    },
    {
     "name": "stdin",
     "output_type": "stream",
     "text": [
      "Please select an empty space between 0 and 6 :  2\n"
     ]
    },
    {
     "name": "stdout",
     "output_type": "stream",
     "text": [
      "____________________________\n",
      "   |   |   |   |   |   |  \n",
      "____________________________\n",
      "   |   |   |   |   |   |  \n",
      "____________________________\n",
      " X |   |   |   |   |   |  \n",
      "____________________________\n",
      " O |   |   |   |   |   |  \n",
      "____________________________\n",
      " X | O | O |   |   |   |  \n",
      "____________________________\n",
      " O | X | X |   |   |   |  \n",
      "0    1    2    3    4    5    6\n"
     ]
    },
    {
     "name": "stdin",
     "output_type": "stream",
     "text": [
      "Please select an empty space between 0 and 6 :  1\n"
     ]
    },
    {
     "name": "stdout",
     "output_type": "stream",
     "text": [
      "____________________________\n",
      "   |   |   |   |   |   |  \n",
      "____________________________\n",
      "   |   |   |   |   |   |  \n",
      "____________________________\n",
      " X |   |   |   |   |   |  \n",
      "____________________________\n",
      " O | X |   |   |   |   |  \n",
      "____________________________\n",
      " X | O | O |   |   |   |  \n",
      "____________________________\n",
      " O | X | X |   |   |   |  \n",
      "0    1    2    3    4    5    6\n"
     ]
    },
    {
     "name": "stdin",
     "output_type": "stream",
     "text": [
      "Please select an empty space between 0 and 6 :  2\n"
     ]
    },
    {
     "name": "stdout",
     "output_type": "stream",
     "text": [
      "____________________________\n",
      "   |   |   |   |   |   |  \n",
      "____________________________\n",
      "   |   |   |   |   |   |  \n",
      "____________________________\n",
      " X |   |   |   |   |   |  \n",
      "____________________________\n",
      " O | X | O |   |   |   |  \n",
      "____________________________\n",
      " X | O | O |   |   |   |  \n",
      "____________________________\n",
      " O | X | X |   |   |   |  \n",
      "0    1    2    3    4    5    6\n"
     ]
    },
    {
     "name": "stdin",
     "output_type": "stream",
     "text": [
      "Please select an empty space between 0 and 6 :  1\n"
     ]
    },
    {
     "name": "stdout",
     "output_type": "stream",
     "text": [
      "____________________________\n",
      "   |   |   |   |   |   |  \n",
      "____________________________\n",
      "   |   |   |   |   |   |  \n",
      "____________________________\n",
      " X | X |   |   |   |   |  \n",
      "____________________________\n",
      " O | X | O |   |   |   |  \n",
      "____________________________\n",
      " X | O | O |   |   |   |  \n",
      "____________________________\n",
      " O | X | X |   |   |   |  \n",
      "0    1    2    3    4    5    6\n"
     ]
    },
    {
     "name": "stdin",
     "output_type": "stream",
     "text": [
      "Please select an empty space between 0 and 6 :  2\n"
     ]
    },
    {
     "name": "stdout",
     "output_type": "stream",
     "text": [
      "____________________________\n",
      "   |   |   |   |   |   |  \n",
      "____________________________\n",
      "   |   |   |   |   |   |  \n",
      "____________________________\n",
      " X | X | O |   |   |   |  \n",
      "____________________________\n",
      " O | X | O |   |   |   |  \n",
      "____________________________\n",
      " X | O | O |   |   |   |  \n",
      "____________________________\n",
      " O | X | X |   |   |   |  \n",
      "0    1    2    3    4    5    6\n"
     ]
    },
    {
     "name": "stdin",
     "output_type": "stream",
     "text": [
      "Please select an empty space between 0 and 6 :  1\n"
     ]
    },
    {
     "name": "stdout",
     "output_type": "stream",
     "text": [
      "____________________________\n",
      "   |   |   |   |   |   |  \n",
      "____________________________\n",
      "   | X |   |   |   |   |  \n",
      "____________________________\n",
      " X | X | O |   |   |   |  \n",
      "____________________________\n",
      " O | X | O |   |   |   |  \n",
      "____________________________\n",
      " X | O | O |   |   |   |  \n",
      "____________________________\n",
      " O | X | X |   |   |   |  \n",
      "0    1    2    3    4    5    6\n"
     ]
    },
    {
     "name": "stdin",
     "output_type": "stream",
     "text": [
      "Please select an empty space between 0 and 6 :  2\n"
     ]
    },
    {
     "name": "stdout",
     "output_type": "stream",
     "text": [
      "____________________________\n",
      "   |   |   |   |   |   |  \n",
      "____________________________\n",
      "   | X | O |   |   |   |  \n",
      "____________________________\n",
      " X | X | O |   |   |   |  \n",
      "____________________________\n",
      " O | X | O |   |   |   |  \n",
      "____________________________\n",
      " X | O | O |   |   |   |  \n",
      "____________________________\n",
      " O | X | X |   |   |   |  \n",
      "0    1    2    3    4    5    6\n",
      "Game won by Player1\n"
     ]
    }
   ],
   "source": [
    "class Connect4:\n",
    "\n",
    "    def __init__(self):\n",
    "        self.numberOfColumns = 7\n",
    "        self.numberOfLines = 6\n",
    "        self.board = [ [ '  ' for _ in range( self.numberOfColumns)] for _ in range(self.numberOfLines) ]\n",
    "\n",
    "    def displayBoard(self):\n",
    "        for i, line in enumerate(self.board):\n",
    "            # Printing the line separators\n",
    "            print(\"_\" * self.numberOfColumns * 4)\n",
    "            # Printing the line\n",
    "            print(*line, sep=' |')\n",
    "            # Printing numbers\n",
    "        print('    '.join(str(x) for x in range(self.numberOfColumns)))\n",
    "\n",
    "    def isAvailable(self, line, column):\n",
    "        if line[column] == '  ':\n",
    "            return True\n",
    "        return False\n",
    "\n",
    "    def player_choice(self):\n",
    "        choice = int(input(\"Please select an empty space between 0 and 6 : \"))\n",
    "        while self.board[0][choice] != '  ':\n",
    "            choice = int(input(\"This column is full. Please choose between 0 and 6 : \"))\n",
    "        return choice\n",
    "\n",
    "    def player_input(self):\n",
    "        player1 = input(\"Please pick a marker 'X' or 'O' \")\n",
    "        while True:\n",
    "            if player1.upper() == 'X':\n",
    "                player2='O'\n",
    "                print(\"You've choosen \" + player1 + \". Player 2 will be \" + player2)\n",
    "                return player1.upper(),player2\n",
    "            elif player1.upper() == 'O':\n",
    "                player2='X'\n",
    "                print(\"You've choosen \" + player1 + \". Player 2 will be \" + player2)\n",
    "                return player1.upper(),player2\n",
    "            else:\n",
    "                player1 = input(\"Please pick a marker 'X' or 'O' \")\n",
    "\n",
    "    def checkLines(self, marker, board=None):\n",
    "        if board is None:\n",
    "            board=self.board\n",
    "        # Checkin lines\n",
    "        for line in board:\n",
    "            for i in range(0,len(line)):\n",
    "                if i < len(line) - 3:\n",
    "                    if line[i] == line[i+1] == line[i+2] == line[i+3] == \" \" + marker:\n",
    "                        return True\n",
    "\n",
    "    def checkDiags(self, marker):\n",
    "        diagBoard = []\n",
    "        for i, line in enumerate(self.board):\n",
    "            for idx, item in enumerate(line):\n",
    "                # Find of there is some marker\n",
    "                if item == ' ' + marker:\n",
    "                    diagBoard.append(int(str(i)+str(idx)))\n",
    "\n",
    "        for item in diagBoard:\n",
    "            if int(item) + 11 in diagBoard and int(item) + 22 in diagBoard and int(item) + 33 in diagBoard:\n",
    "                return True\n",
    "\n",
    "        for item in reversed(diagBoard):\n",
    "            if int(item) - 9 in diagBoard and int(item) - 18 in diagBoard and int(item) - 27 in diagBoard:\n",
    "                return True\n",
    "\n",
    "    def generateReversedBoard(self):\n",
    "        reversedBoard = []\n",
    "        for line in self.board:\n",
    "            for index, item in enumerate(line):\n",
    "                try:\n",
    "                    reversedBoard[index].append(item)\n",
    "                except:\n",
    "                    reversedBoard.append([])\n",
    "                    reversedBoard[index].append(item)\n",
    "        return reversedBoard\n",
    "\n",
    "    def play(self, playercolumn, marker):\n",
    "        for item in reversed(self.board):\n",
    "            if self.isAvailable(item, playercolumn):\n",
    "                item[playercolumn] = \" \" + marker\n",
    "                return True\n",
    "        return False\n",
    "\n",
    "c = Connect4()\n",
    "\n",
    "# First while lopp init\n",
    "game = True\n",
    "while game:\n",
    "    # Choose your marker\n",
    "    players = c.player_input()\n",
    "    # Display the board\n",
    "    c.displayBoard()\n",
    "    # Second while loop init\n",
    "    win = False\n",
    "    i = 1\n",
    "    while not win:\n",
    "        # Start Playing\n",
    "        if i % 2 == 0:\n",
    "            currentPlayer = \"Player1\"\n",
    "            marker = players[1]\n",
    "        else:\n",
    "            currentPlayer = \"Player2\"\n",
    "            marker = players[0]\n",
    "        # Player to choose where to put the mark\n",
    "        position = c.player_choice()\n",
    "        if not c.play(position, marker):\n",
    "            print(f\"Column {position} full\")\n",
    "\n",
    "        # Generate the reversed board\n",
    "        reversedBoard = c.generateReversedBoard()\n",
    "        # Check if won\n",
    "        if c.checkLines(marker) or c.checkLines(marker, reversedBoard) or c.checkDiags(marker):\n",
    "            # update the win to exit the second while loop\n",
    "            win = True\n",
    "            c.displayBoard()\n",
    "            print(f\"Game won by {currentPlayer}\")\n",
    "            # Ask for replay. \n",
    "            # If no, change the first loop game = True to False\n",
    "            # If yes, reset our class with fresh new datas\n",
    "            replay = input(\"Do you want to play again (Y/N) ? \")\n",
    "            if replay.lower() == 'n':\n",
    "                game = False\n",
    "                print(\"Game ended !\")\n",
    "            else:\n",
    "                c = Connect4()\n",
    "            break\n",
    "        c.displayBoard()\n",
    "        i += 1"
   ]
  },
  {
   "cell_type": "code",
   "execution_count": null,
   "metadata": {},
   "outputs": [],
   "source": []
  }
 ],
 "metadata": {
  "kernelspec": {
   "display_name": "Python 3",
   "language": "python",
   "name": "python3"
  },
  "language_info": {
   "codemirror_mode": {
    "name": "ipython",
    "version": 3
   },
   "file_extension": ".py",
   "mimetype": "text/x-python",
   "name": "python",
   "nbconvert_exporter": "python",
   "pygments_lexer": "ipython3",
   "version": "3.9.0"
  }
 },
 "nbformat": 4,
 "nbformat_minor": 4
}
