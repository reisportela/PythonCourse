{
 "cells": [
  {
   "cell_type": "code",
   "execution_count": 1,
   "id": "ee5726f6-bd4e-426e-bbd1-fd0664897222",
   "metadata": {},
   "outputs": [],
   "source": [
    "import pandas as pd"
   ]
  },
  {
   "cell_type": "code",
   "execution_count": 2,
   "id": "c8f54cc9-54a2-4a38-bb50-24f062ae63c3",
   "metadata": {},
   "outputs": [],
   "source": [
    "df = pd.read_excel('descricao_e_cae.xlsx')"
   ]
  },
  {
   "cell_type": "code",
   "execution_count": 3,
   "id": "cbf143e2-dfe0-472a-806c-8d414be8344e",
   "metadata": {},
   "outputs": [
    {
     "name": "stdout",
     "output_type": "stream",
     "text": [
      "<class 'pandas.core.frame.DataFrame'>\n",
      "RangeIndex: 5951 entries, 0 to 5950\n",
      "Data columns (total 3 columns):\n",
      " #   Column       Non-Null Count  Dtype \n",
      "---  ------       --------------  ----- \n",
      " 0   nºproj       5951 non-null   int64 \n",
      " 1   cae5digítos  2086 non-null   object\n",
      " 2   designação   3865 non-null   object\n",
      "dtypes: int64(1), object(2)\n",
      "memory usage: 139.6+ KB\n"
     ]
    }
   ],
   "source": [
    "df.info()"
   ]
  },
  {
   "cell_type": "code",
   "execution_count": 4,
   "id": "7cbd2c71-8848-4089-b35b-97bc6d9a7577",
   "metadata": {},
   "outputs": [],
   "source": [
    "from nltk.corpus import stopwords\n",
    "from nltk.tokenize import word_tokenize"
   ]
  },
  {
   "cell_type": "code",
   "execution_count": 9,
   "id": "1efc2b3b-b6e8-4a93-8a69-3f6de32906f2",
   "metadata": {},
   "outputs": [
    {
     "name": "stderr",
     "output_type": "stream",
     "text": [
      "[nltk_data] Downloading package stopwords to\n",
      "[nltk_data]     C:\\Users\\mangelo\\AppData\\Roaming\\nltk_data...\n",
      "[nltk_data]   Package stopwords is already up-to-date!\n",
      "[nltk_data] Downloading package punkt to\n",
      "[nltk_data]     C:\\Users\\mangelo\\AppData\\Roaming\\nltk_data...\n",
      "[nltk_data]   Package punkt is already up-to-date!\n",
      "[nltk_data] Error loading util: Package 'util' not found in index\n"
     ]
    },
    {
     "data": {
      "text/plain": [
       "False"
      ]
     },
     "execution_count": 9,
     "metadata": {},
     "output_type": "execute_result"
    }
   ],
   "source": [
    "import nltk\n",
    "nltk.download('stopwords')\n",
    "nltk.download('punkt')"
   ]
  },
  {
   "cell_type": "code",
   "execution_count": 7,
   "id": "63504543-ff7a-4f2b-a430-8d8bbf839433",
   "metadata": {
    "tags": []
   },
   "outputs": [
    {
     "name": "stdout",
     "output_type": "stream",
     "text": [
      "['This', 'is', 'sample', 'sentence', ',', 'showing', 'off', 'the', 'stop', 'words', 'filtration', '.']\n"
     ]
    }
   ],
   "source": [
    "example_sent = \"This is a sample sentence, showing off the stop words filtration.\"\n",
    "stop_words = set(stopwords.words('portuguese'))\n",
    "word_tokens = word_tokenize(example_sent)\n",
    "\n",
    "filtered_sentence = [w for w in word_tokens if not w in stop_words]\n",
    "print(filtered_sentence)"
   ]
  },
  {
   "cell_type": "code",
   "execution_count": 18,
   "id": "4f7be79c-026a-4de0-a015-f5265a93cb70",
   "metadata": {},
   "outputs": [],
   "source": [
    "from nltk import word_tokenize\n",
    "from nltk.util import ngrams, bigrams, trigrams\n",
    "from collections import Counter"
   ]
  },
  {
   "cell_type": "code",
   "execution_count": 20,
   "id": "3b66bcfe-0f42-485c-8ba8-98c99542100d",
   "metadata": {},
   "outputs": [
    {
     "name": "stdout",
     "output_type": "stream",
     "text": [
      "[('Dummy', 'sentence'), ('sentence', 'to'), ('to', 'demonstrate'), ('demonstrate', 'bigrams')]\n",
      "[('Dummy', 'sentence', 'to'), ('sentence', 'to', 'demonstrate'), ('to', 'demonstrate', 'bigrams')]\n",
      "{}\n"
     ]
    }
   ],
   "source": [
    "sen = \"Dummy sentence to demonstrate bigrams\"\n",
    "nltk_tokens = word_tokenize(sen) #using tokenize from NLKT and not split() because split() does not take into account punctuation\n",
    "\n",
    "#splitting sentence into bigrams and trigrams\n",
    "print(list(bigrams(nltk_tokens)))\n",
    "print(list(trigrams(nltk_tokens)))\n",
    "\n",
    "all_words = ''\n",
    "\n",
    "#creating a dictionary that shows occurances of n-grams in text\n",
    "n_gram = 5 \n",
    "n_gram_dic = dict(Counter(ngrams(all_words.split(), n_gram)))\n",
    "print(n_gram_dic)"
   ]
  },
  {
   "cell_type": "code",
   "execution_count": 21,
   "id": "c3f876e0-3c8e-485c-aa99-c6bd00035d5f",
   "metadata": {},
   "outputs": [],
   "source": [
    "import re\n",
    "\n",
    "#letters only\n",
    "raw_text = \"this is a test. To demonstrate 2 regex expressions!!\"\n",
    "letters_only_text = re.sub(\"[^a-zA-Z]\", \" \", raw_text)\n",
    "\n",
    "#keep numbers\n",
    "letnum_text =  re.sub(\"[^a-zA-Z0-9\\s]+\", \" \",raw_text )"
   ]
  },
  {
   "cell_type": "code",
   "execution_count": 23,
   "id": "4c569289-c4b5-4837-8aa2-8d923f90fa1a",
   "metadata": {},
   "outputs": [
    {
     "name": "stderr",
     "output_type": "stream",
     "text": [
      "[nltk_data] Downloading package wordnet to\n",
      "[nltk_data]     C:\\Users\\mangelo\\AppData\\Roaming\\nltk_data...\n",
      "[nltk_data]   Unzipping corpora\\wordnet.zip.\n"
     ]
    },
    {
     "data": {
      "text/plain": [
       "True"
      ]
     },
     "execution_count": 23,
     "metadata": {},
     "output_type": "execute_result"
    }
   ],
   "source": [
    "nltk.download('wordnet')"
   ]
  },
  {
   "cell_type": "code",
   "execution_count": 24,
   "id": "eb5cf32b-13b3-4f89-9596-149c65c9a6ee",
   "metadata": {},
   "outputs": [],
   "source": [
    "from nltk.stem import WordNetLemmatizer, PorterStemmer, SnowballStemmer\n",
    "\n",
    "stemmer = PorterStemmer()\n",
    "lemmatizer = WordNetLemmatizer()\n",
    "\n",
    "word = \"considering\"\n",
    "\n",
    "stemmed_word =  stemmer.stem(word)\n",
    "lemmatised_word = lemmatizer.lemmatize(word)"
   ]
  },
  {
   "cell_type": "code",
   "execution_count": null,
   "id": "4e1c777c-230b-47be-8e3b-95b84132f209",
   "metadata": {},
   "outputs": [],
   "source": []
  }
 ],
 "metadata": {
  "kernelspec": {
   "display_name": "Python 3",
   "language": "python",
   "name": "python3"
  },
  "language_info": {
   "codemirror_mode": {
    "name": "ipython",
    "version": 3
   },
   "file_extension": ".py",
   "mimetype": "text/x-python",
   "name": "python",
   "nbconvert_exporter": "python",
   "pygments_lexer": "ipython3",
   "version": "3.8.1"
  }
 },
 "nbformat": 4,
 "nbformat_minor": 5
}
