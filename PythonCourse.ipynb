{
 "cells": [
  {
   "cell_type": "markdown",
   "metadata": {},
   "source": [
    "# M Portela / UMinho\n",
    "## December 2020\n",
    "### Helicopter Toor over Python"
   ]
  },
  {
   "cell_type": "markdown",
   "metadata": {},
   "source": [
    "# The tools we need\n",
    "- IBM Skills Network Labs: https://labs.cognitiveclass.ai/\n",
    "- GitHub\n",
    "- Slack\n",
    "- E-mail\n",
    "- Skype/Zoom"
   ]
  },
  {
   "cell_type": "markdown",
   "metadata": {},
   "source": [
    "Clone the GitHub repository `https://github.com/reisportela/PythonCourse.git`\n",
    "\n",
    "We will follow [The Python Tutorial](https://docs.python.org/3.8/tutorial/)."
   ]
  },
  {
   "cell_type": "markdown",
   "metadata": {},
   "source": [
    "# Other resources include\n",
    "\n",
    "- [Modern Data Analysis for Economics](https://jiamingmao.github.io/data-analysis/Resources/)\n",
    "- [W3SCHOOLS](https://www.w3schools.com/python/default.asp)\n",
    "- [WolframALPHA](https://www.wolframalpha.com/)"
   ]
  },
  {
   "cell_type": "markdown",
   "metadata": {},
   "source": [
    "# First step: import the libraries we are going to use"
   ]
  },
  {
   "cell_type": "code",
   "execution_count": null,
   "metadata": {},
   "outputs": [],
   "source": [
    "# Git notes\n",
    "## git config --global user.email \"you@example.com\"\n",
    "## git config --global user.name \"Your Name\"\n",
    "## git stash\n",
    "\n",
    "# Python notes\n",
    "## as 'Administrator' open a Terminal and type\n",
    "## python -m ensurepip\n",
    "## c:\\python39\\python.exe -m pip install --upgrade pip\n",
    "## pip install pandas numpy sympy scipy matplotlib statistics statsmodels sklearn seaborn hunter mechanicalsoup"
   ]
  },
  {
   "cell_type": "code",
   "execution_count": 2,
   "metadata": {},
   "outputs": [],
   "source": [
    "import os\n",
    "import sys\n",
    "import pandas as pd\n",
    "import numpy as np\n",
    "import sympy as sp\n",
    "import statistics\n",
    "import scipy.stats\n",
    "import matplotlib.pyplot as plt\n",
    "plt.style.use('ggplot')\n",
    "import statsmodels.api as sm\n",
    "from sklearn import datasets\n",
    "from scipy.stats.mstats import describe\n",
    "import seaborn as sns\n",
    "\n",
    "import time\n",
    "t0 = time.time()"
   ]
  },
  {
   "cell_type": "markdown",
   "metadata": {},
   "source": [
    "**System configurations**"
   ]
  },
  {
   "cell_type": "code",
   "execution_count": 3,
   "metadata": {},
   "outputs": [
    {
     "data": {
      "text/plain": [
       "sys.version_info(major=3, minor=9, micro=0, releaselevel='final', serial=0)"
      ]
     },
     "execution_count": 3,
     "metadata": {},
     "output_type": "execute_result"
    }
   ],
   "source": [
    "sys.version_info"
   ]
  },
  {
   "cell_type": "code",
   "execution_count": 4,
   "metadata": {},
   "outputs": [
    {
     "name": "stdout",
     "output_type": "stream",
     "text": [
      "Requirement already satisfied: sympy in c:\\python39\\lib\\site-packages (1.7.1)\n",
      "Requirement already satisfied: mpmath>=0.19 in c:\\python39\\lib\\site-packages (from sympy) (1.1.0)\n"
     ]
    }
   ],
   "source": [
    "!pip install sympy"
   ]
  },
  {
   "cell_type": "code",
   "execution_count": 5,
   "metadata": {},
   "outputs": [
    {
     "data": {
      "text/plain": [
       "'C:\\\\Users\\\\mangelo.EEG\\\\Documents\\\\GitHub\\\\PythonCourse'"
      ]
     },
     "execution_count": 5,
     "metadata": {},
     "output_type": "execute_result"
    }
   ],
   "source": [
    "os.getcwd()"
   ]
  },
  {
   "cell_type": "markdown",
   "metadata": {},
   "source": [
    "# Key concepts"
   ]
  },
  {
   "cell_type": "markdown",
   "metadata": {},
   "source": [
    "## Calculator"
   ]
  },
  {
   "cell_type": "code",
   "execution_count": 6,
   "metadata": {},
   "outputs": [
    {
     "data": {
      "text/plain": [
       "4"
      ]
     },
     "execution_count": 6,
     "metadata": {},
     "output_type": "execute_result"
    }
   ],
   "source": [
    "2+2"
   ]
  },
  {
   "cell_type": "code",
   "execution_count": 7,
   "metadata": {},
   "outputs": [],
   "source": [
    "x = 23\n",
    "y = 12"
   ]
  },
  {
   "cell_type": "code",
   "execution_count": 8,
   "metadata": {},
   "outputs": [
    {
     "data": {
      "text/plain": [
       "276"
      ]
     },
     "execution_count": 8,
     "metadata": {},
     "output_type": "execute_result"
    }
   ],
   "source": [
    "x * y"
   ]
  },
  {
   "cell_type": "code",
   "execution_count": 9,
   "metadata": {},
   "outputs": [
    {
     "data": {
      "text/plain": [
       "121"
      ]
     },
     "execution_count": 9,
     "metadata": {},
     "output_type": "execute_result"
    }
   ],
   "source": [
    "11**2"
   ]
  },
  {
   "cell_type": "markdown",
   "metadata": {},
   "source": [
    "## Strings"
   ]
  },
  {
   "cell_type": "code",
   "execution_count": 10,
   "metadata": {},
   "outputs": [
    {
     "name": "stdout",
     "output_type": "stream",
     "text": [
      "Hello, this is my first program.\n"
     ]
    }
   ],
   "source": [
    "print('Hello, this is my first program.')"
   ]
  },
  {
   "cell_type": "markdown",
   "metadata": {},
   "source": [
    "### Concatenation"
   ]
  },
  {
   "cell_type": "code",
   "execution_count": 11,
   "metadata": {},
   "outputs": [],
   "source": [
    "x1 = 'Sporting '\n",
    "x2 = \"Clube \"\n",
    "x3 = 'de '\n",
    "x4 = 'Braga'"
   ]
  },
  {
   "cell_type": "code",
   "execution_count": 12,
   "metadata": {},
   "outputs": [
    {
     "name": "stdout",
     "output_type": "stream",
     "text": [
      "Sporting Clube de Braga\n"
     ]
    }
   ],
   "source": [
    "print(x1+x2+x3+x4)"
   ]
  },
  {
   "cell_type": "code",
   "execution_count": 13,
   "metadata": {},
   "outputs": [
    {
     "data": {
      "text/plain": [
       "'Piu Piu Check'"
      ]
     },
     "execution_count": 13,
     "metadata": {},
     "output_type": "execute_result"
    }
   ],
   "source": [
    "2 * \"Piu \" + \"Check\""
   ]
  },
  {
   "cell_type": "markdown",
   "metadata": {},
   "source": [
    "### Slicing"
   ]
  },
  {
   "cell_type": "code",
   "execution_count": 14,
   "metadata": {},
   "outputs": [],
   "source": [
    "first = 'Math'"
   ]
  },
  {
   "cell_type": "code",
   "execution_count": 15,
   "metadata": {},
   "outputs": [
    {
     "data": {
      "text/plain": [
       "'M'"
      ]
     },
     "execution_count": 15,
     "metadata": {},
     "output_type": "execute_result"
    }
   ],
   "source": [
    "first[0]"
   ]
  },
  {
   "cell_type": "code",
   "execution_count": 16,
   "metadata": {},
   "outputs": [
    {
     "name": "stdout",
     "output_type": "stream",
     "text": [
      "M\n"
     ]
    }
   ],
   "source": [
    "print(first[0])"
   ]
  },
  {
   "cell_type": "code",
   "execution_count": 17,
   "metadata": {},
   "outputs": [
    {
     "data": {
      "text/plain": [
       "'h'"
      ]
     },
     "execution_count": 17,
     "metadata": {},
     "output_type": "execute_result"
    }
   ],
   "source": [
    "first[-1]"
   ]
  },
  {
   "cell_type": "code",
   "execution_count": 18,
   "metadata": {},
   "outputs": [
    {
     "data": {
      "text/plain": [
       "'Ma'"
      ]
     },
     "execution_count": 18,
     "metadata": {},
     "output_type": "execute_result"
    }
   ],
   "source": [
    "first[0:2]"
   ]
  },
  {
   "cell_type": "code",
   "execution_count": 19,
   "metadata": {},
   "outputs": [],
   "source": [
    "first = \"Mathematics\""
   ]
  },
  {
   "cell_type": "code",
   "execution_count": 20,
   "metadata": {},
   "outputs": [
    {
     "data": {
      "text/plain": [
       "'th'"
      ]
     },
     "execution_count": 20,
     "metadata": {},
     "output_type": "execute_result"
    }
   ],
   "source": [
    "first[2:4]"
   ]
  },
  {
   "cell_type": "code",
   "execution_count": 21,
   "metadata": {},
   "outputs": [
    {
     "data": {
      "text/plain": [
       "'Mathematics'"
      ]
     },
     "execution_count": 21,
     "metadata": {},
     "output_type": "execute_result"
    }
   ],
   "source": [
    "first[0:3] + first[3:]"
   ]
  },
  {
   "cell_type": "markdown",
   "metadata": {},
   "source": [
    "### String length"
   ]
  },
  {
   "cell_type": "code",
   "execution_count": 22,
   "metadata": {},
   "outputs": [
    {
     "data": {
      "text/plain": [
       "11"
      ]
     },
     "execution_count": 22,
     "metadata": {},
     "output_type": "execute_result"
    }
   ],
   "source": [
    "len(first)"
   ]
  },
  {
   "cell_type": "markdown",
   "metadata": {},
   "source": [
    "### Lists"
   ]
  },
  {
   "cell_type": "code",
   "execution_count": 23,
   "metadata": {},
   "outputs": [
    {
     "data": {
      "text/plain": [
       "[2, 4, 7, 9]"
      ]
     },
     "execution_count": 23,
     "metadata": {},
     "output_type": "execute_result"
    }
   ],
   "source": [
    "numbers = [2,4,7,9]\n",
    "numbers"
   ]
  },
  {
   "cell_type": "code",
   "execution_count": 24,
   "metadata": {},
   "outputs": [
    {
     "data": {
      "text/plain": [
       "9"
      ]
     },
     "execution_count": 24,
     "metadata": {},
     "output_type": "execute_result"
    }
   ],
   "source": [
    "numbers[-1]"
   ]
  },
  {
   "cell_type": "code",
   "execution_count": 25,
   "metadata": {},
   "outputs": [
    {
     "data": {
      "text/plain": [
       "[2, 4, 7]"
      ]
     },
     "execution_count": 25,
     "metadata": {},
     "output_type": "execute_result"
    }
   ],
   "source": [
    "numbers[:3]"
   ]
  },
  {
   "cell_type": "code",
   "execution_count": 26,
   "metadata": {},
   "outputs": [
    {
     "data": {
      "text/plain": [
       "[2, 4, 7, 9, 12, 43]"
      ]
     },
     "execution_count": 26,
     "metadata": {},
     "output_type": "execute_result"
    }
   ],
   "source": [
    "numbers + [12,43]"
   ]
  },
  {
   "cell_type": "code",
   "execution_count": 27,
   "metadata": {},
   "outputs": [
    {
     "data": {
      "text/plain": [
       "[2, 14, 7, 9]"
      ]
     },
     "execution_count": 27,
     "metadata": {},
     "output_type": "execute_result"
    }
   ],
   "source": [
    "numbers[1]=14\n",
    "numbers"
   ]
  },
  {
   "cell_type": "code",
   "execution_count": 28,
   "metadata": {},
   "outputs": [
    {
     "data": {
      "text/plain": [
       "[2, 14, 7, 9, 15]"
      ]
     },
     "execution_count": 28,
     "metadata": {},
     "output_type": "execute_result"
    }
   ],
   "source": [
    "numbers.append(15)\n",
    "numbers"
   ]
  },
  {
   "cell_type": "code",
   "execution_count": 29,
   "metadata": {},
   "outputs": [
    {
     "data": {
      "text/plain": [
       "[]"
      ]
     },
     "execution_count": 29,
     "metadata": {},
     "output_type": "execute_result"
    }
   ],
   "source": [
    "numbers = []\n",
    "numbers"
   ]
  },
  {
   "cell_type": "code",
   "execution_count": 30,
   "metadata": {},
   "outputs": [
    {
     "data": {
      "text/plain": [
       "3"
      ]
     },
     "execution_count": 30,
     "metadata": {},
     "output_type": "execute_result"
    }
   ],
   "source": [
    "letters = ['aee','e','p']\n",
    "len(letters)"
   ]
  },
  {
   "cell_type": "code",
   "execution_count": 31,
   "metadata": {},
   "outputs": [
    {
     "name": "stdout",
     "output_type": "stream",
     "text": [
      "The length of \"letters\" is 3\n"
     ]
    }
   ],
   "source": [
    "print('The length of \\\"letters\\\" is',len(letters))"
   ]
  },
  {
   "cell_type": "markdown",
   "metadata": {},
   "source": [
    "## Loops"
   ]
  },
  {
   "cell_type": "markdown",
   "metadata": {},
   "source": [
    "### `while` statement"
   ]
  },
  {
   "cell_type": "code",
   "execution_count": 32,
   "metadata": {},
   "outputs": [
    {
     "name": "stdout",
     "output_type": "stream",
     "text": [
      "0\n",
      "1\n",
      "1\n",
      "2\n",
      "3\n",
      "5\n",
      "8\n"
     ]
    }
   ],
   "source": [
    "# Fibonacci series:\n",
    "# the sum of two elements defines the next\n",
    "a,b =0,1\n",
    "while a < 10:\n",
    "    print(a)\n",
    "    a, b = b, a + b"
   ]
  },
  {
   "cell_type": "markdown",
   "metadata": {},
   "source": [
    "or"
   ]
  },
  {
   "cell_type": "code",
   "execution_count": 33,
   "metadata": {},
   "outputs": [
    {
     "name": "stdout",
     "output_type": "stream",
     "text": [
      "0,1,1,2,3,5,8,"
     ]
    }
   ],
   "source": [
    "a,b=0,1\n",
    "while a < 10:\n",
    "    print(a,end=',')\n",
    "    a,b=b,a+b"
   ]
  },
  {
   "cell_type": "code",
   "execution_count": 34,
   "metadata": {},
   "outputs": [
    {
     "name": "stdout",
     "output_type": "stream",
     "text": [
      "0\n",
      "1\n",
      "2\n",
      "3\n",
      "4\n",
      "5\n",
      "6\n"
     ]
    }
   ],
   "source": [
    "cc=0\n",
    "while cc < 7:\n",
    "    print(cc)\n",
    "    cc += 1"
   ]
  },
  {
   "cell_type": "code",
   "execution_count": 35,
   "metadata": {},
   "outputs": [
    {
     "name": "stdout",
     "output_type": "stream",
     "text": [
      "0\n",
      "1\n",
      "2\n",
      "3\n",
      "4\n",
      "5\n"
     ]
    }
   ],
   "source": [
    "count = 0\n",
    "while True:\n",
    "    print(count)\n",
    "    count += 1\n",
    "    if count > 5:\n",
    "        break"
   ]
  },
  {
   "cell_type": "markdown",
   "metadata": {},
   "source": [
    "### `for` statement"
   ]
  },
  {
   "cell_type": "code",
   "execution_count": 36,
   "metadata": {},
   "outputs": [
    {
     "name": "stdout",
     "output_type": "stream",
     "text": [
      "apple\n",
      "banana\n",
      "cherry\n"
     ]
    }
   ],
   "source": [
    "fruits = [\"apple\", \"banana\", \"cherry\"]\n",
    "for x in fruits:\n",
    "  print(x)"
   ]
  },
  {
   "cell_type": "code",
   "execution_count": 37,
   "metadata": {},
   "outputs": [
    {
     "name": "stdout",
     "output_type": "stream",
     "text": [
      "b\n",
      "a\n",
      "n\n",
      "a\n",
      "n\n",
      "a\n"
     ]
    }
   ],
   "source": [
    "for x in \"banana\":\n",
    "  print(x)"
   ]
  },
  {
   "cell_type": "code",
   "execution_count": 38,
   "metadata": {},
   "outputs": [
    {
     "name": "stdout",
     "output_type": "stream",
     "text": [
      "cat 3\n",
      "window 6\n",
      "defenestrate 12\n"
     ]
    }
   ],
   "source": [
    "# Measure some strings:\n",
    "words = ['cat', 'window', 'defenestrate']\n",
    "for w in words:\n",
    "    print(w, len(w))"
   ]
  },
  {
   "cell_type": "markdown",
   "metadata": {},
   "source": [
    "### `range`"
   ]
  },
  {
   "cell_type": "code",
   "execution_count": 39,
   "metadata": {},
   "outputs": [
    {
     "name": "stdout",
     "output_type": "stream",
     "text": [
      "0\n",
      "1\n",
      "2\n",
      "3\n",
      "4\n"
     ]
    }
   ],
   "source": [
    "for i in range(5):\n",
    "    print(i)"
   ]
  },
  {
   "cell_type": "code",
   "execution_count": 40,
   "metadata": {},
   "outputs": [
    {
     "name": "stdout",
     "output_type": "stream",
     "text": [
      "2\n",
      "4\n",
      "6\n"
     ]
    }
   ],
   "source": [
    "for x in range(2,7,2):\n",
    "    print(x)"
   ]
  },
  {
   "cell_type": "code",
   "execution_count": 41,
   "metadata": {},
   "outputs": [
    {
     "name": "stdout",
     "output_type": "stream",
     "text": [
      "2\n",
      "5\n",
      "8\n",
      "11\n",
      "14\n",
      "17\n",
      "20\n",
      "23\n",
      "26\n",
      "29\n"
     ]
    }
   ],
   "source": [
    "for x in range(2, 30, 3):\n",
    "  print(x)"
   ]
  },
  {
   "cell_type": "code",
   "execution_count": 42,
   "metadata": {},
   "outputs": [
    {
     "name": "stdout",
     "output_type": "stream",
     "text": [
      "-10,-40,-70,"
     ]
    }
   ],
   "source": [
    "for z in range(-10, -100, -30):\n",
    "    print(z,end=\",\")"
   ]
  },
  {
   "cell_type": "code",
   "execution_count": 43,
   "metadata": {},
   "outputs": [
    {
     "name": "stdout",
     "output_type": "stream",
     "text": [
      "0 Mary\n",
      "1 had\n",
      "2 a\n",
      "3 little\n",
      "4 lamb\n"
     ]
    }
   ],
   "source": [
    "a = ['Mary', 'had', 'a', 'little', 'lamb']\n",
    "for i in range(len(a)):\n",
    "    print(i, a[i])"
   ]
  },
  {
   "cell_type": "code",
   "execution_count": 44,
   "metadata": {},
   "outputs": [
    {
     "name": "stdout",
     "output_type": "stream",
     "text": [
      "0\n",
      "1\n",
      "2\n",
      "3\n",
      "4\n",
      "5\n",
      "Finally finished!\n"
     ]
    }
   ],
   "source": [
    "for x in range(6):\n",
    "  print(x)\n",
    "else:\n",
    "  print(\"Finally finished!\")"
   ]
  },
  {
   "cell_type": "markdown",
   "metadata": {},
   "source": [
    "### `if` statement"
   ]
  },
  {
   "cell_type": "code",
   "execution_count": 45,
   "metadata": {},
   "outputs": [
    {
     "name": "stdout",
     "output_type": "stream",
     "text": [
      "0\n",
      "2\n",
      "4\n",
      "6\n",
      "8\n"
     ]
    }
   ],
   "source": [
    "for x in range(10):\n",
    "    if x % 2 != 0:\n",
    "        continue\n",
    "    print(x)\n",
    "    "
   ]
  },
  {
   "cell_type": "code",
   "execution_count": 46,
   "metadata": {},
   "outputs": [
    {
     "name": "stdout",
     "output_type": "stream",
     "text": [
      "apple\n",
      "banana\n"
     ]
    }
   ],
   "source": [
    "fruits = [\"apple\", \"banana\", \"cherry\"]\n",
    "for x in fruits:\n",
    "  print(x) \n",
    "  if x == \"banana\":\n",
    "    break"
   ]
  },
  {
   "cell_type": "code",
   "execution_count": 47,
   "metadata": {},
   "outputs": [
    {
     "name": "stdout",
     "output_type": "stream",
     "text": [
      "apple\n",
      "cherry\n"
     ]
    }
   ],
   "source": [
    "fruits = [\"apple\", \"banana\", \"cherry\"]\n",
    "for x in fruits:\n",
    "  if x == \"banana\":\n",
    "    continue\n",
    "  print(x)"
   ]
  },
  {
   "cell_type": "code",
   "execution_count": 48,
   "metadata": {},
   "outputs": [
    {
     "name": "stdout",
     "output_type": "stream",
     "text": [
      "red apple\n",
      "red banana\n",
      "red cherry\n",
      "big apple\n",
      "big banana\n",
      "big cherry\n",
      "tasty apple\n",
      "tasty banana\n",
      "tasty cherry\n"
     ]
    }
   ],
   "source": [
    "adj = [\"red\", \"big\", \"tasty\"]\n",
    "fruits = [\"apple\", \"banana\", \"cherry\"]\n",
    "\n",
    "for x in adj:\n",
    "  for y in fruits:\n",
    "    print(x, y)"
   ]
  },
  {
   "cell_type": "markdown",
   "metadata": {},
   "source": [
    "### `break` and `continue` statements"
   ]
  },
  {
   "cell_type": "code",
   "execution_count": 49,
   "metadata": {},
   "outputs": [
    {
     "name": "stdout",
     "output_type": "stream",
     "text": [
      "2 is a prime number\n",
      "3 is a prime number\n",
      "4 equals 2 * 2\n",
      "5 is a prime number\n",
      "6 equals 2 * 3\n",
      "7 is a prime number\n",
      "8 equals 2 * 4\n",
      "9 equals 3 * 3\n"
     ]
    }
   ],
   "source": [
    "for n in range(2, 10):\n",
    "    for x in range(2, n):\n",
    "        if n % x == 0:\n",
    "            print(n, 'equals', x, '*', n//x)\n",
    "            break\n",
    "    else:\n",
    "        # loop fell through without finding a factor\n",
    "        print(n, 'is a prime number')"
   ]
  },
  {
   "cell_type": "code",
   "execution_count": 50,
   "metadata": {},
   "outputs": [
    {
     "name": "stdout",
     "output_type": "stream",
     "text": [
      "Found an even number 2\n",
      "Found an odd number 3\n",
      "Found an even number 4\n",
      "Found an odd number 5\n",
      "Found an even number 6\n",
      "Found an odd number 7\n",
      "Found an even number 8\n",
      "Found an odd number 9\n"
     ]
    }
   ],
   "source": [
    "for num in range(2, 10):\n",
    "    if num % 2 == 0:\n",
    "        print(\"Found an even number\", num)\n",
    "        continue\n",
    "    print(\"Found an odd number\", num)"
   ]
  },
  {
   "cell_type": "code",
   "execution_count": 51,
   "metadata": {},
   "outputs": [],
   "source": [
    "for x in [0, 1, 2]:\n",
    "  pass"
   ]
  },
  {
   "cell_type": "code",
   "execution_count": 52,
   "metadata": {},
   "outputs": [
    {
     "name": "stdin",
     "output_type": "stream",
     "text": [
      "Please enter an integer:  3\n"
     ]
    },
    {
     "name": "stdout",
     "output_type": "stream",
     "text": [
      "More\n"
     ]
    }
   ],
   "source": [
    "x = int(input(\"Please enter an integer: \"))\n",
    "\n",
    "if x < 0:\n",
    "    x = 0\n",
    "    print('Negative changed to zero')\n",
    "elif x == 0:\n",
    "    print('Zero')\n",
    "elif x == 1:\n",
    "    print('Single')\n",
    "else:\n",
    "    print('More')"
   ]
  },
  {
   "cell_type": "markdown",
   "metadata": {},
   "source": [
    "### Functions"
   ]
  },
  {
   "cell_type": "code",
   "execution_count": 53,
   "metadata": {},
   "outputs": [],
   "source": [
    "def fib(n):    # write Fibonacci series up to n\n",
    "    \"\"\"Print a Fibonacci series up to n.\"\"\"\n",
    "    a, b = 0, 1\n",
    "    while a < n:\n",
    "        print(a, end=' ')\n",
    "        a, b = b, a+b\n",
    "    print()"
   ]
  },
  {
   "cell_type": "code",
   "execution_count": 54,
   "metadata": {},
   "outputs": [
    {
     "name": "stdout",
     "output_type": "stream",
     "text": [
      "0 1 1 2 3 5 8 13 21 34 55 89 144 233 377 610 987 1597 \n"
     ]
    }
   ],
   "source": [
    "# Now call the function we just defined:\n",
    "fib(2000)"
   ]
  },
  {
   "cell_type": "code",
   "execution_count": 55,
   "metadata": {},
   "outputs": [
    {
     "name": "stdout",
     "output_type": "stream",
     "text": [
      "0 1 1 2 3 5 8 \n",
      "None\n"
     ]
    }
   ],
   "source": [
    "print(fib(10))"
   ]
  },
  {
   "cell_type": "markdown",
   "metadata": {},
   "source": [
    "### Functions that returns a list"
   ]
  },
  {
   "cell_type": "code",
   "execution_count": 56,
   "metadata": {},
   "outputs": [
    {
     "data": {
      "text/plain": [
       "[0, 1, 1, 2, 3, 5, 8, 13, 21, 34, 55, 89]"
      ]
     },
     "execution_count": 56,
     "metadata": {},
     "output_type": "execute_result"
    }
   ],
   "source": [
    "def fib2(n):  # return Fibonacci series up to n\n",
    "    \"\"\"Return a list containing the Fibonacci series up to n.\"\"\"\n",
    "    result = []\n",
    "    a, b = 0, 1\n",
    "    while a < n:\n",
    "        result.append(a)    # see below\n",
    "        a, b = b, a+b\n",
    "    return result\n",
    "\n",
    "f100 = fib2(100)    # call it\n",
    "f100                # write the result"
   ]
  },
  {
   "cell_type": "markdown",
   "metadata": {},
   "source": [
    "### Default Argument Values"
   ]
  },
  {
   "cell_type": "code",
   "execution_count": 57,
   "metadata": {},
   "outputs": [],
   "source": [
    "def ask_ok(prompt, retries=4, reminder='Please try again!'):\n",
    "    while True:\n",
    "        ok = input(prompt)\n",
    "        if ok in ('y', 'ye', 'yes'):\n",
    "            return True\n",
    "        if ok in ('n', 'no', 'nop', 'nope'):\n",
    "            return False\n",
    "        retries = retries - 1\n",
    "        if retries < 0:\n",
    "            raise ValueError('invalid user response')\n",
    "        print(reminder)"
   ]
  },
  {
   "cell_type": "code",
   "execution_count": 58,
   "metadata": {},
   "outputs": [
    {
     "name": "stdin",
     "output_type": "stream",
     "text": [
      "Is it a summy day? (y/n) y\n"
     ]
    },
    {
     "data": {
      "text/plain": [
       "True"
      ]
     },
     "execution_count": 58,
     "metadata": {},
     "output_type": "execute_result"
    }
   ],
   "source": [
    "ask_ok('Is it a summy day? (y/n)')"
   ]
  },
  {
   "cell_type": "code",
   "execution_count": 59,
   "metadata": {},
   "outputs": [
    {
     "name": "stdout",
     "output_type": "stream",
     "text": [
      "5\n"
     ]
    }
   ],
   "source": [
    "i = 5\n",
    "\n",
    "def f(arg=i):\n",
    "    print(arg)\n",
    "\n",
    "i = 6\n",
    "f()"
   ]
  },
  {
   "cell_type": "code",
   "execution_count": 60,
   "metadata": {},
   "outputs": [
    {
     "name": "stdout",
     "output_type": "stream",
     "text": [
      "[1]\n",
      "[1, 2]\n",
      "[1, 2, 3]\n"
     ]
    }
   ],
   "source": [
    "def f(a, L=[]):\n",
    "    L.append(a)\n",
    "    return L\n",
    "\n",
    "print(f(1))\n",
    "print(f(2))\n",
    "print(f(3))"
   ]
  },
  {
   "cell_type": "code",
   "execution_count": 61,
   "metadata": {},
   "outputs": [],
   "source": [
    "def f(a, L=None):\n",
    "    if L is None:\n",
    "        L = []\n",
    "    L.append(a)\n",
    "    return L"
   ]
  },
  {
   "cell_type": "code",
   "execution_count": 62,
   "metadata": {},
   "outputs": [
    {
     "data": {
      "text/plain": [
       "[4]"
      ]
     },
     "execution_count": 62,
     "metadata": {},
     "output_type": "execute_result"
    }
   ],
   "source": [
    "f(3)\n",
    "f(4)"
   ]
  },
  {
   "cell_type": "code",
   "execution_count": 63,
   "metadata": {},
   "outputs": [],
   "source": [
    "def gg(kk):\n",
    "    print(kk)"
   ]
  },
  {
   "cell_type": "code",
   "execution_count": 64,
   "metadata": {},
   "outputs": [
    {
     "name": "stdout",
     "output_type": "stream",
     "text": [
      "36\n"
     ]
    }
   ],
   "source": [
    "gg(6**2)"
   ]
  },
  {
   "cell_type": "code",
   "execution_count": 65,
   "metadata": {},
   "outputs": [
    {
     "name": "stdout",
     "output_type": "stream",
     "text": [
      "I need to sleep!\n"
     ]
    }
   ],
   "source": [
    "gg('I need to sleep!')"
   ]
  },
  {
   "cell_type": "code",
   "execution_count": 66,
   "metadata": {},
   "outputs": [],
   "source": [
    "def parrot(voltage, state='a stiff', action='voom', type='Norwegian Blue'):\n",
    "    print(\"-- This parrot wouldn't\", action, end=' ')\n",
    "    print(\"if you put\", voltage, \"volts through it.\")\n",
    "    print(\"-- Lovely plumage, the\", type)\n",
    "    print(\"-- It's\", state, \"!\")"
   ]
  },
  {
   "cell_type": "code",
   "execution_count": 67,
   "metadata": {},
   "outputs": [
    {
     "name": "stdout",
     "output_type": "stream",
     "text": [
      "-- This parrot wouldn't voom if you put 12 volts through it.\n",
      "-- Lovely plumage, the Norwegian Blue\n",
      "-- It's a stiff !\n"
     ]
    }
   ],
   "source": [
    "parrot(12)"
   ]
  },
  {
   "cell_type": "markdown",
   "metadata": {},
   "source": [
    "## Mathematics"
   ]
  },
  {
   "cell_type": "code",
   "execution_count": 68,
   "metadata": {},
   "outputs": [
    {
     "data": {
      "text/plain": [
       "10.0"
      ]
     },
     "execution_count": 68,
     "metadata": {},
     "output_type": "execute_result"
    }
   ],
   "source": [
    "import math\n",
    "math.cos(math.pi / 4)\n",
    "\n",
    "math.log(1024, 2)"
   ]
  },
  {
   "cell_type": "code",
   "execution_count": 69,
   "metadata": {},
   "outputs": [
    {
     "data": {
      "text/plain": [
       "4"
      ]
     },
     "execution_count": 69,
     "metadata": {},
     "output_type": "execute_result"
    }
   ],
   "source": [
    "import random\n",
    "random.choice(['apple', 'pear', 'banana'])\n",
    "\n",
    "random.sample(range(100), 10)   # sampling without replacement\n",
    "\n",
    "random.random()    # random float\n",
    "\n",
    "random.randrange(6)    # random integer chosen from range(6)"
   ]
  },
  {
   "cell_type": "code",
   "execution_count": 70,
   "metadata": {},
   "outputs": [
    {
     "data": {
      "text/plain": [
       "1.3720238095238095"
      ]
     },
     "execution_count": 70,
     "metadata": {},
     "output_type": "execute_result"
    }
   ],
   "source": [
    "import statistics\n",
    "data = [2.75, 1.75, 1.25, 0.25, 0.5, 1.25, 3.5]\n",
    "statistics.mean(data)\n",
    "\n",
    "statistics.median(data)\n",
    "\n",
    "statistics.variance(data)"
   ]
  },
  {
   "cell_type": "markdown",
   "metadata": {},
   "source": [
    "## Dates and Times"
   ]
  },
  {
   "cell_type": "code",
   "execution_count": 71,
   "metadata": {},
   "outputs": [
    {
     "data": {
      "text/plain": [
       "20612"
      ]
     },
     "execution_count": 71,
     "metadata": {},
     "output_type": "execute_result"
    }
   ],
   "source": [
    "# dates are easily constructed and formatted\n",
    "from datetime import date\n",
    "now = date.today()\n",
    "now\n",
    "\n",
    "now.strftime(\"%m-%d-%y. %d %b %Y is a %A on the %d day of %B.\")\n",
    "\n",
    "\n",
    "# dates support calendar arithmetic\n",
    "birthday = date(1964, 7, 31)\n",
    "age = now - birthday\n",
    "age.days"
   ]
  },
  {
   "cell_type": "markdown",
   "metadata": {},
   "source": [
    "# ScyPy - Python library for symbolic mathematics"
   ]
  },
  {
   "cell_type": "markdown",
   "metadata": {},
   "source": [
    "## 'sympy'"
   ]
  },
  {
   "cell_type": "code",
   "execution_count": 72,
   "metadata": {},
   "outputs": [],
   "source": [
    "#!pip install sympy\n",
    "# CHECK: https://www.sympygamma.com/"
   ]
  },
  {
   "cell_type": "code",
   "execution_count": 73,
   "metadata": {},
   "outputs": [],
   "source": [
    "import sympy as sym\n",
    "sym.init_printing()\n",
    "from sympy.plotting import plot\n",
    "from sympy import *\n",
    "from IPython.display import display, Math"
   ]
  },
  {
   "cell_type": "code",
   "execution_count": 74,
   "metadata": {},
   "outputs": [
    {
     "data": {
      "image/png": "[encoded data removed]",
      "text/latex": [
       "$\\displaystyle k$"
      ],
      "text/plain": [
       "k"
      ]
     },
     "execution_count": 74,
     "metadata": {},
     "output_type": "execute_result"
    }
   ],
   "source": [
    "k = symbols(\"k\")\n",
    "k"
   ]
  },
  {
   "cell_type": "code",
   "execution_count": 75,
   "metadata": {},
   "outputs": [
    {
     "data": {
      "image/png": "[encoded data removed]",
      "text/latex": [
       "$\\displaystyle k^{2} - 1 = 3$"
      ],
      "text/plain": [
       " 2        \n",
       "k  - 1 = 3"
      ]
     },
     "execution_count": 75,
     "metadata": {},
     "output_type": "execute_result"
    }
   ],
   "source": [
    "eqk_1=sym.Eq(k**2 -1,3)\n",
    "eqk_1"
   ]
  },
  {
   "cell_type": "code",
   "execution_count": 76,
   "metadata": {},
   "outputs": [
    {
     "name": "stdout",
     "output_type": "stream",
     "text": [
      "[-2, 2]\n"
     ]
    }
   ],
   "source": [
    "print(sym.solve(eqk_1,k))"
   ]
  },
  {
   "cell_type": "code",
   "execution_count": 77,
   "metadata": {},
   "outputs": [
    {
     "data": {
      "image/png": "[encoded data removed]",
      "text/plain": [
       "<Figure size 432x288 with 1 Axes>"
      ]
     },
     "metadata": {},
     "output_type": "display_data"
    },
    {
     "data": {
      "text/plain": [
       "<sympy.plotting.plot.Plot at 0x21853604670>"
      ]
     },
     "execution_count": 77,
     "metadata": {},
     "output_type": "execute_result"
    }
   ],
   "source": [
    "plot(k**2 -1,line_color='black')"
   ]
  },
  {
   "cell_type": "code",
   "execution_count": 78,
   "metadata": {},
   "outputs": [],
   "source": [
    "#?plot"
   ]
  },
  {
   "cell_type": "code",
   "execution_count": 79,
   "metadata": {},
   "outputs": [
    {
     "data": {
      "image/png": "[encoded data removed]",
      "text/plain": [
       "<Figure size 432x288 with 1 Axes>"
      ]
     },
     "metadata": {},
     "output_type": "display_data"
    },
    {
     "data": {
      "text/plain": [
       "<sympy.plotting.plot.Plot at 0x218536ccdc0>"
      ]
     },
     "execution_count": 79,
     "metadata": {},
     "output_type": "execute_result"
    }
   ],
   "source": [
    "plot(k**2-1,line_color=\"red\",title=\"First graph\",xlabel=\"Oasis\")"
   ]
  },
  {
   "cell_type": "code",
   "execution_count": 80,
   "metadata": {},
   "outputs": [
    {
     "data": {
      "text/latex": [
       "$\\displaystyle x = y + z$"
      ],
      "text/plain": [
       "<IPython.core.display.Math object>"
      ]
     },
     "metadata": {},
     "output_type": "display_data"
    }
   ],
   "source": [
    "x, y, z = symbols(\"x y z\")\n",
    "x=y+z\n",
    "display(Math('x = '+latex(x)))"
   ]
  },
  {
   "cell_type": "markdown",
   "metadata": {},
   "source": [
    "Imagine we want to solve the equation: $2\\times x = 3$"
   ]
  },
  {
   "cell_type": "code",
   "execution_count": 81,
   "metadata": {},
   "outputs": [
    {
     "data": {
      "image/png": "[encoded data removed]",
      "text/latex": [
       "$\\displaystyle 2 x = 3$"
      ],
      "text/plain": [
       "2⋅x = 3"
      ]
     },
     "metadata": {},
     "output_type": "display_data"
    }
   ],
   "source": [
    "x=sym.symbols('x')\n",
    "eq1=sym.Eq(2*x,3)\n",
    "display(eq1)"
   ]
  },
  {
   "cell_type": "markdown",
   "metadata": {},
   "source": [
    "We can solve the equation bt typing:"
   ]
  },
  {
   "cell_type": "code",
   "execution_count": 82,
   "metadata": {},
   "outputs": [
    {
     "data": {
      "image/png": "[encoded data removed]",
      "text/latex": [
       "$\\displaystyle \\left[ \\frac{3}{2}\\right]$"
      ],
      "text/plain": [
       "[3/2]"
      ]
     },
     "execution_count": 82,
     "metadata": {},
     "output_type": "execute_result"
    }
   ],
   "source": [
    "sym.solve(eq1,x)"
   ]
  },
  {
   "cell_type": "markdown",
   "metadata": {},
   "source": [
    "We could solve a system of equations"
   ]
  },
  {
   "cell_type": "code",
   "execution_count": 83,
   "metadata": {},
   "outputs": [],
   "source": [
    "x,y,z = sym.symbols('x,y,z')\n",
    "\n",
    "c1 = sym.Symbol('c1')\n",
    "\n",
    "f = sym.Eq(2*x**2+y+z,1)\n",
    "g = sym.Eq(x+2*y+z,c1)\n",
    "h = sym.Eq(-2*x+y,-z)"
   ]
  },
  {
   "cell_type": "code",
   "execution_count": 84,
   "metadata": {},
   "outputs": [
    {
     "data": {
      "image/png": "[encoded data removed]",
      "text/latex": [
       "$\\displaystyle 2 x^{2} + y + z = 1$"
      ],
      "text/plain": [
       "   2            \n",
       "2⋅x  + y + z = 1"
      ]
     },
     "metadata": {},
     "output_type": "display_data"
    },
    {
     "data": {
      "image/png": "[encoded data removed]",
      "text/latex": [
       "$\\displaystyle x + 2 y + z = c_{1}$"
      ],
      "text/plain": [
       "x + 2⋅y + z = c₁"
      ]
     },
     "metadata": {},
     "output_type": "display_data"
    },
    {
     "data": {
      "image/png": "[encoded data removed]",
      "text/latex": [
       "$\\displaystyle - 2 x + y = - z$"
      ],
      "text/plain": [
       "-2⋅x + y = -z"
      ]
     },
     "metadata": {},
     "output_type": "display_data"
    }
   ],
   "source": [
    "display(f)\n",
    "display(g)\n",
    "display(h)"
   ]
  },
  {
   "cell_type": "code",
   "execution_count": 85,
   "metadata": {},
   "outputs": [
    {
     "data": {
      "image/png": "[encoded data removed]",
      "text/latex": [
       "$\\displaystyle \\left[ \\left( - \\frac{1}{2} + \\frac{\\sqrt{3}}{2}, \\  c_{1} - \\frac{3 \\sqrt{3}}{2} + \\frac{3}{2}, \\  - c_{1} - \\frac{5}{2} + \\frac{5 \\sqrt{3}}{2}\\right), \\  \\left( - \\frac{\\sqrt{3}}{2} - \\frac{1}{2}, \\  c_{1} + \\frac{3}{2} + \\frac{3 \\sqrt{3}}{2}, \\  - c_{1} - \\frac{5 \\sqrt{3}}{2} - \\frac{5}{2}\\right)\\right]$"
      ],
      "text/plain": [
       "⎡⎛  1   √3       3⋅√3   3        5   5⋅√3⎞  ⎛  √3   1       3   3⋅√3        5⋅\n",
       "⎢⎜- ─ + ──, c₁ - ──── + ─, -c₁ - ─ + ────⎟, ⎜- ── - ─, c₁ + ─ + ────, -c₁ - ──\n",
       "⎣⎝  2   2         2     2        2    2  ⎠  ⎝  2    2       2    2           2\n",
       "\n",
       "√3   5⎞⎤\n",
       "── - ─⎟⎥\n",
       "     2⎠⎦"
      ]
     },
     "execution_count": 85,
     "metadata": {},
     "output_type": "execute_result"
    }
   ],
   "source": [
    "sym.solve([f,g,h],(x,y,z))"
   ]
  },
  {
   "cell_type": "markdown",
   "metadata": {},
   "source": [
    "or plot the mathmatical funcion, where we start by difining the variable \"x\""
   ]
  },
  {
   "cell_type": "code",
   "execution_count": 86,
   "metadata": {},
   "outputs": [],
   "source": [
    "x=Symbol('x')"
   ]
  },
  {
   "cell_type": "markdown",
   "metadata": {},
   "source": [
    "and then plot the function $x^{2}$"
   ]
  },
  {
   "cell_type": "code",
   "execution_count": 87,
   "metadata": {},
   "outputs": [
    {
     "data": {
      "image/png": "[encoded data removed]",
      "text/plain": [
       "<Figure size 432x288 with 1 Axes>"
      ]
     },
     "metadata": {},
     "output_type": "display_data"
    },
    {
     "data": {
      "text/plain": [
       "<sympy.plotting.plot.Plot at 0x218534dc0d0>"
      ]
     },
     "execution_count": 87,
     "metadata": {},
     "output_type": "execute_result"
    }
   ],
   "source": [
    "plot(x**2,line_color='red')"
   ]
  },
  {
   "cell_type": "code",
   "execution_count": 88,
   "metadata": {},
   "outputs": [
    {
     "data": {
      "image/png": "[encoded data removed]",
      "text/plain": [
       "<Figure size 432x288 with 1 Axes>"
      ]
     },
     "metadata": {},
     "output_type": "display_data"
    },
    {
     "data": {
      "text/plain": [
       "<sympy.plotting.plot.Plot at 0x218537a2d30>"
      ]
     },
     "execution_count": 88,
     "metadata": {},
     "output_type": "execute_result"
    }
   ],
   "source": [
    "plot(log(x),line_color=\"blue\")"
   ]
  },
  {
   "cell_type": "code",
   "execution_count": 89,
   "metadata": {},
   "outputs": [],
   "source": [
    "from sympy.abc import x,y"
   ]
  },
  {
   "cell_type": "code",
   "execution_count": 90,
   "metadata": {},
   "outputs": [
    {
     "data": {
      "image/png": "[encoded data removed]",
      "text/latex": [
       "$\\displaystyle \\frac{1}{x}$"
      ],
      "text/plain": [
       "1\n",
       "─\n",
       "x"
      ]
     },
     "execution_count": 90,
     "metadata": {},
     "output_type": "execute_result"
    }
   ],
   "source": [
    "ee1 = ln(x)\n",
    "diff(ee1,x)"
   ]
  },
  {
   "cell_type": "code",
   "execution_count": 91,
   "metadata": {},
   "outputs": [
    {
     "data": {
      "image/png": "[encoded data removed]",
      "text/latex": [
       "$\\displaystyle x \\sin{\\left(x^{2} \\right)} + 1$"
      ],
      "text/plain": [
       "     ⎛ 2⎞    \n",
       "x⋅sin⎝x ⎠ + 1"
      ]
     },
     "execution_count": 91,
     "metadata": {},
     "output_type": "execute_result"
    }
   ],
   "source": [
    "expr=x*sin(x*x)+1\n",
    "expr"
   ]
  },
  {
   "cell_type": "code",
   "execution_count": 92,
   "metadata": {},
   "outputs": [
    {
     "data": {
      "image/png": "[encoded data removed]",
      "text/latex": [
       "$\\displaystyle 2 x^{2} \\cos{\\left(x^{2} \\right)} + \\sin{\\left(x^{2} \\right)}$"
      ],
      "text/plain": [
       "   2    ⎛ 2⎞      ⎛ 2⎞\n",
       "2⋅x ⋅cos⎝x ⎠ + sin⎝x ⎠"
      ]
     },
     "execution_count": 92,
     "metadata": {},
     "output_type": "execute_result"
    }
   ],
   "source": [
    "diff(expr,x)"
   ]
  },
  {
   "cell_type": "code",
   "execution_count": 93,
   "metadata": {},
   "outputs": [
    {
     "data": {
      "image/png": "[encoded data removed]",
      "text/latex": [
       "$\\displaystyle x^{3} + 2 x - 4$"
      ],
      "text/plain": [
       " 3          \n",
       "x  + 2⋅x - 4"
      ]
     },
     "execution_count": 93,
     "metadata": {},
     "output_type": "execute_result"
    }
   ],
   "source": [
    "ex1=x**3+2*x-4\n",
    "ex1"
   ]
  },
  {
   "cell_type": "code",
   "execution_count": 94,
   "metadata": {},
   "outputs": [
    {
     "data": {
      "image/png": "[encoded data removed]",
      "text/latex": [
       "$\\displaystyle 3 x^{2} + 2$"
      ],
      "text/plain": [
       "   2    \n",
       "3⋅x  + 2"
      ]
     },
     "execution_count": 94,
     "metadata": {},
     "output_type": "execute_result"
    }
   ],
   "source": [
    "diff(ex1,x)"
   ]
  },
  {
   "cell_type": "code",
   "execution_count": 95,
   "metadata": {},
   "outputs": [
    {
     "data": {
      "image/png": "[encoded data removed]",
      "text/latex": [
       "$\\displaystyle x^{y} + y - \\frac{1}{x} = 7$"
      ],
      "text/plain": [
       " y       1    \n",
       "x  + y - ─ = 7\n",
       "         x    "
      ]
     },
     "execution_count": 95,
     "metadata": {},
     "output_type": "execute_result"
    }
   ],
   "source": [
    "ex2=sym.Eq(x**y+y-1/x,7)\n",
    "y=Function('y')(x)\n",
    "ex2"
   ]
  },
  {
   "cell_type": "code",
   "execution_count": 96,
   "metadata": {},
   "outputs": [
    {
     "data": {
      "image/png": "[encoded data removed]",
      "text/latex": [
       "$\\displaystyle \\frac{\\partial}{\\partial x} x^{y} + y - \\frac{1}{x} = 7$"
      ],
      "text/plain": [
       "∂ ⎛ y       1    ⎞\n",
       "──⎜x  + y - ─ = 7⎟\n",
       "∂x⎝         x    ⎠"
      ]
     },
     "execution_count": 96,
     "metadata": {},
     "output_type": "execute_result"
    }
   ],
   "source": [
    "diff(ex2,x)"
   ]
  },
  {
   "cell_type": "code",
   "execution_count": 97,
   "metadata": {},
   "outputs": [],
   "source": [
    "x=Function('x')(z)\n",
    "y=Function('y')(z)"
   ]
  },
  {
   "cell_type": "code",
   "execution_count": 98,
   "metadata": {},
   "outputs": [
    {
     "data": {
      "image/png": "[encoded data removed]",
      "text/latex": [
       "$\\displaystyle z^{4} + x^{5}{\\left(z \\right)} + y^{2}{\\left(z \\right)} = 8 z x{\\left(z \\right)} y{\\left(z \\right)}$"
      ],
      "text/plain": [
       " 4    5       2                   \n",
       "z  + x (z) + y (z) = 8⋅z⋅x(z)⋅y(z)"
      ]
     },
     "execution_count": 98,
     "metadata": {},
     "output_type": "execute_result"
    }
   ],
   "source": [
    "ex3=sym.Eq(x**5 + y**2 + z**4, 8*x*y*z)\n",
    "ex3"
   ]
  },
  {
   "cell_type": "code",
   "execution_count": 99,
   "metadata": {},
   "outputs": [
    {
     "data": {
      "image/png": "[encoded data removed]",
      "text/latex": [
       "$\\displaystyle \\frac{d}{d z} z^{4} + x^{5}{\\left(z \\right)} + y^{2}{\\left(z \\right)} = 8 z x{\\left(z \\right)} y{\\left(z \\right)}$"
      ],
      "text/plain": [
       "d ⎛ 4    5       2                   ⎞\n",
       "──⎝z  + x (z) + y (z) = 8⋅z⋅x(z)⋅y(z)⎠\n",
       "dz                                    "
      ]
     },
     "execution_count": 99,
     "metadata": {},
     "output_type": "execute_result"
    }
   ],
   "source": [
    "diff(ex3,z)"
   ]
  },
  {
   "cell_type": "code",
   "execution_count": 100,
   "metadata": {},
   "outputs": [],
   "source": [
    "from sympy import symbols, idiff, sin, cos, tan, sqrt, init_printing, plot_implicit"
   ]
  },
  {
   "cell_type": "code",
   "execution_count": 101,
   "metadata": {},
   "outputs": [],
   "source": [
    "x = symbols('x')\n",
    "y = symbols('y')"
   ]
  },
  {
   "cell_type": "code",
   "execution_count": 102,
   "metadata": {},
   "outputs": [
    {
     "data": {
      "text/plain": [
       "PartsRule(u=x, dv=sin(3*x), v_step=URule(u_var=_u, u_func=3*x, constant=1/3, substep=ConstantTimesRule(constant=1/3, other=sin(_u), substep=TrigRule(func='sin', arg=_u, context=sin(_u), symbol=_u), context=sin(_u), symbol=_u), context=sin(3*x), symbol=x), second_step=ConstantTimesRule(constant=-1/3, other=cos(3*x), substep=URule(u_var=_u, u_func=3*x, constant=1/3, substep=ConstantTimesRule(constant=1/3, other=cos(_u), substep=TrigRule(func='cos', arg=_u, context=cos(_u), symbol=_u), context=cos(_u), symbol=_u), context=cos(3*x), symbol=x), context=-cos(3*x)/3, symbol=x), context=x*sin(3*x), symbol=x)"
      ]
     },
     "execution_count": 102,
     "metadata": {},
     "output_type": "execute_result"
    }
   ],
   "source": [
    "# https://www.sympygamma.com/\n",
    "# https://github.com/sympy/sympy_gamma\n",
    "# https://stackoverflow.com/questions/48997931/sympy-step-by-step-solution-of-integrals\n",
    "from sympy.integrals.manualintegrate import integral_steps\n",
    "integral_steps(x*sin(3*x), x)"
   ]
  },
  {
   "cell_type": "code",
   "execution_count": 103,
   "metadata": {},
   "outputs": [
    {
     "data": {
      "image/png": "[encoded data removed]",
      "text/latex": [
       "$\\displaystyle - \\frac{x^{2}}{y^{2}}$"
      ],
      "text/plain": [
       "  2 \n",
       "-x  \n",
       "────\n",
       "  2 \n",
       " y  "
      ]
     },
     "execution_count": 103,
     "metadata": {},
     "output_type": "execute_result"
    }
   ],
   "source": [
    "idiff(y ** 3 + x ** 3 - 1, y, x)"
   ]
  },
  {
   "cell_type": "code",
   "execution_count": 104,
   "metadata": {},
   "outputs": [
    {
     "data": {
      "image/png": "[encoded data removed]",
      "text/latex": [
       "$\\displaystyle - \\frac{x + x^{y + 2} y}{x^{3} \\left(x^{y} \\log{\\left(x \\right)} + 1\\right)}$"
      ],
      "text/plain": [
       "  ⎛     y + 2  ⎞  \n",
       " -⎝x + x     ⋅y⎠  \n",
       "──────────────────\n",
       " 3 ⎛ y           ⎞\n",
       "x ⋅⎝x ⋅log(x) + 1⎠"
      ]
     },
     "execution_count": 104,
     "metadata": {},
     "output_type": "execute_result"
    }
   ],
   "source": [
    "idiff(x**y+y-1/x-7,y,x)"
   ]
  },
  {
   "cell_type": "code",
   "execution_count": 105,
   "metadata": {},
   "outputs": [
    {
     "data": {
      "image/png": "[encoded data removed]",
      "text/plain": [
       "<Figure size 432x288 with 1 Axes>"
      ]
     },
     "metadata": {},
     "output_type": "display_data"
    },
    {
     "data": {
      "image/png": "[encoded data removed]",
      "text/plain": [
       "<Figure size 432x288 with 1 Axes>"
      ]
     },
     "metadata": {},
     "output_type": "display_data"
    },
    {
     "data": {
      "text/plain": [
       "<sympy.plotting.plot.Plot at 0x21853cd4280>"
      ]
     },
     "execution_count": 105,
     "metadata": {},
     "output_type": "execute_result"
    }
   ],
   "source": [
    "plot_implicit(x ** 2 + x * y - y ** 2 + 4, title = 'graph of $x^2 + xy - y^2 + 4$')\n",
    "plot_implicit(-(2 * x + y) / (x - 2 * y))"
   ]
  },
  {
   "cell_type": "code",
   "execution_count": 106,
   "metadata": {},
   "outputs": [],
   "source": [
    "#SymPy TUTORIAL for the First Course in Applied Differential Equations\n",
    "#http://www.cfm.brown.edu/people/dobrush/am33/SymPy/index.html"
   ]
  },
  {
   "cell_type": "code",
   "execution_count": 107,
   "metadata": {},
   "outputs": [
    {
     "name": "stdout",
     "output_type": "stream",
     "text": [
      "Help on function idiff in module sympy.geometry.util:\n",
      "\n",
      "idiff(eq, y, x, n=1)\n",
      "    Return ``dy/dx`` assuming that ``eq == 0``.\n",
      "    \n",
      "    Parameters\n",
      "    ==========\n",
      "    \n",
      "    y : the dependent variable or a list of dependent variables (with y first)\n",
      "    x : the variable that the derivative is being taken with respect to\n",
      "    n : the order of the derivative (default is 1)\n",
      "    \n",
      "    Examples\n",
      "    ========\n",
      "    \n",
      "    >>> from sympy.abc import x, y, a\n",
      "    >>> from sympy.geometry.util import idiff\n",
      "    \n",
      "    >>> circ = x**2 + y**2 - 4\n",
      "    >>> idiff(circ, y, x)\n",
      "    -x/y\n",
      "    >>> idiff(circ, y, x, 2).simplify()\n",
      "    -(x**2 + y**2)/y**3\n",
      "    \n",
      "    Here, ``a`` is assumed to be independent of ``x``:\n",
      "    \n",
      "    >>> idiff(x + a + y, y, x)\n",
      "    -1\n",
      "    \n",
      "    Now the x-dependence of ``a`` is made explicit by listing ``a`` after\n",
      "    ``y`` in a list.\n",
      "    \n",
      "    >>> idiff(x + a + y, [y, a], x)\n",
      "    -Derivative(a, x) - 1\n",
      "    \n",
      "    See Also\n",
      "    ========\n",
      "    \n",
      "    sympy.core.function.Derivative: represents unevaluated derivatives\n",
      "    sympy.core.function.diff: explicitly differentiates wrt symbols\n",
      "\n"
     ]
    }
   ],
   "source": [
    "help(sp.idiff)"
   ]
  },
  {
   "cell_type": "code",
   "execution_count": 108,
   "metadata": {},
   "outputs": [
    {
     "data": {
      "text/plain": [
       "\u001b[1;31mSignature:\u001b[0m \u001b[0midiff\u001b[0m\u001b[1;33m(\u001b[0m\u001b[0meq\u001b[0m\u001b[1;33m,\u001b[0m \u001b[0my\u001b[0m\u001b[1;33m,\u001b[0m \u001b[0mx\u001b[0m\u001b[1;33m,\u001b[0m \u001b[0mn\u001b[0m\u001b[1;33m=\u001b[0m\u001b[1;36m1\u001b[0m\u001b[1;33m)\u001b[0m\u001b[1;33m\u001b[0m\u001b[1;33m\u001b[0m\u001b[0m\n",
       "\u001b[1;31mDocstring:\u001b[0m\n",
       "Return ``dy/dx`` assuming that ``eq == 0``.\n",
       "\n",
       "Parameters\n",
       "==========\n",
       "\n",
       "y : the dependent variable or a list of dependent variables (with y first)\n",
       "x : the variable that the derivative is being taken with respect to\n",
       "n : the order of the derivative (default is 1)\n",
       "\n",
       "Examples\n",
       "========\n",
       "\n",
       ">>> from sympy.abc import x, y, a\n",
       ">>> from sympy.geometry.util import idiff\n",
       "\n",
       ">>> circ = x**2 + y**2 - 4\n",
       ">>> idiff(circ, y, x)\n",
       "-x/y\n",
       ">>> idiff(circ, y, x, 2).simplify()\n",
       "-(x**2 + y**2)/y**3\n",
       "\n",
       "Here, ``a`` is assumed to be independent of ``x``:\n",
       "\n",
       ">>> idiff(x + a + y, y, x)\n",
       "-1\n",
       "\n",
       "Now the x-dependence of ``a`` is made explicit by listing ``a`` after\n",
       "``y`` in a list.\n",
       "\n",
       ">>> idiff(x + a + y, [y, a], x)\n",
       "-Derivative(a, x) - 1\n",
       "\n",
       "See Also\n",
       "========\n",
       "\n",
       "sympy.core.function.Derivative: represents unevaluated derivatives\n",
       "sympy.core.function.diff: explicitly differentiates wrt symbols\n",
       "\u001b[1;31mFile:\u001b[0m      c:\\python39\\lib\\site-packages\\sympy\\geometry\\util.py\n",
       "\u001b[1;31mType:\u001b[0m      function\n"
      ]
     },
     "metadata": {},
     "output_type": "display_data"
    }
   ],
   "source": [
    "?idiff"
   ]
  },
  {
   "cell_type": "code",
   "execution_count": 109,
   "metadata": {},
   "outputs": [],
   "source": [
    "#help(sp.core.function.Derivative)"
   ]
  },
  {
   "cell_type": "code",
   "execution_count": 111,
   "metadata": {},
   "outputs": [
    {
     "name": "stderr",
     "output_type": "stream",
     "text": [
      "[...]b\\site-packages\\sympy\\core\\power.py:1267  call      => _eval_derivative(self=sin(x)**(-2), s=x)\n",
      "[...]b\\site-packages\\sympy\\core\\power.py:1267  call         => _eval_derivative(self=<sympy.core.power.Pow object at 0x0000021853D775C0>, s=<sympy.core.symbol.Symbol object at 0x00000218534B5380>)\n",
      "[...]ite-packages\\sympy\\core\\function.py:598   call            => _eval_derivative(self=sin(x), s=x)\n",
      "[...]ite-packages\\sympy\\core\\function.py:598   call               => _eval_derivative(self=<sympy.functions.elementary.trigonometric.sin object at 0x0000021853B1FE50>, s=<sympy.core.symbol.Symbol object at 0x00000218534B5380>)\n",
      "[...]ite-packages\\sympy\\core\\function.py:612   return             <= _eval_derivative: cos(x)\n",
      "[...]ite-packages\\sympy\\core\\function.py:612   return          <= _eval_derivative: <sympy.functions.elementary.trigonometric.cos object at 0x0000021853B2D630>\n",
      "[...]b\\site-packages\\sympy\\core\\power.py:1271  return       <= _eval_derivative: -2*cos(x)/sin(x)**3\n",
      "[...]b\\site-packages\\sympy\\core\\power.py:1271  return    <= _eval_derivative: <sympy.core.mul.Mul object at 0x0000021853F1F7C0>\n",
      "[...]b\\site-packages\\sympy\\core\\power.py:1267  call      => _eval_derivative(self=1/x, s=x)\n",
      "[...]b\\site-packages\\sympy\\core\\power.py:1267  call         => _eval_derivative(self=<sympy.core.power.Pow object at 0x0000021853A73F80>, s=<sympy.core.symbol.Symbol object at 0x00000218534B5380>)\n",
      "[...]b\\site-packages\\sympy\\core\\power.py:1271  return       <= _eval_derivative: -1/x**2\n",
      "[...]b\\site-packages\\sympy\\core\\power.py:1271  return    <= _eval_derivative: <sympy.core.mul.Mul object at 0x0000021853BE1E00>\n"
     ]
    },
    {
     "data": {
      "image/png": "[encoded data removed]",
      "text/latex": [
       "$\\displaystyle - \\frac{2 \\cos{\\left(x \\right)}}{x \\sin^{3}{\\left(x \\right)}} - \\frac{1}{x^{2} \\sin^{2}{\\left(x \\right)}}$"
      ],
      "text/plain": [
       "   2⋅cos(x)       1     \n",
       "- ───────── - ──────────\n",
       "       3       2    2   \n",
       "  x⋅sin (x)   x ⋅sin (x)"
      ]
     },
     "execution_count": 111,
     "metadata": {},
     "output_type": "execute_result"
    }
   ],
   "source": [
    "import hunter\n",
    "from hunter import Q, When, Stop\n",
    "hunter.trace(\n",
    "        Q(module_contains=\"sympy\",function='_eval_derivative',kind_in=[\"call\",\"return\"],action=hunter.CallPrinter(repr_func=str))\n",
    "        )\n",
    "\n",
    "\n",
    "from sympy import *\n",
    "x = symbols('x')\n",
    "f = 1/(x * sin(x)**2)\n",
    "f.diff(x)"
   ]
  },
  {
   "cell_type": "code",
   "execution_count": 112,
   "metadata": {},
   "outputs": [],
   "source": [
    "#Step by step differentiation with sympy\n",
    "#https://stackoverflow.com/questions/64943719/step-by-step-differentiation-with-sympy"
   ]
  },
  {
   "cell_type": "code",
   "execution_count": 113,
   "metadata": {},
   "outputs": [
    {
     "data": {
      "image/png": "[encoded data removed]",
      "text/latex": [
       "$\\displaystyle - \\frac{2 \\cos{\\left(x \\right)}}{x \\sin^{3}{\\left(x \\right)}} - \\frac{1}{x^{2} \\sin^{2}{\\left(x \\right)}}$"
      ],
      "text/plain": [
       "   2⋅cos(x)       1     \n",
       "- ───────── - ──────────\n",
       "       3       2    2   \n",
       "  x⋅sin (x)   x ⋅sin (x)"
      ]
     },
     "execution_count": 113,
     "metadata": {},
     "output_type": "execute_result"
    }
   ],
   "source": [
    "import hunter\n",
    "import sys \n",
    "from hunter import Q, When, Stop\n",
    "hunter.trace(\n",
    "        Q(module_contains=\"sympy\",function='_eval_derivative',kind_in=[\"call\",\"return\"],action=hunter.CallPrinter(repr_func=str))\n",
    "        )\n",
    "\n",
    "\n",
    "from sympy import *\n",
    "x = symbols('x')\n",
    "f = 1/(x * sin(x)**2)\n",
    "f.diff(x)"
   ]
  },
  {
   "cell_type": "markdown",
   "metadata": {},
   "source": [
    "# Operations with data"
   ]
  },
  {
   "cell_type": "markdown",
   "metadata": {},
   "source": [
    "**Read our dataset**"
   ]
  },
  {
   "cell_type": "code",
   "execution_count": 114,
   "metadata": {},
   "outputs": [
    {
     "name": "stdout",
     "output_type": "stream",
     "text": [
      "       idcode  year  birth_yr   age   race  msp  nev_mar  grade  collgrad  \\\n",
      "0           1    70        51  18.0  black  0.0      1.0   12.0         0   \n",
      "1           1    71        51  19.0  black  1.0      0.0   12.0         0   \n",
      "2           1    72        51  20.0  black  1.0      0.0   12.0         0   \n",
      "3           1    73        51  21.0  black  1.0      0.0   12.0         0   \n",
      "4           1    75        51  23.0  black  1.0      0.0   12.0         0   \n",
      "...       ...   ...       ...   ...    ...  ...      ...    ...       ...   \n",
      "28529    5159    80        44  35.0  black  0.0      0.0   12.0         0   \n",
      "28530    5159    82        44  37.0  black  0.0      0.0   12.0         0   \n",
      "28531    5159    83        44  38.0  black  0.0      0.0   12.0         0   \n",
      "28532    5159    85        44  40.0  black  0.0      0.0   12.0         0   \n",
      "28533    5159    88        44  43.0  black  0.0      0.0   12.0         0   \n",
      "\n",
      "       not_smsa  ...  south  ind_code  occ_code  union  wks_ue    ttl_exp  \\\n",
      "0           0.0  ...    0.0       6.0       3.0    NaN     2.0   1.083333   \n",
      "1           0.0  ...    0.0       4.0       6.0    NaN    22.0   1.275641   \n",
      "2           0.0  ...    0.0       4.0       6.0    1.0     0.0   2.256410   \n",
      "3           0.0  ...    0.0       4.0       6.0    NaN     0.0   2.314102   \n",
      "4           0.0  ...    0.0       5.0       6.0    NaN     0.0   2.775641   \n",
      "...         ...  ...    ...       ...       ...    ...     ...        ...   \n",
      "28529       0.0  ...    1.0      11.0       3.0    1.0     NaN   5.000000   \n",
      "28530       0.0  ...    1.0      11.0       3.0    0.0     NaN   7.000000   \n",
      "28531       0.0  ...    1.0      11.0       3.0    1.0     0.0   8.076923   \n",
      "28532       0.0  ...    1.0      11.0       3.0    1.0     0.0   9.076923   \n",
      "28533       0.0  ...    1.0      11.0       3.0    1.0     0.0  10.596154   \n",
      "\n",
      "         tenure  hours  wks_work   ln_wage  \n",
      "0      0.083333   20.0      27.0  1.451214  \n",
      "1      0.083333   44.0      10.0  1.028620  \n",
      "2      0.916667   40.0      51.0  1.589977  \n",
      "3      0.083333   40.0       3.0  1.780273  \n",
      "4      0.166667   10.0      24.0  1.777012  \n",
      "...         ...    ...       ...       ...  \n",
      "28529  5.000000   39.0      98.0  1.784807  \n",
      "28530  7.000000   38.0      98.0  1.871802  \n",
      "28531  8.000000   38.0      56.0  1.843853  \n",
      "28532  0.000000   40.0      52.0  1.799792  \n",
      "28533  3.416667   38.0      79.0  1.968204  \n",
      "\n",
      "[28534 rows x 21 columns]\n"
     ]
    }
   ],
   "source": [
    "df = pd.read_stata('nlswork.dta')\n",
    "\n",
    "df\n",
    "\n",
    "print(df)\n",
    "\n",
    "df.describe()\n",
    "\n",
    "df.sum()\n",
    "\n",
    "df.to_csv('df.csv')"
   ]
  },
  {
   "cell_type": "code",
   "execution_count": 115,
   "metadata": {},
   "outputs": [],
   "source": [
    "df.to_stata(\"dfw.dta\")"
   ]
  },
  {
   "cell_type": "code",
   "execution_count": 116,
   "metadata": {},
   "outputs": [],
   "source": [
    "dfw=pd.read_stata(\"dfw.dta\")"
   ]
  },
  {
   "cell_type": "code",
   "execution_count": 117,
   "metadata": {},
   "outputs": [
    {
     "data": {
      "text/html": [
       "<div>\n",
       "<style scoped>\n",
       "    .dataframe tbody tr th:only-of-type {\n",
       "        vertical-align: middle;\n",
       "    }\n",
       "\n",
       "    .dataframe tbody tr th {\n",
       "        vertical-align: top;\n",
       "    }\n",
       "\n",
       "    .dataframe thead th {\n",
       "        text-align: right;\n",
       "    }\n",
       "</style>\n",
       "<table border=\"1\" class=\"dataframe\">\n",
       "  <thead>\n",
       "    <tr style=\"text-align: right;\">\n",
       "      <th></th>\n",
       "      <th>index</th>\n",
       "      <th>idcode</th>\n",
       "      <th>year</th>\n",
       "      <th>birth_yr</th>\n",
       "      <th>age</th>\n",
       "      <th>race</th>\n",
       "      <th>msp</th>\n",
       "      <th>nev_mar</th>\n",
       "      <th>grade</th>\n",
       "      <th>collgrad</th>\n",
       "      <th>...</th>\n",
       "      <th>south</th>\n",
       "      <th>ind_code</th>\n",
       "      <th>occ_code</th>\n",
       "      <th>union</th>\n",
       "      <th>wks_ue</th>\n",
       "      <th>ttl_exp</th>\n",
       "      <th>tenure</th>\n",
       "      <th>hours</th>\n",
       "      <th>wks_work</th>\n",
       "      <th>ln_wage</th>\n",
       "    </tr>\n",
       "  </thead>\n",
       "  <tbody>\n",
       "    <tr>\n",
       "      <th>0</th>\n",
       "      <td>0</td>\n",
       "      <td>1</td>\n",
       "      <td>70</td>\n",
       "      <td>51</td>\n",
       "      <td>18.0</td>\n",
       "      <td>black</td>\n",
       "      <td>0.0</td>\n",
       "      <td>1.0</td>\n",
       "      <td>12.0</td>\n",
       "      <td>0</td>\n",
       "      <td>...</td>\n",
       "      <td>0.0</td>\n",
       "      <td>6.0</td>\n",
       "      <td>3.0</td>\n",
       "      <td>NaN</td>\n",
       "      <td>2.0</td>\n",
       "      <td>1.083333</td>\n",
       "      <td>0.083333</td>\n",
       "      <td>20.0</td>\n",
       "      <td>27.0</td>\n",
       "      <td>1.451214</td>\n",
       "    </tr>\n",
       "    <tr>\n",
       "      <th>1</th>\n",
       "      <td>1</td>\n",
       "      <td>1</td>\n",
       "      <td>71</td>\n",
       "      <td>51</td>\n",
       "      <td>19.0</td>\n",
       "      <td>black</td>\n",
       "      <td>1.0</td>\n",
       "      <td>0.0</td>\n",
       "      <td>12.0</td>\n",
       "      <td>0</td>\n",
       "      <td>...</td>\n",
       "      <td>0.0</td>\n",
       "      <td>4.0</td>\n",
       "      <td>6.0</td>\n",
       "      <td>NaN</td>\n",
       "      <td>22.0</td>\n",
       "      <td>1.275641</td>\n",
       "      <td>0.083333</td>\n",
       "      <td>44.0</td>\n",
       "      <td>10.0</td>\n",
       "      <td>1.028620</td>\n",
       "    </tr>\n",
       "    <tr>\n",
       "      <th>2</th>\n",
       "      <td>2</td>\n",
       "      <td>1</td>\n",
       "      <td>72</td>\n",
       "      <td>51</td>\n",
       "      <td>20.0</td>\n",
       "      <td>black</td>\n",
       "      <td>1.0</td>\n",
       "      <td>0.0</td>\n",
       "      <td>12.0</td>\n",
       "      <td>0</td>\n",
       "      <td>...</td>\n",
       "      <td>0.0</td>\n",
       "      <td>4.0</td>\n",
       "      <td>6.0</td>\n",
       "      <td>1.0</td>\n",
       "      <td>0.0</td>\n",
       "      <td>2.256410</td>\n",
       "      <td>0.916667</td>\n",
       "      <td>40.0</td>\n",
       "      <td>51.0</td>\n",
       "      <td>1.589977</td>\n",
       "    </tr>\n",
       "    <tr>\n",
       "      <th>3</th>\n",
       "      <td>3</td>\n",
       "      <td>1</td>\n",
       "      <td>73</td>\n",
       "      <td>51</td>\n",
       "      <td>21.0</td>\n",
       "      <td>black</td>\n",
       "      <td>1.0</td>\n",
       "      <td>0.0</td>\n",
       "      <td>12.0</td>\n",
       "      <td>0</td>\n",
       "      <td>...</td>\n",
       "      <td>0.0</td>\n",
       "      <td>4.0</td>\n",
       "      <td>6.0</td>\n",
       "      <td>NaN</td>\n",
       "      <td>0.0</td>\n",
       "      <td>2.314102</td>\n",
       "      <td>0.083333</td>\n",
       "      <td>40.0</td>\n",
       "      <td>3.0</td>\n",
       "      <td>1.780273</td>\n",
       "    </tr>\n",
       "    <tr>\n",
       "      <th>4</th>\n",
       "      <td>4</td>\n",
       "      <td>1</td>\n",
       "      <td>75</td>\n",
       "      <td>51</td>\n",
       "      <td>23.0</td>\n",
       "      <td>black</td>\n",
       "      <td>1.0</td>\n",
       "      <td>0.0</td>\n",
       "      <td>12.0</td>\n",
       "      <td>0</td>\n",
       "      <td>...</td>\n",
       "      <td>0.0</td>\n",
       "      <td>5.0</td>\n",
       "      <td>6.0</td>\n",
       "      <td>NaN</td>\n",
       "      <td>0.0</td>\n",
       "      <td>2.775641</td>\n",
       "      <td>0.166667</td>\n",
       "      <td>10.0</td>\n",
       "      <td>24.0</td>\n",
       "      <td>1.777012</td>\n",
       "    </tr>\n",
       "    <tr>\n",
       "      <th>...</th>\n",
       "      <td>...</td>\n",
       "      <td>...</td>\n",
       "      <td>...</td>\n",
       "      <td>...</td>\n",
       "      <td>...</td>\n",
       "      <td>...</td>\n",
       "      <td>...</td>\n",
       "      <td>...</td>\n",
       "      <td>...</td>\n",
       "      <td>...</td>\n",
       "      <td>...</td>\n",
       "      <td>...</td>\n",
       "      <td>...</td>\n",
       "      <td>...</td>\n",
       "      <td>...</td>\n",
       "      <td>...</td>\n",
       "      <td>...</td>\n",
       "      <td>...</td>\n",
       "      <td>...</td>\n",
       "      <td>...</td>\n",
       "      <td>...</td>\n",
       "    </tr>\n",
       "    <tr>\n",
       "      <th>28529</th>\n",
       "      <td>28529</td>\n",
       "      <td>5159</td>\n",
       "      <td>80</td>\n",
       "      <td>44</td>\n",
       "      <td>35.0</td>\n",
       "      <td>black</td>\n",
       "      <td>0.0</td>\n",
       "      <td>0.0</td>\n",
       "      <td>12.0</td>\n",
       "      <td>0</td>\n",
       "      <td>...</td>\n",
       "      <td>1.0</td>\n",
       "      <td>11.0</td>\n",
       "      <td>3.0</td>\n",
       "      <td>1.0</td>\n",
       "      <td>NaN</td>\n",
       "      <td>5.000000</td>\n",
       "      <td>5.000000</td>\n",
       "      <td>39.0</td>\n",
       "      <td>98.0</td>\n",
       "      <td>1.784807</td>\n",
       "    </tr>\n",
       "    <tr>\n",
       "      <th>28530</th>\n",
       "      <td>28530</td>\n",
       "      <td>5159</td>\n",
       "      <td>82</td>\n",
       "      <td>44</td>\n",
       "      <td>37.0</td>\n",
       "      <td>black</td>\n",
       "      <td>0.0</td>\n",
       "      <td>0.0</td>\n",
       "      <td>12.0</td>\n",
       "      <td>0</td>\n",
       "      <td>...</td>\n",
       "      <td>1.0</td>\n",
       "      <td>11.0</td>\n",
       "      <td>3.0</td>\n",
       "      <td>0.0</td>\n",
       "      <td>NaN</td>\n",
       "      <td>7.000000</td>\n",
       "      <td>7.000000</td>\n",
       "      <td>38.0</td>\n",
       "      <td>98.0</td>\n",
       "      <td>1.871802</td>\n",
       "    </tr>\n",
       "    <tr>\n",
       "      <th>28531</th>\n",
       "      <td>28531</td>\n",
       "      <td>5159</td>\n",
       "      <td>83</td>\n",
       "      <td>44</td>\n",
       "      <td>38.0</td>\n",
       "      <td>black</td>\n",
       "      <td>0.0</td>\n",
       "      <td>0.0</td>\n",
       "      <td>12.0</td>\n",
       "      <td>0</td>\n",
       "      <td>...</td>\n",
       "      <td>1.0</td>\n",
       "      <td>11.0</td>\n",
       "      <td>3.0</td>\n",
       "      <td>1.0</td>\n",
       "      <td>0.0</td>\n",
       "      <td>8.076923</td>\n",
       "      <td>8.000000</td>\n",
       "      <td>38.0</td>\n",
       "      <td>56.0</td>\n",
       "      <td>1.843853</td>\n",
       "    </tr>\n",
       "    <tr>\n",
       "      <th>28532</th>\n",
       "      <td>28532</td>\n",
       "      <td>5159</td>\n",
       "      <td>85</td>\n",
       "      <td>44</td>\n",
       "      <td>40.0</td>\n",
       "      <td>black</td>\n",
       "      <td>0.0</td>\n",
       "      <td>0.0</td>\n",
       "      <td>12.0</td>\n",
       "      <td>0</td>\n",
       "      <td>...</td>\n",
       "      <td>1.0</td>\n",
       "      <td>11.0</td>\n",
       "      <td>3.0</td>\n",
       "      <td>1.0</td>\n",
       "      <td>0.0</td>\n",
       "      <td>9.076923</td>\n",
       "      <td>0.000000</td>\n",
       "      <td>40.0</td>\n",
       "      <td>52.0</td>\n",
       "      <td>1.799792</td>\n",
       "    </tr>\n",
       "    <tr>\n",
       "      <th>28533</th>\n",
       "      <td>28533</td>\n",
       "      <td>5159</td>\n",
       "      <td>88</td>\n",
       "      <td>44</td>\n",
       "      <td>43.0</td>\n",
       "      <td>black</td>\n",
       "      <td>0.0</td>\n",
       "      <td>0.0</td>\n",
       "      <td>12.0</td>\n",
       "      <td>0</td>\n",
       "      <td>...</td>\n",
       "      <td>1.0</td>\n",
       "      <td>11.0</td>\n",
       "      <td>3.0</td>\n",
       "      <td>1.0</td>\n",
       "      <td>0.0</td>\n",
       "      <td>10.596154</td>\n",
       "      <td>3.416667</td>\n",
       "      <td>38.0</td>\n",
       "      <td>79.0</td>\n",
       "      <td>1.968204</td>\n",
       "    </tr>\n",
       "  </tbody>\n",
       "</table>\n",
       "<p>28534 rows × 22 columns</p>\n",
       "</div>"
      ],
      "text/plain": [
       "       index  idcode  year  birth_yr   age   race  msp  nev_mar  grade  \\\n",
       "0          0       1    70        51  18.0  black  0.0      1.0   12.0   \n",
       "1          1       1    71        51  19.0  black  1.0      0.0   12.0   \n",
       "2          2       1    72        51  20.0  black  1.0      0.0   12.0   \n",
       "3          3       1    73        51  21.0  black  1.0      0.0   12.0   \n",
       "4          4       1    75        51  23.0  black  1.0      0.0   12.0   \n",
       "...      ...     ...   ...       ...   ...    ...  ...      ...    ...   \n",
       "28529  28529    5159    80        44  35.0  black  0.0      0.0   12.0   \n",
       "28530  28530    5159    82        44  37.0  black  0.0      0.0   12.0   \n",
       "28531  28531    5159    83        44  38.0  black  0.0      0.0   12.0   \n",
       "28532  28532    5159    85        44  40.0  black  0.0      0.0   12.0   \n",
       "28533  28533    5159    88        44  43.0  black  0.0      0.0   12.0   \n",
       "\n",
       "       collgrad  ...  south  ind_code  occ_code  union  wks_ue    ttl_exp  \\\n",
       "0             0  ...    0.0       6.0       3.0    NaN     2.0   1.083333   \n",
       "1             0  ...    0.0       4.0       6.0    NaN    22.0   1.275641   \n",
       "2             0  ...    0.0       4.0       6.0    1.0     0.0   2.256410   \n",
       "3             0  ...    0.0       4.0       6.0    NaN     0.0   2.314102   \n",
       "4             0  ...    0.0       5.0       6.0    NaN     0.0   2.775641   \n",
       "...         ...  ...    ...       ...       ...    ...     ...        ...   \n",
       "28529         0  ...    1.0      11.0       3.0    1.0     NaN   5.000000   \n",
       "28530         0  ...    1.0      11.0       3.0    0.0     NaN   7.000000   \n",
       "28531         0  ...    1.0      11.0       3.0    1.0     0.0   8.076923   \n",
       "28532         0  ...    1.0      11.0       3.0    1.0     0.0   9.076923   \n",
       "28533         0  ...    1.0      11.0       3.0    1.0     0.0  10.596154   \n",
       "\n",
       "         tenure  hours  wks_work   ln_wage  \n",
       "0      0.083333   20.0      27.0  1.451214  \n",
       "1      0.083333   44.0      10.0  1.028620  \n",
       "2      0.916667   40.0      51.0  1.589977  \n",
       "3      0.083333   40.0       3.0  1.780273  \n",
       "4      0.166667   10.0      24.0  1.777012  \n",
       "...         ...    ...       ...       ...  \n",
       "28529  5.000000   39.0      98.0  1.784807  \n",
       "28530  7.000000   38.0      98.0  1.871802  \n",
       "28531  8.000000   38.0      56.0  1.843853  \n",
       "28532  0.000000   40.0      52.0  1.799792  \n",
       "28533  3.416667   38.0      79.0  1.968204  \n",
       "\n",
       "[28534 rows x 22 columns]"
      ]
     },
     "execution_count": 117,
     "metadata": {},
     "output_type": "execute_result"
    }
   ],
   "source": [
    "dfw"
   ]
  },
  {
   "cell_type": "code",
   "execution_count": 118,
   "metadata": {},
   "outputs": [
    {
     "name": "stdout",
     "output_type": "stream",
     "text": [
      "Help on package pandas:\n",
      "\n",
      "NAME\n",
      "    pandas\n",
      "\n",
      "DESCRIPTION\n",
      "    pandas - a powerful data analysis and manipulation library for Python\n",
      "    =====================================================================\n",
      "    \n",
      "    **pandas** is a Python package providing fast, flexible, and expressive data\n",
      "    structures designed to make working with \"relational\" or \"labeled\" data both\n",
      "    easy and intuitive. It aims to be the fundamental high-level building block for\n",
      "    doing practical, **real world** data analysis in Python. Additionally, it has\n",
      "    the broader goal of becoming **the most powerful and flexible open source data\n",
      "    analysis / manipulation tool available in any language**. It is already well on\n",
      "    its way toward this goal.\n",
      "    \n",
      "    Main Features\n",
      "    -------------\n",
      "    Here are just a few of the things that pandas does well:\n",
      "    \n",
      "      - Easy handling of missing data in floating point as well as non-floating\n",
      "        point data.\n",
      "      - Size mutability: columns can be inserted and deleted from DataFrame and\n",
      "        higher dimensional objects\n",
      "      - Automatic and explicit data alignment: objects can be explicitly aligned\n",
      "        to a set of labels, or the user can simply ignore the labels and let\n",
      "        `Series`, `DataFrame`, etc. automatically align the data for you in\n",
      "        computations.\n",
      "      - Powerful, flexible group by functionality to perform split-apply-combine\n",
      "        operations on data sets, for both aggregating and transforming data.\n",
      "      - Make it easy to convert ragged, differently-indexed data in other Python\n",
      "        and NumPy data structures into DataFrame objects.\n",
      "      - Intelligent label-based slicing, fancy indexing, and subsetting of large\n",
      "        data sets.\n",
      "      - Intuitive merging and joining data sets.\n",
      "      - Flexible reshaping and pivoting of data sets.\n",
      "      - Hierarchical labeling of axes (possible to have multiple labels per tick).\n",
      "      - Robust IO tools for loading data from flat files (CSV and delimited),\n",
      "        Excel files, databases, and saving/loading data from the ultrafast HDF5\n",
      "        format.\n",
      "      - Time series-specific functionality: date range generation and frequency\n",
      "        conversion, moving window statistics, date shifting and lagging.\n",
      "\n",
      "PACKAGE CONTENTS\n",
      "    _config (package)\n",
      "    _libs (package)\n",
      "    _testing\n",
      "    _typing\n",
      "    _version\n",
      "    api (package)\n",
      "    arrays (package)\n",
      "    compat (package)\n",
      "    conftest\n",
      "    core (package)\n",
      "    errors (package)\n",
      "    io (package)\n",
      "    plotting (package)\n",
      "    testing\n",
      "    tests (package)\n",
      "    tseries (package)\n",
      "    util (package)\n",
      "\n",
      "SUBMODULES\n",
      "    _hashtable\n",
      "    _lib\n",
      "    _tslib\n",
      "    offsets\n",
      "\n",
      "FUNCTIONS\n",
      "    __getattr__(name)\n",
      "\n",
      "DATA\n",
      "    IndexSlice = <pandas.core.indexing._IndexSlice object>\n",
      "    NA = <NA>\n",
      "    NaT = NaT\n",
      "    __docformat__ = 'restructuredtext'\n",
      "    __git_version__ = '67a3d4241ab84419856b84fc3ebc9abcbe66c6b3'\n",
      "    describe_option = <pandas._config.config.CallableDynamicDoc object>\n",
      "        describe_option(pat, _print_desc=False)\n",
      "        \n",
      "        Prints the description for one or more registered options.\n",
      "        \n",
      "        Call with not arguments to get a listing for all registered options.\n",
      "        \n",
      "        Available options:\n",
      "        \n",
      "        - compute.[use_bottleneck, use_numba, use_numexpr]\n",
      "        - display.[chop_threshold, colheader_justify, column_space, date_dayfirst,\n",
      "          date_yearfirst, encoding, expand_frame_repr, float_format]\n",
      "        - display.html.[border, table_schema, use_mathjax]\n",
      "        - display.[large_repr]\n",
      "        - display.latex.[escape, longtable, multicolumn, multicolumn_format, multirow,\n",
      "          repr]\n",
      "        - display.[max_categories, max_columns, max_colwidth, max_info_columns,\n",
      "          max_info_rows, max_rows, max_seq_items, memory_usage, min_rows, multi_sparse,\n",
      "          notebook_repr_html, pprint_nest_depth, precision, show_dimensions]\n",
      "        - display.unicode.[ambiguous_as_wide, east_asian_width]\n",
      "        - display.[width]\n",
      "        - io.excel.ods.[reader, writer]\n",
      "        - io.excel.xls.[reader, writer]\n",
      "        - io.excel.xlsb.[reader]\n",
      "        - io.excel.xlsm.[reader, writer]\n",
      "        - io.excel.xlsx.[reader, writer]\n",
      "        - io.hdf.[default_format, dropna_table]\n",
      "        - io.parquet.[engine]\n",
      "        - mode.[chained_assignment, sim_interactive, use_inf_as_na, use_inf_as_null]\n",
      "        - plotting.[backend]\n",
      "        - plotting.matplotlib.[register_converters]\n",
      "        \n",
      "        Parameters\n",
      "        ----------\n",
      "        pat : str\n",
      "            Regexp pattern. All matching keys will have their description displayed.\n",
      "        _print_desc : bool, default True\n",
      "            If True (default) the description(s) will be printed to stdout.\n",
      "            Otherwise, the description(s) will be returned as a unicode string\n",
      "            (for testing).\n",
      "        \n",
      "        Returns\n",
      "        -------\n",
      "        None by default, the description(s) as a unicode string if _print_desc\n",
      "        is False\n",
      "        \n",
      "        Notes\n",
      "        -----\n",
      "        The available options with its descriptions:\n",
      "        \n",
      "        compute.use_bottleneck : bool\n",
      "            Use the bottleneck library to accelerate if it is installed,\n",
      "            the default is True\n",
      "            Valid values: False,True\n",
      "            [default: True] [currently: True]\n",
      "        compute.use_numba : bool\n",
      "            Use the numba engine option for select operations if it is installed,\n",
      "            the default is False\n",
      "            Valid values: False,True\n",
      "            [default: False] [currently: False]\n",
      "        compute.use_numexpr : bool\n",
      "            Use the numexpr library to accelerate computation if it is installed,\n",
      "            the default is True\n",
      "            Valid values: False,True\n",
      "            [default: True] [currently: True]\n",
      "        display.chop_threshold : float or None\n",
      "            if set to a float value, all float values smaller then the given threshold\n",
      "            will be displayed as exactly 0 by repr and friends.\n",
      "            [default: None] [currently: None]\n",
      "        display.colheader_justify : 'left'/'right'\n",
      "            Controls the justification of column headers. used by DataFrameFormatter.\n",
      "            [default: right] [currently: right]\n",
      "        display.column_space No description available.\n",
      "            [default: 12] [currently: 12]\n",
      "        display.date_dayfirst : boolean\n",
      "            When True, prints and parses dates with the day first, eg 20/01/2005\n",
      "            [default: False] [currently: False]\n",
      "        display.date_yearfirst : boolean\n",
      "            When True, prints and parses dates with the year first, eg 2005/01/20\n",
      "            [default: False] [currently: False]\n",
      "        display.encoding : str/unicode\n",
      "            Defaults to the detected encoding of the console.\n",
      "            Specifies the encoding to be used for strings returned by to_string,\n",
      "            these are generally strings meant to be displayed on the console.\n",
      "            [default: UTF-8] [currently: UTF-8]\n",
      "        display.expand_frame_repr : boolean\n",
      "            Whether to print out the full DataFrame repr for wide DataFrames across\n",
      "            multiple lines, `max_columns` is still respected, but the output will\n",
      "            wrap-around across multiple \"pages\" if its width exceeds `display.width`.\n",
      "            [default: True] [currently: True]\n",
      "        display.float_format : callable\n",
      "            The callable should accept a floating point number and return\n",
      "            a string with the desired format of the number. This is used\n",
      "            in some places like SeriesFormatter.\n",
      "            See formats.format.EngFormatter for an example.\n",
      "            [default: None] [currently: None]\n",
      "        display.html.border : int\n",
      "            A ``border=value`` attribute is inserted in the ``<table>`` tag\n",
      "            for the DataFrame HTML repr.\n",
      "            [default: 1] [currently: 1]\n",
      "        display.html.table_schema : boolean\n",
      "            Whether to publish a Table Schema representation for frontends\n",
      "            that support it.\n",
      "            (default: False)\n",
      "            [default: False] [currently: False]\n",
      "        display.html.use_mathjax : boolean\n",
      "            When True, Jupyter notebook will process table contents using MathJax,\n",
      "            rendering mathematical expressions enclosed by the dollar symbol.\n",
      "            (default: True)\n",
      "            [default: True] [currently: True]\n",
      "        display.large_repr : 'truncate'/'info'\n",
      "            For DataFrames exceeding max_rows/max_cols, the repr (and HTML repr) can\n",
      "            show a truncated table (the default from 0.13), or switch to the view from\n",
      "            df.info() (the behaviour in earlier versions of pandas).\n",
      "            [default: truncate] [currently: truncate]\n",
      "        display.latex.escape : bool\n",
      "            This specifies if the to_latex method of a Dataframe uses escapes special\n",
      "            characters.\n",
      "            Valid values: False,True\n",
      "            [default: True] [currently: True]\n",
      "        display.latex.longtable :bool\n",
      "            This specifies if the to_latex method of a Dataframe uses the longtable\n",
      "            format.\n",
      "            Valid values: False,True\n",
      "            [default: False] [currently: False]\n",
      "        display.latex.multicolumn : bool\n",
      "            This specifies if the to_latex method of a Dataframe uses multicolumns\n",
      "            to pretty-print MultiIndex columns.\n",
      "            Valid values: False,True\n",
      "            [default: True] [currently: True]\n",
      "        display.latex.multicolumn_format : bool\n",
      "            This specifies if the to_latex method of a Dataframe uses multicolumns\n",
      "            to pretty-print MultiIndex columns.\n",
      "            Valid values: False,True\n",
      "            [default: l] [currently: l]\n",
      "        display.latex.multirow : bool\n",
      "            This specifies if the to_latex method of a Dataframe uses multirows\n",
      "            to pretty-print MultiIndex rows.\n",
      "            Valid values: False,True\n",
      "            [default: False] [currently: False]\n",
      "        display.latex.repr : boolean\n",
      "            Whether to produce a latex DataFrame representation for jupyter\n",
      "            environments that support it.\n",
      "            (default: False)\n",
      "            [default: False] [currently: False]\n",
      "        display.max_categories : int\n",
      "            This sets the maximum number of categories pandas should output when\n",
      "            printing out a `Categorical` or a Series of dtype \"category\".\n",
      "            [default: 8] [currently: 8]\n",
      "        display.max_columns : int\n",
      "            If max_cols is exceeded, switch to truncate view. Depending on\n",
      "            `large_repr`, objects are either centrally truncated or printed as\n",
      "            a summary view. 'None' value means unlimited.\n",
      "        \n",
      "            In case python/IPython is running in a terminal and `large_repr`\n",
      "            equals 'truncate' this can be set to 0 and pandas will auto-detect\n",
      "            the width of the terminal and print a truncated object which fits\n",
      "            the screen width. The IPython notebook, IPython qtconsole, or IDLE\n",
      "            do not run in a terminal and hence it is not possible to do\n",
      "            correct auto-detection.\n",
      "            [default: 20] [currently: 20]\n",
      "        display.max_colwidth : int or None\n",
      "            The maximum width in characters of a column in the repr of\n",
      "            a pandas data structure. When the column overflows, a \"...\"\n",
      "            placeholder is embedded in the output. A 'None' value means unlimited.\n",
      "            [default: 50] [currently: 50]\n",
      "        display.max_info_columns : int\n",
      "            max_info_columns is used in DataFrame.info method to decide if\n",
      "            per column information will be printed.\n",
      "            [default: 100] [currently: 100]\n",
      "        display.max_info_rows : int or None\n",
      "            df.info() will usually show null-counts for each column.\n",
      "            For large frames this can be quite slow. max_info_rows and max_info_cols\n",
      "            limit this null check only to frames with smaller dimensions than\n",
      "            specified.\n",
      "            [default: 1690785] [currently: 1690785]\n",
      "        display.max_rows : int\n",
      "            If max_rows is exceeded, switch to truncate view. Depending on\n",
      "            `large_repr`, objects are either centrally truncated or printed as\n",
      "            a summary view. 'None' value means unlimited.\n",
      "        \n",
      "            In case python/IPython is running in a terminal and `large_repr`\n",
      "            equals 'truncate' this can be set to 0 and pandas will auto-detect\n",
      "            the height of the terminal and print a truncated object which fits\n",
      "            the screen height. The IPython notebook, IPython qtconsole, or\n",
      "            IDLE do not run in a terminal and hence it is not possible to do\n",
      "            correct auto-detection.\n",
      "            [default: 60] [currently: 60]\n",
      "        display.max_seq_items : int or None\n",
      "            when pretty-printing a long sequence, no more then `max_seq_items`\n",
      "            will be printed. If items are omitted, they will be denoted by the\n",
      "            addition of \"...\" to the resulting string.\n",
      "        \n",
      "            If set to None, the number of items to be printed is unlimited.\n",
      "            [default: 100] [currently: 100]\n",
      "        display.memory_usage : bool, string or None\n",
      "            This specifies if the memory usage of a DataFrame should be displayed when\n",
      "            df.info() is called. Valid values True,False,'deep'\n",
      "            [default: True] [currently: True]\n",
      "        display.min_rows : int\n",
      "            The numbers of rows to show in a truncated view (when `max_rows` is\n",
      "            exceeded). Ignored when `max_rows` is set to None or 0. When set to\n",
      "            None, follows the value of `max_rows`.\n",
      "            [default: 10] [currently: 10]\n",
      "        display.multi_sparse : boolean\n",
      "            \"sparsify\" MultiIndex display (don't display repeated\n",
      "            elements in outer levels within groups)\n",
      "            [default: True] [currently: True]\n",
      "        display.notebook_repr_html : boolean\n",
      "            When True, IPython notebook will use html representation for\n",
      "            pandas objects (if it is available).\n",
      "            [default: True] [currently: True]\n",
      "        display.pprint_nest_depth : int\n",
      "            Controls the number of nested levels to process when pretty-printing\n",
      "            [default: 3] [currently: 3]\n",
      "        display.precision : int\n",
      "            Floating point output precision (number of significant digits). This is\n",
      "            only a suggestion\n",
      "            [default: 6] [currently: 6]\n",
      "        display.show_dimensions : boolean or 'truncate'\n",
      "            Whether to print out dimensions at the end of DataFrame repr.\n",
      "            If 'truncate' is specified, only print out the dimensions if the\n",
      "            frame is truncated (e.g. not display all rows and/or columns)\n",
      "            [default: truncate] [currently: truncate]\n",
      "        display.unicode.ambiguous_as_wide : boolean\n",
      "            Whether to use the Unicode East Asian Width to calculate the display text\n",
      "            width.\n",
      "            Enabling this may affect to the performance (default: False)\n",
      "            [default: False] [currently: False]\n",
      "        display.unicode.east_asian_width : boolean\n",
      "            Whether to use the Unicode East Asian Width to calculate the display text\n",
      "            width.\n",
      "            Enabling this may affect to the performance (default: False)\n",
      "            [default: False] [currently: False]\n",
      "        display.width : int\n",
      "            Width of the display in characters. In case python/IPython is running in\n",
      "            a terminal this can be set to None and pandas will correctly auto-detect\n",
      "            the width.\n",
      "            Note that the IPython notebook, IPython qtconsole, or IDLE do not run in a\n",
      "            terminal and hence it is not possible to correctly detect the width.\n",
      "            [default: 80] [currently: 80]\n",
      "        io.excel.ods.reader : string\n",
      "            The default Excel reader engine for 'ods' files. Available options:\n",
      "            auto, odf.\n",
      "            [default: auto] [currently: auto]\n",
      "        io.excel.ods.writer : string\n",
      "            The default Excel writer engine for 'ods' files. Available options:\n",
      "            auto, odf.\n",
      "            [default: auto] [currently: auto]\n",
      "        io.excel.xls.reader : string\n",
      "            The default Excel reader engine for 'xls' files. Available options:\n",
      "            auto, xlrd.\n",
      "            [default: auto] [currently: auto]\n",
      "        io.excel.xls.writer : string\n",
      "            The default Excel writer engine for 'xls' files. Available options:\n",
      "            auto, xlwt.\n",
      "            [default: auto] [currently: auto]\n",
      "        io.excel.xlsb.reader : string\n",
      "            The default Excel reader engine for 'xlsb' files. Available options:\n",
      "            auto, pyxlsb.\n",
      "            [default: auto] [currently: auto]\n",
      "        io.excel.xlsm.reader : string\n",
      "            The default Excel reader engine for 'xlsm' files. Available options:\n",
      "            auto, xlrd, openpyxl.\n",
      "            [default: auto] [currently: auto]\n",
      "        io.excel.xlsm.writer : string\n",
      "            The default Excel writer engine for 'xlsm' files. Available options:\n",
      "            auto, openpyxl.\n",
      "            [default: auto] [currently: auto]\n",
      "        io.excel.xlsx.reader : string\n",
      "            The default Excel reader engine for 'xlsx' files. Available options:\n",
      "            auto, xlrd, openpyxl.\n",
      "            [default: auto] [currently: auto]\n",
      "        io.excel.xlsx.writer : string\n",
      "            The default Excel writer engine for 'xlsx' files. Available options:\n",
      "            auto, openpyxl, xlsxwriter.\n",
      "            [default: auto] [currently: auto]\n",
      "        io.hdf.default_format : format\n",
      "            default format writing format, if None, then\n",
      "            put will default to 'fixed' and append will default to 'table'\n",
      "            [default: None] [currently: None]\n",
      "        io.hdf.dropna_table : boolean\n",
      "            drop ALL nan rows when appending to a table\n",
      "            [default: False] [currently: False]\n",
      "        io.parquet.engine : string\n",
      "            The default parquet reader/writer engine. Available options:\n",
      "            'auto', 'pyarrow', 'fastparquet', the default is 'auto'\n",
      "            [default: auto] [currently: auto]\n",
      "        mode.chained_assignment : string\n",
      "            Raise an exception, warn, or no action if trying to use chained assignment,\n",
      "            The default is warn\n",
      "            [default: warn] [currently: warn]\n",
      "        mode.sim_interactive : boolean\n",
      "            Whether to simulate interactive mode for purposes of testing\n",
      "            [default: False] [currently: False]\n",
      "        mode.use_inf_as_na : boolean\n",
      "            True means treat None, NaN, INF, -INF as NA (old way),\n",
      "            False means None and NaN are null, but INF, -INF are not NA\n",
      "            (new way).\n",
      "            [default: False] [currently: False]\n",
      "        mode.use_inf_as_null : boolean\n",
      "            use_inf_as_null had been deprecated and will be removed in a future\n",
      "            version. Use `use_inf_as_na` instead.\n",
      "            [default: False] [currently: False]\n",
      "            (Deprecated, use `mode.use_inf_as_na` instead.)\n",
      "        plotting.backend : str\n",
      "            The plotting backend to use. The default value is \"matplotlib\", the\n",
      "            backend provided with pandas. Other backends can be specified by\n",
      "            providing the name of the module that implements the backend.\n",
      "            [default: matplotlib] [currently: matplotlib]\n",
      "        plotting.matplotlib.register_converters : bool or 'auto'.\n",
      "            Whether to register converters with matplotlib's units registry for\n",
      "            dates, times, datetimes, and Periods. Toggling to False will remove\n",
      "            the converters, restoring any converters that pandas overwrote.\n",
      "            [default: auto] [currently: auto]\n",
      "    \n",
      "    get_option = <pandas._config.config.CallableDynamicDoc object>\n",
      "        get_option(pat)\n",
      "        \n",
      "        Retrieves the value of the specified option.\n",
      "        \n",
      "        Available options:\n",
      "        \n",
      "        - compute.[use_bottleneck, use_numba, use_numexpr]\n",
      "        - display.[chop_threshold, colheader_justify, column_space, date_dayfirst,\n",
      "          date_yearfirst, encoding, expand_frame_repr, float_format]\n",
      "        - display.html.[border, table_schema, use_mathjax]\n",
      "        - display.[large_repr]\n",
      "        - display.latex.[escape, longtable, multicolumn, multicolumn_format, multirow,\n",
      "          repr]\n",
      "        - display.[max_categories, max_columns, max_colwidth, max_info_columns,\n",
      "          max_info_rows, max_rows, max_seq_items, memory_usage, min_rows, multi_sparse,\n",
      "          notebook_repr_html, pprint_nest_depth, precision, show_dimensions]\n",
      "        - display.unicode.[ambiguous_as_wide, east_asian_width]\n",
      "        - display.[width]\n",
      "        - io.excel.ods.[reader, writer]\n",
      "        - io.excel.xls.[reader, writer]\n",
      "        - io.excel.xlsb.[reader]\n",
      "        - io.excel.xlsm.[reader, writer]\n",
      "        - io.excel.xlsx.[reader, writer]\n",
      "        - io.hdf.[default_format, dropna_table]\n",
      "        - io.parquet.[engine]\n",
      "        - mode.[chained_assignment, sim_interactive, use_inf_as_na, use_inf_as_null]\n",
      "        - plotting.[backend]\n",
      "        - plotting.matplotlib.[register_converters]\n",
      "        \n",
      "        Parameters\n",
      "        ----------\n",
      "        pat : str\n",
      "            Regexp which should match a single option.\n",
      "            Note: partial matches are supported for convenience, but unless you use the\n",
      "            full option name (e.g. x.y.z.option_name), your code may break in future\n",
      "            versions if new options with similar names are introduced.\n",
      "        \n",
      "        Returns\n",
      "        -------\n",
      "        result : the value of the option\n",
      "        \n",
      "        Raises\n",
      "        ------\n",
      "        OptionError : if no such option exists\n",
      "        \n",
      "        Notes\n",
      "        -----\n",
      "        The available options with its descriptions:\n",
      "        \n",
      "        compute.use_bottleneck : bool\n",
      "            Use the bottleneck library to accelerate if it is installed,\n",
      "            the default is True\n",
      "            Valid values: False,True\n",
      "            [default: True] [currently: True]\n",
      "        compute.use_numba : bool\n",
      "            Use the numba engine option for select operations if it is installed,\n",
      "            the default is False\n",
      "            Valid values: False,True\n",
      "            [default: False] [currently: False]\n",
      "        compute.use_numexpr : bool\n",
      "            Use the numexpr library to accelerate computation if it is installed,\n",
      "            the default is True\n",
      "            Valid values: False,True\n",
      "            [default: True] [currently: True]\n",
      "        display.chop_threshold : float or None\n",
      "            if set to a float value, all float values smaller then the given threshold\n",
      "            will be displayed as exactly 0 by repr and friends.\n",
      "            [default: None] [currently: None]\n",
      "        display.colheader_justify : 'left'/'right'\n",
      "            Controls the justification of column headers. used by DataFrameFormatter.\n",
      "            [default: right] [currently: right]\n",
      "        display.column_space No description available.\n",
      "            [default: 12] [currently: 12]\n",
      "        display.date_dayfirst : boolean\n",
      "            When True, prints and parses dates with the day first, eg 20/01/2005\n",
      "            [default: False] [currently: False]\n",
      "        display.date_yearfirst : boolean\n",
      "            When True, prints and parses dates with the year first, eg 2005/01/20\n",
      "            [default: False] [currently: False]\n",
      "        display.encoding : str/unicode\n",
      "            Defaults to the detected encoding of the console.\n",
      "            Specifies the encoding to be used for strings returned by to_string,\n",
      "            these are generally strings meant to be displayed on the console.\n",
      "            [default: UTF-8] [currently: UTF-8]\n",
      "        display.expand_frame_repr : boolean\n",
      "            Whether to print out the full DataFrame repr for wide DataFrames across\n",
      "            multiple lines, `max_columns` is still respected, but the output will\n",
      "            wrap-around across multiple \"pages\" if its width exceeds `display.width`.\n",
      "            [default: True] [currently: True]\n",
      "        display.float_format : callable\n",
      "            The callable should accept a floating point number and return\n",
      "            a string with the desired format of the number. This is used\n",
      "            in some places like SeriesFormatter.\n",
      "            See formats.format.EngFormatter for an example.\n",
      "            [default: None] [currently: None]\n",
      "        display.html.border : int\n",
      "            A ``border=value`` attribute is inserted in the ``<table>`` tag\n",
      "            for the DataFrame HTML repr.\n",
      "            [default: 1] [currently: 1]\n",
      "        display.html.table_schema : boolean\n",
      "            Whether to publish a Table Schema representation for frontends\n",
      "            that support it.\n",
      "            (default: False)\n",
      "            [default: False] [currently: False]\n",
      "        display.html.use_mathjax : boolean\n",
      "            When True, Jupyter notebook will process table contents using MathJax,\n",
      "            rendering mathematical expressions enclosed by the dollar symbol.\n",
      "            (default: True)\n",
      "            [default: True] [currently: True]\n",
      "        display.large_repr : 'truncate'/'info'\n",
      "            For DataFrames exceeding max_rows/max_cols, the repr (and HTML repr) can\n",
      "            show a truncated table (the default from 0.13), or switch to the view from\n",
      "            df.info() (the behaviour in earlier versions of pandas).\n",
      "            [default: truncate] [currently: truncate]\n",
      "        display.latex.escape : bool\n",
      "            This specifies if the to_latex method of a Dataframe uses escapes special\n",
      "            characters.\n",
      "            Valid values: False,True\n",
      "            [default: True] [currently: True]\n",
      "        display.latex.longtable :bool\n",
      "            This specifies if the to_latex method of a Dataframe uses the longtable\n",
      "            format.\n",
      "            Valid values: False,True\n",
      "            [default: False] [currently: False]\n",
      "        display.latex.multicolumn : bool\n",
      "            This specifies if the to_latex method of a Dataframe uses multicolumns\n",
      "            to pretty-print MultiIndex columns.\n",
      "            Valid values: False,True\n",
      "            [default: True] [currently: True]\n",
      "        display.latex.multicolumn_format : bool\n",
      "            This specifies if the to_latex method of a Dataframe uses multicolumns\n",
      "            to pretty-print MultiIndex columns.\n",
      "            Valid values: False,True\n",
      "            [default: l] [currently: l]\n",
      "        display.latex.multirow : bool\n",
      "            This specifies if the to_latex method of a Dataframe uses multirows\n",
      "            to pretty-print MultiIndex rows.\n",
      "            Valid values: False,True\n",
      "            [default: False] [currently: False]\n",
      "        display.latex.repr : boolean\n",
      "            Whether to produce a latex DataFrame representation for jupyter\n",
      "            environments that support it.\n",
      "            (default: False)\n",
      "            [default: False] [currently: False]\n",
      "        display.max_categories : int\n",
      "            This sets the maximum number of categories pandas should output when\n",
      "            printing out a `Categorical` or a Series of dtype \"category\".\n",
      "            [default: 8] [currently: 8]\n",
      "        display.max_columns : int\n",
      "            If max_cols is exceeded, switch to truncate view. Depending on\n",
      "            `large_repr`, objects are either centrally truncated or printed as\n",
      "            a summary view. 'None' value means unlimited.\n",
      "        \n",
      "            In case python/IPython is running in a terminal and `large_repr`\n",
      "            equals 'truncate' this can be set to 0 and pandas will auto-detect\n",
      "            the width of the terminal and print a truncated object which fits\n",
      "            the screen width. The IPython notebook, IPython qtconsole, or IDLE\n",
      "            do not run in a terminal and hence it is not possible to do\n",
      "            correct auto-detection.\n",
      "            [default: 20] [currently: 20]\n",
      "        display.max_colwidth : int or None\n",
      "            The maximum width in characters of a column in the repr of\n",
      "            a pandas data structure. When the column overflows, a \"...\"\n",
      "            placeholder is embedded in the output. A 'None' value means unlimited.\n",
      "            [default: 50] [currently: 50]\n",
      "        display.max_info_columns : int\n",
      "            max_info_columns is used in DataFrame.info method to decide if\n",
      "            per column information will be printed.\n",
      "            [default: 100] [currently: 100]\n",
      "        display.max_info_rows : int or None\n",
      "            df.info() will usually show null-counts for each column.\n",
      "            For large frames this can be quite slow. max_info_rows and max_info_cols\n",
      "            limit this null check only to frames with smaller dimensions than\n",
      "            specified.\n",
      "            [default: 1690785] [currently: 1690785]\n",
      "        display.max_rows : int\n",
      "            If max_rows is exceeded, switch to truncate view. Depending on\n",
      "            `large_repr`, objects are either centrally truncated or printed as\n",
      "            a summary view. 'None' value means unlimited.\n",
      "        \n",
      "            In case python/IPython is running in a terminal and `large_repr`\n",
      "            equals 'truncate' this can be set to 0 and pandas will auto-detect\n",
      "            the height of the terminal and print a truncated object which fits\n",
      "            the screen height. The IPython notebook, IPython qtconsole, or\n",
      "            IDLE do not run in a terminal and hence it is not possible to do\n",
      "            correct auto-detection.\n",
      "            [default: 60] [currently: 60]\n",
      "        display.max_seq_items : int or None\n",
      "            when pretty-printing a long sequence, no more then `max_seq_items`\n",
      "            will be printed. If items are omitted, they will be denoted by the\n",
      "            addition of \"...\" to the resulting string.\n",
      "        \n",
      "            If set to None, the number of items to be printed is unlimited.\n",
      "            [default: 100] [currently: 100]\n",
      "        display.memory_usage : bool, string or None\n",
      "            This specifies if the memory usage of a DataFrame should be displayed when\n",
      "            df.info() is called. Valid values True,False,'deep'\n",
      "            [default: True] [currently: True]\n",
      "        display.min_rows : int\n",
      "            The numbers of rows to show in a truncated view (when `max_rows` is\n",
      "            exceeded). Ignored when `max_rows` is set to None or 0. When set to\n",
      "            None, follows the value of `max_rows`.\n",
      "            [default: 10] [currently: 10]\n",
      "        display.multi_sparse : boolean\n",
      "            \"sparsify\" MultiIndex display (don't display repeated\n",
      "            elements in outer levels within groups)\n",
      "            [default: True] [currently: True]\n",
      "        display.notebook_repr_html : boolean\n",
      "            When True, IPython notebook will use html representation for\n",
      "            pandas objects (if it is available).\n",
      "            [default: True] [currently: True]\n",
      "        display.pprint_nest_depth : int\n",
      "            Controls the number of nested levels to process when pretty-printing\n",
      "            [default: 3] [currently: 3]\n",
      "        display.precision : int\n",
      "            Floating point output precision (number of significant digits). This is\n",
      "            only a suggestion\n",
      "            [default: 6] [currently: 6]\n",
      "        display.show_dimensions : boolean or 'truncate'\n",
      "            Whether to print out dimensions at the end of DataFrame repr.\n",
      "            If 'truncate' is specified, only print out the dimensions if the\n",
      "            frame is truncated (e.g. not display all rows and/or columns)\n",
      "            [default: truncate] [currently: truncate]\n",
      "        display.unicode.ambiguous_as_wide : boolean\n",
      "            Whether to use the Unicode East Asian Width to calculate the display text\n",
      "            width.\n",
      "            Enabling this may affect to the performance (default: False)\n",
      "            [default: False] [currently: False]\n",
      "        display.unicode.east_asian_width : boolean\n",
      "            Whether to use the Unicode East Asian Width to calculate the display text\n",
      "            width.\n",
      "            Enabling this may affect to the performance (default: False)\n",
      "            [default: False] [currently: False]\n",
      "        display.width : int\n",
      "            Width of the display in characters. In case python/IPython is running in\n",
      "            a terminal this can be set to None and pandas will correctly auto-detect\n",
      "            the width.\n",
      "            Note that the IPython notebook, IPython qtconsole, or IDLE do not run in a\n",
      "            terminal and hence it is not possible to correctly detect the width.\n",
      "            [default: 80] [currently: 80]\n",
      "        io.excel.ods.reader : string\n",
      "            The default Excel reader engine for 'ods' files. Available options:\n",
      "            auto, odf.\n",
      "            [default: auto] [currently: auto]\n",
      "        io.excel.ods.writer : string\n",
      "            The default Excel writer engine for 'ods' files. Available options:\n",
      "            auto, odf.\n",
      "            [default: auto] [currently: auto]\n",
      "        io.excel.xls.reader : string\n",
      "            The default Excel reader engine for 'xls' files. Available options:\n",
      "            auto, xlrd.\n",
      "            [default: auto] [currently: auto]\n",
      "        io.excel.xls.writer : string\n",
      "            The default Excel writer engine for 'xls' files. Available options:\n",
      "            auto, xlwt.\n",
      "            [default: auto] [currently: auto]\n",
      "        io.excel.xlsb.reader : string\n",
      "            The default Excel reader engine for 'xlsb' files. Available options:\n",
      "            auto, pyxlsb.\n",
      "            [default: auto] [currently: auto]\n",
      "        io.excel.xlsm.reader : string\n",
      "            The default Excel reader engine for 'xlsm' files. Available options:\n",
      "            auto, xlrd, openpyxl.\n",
      "            [default: auto] [currently: auto]\n",
      "        io.excel.xlsm.writer : string\n",
      "            The default Excel writer engine for 'xlsm' files. Available options:\n",
      "            auto, openpyxl.\n",
      "            [default: auto] [currently: auto]\n",
      "        io.excel.xlsx.reader : string\n",
      "            The default Excel reader engine for 'xlsx' files. Available options:\n",
      "            auto, xlrd, openpyxl.\n",
      "            [default: auto] [currently: auto]\n",
      "        io.excel.xlsx.writer : string\n",
      "            The default Excel writer engine for 'xlsx' files. Available options:\n",
      "            auto, openpyxl, xlsxwriter.\n",
      "            [default: auto] [currently: auto]\n",
      "        io.hdf.default_format : format\n",
      "            default format writing format, if None, then\n",
      "            put will default to 'fixed' and append will default to 'table'\n",
      "            [default: None] [currently: None]\n",
      "        io.hdf.dropna_table : boolean\n",
      "            drop ALL nan rows when appending to a table\n",
      "            [default: False] [currently: False]\n",
      "        io.parquet.engine : string\n",
      "            The default parquet reader/writer engine. Available options:\n",
      "            'auto', 'pyarrow', 'fastparquet', the default is 'auto'\n",
      "            [default: auto] [currently: auto]\n",
      "        mode.chained_assignment : string\n",
      "            Raise an exception, warn, or no action if trying to use chained assignment,\n",
      "            The default is warn\n",
      "            [default: warn] [currently: warn]\n",
      "        mode.sim_interactive : boolean\n",
      "            Whether to simulate interactive mode for purposes of testing\n",
      "            [default: False] [currently: False]\n",
      "        mode.use_inf_as_na : boolean\n",
      "            True means treat None, NaN, INF, -INF as NA (old way),\n",
      "            False means None and NaN are null, but INF, -INF are not NA\n",
      "            (new way).\n",
      "            [default: False] [currently: False]\n",
      "        mode.use_inf_as_null : boolean\n",
      "            use_inf_as_null had been deprecated and will be removed in a future\n",
      "            version. Use `use_inf_as_na` instead.\n",
      "            [default: False] [currently: False]\n",
      "            (Deprecated, use `mode.use_inf_as_na` instead.)\n",
      "        plotting.backend : str\n",
      "            The plotting backend to use. The default value is \"matplotlib\", the\n",
      "            backend provided with pandas. Other backends can be specified by\n",
      "            providing the name of the module that implements the backend.\n",
      "            [default: matplotlib] [currently: matplotlib]\n",
      "        plotting.matplotlib.register_converters : bool or 'auto'.\n",
      "            Whether to register converters with matplotlib's units registry for\n",
      "            dates, times, datetimes, and Periods. Toggling to False will remove\n",
      "            the converters, restoring any converters that pandas overwrote.\n",
      "            [default: auto] [currently: auto]\n",
      "    \n",
      "    options = <pandas._config.config.DictWrapper object>\n",
      "    reset_option = <pandas._config.config.CallableDynamicDoc object>\n",
      "        reset_option(pat)\n",
      "        \n",
      "        Reset one or more options to their default value.\n",
      "        \n",
      "        Pass \"all\" as argument to reset all options.\n",
      "        \n",
      "        Available options:\n",
      "        \n",
      "        - compute.[use_bottleneck, use_numba, use_numexpr]\n",
      "        - display.[chop_threshold, colheader_justify, column_space, date_dayfirst,\n",
      "          date_yearfirst, encoding, expand_frame_repr, float_format]\n",
      "        - display.html.[border, table_schema, use_mathjax]\n",
      "        - display.[large_repr]\n",
      "        - display.latex.[escape, longtable, multicolumn, multicolumn_format, multirow,\n",
      "          repr]\n",
      "        - display.[max_categories, max_columns, max_colwidth, max_info_columns,\n",
      "          max_info_rows, max_rows, max_seq_items, memory_usage, min_rows, multi_sparse,\n",
      "          notebook_repr_html, pprint_nest_depth, precision, show_dimensions]\n",
      "        - display.unicode.[ambiguous_as_wide, east_asian_width]\n",
      "        - display.[width]\n",
      "        - io.excel.ods.[reader, writer]\n",
      "        - io.excel.xls.[reader, writer]\n",
      "        - io.excel.xlsb.[reader]\n",
      "        - io.excel.xlsm.[reader, writer]\n",
      "        - io.excel.xlsx.[reader, writer]\n",
      "        - io.hdf.[default_format, dropna_table]\n",
      "        - io.parquet.[engine]\n",
      "        - mode.[chained_assignment, sim_interactive, use_inf_as_na, use_inf_as_null]\n",
      "        - plotting.[backend]\n",
      "        - plotting.matplotlib.[register_converters]\n",
      "        \n",
      "        Parameters\n",
      "        ----------\n",
      "        pat : str/regex\n",
      "            If specified only options matching `prefix*` will be reset.\n",
      "            Note: partial matches are supported for convenience, but unless you\n",
      "            use the full option name (e.g. x.y.z.option_name), your code may break\n",
      "            in future versions if new options with similar names are introduced.\n",
      "        \n",
      "        Returns\n",
      "        -------\n",
      "        None\n",
      "        \n",
      "        Notes\n",
      "        -----\n",
      "        The available options with its descriptions:\n",
      "        \n",
      "        compute.use_bottleneck : bool\n",
      "            Use the bottleneck library to accelerate if it is installed,\n",
      "            the default is True\n",
      "            Valid values: False,True\n",
      "            [default: True] [currently: True]\n",
      "        compute.use_numba : bool\n",
      "            Use the numba engine option for select operations if it is installed,\n",
      "            the default is False\n",
      "            Valid values: False,True\n",
      "            [default: False] [currently: False]\n",
      "        compute.use_numexpr : bool\n",
      "            Use the numexpr library to accelerate computation if it is installed,\n",
      "            the default is True\n",
      "            Valid values: False,True\n",
      "            [default: True] [currently: True]\n",
      "        display.chop_threshold : float or None\n",
      "            if set to a float value, all float values smaller then the given threshold\n",
      "            will be displayed as exactly 0 by repr and friends.\n",
      "            [default: None] [currently: None]\n",
      "        display.colheader_justify : 'left'/'right'\n",
      "            Controls the justification of column headers. used by DataFrameFormatter.\n",
      "            [default: right] [currently: right]\n",
      "        display.column_space No description available.\n",
      "            [default: 12] [currently: 12]\n",
      "        display.date_dayfirst : boolean\n",
      "            When True, prints and parses dates with the day first, eg 20/01/2005\n",
      "            [default: False] [currently: False]\n",
      "        display.date_yearfirst : boolean\n",
      "            When True, prints and parses dates with the year first, eg 2005/01/20\n",
      "            [default: False] [currently: False]\n",
      "        display.encoding : str/unicode\n",
      "            Defaults to the detected encoding of the console.\n",
      "            Specifies the encoding to be used for strings returned by to_string,\n",
      "            these are generally strings meant to be displayed on the console.\n",
      "            [default: UTF-8] [currently: UTF-8]\n",
      "        display.expand_frame_repr : boolean\n",
      "            Whether to print out the full DataFrame repr for wide DataFrames across\n",
      "            multiple lines, `max_columns` is still respected, but the output will\n",
      "            wrap-around across multiple \"pages\" if its width exceeds `display.width`.\n",
      "            [default: True] [currently: True]\n",
      "        display.float_format : callable\n",
      "            The callable should accept a floating point number and return\n",
      "            a string with the desired format of the number. This is used\n",
      "            in some places like SeriesFormatter.\n",
      "            See formats.format.EngFormatter for an example.\n",
      "            [default: None] [currently: None]\n",
      "        display.html.border : int\n",
      "            A ``border=value`` attribute is inserted in the ``<table>`` tag\n",
      "            for the DataFrame HTML repr.\n",
      "            [default: 1] [currently: 1]\n",
      "        display.html.table_schema : boolean\n",
      "            Whether to publish a Table Schema representation for frontends\n",
      "            that support it.\n",
      "            (default: False)\n",
      "            [default: False] [currently: False]\n",
      "        display.html.use_mathjax : boolean\n",
      "            When True, Jupyter notebook will process table contents using MathJax,\n",
      "            rendering mathematical expressions enclosed by the dollar symbol.\n",
      "            (default: True)\n",
      "            [default: True] [currently: True]\n",
      "        display.large_repr : 'truncate'/'info'\n",
      "            For DataFrames exceeding max_rows/max_cols, the repr (and HTML repr) can\n",
      "            show a truncated table (the default from 0.13), or switch to the view from\n",
      "            df.info() (the behaviour in earlier versions of pandas).\n",
      "            [default: truncate] [currently: truncate]\n",
      "        display.latex.escape : bool\n",
      "            This specifies if the to_latex method of a Dataframe uses escapes special\n",
      "            characters.\n",
      "            Valid values: False,True\n",
      "            [default: True] [currently: True]\n",
      "        display.latex.longtable :bool\n",
      "            This specifies if the to_latex method of a Dataframe uses the longtable\n",
      "            format.\n",
      "            Valid values: False,True\n",
      "            [default: False] [currently: False]\n",
      "        display.latex.multicolumn : bool\n",
      "            This specifies if the to_latex method of a Dataframe uses multicolumns\n",
      "            to pretty-print MultiIndex columns.\n",
      "            Valid values: False,True\n",
      "            [default: True] [currently: True]\n",
      "        display.latex.multicolumn_format : bool\n",
      "            This specifies if the to_latex method of a Dataframe uses multicolumns\n",
      "            to pretty-print MultiIndex columns.\n",
      "            Valid values: False,True\n",
      "            [default: l] [currently: l]\n",
      "        display.latex.multirow : bool\n",
      "            This specifies if the to_latex method of a Dataframe uses multirows\n",
      "            to pretty-print MultiIndex rows.\n",
      "            Valid values: False,True\n",
      "            [default: False] [currently: False]\n",
      "        display.latex.repr : boolean\n",
      "            Whether to produce a latex DataFrame representation for jupyter\n",
      "            environments that support it.\n",
      "            (default: False)\n",
      "            [default: False] [currently: False]\n",
      "        display.max_categories : int\n",
      "            This sets the maximum number of categories pandas should output when\n",
      "            printing out a `Categorical` or a Series of dtype \"category\".\n",
      "            [default: 8] [currently: 8]\n",
      "        display.max_columns : int\n",
      "            If max_cols is exceeded, switch to truncate view. Depending on\n",
      "            `large_repr`, objects are either centrally truncated or printed as\n",
      "            a summary view. 'None' value means unlimited.\n",
      "        \n",
      "            In case python/IPython is running in a terminal and `large_repr`\n",
      "            equals 'truncate' this can be set to 0 and pandas will auto-detect\n",
      "            the width of the terminal and print a truncated object which fits\n",
      "            the screen width. The IPython notebook, IPython qtconsole, or IDLE\n",
      "            do not run in a terminal and hence it is not possible to do\n",
      "            correct auto-detection.\n",
      "            [default: 20] [currently: 20]\n",
      "        display.max_colwidth : int or None\n",
      "            The maximum width in characters of a column in the repr of\n",
      "            a pandas data structure. When the column overflows, a \"...\"\n",
      "            placeholder is embedded in the output. A 'None' value means unlimited.\n",
      "            [default: 50] [currently: 50]\n",
      "        display.max_info_columns : int\n",
      "            max_info_columns is used in DataFrame.info method to decide if\n",
      "            per column information will be printed.\n",
      "            [default: 100] [currently: 100]\n",
      "        display.max_info_rows : int or None\n",
      "            df.info() will usually show null-counts for each column.\n",
      "            For large frames this can be quite slow. max_info_rows and max_info_cols\n",
      "            limit this null check only to frames with smaller dimensions than\n",
      "            specified.\n",
      "            [default: 1690785] [currently: 1690785]\n",
      "        display.max_rows : int\n",
      "            If max_rows is exceeded, switch to truncate view. Depending on\n",
      "            `large_repr`, objects are either centrally truncated or printed as\n",
      "            a summary view. 'None' value means unlimited.\n",
      "        \n",
      "            In case python/IPython is running in a terminal and `large_repr`\n",
      "            equals 'truncate' this can be set to 0 and pandas will auto-detect\n",
      "            the height of the terminal and print a truncated object which fits\n",
      "            the screen height. The IPython notebook, IPython qtconsole, or\n",
      "            IDLE do not run in a terminal and hence it is not possible to do\n",
      "            correct auto-detection.\n",
      "            [default: 60] [currently: 60]\n",
      "        display.max_seq_items : int or None\n",
      "            when pretty-printing a long sequence, no more then `max_seq_items`\n",
      "            will be printed. If items are omitted, they will be denoted by the\n",
      "            addition of \"...\" to the resulting string.\n",
      "        \n",
      "            If set to None, the number of items to be printed is unlimited.\n",
      "            [default: 100] [currently: 100]\n",
      "        display.memory_usage : bool, string or None\n",
      "            This specifies if the memory usage of a DataFrame should be displayed when\n",
      "            df.info() is called. Valid values True,False,'deep'\n",
      "            [default: True] [currently: True]\n",
      "        display.min_rows : int\n",
      "            The numbers of rows to show in a truncated view (when `max_rows` is\n",
      "            exceeded). Ignored when `max_rows` is set to None or 0. When set to\n",
      "            None, follows the value of `max_rows`.\n",
      "            [default: 10] [currently: 10]\n",
      "        display.multi_sparse : boolean\n",
      "            \"sparsify\" MultiIndex display (don't display repeated\n",
      "            elements in outer levels within groups)\n",
      "            [default: True] [currently: True]\n",
      "        display.notebook_repr_html : boolean\n",
      "            When True, IPython notebook will use html representation for\n",
      "            pandas objects (if it is available).\n",
      "            [default: True] [currently: True]\n",
      "        display.pprint_nest_depth : int\n",
      "            Controls the number of nested levels to process when pretty-printing\n",
      "            [default: 3] [currently: 3]\n",
      "        display.precision : int\n",
      "            Floating point output precision (number of significant digits). This is\n",
      "            only a suggestion\n",
      "            [default: 6] [currently: 6]\n",
      "        display.show_dimensions : boolean or 'truncate'\n",
      "            Whether to print out dimensions at the end of DataFrame repr.\n",
      "            If 'truncate' is specified, only print out the dimensions if the\n",
      "            frame is truncated (e.g. not display all rows and/or columns)\n",
      "            [default: truncate] [currently: truncate]\n",
      "        display.unicode.ambiguous_as_wide : boolean\n",
      "            Whether to use the Unicode East Asian Width to calculate the display text\n",
      "            width.\n",
      "            Enabling this may affect to the performance (default: False)\n",
      "            [default: False] [currently: False]\n",
      "        display.unicode.east_asian_width : boolean\n",
      "            Whether to use the Unicode East Asian Width to calculate the display text\n",
      "            width.\n",
      "            Enabling this may affect to the performance (default: False)\n",
      "            [default: False] [currently: False]\n",
      "        display.width : int\n",
      "            Width of the display in characters. In case python/IPython is running in\n",
      "            a terminal this can be set to None and pandas will correctly auto-detect\n",
      "            the width.\n",
      "            Note that the IPython notebook, IPython qtconsole, or IDLE do not run in a\n",
      "            terminal and hence it is not possible to correctly detect the width.\n",
      "            [default: 80] [currently: 80]\n",
      "        io.excel.ods.reader : string\n",
      "            The default Excel reader engine for 'ods' files. Available options:\n",
      "            auto, odf.\n",
      "            [default: auto] [currently: auto]\n",
      "        io.excel.ods.writer : string\n",
      "            The default Excel writer engine for 'ods' files. Available options:\n",
      "            auto, odf.\n",
      "            [default: auto] [currently: auto]\n",
      "        io.excel.xls.reader : string\n",
      "            The default Excel reader engine for 'xls' files. Available options:\n",
      "            auto, xlrd.\n",
      "            [default: auto] [currently: auto]\n",
      "        io.excel.xls.writer : string\n",
      "            The default Excel writer engine for 'xls' files. Available options:\n",
      "            auto, xlwt.\n",
      "            [default: auto] [currently: auto]\n",
      "        io.excel.xlsb.reader : string\n",
      "            The default Excel reader engine for 'xlsb' files. Available options:\n",
      "            auto, pyxlsb.\n",
      "            [default: auto] [currently: auto]\n",
      "        io.excel.xlsm.reader : string\n",
      "            The default Excel reader engine for 'xlsm' files. Available options:\n",
      "            auto, xlrd, openpyxl.\n",
      "            [default: auto] [currently: auto]\n",
      "        io.excel.xlsm.writer : string\n",
      "            The default Excel writer engine for 'xlsm' files. Available options:\n",
      "            auto, openpyxl.\n",
      "            [default: auto] [currently: auto]\n",
      "        io.excel.xlsx.reader : string\n",
      "            The default Excel reader engine for 'xlsx' files. Available options:\n",
      "            auto, xlrd, openpyxl.\n",
      "            [default: auto] [currently: auto]\n",
      "        io.excel.xlsx.writer : string\n",
      "            The default Excel writer engine for 'xlsx' files. Available options:\n",
      "            auto, openpyxl, xlsxwriter.\n",
      "            [default: auto] [currently: auto]\n",
      "        io.hdf.default_format : format\n",
      "            default format writing format, if None, then\n",
      "            put will default to 'fixed' and append will default to 'table'\n",
      "            [default: None] [currently: None]\n",
      "        io.hdf.dropna_table : boolean\n",
      "            drop ALL nan rows when appending to a table\n",
      "            [default: False] [currently: False]\n",
      "        io.parquet.engine : string\n",
      "            The default parquet reader/writer engine. Available options:\n",
      "            'auto', 'pyarrow', 'fastparquet', the default is 'auto'\n",
      "            [default: auto] [currently: auto]\n",
      "        mode.chained_assignment : string\n",
      "            Raise an exception, warn, or no action if trying to use chained assignment,\n",
      "            The default is warn\n",
      "            [default: warn] [currently: warn]\n",
      "        mode.sim_interactive : boolean\n",
      "            Whether to simulate interactive mode for purposes of testing\n",
      "            [default: False] [currently: False]\n",
      "        mode.use_inf_as_na : boolean\n",
      "            True means treat None, NaN, INF, -INF as NA (old way),\n",
      "            False means None and NaN are null, but INF, -INF are not NA\n",
      "            (new way).\n",
      "            [default: False] [currently: False]\n",
      "        mode.use_inf_as_null : boolean\n",
      "            use_inf_as_null had been deprecated and will be removed in a future\n",
      "            version. Use `use_inf_as_na` instead.\n",
      "            [default: False] [currently: False]\n",
      "            (Deprecated, use `mode.use_inf_as_na` instead.)\n",
      "        plotting.backend : str\n",
      "            The plotting backend to use. The default value is \"matplotlib\", the\n",
      "            backend provided with pandas. Other backends can be specified by\n",
      "            providing the name of the module that implements the backend.\n",
      "            [default: matplotlib] [currently: matplotlib]\n",
      "        plotting.matplotlib.register_converters : bool or 'auto'.\n",
      "            Whether to register converters with matplotlib's units registry for\n",
      "            dates, times, datetimes, and Periods. Toggling to False will remove\n",
      "            the converters, restoring any converters that pandas overwrote.\n",
      "            [default: auto] [currently: auto]\n",
      "    \n",
      "    set_option = <pandas._config.config.CallableDynamicDoc object>\n",
      "        set_option(pat, value)\n",
      "        \n",
      "        Sets the value of the specified option.\n",
      "        \n",
      "        Available options:\n",
      "        \n",
      "        - compute.[use_bottleneck, use_numba, use_numexpr]\n",
      "        - display.[chop_threshold, colheader_justify, column_space, date_dayfirst,\n",
      "          date_yearfirst, encoding, expand_frame_repr, float_format]\n",
      "        - display.html.[border, table_schema, use_mathjax]\n",
      "        - display.[large_repr]\n",
      "        - display.latex.[escape, longtable, multicolumn, multicolumn_format, multirow,\n",
      "          repr]\n",
      "        - display.[max_categories, max_columns, max_colwidth, max_info_columns,\n",
      "          max_info_rows, max_rows, max_seq_items, memory_usage, min_rows, multi_sparse,\n",
      "          notebook_repr_html, pprint_nest_depth, precision, show_dimensions]\n",
      "        - display.unicode.[ambiguous_as_wide, east_asian_width]\n",
      "        - display.[width]\n",
      "        - io.excel.ods.[reader, writer]\n",
      "        - io.excel.xls.[reader, writer]\n",
      "        - io.excel.xlsb.[reader]\n",
      "        - io.excel.xlsm.[reader, writer]\n",
      "        - io.excel.xlsx.[reader, writer]\n",
      "        - io.hdf.[default_format, dropna_table]\n",
      "        - io.parquet.[engine]\n",
      "        - mode.[chained_assignment, sim_interactive, use_inf_as_na, use_inf_as_null]\n",
      "        - plotting.[backend]\n",
      "        - plotting.matplotlib.[register_converters]\n",
      "        \n",
      "        Parameters\n",
      "        ----------\n",
      "        pat : str\n",
      "            Regexp which should match a single option.\n",
      "            Note: partial matches are supported for convenience, but unless you use the\n",
      "            full option name (e.g. x.y.z.option_name), your code may break in future\n",
      "            versions if new options with similar names are introduced.\n",
      "        value : object\n",
      "            New value of option.\n",
      "        \n",
      "        Returns\n",
      "        -------\n",
      "        None\n",
      "        \n",
      "        Raises\n",
      "        ------\n",
      "        OptionError if no such option exists\n",
      "        \n",
      "        Notes\n",
      "        -----\n",
      "        The available options with its descriptions:\n",
      "        \n",
      "        compute.use_bottleneck : bool\n",
      "            Use the bottleneck library to accelerate if it is installed,\n",
      "            the default is True\n",
      "            Valid values: False,True\n",
      "            [default: True] [currently: True]\n",
      "        compute.use_numba : bool\n",
      "            Use the numba engine option for select operations if it is installed,\n",
      "            the default is False\n",
      "            Valid values: False,True\n",
      "            [default: False] [currently: False]\n",
      "        compute.use_numexpr : bool\n",
      "            Use the numexpr library to accelerate computation if it is installed,\n",
      "            the default is True\n",
      "            Valid values: False,True\n",
      "            [default: True] [currently: True]\n",
      "        display.chop_threshold : float or None\n",
      "            if set to a float value, all float values smaller then the given threshold\n",
      "            will be displayed as exactly 0 by repr and friends.\n",
      "            [default: None] [currently: None]\n",
      "        display.colheader_justify : 'left'/'right'\n",
      "            Controls the justification of column headers. used by DataFrameFormatter.\n",
      "            [default: right] [currently: right]\n",
      "        display.column_space No description available.\n",
      "            [default: 12] [currently: 12]\n",
      "        display.date_dayfirst : boolean\n",
      "            When True, prints and parses dates with the day first, eg 20/01/2005\n",
      "            [default: False] [currently: False]\n",
      "        display.date_yearfirst : boolean\n",
      "            When True, prints and parses dates with the year first, eg 2005/01/20\n",
      "            [default: False] [currently: False]\n",
      "        display.encoding : str/unicode\n",
      "            Defaults to the detected encoding of the console.\n",
      "            Specifies the encoding to be used for strings returned by to_string,\n",
      "            these are generally strings meant to be displayed on the console.\n",
      "            [default: UTF-8] [currently: UTF-8]\n",
      "        display.expand_frame_repr : boolean\n",
      "            Whether to print out the full DataFrame repr for wide DataFrames across\n",
      "            multiple lines, `max_columns` is still respected, but the output will\n",
      "            wrap-around across multiple \"pages\" if its width exceeds `display.width`.\n",
      "            [default: True] [currently: True]\n",
      "        display.float_format : callable\n",
      "            The callable should accept a floating point number and return\n",
      "            a string with the desired format of the number. This is used\n",
      "            in some places like SeriesFormatter.\n",
      "            See formats.format.EngFormatter for an example.\n",
      "            [default: None] [currently: None]\n",
      "        display.html.border : int\n",
      "            A ``border=value`` attribute is inserted in the ``<table>`` tag\n",
      "            for the DataFrame HTML repr.\n",
      "            [default: 1] [currently: 1]\n",
      "        display.html.table_schema : boolean\n",
      "            Whether to publish a Table Schema representation for frontends\n",
      "            that support it.\n",
      "            (default: False)\n",
      "            [default: False] [currently: False]\n",
      "        display.html.use_mathjax : boolean\n",
      "            When True, Jupyter notebook will process table contents using MathJax,\n",
      "            rendering mathematical expressions enclosed by the dollar symbol.\n",
      "            (default: True)\n",
      "            [default: True] [currently: True]\n",
      "        display.large_repr : 'truncate'/'info'\n",
      "            For DataFrames exceeding max_rows/max_cols, the repr (and HTML repr) can\n",
      "            show a truncated table (the default from 0.13), or switch to the view from\n",
      "            df.info() (the behaviour in earlier versions of pandas).\n",
      "            [default: truncate] [currently: truncate]\n",
      "        display.latex.escape : bool\n",
      "            This specifies if the to_latex method of a Dataframe uses escapes special\n",
      "            characters.\n",
      "            Valid values: False,True\n",
      "            [default: True] [currently: True]\n",
      "        display.latex.longtable :bool\n",
      "            This specifies if the to_latex method of a Dataframe uses the longtable\n",
      "            format.\n",
      "            Valid values: False,True\n",
      "            [default: False] [currently: False]\n",
      "        display.latex.multicolumn : bool\n",
      "            This specifies if the to_latex method of a Dataframe uses multicolumns\n",
      "            to pretty-print MultiIndex columns.\n",
      "            Valid values: False,True\n",
      "            [default: True] [currently: True]\n",
      "        display.latex.multicolumn_format : bool\n",
      "            This specifies if the to_latex method of a Dataframe uses multicolumns\n",
      "            to pretty-print MultiIndex columns.\n",
      "            Valid values: False,True\n",
      "            [default: l] [currently: l]\n",
      "        display.latex.multirow : bool\n",
      "            This specifies if the to_latex method of a Dataframe uses multirows\n",
      "            to pretty-print MultiIndex rows.\n",
      "            Valid values: False,True\n",
      "            [default: False] [currently: False]\n",
      "        display.latex.repr : boolean\n",
      "            Whether to produce a latex DataFrame representation for jupyter\n",
      "            environments that support it.\n",
      "            (default: False)\n",
      "            [default: False] [currently: False]\n",
      "        display.max_categories : int\n",
      "            This sets the maximum number of categories pandas should output when\n",
      "            printing out a `Categorical` or a Series of dtype \"category\".\n",
      "            [default: 8] [currently: 8]\n",
      "        display.max_columns : int\n",
      "            If max_cols is exceeded, switch to truncate view. Depending on\n",
      "            `large_repr`, objects are either centrally truncated or printed as\n",
      "            a summary view. 'None' value means unlimited.\n",
      "        \n",
      "            In case python/IPython is running in a terminal and `large_repr`\n",
      "            equals 'truncate' this can be set to 0 and pandas will auto-detect\n",
      "            the width of the terminal and print a truncated object which fits\n",
      "            the screen width. The IPython notebook, IPython qtconsole, or IDLE\n",
      "            do not run in a terminal and hence it is not possible to do\n",
      "            correct auto-detection.\n",
      "            [default: 20] [currently: 20]\n",
      "        display.max_colwidth : int or None\n",
      "            The maximum width in characters of a column in the repr of\n",
      "            a pandas data structure. When the column overflows, a \"...\"\n",
      "            placeholder is embedded in the output. A 'None' value means unlimited.\n",
      "            [default: 50] [currently: 50]\n",
      "        display.max_info_columns : int\n",
      "            max_info_columns is used in DataFrame.info method to decide if\n",
      "            per column information will be printed.\n",
      "            [default: 100] [currently: 100]\n",
      "        display.max_info_rows : int or None\n",
      "            df.info() will usually show null-counts for each column.\n",
      "            For large frames this can be quite slow. max_info_rows and max_info_cols\n",
      "            limit this null check only to frames with smaller dimensions than\n",
      "            specified.\n",
      "            [default: 1690785] [currently: 1690785]\n",
      "        display.max_rows : int\n",
      "            If max_rows is exceeded, switch to truncate view. Depending on\n",
      "            `large_repr`, objects are either centrally truncated or printed as\n",
      "            a summary view. 'None' value means unlimited.\n",
      "        \n",
      "            In case python/IPython is running in a terminal and `large_repr`\n",
      "            equals 'truncate' this can be set to 0 and pandas will auto-detect\n",
      "            the height of the terminal and print a truncated object which fits\n",
      "            the screen height. The IPython notebook, IPython qtconsole, or\n",
      "            IDLE do not run in a terminal and hence it is not possible to do\n",
      "            correct auto-detection.\n",
      "            [default: 60] [currently: 60]\n",
      "        display.max_seq_items : int or None\n",
      "            when pretty-printing a long sequence, no more then `max_seq_items`\n",
      "            will be printed. If items are omitted, they will be denoted by the\n",
      "            addition of \"...\" to the resulting string.\n",
      "        \n",
      "            If set to None, the number of items to be printed is unlimited.\n",
      "            [default: 100] [currently: 100]\n",
      "        display.memory_usage : bool, string or None\n",
      "            This specifies if the memory usage of a DataFrame should be displayed when\n",
      "            df.info() is called. Valid values True,False,'deep'\n",
      "            [default: True] [currently: True]\n",
      "        display.min_rows : int\n",
      "            The numbers of rows to show in a truncated view (when `max_rows` is\n",
      "            exceeded). Ignored when `max_rows` is set to None or 0. When set to\n",
      "            None, follows the value of `max_rows`.\n",
      "            [default: 10] [currently: 10]\n",
      "        display.multi_sparse : boolean\n",
      "            \"sparsify\" MultiIndex display (don't display repeated\n",
      "            elements in outer levels within groups)\n",
      "            [default: True] [currently: True]\n",
      "        display.notebook_repr_html : boolean\n",
      "            When True, IPython notebook will use html representation for\n",
      "            pandas objects (if it is available).\n",
      "            [default: True] [currently: True]\n",
      "        display.pprint_nest_depth : int\n",
      "            Controls the number of nested levels to process when pretty-printing\n",
      "            [default: 3] [currently: 3]\n",
      "        display.precision : int\n",
      "            Floating point output precision (number of significant digits). This is\n",
      "            only a suggestion\n",
      "            [default: 6] [currently: 6]\n",
      "        display.show_dimensions : boolean or 'truncate'\n",
      "            Whether to print out dimensions at the end of DataFrame repr.\n",
      "            If 'truncate' is specified, only print out the dimensions if the\n",
      "            frame is truncated (e.g. not display all rows and/or columns)\n",
      "            [default: truncate] [currently: truncate]\n",
      "        display.unicode.ambiguous_as_wide : boolean\n",
      "            Whether to use the Unicode East Asian Width to calculate the display text\n",
      "            width.\n",
      "            Enabling this may affect to the performance (default: False)\n",
      "            [default: False] [currently: False]\n",
      "        display.unicode.east_asian_width : boolean\n",
      "            Whether to use the Unicode East Asian Width to calculate the display text\n",
      "            width.\n",
      "            Enabling this may affect to the performance (default: False)\n",
      "            [default: False] [currently: False]\n",
      "        display.width : int\n",
      "            Width of the display in characters. In case python/IPython is running in\n",
      "            a terminal this can be set to None and pandas will correctly auto-detect\n",
      "            the width.\n",
      "            Note that the IPython notebook, IPython qtconsole, or IDLE do not run in a\n",
      "            terminal and hence it is not possible to correctly detect the width.\n",
      "            [default: 80] [currently: 80]\n",
      "        io.excel.ods.reader : string\n",
      "            The default Excel reader engine for 'ods' files. Available options:\n",
      "            auto, odf.\n",
      "            [default: auto] [currently: auto]\n",
      "        io.excel.ods.writer : string\n",
      "            The default Excel writer engine for 'ods' files. Available options:\n",
      "            auto, odf.\n",
      "            [default: auto] [currently: auto]\n",
      "        io.excel.xls.reader : string\n",
      "            The default Excel reader engine for 'xls' files. Available options:\n",
      "            auto, xlrd.\n",
      "            [default: auto] [currently: auto]\n",
      "        io.excel.xls.writer : string\n",
      "            The default Excel writer engine for 'xls' files. Available options:\n",
      "            auto, xlwt.\n",
      "            [default: auto] [currently: auto]\n",
      "        io.excel.xlsb.reader : string\n",
      "            The default Excel reader engine for 'xlsb' files. Available options:\n",
      "            auto, pyxlsb.\n",
      "            [default: auto] [currently: auto]\n",
      "        io.excel.xlsm.reader : string\n",
      "            The default Excel reader engine for 'xlsm' files. Available options:\n",
      "            auto, xlrd, openpyxl.\n",
      "            [default: auto] [currently: auto]\n",
      "        io.excel.xlsm.writer : string\n",
      "            The default Excel writer engine for 'xlsm' files. Available options:\n",
      "            auto, openpyxl.\n",
      "            [default: auto] [currently: auto]\n",
      "        io.excel.xlsx.reader : string\n",
      "            The default Excel reader engine for 'xlsx' files. Available options:\n",
      "            auto, xlrd, openpyxl.\n",
      "            [default: auto] [currently: auto]\n",
      "        io.excel.xlsx.writer : string\n",
      "            The default Excel writer engine for 'xlsx' files. Available options:\n",
      "            auto, openpyxl, xlsxwriter.\n",
      "            [default: auto] [currently: auto]\n",
      "        io.hdf.default_format : format\n",
      "            default format writing format, if None, then\n",
      "            put will default to 'fixed' and append will default to 'table'\n",
      "            [default: None] [currently: None]\n",
      "        io.hdf.dropna_table : boolean\n",
      "            drop ALL nan rows when appending to a table\n",
      "            [default: False] [currently: False]\n",
      "        io.parquet.engine : string\n",
      "            The default parquet reader/writer engine. Available options:\n",
      "            'auto', 'pyarrow', 'fastparquet', the default is 'auto'\n",
      "            [default: auto] [currently: auto]\n",
      "        mode.chained_assignment : string\n",
      "            Raise an exception, warn, or no action if trying to use chained assignment,\n",
      "            The default is warn\n",
      "            [default: warn] [currently: warn]\n",
      "        mode.sim_interactive : boolean\n",
      "            Whether to simulate interactive mode for purposes of testing\n",
      "            [default: False] [currently: False]\n",
      "        mode.use_inf_as_na : boolean\n",
      "            True means treat None, NaN, INF, -INF as NA (old way),\n",
      "            False means None and NaN are null, but INF, -INF are not NA\n",
      "            (new way).\n",
      "            [default: False] [currently: False]\n",
      "        mode.use_inf_as_null : boolean\n",
      "            use_inf_as_null had been deprecated and will be removed in a future\n",
      "            version. Use `use_inf_as_na` instead.\n",
      "            [default: False] [currently: False]\n",
      "            (Deprecated, use `mode.use_inf_as_na` instead.)\n",
      "        plotting.backend : str\n",
      "            The plotting backend to use. The default value is \"matplotlib\", the\n",
      "            backend provided with pandas. Other backends can be specified by\n",
      "            providing the name of the module that implements the backend.\n",
      "            [default: matplotlib] [currently: matplotlib]\n",
      "        plotting.matplotlib.register_converters : bool or 'auto'.\n",
      "            Whether to register converters with matplotlib's units registry for\n",
      "            dates, times, datetimes, and Periods. Toggling to False will remove\n",
      "            the converters, restoring any converters that pandas overwrote.\n",
      "            [default: auto] [currently: auto]\n",
      "\n",
      "VERSION\n",
      "    1.1.4\n",
      "\n",
      "FILE\n",
      "    c:\\python39\\lib\\site-packages\\pandas\\__init__.py\n",
      "\n",
      "\n"
     ]
    }
   ],
   "source": [
    "help(pd)"
   ]
  },
  {
   "cell_type": "code",
   "execution_count": 119,
   "metadata": {},
   "outputs": [
    {
     "name": "stdout",
     "output_type": "stream",
     "text": [
      "Help on package pandas.io in pandas:\n",
      "\n",
      "NAME\n",
      "    pandas.io\n",
      "\n",
      "PACKAGE CONTENTS\n",
      "    api\n",
      "    clipboard (package)\n",
      "    clipboards\n",
      "    common\n",
      "    date_converters\n",
      "    excel (package)\n",
      "    feather_format\n",
      "    formats (package)\n",
      "    gbq\n",
      "    html\n",
      "    json (package)\n",
      "    orc\n",
      "    parquet\n",
      "    parsers\n",
      "    pickle\n",
      "    pytables\n",
      "    sas (package)\n",
      "    spss\n",
      "    sql\n",
      "    stata\n",
      "\n",
      "FILE\n",
      "    c:\\python39\\lib\\site-packages\\pandas\\io\\__init__.py\n",
      "\n",
      "\n"
     ]
    }
   ],
   "source": [
    "help(pd.io)"
   ]
  },
  {
   "cell_type": "code",
   "execution_count": 120,
   "metadata": {},
   "outputs": [],
   "source": [
    "#help(pd.io.stata)"
   ]
  },
  {
   "cell_type": "code",
   "execution_count": 121,
   "metadata": {},
   "outputs": [],
   "source": [
    "#help(pd.io.excel)"
   ]
  },
  {
   "cell_type": "code",
   "execution_count": 122,
   "metadata": {},
   "outputs": [],
   "source": [
    "#help(statistics)"
   ]
  },
  {
   "cell_type": "code",
   "execution_count": 123,
   "metadata": {},
   "outputs": [
    {
     "data": {
      "image/png": "[encoded data removed]",
      "text/latex": [
       "$\\displaystyle 77.9586458260321$"
      ],
      "text/plain": [
       "77.9586458260321"
      ]
     },
     "execution_count": 123,
     "metadata": {},
     "output_type": "execute_result"
    }
   ],
   "source": [
    "statistics.mean(df.year)"
   ]
  },
  {
   "cell_type": "code",
   "execution_count": 124,
   "metadata": {},
   "outputs": [
    {
     "data": {
      "text/plain": [
       "DescribeResult(nobs=array(28534, dtype=int64), minmax=(masked_array(data=68,\n",
       "             mask=False,\n",
       "       fill_value=999999,\n",
       "            dtype=int8), masked_array(data=88,\n",
       "             mask=False,\n",
       "       fill_value=999999,\n",
       "            dtype=int8)), mean=77.9586458260321, variance=40.75247781855743, skewness=masked_array(data=0.08904784,\n",
       "             mask=False,\n",
       "       fill_value=1e+20), kurtosis=-1.2987810742463881)"
      ]
     },
     "execution_count": 124,
     "metadata": {},
     "output_type": "execute_result"
    }
   ],
   "source": [
    "describe(df.year)"
   ]
  },
  {
   "cell_type": "code",
   "execution_count": 125,
   "metadata": {},
   "outputs": [
    {
     "data": {
      "text/plain": [
       "(array([2607, 3537, 3674, 2141, 2171, 1964, 1847, 4072, 2085, 4436],\n",
       "       dtype=int64),\n",
       " array([68., 70., 72., 74., 76., 78., 80., 82., 84., 86., 88.]))"
      ]
     },
     "execution_count": 125,
     "metadata": {},
     "output_type": "execute_result"
    }
   ],
   "source": [
    "np.histogram(df.year)"
   ]
  },
  {
   "cell_type": "code",
   "execution_count": 126,
   "metadata": {},
   "outputs": [
    {
     "data": {
      "text/html": [
       "<div>\n",
       "<style scoped>\n",
       "    .dataframe tbody tr th:only-of-type {\n",
       "        vertical-align: middle;\n",
       "    }\n",
       "\n",
       "    .dataframe tbody tr th {\n",
       "        vertical-align: top;\n",
       "    }\n",
       "\n",
       "    .dataframe thead th {\n",
       "        text-align: right;\n",
       "    }\n",
       "</style>\n",
       "<table border=\"1\" class=\"dataframe\">\n",
       "  <thead>\n",
       "    <tr style=\"text-align: right;\">\n",
       "      <th></th>\n",
       "      <th>idcode</th>\n",
       "      <th>year</th>\n",
       "      <th>birth_yr</th>\n",
       "      <th>age</th>\n",
       "      <th>msp</th>\n",
       "      <th>nev_mar</th>\n",
       "      <th>grade</th>\n",
       "      <th>collgrad</th>\n",
       "      <th>not_smsa</th>\n",
       "      <th>c_city</th>\n",
       "      <th>south</th>\n",
       "      <th>ind_code</th>\n",
       "      <th>occ_code</th>\n",
       "      <th>union</th>\n",
       "      <th>wks_ue</th>\n",
       "      <th>ttl_exp</th>\n",
       "      <th>tenure</th>\n",
       "      <th>hours</th>\n",
       "      <th>wks_work</th>\n",
       "      <th>ln_wage</th>\n",
       "    </tr>\n",
       "  </thead>\n",
       "  <tbody>\n",
       "    <tr>\n",
       "      <th>count</th>\n",
       "      <td>28534.000000</td>\n",
       "      <td>28534.000000</td>\n",
       "      <td>28534.000000</td>\n",
       "      <td>28510.000000</td>\n",
       "      <td>28518.000000</td>\n",
       "      <td>28518.000000</td>\n",
       "      <td>28532.000000</td>\n",
       "      <td>28534.000000</td>\n",
       "      <td>28526.000000</td>\n",
       "      <td>28526.000000</td>\n",
       "      <td>28526.000000</td>\n",
       "      <td>28193.000000</td>\n",
       "      <td>28413.000000</td>\n",
       "      <td>19238.000000</td>\n",
       "      <td>22830.000000</td>\n",
       "      <td>28534.000000</td>\n",
       "      <td>28101.000000</td>\n",
       "      <td>28467.000000</td>\n",
       "      <td>27831.000000</td>\n",
       "      <td>28534.000000</td>\n",
       "    </tr>\n",
       "    <tr>\n",
       "      <th>mean</th>\n",
       "      <td>2601.284292</td>\n",
       "      <td>77.958646</td>\n",
       "      <td>48.085091</td>\n",
       "      <td>29.045107</td>\n",
       "      <td>0.602917</td>\n",
       "      <td>0.229680</td>\n",
       "      <td>12.532595</td>\n",
       "      <td>0.168045</td>\n",
       "      <td>0.282444</td>\n",
       "      <td>0.357218</td>\n",
       "      <td>0.409556</td>\n",
       "      <td>7.692973</td>\n",
       "      <td>4.777672</td>\n",
       "      <td>0.234432</td>\n",
       "      <td>2.548095</td>\n",
       "      <td>6.215316</td>\n",
       "      <td>3.123836</td>\n",
       "      <td>36.559560</td>\n",
       "      <td>53.989328</td>\n",
       "      <td>1.674907</td>\n",
       "    </tr>\n",
       "    <tr>\n",
       "      <th>std</th>\n",
       "      <td>1487.358947</td>\n",
       "      <td>6.383879</td>\n",
       "      <td>3.012837</td>\n",
       "      <td>6.700584</td>\n",
       "      <td>0.489302</td>\n",
       "      <td>0.420634</td>\n",
       "      <td>2.323905</td>\n",
       "      <td>0.373913</td>\n",
       "      <td>0.450196</td>\n",
       "      <td>0.479188</td>\n",
       "      <td>0.491761</td>\n",
       "      <td>2.994025</td>\n",
       "      <td>3.065435</td>\n",
       "      <td>0.423654</td>\n",
       "      <td>7.294463</td>\n",
       "      <td>4.652117</td>\n",
       "      <td>3.751409</td>\n",
       "      <td>9.869623</td>\n",
       "      <td>29.032325</td>\n",
       "      <td>0.478093</td>\n",
       "    </tr>\n",
       "    <tr>\n",
       "      <th>min</th>\n",
       "      <td>1.000000</td>\n",
       "      <td>68.000000</td>\n",
       "      <td>41.000000</td>\n",
       "      <td>14.000000</td>\n",
       "      <td>0.000000</td>\n",
       "      <td>0.000000</td>\n",
       "      <td>0.000000</td>\n",
       "      <td>0.000000</td>\n",
       "      <td>0.000000</td>\n",
       "      <td>0.000000</td>\n",
       "      <td>0.000000</td>\n",
       "      <td>1.000000</td>\n",
       "      <td>1.000000</td>\n",
       "      <td>0.000000</td>\n",
       "      <td>0.000000</td>\n",
       "      <td>0.000000</td>\n",
       "      <td>0.000000</td>\n",
       "      <td>1.000000</td>\n",
       "      <td>0.000000</td>\n",
       "      <td>0.000000</td>\n",
       "    </tr>\n",
       "    <tr>\n",
       "      <th>25%</th>\n",
       "      <td>1327.000000</td>\n",
       "      <td>72.000000</td>\n",
       "      <td>46.000000</td>\n",
       "      <td>23.000000</td>\n",
       "      <td>0.000000</td>\n",
       "      <td>0.000000</td>\n",
       "      <td>12.000000</td>\n",
       "      <td>0.000000</td>\n",
       "      <td>0.000000</td>\n",
       "      <td>0.000000</td>\n",
       "      <td>0.000000</td>\n",
       "      <td>5.000000</td>\n",
       "      <td>3.000000</td>\n",
       "      <td>0.000000</td>\n",
       "      <td>0.000000</td>\n",
       "      <td>2.461539</td>\n",
       "      <td>0.500000</td>\n",
       "      <td>35.000000</td>\n",
       "      <td>36.000000</td>\n",
       "      <td>1.361496</td>\n",
       "    </tr>\n",
       "    <tr>\n",
       "      <th>50%</th>\n",
       "      <td>2606.000000</td>\n",
       "      <td>78.000000</td>\n",
       "      <td>48.000000</td>\n",
       "      <td>28.000000</td>\n",
       "      <td>1.000000</td>\n",
       "      <td>0.000000</td>\n",
       "      <td>12.000000</td>\n",
       "      <td>0.000000</td>\n",
       "      <td>0.000000</td>\n",
       "      <td>0.000000</td>\n",
       "      <td>0.000000</td>\n",
       "      <td>7.000000</td>\n",
       "      <td>3.000000</td>\n",
       "      <td>0.000000</td>\n",
       "      <td>0.000000</td>\n",
       "      <td>5.057693</td>\n",
       "      <td>1.666667</td>\n",
       "      <td>40.000000</td>\n",
       "      <td>52.000000</td>\n",
       "      <td>1.640541</td>\n",
       "    </tr>\n",
       "    <tr>\n",
       "      <th>75%</th>\n",
       "      <td>3881.000000</td>\n",
       "      <td>83.000000</td>\n",
       "      <td>51.000000</td>\n",
       "      <td>34.000000</td>\n",
       "      <td>1.000000</td>\n",
       "      <td>0.000000</td>\n",
       "      <td>14.000000</td>\n",
       "      <td>0.000000</td>\n",
       "      <td>1.000000</td>\n",
       "      <td>1.000000</td>\n",
       "      <td>1.000000</td>\n",
       "      <td>11.000000</td>\n",
       "      <td>6.000000</td>\n",
       "      <td>0.000000</td>\n",
       "      <td>0.000000</td>\n",
       "      <td>9.128204</td>\n",
       "      <td>4.166667</td>\n",
       "      <td>40.000000</td>\n",
       "      <td>72.000000</td>\n",
       "      <td>1.964083</td>\n",
       "    </tr>\n",
       "    <tr>\n",
       "      <th>max</th>\n",
       "      <td>5159.000000</td>\n",
       "      <td>88.000000</td>\n",
       "      <td>54.000000</td>\n",
       "      <td>46.000000</td>\n",
       "      <td>1.000000</td>\n",
       "      <td>1.000000</td>\n",
       "      <td>18.000000</td>\n",
       "      <td>1.000000</td>\n",
       "      <td>1.000000</td>\n",
       "      <td>1.000000</td>\n",
       "      <td>1.000000</td>\n",
       "      <td>12.000000</td>\n",
       "      <td>13.000000</td>\n",
       "      <td>1.000000</td>\n",
       "      <td>76.000000</td>\n",
       "      <td>28.884615</td>\n",
       "      <td>25.916666</td>\n",
       "      <td>168.000000</td>\n",
       "      <td>104.000000</td>\n",
       "      <td>5.263916</td>\n",
       "    </tr>\n",
       "  </tbody>\n",
       "</table>\n",
       "</div>"
      ],
      "text/plain": [
       "             idcode          year      birth_yr           age           msp  \\\n",
       "count  28534.000000  28534.000000  28534.000000  28510.000000  28518.000000   \n",
       "mean    2601.284292     77.958646     48.085091     29.045107      0.602917   \n",
       "std     1487.358947      6.383879      3.012837      6.700584      0.489302   \n",
       "min        1.000000     68.000000     41.000000     14.000000      0.000000   \n",
       "25%     1327.000000     72.000000     46.000000     23.000000      0.000000   \n",
       "50%     2606.000000     78.000000     48.000000     28.000000      1.000000   \n",
       "75%     3881.000000     83.000000     51.000000     34.000000      1.000000   \n",
       "max     5159.000000     88.000000     54.000000     46.000000      1.000000   \n",
       "\n",
       "            nev_mar         grade      collgrad      not_smsa        c_city  \\\n",
       "count  28518.000000  28532.000000  28534.000000  28526.000000  28526.000000   \n",
       "mean       0.229680     12.532595      0.168045      0.282444      0.357218   \n",
       "std        0.420634      2.323905      0.373913      0.450196      0.479188   \n",
       "min        0.000000      0.000000      0.000000      0.000000      0.000000   \n",
       "25%        0.000000     12.000000      0.000000      0.000000      0.000000   \n",
       "50%        0.000000     12.000000      0.000000      0.000000      0.000000   \n",
       "75%        0.000000     14.000000      0.000000      1.000000      1.000000   \n",
       "max        1.000000     18.000000      1.000000      1.000000      1.000000   \n",
       "\n",
       "              south      ind_code      occ_code         union        wks_ue  \\\n",
       "count  28526.000000  28193.000000  28413.000000  19238.000000  22830.000000   \n",
       "mean       0.409556      7.692973      4.777672      0.234432      2.548095   \n",
       "std        0.491761      2.994025      3.065435      0.423654      7.294463   \n",
       "min        0.000000      1.000000      1.000000      0.000000      0.000000   \n",
       "25%        0.000000      5.000000      3.000000      0.000000      0.000000   \n",
       "50%        0.000000      7.000000      3.000000      0.000000      0.000000   \n",
       "75%        1.000000     11.000000      6.000000      0.000000      0.000000   \n",
       "max        1.000000     12.000000     13.000000      1.000000     76.000000   \n",
       "\n",
       "            ttl_exp        tenure         hours      wks_work       ln_wage  \n",
       "count  28534.000000  28101.000000  28467.000000  27831.000000  28534.000000  \n",
       "mean       6.215316      3.123836     36.559560     53.989328      1.674907  \n",
       "std        4.652117      3.751409      9.869623     29.032325      0.478093  \n",
       "min        0.000000      0.000000      1.000000      0.000000      0.000000  \n",
       "25%        2.461539      0.500000     35.000000     36.000000      1.361496  \n",
       "50%        5.057693      1.666667     40.000000     52.000000      1.640541  \n",
       "75%        9.128204      4.166667     40.000000     72.000000      1.964083  \n",
       "max       28.884615     25.916666    168.000000    104.000000      5.263916  "
      ]
     },
     "execution_count": 126,
     "metadata": {},
     "output_type": "execute_result"
    }
   ],
   "source": [
    "df.describe()"
   ]
  },
  {
   "cell_type": "code",
   "execution_count": 127,
   "metadata": {},
   "outputs": [
    {
     "data": {
      "text/plain": [
       "(array([ 135., 2670., 4379., 4616., 3818., 4720., 3543., 2594., 1442.,\n",
       "         593.]),\n",
       " array([14. , 17.2, 20.4, 23.6, 26.8, 30. , 33.2, 36.4, 39.6, 42.8, 46. ]),\n",
       " <BarContainer object of 10 artists>)"
      ]
     },
     "execution_count": 127,
     "metadata": {},
     "output_type": "execute_result"
    },
    {
     "data": {
      "image/png": "[encoded data removed]",
      "text/plain": [
       "<Figure size 432x288 with 1 Axes>"
      ]
     },
     "metadata": {},
     "output_type": "display_data"
    }
   ],
   "source": [
    "plt.hist(df.age)"
   ]
  },
  {
   "cell_type": "code",
   "execution_count": 128,
   "metadata": {},
   "outputs": [
    {
     "data": {
      "text/plain": [
       "<AxesSubplot:xlabel='age', ylabel='Density'>"
      ]
     },
     "execution_count": 128,
     "metadata": {},
     "output_type": "execute_result"
    },
    {
     "data": {
      "image/png": "[encoded data removed]",
      "text/plain": [
       "<Figure size 432x288 with 1 Axes>"
      ]
     },
     "metadata": {},
     "output_type": "display_data"
    }
   ],
   "source": [
    "sns.kdeplot(df.age)"
   ]
  },
  {
   "cell_type": "code",
   "execution_count": 129,
   "metadata": {},
   "outputs": [
    {
     "name": "stdout",
     "output_type": "stream",
     "text": [
      "Current Time = 14:20:33\n",
      "01-05-21. 05 Jan 2021 is a Tuesday on the 05 day of January.\n"
     ]
    }
   ],
   "source": [
    "from datetime import datetime,date\n",
    "\n",
    "now = datetime.now()\n",
    "\n",
    "current_time = now.strftime(\"%H:%M:%S\")\n",
    "print(\"Current Time =\", current_time)\n",
    "\n",
    "print(now.strftime(\"%m-%d-%y. %d %b %Y is a %A on the %d day of %B.\"))"
   ]
  },
  {
   "cell_type": "code",
   "execution_count": 130,
   "metadata": {},
   "outputs": [
    {
     "name": "stdout",
     "output_type": "stream",
     "text": [
      "Finished!!!\n"
     ]
    }
   ],
   "source": [
    "print('Finished!!!')"
   ]
  },
  {
   "cell_type": "markdown",
   "metadata": {},
   "source": [
    "# Web Scraping\n",
    "\n",
    "Check the following [example](https://realpython.com/python-web-scraping-practical-introduction/)."
   ]
  },
  {
   "cell_type": "code",
   "execution_count": 131,
   "metadata": {},
   "outputs": [],
   "source": [
    "from urllib.request import urlopen"
   ]
  },
  {
   "cell_type": "code",
   "execution_count": 132,
   "metadata": {},
   "outputs": [],
   "source": [
    "url = \"http://olympus.realpython.org/profiles/aphrodite\""
   ]
  },
  {
   "cell_type": "code",
   "execution_count": 133,
   "metadata": {},
   "outputs": [],
   "source": [
    "page = urlopen(url)"
   ]
  },
  {
   "cell_type": "code",
   "execution_count": 134,
   "metadata": {},
   "outputs": [
    {
     "data": {
      "text/plain": [
       "<http.client.HTTPResponse at 0x21853e50a60>"
      ]
     },
     "execution_count": 134,
     "metadata": {},
     "output_type": "execute_result"
    }
   ],
   "source": [
    "page"
   ]
  },
  {
   "cell_type": "code",
   "execution_count": 135,
   "metadata": {},
   "outputs": [],
   "source": [
    "html_bytes = page.read()\n",
    "html = html_bytes.decode(\"utf-8\")"
   ]
  },
  {
   "cell_type": "code",
   "execution_count": 136,
   "metadata": {},
   "outputs": [
    {
     "name": "stdout",
     "output_type": "stream",
     "text": [
      "<html>\n",
      "<head>\n",
      "<title>Profile: Aphrodite</title>\n",
      "</head>\n",
      "<body bgcolor=\"yellow\">\n",
      "<center>\n",
      "<br><br>\n",
      "<img src=\"/static/aphrodite.gif\" />\n",
      "<h2>Name: Aphrodite</h2>\n",
      "<br><br>\n",
      "Favorite animal: Dove\n",
      "<br><br>\n",
      "Favorite color: Red\n",
      "<br><br>\n",
      "Hometown: Mount Olympus\n",
      "</center>\n",
      "</body>\n",
      "</html>\n",
      "\n"
     ]
    }
   ],
   "source": [
    "print(html)"
   ]
  },
  {
   "cell_type": "code",
   "execution_count": 137,
   "metadata": {},
   "outputs": [
    {
     "data": {
      "image/png": "[encoded data removed]",
      "text/latex": [
       "$\\displaystyle 14$"
      ],
      "text/plain": [
       "14"
      ]
     },
     "execution_count": 137,
     "metadata": {},
     "output_type": "execute_result"
    }
   ],
   "source": [
    "title_index = html.find(\"<title>\")\n",
    "title_index"
   ]
  },
  {
   "cell_type": "code",
   "execution_count": 138,
   "metadata": {},
   "outputs": [
    {
     "data": {
      "image/png": "[encoded data removed]",
      "text/latex": [
       "$\\displaystyle 21$"
      ],
      "text/plain": [
       "21"
      ]
     },
     "execution_count": 138,
     "metadata": {},
     "output_type": "execute_result"
    }
   ],
   "source": [
    "start_index = title_index + len(\"<title>\")\n",
    "start_index"
   ]
  },
  {
   "cell_type": "code",
   "execution_count": 139,
   "metadata": {},
   "outputs": [
    {
     "data": {
      "image/png": "[encoded data removed]",
      "text/latex": [
       "$\\displaystyle 39$"
      ],
      "text/plain": [
       "39"
      ]
     },
     "execution_count": 139,
     "metadata": {},
     "output_type": "execute_result"
    }
   ],
   "source": [
    "end_index = html.find(\"</title>\")\n",
    "end_index"
   ]
  },
  {
   "cell_type": "code",
   "execution_count": 140,
   "metadata": {},
   "outputs": [
    {
     "data": {
      "text/plain": [
       "'Profile: Aphrodite'"
      ]
     },
     "execution_count": 140,
     "metadata": {},
     "output_type": "execute_result"
    }
   ],
   "source": [
    "title = html[start_index:end_index]\n",
    "title"
   ]
  },
  {
   "cell_type": "code",
   "execution_count": 141,
   "metadata": {},
   "outputs": [],
   "source": [
    "url = \"http://olympus.realpython.org/profiles/poseidon\""
   ]
  },
  {
   "cell_type": "code",
   "execution_count": 142,
   "metadata": {},
   "outputs": [
    {
     "data": {
      "text/plain": [
       "'\\n<head>\\n<title >Profile: Poseidon'"
      ]
     },
     "execution_count": 142,
     "metadata": {},
     "output_type": "execute_result"
    }
   ],
   "source": [
    "url = \"http://olympus.realpython.org/profiles/poseidon\"\n",
    "page = urlopen(url)\n",
    "html = page.read().decode(\"utf-8\")\n",
    "start_index = html.find(\"<title>\") + len(\"<title>\")\n",
    "end_index = html.find(\"</title>\")\n",
    "title = html[start_index:end_index]\n",
    "title"
   ]
  },
  {
   "cell_type": "code",
   "execution_count": 143,
   "metadata": {},
   "outputs": [],
   "source": [
    "import re"
   ]
  },
  {
   "cell_type": "code",
   "execution_count": 144,
   "metadata": {},
   "outputs": [
    {
     "data": {
      "text/plain": [
       "['ac']"
      ]
     },
     "execution_count": 144,
     "metadata": {},
     "output_type": "execute_result"
    }
   ],
   "source": [
    "re.findall(\"ab*c\", \"ac\")"
   ]
  },
  {
   "cell_type": "code",
   "execution_count": 145,
   "metadata": {},
   "outputs": [
    {
     "data": {
      "image/png": "[encoded data removed]",
      "text/latex": [
       "$\\displaystyle \\left[ \\right]$"
      ],
      "text/plain": [
       "[]"
      ]
     },
     "execution_count": 145,
     "metadata": {},
     "output_type": "execute_result"
    }
   ],
   "source": [
    "re.findall(\"ab*c\", \"abcd\")\n",
    "re.findall(\"ab*c\", \"acc\")\n",
    "re.findall(\"ab*c\", \"abcac\")\n",
    "re.findall(\"ab*c\", \"abdc\")"
   ]
  },
  {
   "cell_type": "code",
   "execution_count": 146,
   "metadata": {},
   "outputs": [
    {
     "data": {
      "text/plain": [
       "['ABC']"
      ]
     },
     "execution_count": 146,
     "metadata": {},
     "output_type": "execute_result"
    }
   ],
   "source": [
    "re.findall(\"ab*c\", \"ABC\")\n",
    "re.findall(\"ab*c\", \"ABC\", re.IGNORECASE)"
   ]
  },
  {
   "cell_type": "code",
   "execution_count": 147,
   "metadata": {},
   "outputs": [
    {
     "data": {
      "text/plain": [
       "['acc']"
      ]
     },
     "execution_count": 147,
     "metadata": {},
     "output_type": "execute_result"
    }
   ],
   "source": [
    "re.findall(\"a.c\", \"abc\")\n",
    "re.findall(\"a.c\", \"abbc\")\n",
    "re.findall(\"a.c\", \"ac\")\n",
    "re.findall(\"a.c\", \"acc\")"
   ]
  },
  {
   "cell_type": "code",
   "execution_count": 148,
   "metadata": {},
   "outputs": [
    {
     "data": {
      "text/plain": [
       "['acc']"
      ]
     },
     "execution_count": 148,
     "metadata": {},
     "output_type": "execute_result"
    }
   ],
   "source": [
    "re.findall(\"a.*c\", \"abc\")\n",
    "re.findall(\"a.*c\", \"abbc\")\n",
    "re.findall(\"a.*c\", \"ac\")\n",
    "re.findall(\"a.*c\", \"acc\")"
   ]
  },
  {
   "cell_type": "code",
   "execution_count": 149,
   "metadata": {},
   "outputs": [
    {
     "data": {
      "text/plain": [
       "'ABC'"
      ]
     },
     "execution_count": 149,
     "metadata": {},
     "output_type": "execute_result"
    }
   ],
   "source": [
    "match_results = re.search(\"ab*c\", \"ABC\", re.IGNORECASE)\n",
    "match_results.group()"
   ]
  },
  {
   "cell_type": "code",
   "execution_count": 150,
   "metadata": {},
   "outputs": [
    {
     "data": {
      "text/plain": [
       "'Everything is ELEPHANTS.'"
      ]
     },
     "execution_count": 150,
     "metadata": {},
     "output_type": "execute_result"
    }
   ],
   "source": [
    "string = \"Everything is <replaced> if it's in <tags>.\"\n",
    "string = re.sub(\"<.*>\", \"ELEPHANTS\", string)\n",
    "string"
   ]
  },
  {
   "cell_type": "code",
   "execution_count": 151,
   "metadata": {},
   "outputs": [
    {
     "data": {
      "text/plain": [
       "\"Everything is ELEPHANTS if it's in ELEPHANTS.\""
      ]
     },
     "execution_count": 151,
     "metadata": {},
     "output_type": "execute_result"
    }
   ],
   "source": [
    "string = \"Everything is <replaced> if it's in <tags>.\"\n",
    "string = re.sub(\"<.*?>\", \"ELEPHANTS\", string)\n",
    "string"
   ]
  },
  {
   "cell_type": "code",
   "execution_count": 152,
   "metadata": {},
   "outputs": [
    {
     "name": "stdout",
     "output_type": "stream",
     "text": [
      "Profile: Dionysus\n"
     ]
    }
   ],
   "source": [
    "import re\n",
    "from urllib.request import urlopen\n",
    "\n",
    "url = \"http://olympus.realpython.org/profiles/dionysus\"\n",
    "page = urlopen(url)\n",
    "html = page.read().decode(\"utf-8\")\n",
    "\n",
    "pattern = \"<title.*?>.*?</title.*?>\"\n",
    "match_results = re.search(pattern, html, re.IGNORECASE)\n",
    "title = match_results.group()\n",
    "title = re.sub(\"<.*?>\", \"\", title) # Remove HTML tags\n",
    "\n",
    "print(title)"
   ]
  },
  {
   "cell_type": "code",
   "execution_count": 153,
   "metadata": {},
   "outputs": [
    {
     "name": "stdout",
     "output_type": "stream",
     "text": [
      "Requirement already satisfied: beautifulsoup4 in c:\\python39\\lib\\site-packages (4.9.3)\n",
      "Requirement already satisfied: soupsieve>1.2 in c:\\python39\\lib\\site-packages (from beautifulsoup4) (2.1)\n"
     ]
    }
   ],
   "source": [
    "!pip install beautifulsoup4"
   ]
  },
  {
   "cell_type": "code",
   "execution_count": 154,
   "metadata": {},
   "outputs": [
    {
     "name": "stdout",
     "output_type": "stream",
     "text": [
      "Name: beautifulsoup4\n",
      "Version: 4.9.3\n",
      "Summary: Screen-scraping library\n",
      "Home-page: http://www.crummy.com/software/BeautifulSoup/bs4/\n",
      "Author: Leonard Richardson\n",
      "Author-email: leonardr@segfault.org\n",
      "License: MIT\n",
      "Location: c:\\python39\\lib\\site-packages\n",
      "Requires: soupsieve\n",
      "Required-by: MechanicalSoup\n"
     ]
    }
   ],
   "source": [
    "!pip show beautifulsoup4"
   ]
  },
  {
   "cell_type": "code",
   "execution_count": 155,
   "metadata": {},
   "outputs": [],
   "source": [
    "from bs4 import BeautifulSoup\n",
    "from urllib.request import urlopen\n",
    "\n",
    "url = \"http://olympus.realpython.org/profiles/dionysus\"\n",
    "page = urlopen(url)\n",
    "html = page.read().decode(\"utf-8\")\n",
    "soup = BeautifulSoup(html, \"html.parser\")"
   ]
  },
  {
   "cell_type": "code",
   "execution_count": 156,
   "metadata": {},
   "outputs": [
    {
     "name": "stdout",
     "output_type": "stream",
     "text": [
      "\n",
      "\n",
      "Profile: Dionysus\n",
      "\n",
      "\n",
      "\n",
      "\n",
      "\n",
      "Name: Dionysus\n",
      "\n",
      "Hometown: Mount Olympus\n",
      "\n",
      "Favorite animal: Leopard \n",
      "\n",
      "Favorite Color: Wine\n",
      "\n",
      "\n",
      "\n",
      "\n"
     ]
    }
   ],
   "source": [
    "print(soup.get_text())"
   ]
  },
  {
   "cell_type": "code",
   "execution_count": 157,
   "metadata": {},
   "outputs": [
    {
     "ename": "TypeError",
     "evalue": "'NoneType' object is not callable",
     "output_type": "error",
     "traceback": [
      "\u001b[1;31m---------------------------------------------------------------------------\u001b[0m",
      "\u001b[1;31mTypeError\u001b[0m                                 Traceback (most recent call last)",
      "\u001b[1;32mc:\\python39\\lib\\site-packages\\IPython\\core\\formatters.py\u001b[0m in \u001b[0;36m__call__\u001b[1;34m(self, obj)\u001b[0m\n\u001b[0;32m    700\u001b[0m                 \u001b[0mtype_pprinters\u001b[0m\u001b[1;33m=\u001b[0m\u001b[0mself\u001b[0m\u001b[1;33m.\u001b[0m\u001b[0mtype_printers\u001b[0m\u001b[1;33m,\u001b[0m\u001b[1;33m\u001b[0m\u001b[1;33m\u001b[0m\u001b[0m\n\u001b[0;32m    701\u001b[0m                 deferred_pprinters=self.deferred_printers)\n\u001b[1;32m--> 702\u001b[1;33m             \u001b[0mprinter\u001b[0m\u001b[1;33m.\u001b[0m\u001b[0mpretty\u001b[0m\u001b[1;33m(\u001b[0m\u001b[0mobj\u001b[0m\u001b[1;33m)\u001b[0m\u001b[1;33m\u001b[0m\u001b[1;33m\u001b[0m\u001b[0m\n\u001b[0m\u001b[0;32m    703\u001b[0m             \u001b[0mprinter\u001b[0m\u001b[1;33m.\u001b[0m\u001b[0mflush\u001b[0m\u001b[1;33m(\u001b[0m\u001b[1;33m)\u001b[0m\u001b[1;33m\u001b[0m\u001b[1;33m\u001b[0m\u001b[0m\n\u001b[0;32m    704\u001b[0m             \u001b[1;32mreturn\u001b[0m \u001b[0mstream\u001b[0m\u001b[1;33m.\u001b[0m\u001b[0mgetvalue\u001b[0m\u001b[1;33m(\u001b[0m\u001b[1;33m)\u001b[0m\u001b[1;33m\u001b[0m\u001b[1;33m\u001b[0m\u001b[0m\n",
      "\u001b[1;32mc:\\python39\\lib\\site-packages\\IPython\\lib\\pretty.py\u001b[0m in \u001b[0;36mpretty\u001b[1;34m(self, obj)\u001b[0m\n\u001b[0;32m    375\u001b[0m                 \u001b[1;32mif\u001b[0m \u001b[0mcls\u001b[0m \u001b[1;32min\u001b[0m \u001b[0mself\u001b[0m\u001b[1;33m.\u001b[0m\u001b[0mtype_pprinters\u001b[0m\u001b[1;33m:\u001b[0m\u001b[1;33m\u001b[0m\u001b[1;33m\u001b[0m\u001b[0m\n\u001b[0;32m    376\u001b[0m                     \u001b[1;31m# printer registered in self.type_pprinters\u001b[0m\u001b[1;33m\u001b[0m\u001b[1;33m\u001b[0m\u001b[1;33m\u001b[0m\u001b[0m\n\u001b[1;32m--> 377\u001b[1;33m                     \u001b[1;32mreturn\u001b[0m \u001b[0mself\u001b[0m\u001b[1;33m.\u001b[0m\u001b[0mtype_pprinters\u001b[0m\u001b[1;33m[\u001b[0m\u001b[0mcls\u001b[0m\u001b[1;33m]\u001b[0m\u001b[1;33m(\u001b[0m\u001b[0mobj\u001b[0m\u001b[1;33m,\u001b[0m \u001b[0mself\u001b[0m\u001b[1;33m,\u001b[0m \u001b[0mcycle\u001b[0m\u001b[1;33m)\u001b[0m\u001b[1;33m\u001b[0m\u001b[1;33m\u001b[0m\u001b[0m\n\u001b[0m\u001b[0;32m    378\u001b[0m                 \u001b[1;32melse\u001b[0m\u001b[1;33m:\u001b[0m\u001b[1;33m\u001b[0m\u001b[1;33m\u001b[0m\u001b[0m\n\u001b[0;32m    379\u001b[0m                     \u001b[1;31m# deferred printer\u001b[0m\u001b[1;33m\u001b[0m\u001b[1;33m\u001b[0m\u001b[1;33m\u001b[0m\u001b[0m\n",
      "\u001b[1;32mc:\\python39\\lib\\site-packages\\sympy\\interactive\\printing.py\u001b[0m in \u001b[0;36m_print_plain\u001b[1;34m(arg, p, cycle)\u001b[0m\n\u001b[0;32m     88\u001b[0m         \u001b[1;34m\"\"\"caller for pretty, for use in IPython 0.11\"\"\"\u001b[0m\u001b[1;33m\u001b[0m\u001b[1;33m\u001b[0m\u001b[0m\n\u001b[0;32m     89\u001b[0m         \u001b[1;32mif\u001b[0m \u001b[0m_can_print\u001b[0m\u001b[1;33m(\u001b[0m\u001b[0marg\u001b[0m\u001b[1;33m)\u001b[0m\u001b[1;33m:\u001b[0m\u001b[1;33m\u001b[0m\u001b[1;33m\u001b[0m\u001b[0m\n\u001b[1;32m---> 90\u001b[1;33m             \u001b[0mp\u001b[0m\u001b[1;33m.\u001b[0m\u001b[0mtext\u001b[0m\u001b[1;33m(\u001b[0m\u001b[0mstringify_func\u001b[0m\u001b[1;33m(\u001b[0m\u001b[0marg\u001b[0m\u001b[1;33m)\u001b[0m\u001b[1;33m)\u001b[0m\u001b[1;33m\u001b[0m\u001b[1;33m\u001b[0m\u001b[0m\n\u001b[0m\u001b[0;32m     91\u001b[0m         \u001b[1;32melse\u001b[0m\u001b[1;33m:\u001b[0m\u001b[1;33m\u001b[0m\u001b[1;33m\u001b[0m\u001b[0m\n\u001b[0;32m     92\u001b[0m             \u001b[0mp\u001b[0m\u001b[1;33m.\u001b[0m\u001b[0mtext\u001b[0m\u001b[1;33m(\u001b[0m\u001b[0mIPython\u001b[0m\u001b[1;33m.\u001b[0m\u001b[0mlib\u001b[0m\u001b[1;33m.\u001b[0m\u001b[0mpretty\u001b[0m\u001b[1;33m.\u001b[0m\u001b[0mpretty\u001b[0m\u001b[1;33m(\u001b[0m\u001b[0marg\u001b[0m\u001b[1;33m)\u001b[0m\u001b[1;33m)\u001b[0m\u001b[1;33m\u001b[0m\u001b[1;33m\u001b[0m\u001b[0m\n",
      "\u001b[1;32mc:\\python39\\lib\\site-packages\\sympy\\printing\\printer.py\u001b[0m in \u001b[0;36m__call__\u001b[1;34m(self, *args, **kwargs)\u001b[0m\n\u001b[0;32m    371\u001b[0m \u001b[1;33m\u001b[0m\u001b[0m\n\u001b[0;32m    372\u001b[0m     \u001b[1;32mdef\u001b[0m \u001b[0m__call__\u001b[0m\u001b[1;33m(\u001b[0m\u001b[0mself\u001b[0m\u001b[1;33m,\u001b[0m \u001b[1;33m*\u001b[0m\u001b[0margs\u001b[0m\u001b[1;33m,\u001b[0m \u001b[1;33m**\u001b[0m\u001b[0mkwargs\u001b[0m\u001b[1;33m)\u001b[0m\u001b[1;33m:\u001b[0m\u001b[1;33m\u001b[0m\u001b[1;33m\u001b[0m\u001b[0m\n\u001b[1;32m--> 373\u001b[1;33m         \u001b[1;32mreturn\u001b[0m \u001b[0mself\u001b[0m\u001b[1;33m.\u001b[0m\u001b[0m__wrapped__\u001b[0m\u001b[1;33m(\u001b[0m\u001b[1;33m*\u001b[0m\u001b[0margs\u001b[0m\u001b[1;33m,\u001b[0m \u001b[1;33m**\u001b[0m\u001b[0mkwargs\u001b[0m\u001b[1;33m)\u001b[0m\u001b[1;33m\u001b[0m\u001b[1;33m\u001b[0m\u001b[0m\n\u001b[0m\u001b[0;32m    374\u001b[0m \u001b[1;33m\u001b[0m\u001b[0m\n\u001b[0;32m    375\u001b[0m     \u001b[1;33m@\u001b[0m\u001b[0mproperty\u001b[0m\u001b[1;33m\u001b[0m\u001b[1;33m\u001b[0m\u001b[0m\n",
      "\u001b[1;32mc:\\python39\\lib\\site-packages\\sympy\\printing\\pretty\\pretty.py\u001b[0m in \u001b[0;36mpretty\u001b[1;34m(expr, **settings)\u001b[0m\n\u001b[0;32m   2729\u001b[0m \u001b[1;33m\u001b[0m\u001b[0m\n\u001b[0;32m   2730\u001b[0m     \u001b[1;32mtry\u001b[0m\u001b[1;33m:\u001b[0m\u001b[1;33m\u001b[0m\u001b[1;33m\u001b[0m\u001b[0m\n\u001b[1;32m-> 2731\u001b[1;33m         \u001b[1;32mreturn\u001b[0m \u001b[0mpp\u001b[0m\u001b[1;33m.\u001b[0m\u001b[0mdoprint\u001b[0m\u001b[1;33m(\u001b[0m\u001b[0mexpr\u001b[0m\u001b[1;33m)\u001b[0m\u001b[1;33m\u001b[0m\u001b[1;33m\u001b[0m\u001b[0m\n\u001b[0m\u001b[0;32m   2732\u001b[0m     \u001b[1;32mfinally\u001b[0m\u001b[1;33m:\u001b[0m\u001b[1;33m\u001b[0m\u001b[1;33m\u001b[0m\u001b[0m\n\u001b[0;32m   2733\u001b[0m         \u001b[0mpretty_use_unicode\u001b[0m\u001b[1;33m(\u001b[0m\u001b[0muflag\u001b[0m\u001b[1;33m)\u001b[0m\u001b[1;33m\u001b[0m\u001b[1;33m\u001b[0m\u001b[0m\n",
      "\u001b[1;32mc:\\python39\\lib\\site-packages\\sympy\\printing\\pretty\\pretty.py\u001b[0m in \u001b[0;36mdoprint\u001b[1;34m(self, expr)\u001b[0m\n\u001b[0;32m     63\u001b[0m \u001b[1;33m\u001b[0m\u001b[0m\n\u001b[0;32m     64\u001b[0m     \u001b[1;32mdef\u001b[0m \u001b[0mdoprint\u001b[0m\u001b[1;33m(\u001b[0m\u001b[0mself\u001b[0m\u001b[1;33m,\u001b[0m \u001b[0mexpr\u001b[0m\u001b[1;33m)\u001b[0m\u001b[1;33m:\u001b[0m\u001b[1;33m\u001b[0m\u001b[1;33m\u001b[0m\u001b[0m\n\u001b[1;32m---> 65\u001b[1;33m         \u001b[1;32mreturn\u001b[0m \u001b[0mself\u001b[0m\u001b[1;33m.\u001b[0m\u001b[0m_print\u001b[0m\u001b[1;33m(\u001b[0m\u001b[0mexpr\u001b[0m\u001b[1;33m)\u001b[0m\u001b[1;33m.\u001b[0m\u001b[0mrender\u001b[0m\u001b[1;33m(\u001b[0m\u001b[1;33m**\u001b[0m\u001b[0mself\u001b[0m\u001b[1;33m.\u001b[0m\u001b[0m_settings\u001b[0m\u001b[1;33m)\u001b[0m\u001b[1;33m\u001b[0m\u001b[1;33m\u001b[0m\u001b[0m\n\u001b[0m\u001b[0;32m     66\u001b[0m \u001b[1;33m\u001b[0m\u001b[0m\n\u001b[0;32m     67\u001b[0m     \u001b[1;31m# empty op so _print(stringPict) returns the same\u001b[0m\u001b[1;33m\u001b[0m\u001b[1;33m\u001b[0m\u001b[1;33m\u001b[0m\u001b[0m\n",
      "\u001b[1;32mc:\\python39\\lib\\site-packages\\sympy\\printing\\printer.py\u001b[0m in \u001b[0;36m_print\u001b[1;34m(self, expr, **kwargs)\u001b[0m\n\u001b[0;32m    327\u001b[0m                 \u001b[0mprintmethod\u001b[0m \u001b[1;33m=\u001b[0m \u001b[1;34m'_print_'\u001b[0m \u001b[1;33m+\u001b[0m \u001b[0mcls\u001b[0m\u001b[1;33m.\u001b[0m\u001b[0m__name__\u001b[0m\u001b[1;33m\u001b[0m\u001b[1;33m\u001b[0m\u001b[0m\n\u001b[0;32m    328\u001b[0m                 \u001b[1;32mif\u001b[0m \u001b[0mhasattr\u001b[0m\u001b[1;33m(\u001b[0m\u001b[0mself\u001b[0m\u001b[1;33m,\u001b[0m \u001b[0mprintmethod\u001b[0m\u001b[1;33m)\u001b[0m\u001b[1;33m:\u001b[0m\u001b[1;33m\u001b[0m\u001b[1;33m\u001b[0m\u001b[0m\n\u001b[1;32m--> 329\u001b[1;33m                     \u001b[1;32mreturn\u001b[0m \u001b[0mgetattr\u001b[0m\u001b[1;33m(\u001b[0m\u001b[0mself\u001b[0m\u001b[1;33m,\u001b[0m \u001b[0mprintmethod\u001b[0m\u001b[1;33m)\u001b[0m\u001b[1;33m(\u001b[0m\u001b[0mexpr\u001b[0m\u001b[1;33m,\u001b[0m \u001b[1;33m**\u001b[0m\u001b[0mkwargs\u001b[0m\u001b[1;33m)\u001b[0m\u001b[1;33m\u001b[0m\u001b[1;33m\u001b[0m\u001b[0m\n\u001b[0m\u001b[0;32m    330\u001b[0m             \u001b[1;31m# Unknown object, fall back to the emptyPrinter.\u001b[0m\u001b[1;33m\u001b[0m\u001b[1;33m\u001b[0m\u001b[1;33m\u001b[0m\u001b[0m\n\u001b[0;32m    331\u001b[0m             \u001b[1;32mreturn\u001b[0m \u001b[0mself\u001b[0m\u001b[1;33m.\u001b[0m\u001b[0memptyPrinter\u001b[0m\u001b[1;33m(\u001b[0m\u001b[0mexpr\u001b[0m\u001b[1;33m)\u001b[0m\u001b[1;33m\u001b[0m\u001b[1;33m\u001b[0m\u001b[0m\n",
      "\u001b[1;32mc:\\python39\\lib\\site-packages\\sympy\\printing\\pretty\\pretty.py\u001b[0m in \u001b[0;36m_print_list\u001b[1;34m(self, l)\u001b[0m\n\u001b[0;32m   2259\u001b[0m \u001b[1;33m\u001b[0m\u001b[0m\n\u001b[0;32m   2260\u001b[0m     \u001b[1;32mdef\u001b[0m \u001b[0m_print_list\u001b[0m\u001b[1;33m(\u001b[0m\u001b[0mself\u001b[0m\u001b[1;33m,\u001b[0m \u001b[0ml\u001b[0m\u001b[1;33m)\u001b[0m\u001b[1;33m:\u001b[0m\u001b[1;33m\u001b[0m\u001b[1;33m\u001b[0m\u001b[0m\n\u001b[1;32m-> 2261\u001b[1;33m         \u001b[1;32mreturn\u001b[0m \u001b[0mself\u001b[0m\u001b[1;33m.\u001b[0m\u001b[0m_print_seq\u001b[0m\u001b[1;33m(\u001b[0m\u001b[0ml\u001b[0m\u001b[1;33m,\u001b[0m \u001b[1;34m'['\u001b[0m\u001b[1;33m,\u001b[0m \u001b[1;34m']'\u001b[0m\u001b[1;33m)\u001b[0m\u001b[1;33m\u001b[0m\u001b[1;33m\u001b[0m\u001b[0m\n\u001b[0m\u001b[0;32m   2262\u001b[0m \u001b[1;33m\u001b[0m\u001b[0m\n\u001b[0;32m   2263\u001b[0m     \u001b[1;32mdef\u001b[0m \u001b[0m_print_tuple\u001b[0m\u001b[1;33m(\u001b[0m\u001b[0mself\u001b[0m\u001b[1;33m,\u001b[0m \u001b[0mt\u001b[0m\u001b[1;33m)\u001b[0m\u001b[1;33m:\u001b[0m\u001b[1;33m\u001b[0m\u001b[1;33m\u001b[0m\u001b[0m\n",
      "\u001b[1;32mc:\\python39\\lib\\site-packages\\sympy\\printing\\pretty\\pretty.py\u001b[0m in \u001b[0;36m_print_seq\u001b[1;34m(self, seq, left, right, delimiter, parenthesize)\u001b[0m\n\u001b[0;32m   2206\u001b[0m         \u001b[1;32mtry\u001b[0m\u001b[1;33m:\u001b[0m\u001b[1;33m\u001b[0m\u001b[1;33m\u001b[0m\u001b[0m\n\u001b[0;32m   2207\u001b[0m             \u001b[1;32mfor\u001b[0m \u001b[0mitem\u001b[0m \u001b[1;32min\u001b[0m \u001b[0mseq\u001b[0m\u001b[1;33m:\u001b[0m\u001b[1;33m\u001b[0m\u001b[1;33m\u001b[0m\u001b[0m\n\u001b[1;32m-> 2208\u001b[1;33m                 \u001b[0mpform\u001b[0m \u001b[1;33m=\u001b[0m \u001b[0mself\u001b[0m\u001b[1;33m.\u001b[0m\u001b[0m_print\u001b[0m\u001b[1;33m(\u001b[0m\u001b[0mitem\u001b[0m\u001b[1;33m)\u001b[0m\u001b[1;33m\u001b[0m\u001b[1;33m\u001b[0m\u001b[0m\n\u001b[0m\u001b[0;32m   2209\u001b[0m \u001b[1;33m\u001b[0m\u001b[0m\n\u001b[0;32m   2210\u001b[0m                 \u001b[1;32mif\u001b[0m \u001b[0mparenthesize\u001b[0m\u001b[1;33m(\u001b[0m\u001b[0mitem\u001b[0m\u001b[1;33m)\u001b[0m\u001b[1;33m:\u001b[0m\u001b[1;33m\u001b[0m\u001b[1;33m\u001b[0m\u001b[0m\n",
      "\u001b[1;32mc:\\python39\\lib\\site-packages\\sympy\\printing\\printer.py\u001b[0m in \u001b[0;36m_print\u001b[1;34m(self, expr, **kwargs)\u001b[0m\n\u001b[0;32m    306\u001b[0m             if (self.printmethod and hasattr(expr, self.printmethod)\n\u001b[0;32m    307\u001b[0m                     and not isinstance(expr, BasicMeta)):\n\u001b[1;32m--> 308\u001b[1;33m                 \u001b[1;32mreturn\u001b[0m \u001b[0mgetattr\u001b[0m\u001b[1;33m(\u001b[0m\u001b[0mexpr\u001b[0m\u001b[1;33m,\u001b[0m \u001b[0mself\u001b[0m\u001b[1;33m.\u001b[0m\u001b[0mprintmethod\u001b[0m\u001b[1;33m)\u001b[0m\u001b[1;33m(\u001b[0m\u001b[0mself\u001b[0m\u001b[1;33m,\u001b[0m \u001b[1;33m**\u001b[0m\u001b[0mkwargs\u001b[0m\u001b[1;33m)\u001b[0m\u001b[1;33m\u001b[0m\u001b[1;33m\u001b[0m\u001b[0m\n\u001b[0m\u001b[0;32m    309\u001b[0m \u001b[1;33m\u001b[0m\u001b[0m\n\u001b[0;32m    310\u001b[0m             \u001b[1;31m# See if the class of expr is known, or if one of its super\u001b[0m\u001b[1;33m\u001b[0m\u001b[1;33m\u001b[0m\u001b[1;33m\u001b[0m\u001b[0m\n",
      "\u001b[1;31mTypeError\u001b[0m: 'NoneType' object is not callable"
     ]
    },
    {
     "ename": "TypeError",
     "evalue": "'NoneType' object is not callable",
     "output_type": "error",
     "traceback": [
      "\u001b[1;31m---------------------------------------------------------------------------\u001b[0m",
      "\u001b[1;31mTypeError\u001b[0m                                 Traceback (most recent call last)",
      "\u001b[1;32mc:\\python39\\lib\\site-packages\\IPython\\core\\formatters.py\u001b[0m in \u001b[0;36m__call__\u001b[1;34m(self, obj)\u001b[0m\n\u001b[0;32m    339\u001b[0m                 \u001b[1;32mpass\u001b[0m\u001b[1;33m\u001b[0m\u001b[1;33m\u001b[0m\u001b[0m\n\u001b[0;32m    340\u001b[0m             \u001b[1;32melse\u001b[0m\u001b[1;33m:\u001b[0m\u001b[1;33m\u001b[0m\u001b[1;33m\u001b[0m\u001b[0m\n\u001b[1;32m--> 341\u001b[1;33m                 \u001b[1;32mreturn\u001b[0m \u001b[0mprinter\u001b[0m\u001b[1;33m(\u001b[0m\u001b[0mobj\u001b[0m\u001b[1;33m)\u001b[0m\u001b[1;33m\u001b[0m\u001b[1;33m\u001b[0m\u001b[0m\n\u001b[0m\u001b[0;32m    342\u001b[0m             \u001b[1;31m# Finally look for special method names\u001b[0m\u001b[1;33m\u001b[0m\u001b[1;33m\u001b[0m\u001b[1;33m\u001b[0m\u001b[0m\n\u001b[0;32m    343\u001b[0m             \u001b[0mmethod\u001b[0m \u001b[1;33m=\u001b[0m \u001b[0mget_real_method\u001b[0m\u001b[1;33m(\u001b[0m\u001b[0mobj\u001b[0m\u001b[1;33m,\u001b[0m \u001b[0mself\u001b[0m\u001b[1;33m.\u001b[0m\u001b[0mprint_method\u001b[0m\u001b[1;33m)\u001b[0m\u001b[1;33m\u001b[0m\u001b[1;33m\u001b[0m\u001b[0m\n",
      "\u001b[1;32mc:\\python39\\lib\\site-packages\\sympy\\interactive\\printing.py\u001b[0m in \u001b[0;36m_print_latex_png\u001b[1;34m(o)\u001b[0m\n\u001b[0;32m    184\u001b[0m         \"\"\"\n\u001b[0;32m    185\u001b[0m         \u001b[1;32mif\u001b[0m \u001b[0m_can_print\u001b[0m\u001b[1;33m(\u001b[0m\u001b[0mo\u001b[0m\u001b[1;33m)\u001b[0m\u001b[1;33m:\u001b[0m\u001b[1;33m\u001b[0m\u001b[1;33m\u001b[0m\u001b[0m\n\u001b[1;32m--> 186\u001b[1;33m             \u001b[0ms\u001b[0m \u001b[1;33m=\u001b[0m \u001b[0mlatex\u001b[0m\u001b[1;33m(\u001b[0m\u001b[0mo\u001b[0m\u001b[1;33m,\u001b[0m \u001b[0mmode\u001b[0m\u001b[1;33m=\u001b[0m\u001b[0mlatex_mode\u001b[0m\u001b[1;33m,\u001b[0m \u001b[1;33m**\u001b[0m\u001b[0msettings\u001b[0m\u001b[1;33m)\u001b[0m\u001b[1;33m\u001b[0m\u001b[1;33m\u001b[0m\u001b[0m\n\u001b[0m\u001b[0;32m    187\u001b[0m             \u001b[1;32mif\u001b[0m \u001b[0mlatex_mode\u001b[0m \u001b[1;33m==\u001b[0m \u001b[1;34m'plain'\u001b[0m\u001b[1;33m:\u001b[0m\u001b[1;33m\u001b[0m\u001b[1;33m\u001b[0m\u001b[0m\n\u001b[0;32m    188\u001b[0m                 \u001b[0ms\u001b[0m \u001b[1;33m=\u001b[0m \u001b[1;34m'$\\\\displaystyle %s$'\u001b[0m \u001b[1;33m%\u001b[0m \u001b[0ms\u001b[0m\u001b[1;33m\u001b[0m\u001b[1;33m\u001b[0m\u001b[0m\n",
      "\u001b[1;32mc:\\python39\\lib\\site-packages\\sympy\\printing\\printer.py\u001b[0m in \u001b[0;36m__call__\u001b[1;34m(self, *args, **kwargs)\u001b[0m\n\u001b[0;32m    371\u001b[0m \u001b[1;33m\u001b[0m\u001b[0m\n\u001b[0;32m    372\u001b[0m     \u001b[1;32mdef\u001b[0m \u001b[0m__call__\u001b[0m\u001b[1;33m(\u001b[0m\u001b[0mself\u001b[0m\u001b[1;33m,\u001b[0m \u001b[1;33m*\u001b[0m\u001b[0margs\u001b[0m\u001b[1;33m,\u001b[0m \u001b[1;33m**\u001b[0m\u001b[0mkwargs\u001b[0m\u001b[1;33m)\u001b[0m\u001b[1;33m:\u001b[0m\u001b[1;33m\u001b[0m\u001b[1;33m\u001b[0m\u001b[0m\n\u001b[1;32m--> 373\u001b[1;33m         \u001b[1;32mreturn\u001b[0m \u001b[0mself\u001b[0m\u001b[1;33m.\u001b[0m\u001b[0m__wrapped__\u001b[0m\u001b[1;33m(\u001b[0m\u001b[1;33m*\u001b[0m\u001b[0margs\u001b[0m\u001b[1;33m,\u001b[0m \u001b[1;33m**\u001b[0m\u001b[0mkwargs\u001b[0m\u001b[1;33m)\u001b[0m\u001b[1;33m\u001b[0m\u001b[1;33m\u001b[0m\u001b[0m\n\u001b[0m\u001b[0;32m    374\u001b[0m \u001b[1;33m\u001b[0m\u001b[0m\n\u001b[0;32m    375\u001b[0m     \u001b[1;33m@\u001b[0m\u001b[0mproperty\u001b[0m\u001b[1;33m\u001b[0m\u001b[1;33m\u001b[0m\u001b[0m\n",
      "\u001b[1;32mc:\\python39\\lib\\site-packages\\sympy\\printing\\latex.py\u001b[0m in \u001b[0;36mlatex\u001b[1;34m(expr, **settings)\u001b[0m\n\u001b[0;32m   2913\u001b[0m \u001b[1;33m\u001b[0m\u001b[0m\n\u001b[0;32m   2914\u001b[0m     \"\"\"\n\u001b[1;32m-> 2915\u001b[1;33m     \u001b[1;32mreturn\u001b[0m \u001b[0mLatexPrinter\u001b[0m\u001b[1;33m(\u001b[0m\u001b[0msettings\u001b[0m\u001b[1;33m)\u001b[0m\u001b[1;33m.\u001b[0m\u001b[0mdoprint\u001b[0m\u001b[1;33m(\u001b[0m\u001b[0mexpr\u001b[0m\u001b[1;33m)\u001b[0m\u001b[1;33m\u001b[0m\u001b[1;33m\u001b[0m\u001b[0m\n\u001b[0m\u001b[0;32m   2916\u001b[0m \u001b[1;33m\u001b[0m\u001b[0m\n\u001b[0;32m   2917\u001b[0m \u001b[1;33m\u001b[0m\u001b[0m\n",
      "\u001b[1;32mc:\\python39\\lib\\site-packages\\sympy\\printing\\latex.py\u001b[0m in \u001b[0;36mdoprint\u001b[1;34m(self, expr)\u001b[0m\n\u001b[0;32m    252\u001b[0m \u001b[1;33m\u001b[0m\u001b[0m\n\u001b[0;32m    253\u001b[0m     \u001b[1;32mdef\u001b[0m \u001b[0mdoprint\u001b[0m\u001b[1;33m(\u001b[0m\u001b[0mself\u001b[0m\u001b[1;33m,\u001b[0m \u001b[0mexpr\u001b[0m\u001b[1;33m)\u001b[0m\u001b[1;33m:\u001b[0m\u001b[1;33m\u001b[0m\u001b[1;33m\u001b[0m\u001b[0m\n\u001b[1;32m--> 254\u001b[1;33m         \u001b[0mtex\u001b[0m \u001b[1;33m=\u001b[0m \u001b[0mPrinter\u001b[0m\u001b[1;33m.\u001b[0m\u001b[0mdoprint\u001b[0m\u001b[1;33m(\u001b[0m\u001b[0mself\u001b[0m\u001b[1;33m,\u001b[0m \u001b[0mexpr\u001b[0m\u001b[1;33m)\u001b[0m\u001b[1;33m\u001b[0m\u001b[1;33m\u001b[0m\u001b[0m\n\u001b[0m\u001b[0;32m    255\u001b[0m \u001b[1;33m\u001b[0m\u001b[0m\n\u001b[0;32m    256\u001b[0m         \u001b[1;32mif\u001b[0m \u001b[0mself\u001b[0m\u001b[1;33m.\u001b[0m\u001b[0m_settings\u001b[0m\u001b[1;33m[\u001b[0m\u001b[1;34m'mode'\u001b[0m\u001b[1;33m]\u001b[0m \u001b[1;33m==\u001b[0m \u001b[1;34m'plain'\u001b[0m\u001b[1;33m:\u001b[0m\u001b[1;33m\u001b[0m\u001b[1;33m\u001b[0m\u001b[0m\n",
      "\u001b[1;32mc:\\python39\\lib\\site-packages\\sympy\\printing\\printer.py\u001b[0m in \u001b[0;36mdoprint\u001b[1;34m(self, expr)\u001b[0m\n\u001b[0;32m    289\u001b[0m     \u001b[1;32mdef\u001b[0m \u001b[0mdoprint\u001b[0m\u001b[1;33m(\u001b[0m\u001b[0mself\u001b[0m\u001b[1;33m,\u001b[0m \u001b[0mexpr\u001b[0m\u001b[1;33m)\u001b[0m\u001b[1;33m:\u001b[0m\u001b[1;33m\u001b[0m\u001b[1;33m\u001b[0m\u001b[0m\n\u001b[0;32m    290\u001b[0m         \u001b[1;34m\"\"\"Returns printer's representation for expr (as a string)\"\"\"\u001b[0m\u001b[1;33m\u001b[0m\u001b[1;33m\u001b[0m\u001b[0m\n\u001b[1;32m--> 291\u001b[1;33m         \u001b[1;32mreturn\u001b[0m \u001b[0mself\u001b[0m\u001b[1;33m.\u001b[0m\u001b[0m_str\u001b[0m\u001b[1;33m(\u001b[0m\u001b[0mself\u001b[0m\u001b[1;33m.\u001b[0m\u001b[0m_print\u001b[0m\u001b[1;33m(\u001b[0m\u001b[0mexpr\u001b[0m\u001b[1;33m)\u001b[0m\u001b[1;33m)\u001b[0m\u001b[1;33m\u001b[0m\u001b[1;33m\u001b[0m\u001b[0m\n\u001b[0m\u001b[0;32m    292\u001b[0m \u001b[1;33m\u001b[0m\u001b[0m\n\u001b[0;32m    293\u001b[0m     \u001b[1;32mdef\u001b[0m \u001b[0m_print\u001b[0m\u001b[1;33m(\u001b[0m\u001b[0mself\u001b[0m\u001b[1;33m,\u001b[0m \u001b[0mexpr\u001b[0m\u001b[1;33m,\u001b[0m \u001b[1;33m**\u001b[0m\u001b[0mkwargs\u001b[0m\u001b[1;33m)\u001b[0m\u001b[1;33m:\u001b[0m\u001b[1;33m\u001b[0m\u001b[1;33m\u001b[0m\u001b[0m\n",
      "\u001b[1;32mc:\\python39\\lib\\site-packages\\sympy\\printing\\printer.py\u001b[0m in \u001b[0;36m_print\u001b[1;34m(self, expr, **kwargs)\u001b[0m\n\u001b[0;32m    327\u001b[0m                 \u001b[0mprintmethod\u001b[0m \u001b[1;33m=\u001b[0m \u001b[1;34m'_print_'\u001b[0m \u001b[1;33m+\u001b[0m \u001b[0mcls\u001b[0m\u001b[1;33m.\u001b[0m\u001b[0m__name__\u001b[0m\u001b[1;33m\u001b[0m\u001b[1;33m\u001b[0m\u001b[0m\n\u001b[0;32m    328\u001b[0m                 \u001b[1;32mif\u001b[0m \u001b[0mhasattr\u001b[0m\u001b[1;33m(\u001b[0m\u001b[0mself\u001b[0m\u001b[1;33m,\u001b[0m \u001b[0mprintmethod\u001b[0m\u001b[1;33m)\u001b[0m\u001b[1;33m:\u001b[0m\u001b[1;33m\u001b[0m\u001b[1;33m\u001b[0m\u001b[0m\n\u001b[1;32m--> 329\u001b[1;33m                     \u001b[1;32mreturn\u001b[0m \u001b[0mgetattr\u001b[0m\u001b[1;33m(\u001b[0m\u001b[0mself\u001b[0m\u001b[1;33m,\u001b[0m \u001b[0mprintmethod\u001b[0m\u001b[1;33m)\u001b[0m\u001b[1;33m(\u001b[0m\u001b[0mexpr\u001b[0m\u001b[1;33m,\u001b[0m \u001b[1;33m**\u001b[0m\u001b[0mkwargs\u001b[0m\u001b[1;33m)\u001b[0m\u001b[1;33m\u001b[0m\u001b[1;33m\u001b[0m\u001b[0m\n\u001b[0m\u001b[0;32m    330\u001b[0m             \u001b[1;31m# Unknown object, fall back to the emptyPrinter.\u001b[0m\u001b[1;33m\u001b[0m\u001b[1;33m\u001b[0m\u001b[1;33m\u001b[0m\u001b[0m\n\u001b[0;32m    331\u001b[0m             \u001b[1;32mreturn\u001b[0m \u001b[0mself\u001b[0m\u001b[1;33m.\u001b[0m\u001b[0memptyPrinter\u001b[0m\u001b[1;33m(\u001b[0m\u001b[0mexpr\u001b[0m\u001b[1;33m)\u001b[0m\u001b[1;33m\u001b[0m\u001b[1;33m\u001b[0m\u001b[0m\n",
      "\u001b[1;32mc:\\python39\\lib\\site-packages\\sympy\\printing\\latex.py\u001b[0m in \u001b[0;36m_print_list\u001b[1;34m(self, expr)\u001b[0m\n\u001b[0;32m   1920\u001b[0m         \u001b[1;32melif\u001b[0m \u001b[0mself\u001b[0m\u001b[1;33m.\u001b[0m\u001b[0m_settings\u001b[0m\u001b[1;33m[\u001b[0m\u001b[1;34m'decimal_separator'\u001b[0m\u001b[1;33m]\u001b[0m \u001b[1;33m==\u001b[0m \u001b[1;34m'period'\u001b[0m\u001b[1;33m:\u001b[0m\u001b[1;33m\u001b[0m\u001b[1;33m\u001b[0m\u001b[0m\n\u001b[0;32m   1921\u001b[0m             \u001b[1;32mreturn\u001b[0m \u001b[1;34mr\"\\left[ %s\\right]\"\u001b[0m \u001b[1;33m%\u001b[0m\u001b[0;31m \u001b[0m\u001b[0;31m\\\u001b[0m\u001b[1;33m\u001b[0m\u001b[1;33m\u001b[0m\u001b[0m\n\u001b[1;32m-> 1922\u001b[1;33m                 \u001b[1;34mr\", \\  \"\u001b[0m\u001b[1;33m.\u001b[0m\u001b[0mjoin\u001b[0m\u001b[1;33m(\u001b[0m\u001b[1;33m[\u001b[0m\u001b[0mself\u001b[0m\u001b[1;33m.\u001b[0m\u001b[0m_print\u001b[0m\u001b[1;33m(\u001b[0m\u001b[0mi\u001b[0m\u001b[1;33m)\u001b[0m \u001b[1;32mfor\u001b[0m \u001b[0mi\u001b[0m \u001b[1;32min\u001b[0m \u001b[0mexpr\u001b[0m\u001b[1;33m]\u001b[0m\u001b[1;33m)\u001b[0m\u001b[1;33m\u001b[0m\u001b[1;33m\u001b[0m\u001b[0m\n\u001b[0m\u001b[0;32m   1923\u001b[0m         \u001b[1;32melse\u001b[0m\u001b[1;33m:\u001b[0m\u001b[1;33m\u001b[0m\u001b[1;33m\u001b[0m\u001b[0m\n\u001b[0;32m   1924\u001b[0m             \u001b[1;32mraise\u001b[0m \u001b[0mValueError\u001b[0m\u001b[1;33m(\u001b[0m\u001b[1;34m'Unknown Decimal Separator'\u001b[0m\u001b[1;33m)\u001b[0m\u001b[1;33m\u001b[0m\u001b[1;33m\u001b[0m\u001b[0m\n",
      "\u001b[1;32mc:\\python39\\lib\\site-packages\\sympy\\printing\\latex.py\u001b[0m in \u001b[0;36m<listcomp>\u001b[1;34m(.0)\u001b[0m\n\u001b[0;32m   1920\u001b[0m         \u001b[1;32melif\u001b[0m \u001b[0mself\u001b[0m\u001b[1;33m.\u001b[0m\u001b[0m_settings\u001b[0m\u001b[1;33m[\u001b[0m\u001b[1;34m'decimal_separator'\u001b[0m\u001b[1;33m]\u001b[0m \u001b[1;33m==\u001b[0m \u001b[1;34m'period'\u001b[0m\u001b[1;33m:\u001b[0m\u001b[1;33m\u001b[0m\u001b[1;33m\u001b[0m\u001b[0m\n\u001b[0;32m   1921\u001b[0m             \u001b[1;32mreturn\u001b[0m \u001b[1;34mr\"\\left[ %s\\right]\"\u001b[0m \u001b[1;33m%\u001b[0m\u001b[0;31m \u001b[0m\u001b[0;31m\\\u001b[0m\u001b[1;33m\u001b[0m\u001b[1;33m\u001b[0m\u001b[0m\n\u001b[1;32m-> 1922\u001b[1;33m                 \u001b[1;34mr\", \\  \"\u001b[0m\u001b[1;33m.\u001b[0m\u001b[0mjoin\u001b[0m\u001b[1;33m(\u001b[0m\u001b[1;33m[\u001b[0m\u001b[0mself\u001b[0m\u001b[1;33m.\u001b[0m\u001b[0m_print\u001b[0m\u001b[1;33m(\u001b[0m\u001b[0mi\u001b[0m\u001b[1;33m)\u001b[0m \u001b[1;32mfor\u001b[0m \u001b[0mi\u001b[0m \u001b[1;32min\u001b[0m \u001b[0mexpr\u001b[0m\u001b[1;33m]\u001b[0m\u001b[1;33m)\u001b[0m\u001b[1;33m\u001b[0m\u001b[1;33m\u001b[0m\u001b[0m\n\u001b[0m\u001b[0;32m   1923\u001b[0m         \u001b[1;32melse\u001b[0m\u001b[1;33m:\u001b[0m\u001b[1;33m\u001b[0m\u001b[1;33m\u001b[0m\u001b[0m\n\u001b[0;32m   1924\u001b[0m             \u001b[1;32mraise\u001b[0m \u001b[0mValueError\u001b[0m\u001b[1;33m(\u001b[0m\u001b[1;34m'Unknown Decimal Separator'\u001b[0m\u001b[1;33m)\u001b[0m\u001b[1;33m\u001b[0m\u001b[1;33m\u001b[0m\u001b[0m\n",
      "\u001b[1;32mc:\\python39\\lib\\site-packages\\sympy\\printing\\printer.py\u001b[0m in \u001b[0;36m_print\u001b[1;34m(self, expr, **kwargs)\u001b[0m\n\u001b[0;32m    306\u001b[0m             if (self.printmethod and hasattr(expr, self.printmethod)\n\u001b[0;32m    307\u001b[0m                     and not isinstance(expr, BasicMeta)):\n\u001b[1;32m--> 308\u001b[1;33m                 \u001b[1;32mreturn\u001b[0m \u001b[0mgetattr\u001b[0m\u001b[1;33m(\u001b[0m\u001b[0mexpr\u001b[0m\u001b[1;33m,\u001b[0m \u001b[0mself\u001b[0m\u001b[1;33m.\u001b[0m\u001b[0mprintmethod\u001b[0m\u001b[1;33m)\u001b[0m\u001b[1;33m(\u001b[0m\u001b[0mself\u001b[0m\u001b[1;33m,\u001b[0m \u001b[1;33m**\u001b[0m\u001b[0mkwargs\u001b[0m\u001b[1;33m)\u001b[0m\u001b[1;33m\u001b[0m\u001b[1;33m\u001b[0m\u001b[0m\n\u001b[0m\u001b[0;32m    309\u001b[0m \u001b[1;33m\u001b[0m\u001b[0m\n\u001b[0;32m    310\u001b[0m             \u001b[1;31m# See if the class of expr is known, or if one of its super\u001b[0m\u001b[1;33m\u001b[0m\u001b[1;33m\u001b[0m\u001b[1;33m\u001b[0m\u001b[0m\n",
      "\u001b[1;31mTypeError\u001b[0m: 'NoneType' object is not callable"
     ]
    },
    {
     "ename": "TypeError",
     "evalue": "'NoneType' object is not callable",
     "output_type": "error",
     "traceback": [
      "\u001b[1;31m---------------------------------------------------------------------------\u001b[0m",
      "\u001b[1;31mTypeError\u001b[0m                                 Traceback (most recent call last)",
      "\u001b[1;32mc:\\python39\\lib\\site-packages\\IPython\\core\\formatters.py\u001b[0m in \u001b[0;36m__call__\u001b[1;34m(self, obj)\u001b[0m\n\u001b[0;32m    339\u001b[0m                 \u001b[1;32mpass\u001b[0m\u001b[1;33m\u001b[0m\u001b[1;33m\u001b[0m\u001b[0m\n\u001b[0;32m    340\u001b[0m             \u001b[1;32melse\u001b[0m\u001b[1;33m:\u001b[0m\u001b[1;33m\u001b[0m\u001b[1;33m\u001b[0m\u001b[0m\n\u001b[1;32m--> 341\u001b[1;33m                 \u001b[1;32mreturn\u001b[0m \u001b[0mprinter\u001b[0m\u001b[1;33m(\u001b[0m\u001b[0mobj\u001b[0m\u001b[1;33m)\u001b[0m\u001b[1;33m\u001b[0m\u001b[1;33m\u001b[0m\u001b[0m\n\u001b[0m\u001b[0;32m    342\u001b[0m             \u001b[1;31m# Finally look for special method names\u001b[0m\u001b[1;33m\u001b[0m\u001b[1;33m\u001b[0m\u001b[1;33m\u001b[0m\u001b[0m\n\u001b[0;32m    343\u001b[0m             \u001b[0mmethod\u001b[0m \u001b[1;33m=\u001b[0m \u001b[0mget_real_method\u001b[0m\u001b[1;33m(\u001b[0m\u001b[0mobj\u001b[0m\u001b[1;33m,\u001b[0m \u001b[0mself\u001b[0m\u001b[1;33m.\u001b[0m\u001b[0mprint_method\u001b[0m\u001b[1;33m)\u001b[0m\u001b[1;33m\u001b[0m\u001b[1;33m\u001b[0m\u001b[0m\n",
      "\u001b[1;32mc:\\python39\\lib\\site-packages\\sympy\\interactive\\printing.py\u001b[0m in \u001b[0;36m_print_latex_text\u001b[1;34m(o)\u001b[0m\n\u001b[0;32m    224\u001b[0m         \"\"\"\n\u001b[0;32m    225\u001b[0m         \u001b[1;32mif\u001b[0m \u001b[0m_can_print\u001b[0m\u001b[1;33m(\u001b[0m\u001b[0mo\u001b[0m\u001b[1;33m)\u001b[0m\u001b[1;33m:\u001b[0m\u001b[1;33m\u001b[0m\u001b[1;33m\u001b[0m\u001b[0m\n\u001b[1;32m--> 226\u001b[1;33m             \u001b[0ms\u001b[0m \u001b[1;33m=\u001b[0m \u001b[0mlatex\u001b[0m\u001b[1;33m(\u001b[0m\u001b[0mo\u001b[0m\u001b[1;33m,\u001b[0m \u001b[0mmode\u001b[0m\u001b[1;33m=\u001b[0m\u001b[0mlatex_mode\u001b[0m\u001b[1;33m,\u001b[0m \u001b[1;33m**\u001b[0m\u001b[0msettings\u001b[0m\u001b[1;33m)\u001b[0m\u001b[1;33m\u001b[0m\u001b[1;33m\u001b[0m\u001b[0m\n\u001b[0m\u001b[0;32m    227\u001b[0m             \u001b[1;32mif\u001b[0m \u001b[0mlatex_mode\u001b[0m \u001b[1;33m==\u001b[0m \u001b[1;34m'plain'\u001b[0m\u001b[1;33m:\u001b[0m\u001b[1;33m\u001b[0m\u001b[1;33m\u001b[0m\u001b[0m\n\u001b[0;32m    228\u001b[0m                 \u001b[1;32mreturn\u001b[0m \u001b[1;34m'$\\\\displaystyle %s$'\u001b[0m \u001b[1;33m%\u001b[0m \u001b[0ms\u001b[0m\u001b[1;33m\u001b[0m\u001b[1;33m\u001b[0m\u001b[0m\n",
      "\u001b[1;32mc:\\python39\\lib\\site-packages\\sympy\\printing\\printer.py\u001b[0m in \u001b[0;36m__call__\u001b[1;34m(self, *args, **kwargs)\u001b[0m\n\u001b[0;32m    371\u001b[0m \u001b[1;33m\u001b[0m\u001b[0m\n\u001b[0;32m    372\u001b[0m     \u001b[1;32mdef\u001b[0m \u001b[0m__call__\u001b[0m\u001b[1;33m(\u001b[0m\u001b[0mself\u001b[0m\u001b[1;33m,\u001b[0m \u001b[1;33m*\u001b[0m\u001b[0margs\u001b[0m\u001b[1;33m,\u001b[0m \u001b[1;33m**\u001b[0m\u001b[0mkwargs\u001b[0m\u001b[1;33m)\u001b[0m\u001b[1;33m:\u001b[0m\u001b[1;33m\u001b[0m\u001b[1;33m\u001b[0m\u001b[0m\n\u001b[1;32m--> 373\u001b[1;33m         \u001b[1;32mreturn\u001b[0m \u001b[0mself\u001b[0m\u001b[1;33m.\u001b[0m\u001b[0m__wrapped__\u001b[0m\u001b[1;33m(\u001b[0m\u001b[1;33m*\u001b[0m\u001b[0margs\u001b[0m\u001b[1;33m,\u001b[0m \u001b[1;33m**\u001b[0m\u001b[0mkwargs\u001b[0m\u001b[1;33m)\u001b[0m\u001b[1;33m\u001b[0m\u001b[1;33m\u001b[0m\u001b[0m\n\u001b[0m\u001b[0;32m    374\u001b[0m \u001b[1;33m\u001b[0m\u001b[0m\n\u001b[0;32m    375\u001b[0m     \u001b[1;33m@\u001b[0m\u001b[0mproperty\u001b[0m\u001b[1;33m\u001b[0m\u001b[1;33m\u001b[0m\u001b[0m\n",
      "\u001b[1;32mc:\\python39\\lib\\site-packages\\sympy\\printing\\latex.py\u001b[0m in \u001b[0;36mlatex\u001b[1;34m(expr, **settings)\u001b[0m\n\u001b[0;32m   2913\u001b[0m \u001b[1;33m\u001b[0m\u001b[0m\n\u001b[0;32m   2914\u001b[0m     \"\"\"\n\u001b[1;32m-> 2915\u001b[1;33m     \u001b[1;32mreturn\u001b[0m \u001b[0mLatexPrinter\u001b[0m\u001b[1;33m(\u001b[0m\u001b[0msettings\u001b[0m\u001b[1;33m)\u001b[0m\u001b[1;33m.\u001b[0m\u001b[0mdoprint\u001b[0m\u001b[1;33m(\u001b[0m\u001b[0mexpr\u001b[0m\u001b[1;33m)\u001b[0m\u001b[1;33m\u001b[0m\u001b[1;33m\u001b[0m\u001b[0m\n\u001b[0m\u001b[0;32m   2916\u001b[0m \u001b[1;33m\u001b[0m\u001b[0m\n\u001b[0;32m   2917\u001b[0m \u001b[1;33m\u001b[0m\u001b[0m\n",
      "\u001b[1;32mc:\\python39\\lib\\site-packages\\sympy\\printing\\latex.py\u001b[0m in \u001b[0;36mdoprint\u001b[1;34m(self, expr)\u001b[0m\n\u001b[0;32m    252\u001b[0m \u001b[1;33m\u001b[0m\u001b[0m\n\u001b[0;32m    253\u001b[0m     \u001b[1;32mdef\u001b[0m \u001b[0mdoprint\u001b[0m\u001b[1;33m(\u001b[0m\u001b[0mself\u001b[0m\u001b[1;33m,\u001b[0m \u001b[0mexpr\u001b[0m\u001b[1;33m)\u001b[0m\u001b[1;33m:\u001b[0m\u001b[1;33m\u001b[0m\u001b[1;33m\u001b[0m\u001b[0m\n\u001b[1;32m--> 254\u001b[1;33m         \u001b[0mtex\u001b[0m \u001b[1;33m=\u001b[0m \u001b[0mPrinter\u001b[0m\u001b[1;33m.\u001b[0m\u001b[0mdoprint\u001b[0m\u001b[1;33m(\u001b[0m\u001b[0mself\u001b[0m\u001b[1;33m,\u001b[0m \u001b[0mexpr\u001b[0m\u001b[1;33m)\u001b[0m\u001b[1;33m\u001b[0m\u001b[1;33m\u001b[0m\u001b[0m\n\u001b[0m\u001b[0;32m    255\u001b[0m \u001b[1;33m\u001b[0m\u001b[0m\n\u001b[0;32m    256\u001b[0m         \u001b[1;32mif\u001b[0m \u001b[0mself\u001b[0m\u001b[1;33m.\u001b[0m\u001b[0m_settings\u001b[0m\u001b[1;33m[\u001b[0m\u001b[1;34m'mode'\u001b[0m\u001b[1;33m]\u001b[0m \u001b[1;33m==\u001b[0m \u001b[1;34m'plain'\u001b[0m\u001b[1;33m:\u001b[0m\u001b[1;33m\u001b[0m\u001b[1;33m\u001b[0m\u001b[0m\n",
      "\u001b[1;32mc:\\python39\\lib\\site-packages\\sympy\\printing\\printer.py\u001b[0m in \u001b[0;36mdoprint\u001b[1;34m(self, expr)\u001b[0m\n\u001b[0;32m    289\u001b[0m     \u001b[1;32mdef\u001b[0m \u001b[0mdoprint\u001b[0m\u001b[1;33m(\u001b[0m\u001b[0mself\u001b[0m\u001b[1;33m,\u001b[0m \u001b[0mexpr\u001b[0m\u001b[1;33m)\u001b[0m\u001b[1;33m:\u001b[0m\u001b[1;33m\u001b[0m\u001b[1;33m\u001b[0m\u001b[0m\n\u001b[0;32m    290\u001b[0m         \u001b[1;34m\"\"\"Returns printer's representation for expr (as a string)\"\"\"\u001b[0m\u001b[1;33m\u001b[0m\u001b[1;33m\u001b[0m\u001b[0m\n\u001b[1;32m--> 291\u001b[1;33m         \u001b[1;32mreturn\u001b[0m \u001b[0mself\u001b[0m\u001b[1;33m.\u001b[0m\u001b[0m_str\u001b[0m\u001b[1;33m(\u001b[0m\u001b[0mself\u001b[0m\u001b[1;33m.\u001b[0m\u001b[0m_print\u001b[0m\u001b[1;33m(\u001b[0m\u001b[0mexpr\u001b[0m\u001b[1;33m)\u001b[0m\u001b[1;33m)\u001b[0m\u001b[1;33m\u001b[0m\u001b[1;33m\u001b[0m\u001b[0m\n\u001b[0m\u001b[0;32m    292\u001b[0m \u001b[1;33m\u001b[0m\u001b[0m\n\u001b[0;32m    293\u001b[0m     \u001b[1;32mdef\u001b[0m \u001b[0m_print\u001b[0m\u001b[1;33m(\u001b[0m\u001b[0mself\u001b[0m\u001b[1;33m,\u001b[0m \u001b[0mexpr\u001b[0m\u001b[1;33m,\u001b[0m \u001b[1;33m**\u001b[0m\u001b[0mkwargs\u001b[0m\u001b[1;33m)\u001b[0m\u001b[1;33m:\u001b[0m\u001b[1;33m\u001b[0m\u001b[1;33m\u001b[0m\u001b[0m\n",
      "\u001b[1;32mc:\\python39\\lib\\site-packages\\sympy\\printing\\printer.py\u001b[0m in \u001b[0;36m_print\u001b[1;34m(self, expr, **kwargs)\u001b[0m\n\u001b[0;32m    327\u001b[0m                 \u001b[0mprintmethod\u001b[0m \u001b[1;33m=\u001b[0m \u001b[1;34m'_print_'\u001b[0m \u001b[1;33m+\u001b[0m \u001b[0mcls\u001b[0m\u001b[1;33m.\u001b[0m\u001b[0m__name__\u001b[0m\u001b[1;33m\u001b[0m\u001b[1;33m\u001b[0m\u001b[0m\n\u001b[0;32m    328\u001b[0m                 \u001b[1;32mif\u001b[0m \u001b[0mhasattr\u001b[0m\u001b[1;33m(\u001b[0m\u001b[0mself\u001b[0m\u001b[1;33m,\u001b[0m \u001b[0mprintmethod\u001b[0m\u001b[1;33m)\u001b[0m\u001b[1;33m:\u001b[0m\u001b[1;33m\u001b[0m\u001b[1;33m\u001b[0m\u001b[0m\n\u001b[1;32m--> 329\u001b[1;33m                     \u001b[1;32mreturn\u001b[0m \u001b[0mgetattr\u001b[0m\u001b[1;33m(\u001b[0m\u001b[0mself\u001b[0m\u001b[1;33m,\u001b[0m \u001b[0mprintmethod\u001b[0m\u001b[1;33m)\u001b[0m\u001b[1;33m(\u001b[0m\u001b[0mexpr\u001b[0m\u001b[1;33m,\u001b[0m \u001b[1;33m**\u001b[0m\u001b[0mkwargs\u001b[0m\u001b[1;33m)\u001b[0m\u001b[1;33m\u001b[0m\u001b[1;33m\u001b[0m\u001b[0m\n\u001b[0m\u001b[0;32m    330\u001b[0m             \u001b[1;31m# Unknown object, fall back to the emptyPrinter.\u001b[0m\u001b[1;33m\u001b[0m\u001b[1;33m\u001b[0m\u001b[1;33m\u001b[0m\u001b[0m\n\u001b[0;32m    331\u001b[0m             \u001b[1;32mreturn\u001b[0m \u001b[0mself\u001b[0m\u001b[1;33m.\u001b[0m\u001b[0memptyPrinter\u001b[0m\u001b[1;33m(\u001b[0m\u001b[0mexpr\u001b[0m\u001b[1;33m)\u001b[0m\u001b[1;33m\u001b[0m\u001b[1;33m\u001b[0m\u001b[0m\n",
      "\u001b[1;32mc:\\python39\\lib\\site-packages\\sympy\\printing\\latex.py\u001b[0m in \u001b[0;36m_print_list\u001b[1;34m(self, expr)\u001b[0m\n\u001b[0;32m   1920\u001b[0m         \u001b[1;32melif\u001b[0m \u001b[0mself\u001b[0m\u001b[1;33m.\u001b[0m\u001b[0m_settings\u001b[0m\u001b[1;33m[\u001b[0m\u001b[1;34m'decimal_separator'\u001b[0m\u001b[1;33m]\u001b[0m \u001b[1;33m==\u001b[0m \u001b[1;34m'period'\u001b[0m\u001b[1;33m:\u001b[0m\u001b[1;33m\u001b[0m\u001b[1;33m\u001b[0m\u001b[0m\n\u001b[0;32m   1921\u001b[0m             \u001b[1;32mreturn\u001b[0m \u001b[1;34mr\"\\left[ %s\\right]\"\u001b[0m \u001b[1;33m%\u001b[0m\u001b[0;31m \u001b[0m\u001b[0;31m\\\u001b[0m\u001b[1;33m\u001b[0m\u001b[1;33m\u001b[0m\u001b[0m\n\u001b[1;32m-> 1922\u001b[1;33m                 \u001b[1;34mr\", \\  \"\u001b[0m\u001b[1;33m.\u001b[0m\u001b[0mjoin\u001b[0m\u001b[1;33m(\u001b[0m\u001b[1;33m[\u001b[0m\u001b[0mself\u001b[0m\u001b[1;33m.\u001b[0m\u001b[0m_print\u001b[0m\u001b[1;33m(\u001b[0m\u001b[0mi\u001b[0m\u001b[1;33m)\u001b[0m \u001b[1;32mfor\u001b[0m \u001b[0mi\u001b[0m \u001b[1;32min\u001b[0m \u001b[0mexpr\u001b[0m\u001b[1;33m]\u001b[0m\u001b[1;33m)\u001b[0m\u001b[1;33m\u001b[0m\u001b[1;33m\u001b[0m\u001b[0m\n\u001b[0m\u001b[0;32m   1923\u001b[0m         \u001b[1;32melse\u001b[0m\u001b[1;33m:\u001b[0m\u001b[1;33m\u001b[0m\u001b[1;33m\u001b[0m\u001b[0m\n\u001b[0;32m   1924\u001b[0m             \u001b[1;32mraise\u001b[0m \u001b[0mValueError\u001b[0m\u001b[1;33m(\u001b[0m\u001b[1;34m'Unknown Decimal Separator'\u001b[0m\u001b[1;33m)\u001b[0m\u001b[1;33m\u001b[0m\u001b[1;33m\u001b[0m\u001b[0m\n",
      "\u001b[1;32mc:\\python39\\lib\\site-packages\\sympy\\printing\\latex.py\u001b[0m in \u001b[0;36m<listcomp>\u001b[1;34m(.0)\u001b[0m\n\u001b[0;32m   1920\u001b[0m         \u001b[1;32melif\u001b[0m \u001b[0mself\u001b[0m\u001b[1;33m.\u001b[0m\u001b[0m_settings\u001b[0m\u001b[1;33m[\u001b[0m\u001b[1;34m'decimal_separator'\u001b[0m\u001b[1;33m]\u001b[0m \u001b[1;33m==\u001b[0m \u001b[1;34m'period'\u001b[0m\u001b[1;33m:\u001b[0m\u001b[1;33m\u001b[0m\u001b[1;33m\u001b[0m\u001b[0m\n\u001b[0;32m   1921\u001b[0m             \u001b[1;32mreturn\u001b[0m \u001b[1;34mr\"\\left[ %s\\right]\"\u001b[0m \u001b[1;33m%\u001b[0m\u001b[0;31m \u001b[0m\u001b[0;31m\\\u001b[0m\u001b[1;33m\u001b[0m\u001b[1;33m\u001b[0m\u001b[0m\n\u001b[1;32m-> 1922\u001b[1;33m                 \u001b[1;34mr\", \\  \"\u001b[0m\u001b[1;33m.\u001b[0m\u001b[0mjoin\u001b[0m\u001b[1;33m(\u001b[0m\u001b[1;33m[\u001b[0m\u001b[0mself\u001b[0m\u001b[1;33m.\u001b[0m\u001b[0m_print\u001b[0m\u001b[1;33m(\u001b[0m\u001b[0mi\u001b[0m\u001b[1;33m)\u001b[0m \u001b[1;32mfor\u001b[0m \u001b[0mi\u001b[0m \u001b[1;32min\u001b[0m \u001b[0mexpr\u001b[0m\u001b[1;33m]\u001b[0m\u001b[1;33m)\u001b[0m\u001b[1;33m\u001b[0m\u001b[1;33m\u001b[0m\u001b[0m\n\u001b[0m\u001b[0;32m   1923\u001b[0m         \u001b[1;32melse\u001b[0m\u001b[1;33m:\u001b[0m\u001b[1;33m\u001b[0m\u001b[1;33m\u001b[0m\u001b[0m\n\u001b[0;32m   1924\u001b[0m             \u001b[1;32mraise\u001b[0m \u001b[0mValueError\u001b[0m\u001b[1;33m(\u001b[0m\u001b[1;34m'Unknown Decimal Separator'\u001b[0m\u001b[1;33m)\u001b[0m\u001b[1;33m\u001b[0m\u001b[1;33m\u001b[0m\u001b[0m\n",
      "\u001b[1;32mc:\\python39\\lib\\site-packages\\sympy\\printing\\printer.py\u001b[0m in \u001b[0;36m_print\u001b[1;34m(self, expr, **kwargs)\u001b[0m\n\u001b[0;32m    306\u001b[0m             if (self.printmethod and hasattr(expr, self.printmethod)\n\u001b[0;32m    307\u001b[0m                     and not isinstance(expr, BasicMeta)):\n\u001b[1;32m--> 308\u001b[1;33m                 \u001b[1;32mreturn\u001b[0m \u001b[0mgetattr\u001b[0m\u001b[1;33m(\u001b[0m\u001b[0mexpr\u001b[0m\u001b[1;33m,\u001b[0m \u001b[0mself\u001b[0m\u001b[1;33m.\u001b[0m\u001b[0mprintmethod\u001b[0m\u001b[1;33m)\u001b[0m\u001b[1;33m(\u001b[0m\u001b[0mself\u001b[0m\u001b[1;33m,\u001b[0m \u001b[1;33m**\u001b[0m\u001b[0mkwargs\u001b[0m\u001b[1;33m)\u001b[0m\u001b[1;33m\u001b[0m\u001b[1;33m\u001b[0m\u001b[0m\n\u001b[0m\u001b[0;32m    309\u001b[0m \u001b[1;33m\u001b[0m\u001b[0m\n\u001b[0;32m    310\u001b[0m             \u001b[1;31m# See if the class of expr is known, or if one of its super\u001b[0m\u001b[1;33m\u001b[0m\u001b[1;33m\u001b[0m\u001b[1;33m\u001b[0m\u001b[0m\n",
      "\u001b[1;31mTypeError\u001b[0m: 'NoneType' object is not callable"
     ]
    }
   ],
   "source": [
    "soup.find_all(\"img\")"
   ]
  },
  {
   "cell_type": "code",
   "execution_count": 158,
   "metadata": {},
   "outputs": [],
   "source": [
    "image1, image2 = soup.find_all(\"img\")"
   ]
  },
  {
   "cell_type": "code",
   "execution_count": 159,
   "metadata": {},
   "outputs": [
    {
     "data": {
      "text/plain": [
       "'img'"
      ]
     },
     "execution_count": 159,
     "metadata": {},
     "output_type": "execute_result"
    }
   ],
   "source": [
    "image1.name"
   ]
  },
  {
   "cell_type": "code",
   "execution_count": 160,
   "metadata": {},
   "outputs": [
    {
     "data": {
      "text/plain": [
       "'/static/grapes.png'"
      ]
     },
     "execution_count": 160,
     "metadata": {},
     "output_type": "execute_result"
    }
   ],
   "source": [
    "image1[\"src\"]\n",
    "image2[\"src\"]"
   ]
  },
  {
   "cell_type": "code",
   "execution_count": 161,
   "metadata": {},
   "outputs": [
    {
     "data": {
      "text/plain": [
       "<title>Profile: Dionysus</title>"
      ]
     },
     "execution_count": 161,
     "metadata": {},
     "output_type": "execute_result"
    }
   ],
   "source": [
    "soup.title"
   ]
  },
  {
   "cell_type": "code",
   "execution_count": 162,
   "metadata": {},
   "outputs": [
    {
     "data": {
      "text/plain": [
       "'Profile: Dionysus'"
      ]
     },
     "execution_count": 162,
     "metadata": {},
     "output_type": "execute_result"
    }
   ],
   "source": [
    "soup.title.string"
   ]
  },
  {
   "cell_type": "code",
   "execution_count": 163,
   "metadata": {},
   "outputs": [
    {
     "ename": "TypeError",
     "evalue": "'NoneType' object is not callable",
     "output_type": "error",
     "traceback": [
      "\u001b[1;31m---------------------------------------------------------------------------\u001b[0m",
      "\u001b[1;31mTypeError\u001b[0m                                 Traceback (most recent call last)",
      "\u001b[1;32mc:\\python39\\lib\\site-packages\\IPython\\core\\formatters.py\u001b[0m in \u001b[0;36m__call__\u001b[1;34m(self, obj)\u001b[0m\n\u001b[0;32m    700\u001b[0m                 \u001b[0mtype_pprinters\u001b[0m\u001b[1;33m=\u001b[0m\u001b[0mself\u001b[0m\u001b[1;33m.\u001b[0m\u001b[0mtype_printers\u001b[0m\u001b[1;33m,\u001b[0m\u001b[1;33m\u001b[0m\u001b[1;33m\u001b[0m\u001b[0m\n\u001b[0;32m    701\u001b[0m                 deferred_pprinters=self.deferred_printers)\n\u001b[1;32m--> 702\u001b[1;33m             \u001b[0mprinter\u001b[0m\u001b[1;33m.\u001b[0m\u001b[0mpretty\u001b[0m\u001b[1;33m(\u001b[0m\u001b[0mobj\u001b[0m\u001b[1;33m)\u001b[0m\u001b[1;33m\u001b[0m\u001b[1;33m\u001b[0m\u001b[0m\n\u001b[0m\u001b[0;32m    703\u001b[0m             \u001b[0mprinter\u001b[0m\u001b[1;33m.\u001b[0m\u001b[0mflush\u001b[0m\u001b[1;33m(\u001b[0m\u001b[1;33m)\u001b[0m\u001b[1;33m\u001b[0m\u001b[1;33m\u001b[0m\u001b[0m\n\u001b[0;32m    704\u001b[0m             \u001b[1;32mreturn\u001b[0m \u001b[0mstream\u001b[0m\u001b[1;33m.\u001b[0m\u001b[0mgetvalue\u001b[0m\u001b[1;33m(\u001b[0m\u001b[1;33m)\u001b[0m\u001b[1;33m\u001b[0m\u001b[1;33m\u001b[0m\u001b[0m\n",
      "\u001b[1;32mc:\\python39\\lib\\site-packages\\IPython\\lib\\pretty.py\u001b[0m in \u001b[0;36mpretty\u001b[1;34m(self, obj)\u001b[0m\n\u001b[0;32m    375\u001b[0m                 \u001b[1;32mif\u001b[0m \u001b[0mcls\u001b[0m \u001b[1;32min\u001b[0m \u001b[0mself\u001b[0m\u001b[1;33m.\u001b[0m\u001b[0mtype_pprinters\u001b[0m\u001b[1;33m:\u001b[0m\u001b[1;33m\u001b[0m\u001b[1;33m\u001b[0m\u001b[0m\n\u001b[0;32m    376\u001b[0m                     \u001b[1;31m# printer registered in self.type_pprinters\u001b[0m\u001b[1;33m\u001b[0m\u001b[1;33m\u001b[0m\u001b[1;33m\u001b[0m\u001b[0m\n\u001b[1;32m--> 377\u001b[1;33m                     \u001b[1;32mreturn\u001b[0m \u001b[0mself\u001b[0m\u001b[1;33m.\u001b[0m\u001b[0mtype_pprinters\u001b[0m\u001b[1;33m[\u001b[0m\u001b[0mcls\u001b[0m\u001b[1;33m]\u001b[0m\u001b[1;33m(\u001b[0m\u001b[0mobj\u001b[0m\u001b[1;33m,\u001b[0m \u001b[0mself\u001b[0m\u001b[1;33m,\u001b[0m \u001b[0mcycle\u001b[0m\u001b[1;33m)\u001b[0m\u001b[1;33m\u001b[0m\u001b[1;33m\u001b[0m\u001b[0m\n\u001b[0m\u001b[0;32m    378\u001b[0m                 \u001b[1;32melse\u001b[0m\u001b[1;33m:\u001b[0m\u001b[1;33m\u001b[0m\u001b[1;33m\u001b[0m\u001b[0m\n\u001b[0;32m    379\u001b[0m                     \u001b[1;31m# deferred printer\u001b[0m\u001b[1;33m\u001b[0m\u001b[1;33m\u001b[0m\u001b[1;33m\u001b[0m\u001b[0m\n",
      "\u001b[1;32mc:\\python39\\lib\\site-packages\\sympy\\interactive\\printing.py\u001b[0m in \u001b[0;36m_print_plain\u001b[1;34m(arg, p, cycle)\u001b[0m\n\u001b[0;32m     88\u001b[0m         \u001b[1;34m\"\"\"caller for pretty, for use in IPython 0.11\"\"\"\u001b[0m\u001b[1;33m\u001b[0m\u001b[1;33m\u001b[0m\u001b[0m\n\u001b[0;32m     89\u001b[0m         \u001b[1;32mif\u001b[0m \u001b[0m_can_print\u001b[0m\u001b[1;33m(\u001b[0m\u001b[0marg\u001b[0m\u001b[1;33m)\u001b[0m\u001b[1;33m:\u001b[0m\u001b[1;33m\u001b[0m\u001b[1;33m\u001b[0m\u001b[0m\n\u001b[1;32m---> 90\u001b[1;33m             \u001b[0mp\u001b[0m\u001b[1;33m.\u001b[0m\u001b[0mtext\u001b[0m\u001b[1;33m(\u001b[0m\u001b[0mstringify_func\u001b[0m\u001b[1;33m(\u001b[0m\u001b[0marg\u001b[0m\u001b[1;33m)\u001b[0m\u001b[1;33m)\u001b[0m\u001b[1;33m\u001b[0m\u001b[1;33m\u001b[0m\u001b[0m\n\u001b[0m\u001b[0;32m     91\u001b[0m         \u001b[1;32melse\u001b[0m\u001b[1;33m:\u001b[0m\u001b[1;33m\u001b[0m\u001b[1;33m\u001b[0m\u001b[0m\n\u001b[0;32m     92\u001b[0m             \u001b[0mp\u001b[0m\u001b[1;33m.\u001b[0m\u001b[0mtext\u001b[0m\u001b[1;33m(\u001b[0m\u001b[0mIPython\u001b[0m\u001b[1;33m.\u001b[0m\u001b[0mlib\u001b[0m\u001b[1;33m.\u001b[0m\u001b[0mpretty\u001b[0m\u001b[1;33m.\u001b[0m\u001b[0mpretty\u001b[0m\u001b[1;33m(\u001b[0m\u001b[0marg\u001b[0m\u001b[1;33m)\u001b[0m\u001b[1;33m)\u001b[0m\u001b[1;33m\u001b[0m\u001b[1;33m\u001b[0m\u001b[0m\n",
      "\u001b[1;32mc:\\python39\\lib\\site-packages\\sympy\\printing\\printer.py\u001b[0m in \u001b[0;36m__call__\u001b[1;34m(self, *args, **kwargs)\u001b[0m\n\u001b[0;32m    371\u001b[0m \u001b[1;33m\u001b[0m\u001b[0m\n\u001b[0;32m    372\u001b[0m     \u001b[1;32mdef\u001b[0m \u001b[0m__call__\u001b[0m\u001b[1;33m(\u001b[0m\u001b[0mself\u001b[0m\u001b[1;33m,\u001b[0m \u001b[1;33m*\u001b[0m\u001b[0margs\u001b[0m\u001b[1;33m,\u001b[0m \u001b[1;33m**\u001b[0m\u001b[0mkwargs\u001b[0m\u001b[1;33m)\u001b[0m\u001b[1;33m:\u001b[0m\u001b[1;33m\u001b[0m\u001b[1;33m\u001b[0m\u001b[0m\n\u001b[1;32m--> 373\u001b[1;33m         \u001b[1;32mreturn\u001b[0m \u001b[0mself\u001b[0m\u001b[1;33m.\u001b[0m\u001b[0m__wrapped__\u001b[0m\u001b[1;33m(\u001b[0m\u001b[1;33m*\u001b[0m\u001b[0margs\u001b[0m\u001b[1;33m,\u001b[0m \u001b[1;33m**\u001b[0m\u001b[0mkwargs\u001b[0m\u001b[1;33m)\u001b[0m\u001b[1;33m\u001b[0m\u001b[1;33m\u001b[0m\u001b[0m\n\u001b[0m\u001b[0;32m    374\u001b[0m \u001b[1;33m\u001b[0m\u001b[0m\n\u001b[0;32m    375\u001b[0m     \u001b[1;33m@\u001b[0m\u001b[0mproperty\u001b[0m\u001b[1;33m\u001b[0m\u001b[1;33m\u001b[0m\u001b[0m\n",
      "\u001b[1;32mc:\\python39\\lib\\site-packages\\sympy\\printing\\pretty\\pretty.py\u001b[0m in \u001b[0;36mpretty\u001b[1;34m(expr, **settings)\u001b[0m\n\u001b[0;32m   2729\u001b[0m \u001b[1;33m\u001b[0m\u001b[0m\n\u001b[0;32m   2730\u001b[0m     \u001b[1;32mtry\u001b[0m\u001b[1;33m:\u001b[0m\u001b[1;33m\u001b[0m\u001b[1;33m\u001b[0m\u001b[0m\n\u001b[1;32m-> 2731\u001b[1;33m         \u001b[1;32mreturn\u001b[0m \u001b[0mpp\u001b[0m\u001b[1;33m.\u001b[0m\u001b[0mdoprint\u001b[0m\u001b[1;33m(\u001b[0m\u001b[0mexpr\u001b[0m\u001b[1;33m)\u001b[0m\u001b[1;33m\u001b[0m\u001b[1;33m\u001b[0m\u001b[0m\n\u001b[0m\u001b[0;32m   2732\u001b[0m     \u001b[1;32mfinally\u001b[0m\u001b[1;33m:\u001b[0m\u001b[1;33m\u001b[0m\u001b[1;33m\u001b[0m\u001b[0m\n\u001b[0;32m   2733\u001b[0m         \u001b[0mpretty_use_unicode\u001b[0m\u001b[1;33m(\u001b[0m\u001b[0muflag\u001b[0m\u001b[1;33m)\u001b[0m\u001b[1;33m\u001b[0m\u001b[1;33m\u001b[0m\u001b[0m\n",
      "\u001b[1;32mc:\\python39\\lib\\site-packages\\sympy\\printing\\pretty\\pretty.py\u001b[0m in \u001b[0;36mdoprint\u001b[1;34m(self, expr)\u001b[0m\n\u001b[0;32m     63\u001b[0m \u001b[1;33m\u001b[0m\u001b[0m\n\u001b[0;32m     64\u001b[0m     \u001b[1;32mdef\u001b[0m \u001b[0mdoprint\u001b[0m\u001b[1;33m(\u001b[0m\u001b[0mself\u001b[0m\u001b[1;33m,\u001b[0m \u001b[0mexpr\u001b[0m\u001b[1;33m)\u001b[0m\u001b[1;33m:\u001b[0m\u001b[1;33m\u001b[0m\u001b[1;33m\u001b[0m\u001b[0m\n\u001b[1;32m---> 65\u001b[1;33m         \u001b[1;32mreturn\u001b[0m \u001b[0mself\u001b[0m\u001b[1;33m.\u001b[0m\u001b[0m_print\u001b[0m\u001b[1;33m(\u001b[0m\u001b[0mexpr\u001b[0m\u001b[1;33m)\u001b[0m\u001b[1;33m.\u001b[0m\u001b[0mrender\u001b[0m\u001b[1;33m(\u001b[0m\u001b[1;33m**\u001b[0m\u001b[0mself\u001b[0m\u001b[1;33m.\u001b[0m\u001b[0m_settings\u001b[0m\u001b[1;33m)\u001b[0m\u001b[1;33m\u001b[0m\u001b[1;33m\u001b[0m\u001b[0m\n\u001b[0m\u001b[0;32m     66\u001b[0m \u001b[1;33m\u001b[0m\u001b[0m\n\u001b[0;32m     67\u001b[0m     \u001b[1;31m# empty op so _print(stringPict) returns the same\u001b[0m\u001b[1;33m\u001b[0m\u001b[1;33m\u001b[0m\u001b[1;33m\u001b[0m\u001b[0m\n",
      "\u001b[1;32mc:\\python39\\lib\\site-packages\\sympy\\printing\\printer.py\u001b[0m in \u001b[0;36m_print\u001b[1;34m(self, expr, **kwargs)\u001b[0m\n\u001b[0;32m    327\u001b[0m                 \u001b[0mprintmethod\u001b[0m \u001b[1;33m=\u001b[0m \u001b[1;34m'_print_'\u001b[0m \u001b[1;33m+\u001b[0m \u001b[0mcls\u001b[0m\u001b[1;33m.\u001b[0m\u001b[0m__name__\u001b[0m\u001b[1;33m\u001b[0m\u001b[1;33m\u001b[0m\u001b[0m\n\u001b[0;32m    328\u001b[0m                 \u001b[1;32mif\u001b[0m \u001b[0mhasattr\u001b[0m\u001b[1;33m(\u001b[0m\u001b[0mself\u001b[0m\u001b[1;33m,\u001b[0m \u001b[0mprintmethod\u001b[0m\u001b[1;33m)\u001b[0m\u001b[1;33m:\u001b[0m\u001b[1;33m\u001b[0m\u001b[1;33m\u001b[0m\u001b[0m\n\u001b[1;32m--> 329\u001b[1;33m                     \u001b[1;32mreturn\u001b[0m \u001b[0mgetattr\u001b[0m\u001b[1;33m(\u001b[0m\u001b[0mself\u001b[0m\u001b[1;33m,\u001b[0m \u001b[0mprintmethod\u001b[0m\u001b[1;33m)\u001b[0m\u001b[1;33m(\u001b[0m\u001b[0mexpr\u001b[0m\u001b[1;33m,\u001b[0m \u001b[1;33m**\u001b[0m\u001b[0mkwargs\u001b[0m\u001b[1;33m)\u001b[0m\u001b[1;33m\u001b[0m\u001b[1;33m\u001b[0m\u001b[0m\n\u001b[0m\u001b[0;32m    330\u001b[0m             \u001b[1;31m# Unknown object, fall back to the emptyPrinter.\u001b[0m\u001b[1;33m\u001b[0m\u001b[1;33m\u001b[0m\u001b[1;33m\u001b[0m\u001b[0m\n\u001b[0;32m    331\u001b[0m             \u001b[1;32mreturn\u001b[0m \u001b[0mself\u001b[0m\u001b[1;33m.\u001b[0m\u001b[0memptyPrinter\u001b[0m\u001b[1;33m(\u001b[0m\u001b[0mexpr\u001b[0m\u001b[1;33m)\u001b[0m\u001b[1;33m\u001b[0m\u001b[1;33m\u001b[0m\u001b[0m\n",
      "\u001b[1;32mc:\\python39\\lib\\site-packages\\sympy\\printing\\pretty\\pretty.py\u001b[0m in \u001b[0;36m_print_list\u001b[1;34m(self, l)\u001b[0m\n\u001b[0;32m   2259\u001b[0m \u001b[1;33m\u001b[0m\u001b[0m\n\u001b[0;32m   2260\u001b[0m     \u001b[1;32mdef\u001b[0m \u001b[0m_print_list\u001b[0m\u001b[1;33m(\u001b[0m\u001b[0mself\u001b[0m\u001b[1;33m,\u001b[0m \u001b[0ml\u001b[0m\u001b[1;33m)\u001b[0m\u001b[1;33m:\u001b[0m\u001b[1;33m\u001b[0m\u001b[1;33m\u001b[0m\u001b[0m\n\u001b[1;32m-> 2261\u001b[1;33m         \u001b[1;32mreturn\u001b[0m \u001b[0mself\u001b[0m\u001b[1;33m.\u001b[0m\u001b[0m_print_seq\u001b[0m\u001b[1;33m(\u001b[0m\u001b[0ml\u001b[0m\u001b[1;33m,\u001b[0m \u001b[1;34m'['\u001b[0m\u001b[1;33m,\u001b[0m \u001b[1;34m']'\u001b[0m\u001b[1;33m)\u001b[0m\u001b[1;33m\u001b[0m\u001b[1;33m\u001b[0m\u001b[0m\n\u001b[0m\u001b[0;32m   2262\u001b[0m \u001b[1;33m\u001b[0m\u001b[0m\n\u001b[0;32m   2263\u001b[0m     \u001b[1;32mdef\u001b[0m \u001b[0m_print_tuple\u001b[0m\u001b[1;33m(\u001b[0m\u001b[0mself\u001b[0m\u001b[1;33m,\u001b[0m \u001b[0mt\u001b[0m\u001b[1;33m)\u001b[0m\u001b[1;33m:\u001b[0m\u001b[1;33m\u001b[0m\u001b[1;33m\u001b[0m\u001b[0m\n",
      "\u001b[1;32mc:\\python39\\lib\\site-packages\\sympy\\printing\\pretty\\pretty.py\u001b[0m in \u001b[0;36m_print_seq\u001b[1;34m(self, seq, left, right, delimiter, parenthesize)\u001b[0m\n\u001b[0;32m   2206\u001b[0m         \u001b[1;32mtry\u001b[0m\u001b[1;33m:\u001b[0m\u001b[1;33m\u001b[0m\u001b[1;33m\u001b[0m\u001b[0m\n\u001b[0;32m   2207\u001b[0m             \u001b[1;32mfor\u001b[0m \u001b[0mitem\u001b[0m \u001b[1;32min\u001b[0m \u001b[0mseq\u001b[0m\u001b[1;33m:\u001b[0m\u001b[1;33m\u001b[0m\u001b[1;33m\u001b[0m\u001b[0m\n\u001b[1;32m-> 2208\u001b[1;33m                 \u001b[0mpform\u001b[0m \u001b[1;33m=\u001b[0m \u001b[0mself\u001b[0m\u001b[1;33m.\u001b[0m\u001b[0m_print\u001b[0m\u001b[1;33m(\u001b[0m\u001b[0mitem\u001b[0m\u001b[1;33m)\u001b[0m\u001b[1;33m\u001b[0m\u001b[1;33m\u001b[0m\u001b[0m\n\u001b[0m\u001b[0;32m   2209\u001b[0m \u001b[1;33m\u001b[0m\u001b[0m\n\u001b[0;32m   2210\u001b[0m                 \u001b[1;32mif\u001b[0m \u001b[0mparenthesize\u001b[0m\u001b[1;33m(\u001b[0m\u001b[0mitem\u001b[0m\u001b[1;33m)\u001b[0m\u001b[1;33m:\u001b[0m\u001b[1;33m\u001b[0m\u001b[1;33m\u001b[0m\u001b[0m\n",
      "\u001b[1;32mc:\\python39\\lib\\site-packages\\sympy\\printing\\printer.py\u001b[0m in \u001b[0;36m_print\u001b[1;34m(self, expr, **kwargs)\u001b[0m\n\u001b[0;32m    306\u001b[0m             if (self.printmethod and hasattr(expr, self.printmethod)\n\u001b[0;32m    307\u001b[0m                     and not isinstance(expr, BasicMeta)):\n\u001b[1;32m--> 308\u001b[1;33m                 \u001b[1;32mreturn\u001b[0m \u001b[0mgetattr\u001b[0m\u001b[1;33m(\u001b[0m\u001b[0mexpr\u001b[0m\u001b[1;33m,\u001b[0m \u001b[0mself\u001b[0m\u001b[1;33m.\u001b[0m\u001b[0mprintmethod\u001b[0m\u001b[1;33m)\u001b[0m\u001b[1;33m(\u001b[0m\u001b[0mself\u001b[0m\u001b[1;33m,\u001b[0m \u001b[1;33m**\u001b[0m\u001b[0mkwargs\u001b[0m\u001b[1;33m)\u001b[0m\u001b[1;33m\u001b[0m\u001b[1;33m\u001b[0m\u001b[0m\n\u001b[0m\u001b[0;32m    309\u001b[0m \u001b[1;33m\u001b[0m\u001b[0m\n\u001b[0;32m    310\u001b[0m             \u001b[1;31m# See if the class of expr is known, or if one of its super\u001b[0m\u001b[1;33m\u001b[0m\u001b[1;33m\u001b[0m\u001b[1;33m\u001b[0m\u001b[0m\n",
      "\u001b[1;31mTypeError\u001b[0m: 'NoneType' object is not callable"
     ]
    },
    {
     "ename": "TypeError",
     "evalue": "'NoneType' object is not callable",
     "output_type": "error",
     "traceback": [
      "\u001b[1;31m---------------------------------------------------------------------------\u001b[0m",
      "\u001b[1;31mTypeError\u001b[0m                                 Traceback (most recent call last)",
      "\u001b[1;32mc:\\python39\\lib\\site-packages\\IPython\\core\\formatters.py\u001b[0m in \u001b[0;36m__call__\u001b[1;34m(self, obj)\u001b[0m\n\u001b[0;32m    339\u001b[0m                 \u001b[1;32mpass\u001b[0m\u001b[1;33m\u001b[0m\u001b[1;33m\u001b[0m\u001b[0m\n\u001b[0;32m    340\u001b[0m             \u001b[1;32melse\u001b[0m\u001b[1;33m:\u001b[0m\u001b[1;33m\u001b[0m\u001b[1;33m\u001b[0m\u001b[0m\n\u001b[1;32m--> 341\u001b[1;33m                 \u001b[1;32mreturn\u001b[0m \u001b[0mprinter\u001b[0m\u001b[1;33m(\u001b[0m\u001b[0mobj\u001b[0m\u001b[1;33m)\u001b[0m\u001b[1;33m\u001b[0m\u001b[1;33m\u001b[0m\u001b[0m\n\u001b[0m\u001b[0;32m    342\u001b[0m             \u001b[1;31m# Finally look for special method names\u001b[0m\u001b[1;33m\u001b[0m\u001b[1;33m\u001b[0m\u001b[1;33m\u001b[0m\u001b[0m\n\u001b[0;32m    343\u001b[0m             \u001b[0mmethod\u001b[0m \u001b[1;33m=\u001b[0m \u001b[0mget_real_method\u001b[0m\u001b[1;33m(\u001b[0m\u001b[0mobj\u001b[0m\u001b[1;33m,\u001b[0m \u001b[0mself\u001b[0m\u001b[1;33m.\u001b[0m\u001b[0mprint_method\u001b[0m\u001b[1;33m)\u001b[0m\u001b[1;33m\u001b[0m\u001b[1;33m\u001b[0m\u001b[0m\n",
      "\u001b[1;32mc:\\python39\\lib\\site-packages\\sympy\\interactive\\printing.py\u001b[0m in \u001b[0;36m_print_latex_png\u001b[1;34m(o)\u001b[0m\n\u001b[0;32m    184\u001b[0m         \"\"\"\n\u001b[0;32m    185\u001b[0m         \u001b[1;32mif\u001b[0m \u001b[0m_can_print\u001b[0m\u001b[1;33m(\u001b[0m\u001b[0mo\u001b[0m\u001b[1;33m)\u001b[0m\u001b[1;33m:\u001b[0m\u001b[1;33m\u001b[0m\u001b[1;33m\u001b[0m\u001b[0m\n\u001b[1;32m--> 186\u001b[1;33m             \u001b[0ms\u001b[0m \u001b[1;33m=\u001b[0m \u001b[0mlatex\u001b[0m\u001b[1;33m(\u001b[0m\u001b[0mo\u001b[0m\u001b[1;33m,\u001b[0m \u001b[0mmode\u001b[0m\u001b[1;33m=\u001b[0m\u001b[0mlatex_mode\u001b[0m\u001b[1;33m,\u001b[0m \u001b[1;33m**\u001b[0m\u001b[0msettings\u001b[0m\u001b[1;33m)\u001b[0m\u001b[1;33m\u001b[0m\u001b[1;33m\u001b[0m\u001b[0m\n\u001b[0m\u001b[0;32m    187\u001b[0m             \u001b[1;32mif\u001b[0m \u001b[0mlatex_mode\u001b[0m \u001b[1;33m==\u001b[0m \u001b[1;34m'plain'\u001b[0m\u001b[1;33m:\u001b[0m\u001b[1;33m\u001b[0m\u001b[1;33m\u001b[0m\u001b[0m\n\u001b[0;32m    188\u001b[0m                 \u001b[0ms\u001b[0m \u001b[1;33m=\u001b[0m \u001b[1;34m'$\\\\displaystyle %s$'\u001b[0m \u001b[1;33m%\u001b[0m \u001b[0ms\u001b[0m\u001b[1;33m\u001b[0m\u001b[1;33m\u001b[0m\u001b[0m\n",
      "\u001b[1;32mc:\\python39\\lib\\site-packages\\sympy\\printing\\printer.py\u001b[0m in \u001b[0;36m__call__\u001b[1;34m(self, *args, **kwargs)\u001b[0m\n\u001b[0;32m    371\u001b[0m \u001b[1;33m\u001b[0m\u001b[0m\n\u001b[0;32m    372\u001b[0m     \u001b[1;32mdef\u001b[0m \u001b[0m__call__\u001b[0m\u001b[1;33m(\u001b[0m\u001b[0mself\u001b[0m\u001b[1;33m,\u001b[0m \u001b[1;33m*\u001b[0m\u001b[0margs\u001b[0m\u001b[1;33m,\u001b[0m \u001b[1;33m**\u001b[0m\u001b[0mkwargs\u001b[0m\u001b[1;33m)\u001b[0m\u001b[1;33m:\u001b[0m\u001b[1;33m\u001b[0m\u001b[1;33m\u001b[0m\u001b[0m\n\u001b[1;32m--> 373\u001b[1;33m         \u001b[1;32mreturn\u001b[0m \u001b[0mself\u001b[0m\u001b[1;33m.\u001b[0m\u001b[0m__wrapped__\u001b[0m\u001b[1;33m(\u001b[0m\u001b[1;33m*\u001b[0m\u001b[0margs\u001b[0m\u001b[1;33m,\u001b[0m \u001b[1;33m**\u001b[0m\u001b[0mkwargs\u001b[0m\u001b[1;33m)\u001b[0m\u001b[1;33m\u001b[0m\u001b[1;33m\u001b[0m\u001b[0m\n\u001b[0m\u001b[0;32m    374\u001b[0m \u001b[1;33m\u001b[0m\u001b[0m\n\u001b[0;32m    375\u001b[0m     \u001b[1;33m@\u001b[0m\u001b[0mproperty\u001b[0m\u001b[1;33m\u001b[0m\u001b[1;33m\u001b[0m\u001b[0m\n",
      "\u001b[1;32mc:\\python39\\lib\\site-packages\\sympy\\printing\\latex.py\u001b[0m in \u001b[0;36mlatex\u001b[1;34m(expr, **settings)\u001b[0m\n\u001b[0;32m   2913\u001b[0m \u001b[1;33m\u001b[0m\u001b[0m\n\u001b[0;32m   2914\u001b[0m     \"\"\"\n\u001b[1;32m-> 2915\u001b[1;33m     \u001b[1;32mreturn\u001b[0m \u001b[0mLatexPrinter\u001b[0m\u001b[1;33m(\u001b[0m\u001b[0msettings\u001b[0m\u001b[1;33m)\u001b[0m\u001b[1;33m.\u001b[0m\u001b[0mdoprint\u001b[0m\u001b[1;33m(\u001b[0m\u001b[0mexpr\u001b[0m\u001b[1;33m)\u001b[0m\u001b[1;33m\u001b[0m\u001b[1;33m\u001b[0m\u001b[0m\n\u001b[0m\u001b[0;32m   2916\u001b[0m \u001b[1;33m\u001b[0m\u001b[0m\n\u001b[0;32m   2917\u001b[0m \u001b[1;33m\u001b[0m\u001b[0m\n",
      "\u001b[1;32mc:\\python39\\lib\\site-packages\\sympy\\printing\\latex.py\u001b[0m in \u001b[0;36mdoprint\u001b[1;34m(self, expr)\u001b[0m\n\u001b[0;32m    252\u001b[0m \u001b[1;33m\u001b[0m\u001b[0m\n\u001b[0;32m    253\u001b[0m     \u001b[1;32mdef\u001b[0m \u001b[0mdoprint\u001b[0m\u001b[1;33m(\u001b[0m\u001b[0mself\u001b[0m\u001b[1;33m,\u001b[0m \u001b[0mexpr\u001b[0m\u001b[1;33m)\u001b[0m\u001b[1;33m:\u001b[0m\u001b[1;33m\u001b[0m\u001b[1;33m\u001b[0m\u001b[0m\n\u001b[1;32m--> 254\u001b[1;33m         \u001b[0mtex\u001b[0m \u001b[1;33m=\u001b[0m \u001b[0mPrinter\u001b[0m\u001b[1;33m.\u001b[0m\u001b[0mdoprint\u001b[0m\u001b[1;33m(\u001b[0m\u001b[0mself\u001b[0m\u001b[1;33m,\u001b[0m \u001b[0mexpr\u001b[0m\u001b[1;33m)\u001b[0m\u001b[1;33m\u001b[0m\u001b[1;33m\u001b[0m\u001b[0m\n\u001b[0m\u001b[0;32m    255\u001b[0m \u001b[1;33m\u001b[0m\u001b[0m\n\u001b[0;32m    256\u001b[0m         \u001b[1;32mif\u001b[0m \u001b[0mself\u001b[0m\u001b[1;33m.\u001b[0m\u001b[0m_settings\u001b[0m\u001b[1;33m[\u001b[0m\u001b[1;34m'mode'\u001b[0m\u001b[1;33m]\u001b[0m \u001b[1;33m==\u001b[0m \u001b[1;34m'plain'\u001b[0m\u001b[1;33m:\u001b[0m\u001b[1;33m\u001b[0m\u001b[1;33m\u001b[0m\u001b[0m\n",
      "\u001b[1;32mc:\\python39\\lib\\site-packages\\sympy\\printing\\printer.py\u001b[0m in \u001b[0;36mdoprint\u001b[1;34m(self, expr)\u001b[0m\n\u001b[0;32m    289\u001b[0m     \u001b[1;32mdef\u001b[0m \u001b[0mdoprint\u001b[0m\u001b[1;33m(\u001b[0m\u001b[0mself\u001b[0m\u001b[1;33m,\u001b[0m \u001b[0mexpr\u001b[0m\u001b[1;33m)\u001b[0m\u001b[1;33m:\u001b[0m\u001b[1;33m\u001b[0m\u001b[1;33m\u001b[0m\u001b[0m\n\u001b[0;32m    290\u001b[0m         \u001b[1;34m\"\"\"Returns printer's representation for expr (as a string)\"\"\"\u001b[0m\u001b[1;33m\u001b[0m\u001b[1;33m\u001b[0m\u001b[0m\n\u001b[1;32m--> 291\u001b[1;33m         \u001b[1;32mreturn\u001b[0m \u001b[0mself\u001b[0m\u001b[1;33m.\u001b[0m\u001b[0m_str\u001b[0m\u001b[1;33m(\u001b[0m\u001b[0mself\u001b[0m\u001b[1;33m.\u001b[0m\u001b[0m_print\u001b[0m\u001b[1;33m(\u001b[0m\u001b[0mexpr\u001b[0m\u001b[1;33m)\u001b[0m\u001b[1;33m)\u001b[0m\u001b[1;33m\u001b[0m\u001b[1;33m\u001b[0m\u001b[0m\n\u001b[0m\u001b[0;32m    292\u001b[0m \u001b[1;33m\u001b[0m\u001b[0m\n\u001b[0;32m    293\u001b[0m     \u001b[1;32mdef\u001b[0m \u001b[0m_print\u001b[0m\u001b[1;33m(\u001b[0m\u001b[0mself\u001b[0m\u001b[1;33m,\u001b[0m \u001b[0mexpr\u001b[0m\u001b[1;33m,\u001b[0m \u001b[1;33m**\u001b[0m\u001b[0mkwargs\u001b[0m\u001b[1;33m)\u001b[0m\u001b[1;33m:\u001b[0m\u001b[1;33m\u001b[0m\u001b[1;33m\u001b[0m\u001b[0m\n",
      "\u001b[1;32mc:\\python39\\lib\\site-packages\\sympy\\printing\\printer.py\u001b[0m in \u001b[0;36m_print\u001b[1;34m(self, expr, **kwargs)\u001b[0m\n\u001b[0;32m    327\u001b[0m                 \u001b[0mprintmethod\u001b[0m \u001b[1;33m=\u001b[0m \u001b[1;34m'_print_'\u001b[0m \u001b[1;33m+\u001b[0m \u001b[0mcls\u001b[0m\u001b[1;33m.\u001b[0m\u001b[0m__name__\u001b[0m\u001b[1;33m\u001b[0m\u001b[1;33m\u001b[0m\u001b[0m\n\u001b[0;32m    328\u001b[0m                 \u001b[1;32mif\u001b[0m \u001b[0mhasattr\u001b[0m\u001b[1;33m(\u001b[0m\u001b[0mself\u001b[0m\u001b[1;33m,\u001b[0m \u001b[0mprintmethod\u001b[0m\u001b[1;33m)\u001b[0m\u001b[1;33m:\u001b[0m\u001b[1;33m\u001b[0m\u001b[1;33m\u001b[0m\u001b[0m\n\u001b[1;32m--> 329\u001b[1;33m                     \u001b[1;32mreturn\u001b[0m \u001b[0mgetattr\u001b[0m\u001b[1;33m(\u001b[0m\u001b[0mself\u001b[0m\u001b[1;33m,\u001b[0m \u001b[0mprintmethod\u001b[0m\u001b[1;33m)\u001b[0m\u001b[1;33m(\u001b[0m\u001b[0mexpr\u001b[0m\u001b[1;33m,\u001b[0m \u001b[1;33m**\u001b[0m\u001b[0mkwargs\u001b[0m\u001b[1;33m)\u001b[0m\u001b[1;33m\u001b[0m\u001b[1;33m\u001b[0m\u001b[0m\n\u001b[0m\u001b[0;32m    330\u001b[0m             \u001b[1;31m# Unknown object, fall back to the emptyPrinter.\u001b[0m\u001b[1;33m\u001b[0m\u001b[1;33m\u001b[0m\u001b[1;33m\u001b[0m\u001b[0m\n\u001b[0;32m    331\u001b[0m             \u001b[1;32mreturn\u001b[0m \u001b[0mself\u001b[0m\u001b[1;33m.\u001b[0m\u001b[0memptyPrinter\u001b[0m\u001b[1;33m(\u001b[0m\u001b[0mexpr\u001b[0m\u001b[1;33m)\u001b[0m\u001b[1;33m\u001b[0m\u001b[1;33m\u001b[0m\u001b[0m\n",
      "\u001b[1;32mc:\\python39\\lib\\site-packages\\sympy\\printing\\latex.py\u001b[0m in \u001b[0;36m_print_list\u001b[1;34m(self, expr)\u001b[0m\n\u001b[0;32m   1920\u001b[0m         \u001b[1;32melif\u001b[0m \u001b[0mself\u001b[0m\u001b[1;33m.\u001b[0m\u001b[0m_settings\u001b[0m\u001b[1;33m[\u001b[0m\u001b[1;34m'decimal_separator'\u001b[0m\u001b[1;33m]\u001b[0m \u001b[1;33m==\u001b[0m \u001b[1;34m'period'\u001b[0m\u001b[1;33m:\u001b[0m\u001b[1;33m\u001b[0m\u001b[1;33m\u001b[0m\u001b[0m\n\u001b[0;32m   1921\u001b[0m             \u001b[1;32mreturn\u001b[0m \u001b[1;34mr\"\\left[ %s\\right]\"\u001b[0m \u001b[1;33m%\u001b[0m\u001b[0;31m \u001b[0m\u001b[0;31m\\\u001b[0m\u001b[1;33m\u001b[0m\u001b[1;33m\u001b[0m\u001b[0m\n\u001b[1;32m-> 1922\u001b[1;33m                 \u001b[1;34mr\", \\  \"\u001b[0m\u001b[1;33m.\u001b[0m\u001b[0mjoin\u001b[0m\u001b[1;33m(\u001b[0m\u001b[1;33m[\u001b[0m\u001b[0mself\u001b[0m\u001b[1;33m.\u001b[0m\u001b[0m_print\u001b[0m\u001b[1;33m(\u001b[0m\u001b[0mi\u001b[0m\u001b[1;33m)\u001b[0m \u001b[1;32mfor\u001b[0m \u001b[0mi\u001b[0m \u001b[1;32min\u001b[0m \u001b[0mexpr\u001b[0m\u001b[1;33m]\u001b[0m\u001b[1;33m)\u001b[0m\u001b[1;33m\u001b[0m\u001b[1;33m\u001b[0m\u001b[0m\n\u001b[0m\u001b[0;32m   1923\u001b[0m         \u001b[1;32melse\u001b[0m\u001b[1;33m:\u001b[0m\u001b[1;33m\u001b[0m\u001b[1;33m\u001b[0m\u001b[0m\n\u001b[0;32m   1924\u001b[0m             \u001b[1;32mraise\u001b[0m \u001b[0mValueError\u001b[0m\u001b[1;33m(\u001b[0m\u001b[1;34m'Unknown Decimal Separator'\u001b[0m\u001b[1;33m)\u001b[0m\u001b[1;33m\u001b[0m\u001b[1;33m\u001b[0m\u001b[0m\n",
      "\u001b[1;32mc:\\python39\\lib\\site-packages\\sympy\\printing\\latex.py\u001b[0m in \u001b[0;36m<listcomp>\u001b[1;34m(.0)\u001b[0m\n\u001b[0;32m   1920\u001b[0m         \u001b[1;32melif\u001b[0m \u001b[0mself\u001b[0m\u001b[1;33m.\u001b[0m\u001b[0m_settings\u001b[0m\u001b[1;33m[\u001b[0m\u001b[1;34m'decimal_separator'\u001b[0m\u001b[1;33m]\u001b[0m \u001b[1;33m==\u001b[0m \u001b[1;34m'period'\u001b[0m\u001b[1;33m:\u001b[0m\u001b[1;33m\u001b[0m\u001b[1;33m\u001b[0m\u001b[0m\n\u001b[0;32m   1921\u001b[0m             \u001b[1;32mreturn\u001b[0m \u001b[1;34mr\"\\left[ %s\\right]\"\u001b[0m \u001b[1;33m%\u001b[0m\u001b[0;31m \u001b[0m\u001b[0;31m\\\u001b[0m\u001b[1;33m\u001b[0m\u001b[1;33m\u001b[0m\u001b[0m\n\u001b[1;32m-> 1922\u001b[1;33m                 \u001b[1;34mr\", \\  \"\u001b[0m\u001b[1;33m.\u001b[0m\u001b[0mjoin\u001b[0m\u001b[1;33m(\u001b[0m\u001b[1;33m[\u001b[0m\u001b[0mself\u001b[0m\u001b[1;33m.\u001b[0m\u001b[0m_print\u001b[0m\u001b[1;33m(\u001b[0m\u001b[0mi\u001b[0m\u001b[1;33m)\u001b[0m \u001b[1;32mfor\u001b[0m \u001b[0mi\u001b[0m \u001b[1;32min\u001b[0m \u001b[0mexpr\u001b[0m\u001b[1;33m]\u001b[0m\u001b[1;33m)\u001b[0m\u001b[1;33m\u001b[0m\u001b[1;33m\u001b[0m\u001b[0m\n\u001b[0m\u001b[0;32m   1923\u001b[0m         \u001b[1;32melse\u001b[0m\u001b[1;33m:\u001b[0m\u001b[1;33m\u001b[0m\u001b[1;33m\u001b[0m\u001b[0m\n\u001b[0;32m   1924\u001b[0m             \u001b[1;32mraise\u001b[0m \u001b[0mValueError\u001b[0m\u001b[1;33m(\u001b[0m\u001b[1;34m'Unknown Decimal Separator'\u001b[0m\u001b[1;33m)\u001b[0m\u001b[1;33m\u001b[0m\u001b[1;33m\u001b[0m\u001b[0m\n",
      "\u001b[1;32mc:\\python39\\lib\\site-packages\\sympy\\printing\\printer.py\u001b[0m in \u001b[0;36m_print\u001b[1;34m(self, expr, **kwargs)\u001b[0m\n\u001b[0;32m    306\u001b[0m             if (self.printmethod and hasattr(expr, self.printmethod)\n\u001b[0;32m    307\u001b[0m                     and not isinstance(expr, BasicMeta)):\n\u001b[1;32m--> 308\u001b[1;33m                 \u001b[1;32mreturn\u001b[0m \u001b[0mgetattr\u001b[0m\u001b[1;33m(\u001b[0m\u001b[0mexpr\u001b[0m\u001b[1;33m,\u001b[0m \u001b[0mself\u001b[0m\u001b[1;33m.\u001b[0m\u001b[0mprintmethod\u001b[0m\u001b[1;33m)\u001b[0m\u001b[1;33m(\u001b[0m\u001b[0mself\u001b[0m\u001b[1;33m,\u001b[0m \u001b[1;33m**\u001b[0m\u001b[0mkwargs\u001b[0m\u001b[1;33m)\u001b[0m\u001b[1;33m\u001b[0m\u001b[1;33m\u001b[0m\u001b[0m\n\u001b[0m\u001b[0;32m    309\u001b[0m \u001b[1;33m\u001b[0m\u001b[0m\n\u001b[0;32m    310\u001b[0m             \u001b[1;31m# See if the class of expr is known, or if one of its super\u001b[0m\u001b[1;33m\u001b[0m\u001b[1;33m\u001b[0m\u001b[1;33m\u001b[0m\u001b[0m\n",
      "\u001b[1;31mTypeError\u001b[0m: 'NoneType' object is not callable"
     ]
    },
    {
     "ename": "TypeError",
     "evalue": "'NoneType' object is not callable",
     "output_type": "error",
     "traceback": [
      "\u001b[1;31m---------------------------------------------------------------------------\u001b[0m",
      "\u001b[1;31mTypeError\u001b[0m                                 Traceback (most recent call last)",
      "\u001b[1;32mc:\\python39\\lib\\site-packages\\IPython\\core\\formatters.py\u001b[0m in \u001b[0;36m__call__\u001b[1;34m(self, obj)\u001b[0m\n\u001b[0;32m    339\u001b[0m                 \u001b[1;32mpass\u001b[0m\u001b[1;33m\u001b[0m\u001b[1;33m\u001b[0m\u001b[0m\n\u001b[0;32m    340\u001b[0m             \u001b[1;32melse\u001b[0m\u001b[1;33m:\u001b[0m\u001b[1;33m\u001b[0m\u001b[1;33m\u001b[0m\u001b[0m\n\u001b[1;32m--> 341\u001b[1;33m                 \u001b[1;32mreturn\u001b[0m \u001b[0mprinter\u001b[0m\u001b[1;33m(\u001b[0m\u001b[0mobj\u001b[0m\u001b[1;33m)\u001b[0m\u001b[1;33m\u001b[0m\u001b[1;33m\u001b[0m\u001b[0m\n\u001b[0m\u001b[0;32m    342\u001b[0m             \u001b[1;31m# Finally look for special method names\u001b[0m\u001b[1;33m\u001b[0m\u001b[1;33m\u001b[0m\u001b[1;33m\u001b[0m\u001b[0m\n\u001b[0;32m    343\u001b[0m             \u001b[0mmethod\u001b[0m \u001b[1;33m=\u001b[0m \u001b[0mget_real_method\u001b[0m\u001b[1;33m(\u001b[0m\u001b[0mobj\u001b[0m\u001b[1;33m,\u001b[0m \u001b[0mself\u001b[0m\u001b[1;33m.\u001b[0m\u001b[0mprint_method\u001b[0m\u001b[1;33m)\u001b[0m\u001b[1;33m\u001b[0m\u001b[1;33m\u001b[0m\u001b[0m\n",
      "\u001b[1;32mc:\\python39\\lib\\site-packages\\sympy\\interactive\\printing.py\u001b[0m in \u001b[0;36m_print_latex_text\u001b[1;34m(o)\u001b[0m\n\u001b[0;32m    224\u001b[0m         \"\"\"\n\u001b[0;32m    225\u001b[0m         \u001b[1;32mif\u001b[0m \u001b[0m_can_print\u001b[0m\u001b[1;33m(\u001b[0m\u001b[0mo\u001b[0m\u001b[1;33m)\u001b[0m\u001b[1;33m:\u001b[0m\u001b[1;33m\u001b[0m\u001b[1;33m\u001b[0m\u001b[0m\n\u001b[1;32m--> 226\u001b[1;33m             \u001b[0ms\u001b[0m \u001b[1;33m=\u001b[0m \u001b[0mlatex\u001b[0m\u001b[1;33m(\u001b[0m\u001b[0mo\u001b[0m\u001b[1;33m,\u001b[0m \u001b[0mmode\u001b[0m\u001b[1;33m=\u001b[0m\u001b[0mlatex_mode\u001b[0m\u001b[1;33m,\u001b[0m \u001b[1;33m**\u001b[0m\u001b[0msettings\u001b[0m\u001b[1;33m)\u001b[0m\u001b[1;33m\u001b[0m\u001b[1;33m\u001b[0m\u001b[0m\n\u001b[0m\u001b[0;32m    227\u001b[0m             \u001b[1;32mif\u001b[0m \u001b[0mlatex_mode\u001b[0m \u001b[1;33m==\u001b[0m \u001b[1;34m'plain'\u001b[0m\u001b[1;33m:\u001b[0m\u001b[1;33m\u001b[0m\u001b[1;33m\u001b[0m\u001b[0m\n\u001b[0;32m    228\u001b[0m                 \u001b[1;32mreturn\u001b[0m \u001b[1;34m'$\\\\displaystyle %s$'\u001b[0m \u001b[1;33m%\u001b[0m \u001b[0ms\u001b[0m\u001b[1;33m\u001b[0m\u001b[1;33m\u001b[0m\u001b[0m\n",
      "\u001b[1;32mc:\\python39\\lib\\site-packages\\sympy\\printing\\printer.py\u001b[0m in \u001b[0;36m__call__\u001b[1;34m(self, *args, **kwargs)\u001b[0m\n\u001b[0;32m    371\u001b[0m \u001b[1;33m\u001b[0m\u001b[0m\n\u001b[0;32m    372\u001b[0m     \u001b[1;32mdef\u001b[0m \u001b[0m__call__\u001b[0m\u001b[1;33m(\u001b[0m\u001b[0mself\u001b[0m\u001b[1;33m,\u001b[0m \u001b[1;33m*\u001b[0m\u001b[0margs\u001b[0m\u001b[1;33m,\u001b[0m \u001b[1;33m**\u001b[0m\u001b[0mkwargs\u001b[0m\u001b[1;33m)\u001b[0m\u001b[1;33m:\u001b[0m\u001b[1;33m\u001b[0m\u001b[1;33m\u001b[0m\u001b[0m\n\u001b[1;32m--> 373\u001b[1;33m         \u001b[1;32mreturn\u001b[0m \u001b[0mself\u001b[0m\u001b[1;33m.\u001b[0m\u001b[0m__wrapped__\u001b[0m\u001b[1;33m(\u001b[0m\u001b[1;33m*\u001b[0m\u001b[0margs\u001b[0m\u001b[1;33m,\u001b[0m \u001b[1;33m**\u001b[0m\u001b[0mkwargs\u001b[0m\u001b[1;33m)\u001b[0m\u001b[1;33m\u001b[0m\u001b[1;33m\u001b[0m\u001b[0m\n\u001b[0m\u001b[0;32m    374\u001b[0m \u001b[1;33m\u001b[0m\u001b[0m\n\u001b[0;32m    375\u001b[0m     \u001b[1;33m@\u001b[0m\u001b[0mproperty\u001b[0m\u001b[1;33m\u001b[0m\u001b[1;33m\u001b[0m\u001b[0m\n",
      "\u001b[1;32mc:\\python39\\lib\\site-packages\\sympy\\printing\\latex.py\u001b[0m in \u001b[0;36mlatex\u001b[1;34m(expr, **settings)\u001b[0m\n\u001b[0;32m   2913\u001b[0m \u001b[1;33m\u001b[0m\u001b[0m\n\u001b[0;32m   2914\u001b[0m     \"\"\"\n\u001b[1;32m-> 2915\u001b[1;33m     \u001b[1;32mreturn\u001b[0m \u001b[0mLatexPrinter\u001b[0m\u001b[1;33m(\u001b[0m\u001b[0msettings\u001b[0m\u001b[1;33m)\u001b[0m\u001b[1;33m.\u001b[0m\u001b[0mdoprint\u001b[0m\u001b[1;33m(\u001b[0m\u001b[0mexpr\u001b[0m\u001b[1;33m)\u001b[0m\u001b[1;33m\u001b[0m\u001b[1;33m\u001b[0m\u001b[0m\n\u001b[0m\u001b[0;32m   2916\u001b[0m \u001b[1;33m\u001b[0m\u001b[0m\n\u001b[0;32m   2917\u001b[0m \u001b[1;33m\u001b[0m\u001b[0m\n",
      "\u001b[1;32mc:\\python39\\lib\\site-packages\\sympy\\printing\\latex.py\u001b[0m in \u001b[0;36mdoprint\u001b[1;34m(self, expr)\u001b[0m\n\u001b[0;32m    252\u001b[0m \u001b[1;33m\u001b[0m\u001b[0m\n\u001b[0;32m    253\u001b[0m     \u001b[1;32mdef\u001b[0m \u001b[0mdoprint\u001b[0m\u001b[1;33m(\u001b[0m\u001b[0mself\u001b[0m\u001b[1;33m,\u001b[0m \u001b[0mexpr\u001b[0m\u001b[1;33m)\u001b[0m\u001b[1;33m:\u001b[0m\u001b[1;33m\u001b[0m\u001b[1;33m\u001b[0m\u001b[0m\n\u001b[1;32m--> 254\u001b[1;33m         \u001b[0mtex\u001b[0m \u001b[1;33m=\u001b[0m \u001b[0mPrinter\u001b[0m\u001b[1;33m.\u001b[0m\u001b[0mdoprint\u001b[0m\u001b[1;33m(\u001b[0m\u001b[0mself\u001b[0m\u001b[1;33m,\u001b[0m \u001b[0mexpr\u001b[0m\u001b[1;33m)\u001b[0m\u001b[1;33m\u001b[0m\u001b[1;33m\u001b[0m\u001b[0m\n\u001b[0m\u001b[0;32m    255\u001b[0m \u001b[1;33m\u001b[0m\u001b[0m\n\u001b[0;32m    256\u001b[0m         \u001b[1;32mif\u001b[0m \u001b[0mself\u001b[0m\u001b[1;33m.\u001b[0m\u001b[0m_settings\u001b[0m\u001b[1;33m[\u001b[0m\u001b[1;34m'mode'\u001b[0m\u001b[1;33m]\u001b[0m \u001b[1;33m==\u001b[0m \u001b[1;34m'plain'\u001b[0m\u001b[1;33m:\u001b[0m\u001b[1;33m\u001b[0m\u001b[1;33m\u001b[0m\u001b[0m\n",
      "\u001b[1;32mc:\\python39\\lib\\site-packages\\sympy\\printing\\printer.py\u001b[0m in \u001b[0;36mdoprint\u001b[1;34m(self, expr)\u001b[0m\n\u001b[0;32m    289\u001b[0m     \u001b[1;32mdef\u001b[0m \u001b[0mdoprint\u001b[0m\u001b[1;33m(\u001b[0m\u001b[0mself\u001b[0m\u001b[1;33m,\u001b[0m \u001b[0mexpr\u001b[0m\u001b[1;33m)\u001b[0m\u001b[1;33m:\u001b[0m\u001b[1;33m\u001b[0m\u001b[1;33m\u001b[0m\u001b[0m\n\u001b[0;32m    290\u001b[0m         \u001b[1;34m\"\"\"Returns printer's representation for expr (as a string)\"\"\"\u001b[0m\u001b[1;33m\u001b[0m\u001b[1;33m\u001b[0m\u001b[0m\n\u001b[1;32m--> 291\u001b[1;33m         \u001b[1;32mreturn\u001b[0m \u001b[0mself\u001b[0m\u001b[1;33m.\u001b[0m\u001b[0m_str\u001b[0m\u001b[1;33m(\u001b[0m\u001b[0mself\u001b[0m\u001b[1;33m.\u001b[0m\u001b[0m_print\u001b[0m\u001b[1;33m(\u001b[0m\u001b[0mexpr\u001b[0m\u001b[1;33m)\u001b[0m\u001b[1;33m)\u001b[0m\u001b[1;33m\u001b[0m\u001b[1;33m\u001b[0m\u001b[0m\n\u001b[0m\u001b[0;32m    292\u001b[0m \u001b[1;33m\u001b[0m\u001b[0m\n\u001b[0;32m    293\u001b[0m     \u001b[1;32mdef\u001b[0m \u001b[0m_print\u001b[0m\u001b[1;33m(\u001b[0m\u001b[0mself\u001b[0m\u001b[1;33m,\u001b[0m \u001b[0mexpr\u001b[0m\u001b[1;33m,\u001b[0m \u001b[1;33m**\u001b[0m\u001b[0mkwargs\u001b[0m\u001b[1;33m)\u001b[0m\u001b[1;33m:\u001b[0m\u001b[1;33m\u001b[0m\u001b[1;33m\u001b[0m\u001b[0m\n",
      "\u001b[1;32mc:\\python39\\lib\\site-packages\\sympy\\printing\\printer.py\u001b[0m in \u001b[0;36m_print\u001b[1;34m(self, expr, **kwargs)\u001b[0m\n\u001b[0;32m    327\u001b[0m                 \u001b[0mprintmethod\u001b[0m \u001b[1;33m=\u001b[0m \u001b[1;34m'_print_'\u001b[0m \u001b[1;33m+\u001b[0m \u001b[0mcls\u001b[0m\u001b[1;33m.\u001b[0m\u001b[0m__name__\u001b[0m\u001b[1;33m\u001b[0m\u001b[1;33m\u001b[0m\u001b[0m\n\u001b[0;32m    328\u001b[0m                 \u001b[1;32mif\u001b[0m \u001b[0mhasattr\u001b[0m\u001b[1;33m(\u001b[0m\u001b[0mself\u001b[0m\u001b[1;33m,\u001b[0m \u001b[0mprintmethod\u001b[0m\u001b[1;33m)\u001b[0m\u001b[1;33m:\u001b[0m\u001b[1;33m\u001b[0m\u001b[1;33m\u001b[0m\u001b[0m\n\u001b[1;32m--> 329\u001b[1;33m                     \u001b[1;32mreturn\u001b[0m \u001b[0mgetattr\u001b[0m\u001b[1;33m(\u001b[0m\u001b[0mself\u001b[0m\u001b[1;33m,\u001b[0m \u001b[0mprintmethod\u001b[0m\u001b[1;33m)\u001b[0m\u001b[1;33m(\u001b[0m\u001b[0mexpr\u001b[0m\u001b[1;33m,\u001b[0m \u001b[1;33m**\u001b[0m\u001b[0mkwargs\u001b[0m\u001b[1;33m)\u001b[0m\u001b[1;33m\u001b[0m\u001b[1;33m\u001b[0m\u001b[0m\n\u001b[0m\u001b[0;32m    330\u001b[0m             \u001b[1;31m# Unknown object, fall back to the emptyPrinter.\u001b[0m\u001b[1;33m\u001b[0m\u001b[1;33m\u001b[0m\u001b[1;33m\u001b[0m\u001b[0m\n\u001b[0;32m    331\u001b[0m             \u001b[1;32mreturn\u001b[0m \u001b[0mself\u001b[0m\u001b[1;33m.\u001b[0m\u001b[0memptyPrinter\u001b[0m\u001b[1;33m(\u001b[0m\u001b[0mexpr\u001b[0m\u001b[1;33m)\u001b[0m\u001b[1;33m\u001b[0m\u001b[1;33m\u001b[0m\u001b[0m\n",
      "\u001b[1;32mc:\\python39\\lib\\site-packages\\sympy\\printing\\latex.py\u001b[0m in \u001b[0;36m_print_list\u001b[1;34m(self, expr)\u001b[0m\n\u001b[0;32m   1920\u001b[0m         \u001b[1;32melif\u001b[0m \u001b[0mself\u001b[0m\u001b[1;33m.\u001b[0m\u001b[0m_settings\u001b[0m\u001b[1;33m[\u001b[0m\u001b[1;34m'decimal_separator'\u001b[0m\u001b[1;33m]\u001b[0m \u001b[1;33m==\u001b[0m \u001b[1;34m'period'\u001b[0m\u001b[1;33m:\u001b[0m\u001b[1;33m\u001b[0m\u001b[1;33m\u001b[0m\u001b[0m\n\u001b[0;32m   1921\u001b[0m             \u001b[1;32mreturn\u001b[0m \u001b[1;34mr\"\\left[ %s\\right]\"\u001b[0m \u001b[1;33m%\u001b[0m\u001b[0;31m \u001b[0m\u001b[0;31m\\\u001b[0m\u001b[1;33m\u001b[0m\u001b[1;33m\u001b[0m\u001b[0m\n\u001b[1;32m-> 1922\u001b[1;33m                 \u001b[1;34mr\", \\  \"\u001b[0m\u001b[1;33m.\u001b[0m\u001b[0mjoin\u001b[0m\u001b[1;33m(\u001b[0m\u001b[1;33m[\u001b[0m\u001b[0mself\u001b[0m\u001b[1;33m.\u001b[0m\u001b[0m_print\u001b[0m\u001b[1;33m(\u001b[0m\u001b[0mi\u001b[0m\u001b[1;33m)\u001b[0m \u001b[1;32mfor\u001b[0m \u001b[0mi\u001b[0m \u001b[1;32min\u001b[0m \u001b[0mexpr\u001b[0m\u001b[1;33m]\u001b[0m\u001b[1;33m)\u001b[0m\u001b[1;33m\u001b[0m\u001b[1;33m\u001b[0m\u001b[0m\n\u001b[0m\u001b[0;32m   1923\u001b[0m         \u001b[1;32melse\u001b[0m\u001b[1;33m:\u001b[0m\u001b[1;33m\u001b[0m\u001b[1;33m\u001b[0m\u001b[0m\n\u001b[0;32m   1924\u001b[0m             \u001b[1;32mraise\u001b[0m \u001b[0mValueError\u001b[0m\u001b[1;33m(\u001b[0m\u001b[1;34m'Unknown Decimal Separator'\u001b[0m\u001b[1;33m)\u001b[0m\u001b[1;33m\u001b[0m\u001b[1;33m\u001b[0m\u001b[0m\n",
      "\u001b[1;32mc:\\python39\\lib\\site-packages\\sympy\\printing\\latex.py\u001b[0m in \u001b[0;36m<listcomp>\u001b[1;34m(.0)\u001b[0m\n\u001b[0;32m   1920\u001b[0m         \u001b[1;32melif\u001b[0m \u001b[0mself\u001b[0m\u001b[1;33m.\u001b[0m\u001b[0m_settings\u001b[0m\u001b[1;33m[\u001b[0m\u001b[1;34m'decimal_separator'\u001b[0m\u001b[1;33m]\u001b[0m \u001b[1;33m==\u001b[0m \u001b[1;34m'period'\u001b[0m\u001b[1;33m:\u001b[0m\u001b[1;33m\u001b[0m\u001b[1;33m\u001b[0m\u001b[0m\n\u001b[0;32m   1921\u001b[0m             \u001b[1;32mreturn\u001b[0m \u001b[1;34mr\"\\left[ %s\\right]\"\u001b[0m \u001b[1;33m%\u001b[0m\u001b[0;31m \u001b[0m\u001b[0;31m\\\u001b[0m\u001b[1;33m\u001b[0m\u001b[1;33m\u001b[0m\u001b[0m\n\u001b[1;32m-> 1922\u001b[1;33m                 \u001b[1;34mr\", \\  \"\u001b[0m\u001b[1;33m.\u001b[0m\u001b[0mjoin\u001b[0m\u001b[1;33m(\u001b[0m\u001b[1;33m[\u001b[0m\u001b[0mself\u001b[0m\u001b[1;33m.\u001b[0m\u001b[0m_print\u001b[0m\u001b[1;33m(\u001b[0m\u001b[0mi\u001b[0m\u001b[1;33m)\u001b[0m \u001b[1;32mfor\u001b[0m \u001b[0mi\u001b[0m \u001b[1;32min\u001b[0m \u001b[0mexpr\u001b[0m\u001b[1;33m]\u001b[0m\u001b[1;33m)\u001b[0m\u001b[1;33m\u001b[0m\u001b[1;33m\u001b[0m\u001b[0m\n\u001b[0m\u001b[0;32m   1923\u001b[0m         \u001b[1;32melse\u001b[0m\u001b[1;33m:\u001b[0m\u001b[1;33m\u001b[0m\u001b[1;33m\u001b[0m\u001b[0m\n\u001b[0;32m   1924\u001b[0m             \u001b[1;32mraise\u001b[0m \u001b[0mValueError\u001b[0m\u001b[1;33m(\u001b[0m\u001b[1;34m'Unknown Decimal Separator'\u001b[0m\u001b[1;33m)\u001b[0m\u001b[1;33m\u001b[0m\u001b[1;33m\u001b[0m\u001b[0m\n",
      "\u001b[1;32mc:\\python39\\lib\\site-packages\\sympy\\printing\\printer.py\u001b[0m in \u001b[0;36m_print\u001b[1;34m(self, expr, **kwargs)\u001b[0m\n\u001b[0;32m    306\u001b[0m             if (self.printmethod and hasattr(expr, self.printmethod)\n\u001b[0;32m    307\u001b[0m                     and not isinstance(expr, BasicMeta)):\n\u001b[1;32m--> 308\u001b[1;33m                 \u001b[1;32mreturn\u001b[0m \u001b[0mgetattr\u001b[0m\u001b[1;33m(\u001b[0m\u001b[0mexpr\u001b[0m\u001b[1;33m,\u001b[0m \u001b[0mself\u001b[0m\u001b[1;33m.\u001b[0m\u001b[0mprintmethod\u001b[0m\u001b[1;33m)\u001b[0m\u001b[1;33m(\u001b[0m\u001b[0mself\u001b[0m\u001b[1;33m,\u001b[0m \u001b[1;33m**\u001b[0m\u001b[0mkwargs\u001b[0m\u001b[1;33m)\u001b[0m\u001b[1;33m\u001b[0m\u001b[1;33m\u001b[0m\u001b[0m\n\u001b[0m\u001b[0;32m    309\u001b[0m \u001b[1;33m\u001b[0m\u001b[0m\n\u001b[0;32m    310\u001b[0m             \u001b[1;31m# See if the class of expr is known, or if one of its super\u001b[0m\u001b[1;33m\u001b[0m\u001b[1;33m\u001b[0m\u001b[1;33m\u001b[0m\u001b[0m\n",
      "\u001b[1;31mTypeError\u001b[0m: 'NoneType' object is not callable"
     ]
    }
   ],
   "source": [
    "soup.find_all(\"img\", src=\"/static/dionysus.jpg\")"
   ]
  },
  {
   "cell_type": "code",
   "execution_count": 164,
   "metadata": {},
   "outputs": [],
   "source": [
    "import mechanicalsoup\n",
    "browser = mechanicalsoup.Browser()"
   ]
  },
  {
   "cell_type": "code",
   "execution_count": 165,
   "metadata": {},
   "outputs": [],
   "source": [
    "url = \"http://olympus.realpython.org/login\"\n",
    "page = browser.get(url)"
   ]
  },
  {
   "cell_type": "code",
   "execution_count": 166,
   "metadata": {},
   "outputs": [
    {
     "data": {
      "text/plain": [
       "<Response [200]>"
      ]
     },
     "execution_count": 166,
     "metadata": {},
     "output_type": "execute_result"
    }
   ],
   "source": [
    "page"
   ]
  },
  {
   "cell_type": "code",
   "execution_count": 167,
   "metadata": {},
   "outputs": [
    {
     "data": {
      "text/plain": [
       "bs4.BeautifulSoup"
      ]
     },
     "execution_count": 167,
     "metadata": {},
     "output_type": "execute_result"
    }
   ],
   "source": [
    "type(page.soup)"
   ]
  },
  {
   "cell_type": "code",
   "execution_count": 168,
   "metadata": {},
   "outputs": [
    {
     "data": {
      "text/plain": [
       "<html>\n",
       "<head>\n",
       "<title>Log In</title>\n",
       "</head>\n",
       "<body bgcolor=\"yellow\">\n",
       "<center>\n",
       "<br/><br/>\n",
       "<h2>Please log in to access Mount Olympus:</h2>\n",
       "<br/><br/>\n",
       "<form action=\"/login\" method=\"post\" name=\"login\">\n",
       "Username: <input name=\"user\" type=\"text\"/><br/>\n",
       "Password: <input name=\"pwd\" type=\"password\"/><br/><br/>\n",
       "<input type=\"submit\" value=\"Submit\"/>\n",
       "</form>\n",
       "</center>\n",
       "</body>\n",
       "</html>"
      ]
     },
     "execution_count": 168,
     "metadata": {},
     "output_type": "execute_result"
    }
   ],
   "source": [
    "page.soup"
   ]
  },
  {
   "cell_type": "code",
   "execution_count": 169,
   "metadata": {},
   "outputs": [],
   "source": [
    "import mechanicalsoup\n",
    "\n",
    "# 1\n",
    "browser = mechanicalsoup.Browser()\n",
    "url = \"http://olympus.realpython.org/login\"\n",
    "login_page = browser.get(url)\n",
    "login_html = login_page.soup\n",
    "\n",
    "# 2\n",
    "form = login_html.select(\"form\")[0]\n",
    "form.select(\"input\")[0][\"value\"] = \"zeus\"\n",
    "form.select(\"input\")[1][\"value\"] = \"ThunderDude\"\n",
    "\n",
    "# 3\n",
    "profiles_page = browser.submit(form, login_page.url)"
   ]
  },
  {
   "cell_type": "code",
   "execution_count": 170,
   "metadata": {},
   "outputs": [
    {
     "data": {
      "text/plain": [
       "'http://olympus.realpython.org/profiles'"
      ]
     },
     "execution_count": 170,
     "metadata": {},
     "output_type": "execute_result"
    }
   ],
   "source": [
    "profiles_page.url"
   ]
  },
  {
   "cell_type": "code",
   "execution_count": 171,
   "metadata": {},
   "outputs": [],
   "source": [
    "links = profiles_page.soup.select(\"a\")"
   ]
  },
  {
   "cell_type": "code",
   "execution_count": 172,
   "metadata": {},
   "outputs": [
    {
     "name": "stdout",
     "output_type": "stream",
     "text": [
      "Aphrodite: /profiles/aphrodite\n",
      "Poseidon: /profiles/poseidon\n",
      "Dionysus: /profiles/dionysus\n"
     ]
    }
   ],
   "source": [
    "for link in links:\n",
    "    address = link[\"href\"]\n",
    "    text = link.text\n",
    "    print(f\"{text}: {address}\")"
   ]
  },
  {
   "cell_type": "code",
   "execution_count": 173,
   "metadata": {},
   "outputs": [
    {
     "name": "stdout",
     "output_type": "stream",
     "text": [
      "Aphrodite: http://olympus.realpython.org/profiles/aphrodite\n",
      "Poseidon: http://olympus.realpython.org/profiles/poseidon\n",
      "Dionysus: http://olympus.realpython.org/profiles/dionysus\n"
     ]
    }
   ],
   "source": [
    "base_url = \"http://olympus.realpython.org\"\n",
    "for link in links:\n",
    "    address = base_url + link[\"href\"]\n",
    "    text = link.text\n",
    "    print(f\"{text}: {address}\")"
   ]
  },
  {
   "cell_type": "code",
   "execution_count": 174,
   "metadata": {},
   "outputs": [
    {
     "name": "stdout",
     "output_type": "stream",
     "text": [
      "The result of your dice roll is: 4\n"
     ]
    }
   ],
   "source": [
    "import mechanicalsoup\n",
    "\n",
    "browser = mechanicalsoup.Browser()\n",
    "page = browser.get(\"http://olympus.realpython.org/dice\")\n",
    "tag = page.soup.select(\"#result\")[0]\n",
    "result = tag.text\n",
    "\n",
    "print(f\"The result of your dice roll is: {result}\")"
   ]
  },
  {
   "cell_type": "code",
   "execution_count": 175,
   "metadata": {},
   "outputs": [
    {
     "name": "stdout",
     "output_type": "stream",
     "text": [
      "I'm about to wait for five seconds...\n",
      "Done waiting!\n"
     ]
    }
   ],
   "source": [
    "import time\n",
    "\n",
    "print(\"I'm about to wait for five seconds...\")\n",
    "time.sleep(5)\n",
    "print(\"Done waiting!\")"
   ]
  },
  {
   "cell_type": "code",
   "execution_count": 176,
   "metadata": {},
   "outputs": [
    {
     "name": "stdout",
     "output_type": "stream",
     "text": [
      "The result of your dice roll is: 4\n",
      "The result of your dice roll is: 2\n",
      "The result of your dice roll is: 6\n",
      "The result of your dice roll is: 5\n"
     ]
    }
   ],
   "source": [
    "import time\n",
    "import mechanicalsoup\n",
    "\n",
    "browser = mechanicalsoup.Browser()\n",
    "\n",
    "for i in range(4):\n",
    "    page = browser.get(\"http://olympus.realpython.org/dice\")\n",
    "    tag = page.soup.select(\"#result\")[0]\n",
    "    result = tag.text\n",
    "    print(f\"The result of your dice roll is: {result}\")\n",
    "    time.sleep(10)"
   ]
  },
  {
   "cell_type": "code",
   "execution_count": 177,
   "metadata": {},
   "outputs": [
    {
     "name": "stdout",
     "output_type": "stream",
     "text": [
      "The result of your dice roll is: 4\n",
      "The result of your dice roll is: 2\n",
      "The result of your dice roll is: 6\n",
      "The result of your dice roll is: 6\n"
     ]
    }
   ],
   "source": [
    "import time\n",
    "import mechanicalsoup\n",
    "\n",
    "browser = mechanicalsoup.Browser()\n",
    "\n",
    "for i in range(4):\n",
    "    page = browser.get(\"http://olympus.realpython.org/dice\")\n",
    "    tag = page.soup.select(\"#result\")[0]\n",
    "    result = tag.text\n",
    "    print(f\"The result of your dice roll is: {result}\")\n",
    "\n",
    "    # Wait 10 seconds if this isn't the last request\n",
    "    if i < 3:\n",
    "        time.sleep(10)"
   ]
  },
  {
   "cell_type": "markdown",
   "metadata": {},
   "source": [
    "# Programming games"
   ]
  },
  {
   "cell_type": "markdown",
   "metadata": {},
   "source": [
    "Explore the site [Beginning Game Programming for Teens with Python](https://www.raywenderlich.com/2795-beginning-game-programming-for-teens-with-python)."
   ]
  },
  {
   "cell_type": "markdown",
   "metadata": {},
   "source": [
    "## TicTacToe"
   ]
  },
  {
   "cell_type": "markdown",
   "metadata": {},
   "source": [
    "**Type on Google**: `tictactoe`\n",
    "\n",
    "The file `tictactoe.ipynb` contains the code."
   ]
  },
  {
   "cell_type": "markdown",
   "metadata": {},
   "source": [
    "# Connect 4"
   ]
  },
  {
   "cell_type": "markdown",
   "metadata": {},
   "source": [
    "Try the link [4 In A Line!](https://www.mathsisfun.com/games/connect4.html).\n",
    "\n",
    "The file `connect4.ipynb` contains the code."
   ]
  },
  {
   "cell_type": "markdown",
   "metadata": {},
   "source": [
    "## Conway's game of life"
   ]
  },
  {
   "cell_type": "markdown",
   "metadata": {},
   "source": [
    "See the discussion [here](http://pi.math.cornell.edu/~lipa/mec/lesson6.html)!\n",
    "\n",
    "Open a Terminal and run `python3 life.py`."
   ]
  },
  {
   "cell_type": "markdown",
   "metadata": {},
   "source": [
    "## Checkers"
   ]
  },
  {
   "cell_type": "markdown",
   "metadata": {},
   "source": [
    "Try [this](https://www.mathsisfun.com/games/checkers-2.html) site.\n",
    "\n",
    "Play with the code available in folder `checkers`."
   ]
  },
  {
   "cell_type": "markdown",
   "metadata": {},
   "source": [
    "## Chess"
   ]
  },
  {
   "cell_type": "markdown",
   "metadata": {},
   "source": [
    "Play [it](https://www.chess.com/)!"
   ]
  },
  {
   "cell_type": "markdown",
   "metadata": {},
   "source": [
    "## AlphaZero"
   ]
  },
  {
   "cell_type": "markdown",
   "metadata": {},
   "source": [
    "### Discussion and code\n",
    "\n",
    "> https://adsp.ai/blog/how-to-build-your-own-alphazero-ai-using-python-and-keras/\n",
    "\n",
    "> https://github.com/AppliedDataSciencePartners/DeepReinforcementLearning"
   ]
  },
  {
   "cell_type": "markdown",
   "metadata": {},
   "source": [
    "Find out the [specifics](https://www.chess.com/).\n",
    "\n",
    "I am playing with the code in folder `AlphaZero`."
   ]
  },
  {
   "cell_type": "markdown",
   "metadata": {},
   "source": [
    "`print('Total time (seconds): ',round((time.time() - t0),1))`"
   ]
  },
  {
   "cell_type": "markdown",
   "metadata": {},
   "source": [
    "# Readings & random stuff\n",
    "\n",
    "> [How to Think Like a Computer Scientist: Interactive Edition](https://runestone.academy/runestone/books/published/thinkcspy/index.html)\n",
    "\n",
    "> edX course [Machine Learning with Python: from Linear Models to Deep Learning](https://www.edx.org/course/machine-learning-with-python-from-linear-models-to?utm_source=sailthru&utm_medium=email&utm_campaign=triggered_shareit)\n",
    "\n",
    "> [Free Python Games](http://www.grantjenks.com/docs/freegames/#)\n",
    "\n",
    "> [Python tutorial](https://www.w3schools.com/python/default.asp) by W3SCHOOLS.\n",
    "\n",
    "> [DocsPython](https://docs.python.org/3/using/index.html)\n",
    "\n",
    "> [DocsSymPy](https://docs.sympy.org/)\n",
    "\n",
    "> [IBM Skills Network Labs](https://labs.cognitiveclass.ai/)\n",
    "\n",
    "> [A Practical Introduction to Web Scraping in Python](https://realpython.com/python-web-scraping-practical-introduction/)\n"
   ]
  },
  {
   "cell_type": "code",
   "execution_count": null,
   "metadata": {},
   "outputs": [],
   "source": []
  }
 ],
 "metadata": {
  "kernelspec": {
   "display_name": "Python 3",
   "language": "python",
   "name": "python3"
  },
  "language_info": {
   "codemirror_mode": {
    "name": "ipython",
    "version": 3
   },
   "file_extension": ".py",
   "mimetype": "text/x-python",
   "name": "python",
   "nbconvert_exporter": "python",
   "pygments_lexer": "ipython3",
   "version": "3.9.0"
  }
 },
 "nbformat": 4,
 "nbformat_minor": 4
}
